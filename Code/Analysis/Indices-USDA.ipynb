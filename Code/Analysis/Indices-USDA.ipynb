{
 "cells": [
  {
   "cell_type": "code",
   "execution_count": 3,
   "id": "expensive-location",
   "metadata": {},
   "outputs": [],
   "source": [
    "import pandas as pd\n",
    "import numpy as np\n",
    "import json\n",
    "import os\n",
    "import datetime as dt\n",
    "import seaborn as sns\n",
    "import plotly.express as px\n",
    "from urllib.request import urlopen\n",
    "import matplotlib.pyplot as plt\n",
    "\n",
    "# !pip install netCDF4\n",
    "import netCDF4 as nc"
   ]
  },
  {
   "cell_type": "markdown",
   "id": "critical-membrane",
   "metadata": {},
   "source": [
    "### Reading Indices files\n",
    "Reference: https://towardsdatascience.com/read-netcdf-data-with-python-901f7ff61648"
   ]
  },
  {
   "cell_type": "code",
   "execution_count": 4,
   "id": "saved-coordination",
   "metadata": {},
   "outputs": [
    {
     "data": {
      "text/plain": [
       "'../../../../../../../Google Drive/Shared drives/Capstone Project/Data/Indices-Mike/'"
      ]
     },
     "execution_count": 4,
     "metadata": {},
     "output_type": "execute_result"
    }
   ],
   "source": [
    "path = '../../../../../../../Google Drive/Shared drives/Capstone Project/Data/Indices-Mike/'\n",
    "path"
   ]
  },
  {
   "cell_type": "code",
   "execution_count": 6,
   "id": "integral-default",
   "metadata": {},
   "outputs": [
    {
     "data": {
      "text/plain": [
       "['eddi_03mn_NY_DEWS_2000-2020.nc',\n",
       " 'eddi_05mn_NY_DEWS_2000-2020.nc',\n",
       " 'eddi_06mn_NY_DEWS_2000-2020.nc',\n",
       " 'pdsi_NY_DEWS_2000-2020.nc',\n",
       " 'spei180d_NY_DEWS_2000-2020.nc',\n",
       " 'spei90d_NY_DEWS_2000-2020.nc',\n",
       " 'spi180d_NY_DEWS_2000-2020.nc',\n",
       " 'spi90d_NY_DEWS_2000-2020.nc']"
      ]
     },
     "execution_count": 6,
     "metadata": {},
     "output_type": "execute_result"
    }
   ],
   "source": [
    "file_names = os.listdir(path)\n",
    "file_names"
   ]
  },
  {
   "cell_type": "code",
   "execution_count": 12,
   "id": "operating-connecticut",
   "metadata": {},
   "outputs": [
    {
     "name": "stdout",
     "output_type": "stream",
     "text": [
      "../../../../../../../Google Drive/Shared drives/Capstone Project/Data/Indices-Mike/eddi_03mn_NY_DEWS_2000-2020.nc\n"
     ]
    }
   ],
   "source": [
    "f1 = path+file_names[0]\n",
    "print(f1)\n",
    "d1 = nc.Dataset(f1)"
   ]
  },
  {
   "cell_type": "code",
   "execution_count": 13,
   "id": "equal-thesaurus",
   "metadata": {},
   "outputs": [
    {
     "data": {
      "text/plain": [
       "<class 'netCDF4._netCDF4.Dataset'>\n",
       "root group (NETCDF3_CLASSIC data model, file format NETCDF3):\n",
       "    DEWS_Region: NY\n",
       "    Contact_Email: Darren.L.Jackson@noaa.gov\n",
       "    Creation_Date: Mar 31, 2021\n",
       "    dimensions(sizes): west_east(65), south_north(38), time(7671)\n",
       "    variables(dimensions): int32 Days(time), float32 Longitude(south_north, west_east), float32 Latitude(south_north, west_east), int16 State_Mask(south_north, west_east), int16 County_Mask(south_north, west_east), int16 EDDI(time, south_north, west_east)\n",
       "    groups: "
      ]
     },
     "execution_count": 13,
     "metadata": {},
     "output_type": "execute_result"
    }
   ],
   "source": [
    "d1"
   ]
  },
  {
   "cell_type": "code",
   "execution_count": 14,
   "id": "increased-organ",
   "metadata": {},
   "outputs": [
    {
     "data": {
      "text/plain": [
       "{'DEWS_Region': 'NY',\n",
       " 'Contact_Email': 'Darren.L.Jackson@noaa.gov',\n",
       " 'Creation_Date': 'Mar 31, 2021'}"
      ]
     },
     "execution_count": 14,
     "metadata": {},
     "output_type": "execute_result"
    }
   ],
   "source": [
    "d1.__dict__"
   ]
  },
  {
   "cell_type": "code",
   "execution_count": 17,
   "id": "rubber-radar",
   "metadata": {},
   "outputs": [
    {
     "data": {
      "text/plain": [
       "dict_values([<class 'netCDF4._netCDF4.Dimension'>: name = 'west_east', size = 65, <class 'netCDF4._netCDF4.Dimension'>: name = 'south_north', size = 38, <class 'netCDF4._netCDF4.Dimension'>: name = 'time', size = 7671])"
      ]
     },
     "execution_count": 17,
     "metadata": {},
     "output_type": "execute_result"
    }
   ],
   "source": [
    "d1.dimensions.values()"
   ]
  },
  {
   "cell_type": "code",
   "execution_count": 18,
   "id": "clean-creature",
   "metadata": {
    "scrolled": true
   },
   "outputs": [
    {
     "data": {
      "text/plain": [
       "dict_values([<class 'netCDF4._netCDF4.Variable'>\n",
       "int32 Days(time)\n",
       "    long_name: Days since 1/1/1979\n",
       "    valid_range: [ 7671 15341]\n",
       "unlimited dimensions: \n",
       "current shape = (7671,)\n",
       "filling on, default _FillValue of -2147483647 used, <class 'netCDF4._netCDF4.Variable'>\n",
       "float32 Longitude(south_north, west_east)\n",
       "    long_name: Longitude\n",
       "    units: Degrees_East\n",
       "    valid_range: [-79.813 -71.813]\n",
       "unlimited dimensions: \n",
       "current shape = (38, 65)\n",
       "filling on, default _FillValue of 9.969209968386869e+36 used, <class 'netCDF4._netCDF4.Variable'>\n",
       "float32 Latitude(south_north, west_east)\n",
       "    long_name: Latitude\n",
       "    units: Degrees_North\n",
       "    valid_range: [40.438 45.063]\n",
       "unlimited dimensions: \n",
       "current shape = (38, 65)\n",
       "filling on, default _FillValue of 9.969209968386869e+36 used, <class 'netCDF4._netCDF4.Variable'>\n",
       "int16 State_Mask(south_north, west_east)\n",
       "    long_name: State Mask For New York\n",
       "    state_mask_value: 0-Missing,1-NY\n",
       "unlimited dimensions: \n",
       "current shape = (38, 65)\n",
       "filling on, default _FillValue of -32767 used, <class 'netCDF4._netCDF4.Variable'>\n",
       "int16 County_Mask(south_north, west_east)\n",
       "    long_name: County FIPS For New York\n",
       "    county_mask_value: 0-Missing, >0 County FIPS Value\n",
       "unlimited dimensions: \n",
       "current shape = (38, 65)\n",
       "filling on, default _FillValue of -32767 used, <class 'netCDF4._netCDF4.Variable'>\n",
       "int16 EDDI(time, south_north, west_east)\n",
       "    long_name: EDDI-03mn\n",
       "    missing_value: -9000\n",
       "    scale_factor: 0.001\n",
       "unlimited dimensions: \n",
       "current shape = (7671, 38, 65)\n",
       "filling on, default _FillValue of -32767 used])"
      ]
     },
     "execution_count": 18,
     "metadata": {},
     "output_type": "execute_result"
    }
   ],
   "source": [
    "d1.variables.values()"
   ]
  },
  {
   "cell_type": "code",
   "execution_count": 20,
   "id": "bacterial-topic",
   "metadata": {},
   "outputs": [
    {
     "data": {
      "text/plain": [
       "<class 'netCDF4._netCDF4.Variable'>\n",
       "int16 EDDI(time, south_north, west_east)\n",
       "    long_name: EDDI-03mn\n",
       "    missing_value: -9000\n",
       "    scale_factor: 0.001\n",
       "unlimited dimensions: \n",
       "current shape = (7671, 38, 65)\n",
       "filling on, default _FillValue of -32767 used"
      ]
     },
     "execution_count": 20,
     "metadata": {},
     "output_type": "execute_result"
    }
   ],
   "source": [
    "d1['EDDI']"
   ]
  },
  {
   "cell_type": "code",
   "execution_count": null,
   "id": "tested-swedish",
   "metadata": {},
   "outputs": [],
   "source": []
  }
 ],
 "metadata": {
  "kernelspec": {
   "display_name": "Python 3",
   "language": "python",
   "name": "python3"
  },
  "language_info": {
   "codemirror_mode": {
    "name": "ipython",
    "version": 3
   },
   "file_extension": ".py",
   "mimetype": "text/x-python",
   "name": "python",
   "nbconvert_exporter": "python",
   "pygments_lexer": "ipython3",
   "version": "3.8.5"
  }
 },
 "nbformat": 4,
 "nbformat_minor": 5
}
