{
  "nbformat": 4,
  "nbformat_minor": 0,
  "metadata": {
    "colab": {
      "name": "Models.ipynb",
      "provenance": []
    },
    "kernelspec": {
      "name": "python3",
      "display_name": "Python 3"
    },
    "language_info": {
      "name": "python"
    }
  },
  "cells": [
    {
      "cell_type": "code",
      "metadata": {
        "colab": {
          "base_uri": "https://localhost:8080/",
          "height": 430
        },
        "id": "QARVurgWLQgy",
        "outputId": "9193b667-7489-4557-b7eb-bd95156dc564"
      },
      "source": [
        "import pandas as pd\n",
        "acrplanted_pre = pd.read_csv('acrplanted_pre.csv')\n",
        "acrplanted_pre.head()"
      ],
      "execution_count": 61,
      "outputs": [
        {
          "output_type": "execute_result",
          "data": {
            "text/html": [
              "<div>\n",
              "<style scoped>\n",
              "    .dataframe tbody tr th:only-of-type {\n",
              "        vertical-align: middle;\n",
              "    }\n",
              "\n",
              "    .dataframe tbody tr th {\n",
              "        vertical-align: top;\n",
              "    }\n",
              "\n",
              "    .dataframe thead th {\n",
              "        text-align: right;\n",
              "    }\n",
              "</style>\n",
              "<table border=\"1\" class=\"dataframe\">\n",
              "  <thead>\n",
              "    <tr style=\"text-align: right;\">\n",
              "      <th></th>\n",
              "      <th>Program</th>\n",
              "      <th>Year</th>\n",
              "      <th>Ag District</th>\n",
              "      <th>Ag District Code</th>\n",
              "      <th>County</th>\n",
              "      <th>County ANSI</th>\n",
              "      <th>Commodity</th>\n",
              "      <th>Data Item</th>\n",
              "      <th>Domain</th>\n",
              "      <th>Domain Category</th>\n",
              "      <th>Value</th>\n",
              "      <th>CV (%)</th>\n",
              "      <th>avg_precip_count</th>\n",
              "      <th>avg_precip_mean</th>\n",
              "      <th>avg_precip_std</th>\n",
              "      <th>avg_precip_min</th>\n",
              "      <th>avg_precip_25%</th>\n",
              "      <th>avg_precip_50%</th>\n",
              "      <th>avg_precip_75%</th>\n",
              "      <th>avg_precip_max</th>\n",
              "    </tr>\n",
              "  </thead>\n",
              "  <tbody>\n",
              "    <tr>\n",
              "      <th>0</th>\n",
              "      <td>SURVEY</td>\n",
              "      <td>2019</td>\n",
              "      <td>CENTRAL</td>\n",
              "      <td>50</td>\n",
              "      <td>cayuga</td>\n",
              "      <td>11.0</td>\n",
              "      <td>CORN</td>\n",
              "      <td>CORN - ACRES PLANTED</td>\n",
              "      <td>TOTAL</td>\n",
              "      <td>NOT SPECIFIED</td>\n",
              "      <td>68000.0</td>\n",
              "      <td>NaN</td>\n",
              "      <td>52.0</td>\n",
              "      <td>0.126284</td>\n",
              "      <td>0.088166</td>\n",
              "      <td>0.011262</td>\n",
              "      <td>0.064633</td>\n",
              "      <td>0.108586</td>\n",
              "      <td>0.162758</td>\n",
              "      <td>0.364602</td>\n",
              "    </tr>\n",
              "    <tr>\n",
              "      <th>1</th>\n",
              "      <td>SURVEY</td>\n",
              "      <td>2019</td>\n",
              "      <td>CENTRAL</td>\n",
              "      <td>50</td>\n",
              "      <td>cortland</td>\n",
              "      <td>23.0</td>\n",
              "      <td>CORN</td>\n",
              "      <td>CORN - ACRES PLANTED</td>\n",
              "      <td>TOTAL</td>\n",
              "      <td>NOT SPECIFIED</td>\n",
              "      <td>16000.0</td>\n",
              "      <td>NaN</td>\n",
              "      <td>52.0</td>\n",
              "      <td>0.136549</td>\n",
              "      <td>0.094494</td>\n",
              "      <td>0.008701</td>\n",
              "      <td>0.052037</td>\n",
              "      <td>0.116943</td>\n",
              "      <td>0.184175</td>\n",
              "      <td>0.391079</td>\n",
              "    </tr>\n",
              "    <tr>\n",
              "      <th>2</th>\n",
              "      <td>SURVEY</td>\n",
              "      <td>2019</td>\n",
              "      <td>CENTRAL</td>\n",
              "      <td>50</td>\n",
              "      <td>herkimer</td>\n",
              "      <td>43.0</td>\n",
              "      <td>CORN</td>\n",
              "      <td>CORN - ACRES PLANTED</td>\n",
              "      <td>TOTAL</td>\n",
              "      <td>NOT SPECIFIED</td>\n",
              "      <td>15400.0</td>\n",
              "      <td>NaN</td>\n",
              "      <td>52.0</td>\n",
              "      <td>0.163455</td>\n",
              "      <td>0.104624</td>\n",
              "      <td>0.003057</td>\n",
              "      <td>0.089469</td>\n",
              "      <td>0.134099</td>\n",
              "      <td>0.207785</td>\n",
              "      <td>0.490518</td>\n",
              "    </tr>\n",
              "    <tr>\n",
              "      <th>3</th>\n",
              "      <td>SURVEY</td>\n",
              "      <td>2019</td>\n",
              "      <td>CENTRAL</td>\n",
              "      <td>50</td>\n",
              "      <td>madison</td>\n",
              "      <td>53.0</td>\n",
              "      <td>CORN</td>\n",
              "      <td>CORN - ACRES PLANTED</td>\n",
              "      <td>TOTAL</td>\n",
              "      <td>NOT SPECIFIED</td>\n",
              "      <td>26600.0</td>\n",
              "      <td>NaN</td>\n",
              "      <td>52.0</td>\n",
              "      <td>0.137838</td>\n",
              "      <td>0.091820</td>\n",
              "      <td>0.008370</td>\n",
              "      <td>0.069401</td>\n",
              "      <td>0.110289</td>\n",
              "      <td>0.185823</td>\n",
              "      <td>0.375661</td>\n",
              "    </tr>\n",
              "    <tr>\n",
              "      <th>4</th>\n",
              "      <td>SURVEY</td>\n",
              "      <td>2019</td>\n",
              "      <td>CENTRAL</td>\n",
              "      <td>50</td>\n",
              "      <td>oneida</td>\n",
              "      <td>65.0</td>\n",
              "      <td>CORN</td>\n",
              "      <td>CORN - ACRES PLANTED</td>\n",
              "      <td>TOTAL</td>\n",
              "      <td>NOT SPECIFIED</td>\n",
              "      <td>34700.0</td>\n",
              "      <td>NaN</td>\n",
              "      <td>52.0</td>\n",
              "      <td>0.166656</td>\n",
              "      <td>0.110897</td>\n",
              "      <td>0.005187</td>\n",
              "      <td>0.077669</td>\n",
              "      <td>0.146137</td>\n",
              "      <td>0.232315</td>\n",
              "      <td>0.479629</td>\n",
              "    </tr>\n",
              "  </tbody>\n",
              "</table>\n",
              "</div>"
            ],
            "text/plain": [
              "  Program  Year Ag District  ...  avg_precip_50% avg_precip_75%  avg_precip_max\n",
              "0  SURVEY  2019     CENTRAL  ...        0.108586       0.162758        0.364602\n",
              "1  SURVEY  2019     CENTRAL  ...        0.116943       0.184175        0.391079\n",
              "2  SURVEY  2019     CENTRAL  ...        0.134099       0.207785        0.490518\n",
              "3  SURVEY  2019     CENTRAL  ...        0.110289       0.185823        0.375661\n",
              "4  SURVEY  2019     CENTRAL  ...        0.146137       0.232315        0.479629\n",
              "\n",
              "[5 rows x 20 columns]"
            ]
          },
          "metadata": {
            "tags": []
          },
          "execution_count": 61
        }
      ]
    },
    {
      "cell_type": "code",
      "metadata": {
        "id": "r885YqLzhn5w"
      },
      "source": [
        "\n",
        "m1 = acrplanted_pre[['Value','avg_precip_mean']].copy()\n",
        "\n",
        "\n",
        "\n",
        "\n"
      ],
      "execution_count": 63,
      "outputs": []
    },
    {
      "cell_type": "code",
      "metadata": {
        "id": "TyY7fVmNKikl",
        "colab": {
          "base_uri": "https://localhost:8080/",
          "height": 415
        },
        "outputId": "d8168b2c-6ce8-4fd0-b874-ac429d5161c9"
      },
      "source": [
        "from sklearn.preprocessing import StandardScaler\n",
        "sc = StandardScaler()\n",
        "\n",
        "m1_scaled = sc.fit_transform(m1)\n",
        "\n",
        "m1_s = pd.DataFrame(m1_scaled, columns=m1.columns, index=m1.index)\n",
        "\n",
        "m1_s\n",
        "\n"
      ],
      "execution_count": 64,
      "outputs": [
        {
          "output_type": "execute_result",
          "data": {
            "text/html": [
              "<div>\n",
              "<style scoped>\n",
              "    .dataframe tbody tr th:only-of-type {\n",
              "        vertical-align: middle;\n",
              "    }\n",
              "\n",
              "    .dataframe tbody tr th {\n",
              "        vertical-align: top;\n",
              "    }\n",
              "\n",
              "    .dataframe thead th {\n",
              "        text-align: right;\n",
              "    }\n",
              "</style>\n",
              "<table border=\"1\" class=\"dataframe\">\n",
              "  <thead>\n",
              "    <tr style=\"text-align: right;\">\n",
              "      <th></th>\n",
              "      <th>Value</th>\n",
              "      <th>avg_precip_mean</th>\n",
              "    </tr>\n",
              "  </thead>\n",
              "  <tbody>\n",
              "    <tr>\n",
              "      <th>0</th>\n",
              "      <td>2.724334</td>\n",
              "      <td>0.228274</td>\n",
              "    </tr>\n",
              "    <tr>\n",
              "      <th>1</th>\n",
              "      <td>-0.419355</td>\n",
              "      <td>0.745077</td>\n",
              "    </tr>\n",
              "    <tr>\n",
              "      <th>2</th>\n",
              "      <td>-0.455628</td>\n",
              "      <td>2.099666</td>\n",
              "    </tr>\n",
              "    <tr>\n",
              "      <th>3</th>\n",
              "      <td>0.221474</td>\n",
              "      <td>0.809943</td>\n",
              "    </tr>\n",
              "    <tr>\n",
              "      <th>4</th>\n",
              "      <td>0.711164</td>\n",
              "      <td>2.260804</td>\n",
              "    </tr>\n",
              "    <tr>\n",
              "      <th>...</th>\n",
              "      <td>...</td>\n",
              "      <td>...</td>\n",
              "    </tr>\n",
              "    <tr>\n",
              "      <th>714</th>\n",
              "      <td>0.275884</td>\n",
              "      <td>-1.607777</td>\n",
              "    </tr>\n",
              "    <tr>\n",
              "      <th>715</th>\n",
              "      <td>0.439114</td>\n",
              "      <td>-1.508240</td>\n",
              "    </tr>\n",
              "    <tr>\n",
              "      <th>716</th>\n",
              "      <td>0.481433</td>\n",
              "      <td>-1.161680</td>\n",
              "    </tr>\n",
              "    <tr>\n",
              "      <th>717</th>\n",
              "      <td>1.811455</td>\n",
              "      <td>-0.319068</td>\n",
              "    </tr>\n",
              "    <tr>\n",
              "      <th>718</th>\n",
              "      <td>-0.250079</td>\n",
              "      <td>-1.738022</td>\n",
              "    </tr>\n",
              "  </tbody>\n",
              "</table>\n",
              "<p>719 rows × 2 columns</p>\n",
              "</div>"
            ],
            "text/plain": [
              "        Value  avg_precip_mean\n",
              "0    2.724334         0.228274\n",
              "1   -0.419355         0.745077\n",
              "2   -0.455628         2.099666\n",
              "3    0.221474         0.809943\n",
              "4    0.711164         2.260804\n",
              "..        ...              ...\n",
              "714  0.275884        -1.607777\n",
              "715  0.439114        -1.508240\n",
              "716  0.481433        -1.161680\n",
              "717  1.811455        -0.319068\n",
              "718 -0.250079        -1.738022\n",
              "\n",
              "[719 rows x 2 columns]"
            ]
          },
          "metadata": {
            "tags": []
          },
          "execution_count": 64
        }
      ]
    },
    {
      "cell_type": "code",
      "metadata": {
        "id": "68TJ2GCEKitu"
      },
      "source": [
        "# Define X and y \n",
        "X = m1_s[['avg_precip_mean']]\n",
        "y = m1_s[['Value']]"
      ],
      "execution_count": 65,
      "outputs": []
    },
    {
      "cell_type": "code",
      "metadata": {
        "id": "xBol32kXL42Z",
        "colab": {
          "base_uri": "https://localhost:8080/"
        },
        "outputId": "569dc048-cb28-43d7-ef17-d8527e4a6ef9"
      },
      "source": [
        "from sklearn.model_selection import train_test_split\n",
        "train_ratio = 0.75\n",
        "validation_ratio = 0.15\n",
        "test_ratio = 0.10\n",
        "\n",
        "# train is now 75% of the entire data set\n",
        "# the _junk suffix means that we drop that variable completely\n",
        "x_train, x_test, y_train, y_test = train_test_split(X, y, test_size=1 - train_ratio, random_state = 0 )\n",
        "\n",
        "# test is now 10% of the initial data set\n",
        "# validation is now 15% of the initial data set\n",
        "x_val, x_test, y_val, y_test = train_test_split(x_test, y_test, test_size=test_ratio/(test_ratio + validation_ratio), random_state = 0 ) \n",
        "\n",
        "print(x_train, x_val, x_test)"
      ],
      "execution_count": 66,
      "outputs": [
        {
          "output_type": "stream",
          "text": [
            "     avg_precip_mean\n",
            "109        -0.627543\n",
            "700        -1.419823\n",
            "101        -0.553833\n",
            "499         0.295024\n",
            "319        -0.177591\n",
            "..               ...\n",
            "707        -1.630033\n",
            "192         0.508349\n",
            "629         0.804528\n",
            "559        -1.160927\n",
            "684         0.028400\n",
            "\n",
            "[539 rows x 1 columns]      avg_precip_mean\n",
            "302        -0.255222\n",
            "652        -0.526495\n",
            "79          0.429299\n",
            "175        -0.629032\n",
            "489         1.363709\n",
            "..               ...\n",
            "542         0.735562\n",
            "569         0.853857\n",
            "487         1.349547\n",
            "521         0.866684\n",
            "625         0.719879\n",
            "\n",
            "[108 rows x 1 columns]      avg_precip_mean\n",
            "249        -1.682454\n",
            "40          0.381562\n",
            "293         1.560164\n",
            "711        -2.166027\n",
            "211        -1.405137\n",
            "..               ...\n",
            "306        -0.456047\n",
            "390         0.852816\n",
            "251        -1.306953\n",
            "245        -0.241839\n",
            "27         -1.487627\n",
            "\n",
            "[72 rows x 1 columns]\n"
          ],
          "name": "stdout"
        }
      ]
    },
    {
      "cell_type": "markdown",
      "metadata": {
        "id": "J2C9TIuqGMF4"
      },
      "source": [
        "Linear Regression - validation"
      ]
    },
    {
      "cell_type": "code",
      "metadata": {
        "id": "XZ3KmC9IKiwj"
      },
      "source": [
        "# build the model \n",
        "from sklearn.linear_model import LinearRegression\n",
        "model = LinearRegression()\n",
        "model.fit(x_train, y_train)\n",
        "\n",
        "y_pre = model.predict(x_val) \n",
        "\n"
      ],
      "execution_count": 67,
      "outputs": []
    },
    {
      "cell_type": "code",
      "metadata": {
        "id": "-4vODKZqKizC"
      },
      "source": [
        "import sklearn.metrics as metrics\n",
        "def regression_results(y_val, y_pre):\n",
        "\n",
        "    # Regression metrics\n",
        "    explained_variance=metrics.explained_variance_score(y_val, y_pre)\n",
        "    mean_absolute_error=metrics.mean_absolute_error(y_val, y_pre) \n",
        "    mse=metrics.mean_squared_error(y_val, y_pre) \n",
        "    #mean_squared_log_error=metrics.mean_squared_log_error(y_val, y_pre)\n",
        "    median_absolute_error=metrics.median_absolute_error(y_val, y_pre)\n",
        "    r2=metrics.r2_score(y_val, y_pre)\n",
        "\n",
        "    print('explained_variance: ', round(explained_variance,4))    \n",
        "    #print('mean_squared_log_error: ', round(mean_squared_log_error,4))\n",
        "    print('r2: ', round(r2,4))\n",
        "    print('MAE: ', round(mean_absolute_error,4))\n",
        "    print('MSE: ', round(mse,4))\n",
        "    print('RMSE: ', round(np.sqrt(mse),4))\n",
        "\n"
      ],
      "execution_count": 68,
      "outputs": []
    },
    {
      "cell_type": "code",
      "metadata": {
        "colab": {
          "base_uri": "https://localhost:8080/"
        },
        "id": "thrVWizMOpcU",
        "outputId": "2cab7422-b416-4658-e68a-515d2bbd5736"
      },
      "source": [
        "#metrics for validation set - Linear Regression\n",
        "import numpy as np\n",
        "regression_results(y_val, y_pre)"
      ],
      "execution_count": 69,
      "outputs": [
        {
          "output_type": "stream",
          "text": [
            "explained_variance:  0.1207\n",
            "r2:  0.1177\n",
            "MAE:  0.7549\n",
            "MSE:  0.8265\n",
            "RMSE:  0.9091\n"
          ],
          "name": "stdout"
        }
      ]
    },
    {
      "cell_type": "code",
      "metadata": {
        "id": "M_Ffpt7HQyr4"
      },
      "source": [
        "#predict for test\n",
        "model_testLR = LinearRegression()\n",
        "model_testLR.fit(x_train, y_train)\n",
        "\n",
        "y_pred_test = model_testLR.predict(x_test)"
      ],
      "execution_count": 73,
      "outputs": []
    },
    {
      "cell_type": "code",
      "metadata": {
        "id": "kgZjTu6lPGGo"
      },
      "source": [
        "#regression results test\n",
        "def regression_results_test(y_test, y_pred_test):\n",
        "\n",
        "    # Regression metrics\n",
        "    explained_variance=metrics.explained_variance_score(y_test, y_pred_test)\n",
        "    mean_absolute_error=metrics.mean_absolute_error(y_test, y_pred_test) \n",
        "    mse=metrics.mean_squared_error(y_test, y_pred_test) \n",
        "    median_absolute_error=metrics.median_absolute_error(y_test, y_pred_test)\n",
        "    r2=metrics.r2_score(y_test, y_pred_test)\n",
        "\n",
        "    print('explained_variance: ', round(explained_variance,4))    \n",
        "    print('r2: ', round(r2,4))\n",
        "    print('MAE: ', round(mean_absolute_error,4))\n",
        "    print('MSE: ', round(mse,4))\n",
        "    print('RMSE: ', round(np.sqrt(mse),4))\n"
      ],
      "execution_count": 74,
      "outputs": []
    },
    {
      "cell_type": "code",
      "metadata": {
        "colab": {
          "base_uri": "https://localhost:8080/"
        },
        "id": "jQSaA7d7RSY1",
        "outputId": "5b1c419b-9160-4ece-9d5c-1d48fddbc51a"
      },
      "source": [
        "#metrics for test set - linear regression\n",
        "regression_results_test(y_test, y_pred_test)"
      ],
      "execution_count": 75,
      "outputs": [
        {
          "output_type": "stream",
          "text": [
            "explained_variance:  0.1626\n",
            "r2:  0.159\n",
            "MAE:  0.8654\n",
            "MSE:  1.0936\n",
            "RMSE:  1.0458\n"
          ],
          "name": "stdout"
        }
      ]
    },
    {
      "cell_type": "markdown",
      "metadata": {
        "id": "_XcTg3klWMTD"
      },
      "source": [
        "Multivariate regression"
      ]
    },
    {
      "cell_type": "code",
      "metadata": {
        "colab": {
          "base_uri": "https://localhost:8080/",
          "height": 415
        },
        "id": "ZiToBkjsYC9n",
        "outputId": "4b611191-2053-4860-8f4d-711d8a6c16b5"
      },
      "source": [
        "multi = acrplanted_pre[['Value','avg_precip_mean', 'avg_precip_25%', 'avg_precip_50%', 'avg_precip_75%']].copy()\n",
        "multi_scaled = sc.fit_transform(multi)\n",
        "\n",
        "multi_s = pd.DataFrame(multi_scaled, columns=multi.columns, index=multi.index)\n",
        "\n",
        "multi_s"
      ],
      "execution_count": 70,
      "outputs": [
        {
          "output_type": "execute_result",
          "data": {
            "text/html": [
              "<div>\n",
              "<style scoped>\n",
              "    .dataframe tbody tr th:only-of-type {\n",
              "        vertical-align: middle;\n",
              "    }\n",
              "\n",
              "    .dataframe tbody tr th {\n",
              "        vertical-align: top;\n",
              "    }\n",
              "\n",
              "    .dataframe thead th {\n",
              "        text-align: right;\n",
              "    }\n",
              "</style>\n",
              "<table border=\"1\" class=\"dataframe\">\n",
              "  <thead>\n",
              "    <tr style=\"text-align: right;\">\n",
              "      <th></th>\n",
              "      <th>Value</th>\n",
              "      <th>avg_precip_mean</th>\n",
              "      <th>avg_precip_25%</th>\n",
              "      <th>avg_precip_50%</th>\n",
              "      <th>avg_precip_75%</th>\n",
              "    </tr>\n",
              "  </thead>\n",
              "  <tbody>\n",
              "    <tr>\n",
              "      <th>0</th>\n",
              "      <td>2.724334</td>\n",
              "      <td>0.228274</td>\n",
              "      <td>1.554543</td>\n",
              "      <td>0.577443</td>\n",
              "      <td>-0.349783</td>\n",
              "    </tr>\n",
              "    <tr>\n",
              "      <th>1</th>\n",
              "      <td>-0.419355</td>\n",
              "      <td>0.745077</td>\n",
              "      <td>0.662320</td>\n",
              "      <td>0.967046</td>\n",
              "      <td>0.343665</td>\n",
              "    </tr>\n",
              "    <tr>\n",
              "      <th>2</th>\n",
              "      <td>-0.455628</td>\n",
              "      <td>2.099666</td>\n",
              "      <td>3.313764</td>\n",
              "      <td>1.766916</td>\n",
              "      <td>1.108146</td>\n",
              "    </tr>\n",
              "    <tr>\n",
              "      <th>3</th>\n",
              "      <td>0.221474</td>\n",
              "      <td>0.809943</td>\n",
              "      <td>1.892331</td>\n",
              "      <td>0.656815</td>\n",
              "      <td>0.397051</td>\n",
              "    </tr>\n",
              "    <tr>\n",
              "      <th>4</th>\n",
              "      <td>0.711164</td>\n",
              "      <td>2.260804</td>\n",
              "      <td>2.477963</td>\n",
              "      <td>2.328125</td>\n",
              "      <td>1.902396</td>\n",
              "    </tr>\n",
              "    <tr>\n",
              "      <th>...</th>\n",
              "      <td>...</td>\n",
              "      <td>...</td>\n",
              "      <td>...</td>\n",
              "      <td>...</td>\n",
              "      <td>...</td>\n",
              "    </tr>\n",
              "    <tr>\n",
              "      <th>714</th>\n",
              "      <td>0.275884</td>\n",
              "      <td>-1.607777</td>\n",
              "      <td>-1.400714</td>\n",
              "      <td>-1.400538</td>\n",
              "      <td>-1.171437</td>\n",
              "    </tr>\n",
              "    <tr>\n",
              "      <th>715</th>\n",
              "      <td>0.439114</td>\n",
              "      <td>-1.508240</td>\n",
              "      <td>-1.709911</td>\n",
              "      <td>-1.667919</td>\n",
              "      <td>-1.252839</td>\n",
              "    </tr>\n",
              "    <tr>\n",
              "      <th>716</th>\n",
              "      <td>0.481433</td>\n",
              "      <td>-1.161680</td>\n",
              "      <td>-1.240564</td>\n",
              "      <td>-1.554080</td>\n",
              "      <td>-1.128580</td>\n",
              "    </tr>\n",
              "    <tr>\n",
              "      <th>717</th>\n",
              "      <td>1.811455</td>\n",
              "      <td>-0.319068</td>\n",
              "      <td>-0.278301</td>\n",
              "      <td>-0.783386</td>\n",
              "      <td>-0.291813</td>\n",
              "    </tr>\n",
              "    <tr>\n",
              "      <th>718</th>\n",
              "      <td>-0.250079</td>\n",
              "      <td>-1.738022</td>\n",
              "      <td>-1.046552</td>\n",
              "      <td>-1.804142</td>\n",
              "      <td>-1.473777</td>\n",
              "    </tr>\n",
              "  </tbody>\n",
              "</table>\n",
              "<p>719 rows × 5 columns</p>\n",
              "</div>"
            ],
            "text/plain": [
              "        Value  avg_precip_mean  avg_precip_25%  avg_precip_50%  avg_precip_75%\n",
              "0    2.724334         0.228274        1.554543        0.577443       -0.349783\n",
              "1   -0.419355         0.745077        0.662320        0.967046        0.343665\n",
              "2   -0.455628         2.099666        3.313764        1.766916        1.108146\n",
              "3    0.221474         0.809943        1.892331        0.656815        0.397051\n",
              "4    0.711164         2.260804        2.477963        2.328125        1.902396\n",
              "..        ...              ...             ...             ...             ...\n",
              "714  0.275884        -1.607777       -1.400714       -1.400538       -1.171437\n",
              "715  0.439114        -1.508240       -1.709911       -1.667919       -1.252839\n",
              "716  0.481433        -1.161680       -1.240564       -1.554080       -1.128580\n",
              "717  1.811455        -0.319068       -0.278301       -0.783386       -0.291813\n",
              "718 -0.250079        -1.738022       -1.046552       -1.804142       -1.473777\n",
              "\n",
              "[719 rows x 5 columns]"
            ]
          },
          "metadata": {
            "tags": []
          },
          "execution_count": 70
        }
      ]
    },
    {
      "cell_type": "code",
      "metadata": {
        "id": "yUFUKdlCKi1q",
        "colab": {
          "base_uri": "https://localhost:8080/"
        },
        "outputId": "13110833-3ffc-410b-ca60-6832ae541821"
      },
      "source": [
        "X=multi_s[['avg_precip_25%', 'avg_precip_50%', 'avg_precip_75%', 'avg_precip_mean']]\n",
        "y = multi_s[[\"Value\"]]\n",
        "from sklearn.model_selection import train_test_split\n",
        "train_ratio = 0.75\n",
        "validation_ratio = 0.15\n",
        "test_ratio = 0.10\n",
        "\n",
        "# train is now 75% of the entire data set\n",
        "# the _junk suffix means that we drop that variable completely\n",
        "x_train, x_test, y_train, y_test = train_test_split(X, y, test_size=1 - train_ratio, random_state = 0 )\n",
        "\n",
        "# test is now 10% of the initial data set\n",
        "# validation is now 15% of the initial data set\n",
        "x_val, x_test, y_val, y_test = train_test_split(x_test, y_test, test_size=test_ratio/(test_ratio + validation_ratio), random_state = 0 ) \n",
        "\n",
        "print(x_train, x_val, x_test)"
      ],
      "execution_count": 71,
      "outputs": [
        {
          "output_type": "stream",
          "text": [
            "     avg_precip_25%  avg_precip_50%  avg_precip_75%  avg_precip_mean\n",
            "109       -0.113551        0.313531       -0.459661        -0.627543\n",
            "700       -1.472903       -1.570358       -1.085575        -1.419823\n",
            "101        0.524682        0.003701       -1.270237        -0.553833\n",
            "499        0.793803       -0.328277        1.177632         0.295024\n",
            "319       -0.576164       -0.599852       -0.314405        -0.177591\n",
            "..              ...             ...             ...              ...\n",
            "707       -1.543820       -1.471870       -1.555746        -1.630033\n",
            "192       -0.767756       -0.452540        0.505798         0.508349\n",
            "629        0.471588        1.205543        0.588741         0.804528\n",
            "559       -0.748723       -1.119590       -1.083233        -1.160927\n",
            "684       -0.100803       -0.181476        0.323838         0.028400\n",
            "\n",
            "[539 rows x 4 columns]      avg_precip_25%  avg_precip_50%  avg_precip_75%  avg_precip_mean\n",
            "302        0.455271        0.189230       -0.360803        -0.255222\n",
            "652       -0.329412       -0.633733        0.080092        -0.526495\n",
            "79         0.629093       -0.627324        1.030949         0.429299\n",
            "175        0.331023       -0.007109       -0.888013        -0.629032\n",
            "489       -0.041512       -0.003726        1.902908         1.363709\n",
            "..              ...             ...             ...              ...\n",
            "542       -0.514078       -0.475352       -0.802791         0.735562\n",
            "569        0.022509        0.256432        1.416732         0.853857\n",
            "487       -0.314047        0.563780        0.659090         1.349547\n",
            "521        1.274754        1.202711        0.989697         0.866684\n",
            "625        1.316877        0.318009        0.543866         0.719879\n",
            "\n",
            "[108 rows x 4 columns]      avg_precip_25%  avg_precip_50%  avg_precip_75%  avg_precip_mean\n",
            "249       -0.742132       -1.183516       -1.524264        -1.682454\n",
            "40         0.762061       -0.007713       -0.146127         0.381562\n",
            "293        2.630456        1.184122        1.170235         1.560164\n",
            "711       -2.096510       -2.398867       -1.674647        -2.166027\n",
            "211       -0.820019       -2.077792       -0.654222        -1.405137\n",
            "..              ...             ...             ...              ...\n",
            "306       -0.522540       -0.649588       -0.955374        -0.456047\n",
            "390        0.688708        0.786551        0.807883         0.852816\n",
            "251       -0.087584       -1.137453       -1.202766        -1.306953\n",
            "245       -1.230597        0.047014        0.102993        -0.241839\n",
            "27        -0.838302       -1.251419       -1.267048        -1.487627\n",
            "\n",
            "[72 rows x 4 columns]\n"
          ],
          "name": "stdout"
        }
      ]
    },
    {
      "cell_type": "code",
      "metadata": {
        "colab": {
          "base_uri": "https://localhost:8080/"
        },
        "id": "l-RffA9VXjxc",
        "outputId": "0ecd22e9-0f3d-4693-f47f-fb5ba5b678c8"
      },
      "source": [
        "from sklearn.linear_model import LinearRegression\n",
        "model = LinearRegression()\n",
        "model.fit(x_train, y_train)\n",
        "\n",
        "y_pre = model.predict(x_val) \n",
        "import sklearn.metrics as metrics\n",
        "def regression_results(y_val, y_pre):\n",
        "\n",
        "    # Regression metrics\n",
        "    explained_variance=metrics.explained_variance_score(y_val, y_pre)\n",
        "    mean_absolute_error=metrics.mean_absolute_error(y_val, y_pre) \n",
        "    mse=metrics.mean_squared_error(y_val, y_pre) \n",
        "    #mean_squared_log_error=metrics.mean_squared_log_error(y_val, y_pre)\n",
        "    median_absolute_error=metrics.median_absolute_error(y_val, y_pre)\n",
        "    r2=metrics.r2_score(y_val, y_pre)\n",
        "\n",
        "    print('explained_variance: ', round(explained_variance,4))    \n",
        "    #print('mean_squared_log_error: ', round(mean_squared_log_error,4))\n",
        "    print('r2: ', round(r2,4))\n",
        "    print('MAE: ', round(mean_absolute_error,4))\n",
        "    print('MSE: ', round(mse,4))\n",
        "    print('RMSE: ', round(np.sqrt(mse),4))\n",
        "regression_results(y_val, y_pre)"
      ],
      "execution_count": 72,
      "outputs": [
        {
          "output_type": "stream",
          "text": [
            "explained_variance:  0.1465\n",
            "r2:  0.14\n",
            "MAE:  0.7419\n",
            "MSE:  0.8056\n",
            "RMSE:  0.8975\n"
          ],
          "name": "stdout"
        }
      ]
    },
    {
      "cell_type": "markdown",
      "metadata": {
        "id": "gE996cJN-aEC"
      },
      "source": [
        "Random forest"
      ]
    },
    {
      "cell_type": "code",
      "metadata": {
        "id": "ZoDzOdGs-Fez"
      },
      "source": [
        "X = m1_s[['avg_precip_mean']]\n",
        "y = m1_s[['Value']]\n",
        "from sklearn.model_selection import train_test_split\n",
        "train_ratio = 0.75\n",
        "validation_ratio = 0.15\n",
        "test_ratio = 0.10\n",
        "\n",
        "# train is now 75% of the entire data set\n",
        "# the _junk suffix means that we drop that variable completely\n",
        "x_train, x_test, y_train, y_test = train_test_split(X, y, test_size=1 - train_ratio, random_state = 0 )\n",
        "\n",
        "# test is now 10% of the initial data set\n",
        "# validation is now 15% of the initial data set\n",
        "x_val, x_test, y_val, y_test = train_test_split(x_test, y_test, test_size=test_ratio/(test_ratio + validation_ratio), random_state = 0 ) "
      ],
      "execution_count": 76,
      "outputs": []
    },
    {
      "cell_type": "markdown",
      "metadata": {
        "id": "z_by1ngNGAdy"
      },
      "source": [
        "Random Forest Validation"
      ]
    },
    {
      "cell_type": "code",
      "metadata": {
        "colab": {
          "base_uri": "https://localhost:8080/"
        },
        "id": "AZOu_fOn-F8s",
        "outputId": "e38540af-97b0-4a1f-c52d-e124ed31fba4"
      },
      "source": [
        "from sklearn.ensemble import RandomForestRegressor\n",
        "randomForest_valid = RandomForestRegressor()\n",
        "randomForest_valid.fit(x_train, y_train)\n",
        "\n",
        "y_pred_valid_RF = randomForest_valid.predict(x_val)\n",
        "\n"
      ],
      "execution_count": 77,
      "outputs": [
        {
          "output_type": "stream",
          "text": [
            "/usr/local/lib/python3.7/dist-packages/ipykernel_launcher.py:3: DataConversionWarning: A column-vector y was passed when a 1d array was expected. Please change the shape of y to (n_samples,), for example using ravel().\n",
            "  This is separate from the ipykernel package so we can avoid doing imports until\n"
          ],
          "name": "stderr"
        }
      ]
    },
    {
      "cell_type": "code",
      "metadata": {
        "colab": {
          "base_uri": "https://localhost:8080/"
        },
        "id": "kkk3IOEXA9Ab",
        "outputId": "3f18caf9-0750-4d7a-bc6e-6db7e6afd2b5"
      },
      "source": [
        "regression_results(y_val, y_pred_valid_RF)"
      ],
      "execution_count": 78,
      "outputs": [
        {
          "output_type": "stream",
          "text": [
            "explained_variance:  -0.2197\n",
            "r2:  -0.2297\n",
            "MAE:  0.8653\n",
            "MSE:  1.1519\n",
            "RMSE:  1.0732\n"
          ],
          "name": "stdout"
        }
      ]
    },
    {
      "cell_type": "markdown",
      "metadata": {
        "id": "7JOxS2R3GCoz"
      },
      "source": [
        "Random Forest Test Set"
      ]
    },
    {
      "cell_type": "code",
      "metadata": {
        "colab": {
          "base_uri": "https://localhost:8080/"
        },
        "id": "fs934rwsAd79",
        "outputId": "bcac8e27-ece5-42a3-b02b-85833bd239b1"
      },
      "source": [
        "randomForest_valid = RandomForestRegressor()\n",
        "randomForest_valid.fit(x_train, y_train)\n",
        "\n",
        "y_pred_test_RF = randomForest_valid.predict(x_test)"
      ],
      "execution_count": 79,
      "outputs": [
        {
          "output_type": "stream",
          "text": [
            "/usr/local/lib/python3.7/dist-packages/ipykernel_launcher.py:2: DataConversionWarning: A column-vector y was passed when a 1d array was expected. Please change the shape of y to (n_samples,), for example using ravel().\n",
            "  \n"
          ],
          "name": "stderr"
        }
      ]
    },
    {
      "cell_type": "code",
      "metadata": {
        "colab": {
          "base_uri": "https://localhost:8080/"
        },
        "id": "Js-xhtXiFuGX",
        "outputId": "eccaf70f-49ab-4167-dd04-7a206b368935"
      },
      "source": [
        "regression_results_test(y_test, y_pred_test_RF)"
      ],
      "execution_count": 80,
      "outputs": [
        {
          "output_type": "stream",
          "text": [
            "explained_variance:  -0.3928\n",
            "r2:  -0.3943\n",
            "MAE:  1.12\n",
            "MSE:  1.8132\n",
            "RMSE:  1.3466\n"
          ],
          "name": "stdout"
        }
      ]
    },
    {
      "cell_type": "markdown",
      "metadata": {
        "id": "vMMlN-B7Z_Mv"
      },
      "source": [
        "Random Forest with Multiple x-variables"
      ]
    },
    {
      "cell_type": "code",
      "metadata": {
        "colab": {
          "base_uri": "https://localhost:8080/"
        },
        "id": "3qC0c-MKZk8L",
        "outputId": "498b0c6a-e5fe-464c-9fd0-3bf7ada39b14"
      },
      "source": [
        "X = multi_s[['avg_precip_25%', 'avg_precip_50%', 'avg_precip_75%', 'avg_precip_mean']]\n",
        "y = multi_s[['Value']]\n",
        "from sklearn.model_selection import train_test_split\n",
        "train_ratio = 0.75\n",
        "validation_ratio = 0.15\n",
        "test_ratio = 0.10\n",
        "\n",
        "# train is now 75% of the entire data set\n",
        "# the _junk suffix means that we drop that variable completely\n",
        "x_train, x_test, y_train, y_test = train_test_split(X, y, test_size=1 - train_ratio, random_state = 0 )\n",
        "\n",
        "# test is now 10% of the initial data set\n",
        "# validation is now 15% of the initial data set\n",
        "x_val, x_test, y_val, y_test = train_test_split(x_test, y_test, test_size=test_ratio/(test_ratio + validation_ratio), random_state = 0 ) \n",
        "randomForest_valid = RandomForestRegressor()\n",
        "randomForest_valid.fit(x_train, y_train)\n",
        "\n",
        "y_pred_valid_RF = randomForest_valid.predict(x_val)\n",
        "\n",
        "regression_results(y_val, y_pred_valid_RF)"
      ],
      "execution_count": 81,
      "outputs": [
        {
          "output_type": "stream",
          "text": [
            "/usr/local/lib/python3.7/dist-packages/ipykernel_launcher.py:16: DataConversionWarning: A column-vector y was passed when a 1d array was expected. Please change the shape of y to (n_samples,), for example using ravel().\n",
            "  app.launch_new_instance()\n"
          ],
          "name": "stderr"
        },
        {
          "output_type": "stream",
          "text": [
            "explained_variance:  0.1639\n",
            "r2:  0.1553\n",
            "MAE:  0.7204\n",
            "MSE:  0.7913\n",
            "RMSE:  0.8895\n"
          ],
          "name": "stdout"
        }
      ]
    },
    {
      "cell_type": "markdown",
      "metadata": {
        "id": "UQYHZMsnGJPf"
      },
      "source": [
        "**yield precipitation dataset**"
      ]
    },
    {
      "cell_type": "code",
      "metadata": {
        "colab": {
          "base_uri": "https://localhost:8080/",
          "height": 690
        },
        "id": "mZOsm9NnGgd0",
        "outputId": "4d16fcbe-b39b-4afa-de01-3ace50e07ab1"
      },
      "source": [
        "crop_yield = pd.read_csv(\"yield_pre.csv\")\n",
        "crop_yield.head()"
      ],
      "execution_count": 82,
      "outputs": [
        {
          "output_type": "execute_result",
          "data": {
            "text/html": [
              "<div>\n",
              "<style scoped>\n",
              "    .dataframe tbody tr th:only-of-type {\n",
              "        vertical-align: middle;\n",
              "    }\n",
              "\n",
              "    .dataframe tbody tr th {\n",
              "        vertical-align: top;\n",
              "    }\n",
              "\n",
              "    .dataframe thead th {\n",
              "        text-align: right;\n",
              "    }\n",
              "</style>\n",
              "<table border=\"1\" class=\"dataframe\">\n",
              "  <thead>\n",
              "    <tr style=\"text-align: right;\">\n",
              "      <th></th>\n",
              "      <th>Program</th>\n",
              "      <th>Year</th>\n",
              "      <th>Ag District</th>\n",
              "      <th>Ag District Code</th>\n",
              "      <th>County</th>\n",
              "      <th>County ANSI</th>\n",
              "      <th>Commodity</th>\n",
              "      <th>Data Item</th>\n",
              "      <th>Domain</th>\n",
              "      <th>Domain Category</th>\n",
              "      <th>Value</th>\n",
              "      <th>CV (%)</th>\n",
              "      <th>avg_precip_count</th>\n",
              "      <th>avg_precip_mean</th>\n",
              "      <th>avg_precip_std</th>\n",
              "      <th>avg_precip_min</th>\n",
              "      <th>avg_precip_25%</th>\n",
              "      <th>avg_precip_50%</th>\n",
              "      <th>avg_precip_75%</th>\n",
              "      <th>avg_precip_max</th>\n",
              "    </tr>\n",
              "  </thead>\n",
              "  <tbody>\n",
              "    <tr>\n",
              "      <th>0</th>\n",
              "      <td>SURVEY</td>\n",
              "      <td>2019</td>\n",
              "      <td>CENTRAL</td>\n",
              "      <td>50</td>\n",
              "      <td>cayuga</td>\n",
              "      <td>11.0</td>\n",
              "      <td>CORN</td>\n",
              "      <td>CORN GRAIN - YIELD MEASURED IN BU / ACRE</td>\n",
              "      <td>TOTAL</td>\n",
              "      <td>NOT SPECIFIED</td>\n",
              "      <td>158.0</td>\n",
              "      <td>NaN</td>\n",
              "      <td>52.0</td>\n",
              "      <td>0.126284</td>\n",
              "      <td>0.088166</td>\n",
              "      <td>0.011262</td>\n",
              "      <td>0.064633</td>\n",
              "      <td>0.108586</td>\n",
              "      <td>0.162758</td>\n",
              "      <td>0.364602</td>\n",
              "    </tr>\n",
              "    <tr>\n",
              "      <th>1</th>\n",
              "      <td>SURVEY</td>\n",
              "      <td>2019</td>\n",
              "      <td>CENTRAL</td>\n",
              "      <td>50</td>\n",
              "      <td>cortland</td>\n",
              "      <td>23.0</td>\n",
              "      <td>CORN</td>\n",
              "      <td>CORN GRAIN - YIELD MEASURED IN BU / ACRE</td>\n",
              "      <td>TOTAL</td>\n",
              "      <td>NOT SPECIFIED</td>\n",
              "      <td>157.6</td>\n",
              "      <td>NaN</td>\n",
              "      <td>52.0</td>\n",
              "      <td>0.136549</td>\n",
              "      <td>0.094494</td>\n",
              "      <td>0.008701</td>\n",
              "      <td>0.052037</td>\n",
              "      <td>0.116943</td>\n",
              "      <td>0.184175</td>\n",
              "      <td>0.391079</td>\n",
              "    </tr>\n",
              "    <tr>\n",
              "      <th>2</th>\n",
              "      <td>SURVEY</td>\n",
              "      <td>2019</td>\n",
              "      <td>CENTRAL</td>\n",
              "      <td>50</td>\n",
              "      <td>herkimer</td>\n",
              "      <td>43.0</td>\n",
              "      <td>CORN</td>\n",
              "      <td>CORN GRAIN - YIELD MEASURED IN BU / ACRE</td>\n",
              "      <td>TOTAL</td>\n",
              "      <td>NOT SPECIFIED</td>\n",
              "      <td>147.9</td>\n",
              "      <td>NaN</td>\n",
              "      <td>52.0</td>\n",
              "      <td>0.163455</td>\n",
              "      <td>0.104624</td>\n",
              "      <td>0.003057</td>\n",
              "      <td>0.089469</td>\n",
              "      <td>0.134099</td>\n",
              "      <td>0.207785</td>\n",
              "      <td>0.490518</td>\n",
              "    </tr>\n",
              "    <tr>\n",
              "      <th>3</th>\n",
              "      <td>SURVEY</td>\n",
              "      <td>2019</td>\n",
              "      <td>CENTRAL</td>\n",
              "      <td>50</td>\n",
              "      <td>madison</td>\n",
              "      <td>53.0</td>\n",
              "      <td>CORN</td>\n",
              "      <td>CORN GRAIN - YIELD MEASURED IN BU / ACRE</td>\n",
              "      <td>TOTAL</td>\n",
              "      <td>NOT SPECIFIED</td>\n",
              "      <td>139.3</td>\n",
              "      <td>NaN</td>\n",
              "      <td>52.0</td>\n",
              "      <td>0.137838</td>\n",
              "      <td>0.091820</td>\n",
              "      <td>0.008370</td>\n",
              "      <td>0.069401</td>\n",
              "      <td>0.110289</td>\n",
              "      <td>0.185823</td>\n",
              "      <td>0.375661</td>\n",
              "    </tr>\n",
              "    <tr>\n",
              "      <th>4</th>\n",
              "      <td>SURVEY</td>\n",
              "      <td>2019</td>\n",
              "      <td>CENTRAL</td>\n",
              "      <td>50</td>\n",
              "      <td>oneida</td>\n",
              "      <td>65.0</td>\n",
              "      <td>CORN</td>\n",
              "      <td>CORN GRAIN - YIELD MEASURED IN BU / ACRE</td>\n",
              "      <td>TOTAL</td>\n",
              "      <td>NOT SPECIFIED</td>\n",
              "      <td>154.4</td>\n",
              "      <td>NaN</td>\n",
              "      <td>52.0</td>\n",
              "      <td>0.166656</td>\n",
              "      <td>0.110897</td>\n",
              "      <td>0.005187</td>\n",
              "      <td>0.077669</td>\n",
              "      <td>0.146137</td>\n",
              "      <td>0.232315</td>\n",
              "      <td>0.479629</td>\n",
              "    </tr>\n",
              "  </tbody>\n",
              "</table>\n",
              "</div>"
            ],
            "text/plain": [
              "  Program  Year Ag District  ...  avg_precip_50% avg_precip_75%  avg_precip_max\n",
              "0  SURVEY  2019     CENTRAL  ...        0.108586       0.162758        0.364602\n",
              "1  SURVEY  2019     CENTRAL  ...        0.116943       0.184175        0.391079\n",
              "2  SURVEY  2019     CENTRAL  ...        0.134099       0.207785        0.490518\n",
              "3  SURVEY  2019     CENTRAL  ...        0.110289       0.185823        0.375661\n",
              "4  SURVEY  2019     CENTRAL  ...        0.146137       0.232315        0.479629\n",
              "\n",
              "[5 rows x 20 columns]"
            ]
          },
          "metadata": {
            "tags": []
          },
          "execution_count": 82
        }
      ]
    },
    {
      "cell_type": "code",
      "metadata": {
        "id": "C3ZyNiE0HuWK"
      },
      "source": [
        "m2 = crop_yield[['Value','avg_precip_mean']].copy()\n",
        "sc = StandardScaler()\n",
        "\n",
        "m2_scaled = sc.fit_transform(m2)\n",
        "\n",
        "m2_s = pd.DataFrame(m2_scaled, columns=m2.columns, index=m2.index)\n",
        "\n",
        "m2_s\n",
        "\n",
        "X = m2_s[['avg_precip_mean']]\n",
        "y = m2_s[['Value']]\n",
        "\n",
        "\n"
      ],
      "execution_count": 83,
      "outputs": []
    },
    {
      "cell_type": "code",
      "metadata": {
        "colab": {
          "base_uri": "https://localhost:8080/"
        },
        "id": "gYPP_dR0H3rD",
        "outputId": "59368b63-b910-4295-f171-045a1a584901"
      },
      "source": [
        "from sklearn.model_selection import train_test_split\n",
        "train_ratio = 0.75\n",
        "validation_ratio = 0.15\n",
        "test_ratio = 0.10\n",
        "\n",
        "# train is now 75% of the entire data set\n",
        "# the _junk suffix means that we drop that variable completely\n",
        "x_train, x_test, y_train, y_test = train_test_split(X, y, test_size=1 - train_ratio, random_state = 0 )\n",
        "\n",
        "# test is now 10% of the initial data set\n",
        "# validation is now 15% of the initial data set\n",
        "x_val, x_test, y_val, y_test = train_test_split(x_test, y_test, test_size=test_ratio/(test_ratio + validation_ratio), random_state = 0 ) \n",
        "\n",
        "print(x_train, x_val, x_test)"
      ],
      "execution_count": 84,
      "outputs": [
        {
          "output_type": "stream",
          "text": [
            "     avg_precip_mean\n",
            "109        -0.627543\n",
            "700        -1.419823\n",
            "101        -0.553833\n",
            "499         0.295024\n",
            "319        -0.177591\n",
            "..               ...\n",
            "707        -1.630033\n",
            "192         0.508349\n",
            "629         0.804528\n",
            "559        -1.160927\n",
            "684         0.028400\n",
            "\n",
            "[539 rows x 1 columns]      avg_precip_mean\n",
            "302        -0.255222\n",
            "652        -0.526495\n",
            "79          0.429299\n",
            "175        -0.629032\n",
            "489         1.363709\n",
            "..               ...\n",
            "542         0.735562\n",
            "569         0.853857\n",
            "487         1.349547\n",
            "521         0.866684\n",
            "625         0.719879\n",
            "\n",
            "[108 rows x 1 columns]      avg_precip_mean\n",
            "249        -1.682454\n",
            "40          0.381562\n",
            "293         1.560164\n",
            "711        -2.166027\n",
            "211        -1.405137\n",
            "..               ...\n",
            "306        -0.456047\n",
            "390         0.852816\n",
            "251        -1.306953\n",
            "245        -0.241839\n",
            "27         -1.487627\n",
            "\n",
            "[72 rows x 1 columns]\n"
          ],
          "name": "stdout"
        }
      ]
    },
    {
      "cell_type": "markdown",
      "metadata": {
        "id": "VqTyo5uyIPjv"
      },
      "source": [
        "Linear Regression"
      ]
    },
    {
      "cell_type": "code",
      "metadata": {
        "colab": {
          "base_uri": "https://localhost:8080/"
        },
        "id": "9WSucyd6IPEc",
        "outputId": "0befd0fa-c5bf-437f-ffe3-7f427b97a8be"
      },
      "source": [
        "model_yield_LR = LinearRegression()\n",
        "model_yield_LR.fit(x_train, y_train)\n",
        "\n",
        "y_pre_yield = model_yield_LR.predict(x_val) \n",
        "regression_results(y_val, y_pre_yield)"
      ],
      "execution_count": 85,
      "outputs": [
        {
          "output_type": "stream",
          "text": [
            "explained_variance:  0.0141\n",
            "r2:  0.007\n",
            "MAE:  0.7639\n",
            "MSE:  1.0019\n",
            "RMSE:  1.0009\n"
          ],
          "name": "stdout"
        }
      ]
    },
    {
      "cell_type": "code",
      "metadata": {
        "colab": {
          "base_uri": "https://localhost:8080/"
        },
        "id": "G4RWYOeeJe7W",
        "outputId": "39910452-7900-4faa-89a3-776bfefdd68d"
      },
      "source": [
        "model_testLR_yield = LinearRegression()\n",
        "model_testLR_yield.fit(x_train, y_train)\n",
        "\n",
        "y_pred_test_yield = model_testLR_yield.predict(x_test)\n",
        "regression_results_test(y_test, y_pred_test_yield)\n"
      ],
      "execution_count": 86,
      "outputs": [
        {
          "output_type": "stream",
          "text": [
            "explained_variance:  0.0151\n",
            "r2:  0.0124\n",
            "MAE:  0.9007\n",
            "MSE:  1.5289\n",
            "RMSE:  1.2365\n"
          ],
          "name": "stdout"
        }
      ]
    },
    {
      "cell_type": "markdown",
      "metadata": {
        "id": "mRF-IxiwdGmu"
      },
      "source": [
        "Multivariable regression"
      ]
    },
    {
      "cell_type": "code",
      "metadata": {
        "colab": {
          "base_uri": "https://localhost:8080/"
        },
        "id": "7XlBVr5TdKdr",
        "outputId": "e16ad0ca-74cf-45b6-b71c-fc6f7c713216"
      },
      "source": [
        "m2_multi = crop_yield[['Value','avg_precip_mean', 'avg_precip_min',\t'avg_precip_25%',\t'avg_precip_50%',\t'avg_precip_75%']].copy()\n",
        "sc = StandardScaler()\n",
        "\n",
        "m2_scaled_multi = sc.fit_transform(m2_multi)\n",
        "\n",
        "m2_s_multi = pd.DataFrame(m2_scaled_multi, columns=m2_multi.columns, index=m2_multi.index)\n",
        "\n",
        "m2_s_multi\n",
        "\n",
        "train_ratio = 0.75\n",
        "validation_ratio = 0.15\n",
        "test_ratio = 0.10\n",
        "\n",
        "# train is now 75% of the entire data set\n",
        "# the _junk suffix means that we drop that variable completely\n",
        "x_train, x_test, y_train, y_test = train_test_split(X, y, test_size=1 - train_ratio, random_state = 0 )\n",
        "\n",
        "# test is now 10% of the initial data set\n",
        "# validation is now 15% of the initial data set\n",
        "x_val, x_test, y_val, y_test = train_test_split(x_test, y_test, test_size=test_ratio/(test_ratio + validation_ratio), random_state = 0 ) \n",
        "\n",
        "print(x_train, x_val, x_test)\n",
        "\n",
        "X = m2_s_multi[['avg_precip_mean', 'avg_precip_min',\t'avg_precip_25%',\t'avg_precip_50%',\t'avg_precip_75%']]\n",
        "y = m2_s_multi[['Value']]\n",
        "model_yield_LR = LinearRegression()\n",
        "model_yield_LR.fit(x_train, y_train)\n",
        "\n",
        "y_pre_yield = model_yield_LR.predict(x_val) \n",
        "regression_results(y_val, y_pre_yield)\n",
        "\n"
      ],
      "execution_count": 87,
      "outputs": [
        {
          "output_type": "stream",
          "text": [
            "     avg_precip_mean\n",
            "109        -0.627543\n",
            "700        -1.419823\n",
            "101        -0.553833\n",
            "499         0.295024\n",
            "319        -0.177591\n",
            "..               ...\n",
            "707        -1.630033\n",
            "192         0.508349\n",
            "629         0.804528\n",
            "559        -1.160927\n",
            "684         0.028400\n",
            "\n",
            "[539 rows x 1 columns]      avg_precip_mean\n",
            "302        -0.255222\n",
            "652        -0.526495\n",
            "79          0.429299\n",
            "175        -0.629032\n",
            "489         1.363709\n",
            "..               ...\n",
            "542         0.735562\n",
            "569         0.853857\n",
            "487         1.349547\n",
            "521         0.866684\n",
            "625         0.719879\n",
            "\n",
            "[108 rows x 1 columns]      avg_precip_mean\n",
            "249        -1.682454\n",
            "40          0.381562\n",
            "293         1.560164\n",
            "711        -2.166027\n",
            "211        -1.405137\n",
            "..               ...\n",
            "306        -0.456047\n",
            "390         0.852816\n",
            "251        -1.306953\n",
            "245        -0.241839\n",
            "27         -1.487627\n",
            "\n",
            "[72 rows x 1 columns]\n",
            "explained_variance:  0.0141\n",
            "r2:  0.007\n",
            "MAE:  0.7639\n",
            "MSE:  1.0019\n",
            "RMSE:  1.0009\n"
          ],
          "name": "stdout"
        }
      ]
    },
    {
      "cell_type": "markdown",
      "metadata": {
        "id": "_sd72DjaJ-dD"
      },
      "source": [
        "Random Forest"
      ]
    },
    {
      "cell_type": "code",
      "metadata": {
        "colab": {
          "base_uri": "https://localhost:8080/"
        },
        "id": "f3t99CwJKBS_",
        "outputId": "c49144d3-cecd-4ad9-b2a0-e2497753b889"
      },
      "source": [
        "randomForest_valid_yield = RandomForestRegressor()\n",
        "randomForest_valid_yield.fit(x_train, y_train)\n",
        "\n",
        "y_pred_valid_RF_yield = randomForest_valid_yield.predict(x_val)\n",
        "regression_results(y_val, y_pred_valid_RF_yield)"
      ],
      "execution_count": 88,
      "outputs": [
        {
          "output_type": "stream",
          "text": [
            "/usr/local/lib/python3.7/dist-packages/ipykernel_launcher.py:2: DataConversionWarning: A column-vector y was passed when a 1d array was expected. Please change the shape of y to (n_samples,), for example using ravel().\n",
            "  \n"
          ],
          "name": "stderr"
        },
        {
          "output_type": "stream",
          "text": [
            "explained_variance:  -0.156\n",
            "r2:  -0.1651\n",
            "MAE:  0.8117\n",
            "MSE:  1.1754\n",
            "RMSE:  1.0842\n"
          ],
          "name": "stdout"
        }
      ]
    },
    {
      "cell_type": "code",
      "metadata": {
        "colab": {
          "base_uri": "https://localhost:8080/"
        },
        "id": "nUofPTkIKjpU",
        "outputId": "a5e60bbc-2dac-4c66-adb0-14865e628883"
      },
      "source": [
        "randomForest_yield_test = RandomForestRegressor()\n",
        "randomForest_yield_test.fit(x_train, y_train)\n",
        "\n",
        "y_pred_test_RF_yield = randomForest_yield_test.predict(x_test)\n",
        "regression_results_test(y_test, y_pred_test_RF_yield)"
      ],
      "execution_count": 89,
      "outputs": [
        {
          "output_type": "stream",
          "text": [
            "explained_variance:  -0.1342\n",
            "r2:  -0.155\n",
            "MAE:  0.9646\n",
            "MSE:  1.7881\n",
            "RMSE:  1.3372\n"
          ],
          "name": "stdout"
        },
        {
          "output_type": "stream",
          "text": [
            "/usr/local/lib/python3.7/dist-packages/ipykernel_launcher.py:2: DataConversionWarning: A column-vector y was passed when a 1d array was expected. Please change the shape of y to (n_samples,), for example using ravel().\n",
            "  \n"
          ],
          "name": "stderr"
        }
      ]
    },
    {
      "cell_type": "markdown",
      "metadata": {
        "id": "qLn6aVzkeAKb"
      },
      "source": [
        "Random Forest with Multiple x variables"
      ]
    },
    {
      "cell_type": "code",
      "metadata": {
        "colab": {
          "base_uri": "https://localhost:8080/"
        },
        "id": "OfIIm7bvd_X2",
        "outputId": "65fb913f-aea5-40a4-93dc-5e8088093ff2"
      },
      "source": [
        "X = m2_s_multi[['avg_precip_mean', 'avg_precip_min',\t'avg_precip_25%',\t'avg_precip_50%',\t'avg_precip_75%']]\n",
        "y = m2_s_multi[['Value']]\n",
        "randomForest_valid_yield = RandomForestRegressor()\n",
        "randomForest_valid_yield.fit(x_train, y_train)\n",
        "\n",
        "y_pred_valid_RF_yield = randomForest_valid_yield.predict(x_val)\n",
        "regression_results(y_val, y_pred_valid_RF_yield)"
      ],
      "execution_count": 90,
      "outputs": [
        {
          "output_type": "stream",
          "text": [
            "/usr/local/lib/python3.7/dist-packages/ipykernel_launcher.py:4: DataConversionWarning: A column-vector y was passed when a 1d array was expected. Please change the shape of y to (n_samples,), for example using ravel().\n",
            "  after removing the cwd from sys.path.\n"
          ],
          "name": "stderr"
        },
        {
          "output_type": "stream",
          "text": [
            "explained_variance:  -0.181\n",
            "r2:  -0.1915\n",
            "MAE:  0.8164\n",
            "MSE:  1.2021\n",
            "RMSE:  1.0964\n"
          ],
          "name": "stdout"
        }
      ]
    }
  ]
}