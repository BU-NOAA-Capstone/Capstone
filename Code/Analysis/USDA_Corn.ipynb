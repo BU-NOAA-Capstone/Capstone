{
  "nbformat": 4,
  "nbformat_minor": 0,
  "metadata": {
    "colab": {
      "name": "USDA_Corn.ipynb",
      "provenance": [],
      "collapsed_sections": []
    },
    "kernelspec": {
      "name": "python3",
      "display_name": "Python 3"
    },
    "language_info": {
      "name": "python"
    }
  },
  "cells": [
    {
      "cell_type": "code",
      "metadata": {
        "id": "XFX2ufcIsn9Y"
      },
      "source": [
        "import pandas as pd\n",
        "import seaborn as sns\n",
        "import matplotlib.pyplot as plt\n"
      ],
      "execution_count": 19,
      "outputs": []
    },
    {
      "cell_type": "code",
      "metadata": {
        "colab": {
          "base_uri": "https://localhost:8080/",
          "height": 202
        },
        "id": "MMYlw2Vqs1Zn",
        "outputId": "176499a5-b2fa-45ac-e1f3-87fa8d735a57"
      },
      "source": [
        "corn = pd.read_csv(\"Corn-NY-All.csv\")\n",
        "corn.head()\n"
      ],
      "execution_count": 20,
      "outputs": [
        {
          "output_type": "execute_result",
          "data": {
            "text/html": [
              "<div>\n",
              "<style scoped>\n",
              "    .dataframe tbody tr th:only-of-type {\n",
              "        vertical-align: middle;\n",
              "    }\n",
              "\n",
              "    .dataframe tbody tr th {\n",
              "        vertical-align: top;\n",
              "    }\n",
              "\n",
              "    .dataframe thead th {\n",
              "        text-align: right;\n",
              "    }\n",
              "</style>\n",
              "<table border=\"1\" class=\"dataframe\">\n",
              "  <thead>\n",
              "    <tr style=\"text-align: right;\">\n",
              "      <th></th>\n",
              "      <th>Program</th>\n",
              "      <th>Year</th>\n",
              "      <th>Period</th>\n",
              "      <th>Week Ending</th>\n",
              "      <th>Geo Level</th>\n",
              "      <th>State</th>\n",
              "      <th>State ANSI</th>\n",
              "      <th>Ag District</th>\n",
              "      <th>Ag District Code</th>\n",
              "      <th>County</th>\n",
              "      <th>County ANSI</th>\n",
              "      <th>Zip Code</th>\n",
              "      <th>Region</th>\n",
              "      <th>watershed_code</th>\n",
              "      <th>Watershed</th>\n",
              "      <th>Commodity</th>\n",
              "      <th>Data Item</th>\n",
              "      <th>Domain</th>\n",
              "      <th>Domain Category</th>\n",
              "      <th>Value</th>\n",
              "      <th>CV (%)</th>\n",
              "    </tr>\n",
              "  </thead>\n",
              "  <tbody>\n",
              "    <tr>\n",
              "      <th>0</th>\n",
              "      <td>CENSUS</td>\n",
              "      <td>2017</td>\n",
              "      <td>YEAR</td>\n",
              "      <td>NaN</td>\n",
              "      <td>COUNTY</td>\n",
              "      <td>NEW YORK</td>\n",
              "      <td>36</td>\n",
              "      <td>CENTRAL</td>\n",
              "      <td>50</td>\n",
              "      <td>CAYUGA</td>\n",
              "      <td>11.0</td>\n",
              "      <td>NaN</td>\n",
              "      <td>NaN</td>\n",
              "      <td>0</td>\n",
              "      <td>NaN</td>\n",
              "      <td>CORN</td>\n",
              "      <td>CORN - OPERATIONS WITH SALES</td>\n",
              "      <td>TOTAL</td>\n",
              "      <td>NOT SPECIFIED</td>\n",
              "      <td>260</td>\n",
              "      <td>24.2</td>\n",
              "    </tr>\n",
              "    <tr>\n",
              "      <th>1</th>\n",
              "      <td>CENSUS</td>\n",
              "      <td>2017</td>\n",
              "      <td>YEAR</td>\n",
              "      <td>NaN</td>\n",
              "      <td>COUNTY</td>\n",
              "      <td>NEW YORK</td>\n",
              "      <td>36</td>\n",
              "      <td>CENTRAL</td>\n",
              "      <td>50</td>\n",
              "      <td>CAYUGA</td>\n",
              "      <td>11.0</td>\n",
              "      <td>NaN</td>\n",
              "      <td>NaN</td>\n",
              "      <td>0</td>\n",
              "      <td>NaN</td>\n",
              "      <td>CORN</td>\n",
              "      <td>CORN - SALES, MEASURED IN $</td>\n",
              "      <td>TOTAL</td>\n",
              "      <td>NOT SPECIFIED</td>\n",
              "      <td>23,218,000</td>\n",
              "      <td>11.7</td>\n",
              "    </tr>\n",
              "    <tr>\n",
              "      <th>2</th>\n",
              "      <td>CENSUS</td>\n",
              "      <td>2017</td>\n",
              "      <td>YEAR</td>\n",
              "      <td>NaN</td>\n",
              "      <td>COUNTY</td>\n",
              "      <td>NEW YORK</td>\n",
              "      <td>36</td>\n",
              "      <td>CENTRAL</td>\n",
              "      <td>50</td>\n",
              "      <td>CAYUGA</td>\n",
              "      <td>11.0</td>\n",
              "      <td>NaN</td>\n",
              "      <td>NaN</td>\n",
              "      <td>0</td>\n",
              "      <td>NaN</td>\n",
              "      <td>CORN</td>\n",
              "      <td>CORN, GRAIN - ACRES HARVESTED</td>\n",
              "      <td>TOTAL</td>\n",
              "      <td>NOT SPECIFIED</td>\n",
              "      <td>27,223</td>\n",
              "      <td>12.4</td>\n",
              "    </tr>\n",
              "    <tr>\n",
              "      <th>3</th>\n",
              "      <td>CENSUS</td>\n",
              "      <td>2017</td>\n",
              "      <td>YEAR</td>\n",
              "      <td>NaN</td>\n",
              "      <td>COUNTY</td>\n",
              "      <td>NEW YORK</td>\n",
              "      <td>36</td>\n",
              "      <td>CENTRAL</td>\n",
              "      <td>50</td>\n",
              "      <td>CAYUGA</td>\n",
              "      <td>11.0</td>\n",
              "      <td>NaN</td>\n",
              "      <td>NaN</td>\n",
              "      <td>0</td>\n",
              "      <td>NaN</td>\n",
              "      <td>CORN</td>\n",
              "      <td>CORN, GRAIN - OPERATIONS WITH AREA HARVESTED</td>\n",
              "      <td>AREA HARVESTED</td>\n",
              "      <td>AREA HARVESTED: (1,000 OR MORE ACRES)</td>\n",
              "      <td>3</td>\n",
              "      <td>9.2</td>\n",
              "    </tr>\n",
              "    <tr>\n",
              "      <th>4</th>\n",
              "      <td>CENSUS</td>\n",
              "      <td>2017</td>\n",
              "      <td>YEAR</td>\n",
              "      <td>NaN</td>\n",
              "      <td>COUNTY</td>\n",
              "      <td>NEW YORK</td>\n",
              "      <td>36</td>\n",
              "      <td>CENTRAL</td>\n",
              "      <td>50</td>\n",
              "      <td>CAYUGA</td>\n",
              "      <td>11.0</td>\n",
              "      <td>NaN</td>\n",
              "      <td>NaN</td>\n",
              "      <td>0</td>\n",
              "      <td>NaN</td>\n",
              "      <td>CORN</td>\n",
              "      <td>CORN, GRAIN - OPERATIONS WITH AREA HARVESTED</td>\n",
              "      <td>AREA HARVESTED</td>\n",
              "      <td>AREA HARVESTED: (1.0 TO 24.9 ACRES)</td>\n",
              "      <td>63</td>\n",
              "      <td>43.9</td>\n",
              "    </tr>\n",
              "  </tbody>\n",
              "</table>\n",
              "</div>"
            ],
            "text/plain": [
              "  Program  Year  ...       Value  CV (%)\n",
              "0  CENSUS  2017  ...         260    24.2\n",
              "1  CENSUS  2017  ...  23,218,000    11.7\n",
              "2  CENSUS  2017  ...      27,223    12.4\n",
              "3  CENSUS  2017  ...           3     9.2\n",
              "4  CENSUS  2017  ...          63    43.9\n",
              "\n",
              "[5 rows x 21 columns]"
            ]
          },
          "metadata": {
            "tags": []
          },
          "execution_count": 20
        }
      ]
    },
    {
      "cell_type": "markdown",
      "metadata": {
        "id": "WXOv8p-_8Bq0"
      },
      "source": [
        "Data Cleaning"
      ]
    },
    {
      "cell_type": "code",
      "metadata": {
        "colab": {
          "base_uri": "https://localhost:8080/",
          "height": 202
        },
        "id": "psQ1Ux-Js1ir",
        "outputId": "e99acda2-2bc8-40e4-b381-ea2ebb7dea80"
      },
      "source": [
        "#drop period, geo level, state, state ansi, week ending, zip code, region, commodity???, watershed_code, watershed bc everything is year\n",
        "corn.drop(columns =[\"Period\", \"Week Ending\", \"Geo Level\",\"State\", \"State ANSI\", \"Zip Code\",\"Region\",  \"watershed_code\", \"Watershed\"], axis=1, inplace=True)\n",
        "corn.head()"
      ],
      "execution_count": 21,
      "outputs": [
        {
          "output_type": "execute_result",
          "data": {
            "text/html": [
              "<div>\n",
              "<style scoped>\n",
              "    .dataframe tbody tr th:only-of-type {\n",
              "        vertical-align: middle;\n",
              "    }\n",
              "\n",
              "    .dataframe tbody tr th {\n",
              "        vertical-align: top;\n",
              "    }\n",
              "\n",
              "    .dataframe thead th {\n",
              "        text-align: right;\n",
              "    }\n",
              "</style>\n",
              "<table border=\"1\" class=\"dataframe\">\n",
              "  <thead>\n",
              "    <tr style=\"text-align: right;\">\n",
              "      <th></th>\n",
              "      <th>Program</th>\n",
              "      <th>Year</th>\n",
              "      <th>Ag District</th>\n",
              "      <th>Ag District Code</th>\n",
              "      <th>County</th>\n",
              "      <th>County ANSI</th>\n",
              "      <th>Commodity</th>\n",
              "      <th>Data Item</th>\n",
              "      <th>Domain</th>\n",
              "      <th>Domain Category</th>\n",
              "      <th>Value</th>\n",
              "      <th>CV (%)</th>\n",
              "    </tr>\n",
              "  </thead>\n",
              "  <tbody>\n",
              "    <tr>\n",
              "      <th>0</th>\n",
              "      <td>CENSUS</td>\n",
              "      <td>2017</td>\n",
              "      <td>CENTRAL</td>\n",
              "      <td>50</td>\n",
              "      <td>CAYUGA</td>\n",
              "      <td>11.0</td>\n",
              "      <td>CORN</td>\n",
              "      <td>CORN - OPERATIONS WITH SALES</td>\n",
              "      <td>TOTAL</td>\n",
              "      <td>NOT SPECIFIED</td>\n",
              "      <td>260</td>\n",
              "      <td>24.2</td>\n",
              "    </tr>\n",
              "    <tr>\n",
              "      <th>1</th>\n",
              "      <td>CENSUS</td>\n",
              "      <td>2017</td>\n",
              "      <td>CENTRAL</td>\n",
              "      <td>50</td>\n",
              "      <td>CAYUGA</td>\n",
              "      <td>11.0</td>\n",
              "      <td>CORN</td>\n",
              "      <td>CORN - SALES, MEASURED IN $</td>\n",
              "      <td>TOTAL</td>\n",
              "      <td>NOT SPECIFIED</td>\n",
              "      <td>23,218,000</td>\n",
              "      <td>11.7</td>\n",
              "    </tr>\n",
              "    <tr>\n",
              "      <th>2</th>\n",
              "      <td>CENSUS</td>\n",
              "      <td>2017</td>\n",
              "      <td>CENTRAL</td>\n",
              "      <td>50</td>\n",
              "      <td>CAYUGA</td>\n",
              "      <td>11.0</td>\n",
              "      <td>CORN</td>\n",
              "      <td>CORN, GRAIN - ACRES HARVESTED</td>\n",
              "      <td>TOTAL</td>\n",
              "      <td>NOT SPECIFIED</td>\n",
              "      <td>27,223</td>\n",
              "      <td>12.4</td>\n",
              "    </tr>\n",
              "    <tr>\n",
              "      <th>3</th>\n",
              "      <td>CENSUS</td>\n",
              "      <td>2017</td>\n",
              "      <td>CENTRAL</td>\n",
              "      <td>50</td>\n",
              "      <td>CAYUGA</td>\n",
              "      <td>11.0</td>\n",
              "      <td>CORN</td>\n",
              "      <td>CORN, GRAIN - OPERATIONS WITH AREA HARVESTED</td>\n",
              "      <td>AREA HARVESTED</td>\n",
              "      <td>AREA HARVESTED: (1,000 OR MORE ACRES)</td>\n",
              "      <td>3</td>\n",
              "      <td>9.2</td>\n",
              "    </tr>\n",
              "    <tr>\n",
              "      <th>4</th>\n",
              "      <td>CENSUS</td>\n",
              "      <td>2017</td>\n",
              "      <td>CENTRAL</td>\n",
              "      <td>50</td>\n",
              "      <td>CAYUGA</td>\n",
              "      <td>11.0</td>\n",
              "      <td>CORN</td>\n",
              "      <td>CORN, GRAIN - OPERATIONS WITH AREA HARVESTED</td>\n",
              "      <td>AREA HARVESTED</td>\n",
              "      <td>AREA HARVESTED: (1.0 TO 24.9 ACRES)</td>\n",
              "      <td>63</td>\n",
              "      <td>43.9</td>\n",
              "    </tr>\n",
              "  </tbody>\n",
              "</table>\n",
              "</div>"
            ],
            "text/plain": [
              "  Program  Year  ...       Value  CV (%)\n",
              "0  CENSUS  2017  ...         260    24.2\n",
              "1  CENSUS  2017  ...  23,218,000    11.7\n",
              "2  CENSUS  2017  ...      27,223    12.4\n",
              "3  CENSUS  2017  ...           3     9.2\n",
              "4  CENSUS  2017  ...          63    43.9\n",
              "\n",
              "[5 rows x 12 columns]"
            ]
          },
          "metadata": {
            "tags": []
          },
          "execution_count": 21
        }
      ]
    },
    {
      "cell_type": "code",
      "metadata": {
        "colab": {
          "base_uri": "https://localhost:8080/"
        },
        "id": "FtJ2v5M6s1lA",
        "outputId": "45763526-e949-4985-c689-b4afefb2ccfd"
      },
      "source": [
        "corn.info()"
      ],
      "execution_count": 22,
      "outputs": [
        {
          "output_type": "stream",
          "text": [
            "<class 'pandas.core.frame.DataFrame'>\n",
            "RangeIndex: 21706 entries, 0 to 21705\n",
            "Data columns (total 12 columns):\n",
            " #   Column            Non-Null Count  Dtype  \n",
            "---  ------            --------------  -----  \n",
            " 0   Program           21706 non-null  object \n",
            " 1   Year              21706 non-null  int64  \n",
            " 2   Ag District       21706 non-null  object \n",
            " 3   Ag District Code  21706 non-null  int64  \n",
            " 4   County            21706 non-null  object \n",
            " 5   County ANSI       21081 non-null  float64\n",
            " 6   Commodity         21706 non-null  object \n",
            " 7   Data Item         21706 non-null  object \n",
            " 8   Domain            21706 non-null  object \n",
            " 9   Domain Category   21706 non-null  object \n",
            " 10  Value             21706 non-null  object \n",
            " 11  CV (%)            2045 non-null   object \n",
            "dtypes: float64(1), int64(2), object(9)\n",
            "memory usage: 2.0+ MB\n"
          ],
          "name": "stdout"
        }
      ]
    },
    {
      "cell_type": "markdown",
      "metadata": {
        "id": "YnOBgtQtaXUo"
      },
      "source": [
        "Things to Note:\n",
        "\n",
        "1) There are D values, in both Value and CV % - Published data value or suppression reason code. There was no specific pattern oberved for the D value, for now we will drop them since it is 203 observations\n",
        "\n",
        "2) there are many CV missing values, this is not a column of interest, we chose value to aid the analysis\n",
        "\n",
        "3) Coefficient of variation. Available for the 2012 Census of Agriculture only. County-level CVs are generalized."
      ]
    },
    {
      "cell_type": "code",
      "metadata": {
        "colab": {
          "base_uri": "https://localhost:8080/"
        },
        "id": "dMC-Gpxs1nbE",
        "outputId": "834fbc26-5303-450d-ca8f-36035e063fcf"
      },
      "source": [
        "corn.nunique()"
      ],
      "execution_count": 23,
      "outputs": [
        {
          "output_type": "execute_result",
          "data": {
            "text/plain": [
              "Program                2\n",
              "Year                  48\n",
              "Ag District            9\n",
              "Ag District Code       9\n",
              "County                58\n",
              "County ANSI           57\n",
              "Commodity              1\n",
              "Data Item             22\n",
              "Domain                 2\n",
              "Domain Category        8\n",
              "Value               5610\n",
              "CV (%)                43\n",
              "dtype: int64"
            ]
          },
          "metadata": {
            "tags": []
          },
          "execution_count": 23
        }
      ]
    },
    {
      "cell_type": "code",
      "metadata": {
        "id": "5in4uoJGwvPJ"
      },
      "source": [
        "#casting data types\n",
        "corn = corn.drop(corn[corn.Value == \" (D)\"].index)\n",
        "\n",
        "corn.replace(',','', regex=True, inplace=True)\n",
        "\n",
        "corn['Value'] = corn['Value'].astype('float64')\n",
        "corn['Program'] = corn['Program'].astype('category')\n",
        "corn['Ag District'] = corn['Ag District'].astype('category')\n",
        "\n",
        "corn['County'] = corn['County'].astype('category')\n",
        "corn['Commodity'] = corn['Commodity'].astype('string')\n",
        "corn['Data Item'] = corn['Data Item'].astype('category')\n",
        "corn['Domain'] = corn['Domain'].astype('category')\n",
        "corn['Domain Category'] = corn['Domain Category'].astype('category')"
      ],
      "execution_count": 24,
      "outputs": []
    },
    {
      "cell_type": "code",
      "metadata": {
        "colab": {
          "base_uri": "https://localhost:8080/"
        },
        "id": "IhBqnNecs1nc",
        "outputId": "4636d914-f154-4272-df66-92d5271ea6e5"
      },
      "source": [
        "#check to see that everything casted properly into the correct data type\n",
        "corn.isnull().sum()\n",
        "corn.head()\n",
        "corn.info()"
      ],
      "execution_count": 25,
      "outputs": [
        {
          "output_type": "stream",
          "text": [
            "<class 'pandas.core.frame.DataFrame'>\n",
            "Int64Index: 21463 entries, 0 to 21705\n",
            "Data columns (total 12 columns):\n",
            " #   Column            Non-Null Count  Dtype   \n",
            "---  ------            --------------  -----   \n",
            " 0   Program           21463 non-null  category\n",
            " 1   Year              21463 non-null  int64   \n",
            " 2   Ag District       21463 non-null  category\n",
            " 3   Ag District Code  21463 non-null  int64   \n",
            " 4   County            21463 non-null  category\n",
            " 5   County ANSI       20838 non-null  float64 \n",
            " 6   Commodity         21463 non-null  string  \n",
            " 7   Data Item         21463 non-null  category\n",
            " 8   Domain            21463 non-null  category\n",
            " 9   Domain Category   21463 non-null  category\n",
            " 10  Value             21463 non-null  float64 \n",
            " 11  CV (%)            1946 non-null   object  \n",
            "dtypes: category(6), float64(2), int64(2), object(1), string(1)\n",
            "memory usage: 1.3+ MB\n"
          ],
          "name": "stdout"
        }
      ]
    },
    {
      "cell_type": "markdown",
      "metadata": {
        "id": "38QcJ5arbL5u"
      },
      "source": [
        "Agricultural District vs. Corn output\n",
        "\n",
        "\n",
        "*   Western, Centrak, Northern and Southwest districts seem to have produced the most corn over the years\n",
        "\n",
        "\n",
        "\n"
      ]
    },
    {
      "cell_type": "code",
      "metadata": {
        "colab": {
          "base_uri": "https://localhost:8080/",
          "height": 421
        },
        "id": "Hvg07Zc-vk11",
        "outputId": "f6701070-11ab-436a-8204-0b1197c15a1f"
      },
      "source": [
        "\n",
        "plt.figure(figsize=(12,6))\n",
        "plt.title(\"Corn output by Agricultural District\")\n",
        "\n",
        "sns.barplot(x=\"Ag District\", y=\"Value\", data=corn)\n",
        "\n",
        "plt.xlabel('Agricultural District')\n",
        "plt.ylabel('Corn Output')"
      ],
      "execution_count": 26,
      "outputs": [
        {
          "output_type": "execute_result",
          "data": {
            "text/plain": [
              "Text(0, 0.5, 'Corn Output')"
            ]
          },
          "metadata": {
            "tags": []
          },
          "execution_count": 26
        },
        {
          "output_type": "display_data",
          "data": {
            "image/png": "[encoded data removed]",
            "text/plain": [
              "<Figure size 864x432 with 1 Axes>"
            ]
          },
          "metadata": {
            "tags": [],
            "needs_background": "light"
          }
        }
      ]
    },
    {
      "cell_type": "code",
      "metadata": {
        "colab": {
          "base_uri": "https://localhost:8080/",
          "height": 405
        },
        "id": "p_0dZxLAAoEe",
        "outputId": "64d80d5a-719d-4548-cc69-5f7d4fabd455"
      },
      "source": [
        "#shall I delete??? I am not sure what business value this brings.\n",
        "sns.barplot(x=\"Domain\", y=\"Value\", data=corn)\n",
        "corn.groupby(\"Domain\").sum()"
      ],
      "execution_count": 27,
      "outputs": [
        {
          "output_type": "execute_result",
          "data": {
            "text/html": [
              "<div>\n",
              "<style scoped>\n",
              "    .dataframe tbody tr th:only-of-type {\n",
              "        vertical-align: middle;\n",
              "    }\n",
              "\n",
              "    .dataframe tbody tr th {\n",
              "        vertical-align: top;\n",
              "    }\n",
              "\n",
              "    .dataframe thead th {\n",
              "        text-align: right;\n",
              "    }\n",
              "</style>\n",
              "<table border=\"1\" class=\"dataframe\">\n",
              "  <thead>\n",
              "    <tr style=\"text-align: right;\">\n",
              "      <th></th>\n",
              "      <th>Year</th>\n",
              "      <th>Ag District Code</th>\n",
              "      <th>County ANSI</th>\n",
              "      <th>Value</th>\n",
              "    </tr>\n",
              "    <tr>\n",
              "      <th>Domain</th>\n",
              "      <th></th>\n",
              "      <th></th>\n",
              "      <th></th>\n",
              "      <th></th>\n",
              "    </tr>\n",
              "  </thead>\n",
              "  <tbody>\n",
              "    <tr>\n",
              "      <th>AREA HARVESTED</th>\n",
              "      <td>4167363</td>\n",
              "      <td>114462</td>\n",
              "      <td>123028.0</td>\n",
              "      <td>3.841600e+04</td>\n",
              "    </tr>\n",
              "    <tr>\n",
              "      <th>TOTAL</th>\n",
              "      <td>38686129</td>\n",
              "      <td>1107405</td>\n",
              "      <td>1140344.0</td>\n",
              "      <td>5.185931e+09</td>\n",
              "    </tr>\n",
              "  </tbody>\n",
              "</table>\n",
              "</div>"
            ],
            "text/plain": [
              "                    Year  Ag District Code  County ANSI         Value\n",
              "Domain                                                               \n",
              "AREA HARVESTED   4167363            114462     123028.0  3.841600e+04\n",
              "TOTAL           38686129           1107405    1140344.0  5.185931e+09"
            ]
          },
          "metadata": {
            "tags": []
          },
          "execution_count": 27
        },
        {
          "output_type": "display_data",
          "data": {
            "image/png": "[encoded data removed]",
            "text/plain": [
              "<Figure size 432x288 with 1 Axes>"
            ]
          },
          "metadata": {
            "tags": [],
            "needs_background": "light"
          }
        }
      ]
    },
    {
      "cell_type": "markdown",
      "metadata": {
        "id": "wmYpSWI_b9KH"
      },
      "source": [
        "domain category vs. value\n",
        "*   As we increase the area the value of corn goes down\n",
        "\n",
        "\n"
      ]
    },
    {
      "cell_type": "code",
      "metadata": {
        "colab": {
          "base_uri": "https://localhost:8080/",
          "height": 294
        },
        "id": "1_zH7-wuvlFU",
        "outputId": "ba3c37de-6ada-418d-a68e-431a9c948ba9"
      },
      "source": [
        "\n",
        "dc = corn.groupby(\"Domain Category\")[[\"Value\"]].sum().reset_index()\n",
        "dc\n"
      ],
      "execution_count": 28,
      "outputs": [
        {
          "output_type": "execute_result",
          "data": {
            "text/html": [
              "<div>\n",
              "<style scoped>\n",
              "    .dataframe tbody tr th:only-of-type {\n",
              "        vertical-align: middle;\n",
              "    }\n",
              "\n",
              "    .dataframe tbody tr th {\n",
              "        vertical-align: top;\n",
              "    }\n",
              "\n",
              "    .dataframe thead th {\n",
              "        text-align: right;\n",
              "    }\n",
              "</style>\n",
              "<table border=\"1\" class=\"dataframe\">\n",
              "  <thead>\n",
              "    <tr style=\"text-align: right;\">\n",
              "      <th></th>\n",
              "      <th>Domain Category</th>\n",
              "      <th>Value</th>\n",
              "    </tr>\n",
              "  </thead>\n",
              "  <tbody>\n",
              "    <tr>\n",
              "      <th>0</th>\n",
              "      <td>AREA HARVESTED: (1.0 TO 24.9 ACRES)</td>\n",
              "      <td>1.252600e+04</td>\n",
              "    </tr>\n",
              "    <tr>\n",
              "      <th>1</th>\n",
              "      <td>AREA HARVESTED: (100 TO 249 ACRES)</td>\n",
              "      <td>5.973000e+03</td>\n",
              "    </tr>\n",
              "    <tr>\n",
              "      <th>2</th>\n",
              "      <td>AREA HARVESTED: (1000 OR MORE ACRES)</td>\n",
              "      <td>5.560000e+02</td>\n",
              "    </tr>\n",
              "    <tr>\n",
              "      <th>3</th>\n",
              "      <td>AREA HARVESTED: (25.0 TO 99.9 ACRES)</td>\n",
              "      <td>1.555300e+04</td>\n",
              "    </tr>\n",
              "    <tr>\n",
              "      <th>4</th>\n",
              "      <td>AREA HARVESTED: (250 TO 499 ACRES)</td>\n",
              "      <td>2.286000e+03</td>\n",
              "    </tr>\n",
              "    <tr>\n",
              "      <th>5</th>\n",
              "      <td>AREA HARVESTED: (500 OR MORE ACRES)</td>\n",
              "      <td>3.270000e+02</td>\n",
              "    </tr>\n",
              "    <tr>\n",
              "      <th>6</th>\n",
              "      <td>AREA HARVESTED: (500 TO 999 ACRES)</td>\n",
              "      <td>1.195000e+03</td>\n",
              "    </tr>\n",
              "    <tr>\n",
              "      <th>7</th>\n",
              "      <td>NOT SPECIFIED</td>\n",
              "      <td>5.185931e+09</td>\n",
              "    </tr>\n",
              "  </tbody>\n",
              "</table>\n",
              "</div>"
            ],
            "text/plain": [
              "                        Domain Category         Value\n",
              "0   AREA HARVESTED: (1.0 TO 24.9 ACRES)  1.252600e+04\n",
              "1    AREA HARVESTED: (100 TO 249 ACRES)  5.973000e+03\n",
              "2  AREA HARVESTED: (1000 OR MORE ACRES)  5.560000e+02\n",
              "3  AREA HARVESTED: (25.0 TO 99.9 ACRES)  1.555300e+04\n",
              "4    AREA HARVESTED: (250 TO 499 ACRES)  2.286000e+03\n",
              "5   AREA HARVESTED: (500 OR MORE ACRES)  3.270000e+02\n",
              "6    AREA HARVESTED: (500 TO 999 ACRES)  1.195000e+03\n",
              "7                         NOT SPECIFIED  5.185931e+09"
            ]
          },
          "metadata": {
            "tags": []
          },
          "execution_count": 28
        }
      ]
    },
    {
      "cell_type": "markdown",
      "metadata": {
        "id": "a6GGGMLmccAN"
      },
      "source": [
        "\n",
        "\n",
        "1.   Only CORN - ACRES PLANTED or CORN TRADITIONAL OR INDIAN IRRIGATED - OPERATIONS WITH AREA HARVESTED available, other options are nulls. \n",
        "\n",
        "\n"
      ]
    },
    {
      "cell_type": "code",
      "metadata": {
        "colab": {
          "base_uri": "https://localhost:8080/"
        },
        "id": "3S_6feZPVioa",
        "outputId": "c97580ea-0223-4567-b120-88eac1fa1d0f"
      },
      "source": [
        "di = corn.groupby([\"Data Item\", \"Year\"])[[\"Value\"]].sum().reset_index()\n",
        "di.isnull().sum()\n"
      ],
      "execution_count": 29,
      "outputs": [
        {
          "output_type": "execute_result",
          "data": {
            "text/plain": [
              "Data Item      0\n",
              "Year           0\n",
              "Value        619\n",
              "dtype: int64"
            ]
          },
          "metadata": {
            "tags": []
          },
          "execution_count": 29
        }
      ]
    },
    {
      "cell_type": "code",
      "metadata": {
        "colab": {
          "base_uri": "https://localhost:8080/",
          "height": 49
        },
        "id": "l52q78zHVGa3",
        "outputId": "d08836a9-a3f3-400a-f273-a78b7f7d3729"
      },
      "source": [
        "di[di[\"Data Item\"]==\"CORN - SALES, MEASURED IN $\"]"
      ],
      "execution_count": 30,
      "outputs": [
        {
          "output_type": "execute_result",
          "data": {
            "text/html": [
              "<div>\n",
              "<style scoped>\n",
              "    .dataframe tbody tr th:only-of-type {\n",
              "        vertical-align: middle;\n",
              "    }\n",
              "\n",
              "    .dataframe tbody tr th {\n",
              "        vertical-align: top;\n",
              "    }\n",
              "\n",
              "    .dataframe thead th {\n",
              "        text-align: right;\n",
              "    }\n",
              "</style>\n",
              "<table border=\"1\" class=\"dataframe\">\n",
              "  <thead>\n",
              "    <tr style=\"text-align: right;\">\n",
              "      <th></th>\n",
              "      <th>Data Item</th>\n",
              "      <th>Year</th>\n",
              "      <th>Value</th>\n",
              "    </tr>\n",
              "  </thead>\n",
              "  <tbody>\n",
              "  </tbody>\n",
              "</table>\n",
              "</div>"
            ],
            "text/plain": [
              "Empty DataFrame\n",
              "Columns: [Data Item, Year, Value]\n",
              "Index: []"
            ]
          },
          "metadata": {
            "tags": []
          },
          "execution_count": 30
        }
      ]
    },
    {
      "cell_type": "code",
      "metadata": {
        "colab": {
          "base_uri": "https://localhost:8080/",
          "height": 202
        },
        "id": "K9ZBt9sxbiQo",
        "outputId": "3dcb4fa7-f220-40d3-ebcc-d5177ad8957d"
      },
      "source": [
        "di_df = di[di[\"Data Item\"]==\"CORN - ACRES PLANTED\"]\n",
        "di_df.shape\n",
        "di_df.head()"
      ],
      "execution_count": 31,
      "outputs": [
        {
          "output_type": "execute_result",
          "data": {
            "text/html": [
              "<div>\n",
              "<style scoped>\n",
              "    .dataframe tbody tr th:only-of-type {\n",
              "        vertical-align: middle;\n",
              "    }\n",
              "\n",
              "    .dataframe tbody tr th {\n",
              "        vertical-align: top;\n",
              "    }\n",
              "\n",
              "    .dataframe thead th {\n",
              "        text-align: right;\n",
              "    }\n",
              "</style>\n",
              "<table border=\"1\" class=\"dataframe\">\n",
              "  <thead>\n",
              "    <tr style=\"text-align: right;\">\n",
              "      <th></th>\n",
              "      <th>Data Item</th>\n",
              "      <th>Year</th>\n",
              "      <th>Value</th>\n",
              "    </tr>\n",
              "  </thead>\n",
              "  <tbody>\n",
              "    <tr>\n",
              "      <th>0</th>\n",
              "      <td>CORN - ACRES PLANTED</td>\n",
              "      <td>1972</td>\n",
              "      <td>985000.0</td>\n",
              "    </tr>\n",
              "    <tr>\n",
              "      <th>1</th>\n",
              "      <td>CORN - ACRES PLANTED</td>\n",
              "      <td>1973</td>\n",
              "      <td>1070000.0</td>\n",
              "    </tr>\n",
              "    <tr>\n",
              "      <th>2</th>\n",
              "      <td>CORN - ACRES PLANTED</td>\n",
              "      <td>1974</td>\n",
              "      <td>1200000.0</td>\n",
              "    </tr>\n",
              "    <tr>\n",
              "      <th>3</th>\n",
              "      <td>CORN - ACRES PLANTED</td>\n",
              "      <td>1975</td>\n",
              "      <td>1230000.0</td>\n",
              "    </tr>\n",
              "    <tr>\n",
              "      <th>4</th>\n",
              "      <td>CORN - ACRES PLANTED</td>\n",
              "      <td>1976</td>\n",
              "      <td>1260000.0</td>\n",
              "    </tr>\n",
              "  </tbody>\n",
              "</table>\n",
              "</div>"
            ],
            "text/plain": [
              "              Data Item  Year      Value\n",
              "0  CORN - ACRES PLANTED  1972   985000.0\n",
              "1  CORN - ACRES PLANTED  1973  1070000.0\n",
              "2  CORN - ACRES PLANTED  1974  1200000.0\n",
              "3  CORN - ACRES PLANTED  1975  1230000.0\n",
              "4  CORN - ACRES PLANTED  1976  1260000.0"
            ]
          },
          "metadata": {
            "tags": []
          },
          "execution_count": 31
        }
      ]
    },
    {
      "cell_type": "markdown",
      "metadata": {
        "id": "y3TcHJt8dUb7"
      },
      "source": [
        "the amount of corn being planted is actually decreasing over time\n"
      ]
    },
    {
      "cell_type": "code",
      "metadata": {
        "colab": {
          "base_uri": "https://localhost:8080/",
          "height": 531
        },
        "id": "3ZpYwHYkcNtR",
        "outputId": "0a424c91-fc84-403d-bbe8-c39d852626c3"
      },
      "source": [
        "plt.figure(figsize=(12,8))\n",
        "plt.title(\"Corn Acres planted by Year\")\n",
        "sns.scatterplot(x=\"Year\", y=\"Value\", data=di_df)"
      ],
      "execution_count": 32,
      "outputs": [
        {
          "output_type": "execute_result",
          "data": {
            "text/plain": [
              "<matplotlib.axes._subplots.AxesSubplot at 0x7f3f6c3be650>"
            ]
          },
          "metadata": {
            "tags": []
          },
          "execution_count": 32
        },
        {
          "output_type": "display_data",
          "data": {
            "image/png": "[encoded data removed]",
            "text/plain": [
              "<Figure size 864x576 with 1 Axes>"
            ]
          },
          "metadata": {
            "tags": [],
            "needs_background": "light"
          }
        }
      ]
    },
    {
      "cell_type": "code",
      "metadata": {
        "colab": {
          "base_uri": "https://localhost:8080/"
        },
        "id": "_C-GzkyebpXK",
        "outputId": "6438fd43-d02d-47f3-e223-cfff76512105"
      },
      "source": [
        "corn.groupby([\"Data Item\", \"Year\"])[\"Value\"].sum()"
      ],
      "execution_count": 33,
      "outputs": [
        {
          "output_type": "execute_result",
          "data": {
            "text/plain": [
              "Data Item                                                              Year\n",
              "CORN - ACRES PLANTED                                                   1972     985000.0\n",
              "                                                                       1973    1070000.0\n",
              "                                                                       1974    1200000.0\n",
              "                                                                       1975    1230000.0\n",
              "                                                                       1976    1260000.0\n",
              "                                                                                 ...    \n",
              "CORN TRADITIONAL OR INDIAN IRRIGATED - OPERATIONS WITH AREA HARVESTED  2015          NaN\n",
              "                                                                       2016          NaN\n",
              "                                                                       2017          3.0\n",
              "                                                                       2018          NaN\n",
              "                                                                       2019          NaN\n",
              "Name: Value, Length: 1008, dtype: float64"
            ]
          },
          "metadata": {
            "tags": []
          },
          "execution_count": 33
        }
      ]
    },
    {
      "cell_type": "markdown",
      "metadata": {
        "id": "6cIuw6sldd7U"
      },
      "source": [
        "Some county stats"
      ]
    },
    {
      "cell_type": "code",
      "metadata": {
        "colab": {
          "base_uri": "https://localhost:8080/",
          "height": 911
        },
        "id": "2W20_J6DQt-P",
        "outputId": "15111764-f74a-424d-9d96-5a47d5abb5b9"
      },
      "source": [
        "plt.subplots(figsize=(6, 15))\n",
        "plt.title(\"Corn Output by County\")\n",
        "corn.sort_values(\"Value\", ascending=True)\n",
        "sns.set_color_codes(\"pastel\")\n",
        "sns.barplot(x=\"Value\", y=\"County\", data=corn,\n",
        "            label=\"Corn Output\", color=\"b\")\n"
      ],
      "execution_count": 34,
      "outputs": [
        {
          "output_type": "execute_result",
          "data": {
            "text/plain": [
              "<matplotlib.axes._subplots.AxesSubplot at 0x7f3f6c34ced0>"
            ]
          },
          "metadata": {
            "tags": []
          },
          "execution_count": 34
        },
        {
          "output_type": "display_data",
          "data": {
            "image/png": "[encoded data removed]",
            "text/plain": [
              "<Figure size 432x1080 with 1 Axes>"
            ]
          },
          "metadata": {
            "tags": [],
            "needs_background": "light"
          }
        }
      ]
    },
    {
      "cell_type": "markdown",
      "metadata": {
        "id": "lAwLm1_cdpHV"
      },
      "source": [
        "Top 10 counties by corn production"
      ]
    },
    {
      "cell_type": "code",
      "metadata": {
        "colab": {
          "base_uri": "https://localhost:8080/"
        },
        "id": "2w6wi1TVJJh-",
        "outputId": "53e61f74-8fe9-4c93-9f54-634df1b3ce06"
      },
      "source": [
        "top_counties = corn.groupby(\"County\").sum()\n",
        "top_counties.Value.sort_values(ascending=False)[:10]\n"
      ],
      "execution_count": 35,
      "outputs": [
        {
          "output_type": "execute_result",
          "data": {
            "text/plain": [
              "County\n",
              "CAYUGA                       400401948.5\n",
              "LIVINGSTON                   318007100.2\n",
              "ONTARIO                      288148702.7\n",
              "GENESEE                      241612004.5\n",
              "WAYNE                        240935849.1\n",
              "ORLEANS                      237818234.6\n",
              "ONONDAGA                     205082445.5\n",
              "SENECA                       202231153.1\n",
              "NIAGARA                      200239735.3\n",
              "OTHER (COMBINED) COUNTIES    193807246.0\n",
              "Name: Value, dtype: float64"
            ]
          },
          "metadata": {
            "tags": []
          },
          "execution_count": 35
        }
      ]
    },
    {
      "cell_type": "markdown",
      "metadata": {
        "id": "fbEOZbdcd4Py"
      },
      "source": [
        "Of the top five counties which have the highest corn production, here are their corresponding percentages. \n",
        "\n",
        "\n"
      ]
    },
    {
      "cell_type": "code",
      "metadata": {
        "colab": {
          "base_uri": "https://localhost:8080/",
          "height": 326
        },
        "id": "xGfLuB3xOCO_",
        "outputId": "54de6aec-483c-4547-a2c1-7963e052f0e0"
      },
      "source": [
        "plt.figure(figsize=(5,6))\n",
        "plt.title(\"Top 5 Corn Counties and output of corn contribution\")\n",
        "labels = \"CAYUGA\", \"LIVINGSTON\", \"ONTARIO\", \"GENESEE\", \"WAYNE\"\n",
        "values = [400401948.5, 318007100.2, 288148702.7, 241612004.5, 240935849.1]\n",
        "colors = \"red\", \"orange\", \"yellow\", \"green\", \"blue\", \"purple\"\n",
        "plt.pie(values, labels=labels, colors=colors, autopct=\"%1.1f%%\");"
      ],
      "execution_count": 36,
      "outputs": [
        {
          "output_type": "display_data",
          "data": {
            "image/png": "[encoded data removed]",
            "text/plain": [
              "<Figure size 360x432 with 1 Axes>"
            ]
          },
          "metadata": {
            "tags": []
          }
        }
      ]
    },
    {
      "cell_type": "markdown",
      "metadata": {
        "id": "ueso05CBeSUT"
      },
      "source": [
        "How corn output has changed over the years, stagnant from 70s-2000s, however peaked in recent years."
      ]
    },
    {
      "cell_type": "code",
      "metadata": {
        "colab": {
          "base_uri": "https://localhost:8080/",
          "height": 313
        },
        "id": "EuvfPbvOHD2p",
        "outputId": "d15bca15-1237-4d47-d997-40d93c7b36ad"
      },
      "source": [
        "cy = corn.groupby(\"Year\")[[\"Value\"]].sum()\n",
        "#Corn Values over the years\n",
        "plt.title(\"Corn Values over the Years\")\n",
        "sns.lineplot(x=\"Year\", y=\"Value\", data = cy)"
      ],
      "execution_count": 37,
      "outputs": [
        {
          "output_type": "execute_result",
          "data": {
            "text/plain": [
              "<matplotlib.axes._subplots.AxesSubplot at 0x7f3f6c0aad10>"
            ]
          },
          "metadata": {
            "tags": []
          },
          "execution_count": 37
        },
        {
          "output_type": "display_data",
          "data": {
            "image/png": "[encoded data removed]",
            "text/plain": [
              "<Figure size 432x288 with 1 Axes>"
            ]
          },
          "metadata": {
            "tags": [],
            "needs_background": "light"
          }
        }
      ]
    },
    {
      "cell_type": "markdown",
      "metadata": {
        "id": "YLVnDpqRhVyx"
      },
      "source": [
        "Now recent years"
      ]
    },
    {
      "cell_type": "code",
      "metadata": {
        "id": "rD_SznFlDQBa",
        "colab": {
          "base_uri": "https://localhost:8080/",
          "height": 415
        },
        "outputId": "fdb580db-2716-413f-a18c-0c3e9a5bb8de"
      },
      "source": [
        "\n",
        "recent = corn[corn[\"Year\"]>=2015]\n",
        "recent"
      ],
      "execution_count": 45,
      "outputs": [
        {
          "output_type": "execute_result",
          "data": {
            "text/html": [
              "<div>\n",
              "<style scoped>\n",
              "    .dataframe tbody tr th:only-of-type {\n",
              "        vertical-align: middle;\n",
              "    }\n",
              "\n",
              "    .dataframe tbody tr th {\n",
              "        vertical-align: top;\n",
              "    }\n",
              "\n",
              "    .dataframe thead th {\n",
              "        text-align: right;\n",
              "    }\n",
              "</style>\n",
              "<table border=\"1\" class=\"dataframe\">\n",
              "  <thead>\n",
              "    <tr style=\"text-align: right;\">\n",
              "      <th></th>\n",
              "      <th>Program</th>\n",
              "      <th>Year</th>\n",
              "      <th>Ag District</th>\n",
              "      <th>Ag District Code</th>\n",
              "      <th>County</th>\n",
              "      <th>County ANSI</th>\n",
              "      <th>Commodity</th>\n",
              "      <th>Data Item</th>\n",
              "      <th>Domain</th>\n",
              "      <th>Domain Category</th>\n",
              "      <th>Value</th>\n",
              "      <th>CV (%)</th>\n",
              "    </tr>\n",
              "  </thead>\n",
              "  <tbody>\n",
              "    <tr>\n",
              "      <th>0</th>\n",
              "      <td>CENSUS</td>\n",
              "      <td>2017</td>\n",
              "      <td>CENTRAL</td>\n",
              "      <td>50</td>\n",
              "      <td>CAYUGA</td>\n",
              "      <td>11.0</td>\n",
              "      <td>CORN</td>\n",
              "      <td>CORN - OPERATIONS WITH SALES</td>\n",
              "      <td>TOTAL</td>\n",
              "      <td>NOT SPECIFIED</td>\n",
              "      <td>260.0</td>\n",
              "      <td>24.2</td>\n",
              "    </tr>\n",
              "    <tr>\n",
              "      <th>1</th>\n",
              "      <td>CENSUS</td>\n",
              "      <td>2017</td>\n",
              "      <td>CENTRAL</td>\n",
              "      <td>50</td>\n",
              "      <td>CAYUGA</td>\n",
              "      <td>11.0</td>\n",
              "      <td>CORN</td>\n",
              "      <td>CORN - SALES MEASURED IN $</td>\n",
              "      <td>TOTAL</td>\n",
              "      <td>NOT SPECIFIED</td>\n",
              "      <td>23218000.0</td>\n",
              "      <td>11.7</td>\n",
              "    </tr>\n",
              "    <tr>\n",
              "      <th>2</th>\n",
              "      <td>CENSUS</td>\n",
              "      <td>2017</td>\n",
              "      <td>CENTRAL</td>\n",
              "      <td>50</td>\n",
              "      <td>CAYUGA</td>\n",
              "      <td>11.0</td>\n",
              "      <td>CORN</td>\n",
              "      <td>CORN GRAIN - ACRES HARVESTED</td>\n",
              "      <td>TOTAL</td>\n",
              "      <td>NOT SPECIFIED</td>\n",
              "      <td>27223.0</td>\n",
              "      <td>12.4</td>\n",
              "    </tr>\n",
              "    <tr>\n",
              "      <th>3</th>\n",
              "      <td>CENSUS</td>\n",
              "      <td>2017</td>\n",
              "      <td>CENTRAL</td>\n",
              "      <td>50</td>\n",
              "      <td>CAYUGA</td>\n",
              "      <td>11.0</td>\n",
              "      <td>CORN</td>\n",
              "      <td>CORN GRAIN - OPERATIONS WITH AREA HARVESTED</td>\n",
              "      <td>AREA HARVESTED</td>\n",
              "      <td>AREA HARVESTED: (1000 OR MORE ACRES)</td>\n",
              "      <td>3.0</td>\n",
              "      <td>9.2</td>\n",
              "    </tr>\n",
              "    <tr>\n",
              "      <th>4</th>\n",
              "      <td>CENSUS</td>\n",
              "      <td>2017</td>\n",
              "      <td>CENTRAL</td>\n",
              "      <td>50</td>\n",
              "      <td>CAYUGA</td>\n",
              "      <td>11.0</td>\n",
              "      <td>CORN</td>\n",
              "      <td>CORN GRAIN - OPERATIONS WITH AREA HARVESTED</td>\n",
              "      <td>AREA HARVESTED</td>\n",
              "      <td>AREA HARVESTED: (1.0 TO 24.9 ACRES)</td>\n",
              "      <td>63.0</td>\n",
              "      <td>43.9</td>\n",
              "    </tr>\n",
              "    <tr>\n",
              "      <th>...</th>\n",
              "      <td>...</td>\n",
              "      <td>...</td>\n",
              "      <td>...</td>\n",
              "      <td>...</td>\n",
              "      <td>...</td>\n",
              "      <td>...</td>\n",
              "      <td>...</td>\n",
              "      <td>...</td>\n",
              "      <td>...</td>\n",
              "      <td>...</td>\n",
              "      <td>...</td>\n",
              "      <td>...</td>\n",
              "    </tr>\n",
              "    <tr>\n",
              "      <th>5762</th>\n",
              "      <td>SURVEY</td>\n",
              "      <td>2015</td>\n",
              "      <td>WESTERN</td>\n",
              "      <td>40</td>\n",
              "      <td>YATES</td>\n",
              "      <td>123.0</td>\n",
              "      <td>CORN</td>\n",
              "      <td>CORN GRAIN - PRODUCTION MEASURED IN BU</td>\n",
              "      <td>TOTAL</td>\n",
              "      <td>NOT SPECIFIED</td>\n",
              "      <td>1625000.0</td>\n",
              "      <td>NaN</td>\n",
              "    </tr>\n",
              "    <tr>\n",
              "      <th>5763</th>\n",
              "      <td>SURVEY</td>\n",
              "      <td>2015</td>\n",
              "      <td>WESTERN</td>\n",
              "      <td>40</td>\n",
              "      <td>YATES</td>\n",
              "      <td>123.0</td>\n",
              "      <td>CORN</td>\n",
              "      <td>CORN GRAIN - YIELD MEASURED IN BU / ACRE</td>\n",
              "      <td>TOTAL</td>\n",
              "      <td>NOT SPECIFIED</td>\n",
              "      <td>156.3</td>\n",
              "      <td>NaN</td>\n",
              "    </tr>\n",
              "    <tr>\n",
              "      <th>5764</th>\n",
              "      <td>SURVEY</td>\n",
              "      <td>2015</td>\n",
              "      <td>WESTERN</td>\n",
              "      <td>40</td>\n",
              "      <td>YATES</td>\n",
              "      <td>123.0</td>\n",
              "      <td>CORN</td>\n",
              "      <td>CORN SILAGE - ACRES HARVESTED</td>\n",
              "      <td>TOTAL</td>\n",
              "      <td>NOT SPECIFIED</td>\n",
              "      <td>5500.0</td>\n",
              "      <td>NaN</td>\n",
              "    </tr>\n",
              "    <tr>\n",
              "      <th>5765</th>\n",
              "      <td>SURVEY</td>\n",
              "      <td>2015</td>\n",
              "      <td>WESTERN</td>\n",
              "      <td>40</td>\n",
              "      <td>YATES</td>\n",
              "      <td>123.0</td>\n",
              "      <td>CORN</td>\n",
              "      <td>CORN SILAGE - PRODUCTION MEASURED IN TONS</td>\n",
              "      <td>TOTAL</td>\n",
              "      <td>NOT SPECIFIED</td>\n",
              "      <td>90000.0</td>\n",
              "      <td>NaN</td>\n",
              "    </tr>\n",
              "    <tr>\n",
              "      <th>5766</th>\n",
              "      <td>SURVEY</td>\n",
              "      <td>2015</td>\n",
              "      <td>WESTERN</td>\n",
              "      <td>40</td>\n",
              "      <td>YATES</td>\n",
              "      <td>123.0</td>\n",
              "      <td>CORN</td>\n",
              "      <td>CORN SILAGE - YIELD MEASURED IN TONS / ACRE</td>\n",
              "      <td>TOTAL</td>\n",
              "      <td>NOT SPECIFIED</td>\n",
              "      <td>16.5</td>\n",
              "      <td>NaN</td>\n",
              "    </tr>\n",
              "  </tbody>\n",
              "</table>\n",
              "<p>2301 rows × 12 columns</p>\n",
              "</div>"
            ],
            "text/plain": [
              "     Program  Year  ...       Value  CV (%)\n",
              "0     CENSUS  2017  ...       260.0    24.2\n",
              "1     CENSUS  2017  ...  23218000.0    11.7\n",
              "2     CENSUS  2017  ...     27223.0    12.4\n",
              "3     CENSUS  2017  ...         3.0     9.2\n",
              "4     CENSUS  2017  ...        63.0    43.9\n",
              "...      ...   ...  ...         ...     ...\n",
              "5762  SURVEY  2015  ...   1625000.0     NaN\n",
              "5763  SURVEY  2015  ...       156.3     NaN\n",
              "5764  SURVEY  2015  ...      5500.0     NaN\n",
              "5765  SURVEY  2015  ...     90000.0     NaN\n",
              "5766  SURVEY  2015  ...        16.5     NaN\n",
              "\n",
              "[2301 rows x 12 columns]"
            ]
          },
          "metadata": {
            "tags": []
          },
          "execution_count": 45
        }
      ]
    },
    {
      "cell_type": "markdown",
      "metadata": {
        "id": "JJcxgz3DimTa"
      },
      "source": [
        "Consistent with what was found from above"
      ]
    },
    {
      "cell_type": "code",
      "metadata": {
        "colab": {
          "base_uri": "https://localhost:8080/",
          "height": 417
        },
        "id": "HOtph61niEFe",
        "outputId": "7a3af835-bb41-47f6-b99c-c0dd883b3f65"
      },
      "source": [
        "plt.figure(figsize=(10,6))\n",
        "sns.barplot(x=\"Ag District\", y=\"Value\", data=recent)"
      ],
      "execution_count": 50,
      "outputs": [
        {
          "output_type": "execute_result",
          "data": {
            "text/plain": [
              "<matplotlib.axes._subplots.AxesSubplot at 0x7f3f676e2b50>"
            ]
          },
          "metadata": {
            "tags": []
          },
          "execution_count": 50
        },
        {
          "output_type": "display_data",
          "data": {
            "image/png": "[encoded data removed]",
            "text/plain": [
              "<Figure size 720x432 with 1 Axes>"
            ]
          },
          "metadata": {
            "tags": [],
            "needs_background": "light"
          }
        }
      ]
    },
    {
      "cell_type": "code",
      "metadata": {
        "id": "i5vFfiizjDqr"
      },
      "source": [
        ""
      ],
      "execution_count": null,
      "outputs": []
    },
    {
      "cell_type": "code",
      "metadata": {
        "id": "YAg3NkJXkcI3"
      },
      "source": [
        "\n"
      ],
      "execution_count": null,
      "outputs": []
    }
  ]
}