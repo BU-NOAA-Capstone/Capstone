{
 "cells": [
  {
   "cell_type": "markdown",
   "id": "agricultural-reality",
   "metadata": {},
   "source": [
    "### This file takes in USDA and EDDI dataset and analyses the two in relation to each other"
   ]
  },
  {
   "cell_type": "code",
   "execution_count": 2,
   "id": "conventional-parcel",
   "metadata": {},
   "outputs": [],
   "source": [
    "import numpy as np\n",
    "import pandas as pd"
   ]
  },
  {
   "cell_type": "code",
   "execution_count": 5,
   "id": "connected-sword",
   "metadata": {},
   "outputs": [],
   "source": [
    "# Importing Corn NY data\n",
    "corn_ny = pd.read_csv('../../datasets/Corn-NY-All.csv')"
   ]
  },
  {
   "cell_type": "code",
   "execution_count": null,
   "id": "forty-management",
   "metadata": {},
   "outputs": [],
   "source": [
    "# Importing EDDI datasets\n"
   ]
  },
  {
   "cell_type": "code",
   "execution_count": null,
   "id": "documented-paradise",
   "metadata": {},
   "outputs": [],
   "source": []
  },
  {
   "cell_type": "code",
   "execution_count": null,
   "id": "furnished-fourth",
   "metadata": {},
   "outputs": [],
   "source": []
  }
 ],
 "metadata": {
  "kernelspec": {
   "display_name": "Python 3",
   "language": "python",
   "name": "python3"
  },
  "language_info": {
   "codemirror_mode": {
    "name": "ipython",
    "version": 3
   },
   "file_extension": ".py",
   "mimetype": "text/x-python",
   "name": "python",
   "nbconvert_exporter": "python",
   "pygments_lexer": "ipython3",
   "version": "3.8.5"
  }
 },
 "nbformat": 4,
 "nbformat_minor": 5
}
