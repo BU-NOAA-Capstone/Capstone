{
  "nbformat": 4,
  "nbformat_minor": 0,
  "metadata": {
    "colab": {
      "name": "Copy of USDA_Corn.ipynb",
      "provenance": [],
      "collapsed_sections": []
    },
    "kernelspec": {
      "name": "python3",
      "display_name": "Python 3"
    },
    "language_info": {
      "name": "python"
    }
  },
  "cells": [
    {
      "cell_type": "code",
      "metadata": {
        "id": "XFX2ufcIsn9Y"
      },
      "source": [
        "import pandas as pd\n",
        "import seaborn as sns\n",
        "import matplotlib.pyplot as plt\n"
      ],
      "execution_count": 3,
      "outputs": []
    },
    {
      "cell_type": "code",
      "metadata": {
        "colab": {
          "base_uri": "https://localhost:8080/",
          "height": 306
        },
        "id": "MMYlw2Vqs1Zn",
        "outputId": "97a493da-cccb-48e9-ec57-3f2f35c9751a"
      },
      "source": [
        "corn = pd.read_csv(\"Corn-NY-All.csv\")\n",
        "corn.head()\n"
      ],
      "execution_count": 5,
      "outputs": [
        {
          "output_type": "execute_result",
          "data": {
            "text/html": [
              "<div>\n",
              "<style scoped>\n",
              "    .dataframe tbody tr th:only-of-type {\n",
              "        vertical-align: middle;\n",
              "    }\n",
              "\n",
              "    .dataframe tbody tr th {\n",
              "        vertical-align: top;\n",
              "    }\n",
              "\n",
              "    .dataframe thead th {\n",
              "        text-align: right;\n",
              "    }\n",
              "</style>\n",
              "<table border=\"1\" class=\"dataframe\">\n",
              "  <thead>\n",
              "    <tr style=\"text-align: right;\">\n",
              "      <th></th>\n",
              "      <th>Program</th>\n",
              "      <th>Year</th>\n",
              "      <th>Period</th>\n",
              "      <th>Week Ending</th>\n",
              "      <th>Geo Level</th>\n",
              "      <th>State</th>\n",
              "      <th>State ANSI</th>\n",
              "      <th>Ag District</th>\n",
              "      <th>Ag District Code</th>\n",
              "      <th>County</th>\n",
              "      <th>County ANSI</th>\n",
              "      <th>Zip Code</th>\n",
              "      <th>Region</th>\n",
              "      <th>watershed_code</th>\n",
              "      <th>Watershed</th>\n",
              "      <th>Commodity</th>\n",
              "      <th>Data Item</th>\n",
              "      <th>Domain</th>\n",
              "      <th>Domain Category</th>\n",
              "      <th>Value</th>\n",
              "      <th>CV (%)</th>\n",
              "    </tr>\n",
              "  </thead>\n",
              "  <tbody>\n",
              "    <tr>\n",
              "      <th>0</th>\n",
              "      <td>CENSUS</td>\n",
              "      <td>2017</td>\n",
              "      <td>YEAR</td>\n",
              "      <td>NaN</td>\n",
              "      <td>COUNTY</td>\n",
              "      <td>NEW YORK</td>\n",
              "      <td>36</td>\n",
              "      <td>CENTRAL</td>\n",
              "      <td>50</td>\n",
              "      <td>CAYUGA</td>\n",
              "      <td>11.0</td>\n",
              "      <td>NaN</td>\n",
              "      <td>NaN</td>\n",
              "      <td>0</td>\n",
              "      <td>NaN</td>\n",
              "      <td>CORN</td>\n",
              "      <td>CORN - OPERATIONS WITH SALES</td>\n",
              "      <td>TOTAL</td>\n",
              "      <td>NOT SPECIFIED</td>\n",
              "      <td>260</td>\n",
              "      <td>24.2</td>\n",
              "    </tr>\n",
              "    <tr>\n",
              "      <th>1</th>\n",
              "      <td>CENSUS</td>\n",
              "      <td>2017</td>\n",
              "      <td>YEAR</td>\n",
              "      <td>NaN</td>\n",
              "      <td>COUNTY</td>\n",
              "      <td>NEW YORK</td>\n",
              "      <td>36</td>\n",
              "      <td>CENTRAL</td>\n",
              "      <td>50</td>\n",
              "      <td>CAYUGA</td>\n",
              "      <td>11.0</td>\n",
              "      <td>NaN</td>\n",
              "      <td>NaN</td>\n",
              "      <td>0</td>\n",
              "      <td>NaN</td>\n",
              "      <td>CORN</td>\n",
              "      <td>CORN - SALES, MEASURED IN $</td>\n",
              "      <td>TOTAL</td>\n",
              "      <td>NOT SPECIFIED</td>\n",
              "      <td>23,218,000</td>\n",
              "      <td>11.7</td>\n",
              "    </tr>\n",
              "    <tr>\n",
              "      <th>2</th>\n",
              "      <td>CENSUS</td>\n",
              "      <td>2017</td>\n",
              "      <td>YEAR</td>\n",
              "      <td>NaN</td>\n",
              "      <td>COUNTY</td>\n",
              "      <td>NEW YORK</td>\n",
              "      <td>36</td>\n",
              "      <td>CENTRAL</td>\n",
              "      <td>50</td>\n",
              "      <td>CAYUGA</td>\n",
              "      <td>11.0</td>\n",
              "      <td>NaN</td>\n",
              "      <td>NaN</td>\n",
              "      <td>0</td>\n",
              "      <td>NaN</td>\n",
              "      <td>CORN</td>\n",
              "      <td>CORN, GRAIN - ACRES HARVESTED</td>\n",
              "      <td>TOTAL</td>\n",
              "      <td>NOT SPECIFIED</td>\n",
              "      <td>27,223</td>\n",
              "      <td>12.4</td>\n",
              "    </tr>\n",
              "    <tr>\n",
              "      <th>3</th>\n",
              "      <td>CENSUS</td>\n",
              "      <td>2017</td>\n",
              "      <td>YEAR</td>\n",
              "      <td>NaN</td>\n",
              "      <td>COUNTY</td>\n",
              "      <td>NEW YORK</td>\n",
              "      <td>36</td>\n",
              "      <td>CENTRAL</td>\n",
              "      <td>50</td>\n",
              "      <td>CAYUGA</td>\n",
              "      <td>11.0</td>\n",
              "      <td>NaN</td>\n",
              "      <td>NaN</td>\n",
              "      <td>0</td>\n",
              "      <td>NaN</td>\n",
              "      <td>CORN</td>\n",
              "      <td>CORN, GRAIN - OPERATIONS WITH AREA HARVESTED</td>\n",
              "      <td>AREA HARVESTED</td>\n",
              "      <td>AREA HARVESTED: (1,000 OR MORE ACRES)</td>\n",
              "      <td>3</td>\n",
              "      <td>9.2</td>\n",
              "    </tr>\n",
              "    <tr>\n",
              "      <th>4</th>\n",
              "      <td>CENSUS</td>\n",
              "      <td>2017</td>\n",
              "      <td>YEAR</td>\n",
              "      <td>NaN</td>\n",
              "      <td>COUNTY</td>\n",
              "      <td>NEW YORK</td>\n",
              "      <td>36</td>\n",
              "      <td>CENTRAL</td>\n",
              "      <td>50</td>\n",
              "      <td>CAYUGA</td>\n",
              "      <td>11.0</td>\n",
              "      <td>NaN</td>\n",
              "      <td>NaN</td>\n",
              "      <td>0</td>\n",
              "      <td>NaN</td>\n",
              "      <td>CORN</td>\n",
              "      <td>CORN, GRAIN - OPERATIONS WITH AREA HARVESTED</td>\n",
              "      <td>AREA HARVESTED</td>\n",
              "      <td>AREA HARVESTED: (1.0 TO 24.9 ACRES)</td>\n",
              "      <td>63</td>\n",
              "      <td>43.9</td>\n",
              "    </tr>\n",
              "  </tbody>\n",
              "</table>\n",
              "</div>"
            ],
            "text/plain": [
              "  Program  Year  ...       Value  CV (%)\n",
              "0  CENSUS  2017  ...         260    24.2\n",
              "1  CENSUS  2017  ...  23,218,000    11.7\n",
              "2  CENSUS  2017  ...      27,223    12.4\n",
              "3  CENSUS  2017  ...           3     9.2\n",
              "4  CENSUS  2017  ...          63    43.9\n",
              "\n",
              "[5 rows x 21 columns]"
            ]
          },
          "metadata": {
            "tags": []
          },
          "execution_count": 5
        }
      ]
    },
    {
      "cell_type": "markdown",
      "metadata": {
        "id": "WXOv8p-_8Bq0"
      },
      "source": [
        "Data Cleaning"
      ]
    },
    {
      "cell_type": "code",
      "metadata": {
        "colab": {
          "base_uri": "https://localhost:8080/",
          "height": 202
        },
        "id": "psQ1Ux-Js1ir",
        "outputId": "8042beee-0810-4ff8-cf62-d1ca5cbad7bb"
      },
      "source": [
        "#drop period, geo level, state, state ansi, week ending, zip code, region, commodity???, watershed_code, watershed bc everything is year\n",
        "corn.drop(columns =[\"Period\", \"Week Ending\", \"Geo Level\",\"State\", \"State ANSI\", \"Zip Code\",\"Region\",  \"watershed_code\", \"Watershed\"], axis=1, inplace=True)\n",
        "corn.head()"
      ],
      "execution_count": 6,
      "outputs": [
        {
          "output_type": "execute_result",
          "data": {
            "text/html": [
              "<div>\n",
              "<style scoped>\n",
              "    .dataframe tbody tr th:only-of-type {\n",
              "        vertical-align: middle;\n",
              "    }\n",
              "\n",
              "    .dataframe tbody tr th {\n",
              "        vertical-align: top;\n",
              "    }\n",
              "\n",
              "    .dataframe thead th {\n",
              "        text-align: right;\n",
              "    }\n",
              "</style>\n",
              "<table border=\"1\" class=\"dataframe\">\n",
              "  <thead>\n",
              "    <tr style=\"text-align: right;\">\n",
              "      <th></th>\n",
              "      <th>Program</th>\n",
              "      <th>Year</th>\n",
              "      <th>Ag District</th>\n",
              "      <th>Ag District Code</th>\n",
              "      <th>County</th>\n",
              "      <th>County ANSI</th>\n",
              "      <th>Commodity</th>\n",
              "      <th>Data Item</th>\n",
              "      <th>Domain</th>\n",
              "      <th>Domain Category</th>\n",
              "      <th>Value</th>\n",
              "      <th>CV (%)</th>\n",
              "    </tr>\n",
              "  </thead>\n",
              "  <tbody>\n",
              "    <tr>\n",
              "      <th>0</th>\n",
              "      <td>CENSUS</td>\n",
              "      <td>2017</td>\n",
              "      <td>CENTRAL</td>\n",
              "      <td>50</td>\n",
              "      <td>CAYUGA</td>\n",
              "      <td>11.0</td>\n",
              "      <td>CORN</td>\n",
              "      <td>CORN - OPERATIONS WITH SALES</td>\n",
              "      <td>TOTAL</td>\n",
              "      <td>NOT SPECIFIED</td>\n",
              "      <td>260</td>\n",
              "      <td>24.2</td>\n",
              "    </tr>\n",
              "    <tr>\n",
              "      <th>1</th>\n",
              "      <td>CENSUS</td>\n",
              "      <td>2017</td>\n",
              "      <td>CENTRAL</td>\n",
              "      <td>50</td>\n",
              "      <td>CAYUGA</td>\n",
              "      <td>11.0</td>\n",
              "      <td>CORN</td>\n",
              "      <td>CORN - SALES, MEASURED IN $</td>\n",
              "      <td>TOTAL</td>\n",
              "      <td>NOT SPECIFIED</td>\n",
              "      <td>23,218,000</td>\n",
              "      <td>11.7</td>\n",
              "    </tr>\n",
              "    <tr>\n",
              "      <th>2</th>\n",
              "      <td>CENSUS</td>\n",
              "      <td>2017</td>\n",
              "      <td>CENTRAL</td>\n",
              "      <td>50</td>\n",
              "      <td>CAYUGA</td>\n",
              "      <td>11.0</td>\n",
              "      <td>CORN</td>\n",
              "      <td>CORN, GRAIN - ACRES HARVESTED</td>\n",
              "      <td>TOTAL</td>\n",
              "      <td>NOT SPECIFIED</td>\n",
              "      <td>27,223</td>\n",
              "      <td>12.4</td>\n",
              "    </tr>\n",
              "    <tr>\n",
              "      <th>3</th>\n",
              "      <td>CENSUS</td>\n",
              "      <td>2017</td>\n",
              "      <td>CENTRAL</td>\n",
              "      <td>50</td>\n",
              "      <td>CAYUGA</td>\n",
              "      <td>11.0</td>\n",
              "      <td>CORN</td>\n",
              "      <td>CORN, GRAIN - OPERATIONS WITH AREA HARVESTED</td>\n",
              "      <td>AREA HARVESTED</td>\n",
              "      <td>AREA HARVESTED: (1,000 OR MORE ACRES)</td>\n",
              "      <td>3</td>\n",
              "      <td>9.2</td>\n",
              "    </tr>\n",
              "    <tr>\n",
              "      <th>4</th>\n",
              "      <td>CENSUS</td>\n",
              "      <td>2017</td>\n",
              "      <td>CENTRAL</td>\n",
              "      <td>50</td>\n",
              "      <td>CAYUGA</td>\n",
              "      <td>11.0</td>\n",
              "      <td>CORN</td>\n",
              "      <td>CORN, GRAIN - OPERATIONS WITH AREA HARVESTED</td>\n",
              "      <td>AREA HARVESTED</td>\n",
              "      <td>AREA HARVESTED: (1.0 TO 24.9 ACRES)</td>\n",
              "      <td>63</td>\n",
              "      <td>43.9</td>\n",
              "    </tr>\n",
              "  </tbody>\n",
              "</table>\n",
              "</div>"
            ],
            "text/plain": [
              "  Program  Year  ...       Value  CV (%)\n",
              "0  CENSUS  2017  ...         260    24.2\n",
              "1  CENSUS  2017  ...  23,218,000    11.7\n",
              "2  CENSUS  2017  ...      27,223    12.4\n",
              "3  CENSUS  2017  ...           3     9.2\n",
              "4  CENSUS  2017  ...          63    43.9\n",
              "\n",
              "[5 rows x 12 columns]"
            ]
          },
          "metadata": {
            "tags": []
          },
          "execution_count": 6
        }
      ]
    },
    {
      "cell_type": "code",
      "metadata": {
        "colab": {
          "base_uri": "https://localhost:8080/"
        },
        "id": "FtJ2v5M6s1lA",
        "outputId": "1ddece79-d8aa-424a-aae0-1d0a6f326d99"
      },
      "source": [
        "corn.info()"
      ],
      "execution_count": 7,
      "outputs": [
        {
          "output_type": "stream",
          "text": [
            "<class 'pandas.core.frame.DataFrame'>\n",
            "RangeIndex: 21706 entries, 0 to 21705\n",
            "Data columns (total 12 columns):\n",
            " #   Column            Non-Null Count  Dtype  \n",
            "---  ------            --------------  -----  \n",
            " 0   Program           21706 non-null  object \n",
            " 1   Year              21706 non-null  int64  \n",
            " 2   Ag District       21706 non-null  object \n",
            " 3   Ag District Code  21706 non-null  int64  \n",
            " 4   County            21706 non-null  object \n",
            " 5   County ANSI       21081 non-null  float64\n",
            " 6   Commodity         21706 non-null  object \n",
            " 7   Data Item         21706 non-null  object \n",
            " 8   Domain            21706 non-null  object \n",
            " 9   Domain Category   21706 non-null  object \n",
            " 10  Value             21706 non-null  object \n",
            " 11  CV (%)            2045 non-null   object \n",
            "dtypes: float64(1), int64(2), object(9)\n",
            "memory usage: 2.0+ MB\n"
          ],
          "name": "stdout"
        }
      ]
    },
    {
      "cell_type": "markdown",
      "metadata": {
        "id": "YnOBgtQtaXUo"
      },
      "source": [
        "Things to Note:\n",
        "\n",
        "1) There are D values, in both Value and CV % - Published data value or suppression reason code. There was no specific pattern oberved for the D value, for now we will drop them since it is 203 observations\n",
        "\n",
        "2) there are many CV missing values, this is not a column of interest, we chose value to aid the analysis\n",
        "\n",
        "3) Coefficient of variation. Available for the 2012 Census of Agriculture only. County-level CVs are generalized."
      ]
    },
    {
      "cell_type": "code",
      "metadata": {
        "colab": {
          "base_uri": "https://localhost:8080/"
        },
        "id": "dMC-Gpxs1nbE",
        "outputId": "10f8a29b-29e7-485a-e47e-b00942b4c332"
      },
      "source": [
        "corn.nunique()"
      ],
      "execution_count": 8,
      "outputs": [
        {
          "output_type": "execute_result",
          "data": {
            "text/plain": [
              "Program                2\n",
              "Year                  48\n",
              "Ag District            9\n",
              "Ag District Code       9\n",
              "County                58\n",
              "County ANSI           57\n",
              "Commodity              1\n",
              "Data Item             22\n",
              "Domain                 2\n",
              "Domain Category        8\n",
              "Value               5610\n",
              "CV (%)                43\n",
              "dtype: int64"
            ]
          },
          "metadata": {
            "tags": []
          },
          "execution_count": 8
        }
      ]
    },
    {
      "cell_type": "code",
      "metadata": {
        "colab": {
          "base_uri": "https://localhost:8080/"
        },
        "id": "D5RHxkeyhq_U",
        "outputId": "7fba0c26-f057-456a-a777-77c1b9bf25af"
      },
      "source": [
        "corn[\"Data Item\"].unique()"
      ],
      "execution_count": 9,
      "outputs": [
        {
          "output_type": "execute_result",
          "data": {
            "text/plain": [
              "array(['CORN - OPERATIONS WITH SALES', 'CORN - SALES, MEASURED IN $',\n",
              "       'CORN, GRAIN - ACRES HARVESTED',\n",
              "       'CORN, GRAIN - OPERATIONS WITH AREA HARVESTED',\n",
              "       'CORN, GRAIN - PRODUCTION, MEASURED IN BU',\n",
              "       'CORN, GRAIN, IRRIGATED - ACRES HARVESTED',\n",
              "       'CORN, GRAIN, IRRIGATED - OPERATIONS WITH AREA HARVESTED',\n",
              "       'CORN, SILAGE - ACRES HARVESTED',\n",
              "       'CORN, SILAGE - OPERATIONS WITH AREA HARVESTED',\n",
              "       'CORN, SILAGE - PRODUCTION, MEASURED IN TONS',\n",
              "       'CORN, SILAGE, IRRIGATED - ACRES HARVESTED',\n",
              "       'CORN, SILAGE, IRRIGATED - OPERATIONS WITH AREA HARVESTED',\n",
              "       'CORN, TRADITIONAL OR INDIAN - ACRES HARVESTED',\n",
              "       'CORN, TRADITIONAL OR INDIAN - OPERATIONS WITH AREA HARVESTED',\n",
              "       'CORN, TRADITIONAL OR INDIAN - PRODUCTION, MEASURED IN LB',\n",
              "       'CORN, TRADITIONAL OR INDIAN, IRRIGATED - ACRES HARVESTED',\n",
              "       'CORN, TRADITIONAL OR INDIAN, IRRIGATED - OPERATIONS WITH AREA HARVESTED',\n",
              "       'CORN - ACRES PLANTED',\n",
              "       'CORN, GRAIN - YIELD, MEASURED IN BU / ACRE',\n",
              "       'CORN, SILAGE - YIELD, MEASURED IN TONS / ACRE',\n",
              "       'CORN, GRAIN - ACRES PLANTED, NET',\n",
              "       'CORN, GRAIN - YIELD, MEASURED IN BU / NET PLANTED ACRE'],\n",
              "      dtype=object)"
            ]
          },
          "metadata": {
            "tags": []
          },
          "execution_count": 9
        }
      ]
    },
    {
      "cell_type": "code",
      "metadata": {
        "id": "5in4uoJGwvPJ"
      },
      "source": [
        "#casting data types\n",
        "corn = corn.drop(corn[corn.Value == \" (D)\"].index)\n",
        "\n",
        "corn.replace(',','', regex=True, inplace=True)\n",
        "\n",
        "corn['Value'] = corn['Value'].astype('float64')\n",
        "corn['Program'] = corn['Program'].astype('category')\n",
        "corn['Ag District'] = corn['Ag District'].astype('category')\n",
        "\n",
        "corn['County'] = corn['County'].astype('category')\n",
        "corn['Commodity'] = corn['Commodity'].astype('string')\n",
        "corn['Data Item'] = corn['Data Item'].astype('category')\n",
        "corn['Domain'] = corn['Domain'].astype('category')\n",
        "corn['Domain Category'] = corn['Domain Category'].astype('category')"
      ],
      "execution_count": 10,
      "outputs": []
    },
    {
      "cell_type": "code",
      "metadata": {
        "colab": {
          "base_uri": "https://localhost:8080/"
        },
        "id": "IhBqnNecs1nc",
        "outputId": "12bdd5a8-ccfe-48d0-eb5b-53988b27a242"
      },
      "source": [
        "#check to see that everything casted properly into the correct data type\n",
        "corn.isnull().sum()\n",
        "corn.head()\n",
        "corn.info()"
      ],
      "execution_count": 11,
      "outputs": [
        {
          "output_type": "stream",
          "text": [
            "<class 'pandas.core.frame.DataFrame'>\n",
            "Int64Index: 21463 entries, 0 to 21705\n",
            "Data columns (total 12 columns):\n",
            " #   Column            Non-Null Count  Dtype   \n",
            "---  ------            --------------  -----   \n",
            " 0   Program           21463 non-null  category\n",
            " 1   Year              21463 non-null  int64   \n",
            " 2   Ag District       21463 non-null  category\n",
            " 3   Ag District Code  21463 non-null  int64   \n",
            " 4   County            21463 non-null  category\n",
            " 5   County ANSI       20838 non-null  float64 \n",
            " 6   Commodity         21463 non-null  string  \n",
            " 7   Data Item         21463 non-null  category\n",
            " 8   Domain            21463 non-null  category\n",
            " 9   Domain Category   21463 non-null  category\n",
            " 10  Value             21463 non-null  float64 \n",
            " 11  CV (%)            1946 non-null   object  \n",
            "dtypes: category(6), float64(2), int64(2), object(1), string(1)\n",
            "memory usage: 1.3+ MB\n"
          ],
          "name": "stdout"
        }
      ]
    },
    {
      "cell_type": "code",
      "metadata": {
        "colab": {
          "base_uri": "https://localhost:8080/",
          "height": 723
        },
        "id": "zfisYTVzldVh",
        "outputId": "e4794409-e3d8-4209-9616-8cac07b29df0"
      },
      "source": [
        "yield_corn=corn.copy()\n",
        "yield_corn.head()\n",
        "yield_corn.groupby(\"Data Item\").count()"
      ],
      "execution_count": 13,
      "outputs": [
        {
          "output_type": "execute_result",
          "data": {
            "text/html": [
              "<div>\n",
              "<style scoped>\n",
              "    .dataframe tbody tr th:only-of-type {\n",
              "        vertical-align: middle;\n",
              "    }\n",
              "\n",
              "    .dataframe tbody tr th {\n",
              "        vertical-align: top;\n",
              "    }\n",
              "\n",
              "    .dataframe thead th {\n",
              "        text-align: right;\n",
              "    }\n",
              "</style>\n",
              "<table border=\"1\" class=\"dataframe\">\n",
              "  <thead>\n",
              "    <tr style=\"text-align: right;\">\n",
              "      <th></th>\n",
              "      <th>Program</th>\n",
              "      <th>Year</th>\n",
              "      <th>Ag District</th>\n",
              "      <th>Ag District Code</th>\n",
              "      <th>County</th>\n",
              "      <th>County ANSI</th>\n",
              "      <th>Commodity</th>\n",
              "      <th>Domain</th>\n",
              "      <th>Domain Category</th>\n",
              "      <th>Value</th>\n",
              "      <th>CV (%)</th>\n",
              "    </tr>\n",
              "    <tr>\n",
              "      <th>Data Item</th>\n",
              "      <th></th>\n",
              "      <th></th>\n",
              "      <th></th>\n",
              "      <th></th>\n",
              "      <th></th>\n",
              "      <th></th>\n",
              "      <th></th>\n",
              "      <th></th>\n",
              "      <th></th>\n",
              "      <th></th>\n",
              "      <th></th>\n",
              "    </tr>\n",
              "  </thead>\n",
              "  <tbody>\n",
              "    <tr>\n",
              "      <th>CORN - ACRES PLANTED</th>\n",
              "      <td>2372</td>\n",
              "      <td>2372</td>\n",
              "      <td>2372</td>\n",
              "      <td>2372</td>\n",
              "      <td>2372</td>\n",
              "      <td>2283</td>\n",
              "      <td>2372</td>\n",
              "      <td>2372</td>\n",
              "      <td>2372</td>\n",
              "      <td>2372</td>\n",
              "      <td>0</td>\n",
              "    </tr>\n",
              "    <tr>\n",
              "      <th>CORN - OPERATIONS WITH SALES</th>\n",
              "      <td>163</td>\n",
              "      <td>163</td>\n",
              "      <td>163</td>\n",
              "      <td>163</td>\n",
              "      <td>163</td>\n",
              "      <td>163</td>\n",
              "      <td>163</td>\n",
              "      <td>163</td>\n",
              "      <td>163</td>\n",
              "      <td>163</td>\n",
              "      <td>109</td>\n",
              "    </tr>\n",
              "    <tr>\n",
              "      <th>CORN - SALES MEASURED IN $</th>\n",
              "      <td>147</td>\n",
              "      <td>147</td>\n",
              "      <td>147</td>\n",
              "      <td>147</td>\n",
              "      <td>147</td>\n",
              "      <td>147</td>\n",
              "      <td>147</td>\n",
              "      <td>147</td>\n",
              "      <td>147</td>\n",
              "      <td>147</td>\n",
              "      <td>99</td>\n",
              "    </tr>\n",
              "    <tr>\n",
              "      <th>CORN GRAIN - ACRES HARVESTED</th>\n",
              "      <td>2590</td>\n",
              "      <td>2590</td>\n",
              "      <td>2590</td>\n",
              "      <td>2590</td>\n",
              "      <td>2590</td>\n",
              "      <td>2503</td>\n",
              "      <td>2590</td>\n",
              "      <td>2590</td>\n",
              "      <td>2590</td>\n",
              "      <td>2590</td>\n",
              "      <td>102</td>\n",
              "    </tr>\n",
              "    <tr>\n",
              "      <th>CORN GRAIN - ACRES PLANTED NET</th>\n",
              "      <td>571</td>\n",
              "      <td>571</td>\n",
              "      <td>571</td>\n",
              "      <td>571</td>\n",
              "      <td>571</td>\n",
              "      <td>563</td>\n",
              "      <td>571</td>\n",
              "      <td>571</td>\n",
              "      <td>571</td>\n",
              "      <td>571</td>\n",
              "      <td>0</td>\n",
              "    </tr>\n",
              "    <tr>\n",
              "      <th>CORN GRAIN - OPERATIONS WITH AREA HARVESTED</th>\n",
              "      <td>1316</td>\n",
              "      <td>1316</td>\n",
              "      <td>1316</td>\n",
              "      <td>1316</td>\n",
              "      <td>1316</td>\n",
              "      <td>1316</td>\n",
              "      <td>1316</td>\n",
              "      <td>1316</td>\n",
              "      <td>1316</td>\n",
              "      <td>1316</td>\n",
              "      <td>626</td>\n",
              "    </tr>\n",
              "    <tr>\n",
              "      <th>CORN GRAIN - PRODUCTION MEASURED IN BU</th>\n",
              "      <td>2588</td>\n",
              "      <td>2588</td>\n",
              "      <td>2588</td>\n",
              "      <td>2588</td>\n",
              "      <td>2588</td>\n",
              "      <td>2501</td>\n",
              "      <td>2588</td>\n",
              "      <td>2588</td>\n",
              "      <td>2588</td>\n",
              "      <td>2588</td>\n",
              "      <td>100</td>\n",
              "    </tr>\n",
              "    <tr>\n",
              "      <th>CORN GRAIN - YIELD MEASURED IN BU / ACRE</th>\n",
              "      <td>2344</td>\n",
              "      <td>2344</td>\n",
              "      <td>2344</td>\n",
              "      <td>2344</td>\n",
              "      <td>2344</td>\n",
              "      <td>2256</td>\n",
              "      <td>2344</td>\n",
              "      <td>2344</td>\n",
              "      <td>2344</td>\n",
              "      <td>2344</td>\n",
              "      <td>0</td>\n",
              "    </tr>\n",
              "    <tr>\n",
              "      <th>CORN GRAIN - YIELD MEASURED IN BU / NET PLANTED ACRE</th>\n",
              "      <td>519</td>\n",
              "      <td>519</td>\n",
              "      <td>519</td>\n",
              "      <td>519</td>\n",
              "      <td>519</td>\n",
              "      <td>511</td>\n",
              "      <td>519</td>\n",
              "      <td>519</td>\n",
              "      <td>519</td>\n",
              "      <td>519</td>\n",
              "      <td>0</td>\n",
              "    </tr>\n",
              "    <tr>\n",
              "      <th>CORN GRAIN IRRIGATED - ACRES HARVESTED</th>\n",
              "      <td>28</td>\n",
              "      <td>28</td>\n",
              "      <td>28</td>\n",
              "      <td>28</td>\n",
              "      <td>28</td>\n",
              "      <td>28</td>\n",
              "      <td>28</td>\n",
              "      <td>28</td>\n",
              "      <td>28</td>\n",
              "      <td>28</td>\n",
              "      <td>16</td>\n",
              "    </tr>\n",
              "    <tr>\n",
              "      <th>CORN GRAIN IRRIGATED - OPERATIONS WITH AREA HARVESTED</th>\n",
              "      <td>123</td>\n",
              "      <td>123</td>\n",
              "      <td>123</td>\n",
              "      <td>123</td>\n",
              "      <td>123</td>\n",
              "      <td>123</td>\n",
              "      <td>123</td>\n",
              "      <td>123</td>\n",
              "      <td>123</td>\n",
              "      <td>123</td>\n",
              "      <td>45</td>\n",
              "    </tr>\n",
              "    <tr>\n",
              "      <th>CORN SILAGE - ACRES HARVESTED</th>\n",
              "      <td>2517</td>\n",
              "      <td>2517</td>\n",
              "      <td>2517</td>\n",
              "      <td>2517</td>\n",
              "      <td>2517</td>\n",
              "      <td>2431</td>\n",
              "      <td>2517</td>\n",
              "      <td>2517</td>\n",
              "      <td>2517</td>\n",
              "      <td>2517</td>\n",
              "      <td>100</td>\n",
              "    </tr>\n",
              "    <tr>\n",
              "      <th>CORN SILAGE - OPERATIONS WITH AREA HARVESTED</th>\n",
              "      <td>1281</td>\n",
              "      <td>1281</td>\n",
              "      <td>1281</td>\n",
              "      <td>1281</td>\n",
              "      <td>1281</td>\n",
              "      <td>1281</td>\n",
              "      <td>1281</td>\n",
              "      <td>1281</td>\n",
              "      <td>1281</td>\n",
              "      <td>1281</td>\n",
              "      <td>606</td>\n",
              "    </tr>\n",
              "    <tr>\n",
              "      <th>CORN SILAGE - PRODUCTION MEASURED IN TONS</th>\n",
              "      <td>2517</td>\n",
              "      <td>2517</td>\n",
              "      <td>2517</td>\n",
              "      <td>2517</td>\n",
              "      <td>2517</td>\n",
              "      <td>2431</td>\n",
              "      <td>2517</td>\n",
              "      <td>2517</td>\n",
              "      <td>2517</td>\n",
              "      <td>2517</td>\n",
              "      <td>100</td>\n",
              "    </tr>\n",
              "    <tr>\n",
              "      <th>CORN SILAGE - YIELD MEASURED IN TONS / ACRE</th>\n",
              "      <td>2266</td>\n",
              "      <td>2266</td>\n",
              "      <td>2266</td>\n",
              "      <td>2266</td>\n",
              "      <td>2266</td>\n",
              "      <td>2180</td>\n",
              "      <td>2266</td>\n",
              "      <td>2266</td>\n",
              "      <td>2266</td>\n",
              "      <td>2266</td>\n",
              "      <td>0</td>\n",
              "    </tr>\n",
              "    <tr>\n",
              "      <th>CORN SILAGE IRRIGATED - ACRES HARVESTED</th>\n",
              "      <td>16</td>\n",
              "      <td>16</td>\n",
              "      <td>16</td>\n",
              "      <td>16</td>\n",
              "      <td>16</td>\n",
              "      <td>16</td>\n",
              "      <td>16</td>\n",
              "      <td>16</td>\n",
              "      <td>16</td>\n",
              "      <td>16</td>\n",
              "      <td>3</td>\n",
              "    </tr>\n",
              "    <tr>\n",
              "      <th>CORN SILAGE IRRIGATED - OPERATIONS WITH AREA HARVESTED</th>\n",
              "      <td>90</td>\n",
              "      <td>90</td>\n",
              "      <td>90</td>\n",
              "      <td>90</td>\n",
              "      <td>90</td>\n",
              "      <td>90</td>\n",
              "      <td>90</td>\n",
              "      <td>90</td>\n",
              "      <td>90</td>\n",
              "      <td>90</td>\n",
              "      <td>25</td>\n",
              "    </tr>\n",
              "    <tr>\n",
              "      <th>CORN TRADITIONAL OR INDIAN - ACRES HARVESTED</th>\n",
              "      <td>2</td>\n",
              "      <td>2</td>\n",
              "      <td>2</td>\n",
              "      <td>2</td>\n",
              "      <td>2</td>\n",
              "      <td>2</td>\n",
              "      <td>2</td>\n",
              "      <td>2</td>\n",
              "      <td>2</td>\n",
              "      <td>2</td>\n",
              "      <td>2</td>\n",
              "    </tr>\n",
              "    <tr>\n",
              "      <th>CORN TRADITIONAL OR INDIAN - OPERATIONS WITH AREA HARVESTED</th>\n",
              "      <td>9</td>\n",
              "      <td>9</td>\n",
              "      <td>9</td>\n",
              "      <td>9</td>\n",
              "      <td>9</td>\n",
              "      <td>9</td>\n",
              "      <td>9</td>\n",
              "      <td>9</td>\n",
              "      <td>9</td>\n",
              "      <td>9</td>\n",
              "      <td>9</td>\n",
              "    </tr>\n",
              "    <tr>\n",
              "      <th>CORN TRADITIONAL OR INDIAN - PRODUCTION MEASURED IN LB</th>\n",
              "      <td>2</td>\n",
              "      <td>2</td>\n",
              "      <td>2</td>\n",
              "      <td>2</td>\n",
              "      <td>2</td>\n",
              "      <td>2</td>\n",
              "      <td>2</td>\n",
              "      <td>2</td>\n",
              "      <td>2</td>\n",
              "      <td>2</td>\n",
              "      <td>2</td>\n",
              "    </tr>\n",
              "    <tr>\n",
              "      <th>CORN TRADITIONAL OR INDIAN IRRIGATED - OPERATIONS WITH AREA HARVESTED</th>\n",
              "      <td>2</td>\n",
              "      <td>2</td>\n",
              "      <td>2</td>\n",
              "      <td>2</td>\n",
              "      <td>2</td>\n",
              "      <td>2</td>\n",
              "      <td>2</td>\n",
              "      <td>2</td>\n",
              "      <td>2</td>\n",
              "      <td>2</td>\n",
              "      <td>2</td>\n",
              "    </tr>\n",
              "  </tbody>\n",
              "</table>\n",
              "</div>"
            ],
            "text/plain": [
              "                                                    Program  ...  CV (%)\n",
              "Data Item                                                    ...        \n",
              "CORN - ACRES PLANTED                                   2372  ...       0\n",
              "CORN - OPERATIONS WITH SALES                            163  ...     109\n",
              "CORN - SALES MEASURED IN $                              147  ...      99\n",
              "CORN GRAIN - ACRES HARVESTED                           2590  ...     102\n",
              "CORN GRAIN - ACRES PLANTED NET                          571  ...       0\n",
              "CORN GRAIN - OPERATIONS WITH AREA HARVESTED            1316  ...     626\n",
              "CORN GRAIN - PRODUCTION MEASURED IN BU                 2588  ...     100\n",
              "CORN GRAIN - YIELD MEASURED IN BU / ACRE               2344  ...       0\n",
              "CORN GRAIN - YIELD MEASURED IN BU / NET PLANTED...      519  ...       0\n",
              "CORN GRAIN IRRIGATED - ACRES HARVESTED                   28  ...      16\n",
              "CORN GRAIN IRRIGATED - OPERATIONS WITH AREA HAR...      123  ...      45\n",
              "CORN SILAGE - ACRES HARVESTED                          2517  ...     100\n",
              "CORN SILAGE - OPERATIONS WITH AREA HARVESTED           1281  ...     606\n",
              "CORN SILAGE - PRODUCTION MEASURED IN TONS              2517  ...     100\n",
              "CORN SILAGE - YIELD MEASURED IN TONS / ACRE            2266  ...       0\n",
              "CORN SILAGE IRRIGATED - ACRES HARVESTED                  16  ...       3\n",
              "CORN SILAGE IRRIGATED - OPERATIONS WITH AREA HA...       90  ...      25\n",
              "CORN TRADITIONAL OR INDIAN - ACRES HARVESTED              2  ...       2\n",
              "CORN TRADITIONAL OR INDIAN - OPERATIONS WITH AR...        9  ...       9\n",
              "CORN TRADITIONAL OR INDIAN - PRODUCTION MEASURE...        2  ...       2\n",
              "CORN TRADITIONAL OR INDIAN IRRIGATED - OPERATIO...        2  ...       2\n",
              "\n",
              "[21 rows x 11 columns]"
            ]
          },
          "metadata": {
            "tags": []
          },
          "execution_count": 13
        }
      ]
    },
    {
      "cell_type": "code",
      "metadata": {
        "colab": {
          "base_uri": "https://localhost:8080/"
        },
        "id": "9g_I0ZKspMfm",
        "outputId": "eaebbb1d-e873-4743-9dba-294bda3208f1"
      },
      "source": [
        "yield_corn.info()"
      ],
      "execution_count": 14,
      "outputs": [
        {
          "output_type": "stream",
          "text": [
            "<class 'pandas.core.frame.DataFrame'>\n",
            "Int64Index: 21463 entries, 0 to 21705\n",
            "Data columns (total 12 columns):\n",
            " #   Column            Non-Null Count  Dtype   \n",
            "---  ------            --------------  -----   \n",
            " 0   Program           21463 non-null  category\n",
            " 1   Year              21463 non-null  int64   \n",
            " 2   Ag District       21463 non-null  category\n",
            " 3   Ag District Code  21463 non-null  int64   \n",
            " 4   County            21463 non-null  category\n",
            " 5   County ANSI       20838 non-null  float64 \n",
            " 6   Commodity         21463 non-null  string  \n",
            " 7   Data Item         21463 non-null  category\n",
            " 8   Domain            21463 non-null  category\n",
            " 9   Domain Category   21463 non-null  category\n",
            " 10  Value             21463 non-null  float64 \n",
            " 11  CV (%)            1946 non-null   object  \n",
            "dtypes: category(6), float64(2), int64(2), object(1), string(1)\n",
            "memory usage: 1.3+ MB\n"
          ],
          "name": "stdout"
        }
      ]
    },
    {
      "cell_type": "code",
      "metadata": {
        "colab": {
          "base_uri": "https://localhost:8080/",
          "height": 702
        },
        "id": "aGjmUY8XolcZ",
        "outputId": "e2ba108e-cb29-45f3-8d33-a6345f0a054a"
      },
      "source": [
        "yield_corn_df = yield_corn[yield_corn[\"Data Item\"]==\"CORN GRAIN - YIELD MEASURED IN BU / ACRE\"]\n",
        "print(yield_corn_df.shape)\n",
        "yield_corn_df.info()          \n",
        "yield_corn_df.head(10)"
      ],
      "execution_count": 18,
      "outputs": [
        {
          "output_type": "stream",
          "text": [
            "(2344, 12)\n",
            "<class 'pandas.core.frame.DataFrame'>\n",
            "Int64Index: 2344 entries, 4429 to 21705\n",
            "Data columns (total 12 columns):\n",
            " #   Column            Non-Null Count  Dtype   \n",
            "---  ------            --------------  -----   \n",
            " 0   Program           2344 non-null   category\n",
            " 1   Year              2344 non-null   int64   \n",
            " 2   Ag District       2344 non-null   category\n",
            " 3   Ag District Code  2344 non-null   int64   \n",
            " 4   County            2344 non-null   category\n",
            " 5   County ANSI       2256 non-null   float64 \n",
            " 6   Commodity         2344 non-null   string  \n",
            " 7   Data Item         2344 non-null   category\n",
            " 8   Domain            2344 non-null   category\n",
            " 9   Domain Category   2344 non-null   category\n",
            " 10  Value             2344 non-null   float64 \n",
            " 11  CV (%)            0 non-null      object  \n",
            "dtypes: category(6), float64(2), int64(2), object(1), string(1)\n",
            "memory usage: 146.6+ KB\n"
          ],
          "name": "stdout"
        },
        {
          "output_type": "execute_result",
          "data": {
            "text/html": [
              "<div>\n",
              "<style scoped>\n",
              "    .dataframe tbody tr th:only-of-type {\n",
              "        vertical-align: middle;\n",
              "    }\n",
              "\n",
              "    .dataframe tbody tr th {\n",
              "        vertical-align: top;\n",
              "    }\n",
              "\n",
              "    .dataframe thead th {\n",
              "        text-align: right;\n",
              "    }\n",
              "</style>\n",
              "<table border=\"1\" class=\"dataframe\">\n",
              "  <thead>\n",
              "    <tr style=\"text-align: right;\">\n",
              "      <th></th>\n",
              "      <th>Program</th>\n",
              "      <th>Year</th>\n",
              "      <th>Ag District</th>\n",
              "      <th>Ag District Code</th>\n",
              "      <th>County</th>\n",
              "      <th>County ANSI</th>\n",
              "      <th>Commodity</th>\n",
              "      <th>Data Item</th>\n",
              "      <th>Domain</th>\n",
              "      <th>Domain Category</th>\n",
              "      <th>Value</th>\n",
              "      <th>CV (%)</th>\n",
              "    </tr>\n",
              "  </thead>\n",
              "  <tbody>\n",
              "    <tr>\n",
              "      <th>4429</th>\n",
              "      <td>SURVEY</td>\n",
              "      <td>2019</td>\n",
              "      <td>CENTRAL</td>\n",
              "      <td>50</td>\n",
              "      <td>CAYUGA</td>\n",
              "      <td>11.0</td>\n",
              "      <td>CORN</td>\n",
              "      <td>CORN GRAIN - YIELD MEASURED IN BU / ACRE</td>\n",
              "      <td>TOTAL</td>\n",
              "      <td>NOT SPECIFIED</td>\n",
              "      <td>158.0</td>\n",
              "      <td>NaN</td>\n",
              "    </tr>\n",
              "    <tr>\n",
              "      <th>4436</th>\n",
              "      <td>SURVEY</td>\n",
              "      <td>2019</td>\n",
              "      <td>CENTRAL</td>\n",
              "      <td>50</td>\n",
              "      <td>CORTLAND</td>\n",
              "      <td>23.0</td>\n",
              "      <td>CORN</td>\n",
              "      <td>CORN GRAIN - YIELD MEASURED IN BU / ACRE</td>\n",
              "      <td>TOTAL</td>\n",
              "      <td>NOT SPECIFIED</td>\n",
              "      <td>157.6</td>\n",
              "      <td>NaN</td>\n",
              "    </tr>\n",
              "    <tr>\n",
              "      <th>4443</th>\n",
              "      <td>SURVEY</td>\n",
              "      <td>2019</td>\n",
              "      <td>CENTRAL</td>\n",
              "      <td>50</td>\n",
              "      <td>HERKIMER</td>\n",
              "      <td>43.0</td>\n",
              "      <td>CORN</td>\n",
              "      <td>CORN GRAIN - YIELD MEASURED IN BU / ACRE</td>\n",
              "      <td>TOTAL</td>\n",
              "      <td>NOT SPECIFIED</td>\n",
              "      <td>147.9</td>\n",
              "      <td>NaN</td>\n",
              "    </tr>\n",
              "    <tr>\n",
              "      <th>4447</th>\n",
              "      <td>SURVEY</td>\n",
              "      <td>2019</td>\n",
              "      <td>CENTRAL</td>\n",
              "      <td>50</td>\n",
              "      <td>MADISON</td>\n",
              "      <td>53.0</td>\n",
              "      <td>CORN</td>\n",
              "      <td>CORN GRAIN - YIELD MEASURED IN BU / ACRE</td>\n",
              "      <td>TOTAL</td>\n",
              "      <td>NOT SPECIFIED</td>\n",
              "      <td>139.3</td>\n",
              "      <td>NaN</td>\n",
              "    </tr>\n",
              "    <tr>\n",
              "      <th>4454</th>\n",
              "      <td>SURVEY</td>\n",
              "      <td>2019</td>\n",
              "      <td>CENTRAL</td>\n",
              "      <td>50</td>\n",
              "      <td>ONEIDA</td>\n",
              "      <td>65.0</td>\n",
              "      <td>CORN</td>\n",
              "      <td>CORN GRAIN - YIELD MEASURED IN BU / ACRE</td>\n",
              "      <td>TOTAL</td>\n",
              "      <td>NOT SPECIFIED</td>\n",
              "      <td>154.4</td>\n",
              "      <td>NaN</td>\n",
              "    </tr>\n",
              "    <tr>\n",
              "      <th>4461</th>\n",
              "      <td>SURVEY</td>\n",
              "      <td>2019</td>\n",
              "      <td>CENTRAL</td>\n",
              "      <td>50</td>\n",
              "      <td>ONONDAGA</td>\n",
              "      <td>67.0</td>\n",
              "      <td>CORN</td>\n",
              "      <td>CORN GRAIN - YIELD MEASURED IN BU / ACRE</td>\n",
              "      <td>TOTAL</td>\n",
              "      <td>NOT SPECIFIED</td>\n",
              "      <td>157.5</td>\n",
              "      <td>NaN</td>\n",
              "    </tr>\n",
              "    <tr>\n",
              "      <th>4468</th>\n",
              "      <td>SURVEY</td>\n",
              "      <td>2019</td>\n",
              "      <td>CENTRAL</td>\n",
              "      <td>50</td>\n",
              "      <td>OTHER (COMBINED) COUNTIES</td>\n",
              "      <td>NaN</td>\n",
              "      <td>CORN</td>\n",
              "      <td>CORN GRAIN - YIELD MEASURED IN BU / ACRE</td>\n",
              "      <td>TOTAL</td>\n",
              "      <td>NOT SPECIFIED</td>\n",
              "      <td>122.7</td>\n",
              "      <td>NaN</td>\n",
              "    </tr>\n",
              "    <tr>\n",
              "      <th>4475</th>\n",
              "      <td>SURVEY</td>\n",
              "      <td>2019</td>\n",
              "      <td>CENTRAL</td>\n",
              "      <td>50</td>\n",
              "      <td>OTSEGO</td>\n",
              "      <td>77.0</td>\n",
              "      <td>CORN</td>\n",
              "      <td>CORN GRAIN - YIELD MEASURED IN BU / ACRE</td>\n",
              "      <td>TOTAL</td>\n",
              "      <td>NOT SPECIFIED</td>\n",
              "      <td>126.8</td>\n",
              "      <td>NaN</td>\n",
              "    </tr>\n",
              "    <tr>\n",
              "      <th>4488</th>\n",
              "      <td>SURVEY</td>\n",
              "      <td>2019</td>\n",
              "      <td>EASTERN</td>\n",
              "      <td>60</td>\n",
              "      <td>OTHER (COMBINED) COUNTIES</td>\n",
              "      <td>NaN</td>\n",
              "      <td>CORN</td>\n",
              "      <td>CORN GRAIN - YIELD MEASURED IN BU / ACRE</td>\n",
              "      <td>TOTAL</td>\n",
              "      <td>NOT SPECIFIED</td>\n",
              "      <td>170.1</td>\n",
              "      <td>NaN</td>\n",
              "    </tr>\n",
              "    <tr>\n",
              "      <th>4495</th>\n",
              "      <td>SURVEY</td>\n",
              "      <td>2019</td>\n",
              "      <td>EASTERN</td>\n",
              "      <td>60</td>\n",
              "      <td>RENSSELAER</td>\n",
              "      <td>83.0</td>\n",
              "      <td>CORN</td>\n",
              "      <td>CORN GRAIN - YIELD MEASURED IN BU / ACRE</td>\n",
              "      <td>TOTAL</td>\n",
              "      <td>NOT SPECIFIED</td>\n",
              "      <td>165.2</td>\n",
              "      <td>NaN</td>\n",
              "    </tr>\n",
              "  </tbody>\n",
              "</table>\n",
              "</div>"
            ],
            "text/plain": [
              "     Program  Year Ag District  ...  Domain Category  Value  CV (%)\n",
              "4429  SURVEY  2019     CENTRAL  ...    NOT SPECIFIED  158.0     NaN\n",
              "4436  SURVEY  2019     CENTRAL  ...    NOT SPECIFIED  157.6     NaN\n",
              "4443  SURVEY  2019     CENTRAL  ...    NOT SPECIFIED  147.9     NaN\n",
              "4447  SURVEY  2019     CENTRAL  ...    NOT SPECIFIED  139.3     NaN\n",
              "4454  SURVEY  2019     CENTRAL  ...    NOT SPECIFIED  154.4     NaN\n",
              "4461  SURVEY  2019     CENTRAL  ...    NOT SPECIFIED  157.5     NaN\n",
              "4468  SURVEY  2019     CENTRAL  ...    NOT SPECIFIED  122.7     NaN\n",
              "4475  SURVEY  2019     CENTRAL  ...    NOT SPECIFIED  126.8     NaN\n",
              "4488  SURVEY  2019     EASTERN  ...    NOT SPECIFIED  170.1     NaN\n",
              "4495  SURVEY  2019     EASTERN  ...    NOT SPECIFIED  165.2     NaN\n",
              "\n",
              "[10 rows x 12 columns]"
            ]
          },
          "metadata": {
            "tags": []
          },
          "execution_count": 18
        }
      ]
    },
    {
      "cell_type": "code",
      "metadata": {
        "colab": {
          "base_uri": "https://localhost:8080/"
        },
        "id": "QuMCSTZfp7Zn",
        "outputId": "7f83db79-0bff-4584-da0f-d2fd509c4ec0"
      },
      "source": [
        "yield_corn_df.nunique()"
      ],
      "execution_count": 19,
      "outputs": [
        {
          "output_type": "execute_result",
          "data": {
            "text/plain": [
              "Program               1\n",
              "Year                 48\n",
              "Ag District           9\n",
              "Ag District Code      9\n",
              "County               54\n",
              "County ANSI          53\n",
              "Commodity             1\n",
              "Data Item             1\n",
              "Domain                1\n",
              "Domain Category       1\n",
              "Value               472\n",
              "CV (%)                0\n",
              "dtype: int64"
            ]
          },
          "metadata": {
            "tags": []
          },
          "execution_count": 19
        }
      ]
    },
    {
      "cell_type": "code",
      "metadata": {
        "colab": {
          "base_uri": "https://localhost:8080/",
          "height": 549
        },
        "id": "Mt8btKxyrMdF",
        "outputId": "2ee30817-8da2-4c73-c5b2-474c3e40aa33"
      },
      "source": [
        "acresplanted_corn=corn.copy()\n",
        "acresplanted_corn.head()\n",
        "acresplanted_corn = acresplanted_corn[acresplanted_corn[\"Data Item\"]==\"CORN - ACRES PLANTED\"]\n",
        "print(acresplanted_corn.shape)\n",
        "acresplanted_corn.info()  \n",
        "acresplanted_corn.head()"
      ],
      "execution_count": 20,
      "outputs": [
        {
          "output_type": "stream",
          "text": [
            "(2372, 12)\n",
            "<class 'pandas.core.frame.DataFrame'>\n",
            "Int64Index: 2372 entries, 4426 to 21702\n",
            "Data columns (total 12 columns):\n",
            " #   Column            Non-Null Count  Dtype   \n",
            "---  ------            --------------  -----   \n",
            " 0   Program           2372 non-null   category\n",
            " 1   Year              2372 non-null   int64   \n",
            " 2   Ag District       2372 non-null   category\n",
            " 3   Ag District Code  2372 non-null   int64   \n",
            " 4   County            2372 non-null   category\n",
            " 5   County ANSI       2283 non-null   float64 \n",
            " 6   Commodity         2372 non-null   string  \n",
            " 7   Data Item         2372 non-null   category\n",
            " 8   Domain            2372 non-null   category\n",
            " 9   Domain Category   2372 non-null   category\n",
            " 10  Value             2372 non-null   float64 \n",
            " 11  CV (%)            0 non-null      object  \n",
            "dtypes: category(6), float64(2), int64(2), object(1), string(1)\n",
            "memory usage: 148.3+ KB\n"
          ],
          "name": "stdout"
        },
        {
          "output_type": "execute_result",
          "data": {
            "text/html": [
              "<div>\n",
              "<style scoped>\n",
              "    .dataframe tbody tr th:only-of-type {\n",
              "        vertical-align: middle;\n",
              "    }\n",
              "\n",
              "    .dataframe tbody tr th {\n",
              "        vertical-align: top;\n",
              "    }\n",
              "\n",
              "    .dataframe thead th {\n",
              "        text-align: right;\n",
              "    }\n",
              "</style>\n",
              "<table border=\"1\" class=\"dataframe\">\n",
              "  <thead>\n",
              "    <tr style=\"text-align: right;\">\n",
              "      <th></th>\n",
              "      <th>Program</th>\n",
              "      <th>Year</th>\n",
              "      <th>Ag District</th>\n",
              "      <th>Ag District Code</th>\n",
              "      <th>County</th>\n",
              "      <th>County ANSI</th>\n",
              "      <th>Commodity</th>\n",
              "      <th>Data Item</th>\n",
              "      <th>Domain</th>\n",
              "      <th>Domain Category</th>\n",
              "      <th>Value</th>\n",
              "      <th>CV (%)</th>\n",
              "    </tr>\n",
              "  </thead>\n",
              "  <tbody>\n",
              "    <tr>\n",
              "      <th>4426</th>\n",
              "      <td>SURVEY</td>\n",
              "      <td>2019</td>\n",
              "      <td>CENTRAL</td>\n",
              "      <td>50</td>\n",
              "      <td>CAYUGA</td>\n",
              "      <td>11.0</td>\n",
              "      <td>CORN</td>\n",
              "      <td>CORN - ACRES PLANTED</td>\n",
              "      <td>TOTAL</td>\n",
              "      <td>NOT SPECIFIED</td>\n",
              "      <td>68000.0</td>\n",
              "      <td>NaN</td>\n",
              "    </tr>\n",
              "    <tr>\n",
              "      <th>4433</th>\n",
              "      <td>SURVEY</td>\n",
              "      <td>2019</td>\n",
              "      <td>CENTRAL</td>\n",
              "      <td>50</td>\n",
              "      <td>CORTLAND</td>\n",
              "      <td>23.0</td>\n",
              "      <td>CORN</td>\n",
              "      <td>CORN - ACRES PLANTED</td>\n",
              "      <td>TOTAL</td>\n",
              "      <td>NOT SPECIFIED</td>\n",
              "      <td>16000.0</td>\n",
              "      <td>NaN</td>\n",
              "    </tr>\n",
              "    <tr>\n",
              "      <th>4440</th>\n",
              "      <td>SURVEY</td>\n",
              "      <td>2019</td>\n",
              "      <td>CENTRAL</td>\n",
              "      <td>50</td>\n",
              "      <td>HERKIMER</td>\n",
              "      <td>43.0</td>\n",
              "      <td>CORN</td>\n",
              "      <td>CORN - ACRES PLANTED</td>\n",
              "      <td>TOTAL</td>\n",
              "      <td>NOT SPECIFIED</td>\n",
              "      <td>15400.0</td>\n",
              "      <td>NaN</td>\n",
              "    </tr>\n",
              "    <tr>\n",
              "      <th>4444</th>\n",
              "      <td>SURVEY</td>\n",
              "      <td>2019</td>\n",
              "      <td>CENTRAL</td>\n",
              "      <td>50</td>\n",
              "      <td>MADISON</td>\n",
              "      <td>53.0</td>\n",
              "      <td>CORN</td>\n",
              "      <td>CORN - ACRES PLANTED</td>\n",
              "      <td>TOTAL</td>\n",
              "      <td>NOT SPECIFIED</td>\n",
              "      <td>26600.0</td>\n",
              "      <td>NaN</td>\n",
              "    </tr>\n",
              "    <tr>\n",
              "      <th>4451</th>\n",
              "      <td>SURVEY</td>\n",
              "      <td>2019</td>\n",
              "      <td>CENTRAL</td>\n",
              "      <td>50</td>\n",
              "      <td>ONEIDA</td>\n",
              "      <td>65.0</td>\n",
              "      <td>CORN</td>\n",
              "      <td>CORN - ACRES PLANTED</td>\n",
              "      <td>TOTAL</td>\n",
              "      <td>NOT SPECIFIED</td>\n",
              "      <td>34700.0</td>\n",
              "      <td>NaN</td>\n",
              "    </tr>\n",
              "  </tbody>\n",
              "</table>\n",
              "</div>"
            ],
            "text/plain": [
              "     Program  Year Ag District  ...  Domain Category    Value  CV (%)\n",
              "4426  SURVEY  2019     CENTRAL  ...    NOT SPECIFIED  68000.0     NaN\n",
              "4433  SURVEY  2019     CENTRAL  ...    NOT SPECIFIED  16000.0     NaN\n",
              "4440  SURVEY  2019     CENTRAL  ...    NOT SPECIFIED  15400.0     NaN\n",
              "4444  SURVEY  2019     CENTRAL  ...    NOT SPECIFIED  26600.0     NaN\n",
              "4451  SURVEY  2019     CENTRAL  ...    NOT SPECIFIED  34700.0     NaN\n",
              "\n",
              "[5 rows x 12 columns]"
            ]
          },
          "metadata": {
            "tags": []
          },
          "execution_count": 20
        }
      ]
    },
    {
      "cell_type": "markdown",
      "metadata": {
        "id": "38QcJ5arbL5u"
      },
      "source": [
        "Agricultural District vs. Corn output\n",
        "\n",
        "\n",
        "*   Mostly same, Western County seems to have a bit more yield compared to others\n",
        "\n",
        "\n",
        "*   Also interesting that Long Island, Northeast, Southeast, Southern had less Corn acres planted, but still had good yield\n",
        "\n",
        "\n",
        "\n",
        "\n",
        "\n",
        "\n"
      ]
    },
    {
      "cell_type": "code",
      "metadata": {
        "colab": {
          "base_uri": "https://localhost:8080/",
          "height": 404
        },
        "id": "Hvg07Zc-vk11",
        "outputId": "f763084f-092a-4dd8-fbb3-5622fbec930c"
      },
      "source": [
        "\n",
        "plt.figure(figsize=(12,6))\n",
        "plt.title(\"Corn output by Agricultural District\")\n",
        "\n",
        "sns.barplot(x=\"Ag District\", y=\"Value\", data=yield_corn_df)\n",
        "\n",
        "plt.xlabel('Agricultural District')\n",
        "plt.ylabel('Corn Yield (BU/acre)');"
      ],
      "execution_count": 23,
      "outputs": [
        {
          "output_type": "display_data",
          "data": {
            "image/png": "[encoded data removed]",
            "text/plain": [
              "<Figure size 864x432 with 1 Axes>"
            ]
          },
          "metadata": {
            "tags": [],
            "needs_background": "light"
          }
        }
      ]
    },
    {
      "cell_type": "markdown",
      "metadata": {
        "id": "JoeGNTAfsDnh"
      },
      "source": [
        "Can see that amount of corn planted is varied by district, Western has planted the most"
      ]
    },
    {
      "cell_type": "code",
      "metadata": {
        "colab": {
          "base_uri": "https://localhost:8080/",
          "height": 421
        },
        "id": "dSJtOxQXr3ZY",
        "outputId": "6bbcafca-3a55-4f54-efcb-5920ae8aa4db"
      },
      "source": [
        "plt.figure(figsize=(12,6))\n",
        "plt.title(\"Corn acres planted per district\")\n",
        "\n",
        "sns.barplot(x=\"Ag District\", y=\"Value\", data=acresplanted_corn)\n",
        "\n",
        "plt.xlabel('Agricultural District')\n",
        "plt.ylabel('Corn acres planted')"
      ],
      "execution_count": 24,
      "outputs": [
        {
          "output_type": "execute_result",
          "data": {
            "text/plain": [
              "Text(0, 0.5, 'Corn acres planted')"
            ]
          },
          "metadata": {
            "tags": []
          },
          "execution_count": 24
        },
        {
          "output_type": "display_data",
          "data": {
            "image/png": "[encoded data removed]",
            "text/plain": [
              "<Figure size 864x432 with 1 Axes>"
            ]
          },
          "metadata": {
            "tags": [],
            "needs_background": "light"
          }
        }
      ]
    },
    {
      "cell_type": "markdown",
      "metadata": {
        "id": "y3TcHJt8dUb7"
      },
      "source": [
        "the amount of corn yield has increased over time\n"
      ]
    },
    {
      "cell_type": "code",
      "metadata": {
        "colab": {
          "base_uri": "https://localhost:8080/",
          "height": 531
        },
        "id": "3ZpYwHYkcNtR",
        "outputId": "8205ecfe-9654-4521-9cf6-fb88e5762473"
      },
      "source": [
        "plt.figure(figsize=(12,8))\n",
        "plt.title(\"Corn Yield over the Years\")\n",
        "\n",
        "\n",
        "sns.regplot(x=\"Year\", y=\"Value\", data=yield_corn_df)\n",
        "plt.xlabel(\"Year\")\n",
        "plt.ylabel(\"Corn Yield (BU/acre)\")"
      ],
      "execution_count": 34,
      "outputs": [
        {
          "output_type": "execute_result",
          "data": {
            "text/plain": [
              "Text(0, 0.5, 'Corn Yield (BU/acre)')"
            ]
          },
          "metadata": {
            "tags": []
          },
          "execution_count": 34
        },
        {
          "output_type": "display_data",
          "data": {
            "image/png": "[encoded data removed]",
            "text/plain": [
              "<Figure size 864x576 with 1 Axes>"
            ]
          },
          "metadata": {
            "tags": [],
            "needs_background": "light"
          }
        }
      ]
    },
    {
      "cell_type": "markdown",
      "metadata": {
        "id": "ME34McM_s2rX"
      },
      "source": [
        "Amount of corn acres planted has been stagnant over the years"
      ]
    },
    {
      "cell_type": "code",
      "metadata": {
        "colab": {
          "base_uri": "https://localhost:8080/",
          "height": 531
        },
        "id": "KWvwP-afsWdh",
        "outputId": "4af03a8d-eee4-4541-98c7-0ad4c40342cc"
      },
      "source": [
        "plt.figure(figsize=(12,8))\n",
        "plt.title(\"Corn Planted over the Years\")\n",
        "sns.regplot(x=\"Year\", y=\"Value\", data=acresplanted_corn)\n",
        "plt.ylabel(\"acres planted\")"
      ],
      "execution_count": 35,
      "outputs": [
        {
          "output_type": "execute_result",
          "data": {
            "text/plain": [
              "Text(0, 0.5, 'acres planted')"
            ]
          },
          "metadata": {
            "tags": []
          },
          "execution_count": 35
        },
        {
          "output_type": "display_data",
          "data": {
            "image/png": "[encoded data removed]",
            "text/plain": [
              "<Figure size 864x576 with 1 Axes>"
            ]
          },
          "metadata": {
            "tags": [],
            "needs_background": "light"
          }
        }
      ]
    },
    {
      "cell_type": "markdown",
      "metadata": {
        "id": "6cIuw6sldd7U"
      },
      "source": [
        "Some county stats\n",
        "\n",
        "\n",
        "*   See that most counties have similar corn yield (few exceptions exist)\n",
        "\n",
        "\n"
      ]
    },
    {
      "cell_type": "code",
      "metadata": {
        "colab": {
          "base_uri": "https://localhost:8080/",
          "height": 911
        },
        "id": "2W20_J6DQt-P",
        "outputId": "f529d1d8-0990-4ce6-8639-202da66b7a71"
      },
      "source": [
        "plt.subplots(figsize=(6, 15))\n",
        "plt.title(\"Corn Output by County\")\n",
        "corn.sort_values(\"Value\", ascending=True)\n",
        "sns.set_color_codes(\"pastel\")\n",
        "sns.barplot(x=\"Value\", y=\"County\", data=yield_corn_df,\n",
        "            label=\"Corn Output\", color=\"b\")\n",
        "plt.xlabel(\"Yield\")\n"
      ],
      "execution_count": 37,
      "outputs": [
        {
          "output_type": "execute_result",
          "data": {
            "text/plain": [
              "Text(0.5, 0, 'Yield')"
            ]
          },
          "metadata": {
            "tags": []
          },
          "execution_count": 37
        },
        {
          "output_type": "display_data",
          "data": {
            "image/png": "[encoded data removed]",
            "text/plain": [
              "<Figure size 432x1080 with 1 Axes>"
            ]
          },
          "metadata": {
            "tags": [],
            "needs_background": "light"
          }
        }
      ]
    },
    {
      "cell_type": "markdown",
      "metadata": {
        "id": "lAwLm1_cdpHV"
      },
      "source": [
        "Top 10 counties by corn production"
      ]
    },
    {
      "cell_type": "code",
      "metadata": {
        "colab": {
          "base_uri": "https://localhost:8080/"
        },
        "id": "2w6wi1TVJJh-",
        "outputId": "49ccfd48-333a-407c-a4bd-0ecce84c2a0b"
      },
      "source": [
        "top_counties = yield_corn_df.groupby(\"County\").sum()\n",
        "top_counties.Value.sort_values(ascending=False)[:10]\n"
      ],
      "execution_count": 42,
      "outputs": [
        {
          "output_type": "execute_result",
          "data": {
            "text/plain": [
              "County\n",
              "OTHER (COMBINED) COUNTIES    10628.0\n",
              "CAYUGA                        5462.0\n",
              "ONONDAGA                      5340.9\n",
              "ONEIDA                        5328.4\n",
              "WAYNE                         5294.4\n",
              "ONTARIO                       5281.3\n",
              "WYOMING                       5242.6\n",
              "LIVINGSTON                    5211.3\n",
              "GENESEE                       5172.2\n",
              "RENSSELAER                    5133.0\n",
              "Name: Value, dtype: float64"
            ]
          },
          "metadata": {
            "tags": []
          },
          "execution_count": 42
        }
      ]
    },
    {
      "cell_type": "markdown",
      "metadata": {
        "id": "fbEOZbdcd4Py"
      },
      "source": [
        "Of the top five counties which have the highest corn yield, here are the corresponding percentages - aside from other combined counties, most percentages are roughly equal. \n",
        "\n",
        "\n"
      ]
    },
    {
      "cell_type": "code",
      "metadata": {
        "colab": {
          "base_uri": "https://localhost:8080/",
          "height": 326
        },
        "id": "xGfLuB3xOCO_",
        "outputId": "d2f9c7fc-206b-4254-9565-3e9b14ea361e"
      },
      "source": [
        "plt.figure(figsize=(5,6))\n",
        "plt.title(\"Top 5 Corn Counties and yield of corn contribution\")\n",
        "labels = \"OTHER (COMBINED) COUNTIES\", \"CAYUGA\", \"ONONDAGA\", \"ONEIDA\", \"WAYNE\"\n",
        "values = [10628.0, 5462.0, 5340.9,5328.4, 5294.4]\n",
        "colors = \"red\", \"orange\", \"yellow\", \"green\", \"blue\", \"purple\"\n",
        "plt.pie(values, labels=labels, colors=colors, autopct=\"%1.1f%%\");"
      ],
      "execution_count": 43,
      "outputs": [
        {
          "output_type": "display_data",
          "data": {
            "image/png": "[encoded data removed]",
            "text/plain": [
              "<Figure size 360x432 with 1 Axes>"
            ]
          },
          "metadata": {
            "tags": []
          }
        }
      ]
    },
    {
      "cell_type": "markdown",
      "metadata": {
        "id": "2MfCLnomNcV1"
      },
      "source": [
        "Acres planted, by County - slightly different than yield"
      ]
    },
    {
      "cell_type": "code",
      "metadata": {
        "colab": {
          "base_uri": "https://localhost:8080/"
        },
        "id": "AO0OzX6nNRuo",
        "outputId": "0c8667da-3daa-4cec-a6b8-5ceb781e76a1"
      },
      "source": [
        "top_counties = acresplanted_corn.groupby(\"County\").sum()\n",
        "top_counties.Value.sort_values(ascending=False)[:10]"
      ],
      "execution_count": 44,
      "outputs": [
        {
          "output_type": "execute_result",
          "data": {
            "text/plain": [
              "County\n",
              "CAYUGA                       3490800.0\n",
              "LIVINGSTON                   2517200.0\n",
              "ONTARIO                      2301900.0\n",
              "WYOMING                      2295600.0\n",
              "GENESEE                      2240100.0\n",
              "OTHER (COMBINED) COUNTIES    2185500.0\n",
              "ONONDAGA                     1925800.0\n",
              "STEUBEN                      1920100.0\n",
              "ONEIDA                       1827400.0\n",
              "JEFFERSON                    1821300.0\n",
              "Name: Value, dtype: float64"
            ]
          },
          "metadata": {
            "tags": []
          },
          "execution_count": 44
        }
      ]
    },
    {
      "cell_type": "markdown",
      "metadata": {
        "id": "2jzOOEemOZSD"
      },
      "source": [
        "We see Wyoming and Genesee comes up in the top 5 counties for most corn acres planted, however fails to show up in most yield."
      ]
    },
    {
      "cell_type": "code",
      "metadata": {
        "colab": {
          "base_uri": "https://localhost:8080/",
          "height": 326
        },
        "id": "JabMi2MjNoAy",
        "outputId": "daeb5fb5-9224-40d9-b966-89b95e97272f"
      },
      "source": [
        "plt.figure(figsize=(5,6))\n",
        "plt.title(\"Top 5 Counties with most acres of corn planted\")\n",
        "labels = \"CAYUGA\", \"LIVINGSTON\", \"ONTARIO\", \"WYOMING\", \"GENESEE\"\n",
        "values = [3490800.0, 2517200.0, 2301900.0,2295600.0, 2240100.0]\n",
        "colors = \"red\", \"orange\", \"yellow\", \"green\", \"blue\", \"purple\"\n",
        "plt.pie(values, labels=labels, colors=colors, autopct=\"%1.1f%%\");"
      ],
      "execution_count": 45,
      "outputs": [
        {
          "output_type": "display_data",
          "data": {
            "image/png": "[encoded data removed]",
            "text/plain": [
              "<Figure size 360x432 with 1 Axes>"
            ]
          },
          "metadata": {
            "tags": []
          }
        }
      ]
    },
    {
      "cell_type": "markdown",
      "metadata": {
        "id": "YLVnDpqRhVyx"
      },
      "source": [
        "Now recent years"
      ]
    },
    {
      "cell_type": "code",
      "metadata": {
        "id": "rD_SznFlDQBa"
      },
      "source": [
        "\n",
        "recent = yield_corn_df[yield_corn_df[\"Year\"]>=2015]\n",
        "recent\n",
        "recent_planted = acresplanted_corn[acresplanted_corn[\"Year\"]>=2015]"
      ],
      "execution_count": 47,
      "outputs": []
    },
    {
      "cell_type": "markdown",
      "metadata": {
        "id": "JJcxgz3DimTa"
      },
      "source": [
        "In recent years, we see that Northeast is producing more than Western (what we saw before)\n",
        "\n"
      ]
    },
    {
      "cell_type": "code",
      "metadata": {
        "colab": {
          "base_uri": "https://localhost:8080/",
          "height": 809
        },
        "id": "HOtph61niEFe",
        "outputId": "4a91d2bb-3ca6-42e2-9897-f1b70b2ed0bf"
      },
      "source": [
        "plt.figure(figsize=(12,6))\n",
        "sns.barplot(x=\"Ag District\", y=\"Value\", data=recent)\n",
        "plt.title(\"Yield since 2015\")\n",
        "plt.xlabel(\"Agricultural District\")\n",
        "plt.ylabel(\"Yield\")\n",
        "\n",
        "plt.figure(figsize=(12,6))\n",
        "sns.barplot(x=\"Ag District\", y=\"Value\", data=recent_planted)\n",
        "plt.title(\"Acres Planted since 2015\")\n",
        "plt.xlabel(\"Agricultural District\")\n",
        "plt.ylabel(\"Acres planted\")"
      ],
      "execution_count": 48,
      "outputs": [
        {
          "output_type": "execute_result",
          "data": {
            "text/plain": [
              "Text(0, 0.5, 'Acres planted')"
            ]
          },
          "metadata": {
            "tags": []
          },
          "execution_count": 48
        },
        {
          "output_type": "display_data",
          "data": {
            "image/png": "[encoded data removed]",
            "text/plain": [
              "<Figure size 864x432 with 1 Axes>"
            ]
          },
          "metadata": {
            "tags": [],
            "needs_background": "light"
          }
        },
        {
          "output_type": "display_data",
          "data": {
            "image/png": "[encoded data removed]",
            "text/plain": [
              "<Figure size 864x432 with 1 Axes>"
            ]
          },
          "metadata": {
            "tags": [],
            "needs_background": "light"
          }
        }
      ]
    },
    {
      "cell_type": "markdown",
      "metadata": {
        "id": "_GEWrTzoRdYK"
      },
      "source": [
        "After taking a deeper look into recent years, it seems that output peaked in 2018. "
      ]
    },
    {
      "cell_type": "code",
      "metadata": {
        "id": "i5vFfiizjDqr",
        "colab": {
          "base_uri": "https://localhost:8080/",
          "height": 421
        },
        "outputId": "f6687efa-cca6-48f2-f406-43e087bc1ed3"
      },
      "source": [
        "plt.figure(figsize=(6,6))\n",
        "plt.title(\"Yield over the last few years on average\")\n",
        "yield_peryear = recent.groupby(\"Year\")[[\"Value\"]].mean().reset_index()\n",
        "sns.lineplot(x=\"Year\", y=\"Value\", data=yield_peryear )\n",
        "plt.ylabel(\"Yield\")"
      ],
      "execution_count": 57,
      "outputs": [
        {
          "output_type": "execute_result",
          "data": {
            "text/plain": [
              "Text(0, 0.5, 'Yield')"
            ]
          },
          "metadata": {
            "tags": []
          },
          "execution_count": 57
        },
        {
          "output_type": "display_data",
          "data": {
            "image/png": "[encoded data removed]",
            "text/plain": [
              "<Figure size 432x432 with 1 Axes>"
            ]
          },
          "metadata": {
            "tags": [],
            "needs_background": "light"
          }
        }
      ]
    },
    {
      "cell_type": "markdown",
      "metadata": {
        "id": "kz4OSgssNYyg"
      },
      "source": [
        "Most planted in 2018; in sync with the higher yield output from above\n",
        "\n"
      ]
    },
    {
      "cell_type": "code",
      "metadata": {
        "id": "YAg3NkJXkcI3",
        "colab": {
          "base_uri": "https://localhost:8080/",
          "height": 421
        },
        "outputId": "50f28224-b57f-4edf-e762-6bde6be5a825"
      },
      "source": [
        "plt.figure(figsize=(6,6))\n",
        "plt.title(\"acres planted over the last few years on average\")\n",
        "acres_peryear = recent_planted.groupby(\"Year\")[[\"Value\"]].mean().reset_index()\n",
        "sns.lineplot(x=\"Year\", y=\"Value\", data=acres_peryear )\n",
        "plt.ylabel(\"acres planted\")"
      ],
      "execution_count": 56,
      "outputs": [
        {
          "output_type": "execute_result",
          "data": {
            "text/plain": [
              "Text(0, 0.5, 'acres planted')"
            ]
          },
          "metadata": {
            "tags": []
          },
          "execution_count": 56
        },
        {
          "output_type": "display_data",
          "data": {
            "image/png": "[encoded data removed]",
            "text/plain": [
              "<Figure size 432x432 with 1 Axes>"
            ]
          },
          "metadata": {
            "tags": [],
            "needs_background": "light"
          }
        }
      ]
    }
  ]
}