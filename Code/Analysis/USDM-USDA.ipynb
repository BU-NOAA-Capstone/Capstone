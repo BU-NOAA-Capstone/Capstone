{
 "cells": [
  {
   "cell_type": "code",
   "execution_count": 98,
   "id": "terminal-taylor",
   "metadata": {},
   "outputs": [],
   "source": [
    "import pandas as pd\n",
    "import numpy as np\n",
    "import json\n",
    "import os"
   ]
  },
  {
   "cell_type": "code",
   "execution_count": 99,
   "id": "checked-designation",
   "metadata": {},
   "outputs": [],
   "source": [
    "# Load the USDM data\n",
    "path = '../../../../../../../Google Drive/Shared drives/Capstone Project/Data/USDM/'\n",
    "filename = 'CountyUSDM_112000-12312020'"
   ]
  },
  {
   "cell_type": "code",
   "execution_count": 100,
   "id": "automated-mount",
   "metadata": {},
   "outputs": [],
   "source": [
    "usdm_df = pd.read_csv(path+filename+'.csv')"
   ]
  },
  {
   "cell_type": "code",
   "execution_count": 102,
   "id": "eligible-simple",
   "metadata": {},
   "outputs": [
    {
     "name": "stdout",
     "output_type": "stream",
     "text": [
      "<class 'pandas.core.frame.DataFrame'>\n",
      "RangeIndex: 67952 entries, 0 to 67951\n",
      "Data columns (total 13 columns):\n",
      " #   Column             Non-Null Count  Dtype  \n",
      "---  ------             --------------  -----  \n",
      " 0   MapDate            67952 non-null  int64  \n",
      " 1   FIPS               67952 non-null  int64  \n",
      " 2   County             67952 non-null  object \n",
      " 3   State              67952 non-null  object \n",
      " 4   None               67952 non-null  float64\n",
      " 5   D0                 67952 non-null  float64\n",
      " 6   D1                 67952 non-null  float64\n",
      " 7   D2                 67952 non-null  float64\n",
      " 8   D3                 67952 non-null  float64\n",
      " 9   D4                 67952 non-null  float64\n",
      " 10  ValidStart         67952 non-null  object \n",
      " 11  ValidEnd           67952 non-null  object \n",
      " 12  StatisticFormatID  67952 non-null  int64  \n",
      "dtypes: float64(6), int64(3), object(4)\n",
      "memory usage: 6.7+ MB\n"
     ]
    }
   ],
   "source": [
    "usdm_df.info()"
   ]
  },
  {
   "cell_type": "code",
   "execution_count": 101,
   "id": "coupled-sharing",
   "metadata": {},
   "outputs": [
    {
     "data": {
      "text/html": [
       "<div>\n",
       "<style scoped>\n",
       "    .dataframe tbody tr th:only-of-type {\n",
       "        vertical-align: middle;\n",
       "    }\n",
       "\n",
       "    .dataframe tbody tr th {\n",
       "        vertical-align: top;\n",
       "    }\n",
       "\n",
       "    .dataframe thead th {\n",
       "        text-align: right;\n",
       "    }\n",
       "</style>\n",
       "<table border=\"1\" class=\"dataframe\">\n",
       "  <thead>\n",
       "    <tr style=\"text-align: right;\">\n",
       "      <th></th>\n",
       "      <th>MapDate</th>\n",
       "      <th>FIPS</th>\n",
       "      <th>County</th>\n",
       "      <th>State</th>\n",
       "      <th>None</th>\n",
       "      <th>D0</th>\n",
       "      <th>D1</th>\n",
       "      <th>D2</th>\n",
       "      <th>D3</th>\n",
       "      <th>D4</th>\n",
       "      <th>ValidStart</th>\n",
       "      <th>ValidEnd</th>\n",
       "      <th>StatisticFormatID</th>\n",
       "    </tr>\n",
       "  </thead>\n",
       "  <tbody>\n",
       "    <tr>\n",
       "      <th>0</th>\n",
       "      <td>20201229</td>\n",
       "      <td>36001</td>\n",
       "      <td>Albany County</td>\n",
       "      <td>NY</td>\n",
       "      <td>100.0</td>\n",
       "      <td>0.0</td>\n",
       "      <td>0.0</td>\n",
       "      <td>0.0</td>\n",
       "      <td>0.0</td>\n",
       "      <td>0.0</td>\n",
       "      <td>2020-12-29</td>\n",
       "      <td>2021-01-04</td>\n",
       "      <td>1</td>\n",
       "    </tr>\n",
       "    <tr>\n",
       "      <th>1</th>\n",
       "      <td>20201222</td>\n",
       "      <td>36001</td>\n",
       "      <td>Albany County</td>\n",
       "      <td>NY</td>\n",
       "      <td>100.0</td>\n",
       "      <td>0.0</td>\n",
       "      <td>0.0</td>\n",
       "      <td>0.0</td>\n",
       "      <td>0.0</td>\n",
       "      <td>0.0</td>\n",
       "      <td>2020-12-22</td>\n",
       "      <td>2020-12-28</td>\n",
       "      <td>1</td>\n",
       "    </tr>\n",
       "    <tr>\n",
       "      <th>2</th>\n",
       "      <td>20201215</td>\n",
       "      <td>36001</td>\n",
       "      <td>Albany County</td>\n",
       "      <td>NY</td>\n",
       "      <td>100.0</td>\n",
       "      <td>0.0</td>\n",
       "      <td>0.0</td>\n",
       "      <td>0.0</td>\n",
       "      <td>0.0</td>\n",
       "      <td>0.0</td>\n",
       "      <td>2020-12-15</td>\n",
       "      <td>2020-12-21</td>\n",
       "      <td>1</td>\n",
       "    </tr>\n",
       "    <tr>\n",
       "      <th>3</th>\n",
       "      <td>20201208</td>\n",
       "      <td>36001</td>\n",
       "      <td>Albany County</td>\n",
       "      <td>NY</td>\n",
       "      <td>100.0</td>\n",
       "      <td>0.0</td>\n",
       "      <td>0.0</td>\n",
       "      <td>0.0</td>\n",
       "      <td>0.0</td>\n",
       "      <td>0.0</td>\n",
       "      <td>2020-12-08</td>\n",
       "      <td>2020-12-14</td>\n",
       "      <td>1</td>\n",
       "    </tr>\n",
       "    <tr>\n",
       "      <th>4</th>\n",
       "      <td>20201201</td>\n",
       "      <td>36001</td>\n",
       "      <td>Albany County</td>\n",
       "      <td>NY</td>\n",
       "      <td>100.0</td>\n",
       "      <td>0.0</td>\n",
       "      <td>0.0</td>\n",
       "      <td>0.0</td>\n",
       "      <td>0.0</td>\n",
       "      <td>0.0</td>\n",
       "      <td>2020-12-01</td>\n",
       "      <td>2020-12-07</td>\n",
       "      <td>1</td>\n",
       "    </tr>\n",
       "  </tbody>\n",
       "</table>\n",
       "</div>"
      ],
      "text/plain": [
       "    MapDate   FIPS         County State   None   D0   D1   D2   D3   D4  \\\n",
       "0  20201229  36001  Albany County    NY  100.0  0.0  0.0  0.0  0.0  0.0   \n",
       "1  20201222  36001  Albany County    NY  100.0  0.0  0.0  0.0  0.0  0.0   \n",
       "2  20201215  36001  Albany County    NY  100.0  0.0  0.0  0.0  0.0  0.0   \n",
       "3  20201208  36001  Albany County    NY  100.0  0.0  0.0  0.0  0.0  0.0   \n",
       "4  20201201  36001  Albany County    NY  100.0  0.0  0.0  0.0  0.0  0.0   \n",
       "\n",
       "   ValidStart    ValidEnd  StatisticFormatID  \n",
       "0  2020-12-29  2021-01-04                  1  \n",
       "1  2020-12-22  2020-12-28                  1  \n",
       "2  2020-12-15  2020-12-21                  1  \n",
       "3  2020-12-08  2020-12-14                  1  \n",
       "4  2020-12-01  2020-12-07                  1  "
      ]
     },
     "execution_count": 101,
     "metadata": {},
     "output_type": "execute_result"
    }
   ],
   "source": [
    "usdm_df.head()"
   ]
  },
  {
   "cell_type": "code",
   "execution_count": null,
   "id": "covered-export",
   "metadata": {},
   "outputs": [],
   "source": []
  }
 ],
 "metadata": {
  "kernelspec": {
   "display_name": "Python 3",
   "language": "python",
   "name": "python3"
  },
  "language_info": {
   "codemirror_mode": {
    "name": "ipython",
    "version": 3
   },
   "file_extension": ".py",
   "mimetype": "text/x-python",
   "name": "python",
   "nbconvert_exporter": "python",
   "pygments_lexer": "ipython3",
   "version": "3.8.5"
  }
 },
 "nbformat": 4,
 "nbformat_minor": 5
}
