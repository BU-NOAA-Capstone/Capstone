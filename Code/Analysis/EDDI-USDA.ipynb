{
 "cells": [
  {
   "cell_type": "markdown",
   "id": "recorded-cologne",
   "metadata": {},
   "source": [
    "### This file takes in USDA and EDDI dataset and analyses the two in relation to each other"
   ]
  },
  {
   "cell_type": "code",
   "execution_count": 15,
   "id": "liberal-foster",
   "metadata": {},
   "outputs": [],
   "source": [
    "import numpy as np\n",
    "import pandas as pd\n",
    "import matplotlib.pyplot as plt"
   ]
  },
  {
   "cell_type": "code",
   "execution_count": 7,
   "id": "armed-announcement",
   "metadata": {},
   "outputs": [],
   "source": [
    "# Importing Corn NY data\n",
    "ny_corn = pd.read_csv('../../datasets/Corn-NY-All.csv')"
   ]
  },
  {
   "cell_type": "code",
   "execution_count": 35,
   "id": "welsh-glucose",
   "metadata": {},
   "outputs": [],
   "source": [
    "# Importing EDDI datasets\n",
    "EDDI_ETrs_01mn_20000101 = np.loadtxt\\\n",
    "('../../../../../../../Google Drive/My Drive/Capstone private/EDDI/2000/EDDI_ETrs_01mn_20000101.asc', skiprows=6)\n",
    "EDDI_ETrs_01mn_20000102 = np.loadtxt\\\n",
    "('../../../../../../../Google Drive/My Drive/Capstone private/EDDI/2000/EDDI_ETrs_01mn_20000102.asc', skiprows=6)"
   ]
  },
  {
   "cell_type": "code",
   "execution_count": 6,
   "id": "coordinate-kenya",
   "metadata": {},
   "outputs": [],
   "source": [
    "# Setting display options to ensure rows and columns are visible as expected\n",
    "pd.set_option('display.max_rows', None)\n",
    "pd.set_option('display.max_columns', None)"
   ]
  },
  {
   "cell_type": "code",
   "execution_count": 8,
   "id": "confidential-reproduction",
   "metadata": {},
   "outputs": [
    {
     "name": "stdout",
     "output_type": "stream",
     "text": [
      "<class 'pandas.core.frame.DataFrame'>\n",
      "RangeIndex: 21706 entries, 0 to 21705\n",
      "Data columns (total 21 columns):\n",
      " #   Column            Non-Null Count  Dtype  \n",
      "---  ------            --------------  -----  \n",
      " 0   Program           21706 non-null  object \n",
      " 1   Year              21706 non-null  int64  \n",
      " 2   Period            21706 non-null  object \n",
      " 3   Week Ending       0 non-null      float64\n",
      " 4   Geo Level         21706 non-null  object \n",
      " 5   State             21706 non-null  object \n",
      " 6   State ANSI        21706 non-null  int64  \n",
      " 7   Ag District       21706 non-null  object \n",
      " 8   Ag District Code  21706 non-null  int64  \n",
      " 9   County            21706 non-null  object \n",
      " 10  County ANSI       21081 non-null  float64\n",
      " 11  Zip Code          0 non-null      float64\n",
      " 12  Region            0 non-null      float64\n",
      " 13  watershed_code    21706 non-null  int64  \n",
      " 14  Watershed         0 non-null      float64\n",
      " 15  Commodity         21706 non-null  object \n",
      " 16  Data Item         21706 non-null  object \n",
      " 17  Domain            21706 non-null  object \n",
      " 18  Domain Category   21706 non-null  object \n",
      " 19  Value             21706 non-null  object \n",
      " 20  CV (%)            2045 non-null   object \n",
      "dtypes: float64(5), int64(4), object(12)\n",
      "memory usage: 3.5+ MB\n"
     ]
    }
   ],
   "source": [
    "ny_corn.info()"
   ]
  },
  {
   "cell_type": "code",
   "execution_count": 9,
   "id": "familiar-thought",
   "metadata": {},
   "outputs": [
    {
     "data": {
      "text/html": [
       "<div>\n",
       "<style scoped>\n",
       "    .dataframe tbody tr th:only-of-type {\n",
       "        vertical-align: middle;\n",
       "    }\n",
       "\n",
       "    .dataframe tbody tr th {\n",
       "        vertical-align: top;\n",
       "    }\n",
       "\n",
       "    .dataframe thead th {\n",
       "        text-align: right;\n",
       "    }\n",
       "</style>\n",
       "<table border=\"1\" class=\"dataframe\">\n",
       "  <thead>\n",
       "    <tr style=\"text-align: right;\">\n",
       "      <th></th>\n",
       "      <th>Program</th>\n",
       "      <th>Year</th>\n",
       "      <th>Period</th>\n",
       "      <th>Week Ending</th>\n",
       "      <th>Geo Level</th>\n",
       "      <th>State</th>\n",
       "      <th>State ANSI</th>\n",
       "      <th>Ag District</th>\n",
       "      <th>Ag District Code</th>\n",
       "      <th>County</th>\n",
       "      <th>County ANSI</th>\n",
       "      <th>Zip Code</th>\n",
       "      <th>Region</th>\n",
       "      <th>watershed_code</th>\n",
       "      <th>Watershed</th>\n",
       "      <th>Commodity</th>\n",
       "      <th>Data Item</th>\n",
       "      <th>Domain</th>\n",
       "      <th>Domain Category</th>\n",
       "      <th>Value</th>\n",
       "      <th>CV (%)</th>\n",
       "    </tr>\n",
       "  </thead>\n",
       "  <tbody>\n",
       "    <tr>\n",
       "      <th>0</th>\n",
       "      <td>CENSUS</td>\n",
       "      <td>2017</td>\n",
       "      <td>YEAR</td>\n",
       "      <td>NaN</td>\n",
       "      <td>COUNTY</td>\n",
       "      <td>NEW YORK</td>\n",
       "      <td>36</td>\n",
       "      <td>CENTRAL</td>\n",
       "      <td>50</td>\n",
       "      <td>CAYUGA</td>\n",
       "      <td>11.0</td>\n",
       "      <td>NaN</td>\n",
       "      <td>NaN</td>\n",
       "      <td>0</td>\n",
       "      <td>NaN</td>\n",
       "      <td>CORN</td>\n",
       "      <td>CORN - OPERATIONS WITH SALES</td>\n",
       "      <td>TOTAL</td>\n",
       "      <td>NOT SPECIFIED</td>\n",
       "      <td>260</td>\n",
       "      <td>24.2</td>\n",
       "    </tr>\n",
       "    <tr>\n",
       "      <th>1</th>\n",
       "      <td>CENSUS</td>\n",
       "      <td>2017</td>\n",
       "      <td>YEAR</td>\n",
       "      <td>NaN</td>\n",
       "      <td>COUNTY</td>\n",
       "      <td>NEW YORK</td>\n",
       "      <td>36</td>\n",
       "      <td>CENTRAL</td>\n",
       "      <td>50</td>\n",
       "      <td>CAYUGA</td>\n",
       "      <td>11.0</td>\n",
       "      <td>NaN</td>\n",
       "      <td>NaN</td>\n",
       "      <td>0</td>\n",
       "      <td>NaN</td>\n",
       "      <td>CORN</td>\n",
       "      <td>CORN - SALES, MEASURED IN $</td>\n",
       "      <td>TOTAL</td>\n",
       "      <td>NOT SPECIFIED</td>\n",
       "      <td>23,218,000</td>\n",
       "      <td>11.7</td>\n",
       "    </tr>\n",
       "    <tr>\n",
       "      <th>2</th>\n",
       "      <td>CENSUS</td>\n",
       "      <td>2017</td>\n",
       "      <td>YEAR</td>\n",
       "      <td>NaN</td>\n",
       "      <td>COUNTY</td>\n",
       "      <td>NEW YORK</td>\n",
       "      <td>36</td>\n",
       "      <td>CENTRAL</td>\n",
       "      <td>50</td>\n",
       "      <td>CAYUGA</td>\n",
       "      <td>11.0</td>\n",
       "      <td>NaN</td>\n",
       "      <td>NaN</td>\n",
       "      <td>0</td>\n",
       "      <td>NaN</td>\n",
       "      <td>CORN</td>\n",
       "      <td>CORN, GRAIN - ACRES HARVESTED</td>\n",
       "      <td>TOTAL</td>\n",
       "      <td>NOT SPECIFIED</td>\n",
       "      <td>27,223</td>\n",
       "      <td>12.4</td>\n",
       "    </tr>\n",
       "    <tr>\n",
       "      <th>3</th>\n",
       "      <td>CENSUS</td>\n",
       "      <td>2017</td>\n",
       "      <td>YEAR</td>\n",
       "      <td>NaN</td>\n",
       "      <td>COUNTY</td>\n",
       "      <td>NEW YORK</td>\n",
       "      <td>36</td>\n",
       "      <td>CENTRAL</td>\n",
       "      <td>50</td>\n",
       "      <td>CAYUGA</td>\n",
       "      <td>11.0</td>\n",
       "      <td>NaN</td>\n",
       "      <td>NaN</td>\n",
       "      <td>0</td>\n",
       "      <td>NaN</td>\n",
       "      <td>CORN</td>\n",
       "      <td>CORN, GRAIN - OPERATIONS WITH AREA HARVESTED</td>\n",
       "      <td>AREA HARVESTED</td>\n",
       "      <td>AREA HARVESTED: (1,000 OR MORE ACRES)</td>\n",
       "      <td>3</td>\n",
       "      <td>9.2</td>\n",
       "    </tr>\n",
       "    <tr>\n",
       "      <th>4</th>\n",
       "      <td>CENSUS</td>\n",
       "      <td>2017</td>\n",
       "      <td>YEAR</td>\n",
       "      <td>NaN</td>\n",
       "      <td>COUNTY</td>\n",
       "      <td>NEW YORK</td>\n",
       "      <td>36</td>\n",
       "      <td>CENTRAL</td>\n",
       "      <td>50</td>\n",
       "      <td>CAYUGA</td>\n",
       "      <td>11.0</td>\n",
       "      <td>NaN</td>\n",
       "      <td>NaN</td>\n",
       "      <td>0</td>\n",
       "      <td>NaN</td>\n",
       "      <td>CORN</td>\n",
       "      <td>CORN, GRAIN - OPERATIONS WITH AREA HARVESTED</td>\n",
       "      <td>AREA HARVESTED</td>\n",
       "      <td>AREA HARVESTED: (1.0 TO 24.9 ACRES)</td>\n",
       "      <td>63</td>\n",
       "      <td>43.9</td>\n",
       "    </tr>\n",
       "  </tbody>\n",
       "</table>\n",
       "</div>"
      ],
      "text/plain": [
       "  Program  Year Period  Week Ending Geo Level     State  State ANSI  \\\n",
       "0  CENSUS  2017   YEAR          NaN    COUNTY  NEW YORK          36   \n",
       "1  CENSUS  2017   YEAR          NaN    COUNTY  NEW YORK          36   \n",
       "2  CENSUS  2017   YEAR          NaN    COUNTY  NEW YORK          36   \n",
       "3  CENSUS  2017   YEAR          NaN    COUNTY  NEW YORK          36   \n",
       "4  CENSUS  2017   YEAR          NaN    COUNTY  NEW YORK          36   \n",
       "\n",
       "  Ag District  Ag District Code  County  County ANSI  Zip Code  Region  \\\n",
       "0     CENTRAL                50  CAYUGA         11.0       NaN     NaN   \n",
       "1     CENTRAL                50  CAYUGA         11.0       NaN     NaN   \n",
       "2     CENTRAL                50  CAYUGA         11.0       NaN     NaN   \n",
       "3     CENTRAL                50  CAYUGA         11.0       NaN     NaN   \n",
       "4     CENTRAL                50  CAYUGA         11.0       NaN     NaN   \n",
       "\n",
       "   watershed_code  Watershed Commodity  \\\n",
       "0               0        NaN      CORN   \n",
       "1               0        NaN      CORN   \n",
       "2               0        NaN      CORN   \n",
       "3               0        NaN      CORN   \n",
       "4               0        NaN      CORN   \n",
       "\n",
       "                                      Data Item          Domain  \\\n",
       "0                  CORN - OPERATIONS WITH SALES           TOTAL   \n",
       "1                   CORN - SALES, MEASURED IN $           TOTAL   \n",
       "2                 CORN, GRAIN - ACRES HARVESTED           TOTAL   \n",
       "3  CORN, GRAIN - OPERATIONS WITH AREA HARVESTED  AREA HARVESTED   \n",
       "4  CORN, GRAIN - OPERATIONS WITH AREA HARVESTED  AREA HARVESTED   \n",
       "\n",
       "                         Domain Category       Value CV (%)  \n",
       "0                          NOT SPECIFIED         260   24.2  \n",
       "1                          NOT SPECIFIED  23,218,000   11.7  \n",
       "2                          NOT SPECIFIED      27,223   12.4  \n",
       "3  AREA HARVESTED: (1,000 OR MORE ACRES)           3    9.2  \n",
       "4    AREA HARVESTED: (1.0 TO 24.9 ACRES)          63   43.9  "
      ]
     },
     "execution_count": 9,
     "metadata": {},
     "output_type": "execute_result"
    }
   ],
   "source": [
    "ny_corn.head()"
   ]
  },
  {
   "cell_type": "code",
   "execution_count": 25,
   "id": "republican-addition",
   "metadata": {},
   "outputs": [
    {
     "data": {
      "text/plain": [
       "1972"
      ]
     },
     "execution_count": 25,
     "metadata": {},
     "output_type": "execute_result"
    }
   ],
   "source": [
    "min(ny_corn['Year'])"
   ]
  },
  {
   "cell_type": "code",
   "execution_count": 26,
   "id": "collect-determination",
   "metadata": {},
   "outputs": [
    {
     "data": {
      "text/plain": [
       "2019"
      ]
     },
     "execution_count": 26,
     "metadata": {},
     "output_type": "execute_result"
    }
   ],
   "source": [
    "max(ny_corn['Year'])"
   ]
  },
  {
   "cell_type": "code",
   "execution_count": 38,
   "id": "obvious-scheme",
   "metadata": {},
   "outputs": [
    {
     "data": {
      "text/plain": [
       "(224, 464)"
      ]
     },
     "execution_count": 38,
     "metadata": {},
     "output_type": "execute_result"
    }
   ],
   "source": [
    "EDDI_ETrs_01mn_20000101.shape"
   ]
  },
  {
   "cell_type": "code",
   "execution_count": 28,
   "id": "consolidated-prince",
   "metadata": {},
   "outputs": [],
   "source": [
    "# plt.plot(ny_corn['Year'][ny_corn['Year'] >= 2000], ny_corn['Value'][ny_corn['Year'] >= 2000])"
   ]
  },
  {
   "cell_type": "code",
   "execution_count": 31,
   "id": "constant-reminder",
   "metadata": {},
   "outputs": [
    {
     "data": {
      "text/plain": [
       "224"
      ]
     },
     "execution_count": 31,
     "metadata": {},
     "output_type": "execute_result"
    }
   ],
   "source": [
    "len(EDDI_ETrs_01mn_20000101)"
   ]
  },
  {
   "cell_type": "code",
   "execution_count": 39,
   "id": "obvious-spirit",
   "metadata": {},
   "outputs": [
    {
     "data": {
      "text/plain": [
       "(224, 464)"
      ]
     },
     "execution_count": 39,
     "metadata": {},
     "output_type": "execute_result"
    }
   ],
   "source": [
    "EDDI_ETrs_01mn_20000102.shape"
   ]
  },
  {
   "cell_type": "code",
   "execution_count": 40,
   "id": "possible-affect",
   "metadata": {},
   "outputs": [
    {
     "data": {
      "text/plain": [
       "array([[ 1.13468778e+00,  1.01187325e+00,  1.01187325e+00, ...,\n",
       "         2.43829846e-01,  2.43829846e-01,  1.73359394e-01],\n",
       "       [ 1.13468778e+00,  1.01187325e+00,  1.01187325e+00, ...,\n",
       "         1.03782177e-01,  1.73359394e-01,  3.15570116e-01],\n",
       "       [ 1.27750206e+00,  1.13468778e+00,  1.13468778e+00, ...,\n",
       "         3.15570116e-01,  3.89005065e-01,  3.15570116e-01],\n",
       "       ...,\n",
       "       [-9.99900000e+03, -9.99900000e+03, -9.99900000e+03, ...,\n",
       "        -9.99900000e+03, -9.99900000e+03, -9.99900000e+03],\n",
       "       [-9.99900000e+03, -9.99900000e+03, -9.99900000e+03, ...,\n",
       "        -9.99900000e+03, -9.99900000e+03, -9.99900000e+03],\n",
       "       [-9.99900000e+03, -9.99900000e+03, -9.99900000e+03, ...,\n",
       "        -9.99900000e+03, -9.99900000e+03, -9.99900000e+03]])"
      ]
     },
     "execution_count": 40,
     "metadata": {},
     "output_type": "execute_result"
    }
   ],
   "source": [
    "# monthly aggregated EDDI sample\n",
    "EDDI_ETrs_01mn_20000102"
   ]
  },
  {
   "cell_type": "code",
   "execution_count": null,
   "id": "choice-charter",
   "metadata": {},
   "outputs": [],
   "source": []
  }
 ],
 "metadata": {
  "kernelspec": {
   "display_name": "Python 3",
   "language": "python",
   "name": "python3"
  },
  "language_info": {
   "codemirror_mode": {
    "name": "ipython",
    "version": 3
   },
   "file_extension": ".py",
   "mimetype": "text/x-python",
   "name": "python",
   "nbconvert_exporter": "python",
   "pygments_lexer": "ipython3",
   "version": "3.8.5"
  }
 },
 "nbformat": 4,
 "nbformat_minor": 5
}
