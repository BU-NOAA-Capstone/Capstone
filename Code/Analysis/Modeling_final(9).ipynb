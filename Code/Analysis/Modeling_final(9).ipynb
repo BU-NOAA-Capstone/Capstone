{
  "nbformat": 4,
  "nbformat_minor": 0,
  "metadata": {
    "accelerator": "GPU",
    "colab": {
      "name": "Modeling_final.ipynb",
      "provenance": [],
      "collapsed_sections": [
        "QUcXogPUbffN",
        "HsAXVF9XdApS",
        "AeRvJCQyNXNA",
        "VYGSD1OpOgER",
        "nipK9xTYO4yV",
        "g_CJaIu8r7q-",
        "eNsmBWoIsNDB",
        "l25kJi33sNDE",
        "FKyjUEGisNDL",
        "QTQk0d7zsNDN",
        "dwx21tPNsNDP",
        "LqCfpZSjsNDR",
        "KrRenQA_sNDT",
        "bGuM0A_09VqT",
        "gbhc3pC5Pkok",
        "Rtl7p2ZTYgyt",
        "YLVa6FU9YtXv",
        "Uvs3_FTu9ZWQ"
      ]
    },
    "kernelspec": {
      "display_name": "Python 3",
      "name": "python3"
    },
    "language_info": {
      "name": "python"
    }
  },
  "cells": [
    {
      "cell_type": "code",
      "metadata": {
        "id": "eyc5tfV8ZDqL"
      },
      "source": [
        "import pandas as pd\n",
        "import numpy as np\n",
        "import json\n",
        "import os\n",
        "import datetime as dt\n",
        "import seaborn as sns\n",
        "import plotly.express as px\n",
        "from urllib.request import urlopen\n",
        "import matplotlib.pyplot as plt\n",
        "\n",
        "from sklearn.linear_model import LinearRegression\n",
        "from sklearn.preprocessing import StandardScaler\n",
        "import sklearn.metrics as metrics\n",
        "from sklearn.model_selection import train_test_split\n",
        "from sklearn.ensemble import RandomForestRegressor\n",
        "from IPython.display import display\n",
        "\n",
        "from sklearn.linear_model import Ridge\n",
        "from sklearn.preprocessing import PolynomialFeatures\n",
        "from sklearn.pipeline import make_pipeline\n",
        "from sklearn.model_selection import train_test_split"
      ],
      "execution_count": 1,
      "outputs": []
    },
    {
      "cell_type": "markdown",
      "metadata": {
        "id": "QUcXogPUbffN"
      },
      "source": [
        "## Computing new dataset\n"
      ]
    },
    {
      "cell_type": "code",
      "metadata": {
        "id": "EeuyzRGAZJr5"
      },
      "source": [
        "# # Loading the data\n",
        "# eddi_6 = pd.read_csv(\"eddi_6.csv\")\n",
        "# eddi_5 = pd.read_csv(\"eddi_5.csv\")\n",
        "# eddi_3 = pd.read_csv(\"eddi_3.csv\")\n",
        "# #gs_final_ml = pd.read_csv(\"gs_final_ml.csv\")\n",
        "# final_ml = pd.read_csv('final_ml.csv')\n",
        "# final_ml.head()"
      ],
      "execution_count": null,
      "outputs": []
    },
    {
      "cell_type": "code",
      "metadata": {
        "id": "bmofA6uoZPi3"
      },
      "source": [
        "# #merging EDDI with final growing season\n",
        "#gs_EDDI = gs_final_ml.merge(eddi_6, left_on=['Year', 'County'], right_on=['Year', 'county'])\n",
        "# gs_EDDI.rename(columns={\"EDDI\": \"EDDI_6\"}, inplace = True)\n",
        "\n",
        "# #merging EDDI with final growing season\n",
        "# gs_EDDI = gs_EDDI.merge(eddi_5, left_on=['Year', 'County'], right_on=['Year', 'county'])\n",
        "# gs_EDDI.rename(columns={\"EDDI\": \"EDDI_5\"}, inplace = True)\n",
        "\n",
        "# # #merging EDDI with final growing season\n",
        "# gs_EDDI = gs_EDDI.merge(eddi_3, left_on=['Year', 'County'], right_on=['Year', 'county'])\n",
        "# gs_EDDI.rename(columns={\"EDDI\": \"EDDI_3\"}, inplace = True)\n",
        "\n",
        "# gs_EDDI.drop(columns = ['county_x', 'county_y', 'county'], inplace = True)\n",
        "\n",
        "# gs_EDDI.to_csv('gs_EDDI.csv', index = False)\n",
        "# gs_EDDI.head()"
      ],
      "execution_count": null,
      "outputs": []
    },
    {
      "cell_type": "code",
      "metadata": {
        "id": "9HuJrEP87Rw1"
      },
      "source": [
        "# #merging EDDI with year\n",
        "# EDDI = final_ml.merge(eddi_6, left_on=['Year', 'County'], right_on=['Year', 'county'])\n",
        "# EDDI.rename(columns={\"EDDI\": \"EDDI_6\"}, inplace = True)\n",
        "\n",
        "# #merging EDDI with final growing season\n",
        "# EDDI = EDDI.merge(eddi_5, left_on=['Year', 'County'], right_on=['Year', 'county'])\n",
        "# EDDI.rename(columns={\"EDDI\": \"EDDI_5\"}, inplace = True)\n",
        "\n",
        "# # #merging EDDI with final growing season\n",
        "# EDDI = EDDI.merge(eddi_3, left_on=['Year', 'County'], right_on=['Year', 'county'])\n",
        "# EDDI.rename(columns={\"EDDI\": \"EDDI_3\"}, inplace = True)\n",
        "\n",
        "# EDDI.drop(columns = ['county_x', 'county_y', 'county'], inplace = True)\n",
        "\n",
        "# EDDI.to_csv('EDDI.csv', index = False)\n",
        "# EDDI.head()"
      ],
      "execution_count": null,
      "outputs": []
    },
    {
      "cell_type": "markdown",
      "metadata": {
        "id": "BTEooGCcd-kR"
      },
      "source": [
        "PDSI, SPI, SPEI"
      ]
    },
    {
      "cell_type": "code",
      "metadata": {
        "id": "cI-7JaNBbq7b"
      },
      "source": [
        "# pdsi = pd.read_csv('pdsi.csv')\n",
        "# spi90 = pd.read_csv('spi90.csv')\n",
        "# spi180 = pd.read_csv('spi180.csv')\n",
        "# spei90 = pd.read_csv('spei90.csv')\n",
        "# spei180 = pd.read_csv('spei180.csv')"
      ],
      "execution_count": null,
      "outputs": []
    },
    {
      "cell_type": "code",
      "metadata": {
        "id": "Zo44EgF3d9tr"
      },
      "source": [
        "# #adding a column with the year alone\n",
        "\n",
        "# #pdsi['Date'] = pd.to_datetime(pdsi['Date'])\n",
        "# #pdsi.loc[pdsi.Date.apply(type) != datetime64]\n",
        "# pdsi[\"Year\"] = pd.DatetimeIndex(pdsi['Date']).year\n",
        "# pdsi = pdsi[[\"Year\", 'county', 'PDSI']]\n",
        "# pdsi.head()\n",
        "\n",
        "# #keeping only the relevant columns in the EDDI dataset \n",
        "# pdsi = pdsi.groupby(['county', 'Year'])[['PDSI']].mean()\n",
        "# pdsi.reset_index(inplace=True)\n",
        "# pdsi.to_csv('pdsi.csv', index = False)"
      ],
      "execution_count": null,
      "outputs": []
    },
    {
      "cell_type": "markdown",
      "metadata": {
        "id": "q6tLq3EYiP9f"
      },
      "source": [
        "Merging SPI and SPEI to FINAL dataset"
      ]
    },
    {
      "cell_type": "code",
      "metadata": {
        "id": "XDMpRrPsiZDc"
      },
      "source": [
        "# #merging SPI_90 with final growing season\n",
        "# gs_EDDI = gs_EDDI.merge(spi90, left_on=['Year', 'County'], right_on=['Year', 'county'])\n",
        "# gs_EDDI.rename(columns={\"SPI\": \"SPI_90\"}, inplace = True)\n",
        "\n",
        "# # #merging SPI_180 with final growing season\n",
        "# gs_EDDI = gs_EDDI.merge(spi180, left_on=['Year', 'County'], right_on=['Year', 'county'])\n",
        "# gs_EDDI.rename(columns={\"SPI\": \"SPI_180\"}, inplace = True)\n",
        "\n",
        "# gs_EDDI.drop(columns = ['county_x', 'county_y'], inplace = True)\n",
        "# gs_EDDI.head()"
      ],
      "execution_count": null,
      "outputs": []
    },
    {
      "cell_type": "code",
      "metadata": {
        "id": "HQrFLNW47uXJ"
      },
      "source": [
        "# #merging SPI_90 with yearly value\n",
        "# EDDI = EDDI.merge(spi90, left_on=['Year', 'County'], right_on=['Year', 'county'])\n",
        "# EDDI.rename(columns={\"SPI\": \"SPI_90\"}, inplace = True)\n",
        "\n",
        "# # #merging SPI_180 with final yearly value\n",
        "# EDDI = EDDI.merge(spi180, left_on=['Year', 'County'], right_on=['Year', 'county'])\n",
        "# EDDI.rename(columns={\"SPI\": \"SPI_180\"}, inplace = True)\n",
        "\n",
        "# EDDI.drop(columns = ['county_x', 'county_y'], inplace = True)\n",
        "# EDDI.head()"
      ],
      "execution_count": null,
      "outputs": []
    },
    {
      "cell_type": "code",
      "metadata": {
        "id": "RXkD6JvyjJKB"
      },
      "source": [
        "# #merging SPEI_90 with final growing season\n",
        "# gs_EDDI = gs_EDDI.merge(spei90, left_on=['Year', 'County'], right_on=['Year', 'county'])\n",
        "# gs_EDDI.rename(columns={\"SPEI\": \"SPEI_90\"}, inplace = True)\n",
        "\n",
        "# # #merging SPEI_180 with final growing season\n",
        "# gs_EDDI = gs_EDDI.merge(spei180, left_on=['Year', 'County'], right_on=['Year', 'county'])\n",
        "# gs_EDDI.rename(columns={\"SPEI\": \"SPEI_180\"}, inplace = True)\n",
        "\n",
        "# gs_EDDI.drop(columns = ['county_x', 'county_y'], inplace = True)\n",
        "# gs_EDDI.head()"
      ],
      "execution_count": null,
      "outputs": []
    },
    {
      "cell_type": "code",
      "metadata": {
        "id": "y7JjKcOn79hC"
      },
      "source": [
        "# #merging SPEI_90 with final yearly value\n",
        "# EDDI = EDDI.merge(spei90, left_on=['Year', 'County'], right_on=['Year', 'county'])\n",
        "# EDDI.rename(columns={\"SPEI\": \"SPEI_90\"}, inplace = True)\n",
        "\n",
        "# # #merging SPEI_180 with final yearly value\n",
        "# EDDI = EDDI.merge(spei180, left_on=['Year', 'County'], right_on=['Year', 'county'])\n",
        "# EDDI.rename(columns={\"SPEI\": \"SPEI_180\"}, inplace = True)\n",
        "\n",
        "# EDDI.drop(columns = ['county_x', 'county_y'], inplace = True)\n",
        "# EDDI.head()"
      ],
      "execution_count": null,
      "outputs": []
    },
    {
      "cell_type": "code",
      "metadata": {
        "id": "hisbFea7MHrn"
      },
      "source": [
        "# # #merging PDSI with final yearly value\n",
        "# year_fin = EDDI.merge(pdsi, left_on=['Year', 'County'], right_on=['Year', 'county'])\n",
        "# year_fin.drop(columns = ['county'], inplace = True)\n",
        "# year_fin.head()"
      ],
      "execution_count": null,
      "outputs": []
    },
    {
      "cell_type": "markdown",
      "metadata": {
        "id": "HsAXVF9XdApS"
      },
      "source": [
        "# Modeling"
      ]
    },
    {
      "cell_type": "code",
      "metadata": {
        "colab": {
          "base_uri": "https://localhost:8080/"
        },
        "id": "ecdXGm6MtC-b",
        "outputId": "ba25b020-6085-49f3-b2bf-b35a49303e3b"
      },
      "source": [
        "GS = pd.read_csv('GS-1.csv')\n",
        "GS.shape\n",
        "\n",
        "Y = pd.read_csv('Y-1.csv')\n",
        "Y.shape"
      ],
      "execution_count": 3,
      "outputs": [
        {
          "output_type": "execute_result",
          "data": {
            "text/plain": [
              "(703, 55)"
            ]
          },
          "metadata": {
            "tags": []
          },
          "execution_count": 3
        }
      ]
    },
    {
      "cell_type": "code",
      "metadata": {
        "id": "QyLousWQwGxZ",
        "colab": {
          "base_uri": "https://localhost:8080/"
        },
        "outputId": "6cd825da-1cc1-4a5d-d4c9-0cb665f42b50"
      },
      "source": [
        "GS.isnull().sum()"
      ],
      "execution_count": 4,
      "outputs": [
        {
          "output_type": "execute_result",
          "data": {
            "text/plain": [
              "Year                  0\n",
              "County                0\n",
              "ADSCI_yr              0\n",
              "Yield                 0\n",
              "Acres_Planted         0\n",
              "ADSCI_gs              0\n",
              "Program               0\n",
              "Ag District           0\n",
              "Ag District Code      0\n",
              "County ANSI           0\n",
              "Commodity             0\n",
              "Data Item             0\n",
              "Domain                0\n",
              "Domain Category       0\n",
              "Value                 0\n",
              "CV (%)              703\n",
              "avg_precip_count      0\n",
              "avg_precip_mean       0\n",
              "avg_precip_std        0\n",
              "avg_precip_min        0\n",
              "avg_precip_25%        0\n",
              "avg_precip_50%        0\n",
              "avg_precip_75%        0\n",
              "avg_precip_max        0\n",
              "avg_temp_count        0\n",
              "avg_temp_mean         0\n",
              "avg_temp_std          0\n",
              "avg_temp_min          0\n",
              "avg_temp_25%          0\n",
              "avg_temp_50%          0\n",
              "avg_temp_75%          0\n",
              "avg_temp_max          0\n",
              "max_temp_count        0\n",
              "max_temp_mean         0\n",
              "max_temp_std          0\n",
              "max_temp_min          0\n",
              "max_temp_25%          0\n",
              "max_temp_50%          0\n",
              "max_temp_75%          0\n",
              "max_temp_max          0\n",
              "min_temp_count        0\n",
              "min_temp_mean         0\n",
              "min_temp_std          0\n",
              "min_temp_min          0\n",
              "min_temp_25%          0\n",
              "min_temp_50%          0\n",
              "min_temp_75%          0\n",
              "min_temp_max          0\n",
              "EDDI_6                0\n",
              "EDDI_5               71\n",
              "PDSI                  0\n",
              "SPI_180               0\n",
              "SPEI_180              0\n",
              "SPI_90                0\n",
              "SPEI_90               0\n",
              "dtype: int64"
            ]
          },
          "metadata": {
            "tags": []
          },
          "execution_count": 4
        }
      ]
    },
    {
      "cell_type": "code",
      "metadata": {
        "colab": {
          "base_uri": "https://localhost:8080/",
          "height": 0
        },
        "id": "NoalYNUsHqup",
        "outputId": "52a4ccc0-65d8-4f45-c452-d4fe0af9e594"
      },
      "source": [
        "GS.drop(columns=['min_temp_count', 'min_temp_mean', 'min_temp_std', 'min_temp_min', 'min_temp_25%', 'min_temp_50%', 'min_temp_75%', 'min_temp_max'], inplace=True)\n",
        "GS.head()"
      ],
      "execution_count": 5,
      "outputs": [
        {
          "output_type": "execute_result",
          "data": {
            "text/html": [
              "<div>\n",
              "<style scoped>\n",
              "    .dataframe tbody tr th:only-of-type {\n",
              "        vertical-align: middle;\n",
              "    }\n",
              "\n",
              "    .dataframe tbody tr th {\n",
              "        vertical-align: top;\n",
              "    }\n",
              "\n",
              "    .dataframe thead th {\n",
              "        text-align: right;\n",
              "    }\n",
              "</style>\n",
              "<table border=\"1\" class=\"dataframe\">\n",
              "  <thead>\n",
              "    <tr style=\"text-align: right;\">\n",
              "      <th></th>\n",
              "      <th>Year</th>\n",
              "      <th>County</th>\n",
              "      <th>ADSCI_yr</th>\n",
              "      <th>Yield</th>\n",
              "      <th>Acres_Planted</th>\n",
              "      <th>ADSCI_gs</th>\n",
              "      <th>Program</th>\n",
              "      <th>Ag District</th>\n",
              "      <th>Ag District Code</th>\n",
              "      <th>County ANSI</th>\n",
              "      <th>Commodity</th>\n",
              "      <th>Data Item</th>\n",
              "      <th>Domain</th>\n",
              "      <th>Domain Category</th>\n",
              "      <th>Value</th>\n",
              "      <th>CV (%)</th>\n",
              "      <th>avg_precip_count</th>\n",
              "      <th>avg_precip_mean</th>\n",
              "      <th>avg_precip_std</th>\n",
              "      <th>avg_precip_min</th>\n",
              "      <th>avg_precip_25%</th>\n",
              "      <th>avg_precip_50%</th>\n",
              "      <th>avg_precip_75%</th>\n",
              "      <th>avg_precip_max</th>\n",
              "      <th>avg_temp_count</th>\n",
              "      <th>avg_temp_mean</th>\n",
              "      <th>avg_temp_std</th>\n",
              "      <th>avg_temp_min</th>\n",
              "      <th>avg_temp_25%</th>\n",
              "      <th>avg_temp_50%</th>\n",
              "      <th>avg_temp_75%</th>\n",
              "      <th>avg_temp_max</th>\n",
              "      <th>max_temp_count</th>\n",
              "      <th>max_temp_mean</th>\n",
              "      <th>max_temp_std</th>\n",
              "      <th>max_temp_min</th>\n",
              "      <th>max_temp_25%</th>\n",
              "      <th>max_temp_50%</th>\n",
              "      <th>max_temp_75%</th>\n",
              "      <th>max_temp_max</th>\n",
              "      <th>EDDI_6</th>\n",
              "      <th>EDDI_5</th>\n",
              "      <th>PDSI</th>\n",
              "      <th>SPI_180</th>\n",
              "      <th>SPEI_180</th>\n",
              "      <th>SPI_90</th>\n",
              "      <th>SPEI_90</th>\n",
              "    </tr>\n",
              "  </thead>\n",
              "  <tbody>\n",
              "    <tr>\n",
              "      <th>0</th>\n",
              "      <td>2002</td>\n",
              "      <td>albany</td>\n",
              "      <td>3918.70</td>\n",
              "      <td>83.0</td>\n",
              "      <td>4300.0</td>\n",
              "      <td>1207.14</td>\n",
              "      <td>SURVEY</td>\n",
              "      <td>EASTERN</td>\n",
              "      <td>60</td>\n",
              "      <td>1.0</td>\n",
              "      <td>CORN</td>\n",
              "      <td>CORN - ACRES PLANTED</td>\n",
              "      <td>TOTAL</td>\n",
              "      <td>NOT SPECIFIED</td>\n",
              "      <td>4300.0</td>\n",
              "      <td>NaN</td>\n",
              "      <td>5.0</td>\n",
              "      <td>0.123681</td>\n",
              "      <td>0.045361</td>\n",
              "      <td>0.055652</td>\n",
              "      <td>0.102370</td>\n",
              "      <td>0.136340</td>\n",
              "      <td>0.157132</td>\n",
              "      <td>0.166913</td>\n",
              "      <td>5.0</td>\n",
              "      <td>63.886548</td>\n",
              "      <td>7.731918</td>\n",
              "      <td>51.700195</td>\n",
              "      <td>62.342522</td>\n",
              "      <td>64.371496</td>\n",
              "      <td>70.133029</td>\n",
              "      <td>70.885501</td>\n",
              "      <td>5.0</td>\n",
              "      <td>75.710146</td>\n",
              "      <td>7.941833</td>\n",
              "      <td>63.199162</td>\n",
              "      <td>74.548959</td>\n",
              "      <td>75.642751</td>\n",
              "      <td>82.467331</td>\n",
              "      <td>82.692529</td>\n",
              "      <td>1.175525</td>\n",
              "      <td>1.025416</td>\n",
              "      <td>-3.880133</td>\n",
              "      <td>-0.545897</td>\n",
              "      <td>-0.794023</td>\n",
              "      <td>-0.127621</td>\n",
              "      <td>-0.298151</td>\n",
              "    </tr>\n",
              "    <tr>\n",
              "      <th>1</th>\n",
              "      <td>2002</td>\n",
              "      <td>allegany</td>\n",
              "      <td>898.71</td>\n",
              "      <td>100.0</td>\n",
              "      <td>12700.0</td>\n",
              "      <td>457.29</td>\n",
              "      <td>SURVEY</td>\n",
              "      <td>SOUTHWEST</td>\n",
              "      <td>70</td>\n",
              "      <td>3.0</td>\n",
              "      <td>CORN</td>\n",
              "      <td>CORN - ACRES PLANTED</td>\n",
              "      <td>TOTAL</td>\n",
              "      <td>NOT SPECIFIED</td>\n",
              "      <td>12700.0</td>\n",
              "      <td>NaN</td>\n",
              "      <td>5.0</td>\n",
              "      <td>0.123976</td>\n",
              "      <td>0.054473</td>\n",
              "      <td>0.060047</td>\n",
              "      <td>0.082732</td>\n",
              "      <td>0.119579</td>\n",
              "      <td>0.173305</td>\n",
              "      <td>0.184214</td>\n",
              "      <td>5.0</td>\n",
              "      <td>60.783063</td>\n",
              "      <td>7.509162</td>\n",
              "      <td>48.117473</td>\n",
              "      <td>60.524359</td>\n",
              "      <td>62.756261</td>\n",
              "      <td>65.481049</td>\n",
              "      <td>67.036173</td>\n",
              "      <td>5.0</td>\n",
              "      <td>74.575059</td>\n",
              "      <td>7.812576</td>\n",
              "      <td>61.353813</td>\n",
              "      <td>75.172073</td>\n",
              "      <td>75.582674</td>\n",
              "      <td>79.883649</td>\n",
              "      <td>80.883084</td>\n",
              "      <td>0.881328</td>\n",
              "      <td>0.800075</td>\n",
              "      <td>-1.574782</td>\n",
              "      <td>0.277994</td>\n",
              "      <td>0.039599</td>\n",
              "      <td>0.232551</td>\n",
              "      <td>0.096368</td>\n",
              "    </tr>\n",
              "    <tr>\n",
              "      <th>2</th>\n",
              "      <td>2002</td>\n",
              "      <td>broome</td>\n",
              "      <td>1897.18</td>\n",
              "      <td>110.0</td>\n",
              "      <td>7200.0</td>\n",
              "      <td>770.66</td>\n",
              "      <td>SURVEY</td>\n",
              "      <td>SOUTHERN</td>\n",
              "      <td>80</td>\n",
              "      <td>7.0</td>\n",
              "      <td>CORN</td>\n",
              "      <td>CORN - ACRES PLANTED</td>\n",
              "      <td>TOTAL</td>\n",
              "      <td>NOT SPECIFIED</td>\n",
              "      <td>7200.0</td>\n",
              "      <td>NaN</td>\n",
              "      <td>5.0</td>\n",
              "      <td>0.129205</td>\n",
              "      <td>0.075106</td>\n",
              "      <td>0.037966</td>\n",
              "      <td>0.061413</td>\n",
              "      <td>0.159987</td>\n",
              "      <td>0.177965</td>\n",
              "      <td>0.208694</td>\n",
              "      <td>5.0</td>\n",
              "      <td>63.184180</td>\n",
              "      <td>8.110413</td>\n",
              "      <td>49.857840</td>\n",
              "      <td>62.240319</td>\n",
              "      <td>64.600866</td>\n",
              "      <td>69.512133</td>\n",
              "      <td>69.709743</td>\n",
              "      <td>5.0</td>\n",
              "      <td>75.788106</td>\n",
              "      <td>8.429460</td>\n",
              "      <td>62.006041</td>\n",
              "      <td>75.483095</td>\n",
              "      <td>76.211505</td>\n",
              "      <td>82.046584</td>\n",
              "      <td>83.193308</td>\n",
              "      <td>1.201194</td>\n",
              "      <td>1.086777</td>\n",
              "      <td>-2.741415</td>\n",
              "      <td>-0.056041</td>\n",
              "      <td>-0.420280</td>\n",
              "      <td>0.038175</td>\n",
              "      <td>-0.210609</td>\n",
              "    </tr>\n",
              "    <tr>\n",
              "      <th>3</th>\n",
              "      <td>2002</td>\n",
              "      <td>cattaraugus</td>\n",
              "      <td>468.99</td>\n",
              "      <td>117.0</td>\n",
              "      <td>19100.0</td>\n",
              "      <td>340.11</td>\n",
              "      <td>SURVEY</td>\n",
              "      <td>SOUTHWEST</td>\n",
              "      <td>70</td>\n",
              "      <td>9.0</td>\n",
              "      <td>CORN</td>\n",
              "      <td>CORN - ACRES PLANTED</td>\n",
              "      <td>TOTAL</td>\n",
              "      <td>NOT SPECIFIED</td>\n",
              "      <td>19100.0</td>\n",
              "      <td>NaN</td>\n",
              "      <td>5.0</td>\n",
              "      <td>0.148262</td>\n",
              "      <td>0.049957</td>\n",
              "      <td>0.071823</td>\n",
              "      <td>0.139405</td>\n",
              "      <td>0.149091</td>\n",
              "      <td>0.174784</td>\n",
              "      <td>0.206205</td>\n",
              "      <td>5.0</td>\n",
              "      <td>61.610421</td>\n",
              "      <td>7.749274</td>\n",
              "      <td>48.476927</td>\n",
              "      <td>61.656379</td>\n",
              "      <td>63.527265</td>\n",
              "      <td>66.288099</td>\n",
              "      <td>68.103434</td>\n",
              "      <td>5.0</td>\n",
              "      <td>74.132932</td>\n",
              "      <td>7.897891</td>\n",
              "      <td>60.735385</td>\n",
              "      <td>74.767399</td>\n",
              "      <td>75.289495</td>\n",
              "      <td>79.259190</td>\n",
              "      <td>80.613192</td>\n",
              "      <td>0.776389</td>\n",
              "      <td>0.708969</td>\n",
              "      <td>-1.987993</td>\n",
              "      <td>0.297729</td>\n",
              "      <td>0.058623</td>\n",
              "      <td>0.285811</td>\n",
              "      <td>0.175832</td>\n",
              "    </tr>\n",
              "    <tr>\n",
              "      <th>4</th>\n",
              "      <td>2002</td>\n",
              "      <td>cayuga</td>\n",
              "      <td>714.56</td>\n",
              "      <td>94.0</td>\n",
              "      <td>61200.0</td>\n",
              "      <td>570.89</td>\n",
              "      <td>SURVEY</td>\n",
              "      <td>CENTRAL</td>\n",
              "      <td>50</td>\n",
              "      <td>11.0</td>\n",
              "      <td>CORN</td>\n",
              "      <td>CORN - ACRES PLANTED</td>\n",
              "      <td>TOTAL</td>\n",
              "      <td>NOT SPECIFIED</td>\n",
              "      <td>61200.0</td>\n",
              "      <td>NaN</td>\n",
              "      <td>5.0</td>\n",
              "      <td>0.124481</td>\n",
              "      <td>0.065234</td>\n",
              "      <td>0.054164</td>\n",
              "      <td>0.059305</td>\n",
              "      <td>0.136997</td>\n",
              "      <td>0.178504</td>\n",
              "      <td>0.193434</td>\n",
              "      <td>5.0</td>\n",
              "      <td>64.818047</td>\n",
              "      <td>8.320703</td>\n",
              "      <td>50.904095</td>\n",
              "      <td>65.334250</td>\n",
              "      <td>65.373919</td>\n",
              "      <td>70.847827</td>\n",
              "      <td>71.630143</td>\n",
              "      <td>5.0</td>\n",
              "      <td>75.794969</td>\n",
              "      <td>8.821819</td>\n",
              "      <td>61.004477</td>\n",
              "      <td>75.850105</td>\n",
              "      <td>77.057992</td>\n",
              "      <td>82.223563</td>\n",
              "      <td>82.838708</td>\n",
              "      <td>0.946017</td>\n",
              "      <td>0.900388</td>\n",
              "      <td>-3.124733</td>\n",
              "      <td>-0.087718</td>\n",
              "      <td>-0.435648</td>\n",
              "      <td>-0.028876</td>\n",
              "      <td>-0.266445</td>\n",
              "    </tr>\n",
              "  </tbody>\n",
              "</table>\n",
              "</div>"
            ],
            "text/plain": [
              "   Year       County  ADSCI_yr  Yield  ...   SPI_180  SPEI_180    SPI_90   SPEI_90\n",
              "0  2002       albany   3918.70   83.0  ... -0.545897 -0.794023 -0.127621 -0.298151\n",
              "1  2002     allegany    898.71  100.0  ...  0.277994  0.039599  0.232551  0.096368\n",
              "2  2002       broome   1897.18  110.0  ... -0.056041 -0.420280  0.038175 -0.210609\n",
              "3  2002  cattaraugus    468.99  117.0  ...  0.297729  0.058623  0.285811  0.175832\n",
              "4  2002       cayuga    714.56   94.0  ... -0.087718 -0.435648 -0.028876 -0.266445\n",
              "\n",
              "[5 rows x 47 columns]"
            ]
          },
          "metadata": {
            "tags": []
          },
          "execution_count": 5
        }
      ]
    },
    {
      "cell_type": "code",
      "metadata": {
        "colab": {
          "base_uri": "https://localhost:8080/",
          "height": 0
        },
        "id": "-QG3Qws1waHd",
        "outputId": "2e2d9ace-7a1a-4a08-91c7-1859a5242471"
      },
      "source": [
        "GS.drop(columns=['CV (%)'], inplace=True)\n",
        "GS['EDDI_5'].fillna((GS['EDDI_5'].mean()), inplace=True)\n",
        "GS.describe()"
      ],
      "execution_count": 6,
      "outputs": [
        {
          "output_type": "execute_result",
          "data": {
            "text/html": [
              "<div>\n",
              "<style scoped>\n",
              "    .dataframe tbody tr th:only-of-type {\n",
              "        vertical-align: middle;\n",
              "    }\n",
              "\n",
              "    .dataframe tbody tr th {\n",
              "        vertical-align: top;\n",
              "    }\n",
              "\n",
              "    .dataframe thead th {\n",
              "        text-align: right;\n",
              "    }\n",
              "</style>\n",
              "<table border=\"1\" class=\"dataframe\">\n",
              "  <thead>\n",
              "    <tr style=\"text-align: right;\">\n",
              "      <th></th>\n",
              "      <th>Year</th>\n",
              "      <th>ADSCI_yr</th>\n",
              "      <th>Yield</th>\n",
              "      <th>Acres_Planted</th>\n",
              "      <th>ADSCI_gs</th>\n",
              "      <th>Ag District Code</th>\n",
              "      <th>County ANSI</th>\n",
              "      <th>Value</th>\n",
              "      <th>avg_precip_count</th>\n",
              "      <th>avg_precip_mean</th>\n",
              "      <th>avg_precip_std</th>\n",
              "      <th>avg_precip_min</th>\n",
              "      <th>avg_precip_25%</th>\n",
              "      <th>avg_precip_50%</th>\n",
              "      <th>avg_precip_75%</th>\n",
              "      <th>avg_precip_max</th>\n",
              "      <th>avg_temp_count</th>\n",
              "      <th>avg_temp_mean</th>\n",
              "      <th>avg_temp_std</th>\n",
              "      <th>avg_temp_min</th>\n",
              "      <th>avg_temp_25%</th>\n",
              "      <th>avg_temp_50%</th>\n",
              "      <th>avg_temp_75%</th>\n",
              "      <th>avg_temp_max</th>\n",
              "      <th>max_temp_count</th>\n",
              "      <th>max_temp_mean</th>\n",
              "      <th>max_temp_std</th>\n",
              "      <th>max_temp_min</th>\n",
              "      <th>max_temp_25%</th>\n",
              "      <th>max_temp_50%</th>\n",
              "      <th>max_temp_75%</th>\n",
              "      <th>max_temp_max</th>\n",
              "      <th>EDDI_6</th>\n",
              "      <th>EDDI_5</th>\n",
              "      <th>PDSI</th>\n",
              "      <th>SPI_180</th>\n",
              "      <th>SPEI_180</th>\n",
              "      <th>SPI_90</th>\n",
              "      <th>SPEI_90</th>\n",
              "    </tr>\n",
              "  </thead>\n",
              "  <tbody>\n",
              "    <tr>\n",
              "      <th>count</th>\n",
              "      <td>703.000000</td>\n",
              "      <td>703.000000</td>\n",
              "      <td>703.000000</td>\n",
              "      <td>703.000000</td>\n",
              "      <td>703.000000</td>\n",
              "      <td>703.000000</td>\n",
              "      <td>703.000000</td>\n",
              "      <td>703.000000</td>\n",
              "      <td>703.000000</td>\n",
              "      <td>703.000000</td>\n",
              "      <td>703.000000</td>\n",
              "      <td>703.000000</td>\n",
              "      <td>703.000000</td>\n",
              "      <td>703.000000</td>\n",
              "      <td>703.000000</td>\n",
              "      <td>703.000000</td>\n",
              "      <td>703.0</td>\n",
              "      <td>703.000000</td>\n",
              "      <td>703.000000</td>\n",
              "      <td>703.000000</td>\n",
              "      <td>703.000000</td>\n",
              "      <td>703.000000</td>\n",
              "      <td>703.000000</td>\n",
              "      <td>703.000000</td>\n",
              "      <td>703.0</td>\n",
              "      <td>703.000000</td>\n",
              "      <td>703.000000</td>\n",
              "      <td>703.000000</td>\n",
              "      <td>703.000000</td>\n",
              "      <td>703.000000</td>\n",
              "      <td>703.000000</td>\n",
              "      <td>703.000000</td>\n",
              "      <td>703.000000</td>\n",
              "      <td>703.000000</td>\n",
              "      <td>703.000000</td>\n",
              "      <td>703.000000</td>\n",
              "      <td>703.000000</td>\n",
              "      <td>703.000000</td>\n",
              "      <td>703.000000</td>\n",
              "    </tr>\n",
              "    <tr>\n",
              "      <th>mean</th>\n",
              "      <td>2009.507824</td>\n",
              "      <td>1055.081508</td>\n",
              "      <td>128.824751</td>\n",
              "      <td>22647.226174</td>\n",
              "      <td>564.036501</td>\n",
              "      <td>56.815078</td>\n",
              "      <td>60.883357</td>\n",
              "      <td>22647.226174</td>\n",
              "      <td>4.995733</td>\n",
              "      <td>0.133692</td>\n",
              "      <td>0.050647</td>\n",
              "      <td>0.074190</td>\n",
              "      <td>0.103515</td>\n",
              "      <td>0.131933</td>\n",
              "      <td>0.159983</td>\n",
              "      <td>0.198838</td>\n",
              "      <td>5.0</td>\n",
              "      <td>63.843687</td>\n",
              "      <td>5.812473</td>\n",
              "      <td>55.607694</td>\n",
              "      <td>61.315080</td>\n",
              "      <td>64.618667</td>\n",
              "      <td>67.737639</td>\n",
              "      <td>69.939354</td>\n",
              "      <td>5.0</td>\n",
              "      <td>74.594983</td>\n",
              "      <td>5.617474</td>\n",
              "      <td>66.779847</td>\n",
              "      <td>72.199748</td>\n",
              "      <td>75.130538</td>\n",
              "      <td>78.342919</td>\n",
              "      <td>80.521862</td>\n",
              "      <td>0.417590</td>\n",
              "      <td>0.386992</td>\n",
              "      <td>0.782871</td>\n",
              "      <td>0.376394</td>\n",
              "      <td>0.275823</td>\n",
              "      <td>0.287875</td>\n",
              "      <td>0.221154</td>\n",
              "    </tr>\n",
              "    <tr>\n",
              "      <th>std</th>\n",
              "      <td>5.163937</td>\n",
              "      <td>1577.426140</td>\n",
              "      <td>26.182344</td>\n",
              "      <td>16619.040160</td>\n",
              "      <td>833.793784</td>\n",
              "      <td>19.620326</td>\n",
              "      <td>36.631577</td>\n",
              "      <td>16619.040160</td>\n",
              "      <td>0.113147</td>\n",
              "      <td>0.030739</td>\n",
              "      <td>0.020474</td>\n",
              "      <td>0.024150</td>\n",
              "      <td>0.028271</td>\n",
              "      <td>0.032582</td>\n",
              "      <td>0.040737</td>\n",
              "      <td>0.056292</td>\n",
              "      <td>0.0</td>\n",
              "      <td>1.840667</td>\n",
              "      <td>1.434512</td>\n",
              "      <td>3.491479</td>\n",
              "      <td>2.301750</td>\n",
              "      <td>2.240387</td>\n",
              "      <td>2.317034</td>\n",
              "      <td>2.302136</td>\n",
              "      <td>0.0</td>\n",
              "      <td>1.894352</td>\n",
              "      <td>1.665753</td>\n",
              "      <td>3.752256</td>\n",
              "      <td>2.526500</td>\n",
              "      <td>2.470756</td>\n",
              "      <td>2.443459</td>\n",
              "      <td>2.543036</td>\n",
              "      <td>0.749828</td>\n",
              "      <td>0.706913</td>\n",
              "      <td>1.795133</td>\n",
              "      <td>0.558932</td>\n",
              "      <td>0.628578</td>\n",
              "      <td>0.402001</td>\n",
              "      <td>0.474175</td>\n",
              "    </tr>\n",
              "    <tr>\n",
              "      <th>min</th>\n",
              "      <td>2002.000000</td>\n",
              "      <td>0.000000</td>\n",
              "      <td>0.000000</td>\n",
              "      <td>100.000000</td>\n",
              "      <td>0.000000</td>\n",
              "      <td>20.000000</td>\n",
              "      <td>1.000000</td>\n",
              "      <td>100.000000</td>\n",
              "      <td>2.000000</td>\n",
              "      <td>0.057374</td>\n",
              "      <td>0.006277</td>\n",
              "      <td>0.017215</td>\n",
              "      <td>0.037994</td>\n",
              "      <td>0.042778</td>\n",
              "      <td>0.073604</td>\n",
              "      <td>0.087577</td>\n",
              "      <td>5.0</td>\n",
              "      <td>59.480599</td>\n",
              "      <td>2.350364</td>\n",
              "      <td>47.061008</td>\n",
              "      <td>54.949646</td>\n",
              "      <td>58.489282</td>\n",
              "      <td>62.567001</td>\n",
              "      <td>64.141720</td>\n",
              "      <td>5.0</td>\n",
              "      <td>69.723681</td>\n",
              "      <td>2.028886</td>\n",
              "      <td>57.456952</td>\n",
              "      <td>64.406909</td>\n",
              "      <td>69.444481</td>\n",
              "      <td>72.400029</td>\n",
              "      <td>73.923987</td>\n",
              "      <td>-1.582589</td>\n",
              "      <td>-1.575075</td>\n",
              "      <td>-4.658609</td>\n",
              "      <td>-1.231387</td>\n",
              "      <td>-1.551900</td>\n",
              "      <td>-0.889098</td>\n",
              "      <td>-1.149150</td>\n",
              "    </tr>\n",
              "    <tr>\n",
              "      <th>25%</th>\n",
              "      <td>2005.000000</td>\n",
              "      <td>74.585000</td>\n",
              "      <td>115.000000</td>\n",
              "      <td>9250.000000</td>\n",
              "      <td>0.000000</td>\n",
              "      <td>40.000000</td>\n",
              "      <td>27.000000</td>\n",
              "      <td>9250.000000</td>\n",
              "      <td>5.000000</td>\n",
              "      <td>0.112241</td>\n",
              "      <td>0.036453</td>\n",
              "      <td>0.056678</td>\n",
              "      <td>0.082958</td>\n",
              "      <td>0.108654</td>\n",
              "      <td>0.130242</td>\n",
              "      <td>0.159361</td>\n",
              "      <td>5.0</td>\n",
              "      <td>62.485193</td>\n",
              "      <td>4.957821</td>\n",
              "      <td>53.205896</td>\n",
              "      <td>59.772345</td>\n",
              "      <td>63.101797</td>\n",
              "      <td>66.033629</td>\n",
              "      <td>68.312758</td>\n",
              "      <td>5.0</td>\n",
              "      <td>73.293173</td>\n",
              "      <td>4.551229</td>\n",
              "      <td>63.624090</td>\n",
              "      <td>70.498446</td>\n",
              "      <td>73.426908</td>\n",
              "      <td>76.643807</td>\n",
              "      <td>78.570217</td>\n",
              "      <td>-0.082704</td>\n",
              "      <td>-0.012258</td>\n",
              "      <td>-0.302049</td>\n",
              "      <td>-0.020201</td>\n",
              "      <td>-0.144262</td>\n",
              "      <td>-0.004507</td>\n",
              "      <td>-0.108411</td>\n",
              "    </tr>\n",
              "    <tr>\n",
              "      <th>50%</th>\n",
              "      <td>2009.000000</td>\n",
              "      <td>512.160000</td>\n",
              "      <td>131.000000</td>\n",
              "      <td>18800.000000</td>\n",
              "      <td>245.230000</td>\n",
              "      <td>50.000000</td>\n",
              "      <td>57.000000</td>\n",
              "      <td>18800.000000</td>\n",
              "      <td>5.000000</td>\n",
              "      <td>0.130958</td>\n",
              "      <td>0.047573</td>\n",
              "      <td>0.074489</td>\n",
              "      <td>0.101820</td>\n",
              "      <td>0.131054</td>\n",
              "      <td>0.157924</td>\n",
              "      <td>0.192503</td>\n",
              "      <td>5.0</td>\n",
              "      <td>63.872760</td>\n",
              "      <td>5.607102</td>\n",
              "      <td>55.735737</td>\n",
              "      <td>61.394072</td>\n",
              "      <td>64.495546</td>\n",
              "      <td>67.609405</td>\n",
              "      <td>69.963354</td>\n",
              "      <td>5.0</td>\n",
              "      <td>74.564744</td>\n",
              "      <td>5.671423</td>\n",
              "      <td>66.998801</td>\n",
              "      <td>72.329431</td>\n",
              "      <td>75.038834</td>\n",
              "      <td>78.097739</td>\n",
              "      <td>80.575727</td>\n",
              "      <td>0.397791</td>\n",
              "      <td>0.386992</td>\n",
              "      <td>0.921168</td>\n",
              "      <td>0.376769</td>\n",
              "      <td>0.298211</td>\n",
              "      <td>0.325151</td>\n",
              "      <td>0.302967</td>\n",
              "    </tr>\n",
              "    <tr>\n",
              "      <th>75%</th>\n",
              "      <td>2014.000000</td>\n",
              "      <td>1233.115000</td>\n",
              "      <td>145.900000</td>\n",
              "      <td>33150.000000</td>\n",
              "      <td>789.860000</td>\n",
              "      <td>70.000000</td>\n",
              "      <td>96.000000</td>\n",
              "      <td>33150.000000</td>\n",
              "      <td>5.000000</td>\n",
              "      <td>0.150700</td>\n",
              "      <td>0.062013</td>\n",
              "      <td>0.089498</td>\n",
              "      <td>0.121349</td>\n",
              "      <td>0.153229</td>\n",
              "      <td>0.182626</td>\n",
              "      <td>0.225341</td>\n",
              "      <td>5.0</td>\n",
              "      <td>65.202275</td>\n",
              "      <td>6.583247</td>\n",
              "      <td>58.150440</td>\n",
              "      <td>62.932738</td>\n",
              "      <td>65.960488</td>\n",
              "      <td>69.430196</td>\n",
              "      <td>71.605807</td>\n",
              "      <td>5.0</td>\n",
              "      <td>75.986084</td>\n",
              "      <td>6.589777</td>\n",
              "      <td>69.744798</td>\n",
              "      <td>73.979576</td>\n",
              "      <td>76.444625</td>\n",
              "      <td>79.929608</td>\n",
              "      <td>82.569007</td>\n",
              "      <td>0.920401</td>\n",
              "      <td>0.801529</td>\n",
              "      <td>2.147249</td>\n",
              "      <td>0.759462</td>\n",
              "      <td>0.768285</td>\n",
              "      <td>0.565853</td>\n",
              "      <td>0.585126</td>\n",
              "    </tr>\n",
              "    <tr>\n",
              "      <th>max</th>\n",
              "      <td>2019.000000</td>\n",
              "      <td>9619.590000</td>\n",
              "      <td>185.900000</td>\n",
              "      <td>69900.000000</td>\n",
              "      <td>4750.030000</td>\n",
              "      <td>91.000000</td>\n",
              "      <td>123.000000</td>\n",
              "      <td>69900.000000</td>\n",
              "      <td>5.000000</td>\n",
              "      <td>0.308254</td>\n",
              "      <td>0.160204</td>\n",
              "      <td>0.146812</td>\n",
              "      <td>0.202606</td>\n",
              "      <td>0.261436</td>\n",
              "      <td>0.425732</td>\n",
              "      <td>0.524241</td>\n",
              "      <td>5.0</td>\n",
              "      <td>70.558060</td>\n",
              "      <td>9.246549</td>\n",
              "      <td>63.312101</td>\n",
              "      <td>68.378158</td>\n",
              "      <td>72.019589</td>\n",
              "      <td>74.235451</td>\n",
              "      <td>77.685737</td>\n",
              "      <td>5.0</td>\n",
              "      <td>80.332787</td>\n",
              "      <td>10.345737</td>\n",
              "      <td>74.359142</td>\n",
              "      <td>78.789034</td>\n",
              "      <td>82.875448</td>\n",
              "      <td>84.960389</td>\n",
              "      <td>87.843764</td>\n",
              "      <td>2.101891</td>\n",
              "      <td>2.093943</td>\n",
              "      <td>4.366327</td>\n",
              "      <td>1.721091</td>\n",
              "      <td>1.642580</td>\n",
              "      <td>1.443880</td>\n",
              "      <td>1.335715</td>\n",
              "    </tr>\n",
              "  </tbody>\n",
              "</table>\n",
              "</div>"
            ],
            "text/plain": [
              "              Year     ADSCI_yr       Yield  ...    SPEI_180      SPI_90     SPEI_90\n",
              "count   703.000000   703.000000  703.000000  ...  703.000000  703.000000  703.000000\n",
              "mean   2009.507824  1055.081508  128.824751  ...    0.275823    0.287875    0.221154\n",
              "std       5.163937  1577.426140   26.182344  ...    0.628578    0.402001    0.474175\n",
              "min    2002.000000     0.000000    0.000000  ...   -1.551900   -0.889098   -1.149150\n",
              "25%    2005.000000    74.585000  115.000000  ...   -0.144262   -0.004507   -0.108411\n",
              "50%    2009.000000   512.160000  131.000000  ...    0.298211    0.325151    0.302967\n",
              "75%    2014.000000  1233.115000  145.900000  ...    0.768285    0.565853    0.585126\n",
              "max    2019.000000  9619.590000  185.900000  ...    1.642580    1.443880    1.335715\n",
              "\n",
              "[8 rows x 39 columns]"
            ]
          },
          "metadata": {
            "tags": []
          },
          "execution_count": 6
        }
      ]
    },
    {
      "cell_type": "code",
      "metadata": {
        "id": "O4nl3k4zxS6r",
        "colab": {
          "base_uri": "https://localhost:8080/"
        },
        "outputId": "5a3bd0f7-9ef1-4b92-e30a-f28ef798514b"
      },
      "source": [
        "GS.isnull().sum()"
      ],
      "execution_count": 7,
      "outputs": [
        {
          "output_type": "execute_result",
          "data": {
            "text/plain": [
              "Year                0\n",
              "County              0\n",
              "ADSCI_yr            0\n",
              "Yield               0\n",
              "Acres_Planted       0\n",
              "ADSCI_gs            0\n",
              "Program             0\n",
              "Ag District         0\n",
              "Ag District Code    0\n",
              "County ANSI         0\n",
              "Commodity           0\n",
              "Data Item           0\n",
              "Domain              0\n",
              "Domain Category     0\n",
              "Value               0\n",
              "avg_precip_count    0\n",
              "avg_precip_mean     0\n",
              "avg_precip_std      0\n",
              "avg_precip_min      0\n",
              "avg_precip_25%      0\n",
              "avg_precip_50%      0\n",
              "avg_precip_75%      0\n",
              "avg_precip_max      0\n",
              "avg_temp_count      0\n",
              "avg_temp_mean       0\n",
              "avg_temp_std        0\n",
              "avg_temp_min        0\n",
              "avg_temp_25%        0\n",
              "avg_temp_50%        0\n",
              "avg_temp_75%        0\n",
              "avg_temp_max        0\n",
              "max_temp_count      0\n",
              "max_temp_mean       0\n",
              "max_temp_std        0\n",
              "max_temp_min        0\n",
              "max_temp_25%        0\n",
              "max_temp_50%        0\n",
              "max_temp_75%        0\n",
              "max_temp_max        0\n",
              "EDDI_6              0\n",
              "EDDI_5              0\n",
              "PDSI                0\n",
              "SPI_180             0\n",
              "SPEI_180            0\n",
              "SPI_90              0\n",
              "SPEI_90             0\n",
              "dtype: int64"
            ]
          },
          "metadata": {
            "tags": []
          },
          "execution_count": 7
        }
      ]
    },
    {
      "cell_type": "code",
      "metadata": {
        "colab": {
          "base_uri": "https://localhost:8080/",
          "height": 0
        },
        "id": "Aj9kMgkLOJzq",
        "outputId": "9cde0581-9359-414c-e579-c1bce2763229"
      },
      "source": [
        "Y.drop(columns=['min_temp_count', 'min_temp_mean', 'min_temp_std', 'min_temp_min', 'min_temp_25%', 'min_temp_50%', 'min_temp_75%', 'min_temp_max'], inplace=True)\n",
        "Y.head()"
      ],
      "execution_count": 8,
      "outputs": [
        {
          "output_type": "execute_result",
          "data": {
            "text/html": [
              "<div>\n",
              "<style scoped>\n",
              "    .dataframe tbody tr th:only-of-type {\n",
              "        vertical-align: middle;\n",
              "    }\n",
              "\n",
              "    .dataframe tbody tr th {\n",
              "        vertical-align: top;\n",
              "    }\n",
              "\n",
              "    .dataframe thead th {\n",
              "        text-align: right;\n",
              "    }\n",
              "</style>\n",
              "<table border=\"1\" class=\"dataframe\">\n",
              "  <thead>\n",
              "    <tr style=\"text-align: right;\">\n",
              "      <th></th>\n",
              "      <th>Year</th>\n",
              "      <th>County</th>\n",
              "      <th>ADSCI_yr</th>\n",
              "      <th>Yield</th>\n",
              "      <th>Acres_Planted</th>\n",
              "      <th>ADSCI_gs</th>\n",
              "      <th>Program</th>\n",
              "      <th>Ag District</th>\n",
              "      <th>Ag District Code</th>\n",
              "      <th>County ANSI</th>\n",
              "      <th>Commodity</th>\n",
              "      <th>Data Item</th>\n",
              "      <th>Domain</th>\n",
              "      <th>Domain Category</th>\n",
              "      <th>Value</th>\n",
              "      <th>CV (%)</th>\n",
              "      <th>avg_precip_count</th>\n",
              "      <th>avg_precip_mean</th>\n",
              "      <th>avg_precip_std</th>\n",
              "      <th>avg_precip_min</th>\n",
              "      <th>avg_precip_25%</th>\n",
              "      <th>avg_precip_50%</th>\n",
              "      <th>avg_precip_75%</th>\n",
              "      <th>avg_precip_max</th>\n",
              "      <th>avg_temp_count</th>\n",
              "      <th>avg_temp_mean</th>\n",
              "      <th>avg_temp_std</th>\n",
              "      <th>avg_temp_min</th>\n",
              "      <th>avg_temp_25%</th>\n",
              "      <th>avg_temp_50%</th>\n",
              "      <th>avg_temp_75%</th>\n",
              "      <th>avg_temp_max</th>\n",
              "      <th>max_temp_count</th>\n",
              "      <th>max_temp_mean</th>\n",
              "      <th>max_temp_std</th>\n",
              "      <th>max_temp_min</th>\n",
              "      <th>max_temp_25%</th>\n",
              "      <th>max_temp_50%</th>\n",
              "      <th>max_temp_75%</th>\n",
              "      <th>max_temp_max</th>\n",
              "      <th>EDDI_6</th>\n",
              "      <th>EDDI_5</th>\n",
              "      <th>PDSI</th>\n",
              "      <th>SPI_180</th>\n",
              "      <th>SPEI_180</th>\n",
              "      <th>SPI_90</th>\n",
              "      <th>SPEI_90</th>\n",
              "    </tr>\n",
              "  </thead>\n",
              "  <tbody>\n",
              "    <tr>\n",
              "      <th>0</th>\n",
              "      <td>2002</td>\n",
              "      <td>albany</td>\n",
              "      <td>3918.70</td>\n",
              "      <td>83.0</td>\n",
              "      <td>4300.0</td>\n",
              "      <td>1207.14</td>\n",
              "      <td>SURVEY</td>\n",
              "      <td>EASTERN</td>\n",
              "      <td>60</td>\n",
              "      <td>1.0</td>\n",
              "      <td>CORN</td>\n",
              "      <td>CORN - ACRES PLANTED</td>\n",
              "      <td>TOTAL</td>\n",
              "      <td>NOT SPECIFIED</td>\n",
              "      <td>4300.0</td>\n",
              "      <td>NaN</td>\n",
              "      <td>52.0</td>\n",
              "      <td>0.117146</td>\n",
              "      <td>0.095855</td>\n",
              "      <td>0.000000</td>\n",
              "      <td>0.033964</td>\n",
              "      <td>0.106735</td>\n",
              "      <td>0.177632</td>\n",
              "      <td>0.357960</td>\n",
              "      <td>52.0</td>\n",
              "      <td>46.919802</td>\n",
              "      <td>17.486279</td>\n",
              "      <td>20.434578</td>\n",
              "      <td>31.918392</td>\n",
              "      <td>43.573970</td>\n",
              "      <td>62.922677</td>\n",
              "      <td>77.483057</td>\n",
              "      <td>52.0</td>\n",
              "      <td>57.267401</td>\n",
              "      <td>19.019907</td>\n",
              "      <td>29.170256</td>\n",
              "      <td>40.046174</td>\n",
              "      <td>53.811858</td>\n",
              "      <td>74.135961</td>\n",
              "      <td>91.435192</td>\n",
              "      <td>1.175525</td>\n",
              "      <td>1.025416</td>\n",
              "      <td>-3.880133</td>\n",
              "      <td>-0.545897</td>\n",
              "      <td>-0.794023</td>\n",
              "      <td>-0.127621</td>\n",
              "      <td>-0.298151</td>\n",
              "    </tr>\n",
              "    <tr>\n",
              "      <th>1</th>\n",
              "      <td>2002</td>\n",
              "      <td>allegany</td>\n",
              "      <td>898.71</td>\n",
              "      <td>100.0</td>\n",
              "      <td>12700.0</td>\n",
              "      <td>457.29</td>\n",
              "      <td>SURVEY</td>\n",
              "      <td>SOUTHWEST</td>\n",
              "      <td>70</td>\n",
              "      <td>3.0</td>\n",
              "      <td>CORN</td>\n",
              "      <td>CORN - ACRES PLANTED</td>\n",
              "      <td>TOTAL</td>\n",
              "      <td>NOT SPECIFIED</td>\n",
              "      <td>12700.0</td>\n",
              "      <td>NaN</td>\n",
              "      <td>52.0</td>\n",
              "      <td>0.100624</td>\n",
              "      <td>0.091854</td>\n",
              "      <td>0.000269</td>\n",
              "      <td>0.034344</td>\n",
              "      <td>0.070725</td>\n",
              "      <td>0.156471</td>\n",
              "      <td>0.357707</td>\n",
              "      <td>52.0</td>\n",
              "      <td>44.601129</td>\n",
              "      <td>16.751677</td>\n",
              "      <td>17.033956</td>\n",
              "      <td>28.817964</td>\n",
              "      <td>42.177023</td>\n",
              "      <td>60.918027</td>\n",
              "      <td>72.723892</td>\n",
              "      <td>52.0</td>\n",
              "      <td>55.975687</td>\n",
              "      <td>19.096036</td>\n",
              "      <td>26.277575</td>\n",
              "      <td>37.915611</td>\n",
              "      <td>53.284342</td>\n",
              "      <td>74.758686</td>\n",
              "      <td>86.775847</td>\n",
              "      <td>0.881328</td>\n",
              "      <td>0.800075</td>\n",
              "      <td>-1.574782</td>\n",
              "      <td>0.277994</td>\n",
              "      <td>0.039599</td>\n",
              "      <td>0.232551</td>\n",
              "      <td>0.096368</td>\n",
              "    </tr>\n",
              "    <tr>\n",
              "      <th>2</th>\n",
              "      <td>2002</td>\n",
              "      <td>broome</td>\n",
              "      <td>1897.18</td>\n",
              "      <td>110.0</td>\n",
              "      <td>7200.0</td>\n",
              "      <td>770.66</td>\n",
              "      <td>SURVEY</td>\n",
              "      <td>SOUTHERN</td>\n",
              "      <td>80</td>\n",
              "      <td>7.0</td>\n",
              "      <td>CORN</td>\n",
              "      <td>CORN - ACRES PLANTED</td>\n",
              "      <td>TOTAL</td>\n",
              "      <td>NOT SPECIFIED</td>\n",
              "      <td>7200.0</td>\n",
              "      <td>NaN</td>\n",
              "      <td>52.0</td>\n",
              "      <td>0.112414</td>\n",
              "      <td>0.095451</td>\n",
              "      <td>0.000000</td>\n",
              "      <td>0.035190</td>\n",
              "      <td>0.086369</td>\n",
              "      <td>0.186802</td>\n",
              "      <td>0.337025</td>\n",
              "      <td>52.0</td>\n",
              "      <td>46.753935</td>\n",
              "      <td>17.072283</td>\n",
              "      <td>18.269682</td>\n",
              "      <td>32.112317</td>\n",
              "      <td>42.861714</td>\n",
              "      <td>63.749193</td>\n",
              "      <td>76.031372</td>\n",
              "      <td>52.0</td>\n",
              "      <td>57.443196</td>\n",
              "      <td>18.952634</td>\n",
              "      <td>26.849015</td>\n",
              "      <td>41.009295</td>\n",
              "      <td>54.536745</td>\n",
              "      <td>75.847577</td>\n",
              "      <td>91.179974</td>\n",
              "      <td>1.201194</td>\n",
              "      <td>1.086777</td>\n",
              "      <td>-2.741415</td>\n",
              "      <td>-0.056041</td>\n",
              "      <td>-0.420280</td>\n",
              "      <td>0.038175</td>\n",
              "      <td>-0.210609</td>\n",
              "    </tr>\n",
              "    <tr>\n",
              "      <th>3</th>\n",
              "      <td>2002</td>\n",
              "      <td>cattaraugus</td>\n",
              "      <td>468.99</td>\n",
              "      <td>117.0</td>\n",
              "      <td>19100.0</td>\n",
              "      <td>340.11</td>\n",
              "      <td>SURVEY</td>\n",
              "      <td>SOUTHWEST</td>\n",
              "      <td>70</td>\n",
              "      <td>9.0</td>\n",
              "      <td>CORN</td>\n",
              "      <td>CORN - ACRES PLANTED</td>\n",
              "      <td>TOTAL</td>\n",
              "      <td>NOT SPECIFIED</td>\n",
              "      <td>19100.0</td>\n",
              "      <td>NaN</td>\n",
              "      <td>52.0</td>\n",
              "      <td>0.122495</td>\n",
              "      <td>0.108201</td>\n",
              "      <td>0.003301</td>\n",
              "      <td>0.049673</td>\n",
              "      <td>0.087067</td>\n",
              "      <td>0.171153</td>\n",
              "      <td>0.441005</td>\n",
              "      <td>52.0</td>\n",
              "      <td>45.425998</td>\n",
              "      <td>16.786078</td>\n",
              "      <td>17.376926</td>\n",
              "      <td>29.224977</td>\n",
              "      <td>43.086251</td>\n",
              "      <td>62.013583</td>\n",
              "      <td>73.483941</td>\n",
              "      <td>52.0</td>\n",
              "      <td>55.684203</td>\n",
              "      <td>18.915017</td>\n",
              "      <td>25.702879</td>\n",
              "      <td>38.443219</td>\n",
              "      <td>53.241232</td>\n",
              "      <td>74.324339</td>\n",
              "      <td>85.425502</td>\n",
              "      <td>0.776389</td>\n",
              "      <td>0.708969</td>\n",
              "      <td>-1.987993</td>\n",
              "      <td>0.297729</td>\n",
              "      <td>0.058623</td>\n",
              "      <td>0.285811</td>\n",
              "      <td>0.175832</td>\n",
              "    </tr>\n",
              "    <tr>\n",
              "      <th>4</th>\n",
              "      <td>2002</td>\n",
              "      <td>cayuga</td>\n",
              "      <td>714.56</td>\n",
              "      <td>94.0</td>\n",
              "      <td>61200.0</td>\n",
              "      <td>570.89</td>\n",
              "      <td>SURVEY</td>\n",
              "      <td>CENTRAL</td>\n",
              "      <td>50</td>\n",
              "      <td>11.0</td>\n",
              "      <td>CORN</td>\n",
              "      <td>CORN - ACRES PLANTED</td>\n",
              "      <td>TOTAL</td>\n",
              "      <td>NOT SPECIFIED</td>\n",
              "      <td>61200.0</td>\n",
              "      <td>NaN</td>\n",
              "      <td>52.0</td>\n",
              "      <td>0.105528</td>\n",
              "      <td>0.099586</td>\n",
              "      <td>0.000000</td>\n",
              "      <td>0.029570</td>\n",
              "      <td>0.073061</td>\n",
              "      <td>0.165801</td>\n",
              "      <td>0.402174</td>\n",
              "      <td>52.0</td>\n",
              "      <td>48.310842</td>\n",
              "      <td>17.138923</td>\n",
              "      <td>21.650936</td>\n",
              "      <td>32.012191</td>\n",
              "      <td>45.731623</td>\n",
              "      <td>64.895299</td>\n",
              "      <td>79.262180</td>\n",
              "      <td>52.0</td>\n",
              "      <td>57.485600</td>\n",
              "      <td>18.870793</td>\n",
              "      <td>29.504130</td>\n",
              "      <td>41.022595</td>\n",
              "      <td>53.795674</td>\n",
              "      <td>75.663489</td>\n",
              "      <td>91.396853</td>\n",
              "      <td>0.946017</td>\n",
              "      <td>0.900388</td>\n",
              "      <td>-3.124733</td>\n",
              "      <td>-0.087718</td>\n",
              "      <td>-0.435648</td>\n",
              "      <td>-0.028876</td>\n",
              "      <td>-0.266445</td>\n",
              "    </tr>\n",
              "  </tbody>\n",
              "</table>\n",
              "</div>"
            ],
            "text/plain": [
              "   Year       County  ADSCI_yr  Yield  ...   SPI_180  SPEI_180    SPI_90   SPEI_90\n",
              "0  2002       albany   3918.70   83.0  ... -0.545897 -0.794023 -0.127621 -0.298151\n",
              "1  2002     allegany    898.71  100.0  ...  0.277994  0.039599  0.232551  0.096368\n",
              "2  2002       broome   1897.18  110.0  ... -0.056041 -0.420280  0.038175 -0.210609\n",
              "3  2002  cattaraugus    468.99  117.0  ...  0.297729  0.058623  0.285811  0.175832\n",
              "4  2002       cayuga    714.56   94.0  ... -0.087718 -0.435648 -0.028876 -0.266445\n",
              "\n",
              "[5 rows x 47 columns]"
            ]
          },
          "metadata": {
            "tags": []
          },
          "execution_count": 8
        }
      ]
    },
    {
      "cell_type": "code",
      "metadata": {
        "colab": {
          "base_uri": "https://localhost:8080/",
          "height": 0
        },
        "id": "u7TWkGQQxsYU",
        "outputId": "6d743129-e0f7-413c-e2a7-b77b372ead09"
      },
      "source": [
        "Y.drop(columns=['CV (%)'], inplace=True)\n",
        "Y['EDDI_5'].fillna((Y['EDDI_5'].mean()), inplace=True)\n",
        "Y.describe()"
      ],
      "execution_count": 9,
      "outputs": [
        {
          "output_type": "execute_result",
          "data": {
            "text/html": [
              "<div>\n",
              "<style scoped>\n",
              "    .dataframe tbody tr th:only-of-type {\n",
              "        vertical-align: middle;\n",
              "    }\n",
              "\n",
              "    .dataframe tbody tr th {\n",
              "        vertical-align: top;\n",
              "    }\n",
              "\n",
              "    .dataframe thead th {\n",
              "        text-align: right;\n",
              "    }\n",
              "</style>\n",
              "<table border=\"1\" class=\"dataframe\">\n",
              "  <thead>\n",
              "    <tr style=\"text-align: right;\">\n",
              "      <th></th>\n",
              "      <th>Year</th>\n",
              "      <th>ADSCI_yr</th>\n",
              "      <th>Yield</th>\n",
              "      <th>Acres_Planted</th>\n",
              "      <th>ADSCI_gs</th>\n",
              "      <th>Ag District Code</th>\n",
              "      <th>County ANSI</th>\n",
              "      <th>Value</th>\n",
              "      <th>avg_precip_count</th>\n",
              "      <th>avg_precip_mean</th>\n",
              "      <th>avg_precip_std</th>\n",
              "      <th>avg_precip_min</th>\n",
              "      <th>avg_precip_25%</th>\n",
              "      <th>avg_precip_50%</th>\n",
              "      <th>avg_precip_75%</th>\n",
              "      <th>avg_precip_max</th>\n",
              "      <th>avg_temp_count</th>\n",
              "      <th>avg_temp_mean</th>\n",
              "      <th>avg_temp_std</th>\n",
              "      <th>avg_temp_min</th>\n",
              "      <th>avg_temp_25%</th>\n",
              "      <th>avg_temp_50%</th>\n",
              "      <th>avg_temp_75%</th>\n",
              "      <th>avg_temp_max</th>\n",
              "      <th>max_temp_count</th>\n",
              "      <th>max_temp_mean</th>\n",
              "      <th>max_temp_std</th>\n",
              "      <th>max_temp_min</th>\n",
              "      <th>max_temp_25%</th>\n",
              "      <th>max_temp_50%</th>\n",
              "      <th>max_temp_75%</th>\n",
              "      <th>max_temp_max</th>\n",
              "      <th>EDDI_6</th>\n",
              "      <th>EDDI_5</th>\n",
              "      <th>PDSI</th>\n",
              "      <th>SPI_180</th>\n",
              "      <th>SPEI_180</th>\n",
              "      <th>SPI_90</th>\n",
              "      <th>SPEI_90</th>\n",
              "    </tr>\n",
              "  </thead>\n",
              "  <tbody>\n",
              "    <tr>\n",
              "      <th>count</th>\n",
              "      <td>703.000000</td>\n",
              "      <td>703.000000</td>\n",
              "      <td>703.000000</td>\n",
              "      <td>703.000000</td>\n",
              "      <td>703.000000</td>\n",
              "      <td>703.000000</td>\n",
              "      <td>703.000000</td>\n",
              "      <td>703.000000</td>\n",
              "      <td>703.000000</td>\n",
              "      <td>703.000000</td>\n",
              "      <td>703.000000</td>\n",
              "      <td>7.030000e+02</td>\n",
              "      <td>703.000000</td>\n",
              "      <td>703.000000</td>\n",
              "      <td>703.000000</td>\n",
              "      <td>703.000000</td>\n",
              "      <td>703.000000</td>\n",
              "      <td>703.000000</td>\n",
              "      <td>703.000000</td>\n",
              "      <td>703.000000</td>\n",
              "      <td>703.000000</td>\n",
              "      <td>703.000000</td>\n",
              "      <td>703.000000</td>\n",
              "      <td>703.000000</td>\n",
              "      <td>703.000000</td>\n",
              "      <td>703.000000</td>\n",
              "      <td>703.000000</td>\n",
              "      <td>703.000000</td>\n",
              "      <td>703.000000</td>\n",
              "      <td>703.000000</td>\n",
              "      <td>703.000000</td>\n",
              "      <td>703.000000</td>\n",
              "      <td>703.000000</td>\n",
              "      <td>703.000000</td>\n",
              "      <td>703.000000</td>\n",
              "      <td>703.000000</td>\n",
              "      <td>703.000000</td>\n",
              "      <td>703.000000</td>\n",
              "      <td>703.000000</td>\n",
              "    </tr>\n",
              "    <tr>\n",
              "      <th>mean</th>\n",
              "      <td>2009.507824</td>\n",
              "      <td>1055.081508</td>\n",
              "      <td>128.824751</td>\n",
              "      <td>22647.226174</td>\n",
              "      <td>564.036501</td>\n",
              "      <td>56.815078</td>\n",
              "      <td>60.883357</td>\n",
              "      <td>22647.226174</td>\n",
              "      <td>52.119488</td>\n",
              "      <td>0.121782</td>\n",
              "      <td>0.105536</td>\n",
              "      <td>6.222975e-04</td>\n",
              "      <td>0.042561</td>\n",
              "      <td>0.096193</td>\n",
              "      <td>0.173827</td>\n",
              "      <td>0.478198</td>\n",
              "      <td>52.192034</td>\n",
              "      <td>46.356676</td>\n",
              "      <td>18.140829</td>\n",
              "      <td>11.205686</td>\n",
              "      <td>31.677406</td>\n",
              "      <td>47.124903</td>\n",
              "      <td>62.868833</td>\n",
              "      <td>73.965728</td>\n",
              "      <td>52.192034</td>\n",
              "      <td>56.091151</td>\n",
              "      <td>19.225342</td>\n",
              "      <td>20.133466</td>\n",
              "      <td>39.394289</td>\n",
              "      <td>57.427830</td>\n",
              "      <td>73.551831</td>\n",
              "      <td>85.287806</td>\n",
              "      <td>0.417590</td>\n",
              "      <td>0.386992</td>\n",
              "      <td>0.782871</td>\n",
              "      <td>0.376394</td>\n",
              "      <td>0.275823</td>\n",
              "      <td>0.287875</td>\n",
              "      <td>0.221154</td>\n",
              "    </tr>\n",
              "    <tr>\n",
              "      <th>std</th>\n",
              "      <td>5.163937</td>\n",
              "      <td>1577.426140</td>\n",
              "      <td>26.182344</td>\n",
              "      <td>16619.040160</td>\n",
              "      <td>833.793784</td>\n",
              "      <td>19.620326</td>\n",
              "      <td>36.631577</td>\n",
              "      <td>16619.040160</td>\n",
              "      <td>1.087329</td>\n",
              "      <td>0.019981</td>\n",
              "      <td>0.021855</td>\n",
              "      <td>1.947120e-03</td>\n",
              "      <td>0.014125</td>\n",
              "      <td>0.021525</td>\n",
              "      <td>0.030985</td>\n",
              "      <td>0.163092</td>\n",
              "      <td>0.394180</td>\n",
              "      <td>2.164933</td>\n",
              "      <td>1.328402</td>\n",
              "      <td>6.386963</td>\n",
              "      <td>2.942211</td>\n",
              "      <td>2.413462</td>\n",
              "      <td>2.225856</td>\n",
              "      <td>2.773691</td>\n",
              "      <td>0.394180</td>\n",
              "      <td>1.946592</td>\n",
              "      <td>1.275262</td>\n",
              "      <td>5.651904</td>\n",
              "      <td>2.901605</td>\n",
              "      <td>2.926003</td>\n",
              "      <td>2.610738</td>\n",
              "      <td>3.284377</td>\n",
              "      <td>0.749828</td>\n",
              "      <td>0.706913</td>\n",
              "      <td>1.795133</td>\n",
              "      <td>0.558932</td>\n",
              "      <td>0.628578</td>\n",
              "      <td>0.402001</td>\n",
              "      <td>0.474175</td>\n",
              "    </tr>\n",
              "    <tr>\n",
              "      <th>min</th>\n",
              "      <td>2002.000000</td>\n",
              "      <td>0.000000</td>\n",
              "      <td>0.000000</td>\n",
              "      <td>100.000000</td>\n",
              "      <td>0.000000</td>\n",
              "      <td>20.000000</td>\n",
              "      <td>1.000000</td>\n",
              "      <td>100.000000</td>\n",
              "      <td>25.000000</td>\n",
              "      <td>0.078726</td>\n",
              "      <td>0.057876</td>\n",
              "      <td>0.000000e+00</td>\n",
              "      <td>0.013089</td>\n",
              "      <td>0.044747</td>\n",
              "      <td>0.105142</td>\n",
              "      <td>0.224474</td>\n",
              "      <td>52.000000</td>\n",
              "      <td>39.591451</td>\n",
              "      <td>13.410519</td>\n",
              "      <td>-5.763846</td>\n",
              "      <td>22.544764</td>\n",
              "      <td>39.765375</td>\n",
              "      <td>56.548450</td>\n",
              "      <td>65.918439</td>\n",
              "      <td>52.000000</td>\n",
              "      <td>49.822756</td>\n",
              "      <td>12.925094</td>\n",
              "      <td>4.353012</td>\n",
              "      <td>30.790068</td>\n",
              "      <td>49.836951</td>\n",
              "      <td>66.152669</td>\n",
              "      <td>76.154491</td>\n",
              "      <td>-1.582589</td>\n",
              "      <td>-1.575075</td>\n",
              "      <td>-4.658609</td>\n",
              "      <td>-1.231387</td>\n",
              "      <td>-1.551900</td>\n",
              "      <td>-0.889098</td>\n",
              "      <td>-1.149150</td>\n",
              "    </tr>\n",
              "    <tr>\n",
              "      <th>25%</th>\n",
              "      <td>2005.000000</td>\n",
              "      <td>74.585000</td>\n",
              "      <td>115.000000</td>\n",
              "      <td>9250.000000</td>\n",
              "      <td>0.000000</td>\n",
              "      <td>40.000000</td>\n",
              "      <td>27.000000</td>\n",
              "      <td>9250.000000</td>\n",
              "      <td>52.000000</td>\n",
              "      <td>0.107327</td>\n",
              "      <td>0.091795</td>\n",
              "      <td>0.000000e+00</td>\n",
              "      <td>0.032335</td>\n",
              "      <td>0.080582</td>\n",
              "      <td>0.151215</td>\n",
              "      <td>0.373691</td>\n",
              "      <td>52.000000</td>\n",
              "      <td>44.948254</td>\n",
              "      <td>17.297128</td>\n",
              "      <td>6.739812</td>\n",
              "      <td>29.698547</td>\n",
              "      <td>45.691214</td>\n",
              "      <td>61.430745</td>\n",
              "      <td>71.990604</td>\n",
              "      <td>52.000000</td>\n",
              "      <td>54.989831</td>\n",
              "      <td>18.598121</td>\n",
              "      <td>15.671226</td>\n",
              "      <td>37.290242</td>\n",
              "      <td>55.706386</td>\n",
              "      <td>71.808597</td>\n",
              "      <td>83.009940</td>\n",
              "      <td>-0.082704</td>\n",
              "      <td>-0.012258</td>\n",
              "      <td>-0.302049</td>\n",
              "      <td>-0.020201</td>\n",
              "      <td>-0.144262</td>\n",
              "      <td>-0.004507</td>\n",
              "      <td>-0.108411</td>\n",
              "    </tr>\n",
              "    <tr>\n",
              "      <th>50%</th>\n",
              "      <td>2009.000000</td>\n",
              "      <td>512.160000</td>\n",
              "      <td>131.000000</td>\n",
              "      <td>18800.000000</td>\n",
              "      <td>245.230000</td>\n",
              "      <td>50.000000</td>\n",
              "      <td>57.000000</td>\n",
              "      <td>18800.000000</td>\n",
              "      <td>52.000000</td>\n",
              "      <td>0.121067</td>\n",
              "      <td>0.102533</td>\n",
              "      <td>4.925935e-07</td>\n",
              "      <td>0.040612</td>\n",
              "      <td>0.093864</td>\n",
              "      <td>0.172298</td>\n",
              "      <td>0.436425</td>\n",
              "      <td>52.000000</td>\n",
              "      <td>46.362257</td>\n",
              "      <td>18.117034</td>\n",
              "      <td>11.678501</td>\n",
              "      <td>31.732604</td>\n",
              "      <td>47.290205</td>\n",
              "      <td>62.799555</td>\n",
              "      <td>73.959879</td>\n",
              "      <td>52.000000</td>\n",
              "      <td>56.135762</td>\n",
              "      <td>19.210827</td>\n",
              "      <td>20.193755</td>\n",
              "      <td>39.451734</td>\n",
              "      <td>57.410777</td>\n",
              "      <td>73.610069</td>\n",
              "      <td>85.385696</td>\n",
              "      <td>0.397791</td>\n",
              "      <td>0.386992</td>\n",
              "      <td>0.921168</td>\n",
              "      <td>0.376769</td>\n",
              "      <td>0.298211</td>\n",
              "      <td>0.325151</td>\n",
              "      <td>0.302967</td>\n",
              "    </tr>\n",
              "    <tr>\n",
              "      <th>75%</th>\n",
              "      <td>2014.000000</td>\n",
              "      <td>1233.115000</td>\n",
              "      <td>145.900000</td>\n",
              "      <td>33150.000000</td>\n",
              "      <td>789.860000</td>\n",
              "      <td>70.000000</td>\n",
              "      <td>96.000000</td>\n",
              "      <td>33150.000000</td>\n",
              "      <td>52.000000</td>\n",
              "      <td>0.134584</td>\n",
              "      <td>0.114456</td>\n",
              "      <td>3.111824e-04</td>\n",
              "      <td>0.050772</td>\n",
              "      <td>0.108939</td>\n",
              "      <td>0.194884</td>\n",
              "      <td>0.532621</td>\n",
              "      <td>52.000000</td>\n",
              "      <td>47.785170</td>\n",
              "      <td>18.992578</td>\n",
              "      <td>15.990223</td>\n",
              "      <td>33.583295</td>\n",
              "      <td>48.753340</td>\n",
              "      <td>64.491406</td>\n",
              "      <td>75.942446</td>\n",
              "      <td>52.000000</td>\n",
              "      <td>57.189108</td>\n",
              "      <td>19.902559</td>\n",
              "      <td>24.415401</td>\n",
              "      <td>41.194225</td>\n",
              "      <td>59.374946</td>\n",
              "      <td>75.417135</td>\n",
              "      <td>87.523701</td>\n",
              "      <td>0.920401</td>\n",
              "      <td>0.801529</td>\n",
              "      <td>2.147249</td>\n",
              "      <td>0.759462</td>\n",
              "      <td>0.768285</td>\n",
              "      <td>0.565853</td>\n",
              "      <td>0.585126</td>\n",
              "    </tr>\n",
              "    <tr>\n",
              "      <th>max</th>\n",
              "      <td>2019.000000</td>\n",
              "      <td>9619.590000</td>\n",
              "      <td>185.900000</td>\n",
              "      <td>69900.000000</td>\n",
              "      <td>4750.030000</td>\n",
              "      <td>91.000000</td>\n",
              "      <td>123.000000</td>\n",
              "      <td>69900.000000</td>\n",
              "      <td>53.000000</td>\n",
              "      <td>0.223377</td>\n",
              "      <td>0.273768</td>\n",
              "      <td>3.131832e-02</td>\n",
              "      <td>0.099349</td>\n",
              "      <td>0.167496</td>\n",
              "      <td>0.298095</td>\n",
              "      <td>1.937012</td>\n",
              "      <td>53.000000</td>\n",
              "      <td>54.256070</td>\n",
              "      <td>22.284127</td>\n",
              "      <td>31.016770</td>\n",
              "      <td>42.039480</td>\n",
              "      <td>55.241384</td>\n",
              "      <td>69.483646</td>\n",
              "      <td>81.407729</td>\n",
              "      <td>53.000000</td>\n",
              "      <td>62.216640</td>\n",
              "      <td>22.880808</td>\n",
              "      <td>37.239960</td>\n",
              "      <td>48.604301</td>\n",
              "      <td>67.402420</td>\n",
              "      <td>80.496201</td>\n",
              "      <td>94.975213</td>\n",
              "      <td>2.101891</td>\n",
              "      <td>2.093943</td>\n",
              "      <td>4.366327</td>\n",
              "      <td>1.721091</td>\n",
              "      <td>1.642580</td>\n",
              "      <td>1.443880</td>\n",
              "      <td>1.335715</td>\n",
              "    </tr>\n",
              "  </tbody>\n",
              "</table>\n",
              "</div>"
            ],
            "text/plain": [
              "              Year     ADSCI_yr       Yield  ...    SPEI_180      SPI_90     SPEI_90\n",
              "count   703.000000   703.000000  703.000000  ...  703.000000  703.000000  703.000000\n",
              "mean   2009.507824  1055.081508  128.824751  ...    0.275823    0.287875    0.221154\n",
              "std       5.163937  1577.426140   26.182344  ...    0.628578    0.402001    0.474175\n",
              "min    2002.000000     0.000000    0.000000  ...   -1.551900   -0.889098   -1.149150\n",
              "25%    2005.000000    74.585000  115.000000  ...   -0.144262   -0.004507   -0.108411\n",
              "50%    2009.000000   512.160000  131.000000  ...    0.298211    0.325151    0.302967\n",
              "75%    2014.000000  1233.115000  145.900000  ...    0.768285    0.565853    0.585126\n",
              "max    2019.000000  9619.590000  185.900000  ...    1.642580    1.443880    1.335715\n",
              "\n",
              "[8 rows x 39 columns]"
            ]
          },
          "metadata": {
            "tags": []
          },
          "execution_count": 9
        }
      ]
    },
    {
      "cell_type": "code",
      "metadata": {
        "id": "so4_DtBeu9RQ"
      },
      "source": [
        "# Function for metrics\n",
        "def regression_results(y_true, y_pred):\n",
        "    \n",
        "    result = {}\n",
        "    \n",
        "    # Regression metrics\n",
        "    explained_variance=metrics.explained_variance_score(y_true, y_pred)\n",
        "    mean_absolute_error=metrics.mean_absolute_error(y_true, y_pred) \n",
        "    mse=metrics.mean_squared_error(y_true, y_pred)\n",
        "    median_absolute_error=metrics.median_absolute_error(y_true, y_pred)\n",
        "    r2=metrics.r2_score(y_true, y_pred)\n",
        "\n",
        "    print('explained_variance: ', round(explained_variance,4)) \n",
        "    print('r2: ', round(r2,4))\n",
        "    print('MAE: ', round(mean_absolute_error,4))\n",
        "    print('MSE: ', round(mse,4))\n",
        "    print('RMSE: ', round(np.sqrt(mse),4))\n",
        "    \n",
        "    result['explained_variance'] = round(explained_variance,4)\n",
        "    result['r2'] = round(r2,4)\n",
        "    result['MAE'] = round(mean_absolute_error,4)\n",
        "    result['MSE'] = round(mse,4)\n",
        "    result['RMSE'] = round(np.sqrt(mse),4)\n",
        "    \n",
        "    return result"
      ],
      "execution_count": 10,
      "outputs": []
    },
    {
      "cell_type": "code",
      "metadata": {
        "id": "ERx9I-bYdT7W"
      },
      "source": [
        "# x_test = GS[(GS['Year'] <= 2017) &(GS[\"Year\"] >= 2015)]\n",
        "# x_test = x_test[['ADSCI_yr', 'avg_precip_mean', 'avg_precip_25%','avg_precip_50%', 'avg_precip_75%',  'avg_temp_mean', 'avg_temp_25%',    'avg_temp_50%', 'avg_temp_75%', 'EDDI_5', 'EDDI_6', 'SPI_90', 'SPI_180', 'SPEI_90', 'SPEI_180', 'PDSI']]\n",
        "\n",
        "# x_train = GS[(GS['Year'] <= 2014) &(GS[\"Year\"] >= 2000)]\n",
        "# x_train = x_train[['ADSCI_yr', 'avg_precip_mean', 'avg_precip_25%','avg_precip_50%', 'avg_precip_75%',  'avg_temp_mean', 'avg_temp_25%', 'avg_temp_50%', 'avg_temp_75%', 'EDDI_5', 'EDDI_6', 'SPI_90', 'SPI_180', 'SPEI_90', 'SPEI_180', 'PDSI']]\n",
        "# x_val = GS[(GS['Year'] <= 2020) &(GS[\"Year\"] >= 2018)]\n",
        "# x_val = x_val[['ADSCI_yr', 'avg_precip_mean', 'avg_precip_25%','avg_precip_50%', 'avg_precip_75%',  'avg_temp_mean', 'avg_temp_25%',    'avg_temp_50%', 'avg_temp_75%', 'EDDI_5', 'EDDI_6', 'SPI_90', 'SPI_180', 'SPEI_90', 'SPEI_180', 'PDSI']]\n"
      ],
      "execution_count": 11,
      "outputs": []
    },
    {
      "cell_type": "code",
      "metadata": {
        "id": "dHf0fgMn7675"
      },
      "source": [
        "# y_test = GS[(GS['Year'] <= 2017) &(GS[\"Year\"] >= 2015)]\n",
        "# y_test = y_test['Yield']\n",
        "# y_train = GS[(GS['Year'] <= 2014) &(GS[\"Year\"] >= 2000)]\n",
        "# y_train = y_train['Yield']\n",
        "# y_val = GS[(GS['Year'] <= 2020) &(GS[\"Year\"] >= 2018)]\n",
        "# y_val = y_val['Yield']"
      ],
      "execution_count": 12,
      "outputs": []
    },
    {
      "cell_type": "markdown",
      "metadata": {
        "id": "i9kfblBG-FO0"
      },
      "source": [
        "1st option: split by years 2000-2014/ 2015-2017/ 2018-2020"
      ]
    },
    {
      "cell_type": "code",
      "metadata": {
        "id": "bvulCNdk-CBj"
      },
      "source": [
        "# x_test = GS[(GS['Year'] <= 2017) &(GS[\"Year\"] >= 2015)]\n",
        "# x_test = x_test[['ADSCI_yr', 'avg_precip_mean', 'avg_precip_25%','avg_precip_50%', 'avg_precip_75%',  'avg_temp_mean', 'avg_temp_25%',    'avg_temp_50%', 'avg_temp_75%', 'EDDI_5', 'EDDI_6', 'SPI_90', 'SPI_180', 'SPEI_90', 'SPEI_180', 'PDSI']]\n",
        "\n",
        "# x_train = GS[(GS['Year'] <= 2014) &(GS[\"Year\"] >= 2000)]\n",
        "# x_train = x_train[['ADSCI_yr', 'avg_precip_mean', 'avg_precip_25%','avg_precip_50%', 'avg_precip_75%',  'avg_temp_mean', 'avg_temp_25%', 'avg_temp_50%', 'avg_temp_75%', 'EDDI_5', 'EDDI_6', 'SPI_90', 'SPI_180', 'SPEI_90', 'SPEI_180', 'PDSI']]\n",
        "# x_val = GS[(GS['Year'] <= 2020) &(GS[\"Year\"] >= 2018)]\n",
        "# x_val = x_val[['ADSCI_yr', 'avg_precip_mean', 'avg_precip_25%','avg_precip_50%', 'avg_precip_75%',  'avg_temp_mean', 'avg_temp_25%',    'avg_temp_50%', 'avg_temp_75%', 'EDDI_5', 'EDDI_6', 'SPI_90', 'SPI_180', 'SPEI_90', 'SPEI_180', 'PDSI']]\n",
        "\n",
        "# y_test = GS[(GS['Year'] <= 2017) &(GS[\"Year\"] >= 2015)]\n",
        "# y_test = y_test['Yield']\n",
        "# y_train = GS[(GS['Year'] <= 2014) &(GS[\"Year\"] >= 2000)]\n",
        "# y_train = y_train['Yield']\n",
        "# y_val = GS[(GS['Year'] <= 2020) &(GS[\"Year\"] >= 2018)]\n",
        "# y_val = y_val['Yield']"
      ],
      "execution_count": 13,
      "outputs": []
    },
    {
      "cell_type": "markdown",
      "metadata": {
        "id": "JXECKGpV-PBD"
      },
      "source": [
        "2nd option\n"
      ]
    },
    {
      "cell_type": "code",
      "metadata": {
        "id": "7uGKTph--QaG"
      },
      "source": [
        "# x_test = GS[(GS['Year'] == 2018)]\n",
        "# x_test = x_test[['ADSCI_yr', 'avg_precip_mean', 'avg_precip_25%','avg_precip_50%', 'avg_precip_75%',  'avg_temp_mean', 'avg_temp_25%',    'avg_temp_50%', 'avg_temp_75%', 'EDDI_5', 'EDDI_6', 'SPI_90', 'SPI_180', 'SPEI_90', 'SPEI_180', 'PDSI']]\n",
        "# x_train = GS[(GS['Year'] <= 2017) &(GS[\"Year\"] >= 2000)]\n",
        "# x_train = x_train[['ADSCI_yr', 'avg_precip_mean', 'avg_precip_25%','avg_precip_50%', 'avg_precip_75%',  'avg_temp_mean', 'avg_temp_25%', 'avg_temp_50%', 'avg_temp_75%', 'EDDI_5', 'EDDI_6', 'SPI_90', 'SPI_180', 'SPEI_90', 'SPEI_180', 'PDSI']]\n",
        "# x_val = GS[(GS['Year'] == 2019)]\n",
        "# x_val = x_val[['ADSCI_yr', 'avg_precip_mean', 'avg_precip_25%','avg_precip_50%', 'avg_precip_75%',  'avg_temp_mean', 'avg_temp_25%',    'avg_temp_50%', 'avg_temp_75%', 'EDDI_5', 'EDDI_6', 'SPI_90', 'SPI_180', 'SPEI_90', 'SPEI_180', 'PDSI']]\n",
        "\n",
        "# y_test = GS[(GS['Year'] == 2018)]\n",
        "# y_test = y_test['Yield']\n",
        "# y_train = GS[(GS['Year'] <= 2017) &(GS[\"Year\"] >= 2000)]\n",
        "# y_train = y_train['Yield']\n",
        "# y_val = GS[(GS['Year'] == 2019)]\n",
        "# y_val = y_val['Yield']"
      ],
      "execution_count": 14,
      "outputs": []
    },
    {
      "cell_type": "code",
      "metadata": {
        "id": "ANGXgM8E-eXL",
        "colab": {
          "base_uri": "https://localhost:8080/",
          "height": 0
        },
        "outputId": "12bc959e-7950-4878-f465-1504bf0cbdbf"
      },
      "source": [
        "GS.tail()"
      ],
      "execution_count": 15,
      "outputs": [
        {
          "output_type": "execute_result",
          "data": {
            "text/html": [
              "<div>\n",
              "<style scoped>\n",
              "    .dataframe tbody tr th:only-of-type {\n",
              "        vertical-align: middle;\n",
              "    }\n",
              "\n",
              "    .dataframe tbody tr th {\n",
              "        vertical-align: top;\n",
              "    }\n",
              "\n",
              "    .dataframe thead th {\n",
              "        text-align: right;\n",
              "    }\n",
              "</style>\n",
              "<table border=\"1\" class=\"dataframe\">\n",
              "  <thead>\n",
              "    <tr style=\"text-align: right;\">\n",
              "      <th></th>\n",
              "      <th>Year</th>\n",
              "      <th>County</th>\n",
              "      <th>ADSCI_yr</th>\n",
              "      <th>Yield</th>\n",
              "      <th>Acres_Planted</th>\n",
              "      <th>ADSCI_gs</th>\n",
              "      <th>Program</th>\n",
              "      <th>Ag District</th>\n",
              "      <th>Ag District Code</th>\n",
              "      <th>County ANSI</th>\n",
              "      <th>Commodity</th>\n",
              "      <th>Data Item</th>\n",
              "      <th>Domain</th>\n",
              "      <th>Domain Category</th>\n",
              "      <th>Value</th>\n",
              "      <th>avg_precip_count</th>\n",
              "      <th>avg_precip_mean</th>\n",
              "      <th>avg_precip_std</th>\n",
              "      <th>avg_precip_min</th>\n",
              "      <th>avg_precip_25%</th>\n",
              "      <th>avg_precip_50%</th>\n",
              "      <th>avg_precip_75%</th>\n",
              "      <th>avg_precip_max</th>\n",
              "      <th>avg_temp_count</th>\n",
              "      <th>avg_temp_mean</th>\n",
              "      <th>avg_temp_std</th>\n",
              "      <th>avg_temp_min</th>\n",
              "      <th>avg_temp_25%</th>\n",
              "      <th>avg_temp_50%</th>\n",
              "      <th>avg_temp_75%</th>\n",
              "      <th>avg_temp_max</th>\n",
              "      <th>max_temp_count</th>\n",
              "      <th>max_temp_mean</th>\n",
              "      <th>max_temp_std</th>\n",
              "      <th>max_temp_min</th>\n",
              "      <th>max_temp_25%</th>\n",
              "      <th>max_temp_50%</th>\n",
              "      <th>max_temp_75%</th>\n",
              "      <th>max_temp_max</th>\n",
              "      <th>EDDI_6</th>\n",
              "      <th>EDDI_5</th>\n",
              "      <th>PDSI</th>\n",
              "      <th>SPI_180</th>\n",
              "      <th>SPEI_180</th>\n",
              "      <th>SPI_90</th>\n",
              "      <th>SPEI_90</th>\n",
              "    </tr>\n",
              "  </thead>\n",
              "  <tbody>\n",
              "    <tr>\n",
              "      <th>698</th>\n",
              "      <td>2019</td>\n",
              "      <td>ulster</td>\n",
              "      <td>318.19</td>\n",
              "      <td>159.2</td>\n",
              "      <td>1500.0</td>\n",
              "      <td>66.90</td>\n",
              "      <td>SURVEY</td>\n",
              "      <td>SOUTHEAST</td>\n",
              "      <td>90</td>\n",
              "      <td>111.0</td>\n",
              "      <td>CORN</td>\n",
              "      <td>CORN - ACRES PLANTED</td>\n",
              "      <td>TOTAL</td>\n",
              "      <td>NOT SPECIFIED</td>\n",
              "      <td>1500.0</td>\n",
              "      <td>5.0</td>\n",
              "      <td>0.122701</td>\n",
              "      <td>0.052555</td>\n",
              "      <td>0.047258</td>\n",
              "      <td>0.096736</td>\n",
              "      <td>0.127588</td>\n",
              "      <td>0.170689</td>\n",
              "      <td>0.171236</td>\n",
              "      <td>5.0</td>\n",
              "      <td>63.180431</td>\n",
              "      <td>6.064981</td>\n",
              "      <td>55.140932</td>\n",
              "      <td>59.952289</td>\n",
              "      <td>63.122736</td>\n",
              "      <td>66.849788</td>\n",
              "      <td>70.836411</td>\n",
              "      <td>5.0</td>\n",
              "      <td>74.212725</td>\n",
              "      <td>6.723959</td>\n",
              "      <td>64.464399</td>\n",
              "      <td>72.103454</td>\n",
              "      <td>74.075870</td>\n",
              "      <td>78.040226</td>\n",
              "      <td>82.379678</td>\n",
              "      <td>0.136563</td>\n",
              "      <td>0.154802</td>\n",
              "      <td>3.146697</td>\n",
              "      <td>0.650337</td>\n",
              "      <td>0.682020</td>\n",
              "      <td>0.350752</td>\n",
              "      <td>0.342491</td>\n",
              "    </tr>\n",
              "    <tr>\n",
              "      <th>699</th>\n",
              "      <td>2019</td>\n",
              "      <td>washington</td>\n",
              "      <td>118.72</td>\n",
              "      <td>151.9</td>\n",
              "      <td>27300.0</td>\n",
              "      <td>85.45</td>\n",
              "      <td>SURVEY</td>\n",
              "      <td>EASTERN</td>\n",
              "      <td>60</td>\n",
              "      <td>115.0</td>\n",
              "      <td>CORN</td>\n",
              "      <td>CORN - ACRES PLANTED</td>\n",
              "      <td>TOTAL</td>\n",
              "      <td>NOT SPECIFIED</td>\n",
              "      <td>27300.0</td>\n",
              "      <td>5.0</td>\n",
              "      <td>0.133101</td>\n",
              "      <td>0.038066</td>\n",
              "      <td>0.082570</td>\n",
              "      <td>0.107308</td>\n",
              "      <td>0.139024</td>\n",
              "      <td>0.162642</td>\n",
              "      <td>0.173962</td>\n",
              "      <td>5.0</td>\n",
              "      <td>64.022676</td>\n",
              "      <td>6.904366</td>\n",
              "      <td>55.007926</td>\n",
              "      <td>59.733478</td>\n",
              "      <td>64.685371</td>\n",
              "      <td>68.032636</td>\n",
              "      <td>72.653969</td>\n",
              "      <td>5.0</td>\n",
              "      <td>74.620761</td>\n",
              "      <td>7.580256</td>\n",
              "      <td>63.798033</td>\n",
              "      <td>71.259208</td>\n",
              "      <td>75.296069</td>\n",
              "      <td>79.172129</td>\n",
              "      <td>83.578365</td>\n",
              "      <td>0.004136</td>\n",
              "      <td>-0.023440</td>\n",
              "      <td>2.790031</td>\n",
              "      <td>1.103573</td>\n",
              "      <td>1.028063</td>\n",
              "      <td>0.834156</td>\n",
              "      <td>0.771803</td>\n",
              "    </tr>\n",
              "    <tr>\n",
              "      <th>700</th>\n",
              "      <td>2019</td>\n",
              "      <td>wayne</td>\n",
              "      <td>0.00</td>\n",
              "      <td>167.2</td>\n",
              "      <td>30600.0</td>\n",
              "      <td>0.00</td>\n",
              "      <td>SURVEY</td>\n",
              "      <td>WESTERN</td>\n",
              "      <td>40</td>\n",
              "      <td>117.0</td>\n",
              "      <td>CORN</td>\n",
              "      <td>CORN - ACRES PLANTED</td>\n",
              "      <td>TOTAL</td>\n",
              "      <td>NOT SPECIFIED</td>\n",
              "      <td>30600.0</td>\n",
              "      <td>5.0</td>\n",
              "      <td>0.135664</td>\n",
              "      <td>0.024028</td>\n",
              "      <td>0.105066</td>\n",
              "      <td>0.114093</td>\n",
              "      <td>0.152558</td>\n",
              "      <td>0.152939</td>\n",
              "      <td>0.153665</td>\n",
              "      <td>5.0</td>\n",
              "      <td>62.901622</td>\n",
              "      <td>6.732649</td>\n",
              "      <td>53.004700</td>\n",
              "      <td>61.428890</td>\n",
              "      <td>62.058156</td>\n",
              "      <td>67.289953</td>\n",
              "      <td>70.726414</td>\n",
              "      <td>5.0</td>\n",
              "      <td>72.568264</td>\n",
              "      <td>6.875578</td>\n",
              "      <td>61.850592</td>\n",
              "      <td>72.045921</td>\n",
              "      <td>72.049831</td>\n",
              "      <td>76.938581</td>\n",
              "      <td>79.956397</td>\n",
              "      <td>-0.203250</td>\n",
              "      <td>-0.181144</td>\n",
              "      <td>3.743234</td>\n",
              "      <td>0.786992</td>\n",
              "      <td>1.136969</td>\n",
              "      <td>0.474847</td>\n",
              "      <td>0.694197</td>\n",
              "    </tr>\n",
              "    <tr>\n",
              "      <th>701</th>\n",
              "      <td>2019</td>\n",
              "      <td>wyoming</td>\n",
              "      <td>243.60</td>\n",
              "      <td>160.5</td>\n",
              "      <td>52500.0</td>\n",
              "      <td>0.00</td>\n",
              "      <td>SURVEY</td>\n",
              "      <td>WESTERN</td>\n",
              "      <td>40</td>\n",
              "      <td>121.0</td>\n",
              "      <td>CORN</td>\n",
              "      <td>CORN - ACRES PLANTED</td>\n",
              "      <td>TOTAL</td>\n",
              "      <td>NOT SPECIFIED</td>\n",
              "      <td>52500.0</td>\n",
              "      <td>5.0</td>\n",
              "      <td>0.121455</td>\n",
              "      <td>0.029402</td>\n",
              "      <td>0.086670</td>\n",
              "      <td>0.113191</td>\n",
              "      <td>0.116410</td>\n",
              "      <td>0.123164</td>\n",
              "      <td>0.167838</td>\n",
              "      <td>5.0</td>\n",
              "      <td>62.852911</td>\n",
              "      <td>6.222433</td>\n",
              "      <td>53.829084</td>\n",
              "      <td>61.066143</td>\n",
              "      <td>62.515236</td>\n",
              "      <td>66.427453</td>\n",
              "      <td>70.426638</td>\n",
              "      <td>5.0</td>\n",
              "      <td>72.577664</td>\n",
              "      <td>5.979108</td>\n",
              "      <td>63.707930</td>\n",
              "      <td>71.002098</td>\n",
              "      <td>72.377961</td>\n",
              "      <td>76.296049</td>\n",
              "      <td>79.504284</td>\n",
              "      <td>-0.170344</td>\n",
              "      <td>-0.175664</td>\n",
              "      <td>3.461024</td>\n",
              "      <td>0.718921</td>\n",
              "      <td>0.887887</td>\n",
              "      <td>0.400457</td>\n",
              "      <td>0.508998</td>\n",
              "    </tr>\n",
              "    <tr>\n",
              "      <th>702</th>\n",
              "      <td>2019</td>\n",
              "      <td>yates</td>\n",
              "      <td>90.26</td>\n",
              "      <td>176.9</td>\n",
              "      <td>10100.0</td>\n",
              "      <td>0.00</td>\n",
              "      <td>SURVEY</td>\n",
              "      <td>WESTERN</td>\n",
              "      <td>40</td>\n",
              "      <td>123.0</td>\n",
              "      <td>CORN</td>\n",
              "      <td>CORN - ACRES PLANTED</td>\n",
              "      <td>TOTAL</td>\n",
              "      <td>NOT SPECIFIED</td>\n",
              "      <td>10100.0</td>\n",
              "      <td>5.0</td>\n",
              "      <td>0.112853</td>\n",
              "      <td>0.029404</td>\n",
              "      <td>0.071482</td>\n",
              "      <td>0.103071</td>\n",
              "      <td>0.109112</td>\n",
              "      <td>0.132223</td>\n",
              "      <td>0.148376</td>\n",
              "      <td>5.0</td>\n",
              "      <td>63.669562</td>\n",
              "      <td>6.314436</td>\n",
              "      <td>54.596509</td>\n",
              "      <td>61.652133</td>\n",
              "      <td>63.347685</td>\n",
              "      <td>67.391613</td>\n",
              "      <td>71.359870</td>\n",
              "      <td>5.0</td>\n",
              "      <td>73.853831</td>\n",
              "      <td>6.276803</td>\n",
              "      <td>64.493073</td>\n",
              "      <td>72.475190</td>\n",
              "      <td>73.612949</td>\n",
              "      <td>77.378362</td>\n",
              "      <td>81.309582</td>\n",
              "      <td>-0.026517</td>\n",
              "      <td>-0.031446</td>\n",
              "      <td>3.476397</td>\n",
              "      <td>0.524913</td>\n",
              "      <td>0.661454</td>\n",
              "      <td>0.160644</td>\n",
              "      <td>0.281128</td>\n",
              "    </tr>\n",
              "  </tbody>\n",
              "</table>\n",
              "</div>"
            ],
            "text/plain": [
              "     Year      County  ADSCI_yr  Yield  ...   SPI_180  SPEI_180    SPI_90   SPEI_90\n",
              "698  2019      ulster    318.19  159.2  ...  0.650337  0.682020  0.350752  0.342491\n",
              "699  2019  washington    118.72  151.9  ...  1.103573  1.028063  0.834156  0.771803\n",
              "700  2019       wayne      0.00  167.2  ...  0.786992  1.136969  0.474847  0.694197\n",
              "701  2019     wyoming    243.60  160.5  ...  0.718921  0.887887  0.400457  0.508998\n",
              "702  2019       yates     90.26  176.9  ...  0.524913  0.661454  0.160644  0.281128\n",
              "\n",
              "[5 rows x 46 columns]"
            ]
          },
          "metadata": {
            "tags": []
          },
          "execution_count": 15
        }
      ]
    },
    {
      "cell_type": "markdown",
      "metadata": {
        "id": "Xwmx7Mne_DtG"
      },
      "source": [
        "# Splitting"
      ]
    },
    {
      "cell_type": "code",
      "metadata": {
        "id": "MZEK3X9n_CP2"
      },
      "source": [
        "x_test = Y[(Y['Year'] <= 2017) &(Y[\"Year\"] >= 2015)]\n",
        "x_test = x_test[['ADSCI_yr', 'avg_precip_mean', 'avg_precip_25%','avg_precip_50%', 'avg_precip_75%',  'avg_temp_mean', 'avg_temp_25%',    'avg_temp_50%', 'avg_temp_75%', 'EDDI_5', 'EDDI_6', 'SPI_90', 'SPI_180', 'SPEI_90', 'SPEI_180', 'PDSI']]\n",
        "\n",
        "x_train = Y[(Y['Year'] <= 2014) &(Y[\"Year\"] >= 2000)]\n",
        "x_train = x_train[['ADSCI_yr', 'avg_precip_mean', 'avg_precip_25%','avg_precip_50%', 'avg_precip_75%',  'avg_temp_mean', 'avg_temp_25%', 'avg_temp_50%', 'avg_temp_75%', 'EDDI_5', 'EDDI_6', 'SPI_90', 'SPI_180', 'SPEI_90', 'SPEI_180', 'PDSI']]\n",
        "x_val = Y[(Y['Year'] <= 2020) &(Y[\"Year\"] >= 2018)]\n",
        "x_val = x_val[['ADSCI_yr', 'avg_precip_mean', 'avg_precip_25%','avg_precip_50%', 'avg_precip_75%',  'avg_temp_mean', 'avg_temp_25%',    'avg_temp_50%', 'avg_temp_75%', 'EDDI_5', 'EDDI_6', 'SPI_90', 'SPI_180', 'SPEI_90', 'SPEI_180', 'PDSI']]\n",
        "\n",
        "y_test = Y[(Y['Year'] <= 2017) &(Y[\"Year\"] >= 2015)]\n",
        "y_test = y_test['Yield']\n",
        "y_train = Y[(Y['Year'] <= 2014) &(Y[\"Year\"] >= 2000)]\n",
        "y_train = y_train['Yield']\n",
        "y_val = Y[(Y['Year'] <= 2020) &(Y[\"Year\"] >= 2018)]\n",
        "y_val = y_val['Yield']"
      ],
      "execution_count": 119,
      "outputs": []
    },
    {
      "cell_type": "markdown",
      "metadata": {
        "id": "WC_KNS6z_XBo"
      },
      "source": [
        "2n Option:"
      ]
    },
    {
      "cell_type": "code",
      "metadata": {
        "id": "WKNEz3Au_Wnf"
      },
      "source": [
        "x_test = Y[(Y['Year'] == 2018)]\n",
        "x_test = x_test[['ADSCI_yr', 'avg_precip_mean', 'avg_precip_25%','avg_precip_50%', 'avg_precip_75%',  'avg_temp_mean', 'avg_temp_25%',    'avg_temp_50%', 'avg_temp_75%', 'EDDI_5', 'EDDI_6', 'SPI_90', 'SPI_180', 'SPEI_90', 'SPEI_180', 'PDSI']]\n",
        "x_train = Y[(Y['Year'] <= 2017) &(Y[\"Year\"] >= 2000)]\n",
        "x_train = x_train[['ADSCI_yr', 'avg_precip_mean', 'avg_precip_25%','avg_precip_50%', 'avg_precip_75%',  'avg_temp_mean', 'avg_temp_25%', 'avg_temp_50%', 'avg_temp_75%', 'EDDI_5', 'EDDI_6', 'SPI_90', 'SPI_180', 'SPEI_90', 'SPEI_180', 'PDSI']]\n",
        "x_val = Y[(Y['Year'] == 2019)]\n",
        "x_val = x_val[['ADSCI_yr', 'avg_precip_mean', 'avg_precip_25%','avg_precip_50%', 'avg_precip_75%',  'avg_temp_mean', 'avg_temp_25%',    'avg_temp_50%', 'avg_temp_75%', 'EDDI_5', 'EDDI_6', 'SPI_90', 'SPI_180', 'SPEI_90', 'SPEI_180', 'PDSI']]\n",
        "\n",
        "y_test = Y[(Y['Year'] == 2018)]\n",
        "y_test = y_test['Yield']\n",
        "y_train = Y[(Y['Year'] <= 2017) &(Y[\"Year\"] >= 2000)]\n",
        "y_train = y_train['Yield']\n",
        "y_val = Y[(Y['Year'] == 2019)]\n",
        "y_val = y_val['Yield']"
      ],
      "execution_count": null,
      "outputs": []
    },
    {
      "cell_type": "markdown",
      "metadata": {
        "id": "AeRvJCQyNXNA"
      },
      "source": [
        "#Growing Season Unstandardized"
      ]
    },
    {
      "cell_type": "markdown",
      "metadata": {
        "id": "ybHmA2HbN0HH"
      },
      "source": [
        "## Linear Regression"
      ]
    },
    {
      "cell_type": "code",
      "metadata": {
        "id": "vxuJ3eXoNzyF"
      },
      "source": [
        "# Split the data frame\n",
        "train_ratio = 0.75\n",
        "validation_ratio = 0.15\n",
        "test_ratio = 0.10\n",
        "\n",
        "# train is now 75% of the entire data set\n",
        "x_train, x_test, y_train, y_test = train_test_split(GS[['ADSCI_yr', \n",
        "                                                        'avg_precip_std',\t'avg_precip_min' ,\t'avg_precip_25%' ,\t'avg_precip_50%', \n",
        "                                                        'avg_precip_75%', 'avg_precip_max',\t'avg_temp_count', 'avg_temp_mean' ,\n",
        "                                                        \t'avg_temp_std' ,\t'avg_temp_min' ,\t'avg_temp_25%' ,\t'avg_temp_50%' ,\n",
        "                                                        'avg_temp_75%',\t'avg_temp_max', \t'max_temp_count' \t,'max_temp_mean' ,\t'max_temp_std', \t\n",
        "                                                        'max_temp_min', \t'max_temp_25%', \t'max_temp_50%' ,\t\n",
        "                                                        'max_temp_75%' \t,'max_temp_max', 'EDDI_5', 'EDDI_6', 'SPI_90', 'SPI_180', 'SPEI_90', 'SPEI_180', 'PDSI']],\n",
        "\n",
        "                                                    GS[['Yield']], \n",
        "                                                    test_size=1 - train_ratio, \n",
        "                                                    random_state = 0)\n",
        "\n",
        "# test is now 10% of the initial data set\n",
        "# validation is now 15% of the initial data set\n",
        "x_val, x_test, y_val, y_test = train_test_split(x_test, y_test, \n",
        "                                                test_size=test_ratio/(test_ratio + validation_ratio), \n",
        "                                                random_state = 0)"
      ],
      "execution_count": 52,
      "outputs": []
    },
    {
      "cell_type": "code",
      "metadata": {
        "colab": {
          "base_uri": "https://localhost:8080/"
        },
        "id": "EVNcWSPgOA4p",
        "outputId": "59cf0ff6-78c2-4fb7-e8cc-e52ce29c712a"
      },
      "source": [
        "# Fit the model\n",
        "lr = LinearRegression()\n",
        "lr.fit(x_train, y_train)\n",
        "print(f'Intercept is: {lr.intercept_}')\n",
        "print(f'Coefficient of the predictor is: {lr.coef_}')\n",
        "\n",
        "# predicting and obtaining Metrics on the Train set\n",
        "y_train_pred = lr.predict(x_train)\n",
        "r1 = regression_results(y_train, y_train_pred)\n",
        "# Predict on Validation set, metrics obtained on the validation set\n",
        "y_val_pred = lr.predict(x_val)\n",
        "r2 = regression_results(y_val, y_val_pred)\n",
        "# Predict on testn set, metrics obtained on the test set\n",
        "y_test_pred = lr.predict(x_test)\n",
        "r2 = regression_results(y_test, y_test_pred)"
      ],
      "execution_count": 53,
      "outputs": [
        {
          "output_type": "stream",
          "text": [
            "Intercept is: [90.13609086]\n",
            "Coefficient of the predictor is: [[-3.87370413e-03  2.22932103e+02  9.39931255e+01  8.71780202e+01\n",
            "  -4.11578463e+01 -9.05205084e+01 -1.59692315e+02  1.98916439e-11\n",
            "   9.54995268e-01 -1.67190422e+01 -1.31603384e+00 -4.71863923e+00\n",
            "   1.75120577e+00  1.13185717e+00  7.92658647e+00 -3.49942297e-13\n",
            "  -6.27490174e-01  2.26156588e+00 -2.04940752e+00  4.76493498e+00\n",
            "  -6.75985735e-01 -2.71407570e+00 -2.46291690e+00 -5.54748522e+00\n",
            "   2.67701572e+01 -6.96285787e+01  2.55119796e+01  1.03323233e+02\n",
            "  -5.06469651e+01  4.52270052e+00]]\n",
            "explained_variance:  0.3785\n",
            "r2:  0.3785\n",
            "MAE:  14.6557\n",
            "MSE:  427.8468\n",
            "RMSE:  20.6845\n",
            "explained_variance:  0.4251\n",
            "r2:  0.4209\n",
            "MAE:  13.4677\n",
            "MSE:  302.9932\n",
            "RMSE:  17.4067\n",
            "explained_variance:  0.3568\n",
            "r2:  0.3329\n",
            "MAE:  17.4171\n",
            "MSE:  591.6519\n",
            "RMSE:  24.3239\n"
          ],
          "name": "stdout"
        }
      ]
    },
    {
      "cell_type": "code",
      "metadata": {
        "colab": {
          "base_uri": "https://localhost:8080/"
        },
        "id": "X2I7PTAfJCBu",
        "outputId": "dd8829bd-8f12-4f11-c36d-5671c030910b"
      },
      "source": [
        "import statsmodels.api as sm\n",
        "# add constant column to the original dataframe\n",
        "GS['constant'] = 1 \n",
        "\n",
        "# define x as a subset of original dataframe\n",
        "x = GS[['constant', 'ADSCI_yr', 'avg_precip_std',\t'avg_precip_min' ,\t'avg_precip_25%' ,\t'avg_precip_50%', \n",
        "                                                        'avg_precip_75%', 'avg_precip_max',\t'avg_temp_count', 'avg_temp_mean' ,\n",
        "                                                        \t'avg_temp_std' ,\t'avg_temp_min' ,\t'avg_temp_25%' ,\t'avg_temp_50%' ,\n",
        "                                                        'avg_temp_75%',\t'avg_temp_max', \t'max_temp_count' \t,'max_temp_mean' ,\t'max_temp_std', \t\n",
        "                                                        'max_temp_min', \t'max_temp_25%', \t'max_temp_50%' ,\t\n",
        "                                                        'max_temp_75%' \t,'max_temp_max', 'EDDI_5', 'EDDI_6', 'SPI_90', 'SPI_180', 'SPEI_90', 'SPEI_180', 'PDSI']]\n",
        "# define y as a series (Asset Intensity)\n",
        "y = GS[['Yield']]\n",
        "\n",
        "model = sm.OLS(y, x)\n",
        "results = model.fit()\n",
        "print(results.summary())"
      ],
      "execution_count": 57,
      "outputs": [
        {
          "output_type": "stream",
          "text": [
            "                            OLS Regression Results                            \n",
            "==============================================================================\n",
            "Dep. Variable:                  Yield   R-squared:                       0.388\n",
            "Model:                            OLS   Adj. R-squared:                  0.364\n",
            "Method:                 Least Squares   F-statistic:                     16.46\n",
            "Date:                Wed, 14 Jul 2021   Prob (F-statistic):           7.20e-56\n",
            "Time:                        17:55:28   Log-Likelihood:                -3120.0\n",
            "No. Observations:                 703   AIC:                             6294.\n",
            "Df Residuals:                     676   BIC:                             6417.\n",
            "Df Model:                          26                                         \n",
            "Covariance Type:            nonrobust                                         \n",
            "==================================================================================\n",
            "                     coef    std err          t      P>|t|      [0.025      0.975]\n",
            "----------------------------------------------------------------------------------\n",
            "constant           0.7882      0.868      0.908      0.364      -0.916       2.493\n",
            "ADSCI_yr          -0.0042      0.001     -5.042      0.000      -0.006      -0.003\n",
            "avg_precip_std  -285.1059    475.443     -0.600      0.549   -1218.627     648.416\n",
            "avg_precip_min   -89.7150    157.227     -0.571      0.568    -398.427     218.997\n",
            "avg_precip_25%    16.9970     85.380      0.199      0.842    -150.645     184.639\n",
            "avg_precip_50%   -43.5005     49.284     -0.883      0.378    -140.268      53.267\n",
            "avg_precip_75%     6.7053     68.295      0.098      0.922    -127.390     140.801\n",
            "avg_precip_max    -7.5151    171.851     -0.044      0.965    -344.940     329.910\n",
            "avg_temp_count     3.9408      4.340      0.908      0.364      -4.581      12.463\n",
            "avg_temp_mean      0.8687      0.145      5.984      0.000       0.584       1.154\n",
            "avg_temp_std     -25.9627     13.992     -1.856      0.064     -53.435       1.510\n",
            "avg_temp_min      -4.6557      5.150     -0.904      0.366     -14.768       5.457\n",
            "avg_temp_25%      -7.1817      2.320     -3.095      0.002     -11.738      -2.626\n",
            "avg_temp_50%       2.3080      1.611      1.433      0.152      -0.855       5.471\n",
            "avg_temp_75%       3.5479      2.971      1.194      0.233      -2.286       9.382\n",
            "avg_temp_max      10.3249      4.231      2.440      0.015       2.017      18.633\n",
            "max_temp_count     3.9408      4.340      0.908      0.364      -4.581      12.463\n",
            "max_temp_mean     -0.4426      0.154     -2.877      0.004      -0.745      -0.141\n",
            "max_temp_std      -0.9563     10.587     -0.090      0.928     -21.744      19.831\n",
            "max_temp_min      -3.0958      3.850     -0.804      0.422     -10.655       4.464\n",
            "max_temp_25%       5.1198      1.905      2.688      0.007       1.380       8.859\n",
            "max_temp_50%      -0.4036      1.541     -0.262      0.793      -3.430       2.623\n",
            "max_temp_75%      -2.3612      2.492     -0.947      0.344      -7.255       2.532\n",
            "max_temp_max      -1.4720      3.194     -0.461      0.645      -7.743       4.799\n",
            "EDDI_5            -4.0762      3.820     -1.067      0.286     -11.576       3.423\n",
            "EDDI_6            24.7226      4.143      5.968      0.000      16.588      32.857\n",
            "SPI_90           -91.4796     28.038     -3.263      0.001    -146.533     -36.427\n",
            "SPI_180           42.7286     21.097      2.025      0.043       1.306      84.151\n",
            "SPEI_90          122.5704     26.213      4.676      0.000      71.101     174.040\n",
            "SPEI_180         -63.7877     22.639     -2.818      0.005    -108.239     -19.336\n",
            "PDSI               3.7182      1.129      3.293      0.001       1.501       5.935\n",
            "==============================================================================\n",
            "Omnibus:                      169.815   Durbin-Watson:                   1.972\n",
            "Prob(Omnibus):                  0.000   Jarque-Bera (JB):              903.994\n",
            "Skew:                          -0.974   Prob(JB):                    5.01e-197\n",
            "Kurtosis:                       8.202   Cond. No.                     1.10e+17\n",
            "==============================================================================\n",
            "\n",
            "Warnings:\n",
            "[1] Standard Errors assume that the covariance matrix of the errors is correctly specified.\n",
            "[2] The smallest eigenvalue is 2.11e-25. This might indicate that there are\n",
            "strong multicollinearity problems or that the design matrix is singular.\n"
          ],
          "name": "stdout"
        }
      ]
    },
    {
      "cell_type": "code",
      "metadata": {
        "colab": {
          "base_uri": "https://localhost:8080/"
        },
        "id": "vxKpOXFF3xyc",
        "outputId": "958b261e-ff82-44b0-b1aa-e41d64be56a2"
      },
      "source": [
        "y_test_pred =y_test_pred.reshape(71,1)\n",
        "error =  abs(y_test_pred - y_test)\n",
        "rate = error / y_test\n",
        "s_array = rate[[\"Yield\"]].to_numpy()\n",
        "s_array[~np.isfinite(s_array)] = 0\n",
        "s_array.mean()"
      ],
      "execution_count": 19,
      "outputs": [
        {
          "output_type": "execute_result",
          "data": {
            "text/plain": [
              "0.14479911578996676"
            ]
          },
          "metadata": {
            "tags": []
          },
          "execution_count": 19
        }
      ]
    },
    {
      "cell_type": "code",
      "metadata": {
        "colab": {
          "base_uri": "https://localhost:8080/"
        },
        "id": "zb3qxbvi5Rx9",
        "outputId": "32ede8fe-2119-4848-bd44-e3cfb7409cf3"
      },
      "source": [
        "!pip install shap\n",
        "import shap"
      ],
      "execution_count": 24,
      "outputs": [
        {
          "output_type": "stream",
          "text": [
            "Collecting shap\n",
            "\u001b[?25l  Downloading https://files.pythonhosted.org/packages/b9/f4/c5b95cddae15be80f8e58b25edceca105aa83c0b8c86a1edad24a6af80d3/shap-0.39.0.tar.gz (356kB)\n",
            "\r\u001b[K     |█                               | 10kB 11.5MB/s eta 0:00:01\r\u001b[K     |█▉                              | 20kB 8.7MB/s eta 0:00:01\r\u001b[K     |██▊                             | 30kB 8.5MB/s eta 0:00:01\r\u001b[K     |███▊                            | 40kB 8.1MB/s eta 0:00:01\r\u001b[K     |████▋                           | 51kB 4.2MB/s eta 0:00:01\r\u001b[K     |█████▌                          | 61kB 4.5MB/s eta 0:00:01\r\u001b[K     |██████▍                         | 71kB 4.9MB/s eta 0:00:01\r\u001b[K     |███████▍                        | 81kB 5.3MB/s eta 0:00:01\r\u001b[K     |████████▎                       | 92kB 5.6MB/s eta 0:00:01\r\u001b[K     |█████████▏                      | 102kB 4.4MB/s eta 0:00:01\r\u001b[K     |██████████▏                     | 112kB 4.4MB/s eta 0:00:01\r\u001b[K     |███████████                     | 122kB 4.4MB/s eta 0:00:01\r\u001b[K     |████████████                    | 133kB 4.4MB/s eta 0:00:01\r\u001b[K     |████████████▉                   | 143kB 4.4MB/s eta 0:00:01\r\u001b[K     |█████████████▉                  | 153kB 4.4MB/s eta 0:00:01\r\u001b[K     |██████████████▊                 | 163kB 4.4MB/s eta 0:00:01\r\u001b[K     |███████████████▋                | 174kB 4.4MB/s eta 0:00:01\r\u001b[K     |████████████████▋               | 184kB 4.4MB/s eta 0:00:01\r\u001b[K     |█████████████████▌              | 194kB 4.4MB/s eta 0:00:01\r\u001b[K     |██████████████████▍             | 204kB 4.4MB/s eta 0:00:01\r\u001b[K     |███████████████████▎            | 215kB 4.4MB/s eta 0:00:01\r\u001b[K     |████████████████████▎           | 225kB 4.4MB/s eta 0:00:01\r\u001b[K     |█████████████████████▏          | 235kB 4.4MB/s eta 0:00:01\r\u001b[K     |██████████████████████          | 245kB 4.4MB/s eta 0:00:01\r\u001b[K     |███████████████████████         | 256kB 4.4MB/s eta 0:00:01\r\u001b[K     |████████████████████████        | 266kB 4.4MB/s eta 0:00:01\r\u001b[K     |████████████████████████▉       | 276kB 4.4MB/s eta 0:00:01\r\u001b[K     |█████████████████████████▊      | 286kB 4.4MB/s eta 0:00:01\r\u001b[K     |██████████████████████████▊     | 296kB 4.4MB/s eta 0:00:01\r\u001b[K     |███████████████████████████▋    | 307kB 4.4MB/s eta 0:00:01\r\u001b[K     |████████████████████████████▌   | 317kB 4.4MB/s eta 0:00:01\r\u001b[K     |█████████████████████████████▍  | 327kB 4.4MB/s eta 0:00:01\r\u001b[K     |██████████████████████████████▍ | 337kB 4.4MB/s eta 0:00:01\r\u001b[K     |███████████████████████████████▎| 348kB 4.4MB/s eta 0:00:01\r\u001b[K     |████████████████████████████████| 358kB 4.4MB/s \n",
            "\u001b[?25hRequirement already satisfied: numpy in /usr/local/lib/python3.7/dist-packages (from shap) (1.19.5)\n",
            "Requirement already satisfied: scipy in /usr/local/lib/python3.7/dist-packages (from shap) (1.4.1)\n",
            "Requirement already satisfied: scikit-learn in /usr/local/lib/python3.7/dist-packages (from shap) (0.22.2.post1)\n",
            "Requirement already satisfied: pandas in /usr/local/lib/python3.7/dist-packages (from shap) (1.1.5)\n",
            "Requirement already satisfied: tqdm>4.25.0 in /usr/local/lib/python3.7/dist-packages (from shap) (4.41.1)\n",
            "Collecting slicer==0.0.7\n",
            "  Downloading https://files.pythonhosted.org/packages/78/c2/b3f55dfdb8af9812fdb9baf70cacf3b9e82e505b2bd4324d588888b81202/slicer-0.0.7-py3-none-any.whl\n",
            "Requirement already satisfied: numba in /usr/local/lib/python3.7/dist-packages (from shap) (0.51.2)\n",
            "Requirement already satisfied: cloudpickle in /usr/local/lib/python3.7/dist-packages (from shap) (1.3.0)\n",
            "Requirement already satisfied: joblib>=0.11 in /usr/local/lib/python3.7/dist-packages (from scikit-learn->shap) (1.0.1)\n",
            "Requirement already satisfied: python-dateutil>=2.7.3 in /usr/local/lib/python3.7/dist-packages (from pandas->shap) (2.8.1)\n",
            "Requirement already satisfied: pytz>=2017.2 in /usr/local/lib/python3.7/dist-packages (from pandas->shap) (2018.9)\n",
            "Requirement already satisfied: llvmlite<0.35,>=0.34.0.dev0 in /usr/local/lib/python3.7/dist-packages (from numba->shap) (0.34.0)\n",
            "Requirement already satisfied: setuptools in /usr/local/lib/python3.7/dist-packages (from numba->shap) (57.0.0)\n",
            "Requirement already satisfied: six>=1.5 in /usr/local/lib/python3.7/dist-packages (from python-dateutil>=2.7.3->pandas->shap) (1.15.0)\n",
            "Building wheels for collected packages: shap\n",
            "  Building wheel for shap (setup.py) ... \u001b[?25l\u001b[?25hdone\n",
            "  Created wheel for shap: filename=shap-0.39.0-cp37-cp37m-linux_x86_64.whl size=491629 sha256=be961c355c1d5be09c5d75027b36ae29a4b6ade731174fa086f32fc49b0ef139\n",
            "  Stored in directory: /root/.cache/pip/wheels/15/27/f5/a8ab9da52fd159aae6477b5ede6eaaec69fd130fa0fa59f283\n",
            "Successfully built shap\n",
            "Installing collected packages: slicer, shap\n",
            "Successfully installed shap-0.39.0 slicer-0.0.7\n"
          ],
          "name": "stdout"
        }
      ]
    },
    {
      "cell_type": "markdown",
      "metadata": {
        "id": "VYGSD1OpOgER"
      },
      "source": [
        "## Random Forest Regressor"
      ]
    },
    {
      "cell_type": "code",
      "metadata": {
        "colab": {
          "base_uri": "https://localhost:8080/"
        },
        "id": "_RT280M6Ofd3",
        "outputId": "59bfbc03-492f-4161-847b-5fa5f405042a"
      },
      "source": [
        "lr = RandomForestRegressor()\n",
        "lr.fit(x_train, y_train)\n",
        "\n",
        "# predicting and obtaining Metrics on the Train set\n",
        "y_train_pred = lr.predict(x_train)\n",
        "regression_results(y_train, y_train_pred)"
      ],
      "execution_count": 20,
      "outputs": [
        {
          "output_type": "stream",
          "text": [
            "/usr/local/lib/python3.7/dist-packages/ipykernel_launcher.py:2: DataConversionWarning:\n",
            "\n",
            "A column-vector y was passed when a 1d array was expected. Please change the shape of y to (n_samples,), for example using ravel().\n",
            "\n"
          ],
          "name": "stderr"
        },
        {
          "output_type": "stream",
          "text": [
            "explained_variance:  0.9074\n",
            "r2:  0.9073\n",
            "MAE:  5.6421\n",
            "MSE:  63.8204\n",
            "RMSE:  7.9888\n"
          ],
          "name": "stdout"
        },
        {
          "output_type": "execute_result",
          "data": {
            "text/plain": [
              "{'MAE': 5.6421,\n",
              " 'MSE': 63.8204,\n",
              " 'RMSE': 7.9888,\n",
              " 'explained_variance': 0.9074,\n",
              " 'r2': 0.9073}"
            ]
          },
          "metadata": {
            "tags": []
          },
          "execution_count": 20
        }
      ]
    },
    {
      "cell_type": "code",
      "metadata": {
        "colab": {
          "base_uri": "https://localhost:8080/",
          "height": 581
        },
        "id": "snAz18535y1T",
        "outputId": "8f3223b2-5cf7-499b-fca0-931141f93075"
      },
      "source": [
        "import shap\n",
        "shap_values = shap.TreeExplainer(lr).shap_values(x_train)\n",
        "shap.summary_plot(shap_values, x_train, plot_type=\"bar\")\n",
        "#pyplot.title(\"Feature Importance Random Forest Regressor Growing Season Unstandardized with the SHAP method\")\n",
        "# shap.summary_plot(rf_shap_values, x_test)\n",
        "# f.savefig(\"/summary_plot1.png\", bbox_inches='tight', dpi=600)"
      ],
      "execution_count": 26,
      "outputs": [
        {
          "output_type": "display_data",
          "data": {
            "image/png": "[encoded data removed]",
            "text/plain": [
              "<Figure size 576x684 with 1 Axes>"
            ]
          },
          "metadata": {
            "tags": [],
            "needs_background": "light"
          }
        }
      ]
    },
    {
      "cell_type": "code",
      "metadata": {
        "colab": {
          "base_uri": "https://localhost:8080/",
          "height": 386
        },
        "id": "60j4KbUp6h5y",
        "outputId": "5fa181ac-eaac-4b62-d6b1-9219021fa0f1"
      },
      "source": [
        "# import xgboost\n",
        "\n",
        "# # train XGBoost model\n",
        "# X,y = shap.datasets.adult()\n",
        "# model = xgboost.XGBClassifier().fit(X, y)\n",
        "\n",
        "# # compute SHAP values\n",
        "# explainer = shap.Explainer(model, X)\n",
        "# shap_values = explainer(X)\n",
        "\n",
        "explainer = shap.Explainer(lr, x_train)\n",
        "shap_values = explainer(x_train)\n",
        "\n",
        "shap.plots.beeswarm(shap_values)"
      ],
      "execution_count": 27,
      "outputs": [
        {
          "output_type": "stream",
          "text": [
            " 97%|=================== | 509/527 [00:15<00:00]       "
          ],
          "name": "stderr"
        },
        {
          "output_type": "display_data",
          "data": {
            "image/png": "[encoded data removed]",
            "text/plain": [
              "<Figure size 576x396 with 2 Axes>"
            ]
          },
          "metadata": {
            "tags": [],
            "needs_background": "light"
          }
        }
      ]
    },
    {
      "cell_type": "code",
      "metadata": {
        "colab": {
          "base_uri": "https://localhost:8080/",
          "height": 827
        },
        "id": "xBEPLDsykYei",
        "outputId": "761ffbe4-3c3c-4c30-e09d-4ba4af074573"
      },
      "source": [
        "# get importance\n",
        "importance = lr.feature_importances_\n",
        "# summarize feature importance\n",
        "for i,v in enumerate(importance):\n",
        "\tprint('Feature: %0d, Score: %.5f' % (i,v))\n",
        "# plot feature importance\n",
        "plt.bar([x for x in range(len(importance))], importance)\n",
        "plt.title(\"Feature Importance Random Forest Regressor Growing Season Unstandardized\")\n",
        "plt.show()"
      ],
      "execution_count": 30,
      "outputs": [
        {
          "output_type": "stream",
          "text": [
            "Feature: 0, Score: 0.01784\n",
            "Feature: 1, Score: 0.03668\n",
            "Feature: 2, Score: 0.03595\n",
            "Feature: 3, Score: 0.02624\n",
            "Feature: 4, Score: 0.04160\n",
            "Feature: 5, Score: 0.03052\n",
            "Feature: 6, Score: 0.05263\n",
            "Feature: 7, Score: 0.00000\n",
            "Feature: 8, Score: 0.01940\n",
            "Feature: 9, Score: 0.09593\n",
            "Feature: 10, Score: 0.02844\n",
            "Feature: 11, Score: 0.02579\n",
            "Feature: 12, Score: 0.02515\n",
            "Feature: 13, Score: 0.01491\n",
            "Feature: 14, Score: 0.01930\n",
            "Feature: 15, Score: 0.00000\n",
            "Feature: 16, Score: 0.00777\n",
            "Feature: 17, Score: 0.07774\n",
            "Feature: 18, Score: 0.02802\n",
            "Feature: 19, Score: 0.04410\n",
            "Feature: 20, Score: 0.02782\n",
            "Feature: 21, Score: 0.01906\n",
            "Feature: 22, Score: 0.01237\n",
            "Feature: 23, Score: 0.04796\n",
            "Feature: 24, Score: 0.08720\n",
            "Feature: 25, Score: 0.02970\n",
            "Feature: 26, Score: 0.02040\n",
            "Feature: 27, Score: 0.03347\n",
            "Feature: 28, Score: 0.01467\n",
            "Feature: 29, Score: 0.07934\n"
          ],
          "name": "stdout"
        },
        {
          "output_type": "display_data",
          "data": {
            "image/png": "[encoded data removed]",
            "text/plain": [
              "<Figure size 432x288 with 1 Axes>"
            ]
          },
          "metadata": {
            "tags": [],
            "needs_background": "light"
          }
        }
      ]
    },
    {
      "cell_type": "markdown",
      "metadata": {
        "id": "nipK9xTYO4yV"
      },
      "source": [
        "###Random Forest Regressor Validation and Test Tuned"
      ]
    },
    {
      "cell_type": "code",
      "metadata": {
        "colab": {
          "base_uri": "https://localhost:8080/"
        },
        "id": "loHKVHuGOw4i",
        "outputId": "b3d97503-e4cf-4312-ab57-db95a837b2fd"
      },
      "source": [
        "random_forest_tuning = RandomForestRegressor(random_state = 6)\n",
        "param_grid = {\n",
        "   'n_estimators': [100, 200, 500],\n",
        "   'max_features': ['auto', 'sqrt', 'log2'],\n",
        "   'max_depth' : [4,5,6,7,8],\n",
        "   'criterion' :['mse', 'mae']\n",
        "}\n",
        "from sklearn.model_selection import GridSearchCV\n",
        "\n",
        "GSCV = GridSearchCV(estimator=random_forest_tuning, param_grid=param_grid, cv=3)\n",
        "GSCV.fit(x_train, y_train)\n",
        "GSCV.best_params_"
      ],
      "execution_count": 21,
      "outputs": [
        {
          "output_type": "stream",
          "text": [
            "/usr/local/lib/python3.7/dist-packages/sklearn/model_selection/_validation.py:515: DataConversionWarning:\n",
            "\n",
            "A column-vector y was passed when a 1d array was expected. Please change the shape of y to (n_samples,), for example using ravel().\n",
            "\n",
            "/usr/local/lib/python3.7/dist-packages/sklearn/model_selection/_validation.py:515: DataConversionWarning:\n",
            "\n",
            "A column-vector y was passed when a 1d array was expected. Please change the shape of y to (n_samples,), for example using ravel().\n",
            "\n",
            "/usr/local/lib/python3.7/dist-packages/sklearn/model_selection/_validation.py:515: DataConversionWarning:\n",
            "\n",
            "A column-vector y was passed when a 1d array was expected. Please change the shape of y to (n_samples,), for example using ravel().\n",
            "\n",
            "/usr/local/lib/python3.7/dist-packages/sklearn/model_selection/_validation.py:515: DataConversionWarning:\n",
            "\n",
            "A column-vector y was passed when a 1d array was expected. Please change the shape of y to (n_samples,), for example using ravel().\n",
            "\n",
            "/usr/local/lib/python3.7/dist-packages/sklearn/model_selection/_validation.py:515: DataConversionWarning:\n",
            "\n",
            "A column-vector y was passed when a 1d array was expected. Please change the shape of y to (n_samples,), for example using ravel().\n",
            "\n",
            "/usr/local/lib/python3.7/dist-packages/sklearn/model_selection/_validation.py:515: DataConversionWarning:\n",
            "\n",
            "A column-vector y was passed when a 1d array was expected. Please change the shape of y to (n_samples,), for example using ravel().\n",
            "\n",
            "/usr/local/lib/python3.7/dist-packages/sklearn/model_selection/_validation.py:515: DataConversionWarning:\n",
            "\n",
            "A column-vector y was passed when a 1d array was expected. Please change the shape of y to (n_samples,), for example using ravel().\n",
            "\n",
            "/usr/local/lib/python3.7/dist-packages/sklearn/model_selection/_validation.py:515: DataConversionWarning:\n",
            "\n",
            "A column-vector y was passed when a 1d array was expected. Please change the shape of y to (n_samples,), for example using ravel().\n",
            "\n",
            "/usr/local/lib/python3.7/dist-packages/sklearn/model_selection/_validation.py:515: DataConversionWarning:\n",
            "\n",
            "A column-vector y was passed when a 1d array was expected. Please change the shape of y to (n_samples,), for example using ravel().\n",
            "\n",
            "/usr/local/lib/python3.7/dist-packages/sklearn/model_selection/_validation.py:515: DataConversionWarning:\n",
            "\n",
            "A column-vector y was passed when a 1d array was expected. Please change the shape of y to (n_samples,), for example using ravel().\n",
            "\n",
            "/usr/local/lib/python3.7/dist-packages/sklearn/model_selection/_validation.py:515: DataConversionWarning:\n",
            "\n",
            "A column-vector y was passed when a 1d array was expected. Please change the shape of y to (n_samples,), for example using ravel().\n",
            "\n",
            "/usr/local/lib/python3.7/dist-packages/sklearn/model_selection/_validation.py:515: DataConversionWarning:\n",
            "\n",
            "A column-vector y was passed when a 1d array was expected. Please change the shape of y to (n_samples,), for example using ravel().\n",
            "\n",
            "/usr/local/lib/python3.7/dist-packages/sklearn/model_selection/_validation.py:515: DataConversionWarning:\n",
            "\n",
            "A column-vector y was passed when a 1d array was expected. Please change the shape of y to (n_samples,), for example using ravel().\n",
            "\n",
            "/usr/local/lib/python3.7/dist-packages/sklearn/model_selection/_validation.py:515: DataConversionWarning:\n",
            "\n",
            "A column-vector y was passed when a 1d array was expected. Please change the shape of y to (n_samples,), for example using ravel().\n",
            "\n",
            "/usr/local/lib/python3.7/dist-packages/sklearn/model_selection/_validation.py:515: DataConversionWarning:\n",
            "\n",
            "A column-vector y was passed when a 1d array was expected. Please change the shape of y to (n_samples,), for example using ravel().\n",
            "\n",
            "/usr/local/lib/python3.7/dist-packages/sklearn/model_selection/_validation.py:515: DataConversionWarning:\n",
            "\n",
            "A column-vector y was passed when a 1d array was expected. Please change the shape of y to (n_samples,), for example using ravel().\n",
            "\n",
            "/usr/local/lib/python3.7/dist-packages/sklearn/model_selection/_validation.py:515: DataConversionWarning:\n",
            "\n",
            "A column-vector y was passed when a 1d array was expected. Please change the shape of y to (n_samples,), for example using ravel().\n",
            "\n",
            "/usr/local/lib/python3.7/dist-packages/sklearn/model_selection/_validation.py:515: DataConversionWarning:\n",
            "\n",
            "A column-vector y was passed when a 1d array was expected. Please change the shape of y to (n_samples,), for example using ravel().\n",
            "\n",
            "/usr/local/lib/python3.7/dist-packages/sklearn/model_selection/_validation.py:515: DataConversionWarning:\n",
            "\n",
            "A column-vector y was passed when a 1d array was expected. Please change the shape of y to (n_samples,), for example using ravel().\n",
            "\n",
            "/usr/local/lib/python3.7/dist-packages/sklearn/model_selection/_validation.py:515: DataConversionWarning:\n",
            "\n",
            "A column-vector y was passed when a 1d array was expected. Please change the shape of y to (n_samples,), for example using ravel().\n",
            "\n",
            "/usr/local/lib/python3.7/dist-packages/sklearn/model_selection/_validation.py:515: DataConversionWarning:\n",
            "\n",
            "A column-vector y was passed when a 1d array was expected. Please change the shape of y to (n_samples,), for example using ravel().\n",
            "\n",
            "/usr/local/lib/python3.7/dist-packages/sklearn/model_selection/_validation.py:515: DataConversionWarning:\n",
            "\n",
            "A column-vector y was passed when a 1d array was expected. Please change the shape of y to (n_samples,), for example using ravel().\n",
            "\n",
            "/usr/local/lib/python3.7/dist-packages/sklearn/model_selection/_validation.py:515: DataConversionWarning:\n",
            "\n",
            "A column-vector y was passed when a 1d array was expected. Please change the shape of y to (n_samples,), for example using ravel().\n",
            "\n",
            "/usr/local/lib/python3.7/dist-packages/sklearn/model_selection/_validation.py:515: DataConversionWarning:\n",
            "\n",
            "A column-vector y was passed when a 1d array was expected. Please change the shape of y to (n_samples,), for example using ravel().\n",
            "\n",
            "/usr/local/lib/python3.7/dist-packages/sklearn/model_selection/_validation.py:515: DataConversionWarning:\n",
            "\n",
            "A column-vector y was passed when a 1d array was expected. Please change the shape of y to (n_samples,), for example using ravel().\n",
            "\n",
            "/usr/local/lib/python3.7/dist-packages/sklearn/model_selection/_validation.py:515: DataConversionWarning:\n",
            "\n",
            "A column-vector y was passed when a 1d array was expected. Please change the shape of y to (n_samples,), for example using ravel().\n",
            "\n",
            "/usr/local/lib/python3.7/dist-packages/sklearn/model_selection/_validation.py:515: DataConversionWarning:\n",
            "\n",
            "A column-vector y was passed when a 1d array was expected. Please change the shape of y to (n_samples,), for example using ravel().\n",
            "\n",
            "/usr/local/lib/python3.7/dist-packages/sklearn/model_selection/_validation.py:515: DataConversionWarning:\n",
            "\n",
            "A column-vector y was passed when a 1d array was expected. Please change the shape of y to (n_samples,), for example using ravel().\n",
            "\n",
            "/usr/local/lib/python3.7/dist-packages/sklearn/model_selection/_validation.py:515: DataConversionWarning:\n",
            "\n",
            "A column-vector y was passed when a 1d array was expected. Please change the shape of y to (n_samples,), for example using ravel().\n",
            "\n",
            "/usr/local/lib/python3.7/dist-packages/sklearn/model_selection/_validation.py:515: DataConversionWarning:\n",
            "\n",
            "A column-vector y was passed when a 1d array was expected. Please change the shape of y to (n_samples,), for example using ravel().\n",
            "\n",
            "/usr/local/lib/python3.7/dist-packages/sklearn/model_selection/_validation.py:515: DataConversionWarning:\n",
            "\n",
            "A column-vector y was passed when a 1d array was expected. Please change the shape of y to (n_samples,), for example using ravel().\n",
            "\n",
            "/usr/local/lib/python3.7/dist-packages/sklearn/model_selection/_validation.py:515: DataConversionWarning:\n",
            "\n",
            "A column-vector y was passed when a 1d array was expected. Please change the shape of y to (n_samples,), for example using ravel().\n",
            "\n",
            "/usr/local/lib/python3.7/dist-packages/sklearn/model_selection/_validation.py:515: DataConversionWarning:\n",
            "\n",
            "A column-vector y was passed when a 1d array was expected. Please change the shape of y to (n_samples,), for example using ravel().\n",
            "\n",
            "/usr/local/lib/python3.7/dist-packages/sklearn/model_selection/_validation.py:515: DataConversionWarning:\n",
            "\n",
            "A column-vector y was passed when a 1d array was expected. Please change the shape of y to (n_samples,), for example using ravel().\n",
            "\n",
            "/usr/local/lib/python3.7/dist-packages/sklearn/model_selection/_validation.py:515: DataConversionWarning:\n",
            "\n",
            "A column-vector y was passed when a 1d array was expected. Please change the shape of y to (n_samples,), for example using ravel().\n",
            "\n",
            "/usr/local/lib/python3.7/dist-packages/sklearn/model_selection/_validation.py:515: DataConversionWarning:\n",
            "\n",
            "A column-vector y was passed when a 1d array was expected. Please change the shape of y to (n_samples,), for example using ravel().\n",
            "\n",
            "/usr/local/lib/python3.7/dist-packages/sklearn/model_selection/_validation.py:515: DataConversionWarning:\n",
            "\n",
            "A column-vector y was passed when a 1d array was expected. Please change the shape of y to (n_samples,), for example using ravel().\n",
            "\n",
            "/usr/local/lib/python3.7/dist-packages/sklearn/model_selection/_validation.py:515: DataConversionWarning:\n",
            "\n",
            "A column-vector y was passed when a 1d array was expected. Please change the shape of y to (n_samples,), for example using ravel().\n",
            "\n",
            "/usr/local/lib/python3.7/dist-packages/sklearn/model_selection/_validation.py:515: DataConversionWarning:\n",
            "\n",
            "A column-vector y was passed when a 1d array was expected. Please change the shape of y to (n_samples,), for example using ravel().\n",
            "\n",
            "/usr/local/lib/python3.7/dist-packages/sklearn/model_selection/_validation.py:515: DataConversionWarning:\n",
            "\n",
            "A column-vector y was passed when a 1d array was expected. Please change the shape of y to (n_samples,), for example using ravel().\n",
            "\n",
            "/usr/local/lib/python3.7/dist-packages/sklearn/model_selection/_validation.py:515: DataConversionWarning:\n",
            "\n",
            "A column-vector y was passed when a 1d array was expected. Please change the shape of y to (n_samples,), for example using ravel().\n",
            "\n",
            "/usr/local/lib/python3.7/dist-packages/sklearn/model_selection/_validation.py:515: DataConversionWarning:\n",
            "\n",
            "A column-vector y was passed when a 1d array was expected. Please change the shape of y to (n_samples,), for example using ravel().\n",
            "\n",
            "/usr/local/lib/python3.7/dist-packages/sklearn/model_selection/_validation.py:515: DataConversionWarning:\n",
            "\n",
            "A column-vector y was passed when a 1d array was expected. Please change the shape of y to (n_samples,), for example using ravel().\n",
            "\n",
            "/usr/local/lib/python3.7/dist-packages/sklearn/model_selection/_validation.py:515: DataConversionWarning:\n",
            "\n",
            "A column-vector y was passed when a 1d array was expected. Please change the shape of y to (n_samples,), for example using ravel().\n",
            "\n",
            "/usr/local/lib/python3.7/dist-packages/sklearn/model_selection/_validation.py:515: DataConversionWarning:\n",
            "\n",
            "A column-vector y was passed when a 1d array was expected. Please change the shape of y to (n_samples,), for example using ravel().\n",
            "\n",
            "/usr/local/lib/python3.7/dist-packages/sklearn/model_selection/_validation.py:515: DataConversionWarning:\n",
            "\n",
            "A column-vector y was passed when a 1d array was expected. Please change the shape of y to (n_samples,), for example using ravel().\n",
            "\n",
            "/usr/local/lib/python3.7/dist-packages/sklearn/model_selection/_validation.py:515: DataConversionWarning:\n",
            "\n",
            "A column-vector y was passed when a 1d array was expected. Please change the shape of y to (n_samples,), for example using ravel().\n",
            "\n",
            "/usr/local/lib/python3.7/dist-packages/sklearn/model_selection/_validation.py:515: DataConversionWarning:\n",
            "\n",
            "A column-vector y was passed when a 1d array was expected. Please change the shape of y to (n_samples,), for example using ravel().\n",
            "\n",
            "/usr/local/lib/python3.7/dist-packages/sklearn/model_selection/_validation.py:515: DataConversionWarning:\n",
            "\n",
            "A column-vector y was passed when a 1d array was expected. Please change the shape of y to (n_samples,), for example using ravel().\n",
            "\n",
            "/usr/local/lib/python3.7/dist-packages/sklearn/model_selection/_validation.py:515: DataConversionWarning:\n",
            "\n",
            "A column-vector y was passed when a 1d array was expected. Please change the shape of y to (n_samples,), for example using ravel().\n",
            "\n",
            "/usr/local/lib/python3.7/dist-packages/sklearn/model_selection/_validation.py:515: DataConversionWarning:\n",
            "\n",
            "A column-vector y was passed when a 1d array was expected. Please change the shape of y to (n_samples,), for example using ravel().\n",
            "\n",
            "/usr/local/lib/python3.7/dist-packages/sklearn/model_selection/_validation.py:515: DataConversionWarning:\n",
            "\n",
            "A column-vector y was passed when a 1d array was expected. Please change the shape of y to (n_samples,), for example using ravel().\n",
            "\n",
            "/usr/local/lib/python3.7/dist-packages/sklearn/model_selection/_validation.py:515: DataConversionWarning:\n",
            "\n",
            "A column-vector y was passed when a 1d array was expected. Please change the shape of y to (n_samples,), for example using ravel().\n",
            "\n",
            "/usr/local/lib/python3.7/dist-packages/sklearn/model_selection/_validation.py:515: DataConversionWarning:\n",
            "\n",
            "A column-vector y was passed when a 1d array was expected. Please change the shape of y to (n_samples,), for example using ravel().\n",
            "\n",
            "/usr/local/lib/python3.7/dist-packages/sklearn/model_selection/_validation.py:515: DataConversionWarning:\n",
            "\n",
            "A column-vector y was passed when a 1d array was expected. Please change the shape of y to (n_samples,), for example using ravel().\n",
            "\n",
            "/usr/local/lib/python3.7/dist-packages/sklearn/model_selection/_validation.py:515: DataConversionWarning:\n",
            "\n",
            "A column-vector y was passed when a 1d array was expected. Please change the shape of y to (n_samples,), for example using ravel().\n",
            "\n",
            "/usr/local/lib/python3.7/dist-packages/sklearn/model_selection/_validation.py:515: DataConversionWarning:\n",
            "\n",
            "A column-vector y was passed when a 1d array was expected. Please change the shape of y to (n_samples,), for example using ravel().\n",
            "\n",
            "/usr/local/lib/python3.7/dist-packages/sklearn/model_selection/_validation.py:515: DataConversionWarning:\n",
            "\n",
            "A column-vector y was passed when a 1d array was expected. Please change the shape of y to (n_samples,), for example using ravel().\n",
            "\n",
            "/usr/local/lib/python3.7/dist-packages/sklearn/model_selection/_validation.py:515: DataConversionWarning:\n",
            "\n",
            "A column-vector y was passed when a 1d array was expected. Please change the shape of y to (n_samples,), for example using ravel().\n",
            "\n",
            "/usr/local/lib/python3.7/dist-packages/sklearn/model_selection/_validation.py:515: DataConversionWarning:\n",
            "\n",
            "A column-vector y was passed when a 1d array was expected. Please change the shape of y to (n_samples,), for example using ravel().\n",
            "\n",
            "/usr/local/lib/python3.7/dist-packages/sklearn/model_selection/_validation.py:515: DataConversionWarning:\n",
            "\n",
            "A column-vector y was passed when a 1d array was expected. Please change the shape of y to (n_samples,), for example using ravel().\n",
            "\n",
            "/usr/local/lib/python3.7/dist-packages/sklearn/model_selection/_validation.py:515: DataConversionWarning:\n",
            "\n",
            "A column-vector y was passed when a 1d array was expected. Please change the shape of y to (n_samples,), for example using ravel().\n",
            "\n",
            "/usr/local/lib/python3.7/dist-packages/sklearn/model_selection/_validation.py:515: DataConversionWarning:\n",
            "\n",
            "A column-vector y was passed when a 1d array was expected. Please change the shape of y to (n_samples,), for example using ravel().\n",
            "\n",
            "/usr/local/lib/python3.7/dist-packages/sklearn/model_selection/_validation.py:515: DataConversionWarning:\n",
            "\n",
            "A column-vector y was passed when a 1d array was expected. Please change the shape of y to (n_samples,), for example using ravel().\n",
            "\n",
            "/usr/local/lib/python3.7/dist-packages/sklearn/model_selection/_validation.py:515: DataConversionWarning:\n",
            "\n",
            "A column-vector y was passed when a 1d array was expected. Please change the shape of y to (n_samples,), for example using ravel().\n",
            "\n",
            "/usr/local/lib/python3.7/dist-packages/sklearn/model_selection/_validation.py:515: DataConversionWarning:\n",
            "\n",
            "A column-vector y was passed when a 1d array was expected. Please change the shape of y to (n_samples,), for example using ravel().\n",
            "\n",
            "/usr/local/lib/python3.7/dist-packages/sklearn/model_selection/_validation.py:515: DataConversionWarning:\n",
            "\n",
            "A column-vector y was passed when a 1d array was expected. Please change the shape of y to (n_samples,), for example using ravel().\n",
            "\n",
            "/usr/local/lib/python3.7/dist-packages/sklearn/model_selection/_validation.py:515: DataConversionWarning:\n",
            "\n",
            "A column-vector y was passed when a 1d array was expected. Please change the shape of y to (n_samples,), for example using ravel().\n",
            "\n",
            "/usr/local/lib/python3.7/dist-packages/sklearn/model_selection/_validation.py:515: DataConversionWarning:\n",
            "\n",
            "A column-vector y was passed when a 1d array was expected. Please change the shape of y to (n_samples,), for example using ravel().\n",
            "\n",
            "/usr/local/lib/python3.7/dist-packages/sklearn/model_selection/_validation.py:515: DataConversionWarning:\n",
            "\n",
            "A column-vector y was passed when a 1d array was expected. Please change the shape of y to (n_samples,), for example using ravel().\n",
            "\n",
            "/usr/local/lib/python3.7/dist-packages/sklearn/model_selection/_validation.py:515: DataConversionWarning:\n",
            "\n",
            "A column-vector y was passed when a 1d array was expected. Please change the shape of y to (n_samples,), for example using ravel().\n",
            "\n",
            "/usr/local/lib/python3.7/dist-packages/sklearn/model_selection/_validation.py:515: DataConversionWarning:\n",
            "\n",
            "A column-vector y was passed when a 1d array was expected. Please change the shape of y to (n_samples,), for example using ravel().\n",
            "\n",
            "/usr/local/lib/python3.7/dist-packages/sklearn/model_selection/_validation.py:515: DataConversionWarning:\n",
            "\n",
            "A column-vector y was passed when a 1d array was expected. Please change the shape of y to (n_samples,), for example using ravel().\n",
            "\n",
            "/usr/local/lib/python3.7/dist-packages/sklearn/model_selection/_validation.py:515: DataConversionWarning:\n",
            "\n",
            "A column-vector y was passed when a 1d array was expected. Please change the shape of y to (n_samples,), for example using ravel().\n",
            "\n",
            "/usr/local/lib/python3.7/dist-packages/sklearn/model_selection/_validation.py:515: DataConversionWarning:\n",
            "\n",
            "A column-vector y was passed when a 1d array was expected. Please change the shape of y to (n_samples,), for example using ravel().\n",
            "\n",
            "/usr/local/lib/python3.7/dist-packages/sklearn/model_selection/_validation.py:515: DataConversionWarning:\n",
            "\n",
            "A column-vector y was passed when a 1d array was expected. Please change the shape of y to (n_samples,), for example using ravel().\n",
            "\n",
            "/usr/local/lib/python3.7/dist-packages/sklearn/model_selection/_validation.py:515: DataConversionWarning:\n",
            "\n",
            "A column-vector y was passed when a 1d array was expected. Please change the shape of y to (n_samples,), for example using ravel().\n",
            "\n",
            "/usr/local/lib/python3.7/dist-packages/sklearn/model_selection/_validation.py:515: DataConversionWarning:\n",
            "\n",
            "A column-vector y was passed when a 1d array was expected. Please change the shape of y to (n_samples,), for example using ravel().\n",
            "\n",
            "/usr/local/lib/python3.7/dist-packages/sklearn/model_selection/_validation.py:515: DataConversionWarning:\n",
            "\n",
            "A column-vector y was passed when a 1d array was expected. Please change the shape of y to (n_samples,), for example using ravel().\n",
            "\n",
            "/usr/local/lib/python3.7/dist-packages/sklearn/model_selection/_validation.py:515: DataConversionWarning:\n",
            "\n",
            "A column-vector y was passed when a 1d array was expected. Please change the shape of y to (n_samples,), for example using ravel().\n",
            "\n",
            "/usr/local/lib/python3.7/dist-packages/sklearn/model_selection/_validation.py:515: DataConversionWarning:\n",
            "\n",
            "A column-vector y was passed when a 1d array was expected. Please change the shape of y to (n_samples,), for example using ravel().\n",
            "\n",
            "/usr/local/lib/python3.7/dist-packages/sklearn/model_selection/_validation.py:515: DataConversionWarning:\n",
            "\n",
            "A column-vector y was passed when a 1d array was expected. Please change the shape of y to (n_samples,), for example using ravel().\n",
            "\n",
            "/usr/local/lib/python3.7/dist-packages/sklearn/model_selection/_validation.py:515: DataConversionWarning:\n",
            "\n",
            "A column-vector y was passed when a 1d array was expected. Please change the shape of y to (n_samples,), for example using ravel().\n",
            "\n",
            "/usr/local/lib/python3.7/dist-packages/sklearn/model_selection/_validation.py:515: DataConversionWarning:\n",
            "\n",
            "A column-vector y was passed when a 1d array was expected. Please change the shape of y to (n_samples,), for example using ravel().\n",
            "\n",
            "/usr/local/lib/python3.7/dist-packages/sklearn/model_selection/_validation.py:515: DataConversionWarning:\n",
            "\n",
            "A column-vector y was passed when a 1d array was expected. Please change the shape of y to (n_samples,), for example using ravel().\n",
            "\n",
            "/usr/local/lib/python3.7/dist-packages/sklearn/model_selection/_validation.py:515: DataConversionWarning:\n",
            "\n",
            "A column-vector y was passed when a 1d array was expected. Please change the shape of y to (n_samples,), for example using ravel().\n",
            "\n",
            "/usr/local/lib/python3.7/dist-packages/sklearn/model_selection/_validation.py:515: DataConversionWarning:\n",
            "\n",
            "A column-vector y was passed when a 1d array was expected. Please change the shape of y to (n_samples,), for example using ravel().\n",
            "\n",
            "/usr/local/lib/python3.7/dist-packages/sklearn/model_selection/_validation.py:515: DataConversionWarning:\n",
            "\n",
            "A column-vector y was passed when a 1d array was expected. Please change the shape of y to (n_samples,), for example using ravel().\n",
            "\n",
            "/usr/local/lib/python3.7/dist-packages/sklearn/model_selection/_validation.py:515: DataConversionWarning:\n",
            "\n",
            "A column-vector y was passed when a 1d array was expected. Please change the shape of y to (n_samples,), for example using ravel().\n",
            "\n",
            "/usr/local/lib/python3.7/dist-packages/sklearn/model_selection/_validation.py:515: DataConversionWarning:\n",
            "\n",
            "A column-vector y was passed when a 1d array was expected. Please change the shape of y to (n_samples,), for example using ravel().\n",
            "\n",
            "/usr/local/lib/python3.7/dist-packages/sklearn/model_selection/_validation.py:515: DataConversionWarning:\n",
            "\n",
            "A column-vector y was passed when a 1d array was expected. Please change the shape of y to (n_samples,), for example using ravel().\n",
            "\n",
            "/usr/local/lib/python3.7/dist-packages/sklearn/model_selection/_validation.py:515: DataConversionWarning:\n",
            "\n",
            "A column-vector y was passed when a 1d array was expected. Please change the shape of y to (n_samples,), for example using ravel().\n",
            "\n",
            "/usr/local/lib/python3.7/dist-packages/sklearn/model_selection/_validation.py:515: DataConversionWarning:\n",
            "\n",
            "A column-vector y was passed when a 1d array was expected. Please change the shape of y to (n_samples,), for example using ravel().\n",
            "\n",
            "/usr/local/lib/python3.7/dist-packages/sklearn/model_selection/_validation.py:515: DataConversionWarning:\n",
            "\n",
            "A column-vector y was passed when a 1d array was expected. Please change the shape of y to (n_samples,), for example using ravel().\n",
            "\n",
            "/usr/local/lib/python3.7/dist-packages/sklearn/model_selection/_validation.py:515: DataConversionWarning:\n",
            "\n",
            "A column-vector y was passed when a 1d array was expected. Please change the shape of y to (n_samples,), for example using ravel().\n",
            "\n",
            "/usr/local/lib/python3.7/dist-packages/sklearn/model_selection/_validation.py:515: DataConversionWarning:\n",
            "\n",
            "A column-vector y was passed when a 1d array was expected. Please change the shape of y to (n_samples,), for example using ravel().\n",
            "\n",
            "/usr/local/lib/python3.7/dist-packages/sklearn/model_selection/_validation.py:515: DataConversionWarning:\n",
            "\n",
            "A column-vector y was passed when a 1d array was expected. Please change the shape of y to (n_samples,), for example using ravel().\n",
            "\n",
            "/usr/local/lib/python3.7/dist-packages/sklearn/model_selection/_validation.py:515: DataConversionWarning:\n",
            "\n",
            "A column-vector y was passed when a 1d array was expected. Please change the shape of y to (n_samples,), for example using ravel().\n",
            "\n",
            "/usr/local/lib/python3.7/dist-packages/sklearn/model_selection/_validation.py:515: DataConversionWarning:\n",
            "\n",
            "A column-vector y was passed when a 1d array was expected. Please change the shape of y to (n_samples,), for example using ravel().\n",
            "\n",
            "/usr/local/lib/python3.7/dist-packages/sklearn/model_selection/_validation.py:515: DataConversionWarning:\n",
            "\n",
            "A column-vector y was passed when a 1d array was expected. Please change the shape of y to (n_samples,), for example using ravel().\n",
            "\n",
            "/usr/local/lib/python3.7/dist-packages/sklearn/model_selection/_validation.py:515: DataConversionWarning:\n",
            "\n",
            "A column-vector y was passed when a 1d array was expected. Please change the shape of y to (n_samples,), for example using ravel().\n",
            "\n",
            "/usr/local/lib/python3.7/dist-packages/sklearn/model_selection/_validation.py:515: DataConversionWarning:\n",
            "\n",
            "A column-vector y was passed when a 1d array was expected. Please change the shape of y to (n_samples,), for example using ravel().\n",
            "\n",
            "/usr/local/lib/python3.7/dist-packages/sklearn/model_selection/_validation.py:515: DataConversionWarning:\n",
            "\n",
            "A column-vector y was passed when a 1d array was expected. Please change the shape of y to (n_samples,), for example using ravel().\n",
            "\n",
            "/usr/local/lib/python3.7/dist-packages/sklearn/model_selection/_validation.py:515: DataConversionWarning:\n",
            "\n",
            "A column-vector y was passed when a 1d array was expected. Please change the shape of y to (n_samples,), for example using ravel().\n",
            "\n",
            "/usr/local/lib/python3.7/dist-packages/sklearn/model_selection/_validation.py:515: DataConversionWarning:\n",
            "\n",
            "A column-vector y was passed when a 1d array was expected. Please change the shape of y to (n_samples,), for example using ravel().\n",
            "\n",
            "/usr/local/lib/python3.7/dist-packages/sklearn/model_selection/_validation.py:515: DataConversionWarning:\n",
            "\n",
            "A column-vector y was passed when a 1d array was expected. Please change the shape of y to (n_samples,), for example using ravel().\n",
            "\n",
            "/usr/local/lib/python3.7/dist-packages/sklearn/model_selection/_validation.py:515: DataConversionWarning:\n",
            "\n",
            "A column-vector y was passed when a 1d array was expected. Please change the shape of y to (n_samples,), for example using ravel().\n",
            "\n",
            "/usr/local/lib/python3.7/dist-packages/sklearn/model_selection/_validation.py:515: DataConversionWarning:\n",
            "\n",
            "A column-vector y was passed when a 1d array was expected. Please change the shape of y to (n_samples,), for example using ravel().\n",
            "\n",
            "/usr/local/lib/python3.7/dist-packages/sklearn/model_selection/_validation.py:515: DataConversionWarning:\n",
            "\n",
            "A column-vector y was passed when a 1d array was expected. Please change the shape of y to (n_samples,), for example using ravel().\n",
            "\n",
            "/usr/local/lib/python3.7/dist-packages/sklearn/model_selection/_validation.py:515: DataConversionWarning:\n",
            "\n",
            "A column-vector y was passed when a 1d array was expected. Please change the shape of y to (n_samples,), for example using ravel().\n",
            "\n",
            "/usr/local/lib/python3.7/dist-packages/sklearn/model_selection/_validation.py:515: DataConversionWarning:\n",
            "\n",
            "A column-vector y was passed when a 1d array was expected. Please change the shape of y to (n_samples,), for example using ravel().\n",
            "\n",
            "/usr/local/lib/python3.7/dist-packages/sklearn/model_selection/_validation.py:515: DataConversionWarning:\n",
            "\n",
            "A column-vector y was passed when a 1d array was expected. Please change the shape of y to (n_samples,), for example using ravel().\n",
            "\n",
            "/usr/local/lib/python3.7/dist-packages/sklearn/model_selection/_validation.py:515: DataConversionWarning:\n",
            "\n",
            "A column-vector y was passed when a 1d array was expected. Please change the shape of y to (n_samples,), for example using ravel().\n",
            "\n",
            "/usr/local/lib/python3.7/dist-packages/sklearn/model_selection/_validation.py:515: DataConversionWarning:\n",
            "\n",
            "A column-vector y was passed when a 1d array was expected. Please change the shape of y to (n_samples,), for example using ravel().\n",
            "\n",
            "/usr/local/lib/python3.7/dist-packages/sklearn/model_selection/_validation.py:515: DataConversionWarning:\n",
            "\n",
            "A column-vector y was passed when a 1d array was expected. Please change the shape of y to (n_samples,), for example using ravel().\n",
            "\n",
            "/usr/local/lib/python3.7/dist-packages/sklearn/model_selection/_validation.py:515: DataConversionWarning:\n",
            "\n",
            "A column-vector y was passed when a 1d array was expected. Please change the shape of y to (n_samples,), for example using ravel().\n",
            "\n",
            "/usr/local/lib/python3.7/dist-packages/sklearn/model_selection/_validation.py:515: DataConversionWarning:\n",
            "\n",
            "A column-vector y was passed when a 1d array was expected. Please change the shape of y to (n_samples,), for example using ravel().\n",
            "\n",
            "/usr/local/lib/python3.7/dist-packages/sklearn/model_selection/_validation.py:515: DataConversionWarning:\n",
            "\n",
            "A column-vector y was passed when a 1d array was expected. Please change the shape of y to (n_samples,), for example using ravel().\n",
            "\n",
            "/usr/local/lib/python3.7/dist-packages/sklearn/model_selection/_validation.py:515: DataConversionWarning:\n",
            "\n",
            "A column-vector y was passed when a 1d array was expected. Please change the shape of y to (n_samples,), for example using ravel().\n",
            "\n",
            "/usr/local/lib/python3.7/dist-packages/sklearn/model_selection/_validation.py:515: DataConversionWarning:\n",
            "\n",
            "A column-vector y was passed when a 1d array was expected. Please change the shape of y to (n_samples,), for example using ravel().\n",
            "\n",
            "/usr/local/lib/python3.7/dist-packages/sklearn/model_selection/_validation.py:515: DataConversionWarning:\n",
            "\n",
            "A column-vector y was passed when a 1d array was expected. Please change the shape of y to (n_samples,), for example using ravel().\n",
            "\n",
            "/usr/local/lib/python3.7/dist-packages/sklearn/model_selection/_validation.py:515: DataConversionWarning:\n",
            "\n",
            "A column-vector y was passed when a 1d array was expected. Please change the shape of y to (n_samples,), for example using ravel().\n",
            "\n",
            "/usr/local/lib/python3.7/dist-packages/sklearn/model_selection/_validation.py:515: DataConversionWarning:\n",
            "\n",
            "A column-vector y was passed when a 1d array was expected. Please change the shape of y to (n_samples,), for example using ravel().\n",
            "\n",
            "/usr/local/lib/python3.7/dist-packages/sklearn/model_selection/_validation.py:515: DataConversionWarning:\n",
            "\n",
            "A column-vector y was passed when a 1d array was expected. Please change the shape of y to (n_samples,), for example using ravel().\n",
            "\n",
            "/usr/local/lib/python3.7/dist-packages/sklearn/model_selection/_validation.py:515: DataConversionWarning:\n",
            "\n",
            "A column-vector y was passed when a 1d array was expected. Please change the shape of y to (n_samples,), for example using ravel().\n",
            "\n",
            "/usr/local/lib/python3.7/dist-packages/sklearn/model_selection/_validation.py:515: DataConversionWarning:\n",
            "\n",
            "A column-vector y was passed when a 1d array was expected. Please change the shape of y to (n_samples,), for example using ravel().\n",
            "\n",
            "/usr/local/lib/python3.7/dist-packages/sklearn/model_selection/_validation.py:515: DataConversionWarning:\n",
            "\n",
            "A column-vector y was passed when a 1d array was expected. Please change the shape of y to (n_samples,), for example using ravel().\n",
            "\n",
            "/usr/local/lib/python3.7/dist-packages/sklearn/model_selection/_validation.py:515: DataConversionWarning:\n",
            "\n",
            "A column-vector y was passed when a 1d array was expected. Please change the shape of y to (n_samples,), for example using ravel().\n",
            "\n",
            "/usr/local/lib/python3.7/dist-packages/sklearn/model_selection/_validation.py:515: DataConversionWarning:\n",
            "\n",
            "A column-vector y was passed when a 1d array was expected. Please change the shape of y to (n_samples,), for example using ravel().\n",
            "\n",
            "/usr/local/lib/python3.7/dist-packages/sklearn/model_selection/_validation.py:515: DataConversionWarning:\n",
            "\n",
            "A column-vector y was passed when a 1d array was expected. Please change the shape of y to (n_samples,), for example using ravel().\n",
            "\n",
            "/usr/local/lib/python3.7/dist-packages/sklearn/model_selection/_validation.py:515: DataConversionWarning:\n",
            "\n",
            "A column-vector y was passed when a 1d array was expected. Please change the shape of y to (n_samples,), for example using ravel().\n",
            "\n",
            "/usr/local/lib/python3.7/dist-packages/sklearn/model_selection/_validation.py:515: DataConversionWarning:\n",
            "\n",
            "A column-vector y was passed when a 1d array was expected. Please change the shape of y to (n_samples,), for example using ravel().\n",
            "\n",
            "/usr/local/lib/python3.7/dist-packages/sklearn/model_selection/_validation.py:515: DataConversionWarning:\n",
            "\n",
            "A column-vector y was passed when a 1d array was expected. Please change the shape of y to (n_samples,), for example using ravel().\n",
            "\n",
            "/usr/local/lib/python3.7/dist-packages/sklearn/model_selection/_validation.py:515: DataConversionWarning:\n",
            "\n",
            "A column-vector y was passed when a 1d array was expected. Please change the shape of y to (n_samples,), for example using ravel().\n",
            "\n",
            "/usr/local/lib/python3.7/dist-packages/sklearn/model_selection/_validation.py:515: DataConversionWarning:\n",
            "\n",
            "A column-vector y was passed when a 1d array was expected. Please change the shape of y to (n_samples,), for example using ravel().\n",
            "\n",
            "/usr/local/lib/python3.7/dist-packages/sklearn/model_selection/_validation.py:515: DataConversionWarning:\n",
            "\n",
            "A column-vector y was passed when a 1d array was expected. Please change the shape of y to (n_samples,), for example using ravel().\n",
            "\n",
            "/usr/local/lib/python3.7/dist-packages/sklearn/model_selection/_validation.py:515: DataConversionWarning:\n",
            "\n",
            "A column-vector y was passed when a 1d array was expected. Please change the shape of y to (n_samples,), for example using ravel().\n",
            "\n",
            "/usr/local/lib/python3.7/dist-packages/sklearn/model_selection/_validation.py:515: DataConversionWarning:\n",
            "\n",
            "A column-vector y was passed when a 1d array was expected. Please change the shape of y to (n_samples,), for example using ravel().\n",
            "\n",
            "/usr/local/lib/python3.7/dist-packages/sklearn/model_selection/_validation.py:515: DataConversionWarning:\n",
            "\n",
            "A column-vector y was passed when a 1d array was expected. Please change the shape of y to (n_samples,), for example using ravel().\n",
            "\n",
            "/usr/local/lib/python3.7/dist-packages/sklearn/model_selection/_validation.py:515: DataConversionWarning:\n",
            "\n",
            "A column-vector y was passed when a 1d array was expected. Please change the shape of y to (n_samples,), for example using ravel().\n",
            "\n",
            "/usr/local/lib/python3.7/dist-packages/sklearn/model_selection/_validation.py:515: DataConversionWarning:\n",
            "\n",
            "A column-vector y was passed when a 1d array was expected. Please change the shape of y to (n_samples,), for example using ravel().\n",
            "\n",
            "/usr/local/lib/python3.7/dist-packages/sklearn/model_selection/_validation.py:515: DataConversionWarning:\n",
            "\n",
            "A column-vector y was passed when a 1d array was expected. Please change the shape of y to (n_samples,), for example using ravel().\n",
            "\n",
            "/usr/local/lib/python3.7/dist-packages/sklearn/model_selection/_validation.py:515: DataConversionWarning:\n",
            "\n",
            "A column-vector y was passed when a 1d array was expected. Please change the shape of y to (n_samples,), for example using ravel().\n",
            "\n",
            "/usr/local/lib/python3.7/dist-packages/sklearn/model_selection/_validation.py:515: DataConversionWarning:\n",
            "\n",
            "A column-vector y was passed when a 1d array was expected. Please change the shape of y to (n_samples,), for example using ravel().\n",
            "\n",
            "/usr/local/lib/python3.7/dist-packages/sklearn/model_selection/_validation.py:515: DataConversionWarning:\n",
            "\n",
            "A column-vector y was passed when a 1d array was expected. Please change the shape of y to (n_samples,), for example using ravel().\n",
            "\n",
            "/usr/local/lib/python3.7/dist-packages/sklearn/model_selection/_validation.py:515: DataConversionWarning:\n",
            "\n",
            "A column-vector y was passed when a 1d array was expected. Please change the shape of y to (n_samples,), for example using ravel().\n",
            "\n",
            "/usr/local/lib/python3.7/dist-packages/sklearn/model_selection/_validation.py:515: DataConversionWarning:\n",
            "\n",
            "A column-vector y was passed when a 1d array was expected. Please change the shape of y to (n_samples,), for example using ravel().\n",
            "\n",
            "/usr/local/lib/python3.7/dist-packages/sklearn/model_selection/_validation.py:515: DataConversionWarning:\n",
            "\n",
            "A column-vector y was passed when a 1d array was expected. Please change the shape of y to (n_samples,), for example using ravel().\n",
            "\n",
            "/usr/local/lib/python3.7/dist-packages/sklearn/model_selection/_validation.py:515: DataConversionWarning:\n",
            "\n",
            "A column-vector y was passed when a 1d array was expected. Please change the shape of y to (n_samples,), for example using ravel().\n",
            "\n",
            "/usr/local/lib/python3.7/dist-packages/sklearn/model_selection/_validation.py:515: DataConversionWarning:\n",
            "\n",
            "A column-vector y was passed when a 1d array was expected. Please change the shape of y to (n_samples,), for example using ravel().\n",
            "\n",
            "/usr/local/lib/python3.7/dist-packages/sklearn/model_selection/_validation.py:515: DataConversionWarning:\n",
            "\n",
            "A column-vector y was passed when a 1d array was expected. Please change the shape of y to (n_samples,), for example using ravel().\n",
            "\n",
            "/usr/local/lib/python3.7/dist-packages/sklearn/model_selection/_validation.py:515: DataConversionWarning:\n",
            "\n",
            "A column-vector y was passed when a 1d array was expected. Please change the shape of y to (n_samples,), for example using ravel().\n",
            "\n",
            "/usr/local/lib/python3.7/dist-packages/sklearn/model_selection/_validation.py:515: DataConversionWarning:\n",
            "\n",
            "A column-vector y was passed when a 1d array was expected. Please change the shape of y to (n_samples,), for example using ravel().\n",
            "\n",
            "/usr/local/lib/python3.7/dist-packages/sklearn/model_selection/_validation.py:515: DataConversionWarning:\n",
            "\n",
            "A column-vector y was passed when a 1d array was expected. Please change the shape of y to (n_samples,), for example using ravel().\n",
            "\n",
            "/usr/local/lib/python3.7/dist-packages/sklearn/model_selection/_validation.py:515: DataConversionWarning:\n",
            "\n",
            "A column-vector y was passed when a 1d array was expected. Please change the shape of y to (n_samples,), for example using ravel().\n",
            "\n",
            "/usr/local/lib/python3.7/dist-packages/sklearn/model_selection/_validation.py:515: DataConversionWarning:\n",
            "\n",
            "A column-vector y was passed when a 1d array was expected. Please change the shape of y to (n_samples,), for example using ravel().\n",
            "\n",
            "/usr/local/lib/python3.7/dist-packages/sklearn/model_selection/_validation.py:515: DataConversionWarning:\n",
            "\n",
            "A column-vector y was passed when a 1d array was expected. Please change the shape of y to (n_samples,), for example using ravel().\n",
            "\n",
            "/usr/local/lib/python3.7/dist-packages/sklearn/model_selection/_validation.py:515: DataConversionWarning:\n",
            "\n",
            "A column-vector y was passed when a 1d array was expected. Please change the shape of y to (n_samples,), for example using ravel().\n",
            "\n",
            "/usr/local/lib/python3.7/dist-packages/sklearn/model_selection/_validation.py:515: DataConversionWarning:\n",
            "\n",
            "A column-vector y was passed when a 1d array was expected. Please change the shape of y to (n_samples,), for example using ravel().\n",
            "\n",
            "/usr/local/lib/python3.7/dist-packages/sklearn/model_selection/_validation.py:515: DataConversionWarning:\n",
            "\n",
            "A column-vector y was passed when a 1d array was expected. Please change the shape of y to (n_samples,), for example using ravel().\n",
            "\n",
            "/usr/local/lib/python3.7/dist-packages/sklearn/model_selection/_validation.py:515: DataConversionWarning:\n",
            "\n",
            "A column-vector y was passed when a 1d array was expected. Please change the shape of y to (n_samples,), for example using ravel().\n",
            "\n",
            "/usr/local/lib/python3.7/dist-packages/sklearn/model_selection/_validation.py:515: DataConversionWarning:\n",
            "\n",
            "A column-vector y was passed when a 1d array was expected. Please change the shape of y to (n_samples,), for example using ravel().\n",
            "\n",
            "/usr/local/lib/python3.7/dist-packages/sklearn/model_selection/_validation.py:515: DataConversionWarning:\n",
            "\n",
            "A column-vector y was passed when a 1d array was expected. Please change the shape of y to (n_samples,), for example using ravel().\n",
            "\n",
            "/usr/local/lib/python3.7/dist-packages/sklearn/model_selection/_validation.py:515: DataConversionWarning:\n",
            "\n",
            "A column-vector y was passed when a 1d array was expected. Please change the shape of y to (n_samples,), for example using ravel().\n",
            "\n",
            "/usr/local/lib/python3.7/dist-packages/sklearn/model_selection/_validation.py:515: DataConversionWarning:\n",
            "\n",
            "A column-vector y was passed when a 1d array was expected. Please change the shape of y to (n_samples,), for example using ravel().\n",
            "\n",
            "/usr/local/lib/python3.7/dist-packages/sklearn/model_selection/_validation.py:515: DataConversionWarning:\n",
            "\n",
            "A column-vector y was passed when a 1d array was expected. Please change the shape of y to (n_samples,), for example using ravel().\n",
            "\n",
            "/usr/local/lib/python3.7/dist-packages/sklearn/model_selection/_validation.py:515: DataConversionWarning:\n",
            "\n",
            "A column-vector y was passed when a 1d array was expected. Please change the shape of y to (n_samples,), for example using ravel().\n",
            "\n",
            "/usr/local/lib/python3.7/dist-packages/sklearn/model_selection/_validation.py:515: DataConversionWarning:\n",
            "\n",
            "A column-vector y was passed when a 1d array was expected. Please change the shape of y to (n_samples,), for example using ravel().\n",
            "\n",
            "/usr/local/lib/python3.7/dist-packages/sklearn/model_selection/_validation.py:515: DataConversionWarning:\n",
            "\n",
            "A column-vector y was passed when a 1d array was expected. Please change the shape of y to (n_samples,), for example using ravel().\n",
            "\n",
            "/usr/local/lib/python3.7/dist-packages/sklearn/model_selection/_validation.py:515: DataConversionWarning:\n",
            "\n",
            "A column-vector y was passed when a 1d array was expected. Please change the shape of y to (n_samples,), for example using ravel().\n",
            "\n",
            "/usr/local/lib/python3.7/dist-packages/sklearn/model_selection/_validation.py:515: DataConversionWarning:\n",
            "\n",
            "A column-vector y was passed when a 1d array was expected. Please change the shape of y to (n_samples,), for example using ravel().\n",
            "\n",
            "/usr/local/lib/python3.7/dist-packages/sklearn/model_selection/_validation.py:515: DataConversionWarning:\n",
            "\n",
            "A column-vector y was passed when a 1d array was expected. Please change the shape of y to (n_samples,), for example using ravel().\n",
            "\n",
            "/usr/local/lib/python3.7/dist-packages/sklearn/model_selection/_validation.py:515: DataConversionWarning:\n",
            "\n",
            "A column-vector y was passed when a 1d array was expected. Please change the shape of y to (n_samples,), for example using ravel().\n",
            "\n",
            "/usr/local/lib/python3.7/dist-packages/sklearn/model_selection/_validation.py:515: DataConversionWarning:\n",
            "\n",
            "A column-vector y was passed when a 1d array was expected. Please change the shape of y to (n_samples,), for example using ravel().\n",
            "\n",
            "/usr/local/lib/python3.7/dist-packages/sklearn/model_selection/_validation.py:515: DataConversionWarning:\n",
            "\n",
            "A column-vector y was passed when a 1d array was expected. Please change the shape of y to (n_samples,), for example using ravel().\n",
            "\n",
            "/usr/local/lib/python3.7/dist-packages/sklearn/model_selection/_validation.py:515: DataConversionWarning:\n",
            "\n",
            "A column-vector y was passed when a 1d array was expected. Please change the shape of y to (n_samples,), for example using ravel().\n",
            "\n",
            "/usr/local/lib/python3.7/dist-packages/sklearn/model_selection/_validation.py:515: DataConversionWarning:\n",
            "\n",
            "A column-vector y was passed when a 1d array was expected. Please change the shape of y to (n_samples,), for example using ravel().\n",
            "\n",
            "/usr/local/lib/python3.7/dist-packages/sklearn/model_selection/_validation.py:515: DataConversionWarning:\n",
            "\n",
            "A column-vector y was passed when a 1d array was expected. Please change the shape of y to (n_samples,), for example using ravel().\n",
            "\n",
            "/usr/local/lib/python3.7/dist-packages/sklearn/model_selection/_validation.py:515: DataConversionWarning:\n",
            "\n",
            "A column-vector y was passed when a 1d array was expected. Please change the shape of y to (n_samples,), for example using ravel().\n",
            "\n",
            "/usr/local/lib/python3.7/dist-packages/sklearn/model_selection/_validation.py:515: DataConversionWarning:\n",
            "\n",
            "A column-vector y was passed when a 1d array was expected. Please change the shape of y to (n_samples,), for example using ravel().\n",
            "\n",
            "/usr/local/lib/python3.7/dist-packages/sklearn/model_selection/_validation.py:515: DataConversionWarning:\n",
            "\n",
            "A column-vector y was passed when a 1d array was expected. Please change the shape of y to (n_samples,), for example using ravel().\n",
            "\n",
            "/usr/local/lib/python3.7/dist-packages/sklearn/model_selection/_validation.py:515: DataConversionWarning:\n",
            "\n",
            "A column-vector y was passed when a 1d array was expected. Please change the shape of y to (n_samples,), for example using ravel().\n",
            "\n",
            "/usr/local/lib/python3.7/dist-packages/sklearn/model_selection/_validation.py:515: DataConversionWarning:\n",
            "\n",
            "A column-vector y was passed when a 1d array was expected. Please change the shape of y to (n_samples,), for example using ravel().\n",
            "\n",
            "/usr/local/lib/python3.7/dist-packages/sklearn/model_selection/_validation.py:515: DataConversionWarning:\n",
            "\n",
            "A column-vector y was passed when a 1d array was expected. Please change the shape of y to (n_samples,), for example using ravel().\n",
            "\n",
            "/usr/local/lib/python3.7/dist-packages/sklearn/model_selection/_validation.py:515: DataConversionWarning:\n",
            "\n",
            "A column-vector y was passed when a 1d array was expected. Please change the shape of y to (n_samples,), for example using ravel().\n",
            "\n",
            "/usr/local/lib/python3.7/dist-packages/sklearn/model_selection/_validation.py:515: DataConversionWarning:\n",
            "\n",
            "A column-vector y was passed when a 1d array was expected. Please change the shape of y to (n_samples,), for example using ravel().\n",
            "\n",
            "/usr/local/lib/python3.7/dist-packages/sklearn/model_selection/_validation.py:515: DataConversionWarning:\n",
            "\n",
            "A column-vector y was passed when a 1d array was expected. Please change the shape of y to (n_samples,), for example using ravel().\n",
            "\n",
            "/usr/local/lib/python3.7/dist-packages/sklearn/model_selection/_validation.py:515: DataConversionWarning:\n",
            "\n",
            "A column-vector y was passed when a 1d array was expected. Please change the shape of y to (n_samples,), for example using ravel().\n",
            "\n",
            "/usr/local/lib/python3.7/dist-packages/sklearn/model_selection/_validation.py:515: DataConversionWarning:\n",
            "\n",
            "A column-vector y was passed when a 1d array was expected. Please change the shape of y to (n_samples,), for example using ravel().\n",
            "\n",
            "/usr/local/lib/python3.7/dist-packages/sklearn/model_selection/_validation.py:515: DataConversionWarning:\n",
            "\n",
            "A column-vector y was passed when a 1d array was expected. Please change the shape of y to (n_samples,), for example using ravel().\n",
            "\n",
            "/usr/local/lib/python3.7/dist-packages/sklearn/model_selection/_validation.py:515: DataConversionWarning:\n",
            "\n",
            "A column-vector y was passed when a 1d array was expected. Please change the shape of y to (n_samples,), for example using ravel().\n",
            "\n",
            "/usr/local/lib/python3.7/dist-packages/sklearn/model_selection/_validation.py:515: DataConversionWarning:\n",
            "\n",
            "A column-vector y was passed when a 1d array was expected. Please change the shape of y to (n_samples,), for example using ravel().\n",
            "\n",
            "/usr/local/lib/python3.7/dist-packages/sklearn/model_selection/_validation.py:515: DataConversionWarning:\n",
            "\n",
            "A column-vector y was passed when a 1d array was expected. Please change the shape of y to (n_samples,), for example using ravel().\n",
            "\n",
            "/usr/local/lib/python3.7/dist-packages/sklearn/model_selection/_validation.py:515: DataConversionWarning:\n",
            "\n",
            "A column-vector y was passed when a 1d array was expected. Please change the shape of y to (n_samples,), for example using ravel().\n",
            "\n",
            "/usr/local/lib/python3.7/dist-packages/sklearn/model_selection/_validation.py:515: DataConversionWarning:\n",
            "\n",
            "A column-vector y was passed when a 1d array was expected. Please change the shape of y to (n_samples,), for example using ravel().\n",
            "\n",
            "/usr/local/lib/python3.7/dist-packages/sklearn/model_selection/_validation.py:515: DataConversionWarning:\n",
            "\n",
            "A column-vector y was passed when a 1d array was expected. Please change the shape of y to (n_samples,), for example using ravel().\n",
            "\n",
            "/usr/local/lib/python3.7/dist-packages/sklearn/model_selection/_validation.py:515: DataConversionWarning:\n",
            "\n",
            "A column-vector y was passed when a 1d array was expected. Please change the shape of y to (n_samples,), for example using ravel().\n",
            "\n",
            "/usr/local/lib/python3.7/dist-packages/sklearn/model_selection/_validation.py:515: DataConversionWarning:\n",
            "\n",
            "A column-vector y was passed when a 1d array was expected. Please change the shape of y to (n_samples,), for example using ravel().\n",
            "\n",
            "/usr/local/lib/python3.7/dist-packages/sklearn/model_selection/_validation.py:515: DataConversionWarning:\n",
            "\n",
            "A column-vector y was passed when a 1d array was expected. Please change the shape of y to (n_samples,), for example using ravel().\n",
            "\n",
            "/usr/local/lib/python3.7/dist-packages/sklearn/model_selection/_validation.py:515: DataConversionWarning:\n",
            "\n",
            "A column-vector y was passed when a 1d array was expected. Please change the shape of y to (n_samples,), for example using ravel().\n",
            "\n",
            "/usr/local/lib/python3.7/dist-packages/sklearn/model_selection/_validation.py:515: DataConversionWarning:\n",
            "\n",
            "A column-vector y was passed when a 1d array was expected. Please change the shape of y to (n_samples,), for example using ravel().\n",
            "\n",
            "/usr/local/lib/python3.7/dist-packages/sklearn/model_selection/_validation.py:515: DataConversionWarning:\n",
            "\n",
            "A column-vector y was passed when a 1d array was expected. Please change the shape of y to (n_samples,), for example using ravel().\n",
            "\n",
            "/usr/local/lib/python3.7/dist-packages/sklearn/model_selection/_validation.py:515: DataConversionWarning:\n",
            "\n",
            "A column-vector y was passed when a 1d array was expected. Please change the shape of y to (n_samples,), for example using ravel().\n",
            "\n",
            "/usr/local/lib/python3.7/dist-packages/sklearn/model_selection/_validation.py:515: DataConversionWarning:\n",
            "\n",
            "A column-vector y was passed when a 1d array was expected. Please change the shape of y to (n_samples,), for example using ravel().\n",
            "\n",
            "/usr/local/lib/python3.7/dist-packages/sklearn/model_selection/_validation.py:515: DataConversionWarning:\n",
            "\n",
            "A column-vector y was passed when a 1d array was expected. Please change the shape of y to (n_samples,), for example using ravel().\n",
            "\n",
            "/usr/local/lib/python3.7/dist-packages/sklearn/model_selection/_validation.py:515: DataConversionWarning:\n",
            "\n",
            "A column-vector y was passed when a 1d array was expected. Please change the shape of y to (n_samples,), for example using ravel().\n",
            "\n",
            "/usr/local/lib/python3.7/dist-packages/sklearn/model_selection/_validation.py:515: DataConversionWarning:\n",
            "\n",
            "A column-vector y was passed when a 1d array was expected. Please change the shape of y to (n_samples,), for example using ravel().\n",
            "\n",
            "/usr/local/lib/python3.7/dist-packages/sklearn/model_selection/_validation.py:515: DataConversionWarning:\n",
            "\n",
            "A column-vector y was passed when a 1d array was expected. Please change the shape of y to (n_samples,), for example using ravel().\n",
            "\n",
            "/usr/local/lib/python3.7/dist-packages/sklearn/model_selection/_validation.py:515: DataConversionWarning:\n",
            "\n",
            "A column-vector y was passed when a 1d array was expected. Please change the shape of y to (n_samples,), for example using ravel().\n",
            "\n",
            "/usr/local/lib/python3.7/dist-packages/sklearn/model_selection/_validation.py:515: DataConversionWarning:\n",
            "\n",
            "A column-vector y was passed when a 1d array was expected. Please change the shape of y to (n_samples,), for example using ravel().\n",
            "\n",
            "/usr/local/lib/python3.7/dist-packages/sklearn/model_selection/_validation.py:515: DataConversionWarning:\n",
            "\n",
            "A column-vector y was passed when a 1d array was expected. Please change the shape of y to (n_samples,), for example using ravel().\n",
            "\n",
            "/usr/local/lib/python3.7/dist-packages/sklearn/model_selection/_validation.py:515: DataConversionWarning:\n",
            "\n",
            "A column-vector y was passed when a 1d array was expected. Please change the shape of y to (n_samples,), for example using ravel().\n",
            "\n",
            "/usr/local/lib/python3.7/dist-packages/sklearn/model_selection/_validation.py:515: DataConversionWarning:\n",
            "\n",
            "A column-vector y was passed when a 1d array was expected. Please change the shape of y to (n_samples,), for example using ravel().\n",
            "\n",
            "/usr/local/lib/python3.7/dist-packages/sklearn/model_selection/_validation.py:515: DataConversionWarning:\n",
            "\n",
            "A column-vector y was passed when a 1d array was expected. Please change the shape of y to (n_samples,), for example using ravel().\n",
            "\n",
            "/usr/local/lib/python3.7/dist-packages/sklearn/model_selection/_validation.py:515: DataConversionWarning:\n",
            "\n",
            "A column-vector y was passed when a 1d array was expected. Please change the shape of y to (n_samples,), for example using ravel().\n",
            "\n",
            "/usr/local/lib/python3.7/dist-packages/sklearn/model_selection/_validation.py:515: DataConversionWarning:\n",
            "\n",
            "A column-vector y was passed when a 1d array was expected. Please change the shape of y to (n_samples,), for example using ravel().\n",
            "\n",
            "/usr/local/lib/python3.7/dist-packages/sklearn/model_selection/_validation.py:515: DataConversionWarning:\n",
            "\n",
            "A column-vector y was passed when a 1d array was expected. Please change the shape of y to (n_samples,), for example using ravel().\n",
            "\n",
            "/usr/local/lib/python3.7/dist-packages/sklearn/model_selection/_validation.py:515: DataConversionWarning:\n",
            "\n",
            "A column-vector y was passed when a 1d array was expected. Please change the shape of y to (n_samples,), for example using ravel().\n",
            "\n",
            "/usr/local/lib/python3.7/dist-packages/sklearn/model_selection/_validation.py:515: DataConversionWarning:\n",
            "\n",
            "A column-vector y was passed when a 1d array was expected. Please change the shape of y to (n_samples,), for example using ravel().\n",
            "\n",
            "/usr/local/lib/python3.7/dist-packages/sklearn/model_selection/_validation.py:515: DataConversionWarning:\n",
            "\n",
            "A column-vector y was passed when a 1d array was expected. Please change the shape of y to (n_samples,), for example using ravel().\n",
            "\n",
            "/usr/local/lib/python3.7/dist-packages/sklearn/model_selection/_validation.py:515: DataConversionWarning:\n",
            "\n",
            "A column-vector y was passed when a 1d array was expected. Please change the shape of y to (n_samples,), for example using ravel().\n",
            "\n",
            "/usr/local/lib/python3.7/dist-packages/sklearn/model_selection/_validation.py:515: DataConversionWarning:\n",
            "\n",
            "A column-vector y was passed when a 1d array was expected. Please change the shape of y to (n_samples,), for example using ravel().\n",
            "\n",
            "/usr/local/lib/python3.7/dist-packages/sklearn/model_selection/_validation.py:515: DataConversionWarning:\n",
            "\n",
            "A column-vector y was passed when a 1d array was expected. Please change the shape of y to (n_samples,), for example using ravel().\n",
            "\n",
            "/usr/local/lib/python3.7/dist-packages/sklearn/model_selection/_validation.py:515: DataConversionWarning:\n",
            "\n",
            "A column-vector y was passed when a 1d array was expected. Please change the shape of y to (n_samples,), for example using ravel().\n",
            "\n",
            "/usr/local/lib/python3.7/dist-packages/sklearn/model_selection/_validation.py:515: DataConversionWarning:\n",
            "\n",
            "A column-vector y was passed when a 1d array was expected. Please change the shape of y to (n_samples,), for example using ravel().\n",
            "\n",
            "/usr/local/lib/python3.7/dist-packages/sklearn/model_selection/_validation.py:515: DataConversionWarning:\n",
            "\n",
            "A column-vector y was passed when a 1d array was expected. Please change the shape of y to (n_samples,), for example using ravel().\n",
            "\n",
            "/usr/local/lib/python3.7/dist-packages/sklearn/model_selection/_validation.py:515: DataConversionWarning:\n",
            "\n",
            "A column-vector y was passed when a 1d array was expected. Please change the shape of y to (n_samples,), for example using ravel().\n",
            "\n",
            "/usr/local/lib/python3.7/dist-packages/sklearn/model_selection/_validation.py:515: DataConversionWarning:\n",
            "\n",
            "A column-vector y was passed when a 1d array was expected. Please change the shape of y to (n_samples,), for example using ravel().\n",
            "\n",
            "/usr/local/lib/python3.7/dist-packages/sklearn/model_selection/_validation.py:515: DataConversionWarning:\n",
            "\n",
            "A column-vector y was passed when a 1d array was expected. Please change the shape of y to (n_samples,), for example using ravel().\n",
            "\n",
            "/usr/local/lib/python3.7/dist-packages/sklearn/model_selection/_validation.py:515: DataConversionWarning:\n",
            "\n",
            "A column-vector y was passed when a 1d array was expected. Please change the shape of y to (n_samples,), for example using ravel().\n",
            "\n",
            "/usr/local/lib/python3.7/dist-packages/sklearn/model_selection/_validation.py:515: DataConversionWarning:\n",
            "\n",
            "A column-vector y was passed when a 1d array was expected. Please change the shape of y to (n_samples,), for example using ravel().\n",
            "\n",
            "/usr/local/lib/python3.7/dist-packages/sklearn/model_selection/_validation.py:515: DataConversionWarning:\n",
            "\n",
            "A column-vector y was passed when a 1d array was expected. Please change the shape of y to (n_samples,), for example using ravel().\n",
            "\n",
            "/usr/local/lib/python3.7/dist-packages/sklearn/model_selection/_validation.py:515: DataConversionWarning:\n",
            "\n",
            "A column-vector y was passed when a 1d array was expected. Please change the shape of y to (n_samples,), for example using ravel().\n",
            "\n",
            "/usr/local/lib/python3.7/dist-packages/sklearn/model_selection/_validation.py:515: DataConversionWarning:\n",
            "\n",
            "A column-vector y was passed when a 1d array was expected. Please change the shape of y to (n_samples,), for example using ravel().\n",
            "\n",
            "/usr/local/lib/python3.7/dist-packages/sklearn/model_selection/_validation.py:515: DataConversionWarning:\n",
            "\n",
            "A column-vector y was passed when a 1d array was expected. Please change the shape of y to (n_samples,), for example using ravel().\n",
            "\n",
            "/usr/local/lib/python3.7/dist-packages/sklearn/model_selection/_validation.py:515: DataConversionWarning:\n",
            "\n",
            "A column-vector y was passed when a 1d array was expected. Please change the shape of y to (n_samples,), for example using ravel().\n",
            "\n",
            "/usr/local/lib/python3.7/dist-packages/sklearn/model_selection/_validation.py:515: DataConversionWarning:\n",
            "\n",
            "A column-vector y was passed when a 1d array was expected. Please change the shape of y to (n_samples,), for example using ravel().\n",
            "\n",
            "/usr/local/lib/python3.7/dist-packages/sklearn/model_selection/_validation.py:515: DataConversionWarning:\n",
            "\n",
            "A column-vector y was passed when a 1d array was expected. Please change the shape of y to (n_samples,), for example using ravel().\n",
            "\n",
            "/usr/local/lib/python3.7/dist-packages/sklearn/model_selection/_validation.py:515: DataConversionWarning:\n",
            "\n",
            "A column-vector y was passed when a 1d array was expected. Please change the shape of y to (n_samples,), for example using ravel().\n",
            "\n",
            "/usr/local/lib/python3.7/dist-packages/sklearn/model_selection/_validation.py:515: DataConversionWarning:\n",
            "\n",
            "A column-vector y was passed when a 1d array was expected. Please change the shape of y to (n_samples,), for example using ravel().\n",
            "\n",
            "/usr/local/lib/python3.7/dist-packages/sklearn/model_selection/_validation.py:515: DataConversionWarning:\n",
            "\n",
            "A column-vector y was passed when a 1d array was expected. Please change the shape of y to (n_samples,), for example using ravel().\n",
            "\n",
            "/usr/local/lib/python3.7/dist-packages/sklearn/model_selection/_validation.py:515: DataConversionWarning:\n",
            "\n",
            "A column-vector y was passed when a 1d array was expected. Please change the shape of y to (n_samples,), for example using ravel().\n",
            "\n",
            "/usr/local/lib/python3.7/dist-packages/sklearn/model_selection/_validation.py:515: DataConversionWarning:\n",
            "\n",
            "A column-vector y was passed when a 1d array was expected. Please change the shape of y to (n_samples,), for example using ravel().\n",
            "\n",
            "/usr/local/lib/python3.7/dist-packages/sklearn/model_selection/_validation.py:515: DataConversionWarning:\n",
            "\n",
            "A column-vector y was passed when a 1d array was expected. Please change the shape of y to (n_samples,), for example using ravel().\n",
            "\n",
            "/usr/local/lib/python3.7/dist-packages/sklearn/model_selection/_validation.py:515: DataConversionWarning:\n",
            "\n",
            "A column-vector y was passed when a 1d array was expected. Please change the shape of y to (n_samples,), for example using ravel().\n",
            "\n",
            "/usr/local/lib/python3.7/dist-packages/sklearn/model_selection/_validation.py:515: DataConversionWarning:\n",
            "\n",
            "A column-vector y was passed when a 1d array was expected. Please change the shape of y to (n_samples,), for example using ravel().\n",
            "\n",
            "/usr/local/lib/python3.7/dist-packages/sklearn/model_selection/_validation.py:515: DataConversionWarning:\n",
            "\n",
            "A column-vector y was passed when a 1d array was expected. Please change the shape of y to (n_samples,), for example using ravel().\n",
            "\n",
            "/usr/local/lib/python3.7/dist-packages/sklearn/model_selection/_validation.py:515: DataConversionWarning:\n",
            "\n",
            "A column-vector y was passed when a 1d array was expected. Please change the shape of y to (n_samples,), for example using ravel().\n",
            "\n",
            "/usr/local/lib/python3.7/dist-packages/sklearn/model_selection/_validation.py:515: DataConversionWarning:\n",
            "\n",
            "A column-vector y was passed when a 1d array was expected. Please change the shape of y to (n_samples,), for example using ravel().\n",
            "\n",
            "/usr/local/lib/python3.7/dist-packages/sklearn/model_selection/_validation.py:515: DataConversionWarning:\n",
            "\n",
            "A column-vector y was passed when a 1d array was expected. Please change the shape of y to (n_samples,), for example using ravel().\n",
            "\n",
            "/usr/local/lib/python3.7/dist-packages/sklearn/model_selection/_validation.py:515: DataConversionWarning:\n",
            "\n",
            "A column-vector y was passed when a 1d array was expected. Please change the shape of y to (n_samples,), for example using ravel().\n",
            "\n",
            "/usr/local/lib/python3.7/dist-packages/sklearn/model_selection/_validation.py:515: DataConversionWarning:\n",
            "\n",
            "A column-vector y was passed when a 1d array was expected. Please change the shape of y to (n_samples,), for example using ravel().\n",
            "\n",
            "/usr/local/lib/python3.7/dist-packages/sklearn/model_selection/_validation.py:515: DataConversionWarning:\n",
            "\n",
            "A column-vector y was passed when a 1d array was expected. Please change the shape of y to (n_samples,), for example using ravel().\n",
            "\n",
            "/usr/local/lib/python3.7/dist-packages/sklearn/model_selection/_validation.py:515: DataConversionWarning:\n",
            "\n",
            "A column-vector y was passed when a 1d array was expected. Please change the shape of y to (n_samples,), for example using ravel().\n",
            "\n",
            "/usr/local/lib/python3.7/dist-packages/sklearn/model_selection/_validation.py:515: DataConversionWarning:\n",
            "\n",
            "A column-vector y was passed when a 1d array was expected. Please change the shape of y to (n_samples,), for example using ravel().\n",
            "\n",
            "/usr/local/lib/python3.7/dist-packages/sklearn/model_selection/_validation.py:515: DataConversionWarning:\n",
            "\n",
            "A column-vector y was passed when a 1d array was expected. Please change the shape of y to (n_samples,), for example using ravel().\n",
            "\n",
            "/usr/local/lib/python3.7/dist-packages/sklearn/model_selection/_validation.py:515: DataConversionWarning:\n",
            "\n",
            "A column-vector y was passed when a 1d array was expected. Please change the shape of y to (n_samples,), for example using ravel().\n",
            "\n",
            "/usr/local/lib/python3.7/dist-packages/sklearn/model_selection/_validation.py:515: DataConversionWarning:\n",
            "\n",
            "A column-vector y was passed when a 1d array was expected. Please change the shape of y to (n_samples,), for example using ravel().\n",
            "\n",
            "/usr/local/lib/python3.7/dist-packages/sklearn/model_selection/_validation.py:515: DataConversionWarning:\n",
            "\n",
            "A column-vector y was passed when a 1d array was expected. Please change the shape of y to (n_samples,), for example using ravel().\n",
            "\n",
            "/usr/local/lib/python3.7/dist-packages/sklearn/model_selection/_validation.py:515: DataConversionWarning:\n",
            "\n",
            "A column-vector y was passed when a 1d array was expected. Please change the shape of y to (n_samples,), for example using ravel().\n",
            "\n",
            "/usr/local/lib/python3.7/dist-packages/sklearn/model_selection/_validation.py:515: DataConversionWarning:\n",
            "\n",
            "A column-vector y was passed when a 1d array was expected. Please change the shape of y to (n_samples,), for example using ravel().\n",
            "\n",
            "/usr/local/lib/python3.7/dist-packages/sklearn/model_selection/_validation.py:515: DataConversionWarning:\n",
            "\n",
            "A column-vector y was passed when a 1d array was expected. Please change the shape of y to (n_samples,), for example using ravel().\n",
            "\n",
            "/usr/local/lib/python3.7/dist-packages/sklearn/model_selection/_validation.py:515: DataConversionWarning:\n",
            "\n",
            "A column-vector y was passed when a 1d array was expected. Please change the shape of y to (n_samples,), for example using ravel().\n",
            "\n",
            "/usr/local/lib/python3.7/dist-packages/sklearn/model_selection/_validation.py:515: DataConversionWarning:\n",
            "\n",
            "A column-vector y was passed when a 1d array was expected. Please change the shape of y to (n_samples,), for example using ravel().\n",
            "\n",
            "/usr/local/lib/python3.7/dist-packages/sklearn/model_selection/_validation.py:515: DataConversionWarning:\n",
            "\n",
            "A column-vector y was passed when a 1d array was expected. Please change the shape of y to (n_samples,), for example using ravel().\n",
            "\n",
            "/usr/local/lib/python3.7/dist-packages/sklearn/model_selection/_validation.py:515: DataConversionWarning:\n",
            "\n",
            "A column-vector y was passed when a 1d array was expected. Please change the shape of y to (n_samples,), for example using ravel().\n",
            "\n",
            "/usr/local/lib/python3.7/dist-packages/sklearn/model_selection/_validation.py:515: DataConversionWarning:\n",
            "\n",
            "A column-vector y was passed when a 1d array was expected. Please change the shape of y to (n_samples,), for example using ravel().\n",
            "\n",
            "/usr/local/lib/python3.7/dist-packages/sklearn/model_selection/_validation.py:515: DataConversionWarning:\n",
            "\n",
            "A column-vector y was passed when a 1d array was expected. Please change the shape of y to (n_samples,), for example using ravel().\n",
            "\n",
            "/usr/local/lib/python3.7/dist-packages/sklearn/model_selection/_validation.py:515: DataConversionWarning:\n",
            "\n",
            "A column-vector y was passed when a 1d array was expected. Please change the shape of y to (n_samples,), for example using ravel().\n",
            "\n",
            "/usr/local/lib/python3.7/dist-packages/sklearn/model_selection/_validation.py:515: DataConversionWarning:\n",
            "\n",
            "A column-vector y was passed when a 1d array was expected. Please change the shape of y to (n_samples,), for example using ravel().\n",
            "\n",
            "/usr/local/lib/python3.7/dist-packages/sklearn/model_selection/_search.py:739: DataConversionWarning:\n",
            "\n",
            "A column-vector y was passed when a 1d array was expected. Please change the shape of y to (n_samples,), for example using ravel().\n",
            "\n"
          ],
          "name": "stderr"
        },
        {
          "output_type": "execute_result",
          "data": {
            "text/plain": [
              "{'criterion': 'mse',\n",
              " 'max_depth': 8,\n",
              " 'max_features': 'auto',\n",
              " 'n_estimators': 100}"
            ]
          },
          "metadata": {
            "tags": []
          },
          "execution_count": 21
        }
      ]
    },
    {
      "cell_type": "code",
      "metadata": {
        "id": "nfWR3GyG6pcQ"
      },
      "source": [
        "GSCV.best_params_"
      ],
      "execution_count": null,
      "outputs": []
    },
    {
      "cell_type": "code",
      "metadata": {
        "colab": {
          "base_uri": "https://localhost:8080/"
        },
        "id": "oI2og4gf5OgG",
        "outputId": "b0f0478e-6854-447e-b3b3-ad36b17af078"
      },
      "source": [
        "y_pred_val = GSCV.predict(x_val)\n",
        "regression_results(y_val, y_pred_val)"
      ],
      "execution_count": 22,
      "outputs": [
        {
          "output_type": "stream",
          "text": [
            "explained_variance:  0.4504\n",
            "r2:  0.4495\n",
            "MAE:  12.9841\n",
            "MSE:  288.0342\n",
            "RMSE:  16.9716\n"
          ],
          "name": "stdout"
        },
        {
          "output_type": "execute_result",
          "data": {
            "text/plain": [
              "{'MAE': 12.9841,\n",
              " 'MSE': 288.0342,\n",
              " 'RMSE': 16.9716,\n",
              " 'explained_variance': 0.4504,\n",
              " 'r2': 0.4495}"
            ]
          },
          "metadata": {
            "tags": []
          },
          "execution_count": 22
        }
      ]
    },
    {
      "cell_type": "code",
      "metadata": {
        "colab": {
          "base_uri": "https://localhost:8080/"
        },
        "id": "Lf-SW14N8tq1",
        "outputId": "648faca8-7688-4d80-9a34-f5f29d411bd5"
      },
      "source": [
        "y_pred = GSCV.predict(x_test)\n",
        "regression_results(y_test, y_pred)"
      ],
      "execution_count": 23,
      "outputs": [
        {
          "output_type": "stream",
          "text": [
            "explained_variance:  0.445\n",
            "r2:  0.4387\n",
            "MAE:  16.2822\n",
            "MSE:  497.8602\n",
            "RMSE:  22.3128\n"
          ],
          "name": "stdout"
        },
        {
          "output_type": "execute_result",
          "data": {
            "text/plain": [
              "{'MAE': 16.2822,\n",
              " 'MSE': 497.8602,\n",
              " 'RMSE': 22.3128,\n",
              " 'explained_variance': 0.445,\n",
              " 'r2': 0.4387}"
            ]
          },
          "metadata": {
            "tags": []
          },
          "execution_count": 23
        }
      ]
    },
    {
      "cell_type": "code",
      "metadata": {
        "colab": {
          "base_uri": "https://localhost:8080/"
        },
        "id": "Ms1xJTg89o4D",
        "outputId": "79ce3cc0-0cde-4edd-df36-ca87dafd5e7b"
      },
      "source": [
        "y_test_pred =y_pred.reshape(71,1)\n",
        "error =  abs(y_test_pred - y_test)\n",
        "rate = error / y_test\n",
        "s_array = rate[[\"Yield\"]].to_numpy()\n",
        "s_array[~np.isfinite(s_array)] = 0\n",
        "s_array.mean()"
      ],
      "execution_count": 24,
      "outputs": [
        {
          "output_type": "execute_result",
          "data": {
            "text/plain": [
              "0.13400196278291027"
            ]
          },
          "metadata": {
            "tags": []
          },
          "execution_count": 24
        }
      ]
    },
    {
      "cell_type": "markdown",
      "metadata": {
        "id": "2dRRBTzzPTDu"
      },
      "source": [
        "## Polynomial "
      ]
    },
    {
      "cell_type": "code",
      "metadata": {
        "colab": {
          "base_uri": "https://localhost:8080/"
        },
        "id": "8Nt5HuLPPUbd",
        "outputId": "81a5a636-acf7-4ddb-ed83-89739f28b7a0"
      },
      "source": [
        "from sklearn.preprocessing import PolynomialFeatures\n",
        "from sklearn.linear_model import LinearRegression\n",
        "poly_reg = PolynomialFeatures(degree = 3)\n",
        "X_poly = poly_reg.fit_transform(x_train)\n",
        "lin_reg = LinearRegression()\n",
        "lin_reg.fit(X_poly, y_train)\n",
        "y_pred = lin_reg.predict(X_poly)\n",
        "regression_results(y_train, y_pred)"
      ],
      "execution_count": 25,
      "outputs": [
        {
          "output_type": "stream",
          "text": [
            "explained_variance:  1.0\n",
            "r2:  1.0\n",
            "MAE:  0.0\n",
            "MSE:  0.0\n",
            "RMSE:  0.0\n"
          ],
          "name": "stdout"
        },
        {
          "output_type": "execute_result",
          "data": {
            "text/plain": [
              "{'MAE': 0.0, 'MSE': 0.0, 'RMSE': 0.0, 'explained_variance': 1.0, 'r2': 1.0}"
            ]
          },
          "metadata": {
            "tags": []
          },
          "execution_count": 25
        }
      ]
    },
    {
      "cell_type": "markdown",
      "metadata": {
        "id": "nGTZQnBsPXhk"
      },
      "source": [
        "### Polynomial with Tuning on Validation and Test"
      ]
    },
    {
      "cell_type": "code",
      "metadata": {
        "colab": {
          "base_uri": "https://localhost:8080/"
        },
        "id": "avS4CvzhPbCz",
        "outputId": "36f47b26-3c2e-4733-eb78-26578e94905d"
      },
      "source": [
        "from sklearn.model_selection import GridSearchCV\n",
        "from sklearn.pipeline import Pipeline\n",
        "param_grid = [\n",
        "    {'poly__degree': [2, 3, 4]}\n",
        "  ]\n",
        "pipeline = Pipeline(steps=[('poly', PolynomialFeatures()), ('ridge', Ridge())])\n",
        "grid_search = GridSearchCV(pipeline, param_grid, cv=5,\n",
        "                           scoring='neg_mean_squared_error',\n",
        "                           return_train_score=True)\n",
        "grid_search.fit(x_train, y_train)"
      ],
      "execution_count": 26,
      "outputs": [
        {
          "output_type": "stream",
          "text": [
            "/usr/local/lib/python3.7/dist-packages/sklearn/linear_model/_ridge.py:190: UserWarning:\n",
            "\n",
            "Singular matrix in solving dual problem. Using least-squares solution instead.\n",
            "\n",
            "/usr/local/lib/python3.7/dist-packages/sklearn/linear_model/_ridge.py:190: UserWarning:\n",
            "\n",
            "Singular matrix in solving dual problem. Using least-squares solution instead.\n",
            "\n",
            "/usr/local/lib/python3.7/dist-packages/sklearn/linear_model/_ridge.py:190: UserWarning:\n",
            "\n",
            "Singular matrix in solving dual problem. Using least-squares solution instead.\n",
            "\n",
            "/usr/local/lib/python3.7/dist-packages/sklearn/linear_model/_ridge.py:190: UserWarning:\n",
            "\n",
            "Singular matrix in solving dual problem. Using least-squares solution instead.\n",
            "\n",
            "/usr/local/lib/python3.7/dist-packages/sklearn/linear_model/_ridge.py:190: UserWarning:\n",
            "\n",
            "Singular matrix in solving dual problem. Using least-squares solution instead.\n",
            "\n",
            "/usr/local/lib/python3.7/dist-packages/sklearn/linear_model/_ridge.py:190: UserWarning:\n",
            "\n",
            "Singular matrix in solving dual problem. Using least-squares solution instead.\n",
            "\n",
            "/usr/local/lib/python3.7/dist-packages/sklearn/linear_model/_ridge.py:190: UserWarning:\n",
            "\n",
            "Singular matrix in solving dual problem. Using least-squares solution instead.\n",
            "\n",
            "/usr/local/lib/python3.7/dist-packages/sklearn/linear_model/_ridge.py:190: UserWarning:\n",
            "\n",
            "Singular matrix in solving dual problem. Using least-squares solution instead.\n",
            "\n",
            "/usr/local/lib/python3.7/dist-packages/sklearn/linear_model/_ridge.py:190: UserWarning:\n",
            "\n",
            "Singular matrix in solving dual problem. Using least-squares solution instead.\n",
            "\n",
            "/usr/local/lib/python3.7/dist-packages/sklearn/linear_model/_ridge.py:190: UserWarning:\n",
            "\n",
            "Singular matrix in solving dual problem. Using least-squares solution instead.\n",
            "\n",
            "/usr/local/lib/python3.7/dist-packages/sklearn/linear_model/_ridge.py:190: UserWarning:\n",
            "\n",
            "Singular matrix in solving dual problem. Using least-squares solution instead.\n",
            "\n",
            "/usr/local/lib/python3.7/dist-packages/sklearn/linear_model/_ridge.py:190: UserWarning:\n",
            "\n",
            "Singular matrix in solving dual problem. Using least-squares solution instead.\n",
            "\n",
            "/usr/local/lib/python3.7/dist-packages/sklearn/linear_model/_ridge.py:190: UserWarning:\n",
            "\n",
            "Singular matrix in solving dual problem. Using least-squares solution instead.\n",
            "\n",
            "/usr/local/lib/python3.7/dist-packages/sklearn/linear_model/_ridge.py:190: UserWarning:\n",
            "\n",
            "Singular matrix in solving dual problem. Using least-squares solution instead.\n",
            "\n",
            "/usr/local/lib/python3.7/dist-packages/sklearn/linear_model/_ridge.py:190: UserWarning:\n",
            "\n",
            "Singular matrix in solving dual problem. Using least-squares solution instead.\n",
            "\n",
            "/usr/local/lib/python3.7/dist-packages/sklearn/linear_model/_ridge.py:148: LinAlgWarning:\n",
            "\n",
            "Ill-conditioned matrix (rcond=4.105e-18): result may not be accurate.\n",
            "\n"
          ],
          "name": "stderr"
        },
        {
          "output_type": "execute_result",
          "data": {
            "text/plain": [
              "GridSearchCV(cv=5, error_score=nan,\n",
              "             estimator=Pipeline(memory=None,\n",
              "                                steps=[('poly',\n",
              "                                        PolynomialFeatures(degree=2,\n",
              "                                                           include_bias=True,\n",
              "                                                           interaction_only=False,\n",
              "                                                           order='C')),\n",
              "                                       ('ridge',\n",
              "                                        Ridge(alpha=1.0, copy_X=True,\n",
              "                                              fit_intercept=True, max_iter=None,\n",
              "                                              normalize=False,\n",
              "                                              random_state=None, solver='auto',\n",
              "                                              tol=0.001))],\n",
              "                                verbose=False),\n",
              "             iid='deprecated', n_jobs=None,\n",
              "             param_grid=[{'poly__degree': [2, 3, 4]}], pre_dispatch='2*n_jobs',\n",
              "             refit=True, return_train_score=True,\n",
              "             scoring='neg_mean_squared_error', verbose=0)"
            ]
          },
          "metadata": {
            "tags": []
          },
          "execution_count": 26
        }
      ]
    },
    {
      "cell_type": "code",
      "metadata": {
        "colab": {
          "base_uri": "https://localhost:8080/"
        },
        "id": "rvFgycTzAh47",
        "outputId": "1636dd47-2952-48d8-f7c7-be4256b63760"
      },
      "source": [
        "grid_search.best_params_"
      ],
      "execution_count": 27,
      "outputs": [
        {
          "output_type": "execute_result",
          "data": {
            "text/plain": [
              "{'poly__degree': 2}"
            ]
          },
          "metadata": {
            "tags": []
          },
          "execution_count": 27
        }
      ]
    },
    {
      "cell_type": "code",
      "metadata": {
        "colab": {
          "base_uri": "https://localhost:8080/"
        },
        "id": "ZRSX8tkcruT4",
        "outputId": "9908ae13-13aa-4e36-ad1f-3143eb41907a"
      },
      "source": [
        "y_pred_val = grid_search.predict(x_val)\n",
        "regression_results(y_val, y_pred_val)"
      ],
      "execution_count": 28,
      "outputs": [
        {
          "output_type": "stream",
          "text": [
            "explained_variance:  0.1205\n",
            "r2:  0.1204\n",
            "MAE:  16.31\n",
            "MSE:  460.2353\n",
            "RMSE:  21.4531\n"
          ],
          "name": "stdout"
        },
        {
          "output_type": "execute_result",
          "data": {
            "text/plain": [
              "{'MAE': 16.31,\n",
              " 'MSE': 460.2353,\n",
              " 'RMSE': 21.4531,\n",
              " 'explained_variance': 0.1205,\n",
              " 'r2': 0.1204}"
            ]
          },
          "metadata": {
            "tags": []
          },
          "execution_count": 28
        }
      ]
    },
    {
      "cell_type": "code",
      "metadata": {
        "colab": {
          "base_uri": "https://localhost:8080/"
        },
        "id": "eFdHt355_JfQ",
        "outputId": "27dbf6a1-c74e-4a7b-a7c7-1e5bee772e7b"
      },
      "source": [
        "y_pred = grid_search.predict(x_test)\n",
        "regression_results(y_test, y_pred)"
      ],
      "execution_count": 29,
      "outputs": [
        {
          "output_type": "stream",
          "text": [
            "explained_variance:  0.212\n",
            "r2:  0.207\n",
            "MAE:  18.4061\n",
            "MSE:  703.33\n",
            "RMSE:  26.5204\n"
          ],
          "name": "stdout"
        },
        {
          "output_type": "execute_result",
          "data": {
            "text/plain": [
              "{'MAE': 18.4061,\n",
              " 'MSE': 703.33,\n",
              " 'RMSE': 26.5204,\n",
              " 'explained_variance': 0.212,\n",
              " 'r2': 0.207}"
            ]
          },
          "metadata": {
            "tags": []
          },
          "execution_count": 29
        }
      ]
    },
    {
      "cell_type": "code",
      "metadata": {
        "colab": {
          "base_uri": "https://localhost:8080/"
        },
        "id": "816yYmB99yIJ",
        "outputId": "81637d28-308b-4300-8d96-e5082ea7f6dc"
      },
      "source": [
        "y_test_pred =y_pred.reshape(71,1)\n",
        "error =  abs(y_test_pred - y_test)\n",
        "rate = error / y_test\n",
        "s_array = rate[[\"Yield\"]].to_numpy()\n",
        "s_array[~np.isfinite(s_array)] = 0\n",
        "s_array.mean()"
      ],
      "execution_count": 30,
      "outputs": [
        {
          "output_type": "execute_result",
          "data": {
            "text/plain": [
              "0.14940618552872217"
            ]
          },
          "metadata": {
            "tags": []
          },
          "execution_count": 30
        }
      ]
    },
    {
      "cell_type": "markdown",
      "metadata": {
        "id": "oXMoktZBr1ba"
      },
      "source": [
        "##Kernel"
      ]
    },
    {
      "cell_type": "code",
      "metadata": {
        "colab": {
          "base_uri": "https://localhost:8080/"
        },
        "id": "2Q457gDWr3QU",
        "outputId": "17e02921-0ec9-4758-9692-0e5ce6fe3cad"
      },
      "source": [
        "from sklearn.kernel_ridge import KernelRidge\n",
        "#import KernelReg as kr\n",
        "clf = KernelRidge(alpha=1.0)\n",
        "clf.fit(x_train, y_train)\n",
        "KernelRidge(alpha=1.0)\n",
        "\n",
        "# Evaluating the model on the train set\n",
        "y_pred_kernel = clf.predict(x_train)\n",
        "regression_results(y_train, y_pred_kernel)\n",
        "# Evaluating the model on the validation set \n",
        "y_pred_kernel = clf.predict(x_val)\n",
        "regression_results(y_val, y_pred_kernel)\n",
        "# Evaluating the model on the vtest set\n",
        "y_pred_kernel = clf.predict(x_test)\n",
        "regression_results(y_test, y_pred_kernel)"
      ],
      "execution_count": 31,
      "outputs": [
        {
          "output_type": "stream",
          "text": [
            "explained_variance:  0.3645\n",
            "r2:  0.3645\n",
            "MAE:  14.8322\n",
            "MSE:  437.4958\n",
            "RMSE:  20.9164\n",
            "explained_variance:  0.3905\n",
            "r2:  0.3864\n",
            "MAE:  13.6261\n",
            "MSE:  321.052\n",
            "RMSE:  17.9179\n",
            "explained_variance:  0.3322\n",
            "r2:  0.3104\n",
            "MAE:  17.7403\n",
            "MSE:  611.6355\n",
            "RMSE:  24.7313\n"
          ],
          "name": "stdout"
        },
        {
          "output_type": "execute_result",
          "data": {
            "text/plain": [
              "{'MAE': 17.7403,\n",
              " 'MSE': 611.6355,\n",
              " 'RMSE': 24.7313,\n",
              " 'explained_variance': 0.3322,\n",
              " 'r2': 0.3104}"
            ]
          },
          "metadata": {
            "tags": []
          },
          "execution_count": 31
        }
      ]
    },
    {
      "cell_type": "code",
      "metadata": {
        "colab": {
          "base_uri": "https://localhost:8080/"
        },
        "id": "MbvAzDEt92sI",
        "outputId": "71f4ca8a-7975-4587-98e9-5f8cf4287109"
      },
      "source": [
        "y_test_pred =y_pred_kernel.reshape(71,1)\n",
        "error =  abs(y_test_pred - y_test)\n",
        "rate = error / y_test\n",
        "s_array = rate[[\"Yield\"]].to_numpy()\n",
        "s_array[~np.isfinite(s_array)] = 0\n",
        "s_array.mean()"
      ],
      "execution_count": 32,
      "outputs": [
        {
          "output_type": "execute_result",
          "data": {
            "text/plain": [
              "0.14812116436477824"
            ]
          },
          "metadata": {
            "tags": []
          },
          "execution_count": 32
        }
      ]
    },
    {
      "cell_type": "markdown",
      "metadata": {
        "id": "g_CJaIu8r7q-"
      },
      "source": [
        "##Bagging"
      ]
    },
    {
      "cell_type": "code",
      "metadata": {
        "colab": {
          "base_uri": "https://localhost:8080/"
        },
        "id": "1xzo98our9gh",
        "outputId": "655b71ed-93ad-4349-b74a-902604b627c4"
      },
      "source": [
        "from sklearn.svm import SVR\n",
        "from sklearn.ensemble import BaggingRegressor\n",
        "\n",
        "regr = BaggingRegressor(base_estimator=SVR(), n_estimators=10, random_state=0).fit(x_train, y_train)\n",
        "\n",
        "# Evaluating the model on the train set\n",
        "y_pred_bag = regr.predict(x_train)\n",
        "regression_results(y_train, y_pred_bag)"
      ],
      "execution_count": 33,
      "outputs": [
        {
          "output_type": "stream",
          "text": [
            "/usr/local/lib/python3.7/dist-packages/sklearn/ensemble/_bagging.py:399: DataConversionWarning:\n",
            "\n",
            "A column-vector y was passed when a 1d array was expected. Please change the shape of y to (n_samples, ), for example using ravel().\n",
            "\n"
          ],
          "name": "stderr"
        },
        {
          "output_type": "stream",
          "text": [
            "explained_variance:  0.0124\n",
            "r2:  0.005\n",
            "MAE:  19.3811\n",
            "MSE:  685.0458\n",
            "RMSE:  26.1734\n"
          ],
          "name": "stdout"
        },
        {
          "output_type": "execute_result",
          "data": {
            "text/plain": [
              "{'MAE': 19.3811,\n",
              " 'MSE': 685.0458,\n",
              " 'RMSE': 26.1734,\n",
              " 'explained_variance': 0.0124,\n",
              " 'r2': 0.005}"
            ]
          },
          "metadata": {
            "tags": []
          },
          "execution_count": 33
        }
      ]
    },
    {
      "cell_type": "markdown",
      "metadata": {
        "id": "v1ASOoHQ_k4U"
      },
      "source": [
        "### Bagging on Validation and Test"
      ]
    },
    {
      "cell_type": "code",
      "metadata": {
        "colab": {
          "base_uri": "https://localhost:8080/"
        },
        "id": "5EQ7azH8C0zR",
        "outputId": "4761e2ca-cb86-4bc3-f9b2-def0cf58d13f"
      },
      "source": [
        "from sklearn.neighbors import KNeighborsRegressor\n",
        "from sklearn.model_selection import GridSearchCV\n",
        "params = {'base_estimator': [None, LinearRegression(), KNeighborsRegressor(), SVR()],\n",
        "          'n_estimators': [20,50,100],\n",
        "          'bootstrap': [True, False],\n",
        "          'bootstrap_features': [True, False]}\n",
        "\n",
        "bagging_regressor_grid = GridSearchCV(BaggingRegressor(random_state=1, n_jobs=-1), param_grid =params, cv=3, n_jobs=-1, verbose=1)\n",
        "bagging_regressor_grid.fit(x_train, y_train)"
      ],
      "execution_count": 34,
      "outputs": [
        {
          "output_type": "stream",
          "text": [
            "Fitting 3 folds for each of 48 candidates, totalling 144 fits\n"
          ],
          "name": "stdout"
        },
        {
          "output_type": "stream",
          "text": [
            "[Parallel(n_jobs=-1)]: Using backend LokyBackend with 2 concurrent workers.\n",
            "[Parallel(n_jobs=-1)]: Done  46 tasks      | elapsed:   16.3s\n",
            "[Parallel(n_jobs=-1)]: Done 144 out of 144 | elapsed:   47.2s finished\n",
            "/usr/local/lib/python3.7/dist-packages/sklearn/ensemble/_bagging.py:399: DataConversionWarning:\n",
            "\n",
            "A column-vector y was passed when a 1d array was expected. Please change the shape of y to (n_samples, ), for example using ravel().\n",
            "\n"
          ],
          "name": "stderr"
        },
        {
          "output_type": "execute_result",
          "data": {
            "text/plain": [
              "GridSearchCV(cv=3, error_score=nan,\n",
              "             estimator=BaggingRegressor(base_estimator=None, bootstrap=True,\n",
              "                                        bootstrap_features=False,\n",
              "                                        max_features=1.0, max_samples=1.0,\n",
              "                                        n_estimators=10, n_jobs=-1,\n",
              "                                        oob_score=False, random_state=1,\n",
              "                                        verbose=0, warm_start=False),\n",
              "             iid='deprecated', n_jobs=-1,\n",
              "             param_grid={'base_estimator': [None,\n",
              "                                            LinearRegression(copy_X=True,\n",
              "                                                             fit_intercept=True,\n",
              "                                                             n...\n",
              "                                                                n_jobs=None,\n",
              "                                                                n_neighbors=5,\n",
              "                                                                p=2,\n",
              "                                                                weights='uniform'),\n",
              "                                            SVR(C=1.0, cache_size=200,\n",
              "                                                coef0=0.0, degree=3,\n",
              "                                                epsilon=0.1, gamma='scale',\n",
              "                                                kernel='rbf', max_iter=-1,\n",
              "                                                shrinking=True, tol=0.001,\n",
              "                                                verbose=False)],\n",
              "                         'bootstrap': [True, False],\n",
              "                         'bootstrap_features': [True, False],\n",
              "                         'n_estimators': [20, 50, 100]},\n",
              "             pre_dispatch='2*n_jobs', refit=True, return_train_score=False,\n",
              "             scoring=None, verbose=1)"
            ]
          },
          "metadata": {
            "tags": []
          },
          "execution_count": 34
        }
      ]
    },
    {
      "cell_type": "code",
      "metadata": {
        "colab": {
          "base_uri": "https://localhost:8080/"
        },
        "id": "Y7A2a15ZsMGa",
        "outputId": "69ceec13-4d0a-439a-bc48-2aed0320556f"
      },
      "source": [
        "y_pred_bag_val = bagging_regressor_grid.predict(x_val)\n",
        "regression_results(y_val, y_pred_bag_val)"
      ],
      "execution_count": 35,
      "outputs": [
        {
          "output_type": "stream",
          "text": [
            "explained_variance:  0.4367\n",
            "r2:  0.4358\n",
            "MAE:  13.1159\n",
            "MSE:  295.2059\n",
            "RMSE:  17.1816\n"
          ],
          "name": "stdout"
        },
        {
          "output_type": "execute_result",
          "data": {
            "text/plain": [
              "{'MAE': 13.1159,\n",
              " 'MSE': 295.2059,\n",
              " 'RMSE': 17.1816,\n",
              " 'explained_variance': 0.4367,\n",
              " 'r2': 0.4358}"
            ]
          },
          "metadata": {
            "tags": []
          },
          "execution_count": 35
        }
      ]
    },
    {
      "cell_type": "code",
      "metadata": {
        "colab": {
          "base_uri": "https://localhost:8080/"
        },
        "id": "mRZiPLASDmAl",
        "outputId": "2b0c8491-a0c8-4986-a7ce-049ce08ab245"
      },
      "source": [
        "y_pred_bag_test = bagging_regressor_grid.predict(x_test)\n",
        "regression_results(y_test, y_pred_bag_test)"
      ],
      "execution_count": 36,
      "outputs": [
        {
          "output_type": "stream",
          "text": [
            "explained_variance:  0.4121\n",
            "r2:  0.4089\n",
            "MAE:  16.9908\n",
            "MSE:  524.2851\n",
            "RMSE:  22.8973\n"
          ],
          "name": "stdout"
        },
        {
          "output_type": "execute_result",
          "data": {
            "text/plain": [
              "{'MAE': 16.9908,\n",
              " 'MSE': 524.2851,\n",
              " 'RMSE': 22.8973,\n",
              " 'explained_variance': 0.4121,\n",
              " 'r2': 0.4089}"
            ]
          },
          "metadata": {
            "tags": []
          },
          "execution_count": 36
        }
      ]
    },
    {
      "cell_type": "code",
      "metadata": {
        "id": "EylU3slU_2Qy",
        "colab": {
          "base_uri": "https://localhost:8080/"
        },
        "outputId": "089f95aa-a9b2-46fa-a063-abdd95dee172"
      },
      "source": [
        "y_test_pred =y_pred_bag_test.reshape(71,1)\n",
        "error =  abs(y_test_pred - y_test)\n",
        "rate = error / y_test\n",
        "s_array = rate[[\"Yield\"]].to_numpy()\n",
        "s_array[~np.isfinite(s_array)] = 0\n",
        "s_array.mean()"
      ],
      "execution_count": 37,
      "outputs": [
        {
          "output_type": "execute_result",
          "data": {
            "text/plain": [
              "0.13909985747896228"
            ]
          },
          "metadata": {
            "tags": []
          },
          "execution_count": 37
        }
      ]
    },
    {
      "cell_type": "markdown",
      "metadata": {
        "id": "bGuM0A_09VqT"
      },
      "source": [
        "# Growing Season Standardized"
      ]
    },
    {
      "cell_type": "code",
      "metadata": {
        "colab": {
          "base_uri": "https://localhost:8080/",
          "height": 279
        },
        "id": "RR_WvMWBPDLu",
        "outputId": "8144b722-a4c2-486a-b411-5113801d67d8"
      },
      "source": [
        "# Standardize\n",
        "sc = StandardScaler()\n",
        "gs_final_ml_num = GS.select_dtypes('number')\n",
        "gs_fin_sc = sc.fit_transform(gs_final_ml_num)\n",
        "gs_fin_sc = pd.DataFrame(gs_fin_sc, columns=gs_final_ml_num.columns, index=gs_final_ml_num.index)\n",
        "print(gs_fin_sc.shape)\n",
        "gs_fin_sc.head()"
      ],
      "execution_count": 16,
      "outputs": [
        {
          "output_type": "stream",
          "text": [
            "(703, 39)\n"
          ],
          "name": "stdout"
        },
        {
          "output_type": "execute_result",
          "data": {
            "text/html": [
              "<div>\n",
              "<style scoped>\n",
              "    .dataframe tbody tr th:only-of-type {\n",
              "        vertical-align: middle;\n",
              "    }\n",
              "\n",
              "    .dataframe tbody tr th {\n",
              "        vertical-align: top;\n",
              "    }\n",
              "\n",
              "    .dataframe thead th {\n",
              "        text-align: right;\n",
              "    }\n",
              "</style>\n",
              "<table border=\"1\" class=\"dataframe\">\n",
              "  <thead>\n",
              "    <tr style=\"text-align: right;\">\n",
              "      <th></th>\n",
              "      <th>Year</th>\n",
              "      <th>ADSCI_yr</th>\n",
              "      <th>Yield</th>\n",
              "      <th>Acres_Planted</th>\n",
              "      <th>ADSCI_gs</th>\n",
              "      <th>Ag District Code</th>\n",
              "      <th>County ANSI</th>\n",
              "      <th>Value</th>\n",
              "      <th>avg_precip_count</th>\n",
              "      <th>avg_precip_mean</th>\n",
              "      <th>avg_precip_std</th>\n",
              "      <th>avg_precip_min</th>\n",
              "      <th>avg_precip_25%</th>\n",
              "      <th>avg_precip_50%</th>\n",
              "      <th>avg_precip_75%</th>\n",
              "      <th>avg_precip_max</th>\n",
              "      <th>avg_temp_count</th>\n",
              "      <th>avg_temp_mean</th>\n",
              "      <th>avg_temp_std</th>\n",
              "      <th>avg_temp_min</th>\n",
              "      <th>avg_temp_25%</th>\n",
              "      <th>avg_temp_50%</th>\n",
              "      <th>avg_temp_75%</th>\n",
              "      <th>avg_temp_max</th>\n",
              "      <th>max_temp_count</th>\n",
              "      <th>max_temp_mean</th>\n",
              "      <th>max_temp_std</th>\n",
              "      <th>max_temp_min</th>\n",
              "      <th>max_temp_25%</th>\n",
              "      <th>max_temp_50%</th>\n",
              "      <th>max_temp_75%</th>\n",
              "      <th>max_temp_max</th>\n",
              "      <th>EDDI_6</th>\n",
              "      <th>EDDI_5</th>\n",
              "      <th>PDSI</th>\n",
              "      <th>SPI_180</th>\n",
              "      <th>SPEI_180</th>\n",
              "      <th>SPI_90</th>\n",
              "      <th>SPEI_90</th>\n",
              "    </tr>\n",
              "  </thead>\n",
              "  <tbody>\n",
              "    <tr>\n",
              "      <th>0</th>\n",
              "      <td>-1.45493</td>\n",
              "      <td>1.816667</td>\n",
              "      <td>-1.751462</td>\n",
              "      <td>-1.104774</td>\n",
              "      <td>0.771847</td>\n",
              "      <td>0.162443</td>\n",
              "      <td>-1.635911</td>\n",
              "      <td>-1.104774</td>\n",
              "      <td>0.037743</td>\n",
              "      <td>-0.325891</td>\n",
              "      <td>-0.258403</td>\n",
              "      <td>-0.768154</td>\n",
              "      <td>-0.040541</td>\n",
              "      <td>0.135345</td>\n",
              "      <td>-0.070029</td>\n",
              "      <td>-0.567528</td>\n",
              "      <td>0.0</td>\n",
              "      <td>0.023302</td>\n",
              "      <td>1.339000</td>\n",
              "      <td>-1.119950</td>\n",
              "      <td>0.446692</td>\n",
              "      <td>-0.110404</td>\n",
              "      <td>1.034553</td>\n",
              "      <td>0.411279</td>\n",
              "      <td>0.0</td>\n",
              "      <td>0.589097</td>\n",
              "      <td>1.396374</td>\n",
              "      <td>-0.954955</td>\n",
              "      <td>0.930490</td>\n",
              "      <td>0.207458</td>\n",
              "      <td>1.689142</td>\n",
              "      <td>0.854181</td>\n",
              "      <td>1.011531</td>\n",
              "      <td>0.903758</td>\n",
              "      <td>-2.599431</td>\n",
              "      <td>-1.651270</td>\n",
              "      <td>-1.703223</td>\n",
              "      <td>-1.034304</td>\n",
              "      <td>-1.095954</td>\n",
              "    </tr>\n",
              "    <tr>\n",
              "      <th>1</th>\n",
              "      <td>-1.45493</td>\n",
              "      <td>-0.099201</td>\n",
              "      <td>-1.101707</td>\n",
              "      <td>-0.598970</td>\n",
              "      <td>-0.128116</td>\n",
              "      <td>0.672482</td>\n",
              "      <td>-1.581274</td>\n",
              "      <td>-0.598970</td>\n",
              "      <td>0.037743</td>\n",
              "      <td>-0.316316</td>\n",
              "      <td>0.187006</td>\n",
              "      <td>-0.586055</td>\n",
              "      <td>-0.735664</td>\n",
              "      <td>-0.379423</td>\n",
              "      <td>0.327272</td>\n",
              "      <td>-0.259964</td>\n",
              "      <td>0.0</td>\n",
              "      <td>-1.663964</td>\n",
              "      <td>1.183606</td>\n",
              "      <td>-2.146814</td>\n",
              "      <td>-0.343775</td>\n",
              "      <td>-0.831880</td>\n",
              "      <td>-0.974607</td>\n",
              "      <td>-1.261979</td>\n",
              "      <td>0.0</td>\n",
              "      <td>-0.010525</td>\n",
              "      <td>1.318721</td>\n",
              "      <td>-1.447102</td>\n",
              "      <td>1.177297</td>\n",
              "      <td>0.183126</td>\n",
              "      <td>0.631002</td>\n",
              "      <td>0.142145</td>\n",
              "      <td>0.618899</td>\n",
              "      <td>0.584764</td>\n",
              "      <td>-1.314294</td>\n",
              "      <td>-0.176175</td>\n",
              "      <td>-0.376075</td>\n",
              "      <td>-0.137718</td>\n",
              "      <td>-0.263351</td>\n",
              "    </tr>\n",
              "    <tr>\n",
              "      <th>2</th>\n",
              "      <td>-1.45493</td>\n",
              "      <td>0.534223</td>\n",
              "      <td>-0.719498</td>\n",
              "      <td>-0.930151</td>\n",
              "      <td>0.247988</td>\n",
              "      <td>1.182520</td>\n",
              "      <td>-1.472001</td>\n",
              "      <td>-0.930151</td>\n",
              "      <td>0.037743</td>\n",
              "      <td>-0.146066</td>\n",
              "      <td>1.195492</td>\n",
              "      <td>-1.501010</td>\n",
              "      <td>-1.490291</td>\n",
              "      <td>0.861622</td>\n",
              "      <td>0.441732</td>\n",
              "      <td>0.175222</td>\n",
              "      <td>0.0</td>\n",
              "      <td>-0.358553</td>\n",
              "      <td>1.603037</td>\n",
              "      <td>-1.647998</td>\n",
              "      <td>0.402258</td>\n",
              "      <td>-0.007951</td>\n",
              "      <td>0.766392</td>\n",
              "      <td>-0.099809</td>\n",
              "      <td>0.0</td>\n",
              "      <td>0.630280</td>\n",
              "      <td>1.689318</td>\n",
              "      <td>-1.273155</td>\n",
              "      <td>1.300488</td>\n",
              "      <td>0.437816</td>\n",
              "      <td>1.516826</td>\n",
              "      <td>1.051242</td>\n",
              "      <td>1.045789</td>\n",
              "      <td>0.990621</td>\n",
              "      <td>-1.964643</td>\n",
              "      <td>-0.774232</td>\n",
              "      <td>-1.108214</td>\n",
              "      <td>-0.621583</td>\n",
              "      <td>-0.911203</td>\n",
              "    </tr>\n",
              "    <tr>\n",
              "      <th>3</th>\n",
              "      <td>-1.45493</td>\n",
              "      <td>-0.371814</td>\n",
              "      <td>-0.451952</td>\n",
              "      <td>-0.213595</td>\n",
              "      <td>-0.268755</td>\n",
              "      <td>0.672482</td>\n",
              "      <td>-1.417365</td>\n",
              "      <td>-0.213595</td>\n",
              "      <td>0.037743</td>\n",
              "      <td>0.474335</td>\n",
              "      <td>-0.033727</td>\n",
              "      <td>-0.098078</td>\n",
              "      <td>1.270390</td>\n",
              "      <td>0.526978</td>\n",
              "      <td>0.363596</td>\n",
              "      <td>0.130975</td>\n",
              "      <td>0.0</td>\n",
              "      <td>-1.214156</td>\n",
              "      <td>1.351107</td>\n",
              "      <td>-2.043789</td>\n",
              "      <td>0.148383</td>\n",
              "      <td>-0.487496</td>\n",
              "      <td>-0.626047</td>\n",
              "      <td>-0.798053</td>\n",
              "      <td>0.0</td>\n",
              "      <td>-0.244083</td>\n",
              "      <td>1.369975</td>\n",
              "      <td>-1.612034</td>\n",
              "      <td>1.017011</td>\n",
              "      <td>0.064381</td>\n",
              "      <td>0.375256</td>\n",
              "      <td>0.035939</td>\n",
              "      <td>0.478849</td>\n",
              "      <td>0.455794</td>\n",
              "      <td>-1.544642</td>\n",
              "      <td>-0.140841</td>\n",
              "      <td>-0.345789</td>\n",
              "      <td>-0.005139</td>\n",
              "      <td>-0.095649</td>\n",
              "    </tr>\n",
              "    <tr>\n",
              "      <th>4</th>\n",
              "      <td>-1.45493</td>\n",
              "      <td>-0.216025</td>\n",
              "      <td>-1.331032</td>\n",
              "      <td>2.321447</td>\n",
              "      <td>0.008226</td>\n",
              "      <td>-0.347595</td>\n",
              "      <td>-1.362728</td>\n",
              "      <td>2.321447</td>\n",
              "      <td>0.037743</td>\n",
              "      <td>-0.299868</td>\n",
              "      <td>0.712970</td>\n",
              "      <td>-0.829819</td>\n",
              "      <td>-1.564903</td>\n",
              "      <td>0.155524</td>\n",
              "      <td>0.454976</td>\n",
              "      <td>-0.096064</td>\n",
              "      <td>0.0</td>\n",
              "      <td>0.529729</td>\n",
              "      <td>1.749735</td>\n",
              "      <td>-1.348124</td>\n",
              "      <td>1.747380</td>\n",
              "      <td>0.337348</td>\n",
              "      <td>1.343270</td>\n",
              "      <td>0.734966</td>\n",
              "      <td>0.0</td>\n",
              "      <td>0.633906</td>\n",
              "      <td>1.925031</td>\n",
              "      <td>-1.540268</td>\n",
              "      <td>1.445856</td>\n",
              "      <td>0.780662</td>\n",
              "      <td>1.589307</td>\n",
              "      <td>0.911703</td>\n",
              "      <td>0.705233</td>\n",
              "      <td>0.726768</td>\n",
              "      <td>-2.178327</td>\n",
              "      <td>-0.830946</td>\n",
              "      <td>-1.132680</td>\n",
              "      <td>-0.788495</td>\n",
              "      <td>-1.029041</td>\n",
              "    </tr>\n",
              "  </tbody>\n",
              "</table>\n",
              "</div>"
            ],
            "text/plain": [
              "      Year  ADSCI_yr     Yield  ...  SPEI_180    SPI_90   SPEI_90\n",
              "0 -1.45493  1.816667 -1.751462  ... -1.703223 -1.034304 -1.095954\n",
              "1 -1.45493 -0.099201 -1.101707  ... -0.376075 -0.137718 -0.263351\n",
              "2 -1.45493  0.534223 -0.719498  ... -1.108214 -0.621583 -0.911203\n",
              "3 -1.45493 -0.371814 -0.451952  ... -0.345789 -0.005139 -0.095649\n",
              "4 -1.45493 -0.216025 -1.331032  ... -1.132680 -0.788495 -1.029041\n",
              "\n",
              "[5 rows x 39 columns]"
            ]
          },
          "metadata": {
            "tags": []
          },
          "execution_count": 16
        }
      ]
    },
    {
      "cell_type": "markdown",
      "metadata": {
        "id": "UPyKvpDmNRQA"
      },
      "source": [
        "### Linear Regression"
      ]
    },
    {
      "cell_type": "code",
      "metadata": {
        "id": "ovA7QAH5ipBV"
      },
      "source": [
        "# Split the data frame\n",
        "train_ratio = 0.75\n",
        "validation_ratio = 0.15\n",
        "test_ratio = 0.10\n",
        "\n",
        "# train is now 75% of the entire data set\n",
        "x_train, x_test, y_train, y_test = train_test_split(gs_fin_sc[['ADSCI_yr', \n",
        "                                                        'avg_precip_std',\t'avg_precip_min' ,\t'avg_precip_25%' ,\t'avg_precip_50%', \n",
        "                                                        'avg_precip_75%', 'avg_precip_max',\t'avg_temp_count', 'avg_temp_mean' ,\n",
        "                                                        \t'avg_temp_std' ,\t'avg_temp_min' ,\t'avg_temp_25%' ,\t'avg_temp_50%' ,\n",
        "                                                        'avg_temp_75%',\t'avg_temp_max', \t'max_temp_count' \t,'max_temp_mean' ,\t'max_temp_std', \t\n",
        "                                                        'max_temp_min', \t'max_temp_25%', \t'max_temp_50%' ,\t\n",
        "                                                        'max_temp_75%' \t,'max_temp_max', 'EDDI_5', 'EDDI_6', 'SPI_90', 'SPI_180', 'SPEI_90', 'SPEI_180', 'PDSI']],\n",
        "                                                    gs_fin_sc[['Yield']], \n",
        "                                                    test_size=1 - train_ratio, \n",
        "                                                    random_state = 0)\n",
        "\n",
        "# test is now 10% of the initial data set\n",
        "# validation is now 15% of the initial data set\n",
        "x_val, x_test, y_val, y_test = train_test_split(x_test, y_test, \n",
        "                                                test_size=test_ratio/(test_ratio + validation_ratio), \n",
        "                                                random_state = 0)"
      ],
      "execution_count": 17,
      "outputs": []
    },
    {
      "cell_type": "code",
      "metadata": {
        "colab": {
          "base_uri": "https://localhost:8080/"
        },
        "id": "R16BsqlUN7W9",
        "outputId": "ee4d0dc8-a7a0-4c6f-8442-8e49a50c3370"
      },
      "source": [
        "# Fit the model\n",
        "lr = LinearRegression()\n",
        "lr.fit(x_train, y_train)\n",
        "print(f'Intercept is: {lr.intercept_}')\n",
        "print(f'Coefficient of the predictor is: {lr.coef_}')"
      ],
      "execution_count": 18,
      "outputs": [
        {
          "output_type": "stream",
          "text": [
            "Intercept is: [0.01934446]\n",
            "Coefficient of the predictor is: [[-2.33381788e-01  1.65272392e-01  8.89730506e-02  8.56281426e-02\n",
            "  -5.91432773e-02 -1.36651979e-01 -3.31622796e-01 -1.03868206e+10\n",
            "  -3.88638991e+12 -8.72224796e-01  1.47438405e+12  9.71984517e+11\n",
            "   9.46071974e+11  9.78438569e+11  9.72147526e+11 -2.80469665e+10\n",
            "  -1.35810887e+12  1.59861112e-01  5.38017443e+11  3.62262334e+11\n",
            "   3.54269383e+11  3.50355476e+11  3.64633323e+11 -1.58720458e-01\n",
            "   7.86733944e-01 -1.06194783e+00  5.22255990e-01  1.86821641e+00\n",
            "  -1.18760611e+00  3.13384900e-01]]\n"
          ],
          "name": "stdout"
        }
      ]
    },
    {
      "cell_type": "code",
      "metadata": {
        "colab": {
          "base_uri": "https://localhost:8080/"
        },
        "id": "jviz8UIxON9x",
        "outputId": "8fa90b3b-15ba-442f-9fc7-6a6b021fe8ec"
      },
      "source": [
        "# predicting and obtaining Metrics on the Train set\n",
        "y_train_pred = lr.predict(x_train)\n",
        "r1 = regression_results(y_train, y_train_pred)"
      ],
      "execution_count": 19,
      "outputs": [
        {
          "output_type": "stream",
          "text": [
            "explained_variance:  0.3787\n",
            "r2:  0.3787\n",
            "MAE:  0.5581\n",
            "MSE:  0.6249\n",
            "RMSE:  0.7905\n"
          ],
          "name": "stdout"
        }
      ]
    },
    {
      "cell_type": "code",
      "metadata": {
        "colab": {
          "base_uri": "https://localhost:8080/"
        },
        "id": "EMAxyAs8ORsf",
        "outputId": "4b031426-9e06-43c8-865a-2c305eb8742f"
      },
      "source": [
        "# Predict on Validation set\n",
        "y_val_pred = lr.predict(x_val)\n",
        "# Metrics obtained on the validation set\n",
        "r2 = regression_results(y_val, y_val_pred)"
      ],
      "execution_count": 20,
      "outputs": [
        {
          "output_type": "stream",
          "text": [
            "explained_variance:  0.4253\n",
            "r2:  0.4212\n",
            "MAE:  0.5147\n",
            "MSE:  0.4424\n",
            "RMSE:  0.6652\n"
          ],
          "name": "stdout"
        }
      ]
    },
    {
      "cell_type": "code",
      "metadata": {
        "colab": {
          "base_uri": "https://localhost:8080/"
        },
        "id": "leJq8ptUfL0N",
        "outputId": "cd607856-12e7-4e1b-e5ed-8b8de8c18bc1"
      },
      "source": [
        "y_test_pred = lr.predict(x_test)\n",
        "# Metrics obtained on the validation set\n",
        "r2 = regression_results(y_test, y_test_pred)"
      ],
      "execution_count": 21,
      "outputs": [
        {
          "output_type": "stream",
          "text": [
            "explained_variance:  0.353\n",
            "r2:  0.3283\n",
            "MAE:  0.6702\n",
            "MSE:  0.8703\n",
            "RMSE:  0.9329\n"
          ],
          "name": "stdout"
        }
      ]
    },
    {
      "cell_type": "code",
      "metadata": {
        "colab": {
          "base_uri": "https://localhost:8080/"
        },
        "id": "cotklbue-Nmy",
        "outputId": "fae2c894-7f74-4067-f08c-9f7ffcc6bbf5"
      },
      "source": [
        "y_test_pred =y_test_pred.reshape(71,1)\n",
        "error =  abs(y_test_pred - y_test)\n",
        "rate = error / y_test\n",
        "s_array = rate[[\"Yield\"]].to_numpy()\n",
        "s_array[~np.isfinite(s_array)] = 0\n",
        "s_array.mean()"
      ],
      "execution_count": 22,
      "outputs": [
        {
          "output_type": "execute_result",
          "data": {
            "text/plain": [
              "0.711542369655409"
            ]
          },
          "metadata": {
            "tags": []
          },
          "execution_count": 22
        }
      ]
    },
    {
      "cell_type": "markdown",
      "metadata": {
        "id": "gbhc3pC5Pkok"
      },
      "source": [
        "## Random Forest Regressor"
      ]
    },
    {
      "cell_type": "code",
      "metadata": {
        "colab": {
          "base_uri": "https://localhost:8080/"
        },
        "id": "pbHKAUx4Od1t",
        "outputId": "87ce9fd4-98c1-4fc9-fc96-d7cbb3f376fb"
      },
      "source": [
        "lr = RandomForestRegressor()\n",
        "lr.fit(x_train, y_train)"
      ],
      "execution_count": 23,
      "outputs": [
        {
          "output_type": "stream",
          "text": [
            "/usr/local/lib/python3.7/dist-packages/ipykernel_launcher.py:2: DataConversionWarning:\n",
            "\n",
            "A column-vector y was passed when a 1d array was expected. Please change the shape of y to (n_samples,), for example using ravel().\n",
            "\n"
          ],
          "name": "stderr"
        },
        {
          "output_type": "execute_result",
          "data": {
            "text/plain": [
              "RandomForestRegressor(bootstrap=True, ccp_alpha=0.0, criterion='mse',\n",
              "                      max_depth=None, max_features='auto', max_leaf_nodes=None,\n",
              "                      max_samples=None, min_impurity_decrease=0.0,\n",
              "                      min_impurity_split=None, min_samples_leaf=1,\n",
              "                      min_samples_split=2, min_weight_fraction_leaf=0.0,\n",
              "                      n_estimators=100, n_jobs=None, oob_score=False,\n",
              "                      random_state=None, verbose=0, warm_start=False)"
            ]
          },
          "metadata": {
            "tags": []
          },
          "execution_count": 23
        }
      ]
    },
    {
      "cell_type": "code",
      "metadata": {
        "colab": {
          "base_uri": "https://localhost:8080/"
        },
        "id": "kkGC8nbcPtbJ",
        "outputId": "9a0cbe85-4fd4-453e-ee89-8c14b39b5a5c"
      },
      "source": [
        "# predicting and obtaining Metrics on the Train set\n",
        "y_train_pred = lr.predict(x_train)\n",
        "regression_results(y_train, y_train_pred)"
      ],
      "execution_count": 24,
      "outputs": [
        {
          "output_type": "stream",
          "text": [
            "explained_variance:  0.9128\n",
            "r2:  0.9127\n",
            "MAE:  0.2074\n",
            "MSE:  0.0877\n",
            "RMSE:  0.2962\n"
          ],
          "name": "stdout"
        },
        {
          "output_type": "execute_result",
          "data": {
            "text/plain": [
              "{'MAE': 0.2074,\n",
              " 'MSE': 0.0877,\n",
              " 'RMSE': 0.2962,\n",
              " 'explained_variance': 0.9128,\n",
              " 'r2': 0.9127}"
            ]
          },
          "metadata": {
            "tags": []
          },
          "execution_count": 24
        }
      ]
    },
    {
      "cell_type": "code",
      "metadata": {
        "colab": {
          "base_uri": "https://localhost:8080/",
          "height": 188
        },
        "id": "xbEDKEQ18CsD",
        "outputId": "f4261c30-7c0d-4b1d-e230-36391254e355"
      },
      "source": [
        "shap_values = shap.TreeExplainer(lr).shap_values(x_train)\n",
        "shap.summary_plot(shap_values, x_train, plot_type=\"bar\")"
      ],
      "execution_count": 25,
      "outputs": [
        {
          "output_type": "error",
          "ename": "NameError",
          "evalue": "ignored",
          "traceback": [
            "\u001b[0;31m---------------------------------------------------------------------------\u001b[0m",
            "\u001b[0;31mNameError\u001b[0m                                 Traceback (most recent call last)",
            "\u001b[0;32m<ipython-input-25-c0f8c5e9125a>\u001b[0m in \u001b[0;36m<module>\u001b[0;34m()\u001b[0m\n\u001b[0;32m----> 1\u001b[0;31m \u001b[0mshap_values\u001b[0m \u001b[0;34m=\u001b[0m \u001b[0mshap\u001b[0m\u001b[0;34m.\u001b[0m\u001b[0mTreeExplainer\u001b[0m\u001b[0;34m(\u001b[0m\u001b[0mlr\u001b[0m\u001b[0;34m)\u001b[0m\u001b[0;34m.\u001b[0m\u001b[0mshap_values\u001b[0m\u001b[0;34m(\u001b[0m\u001b[0mx_train\u001b[0m\u001b[0;34m)\u001b[0m\u001b[0;34m\u001b[0m\u001b[0;34m\u001b[0m\u001b[0m\n\u001b[0m\u001b[1;32m      2\u001b[0m \u001b[0mshap\u001b[0m\u001b[0;34m.\u001b[0m\u001b[0msummary_plot\u001b[0m\u001b[0;34m(\u001b[0m\u001b[0mshap_values\u001b[0m\u001b[0;34m,\u001b[0m \u001b[0mx_train\u001b[0m\u001b[0;34m,\u001b[0m \u001b[0mplot_type\u001b[0m\u001b[0;34m=\u001b[0m\u001b[0;34m\"bar\"\u001b[0m\u001b[0;34m)\u001b[0m\u001b[0;34m\u001b[0m\u001b[0;34m\u001b[0m\u001b[0m\n",
            "\u001b[0;31mNameError\u001b[0m: name 'shap' is not defined"
          ]
        }
      ]
    },
    {
      "cell_type": "code",
      "metadata": {
        "id": "gmOYJZLdktyu"
      },
      "source": [
        "# get importance\n",
        "importance = lr.feature_importances_\n",
        "# summarize feature importance\n",
        "for i,v in enumerate(importance):\n",
        "\tprint('Feature: %0d, Score: %.5f' % (i,v))\n",
        "# plot feature importance\n",
        "plt.bar([x for x in range(len(importance))], importance)\n",
        "plt.title(\"Feature Importance Random Forest Regressor Growing Season Standardized\")\n",
        "plt.show()"
      ],
      "execution_count": null,
      "outputs": []
    },
    {
      "cell_type": "code",
      "metadata": {
        "id": "LwaD2CoJnthn"
      },
      "source": [
        "\n",
        "explainer = shap.Explainer(lr, x_train)\n",
        "shap_values = explainer(x_train)\n",
        "\n",
        "shap.plots.beeswarm(shap_values)"
      ],
      "execution_count": null,
      "outputs": []
    },
    {
      "cell_type": "markdown",
      "metadata": {
        "id": "8ADgrokERFcN"
      },
      "source": [
        "### Random Forest Regressor Validation Tuned"
      ]
    },
    {
      "cell_type": "code",
      "metadata": {
        "colab": {
          "base_uri": "https://localhost:8080/"
        },
        "id": "RtXdZBcTQeXy",
        "outputId": "94afb421-f576-4073-9076-798f387781b7"
      },
      "source": [
        "random_forest_tuning = RandomForestRegressor(random_state = 6)\n",
        "param_grid = {\n",
        "   'n_estimators': [100, 200, 500],\n",
        "   'max_features': ['auto', 'sqrt', 'log2'],\n",
        "   'max_depth' : [4,5,6,7,8],\n",
        "   'criterion' :['mse', 'mae']\n",
        "}\n",
        "from sklearn.model_selection import GridSearchCV\n",
        "\n",
        "GSCV = GridSearchCV(estimator=random_forest_tuning, param_grid=param_grid, cv=3)\n",
        "GSCV.fit(x_train, y_train)\n",
        "GSCV.best_params_"
      ],
      "execution_count": 26,
      "outputs": [
        {
          "output_type": "stream",
          "text": [
            "/usr/local/lib/python3.7/dist-packages/sklearn/model_selection/_validation.py:515: DataConversionWarning:\n",
            "\n",
            "A column-vector y was passed when a 1d array was expected. Please change the shape of y to (n_samples,), for example using ravel().\n",
            "\n",
            "/usr/local/lib/python3.7/dist-packages/sklearn/model_selection/_validation.py:515: DataConversionWarning:\n",
            "\n",
            "A column-vector y was passed when a 1d array was expected. Please change the shape of y to (n_samples,), for example using ravel().\n",
            "\n",
            "/usr/local/lib/python3.7/dist-packages/sklearn/model_selection/_validation.py:515: DataConversionWarning:\n",
            "\n",
            "A column-vector y was passed when a 1d array was expected. Please change the shape of y to (n_samples,), for example using ravel().\n",
            "\n",
            "/usr/local/lib/python3.7/dist-packages/sklearn/model_selection/_validation.py:515: DataConversionWarning:\n",
            "\n",
            "A column-vector y was passed when a 1d array was expected. Please change the shape of y to (n_samples,), for example using ravel().\n",
            "\n",
            "/usr/local/lib/python3.7/dist-packages/sklearn/model_selection/_validation.py:515: DataConversionWarning:\n",
            "\n",
            "A column-vector y was passed when a 1d array was expected. Please change the shape of y to (n_samples,), for example using ravel().\n",
            "\n",
            "/usr/local/lib/python3.7/dist-packages/sklearn/model_selection/_validation.py:515: DataConversionWarning:\n",
            "\n",
            "A column-vector y was passed when a 1d array was expected. Please change the shape of y to (n_samples,), for example using ravel().\n",
            "\n",
            "/usr/local/lib/python3.7/dist-packages/sklearn/model_selection/_validation.py:515: DataConversionWarning:\n",
            "\n",
            "A column-vector y was passed when a 1d array was expected. Please change the shape of y to (n_samples,), for example using ravel().\n",
            "\n",
            "/usr/local/lib/python3.7/dist-packages/sklearn/model_selection/_validation.py:515: DataConversionWarning:\n",
            "\n",
            "A column-vector y was passed when a 1d array was expected. Please change the shape of y to (n_samples,), for example using ravel().\n",
            "\n",
            "/usr/local/lib/python3.7/dist-packages/sklearn/model_selection/_validation.py:515: DataConversionWarning:\n",
            "\n",
            "A column-vector y was passed when a 1d array was expected. Please change the shape of y to (n_samples,), for example using ravel().\n",
            "\n",
            "/usr/local/lib/python3.7/dist-packages/sklearn/model_selection/_validation.py:515: DataConversionWarning:\n",
            "\n",
            "A column-vector y was passed when a 1d array was expected. Please change the shape of y to (n_samples,), for example using ravel().\n",
            "\n",
            "/usr/local/lib/python3.7/dist-packages/sklearn/model_selection/_validation.py:515: DataConversionWarning:\n",
            "\n",
            "A column-vector y was passed when a 1d array was expected. Please change the shape of y to (n_samples,), for example using ravel().\n",
            "\n",
            "/usr/local/lib/python3.7/dist-packages/sklearn/model_selection/_validation.py:515: DataConversionWarning:\n",
            "\n",
            "A column-vector y was passed when a 1d array was expected. Please change the shape of y to (n_samples,), for example using ravel().\n",
            "\n",
            "/usr/local/lib/python3.7/dist-packages/sklearn/model_selection/_validation.py:515: DataConversionWarning:\n",
            "\n",
            "A column-vector y was passed when a 1d array was expected. Please change the shape of y to (n_samples,), for example using ravel().\n",
            "\n",
            "/usr/local/lib/python3.7/dist-packages/sklearn/model_selection/_validation.py:515: DataConversionWarning:\n",
            "\n",
            "A column-vector y was passed when a 1d array was expected. Please change the shape of y to (n_samples,), for example using ravel().\n",
            "\n",
            "/usr/local/lib/python3.7/dist-packages/sklearn/model_selection/_validation.py:515: DataConversionWarning:\n",
            "\n",
            "A column-vector y was passed when a 1d array was expected. Please change the shape of y to (n_samples,), for example using ravel().\n",
            "\n",
            "/usr/local/lib/python3.7/dist-packages/sklearn/model_selection/_validation.py:515: DataConversionWarning:\n",
            "\n",
            "A column-vector y was passed when a 1d array was expected. Please change the shape of y to (n_samples,), for example using ravel().\n",
            "\n",
            "/usr/local/lib/python3.7/dist-packages/sklearn/model_selection/_validation.py:515: DataConversionWarning:\n",
            "\n",
            "A column-vector y was passed when a 1d array was expected. Please change the shape of y to (n_samples,), for example using ravel().\n",
            "\n",
            "/usr/local/lib/python3.7/dist-packages/sklearn/model_selection/_validation.py:515: DataConversionWarning:\n",
            "\n",
            "A column-vector y was passed when a 1d array was expected. Please change the shape of y to (n_samples,), for example using ravel().\n",
            "\n",
            "/usr/local/lib/python3.7/dist-packages/sklearn/model_selection/_validation.py:515: DataConversionWarning:\n",
            "\n",
            "A column-vector y was passed when a 1d array was expected. Please change the shape of y to (n_samples,), for example using ravel().\n",
            "\n",
            "/usr/local/lib/python3.7/dist-packages/sklearn/model_selection/_validation.py:515: DataConversionWarning:\n",
            "\n",
            "A column-vector y was passed when a 1d array was expected. Please change the shape of y to (n_samples,), for example using ravel().\n",
            "\n",
            "/usr/local/lib/python3.7/dist-packages/sklearn/model_selection/_validation.py:515: DataConversionWarning:\n",
            "\n",
            "A column-vector y was passed when a 1d array was expected. Please change the shape of y to (n_samples,), for example using ravel().\n",
            "\n",
            "/usr/local/lib/python3.7/dist-packages/sklearn/model_selection/_validation.py:515: DataConversionWarning:\n",
            "\n",
            "A column-vector y was passed when a 1d array was expected. Please change the shape of y to (n_samples,), for example using ravel().\n",
            "\n",
            "/usr/local/lib/python3.7/dist-packages/sklearn/model_selection/_validation.py:515: DataConversionWarning:\n",
            "\n",
            "A column-vector y was passed when a 1d array was expected. Please change the shape of y to (n_samples,), for example using ravel().\n",
            "\n",
            "/usr/local/lib/python3.7/dist-packages/sklearn/model_selection/_validation.py:515: DataConversionWarning:\n",
            "\n",
            "A column-vector y was passed when a 1d array was expected. Please change the shape of y to (n_samples,), for example using ravel().\n",
            "\n",
            "/usr/local/lib/python3.7/dist-packages/sklearn/model_selection/_validation.py:515: DataConversionWarning:\n",
            "\n",
            "A column-vector y was passed when a 1d array was expected. Please change the shape of y to (n_samples,), for example using ravel().\n",
            "\n",
            "/usr/local/lib/python3.7/dist-packages/sklearn/model_selection/_validation.py:515: DataConversionWarning:\n",
            "\n",
            "A column-vector y was passed when a 1d array was expected. Please change the shape of y to (n_samples,), for example using ravel().\n",
            "\n",
            "/usr/local/lib/python3.7/dist-packages/sklearn/model_selection/_validation.py:515: DataConversionWarning:\n",
            "\n",
            "A column-vector y was passed when a 1d array was expected. Please change the shape of y to (n_samples,), for example using ravel().\n",
            "\n",
            "/usr/local/lib/python3.7/dist-packages/sklearn/model_selection/_validation.py:515: DataConversionWarning:\n",
            "\n",
            "A column-vector y was passed when a 1d array was expected. Please change the shape of y to (n_samples,), for example using ravel().\n",
            "\n",
            "/usr/local/lib/python3.7/dist-packages/sklearn/model_selection/_validation.py:515: DataConversionWarning:\n",
            "\n",
            "A column-vector y was passed when a 1d array was expected. Please change the shape of y to (n_samples,), for example using ravel().\n",
            "\n",
            "/usr/local/lib/python3.7/dist-packages/sklearn/model_selection/_validation.py:515: DataConversionWarning:\n",
            "\n",
            "A column-vector y was passed when a 1d array was expected. Please change the shape of y to (n_samples,), for example using ravel().\n",
            "\n",
            "/usr/local/lib/python3.7/dist-packages/sklearn/model_selection/_validation.py:515: DataConversionWarning:\n",
            "\n",
            "A column-vector y was passed when a 1d array was expected. Please change the shape of y to (n_samples,), for example using ravel().\n",
            "\n",
            "/usr/local/lib/python3.7/dist-packages/sklearn/model_selection/_validation.py:515: DataConversionWarning:\n",
            "\n",
            "A column-vector y was passed when a 1d array was expected. Please change the shape of y to (n_samples,), for example using ravel().\n",
            "\n",
            "/usr/local/lib/python3.7/dist-packages/sklearn/model_selection/_validation.py:515: DataConversionWarning:\n",
            "\n",
            "A column-vector y was passed when a 1d array was expected. Please change the shape of y to (n_samples,), for example using ravel().\n",
            "\n",
            "/usr/local/lib/python3.7/dist-packages/sklearn/model_selection/_validation.py:515: DataConversionWarning:\n",
            "\n",
            "A column-vector y was passed when a 1d array was expected. Please change the shape of y to (n_samples,), for example using ravel().\n",
            "\n",
            "/usr/local/lib/python3.7/dist-packages/sklearn/model_selection/_validation.py:515: DataConversionWarning:\n",
            "\n",
            "A column-vector y was passed when a 1d array was expected. Please change the shape of y to (n_samples,), for example using ravel().\n",
            "\n",
            "/usr/local/lib/python3.7/dist-packages/sklearn/model_selection/_validation.py:515: DataConversionWarning:\n",
            "\n",
            "A column-vector y was passed when a 1d array was expected. Please change the shape of y to (n_samples,), for example using ravel().\n",
            "\n",
            "/usr/local/lib/python3.7/dist-packages/sklearn/model_selection/_validation.py:515: DataConversionWarning:\n",
            "\n",
            "A column-vector y was passed when a 1d array was expected. Please change the shape of y to (n_samples,), for example using ravel().\n",
            "\n",
            "/usr/local/lib/python3.7/dist-packages/sklearn/model_selection/_validation.py:515: DataConversionWarning:\n",
            "\n",
            "A column-vector y was passed when a 1d array was expected. Please change the shape of y to (n_samples,), for example using ravel().\n",
            "\n",
            "/usr/local/lib/python3.7/dist-packages/sklearn/model_selection/_validation.py:515: DataConversionWarning:\n",
            "\n",
            "A column-vector y was passed when a 1d array was expected. Please change the shape of y to (n_samples,), for example using ravel().\n",
            "\n",
            "/usr/local/lib/python3.7/dist-packages/sklearn/model_selection/_validation.py:515: DataConversionWarning:\n",
            "\n",
            "A column-vector y was passed when a 1d array was expected. Please change the shape of y to (n_samples,), for example using ravel().\n",
            "\n",
            "/usr/local/lib/python3.7/dist-packages/sklearn/model_selection/_validation.py:515: DataConversionWarning:\n",
            "\n",
            "A column-vector y was passed when a 1d array was expected. Please change the shape of y to (n_samples,), for example using ravel().\n",
            "\n",
            "/usr/local/lib/python3.7/dist-packages/sklearn/model_selection/_validation.py:515: DataConversionWarning:\n",
            "\n",
            "A column-vector y was passed when a 1d array was expected. Please change the shape of y to (n_samples,), for example using ravel().\n",
            "\n",
            "/usr/local/lib/python3.7/dist-packages/sklearn/model_selection/_validation.py:515: DataConversionWarning:\n",
            "\n",
            "A column-vector y was passed when a 1d array was expected. Please change the shape of y to (n_samples,), for example using ravel().\n",
            "\n",
            "/usr/local/lib/python3.7/dist-packages/sklearn/model_selection/_validation.py:515: DataConversionWarning:\n",
            "\n",
            "A column-vector y was passed when a 1d array was expected. Please change the shape of y to (n_samples,), for example using ravel().\n",
            "\n",
            "/usr/local/lib/python3.7/dist-packages/sklearn/model_selection/_validation.py:515: DataConversionWarning:\n",
            "\n",
            "A column-vector y was passed when a 1d array was expected. Please change the shape of y to (n_samples,), for example using ravel().\n",
            "\n",
            "/usr/local/lib/python3.7/dist-packages/sklearn/model_selection/_validation.py:515: DataConversionWarning:\n",
            "\n",
            "A column-vector y was passed when a 1d array was expected. Please change the shape of y to (n_samples,), for example using ravel().\n",
            "\n",
            "/usr/local/lib/python3.7/dist-packages/sklearn/model_selection/_validation.py:515: DataConversionWarning:\n",
            "\n",
            "A column-vector y was passed when a 1d array was expected. Please change the shape of y to (n_samples,), for example using ravel().\n",
            "\n",
            "/usr/local/lib/python3.7/dist-packages/sklearn/model_selection/_validation.py:515: DataConversionWarning:\n",
            "\n",
            "A column-vector y was passed when a 1d array was expected. Please change the shape of y to (n_samples,), for example using ravel().\n",
            "\n",
            "/usr/local/lib/python3.7/dist-packages/sklearn/model_selection/_validation.py:515: DataConversionWarning:\n",
            "\n",
            "A column-vector y was passed when a 1d array was expected. Please change the shape of y to (n_samples,), for example using ravel().\n",
            "\n",
            "/usr/local/lib/python3.7/dist-packages/sklearn/model_selection/_validation.py:515: DataConversionWarning:\n",
            "\n",
            "A column-vector y was passed when a 1d array was expected. Please change the shape of y to (n_samples,), for example using ravel().\n",
            "\n",
            "/usr/local/lib/python3.7/dist-packages/sklearn/model_selection/_validation.py:515: DataConversionWarning:\n",
            "\n",
            "A column-vector y was passed when a 1d array was expected. Please change the shape of y to (n_samples,), for example using ravel().\n",
            "\n",
            "/usr/local/lib/python3.7/dist-packages/sklearn/model_selection/_validation.py:515: DataConversionWarning:\n",
            "\n",
            "A column-vector y was passed when a 1d array was expected. Please change the shape of y to (n_samples,), for example using ravel().\n",
            "\n",
            "/usr/local/lib/python3.7/dist-packages/sklearn/model_selection/_validation.py:515: DataConversionWarning:\n",
            "\n",
            "A column-vector y was passed when a 1d array was expected. Please change the shape of y to (n_samples,), for example using ravel().\n",
            "\n",
            "/usr/local/lib/python3.7/dist-packages/sklearn/model_selection/_validation.py:515: DataConversionWarning:\n",
            "\n",
            "A column-vector y was passed when a 1d array was expected. Please change the shape of y to (n_samples,), for example using ravel().\n",
            "\n",
            "/usr/local/lib/python3.7/dist-packages/sklearn/model_selection/_validation.py:515: DataConversionWarning:\n",
            "\n",
            "A column-vector y was passed when a 1d array was expected. Please change the shape of y to (n_samples,), for example using ravel().\n",
            "\n",
            "/usr/local/lib/python3.7/dist-packages/sklearn/model_selection/_validation.py:515: DataConversionWarning:\n",
            "\n",
            "A column-vector y was passed when a 1d array was expected. Please change the shape of y to (n_samples,), for example using ravel().\n",
            "\n",
            "/usr/local/lib/python3.7/dist-packages/sklearn/model_selection/_validation.py:515: DataConversionWarning:\n",
            "\n",
            "A column-vector y was passed when a 1d array was expected. Please change the shape of y to (n_samples,), for example using ravel().\n",
            "\n",
            "/usr/local/lib/python3.7/dist-packages/sklearn/model_selection/_validation.py:515: DataConversionWarning:\n",
            "\n",
            "A column-vector y was passed when a 1d array was expected. Please change the shape of y to (n_samples,), for example using ravel().\n",
            "\n",
            "/usr/local/lib/python3.7/dist-packages/sklearn/model_selection/_validation.py:515: DataConversionWarning:\n",
            "\n",
            "A column-vector y was passed when a 1d array was expected. Please change the shape of y to (n_samples,), for example using ravel().\n",
            "\n",
            "/usr/local/lib/python3.7/dist-packages/sklearn/model_selection/_validation.py:515: DataConversionWarning:\n",
            "\n",
            "A column-vector y was passed when a 1d array was expected. Please change the shape of y to (n_samples,), for example using ravel().\n",
            "\n",
            "/usr/local/lib/python3.7/dist-packages/sklearn/model_selection/_validation.py:515: DataConversionWarning:\n",
            "\n",
            "A column-vector y was passed when a 1d array was expected. Please change the shape of y to (n_samples,), for example using ravel().\n",
            "\n",
            "/usr/local/lib/python3.7/dist-packages/sklearn/model_selection/_validation.py:515: DataConversionWarning:\n",
            "\n",
            "A column-vector y was passed when a 1d array was expected. Please change the shape of y to (n_samples,), for example using ravel().\n",
            "\n",
            "/usr/local/lib/python3.7/dist-packages/sklearn/model_selection/_validation.py:515: DataConversionWarning:\n",
            "\n",
            "A column-vector y was passed when a 1d array was expected. Please change the shape of y to (n_samples,), for example using ravel().\n",
            "\n",
            "/usr/local/lib/python3.7/dist-packages/sklearn/model_selection/_validation.py:515: DataConversionWarning:\n",
            "\n",
            "A column-vector y was passed when a 1d array was expected. Please change the shape of y to (n_samples,), for example using ravel().\n",
            "\n",
            "/usr/local/lib/python3.7/dist-packages/sklearn/model_selection/_validation.py:515: DataConversionWarning:\n",
            "\n",
            "A column-vector y was passed when a 1d array was expected. Please change the shape of y to (n_samples,), for example using ravel().\n",
            "\n",
            "/usr/local/lib/python3.7/dist-packages/sklearn/model_selection/_validation.py:515: DataConversionWarning:\n",
            "\n",
            "A column-vector y was passed when a 1d array was expected. Please change the shape of y to (n_samples,), for example using ravel().\n",
            "\n",
            "/usr/local/lib/python3.7/dist-packages/sklearn/model_selection/_validation.py:515: DataConversionWarning:\n",
            "\n",
            "A column-vector y was passed when a 1d array was expected. Please change the shape of y to (n_samples,), for example using ravel().\n",
            "\n",
            "/usr/local/lib/python3.7/dist-packages/sklearn/model_selection/_validation.py:515: DataConversionWarning:\n",
            "\n",
            "A column-vector y was passed when a 1d array was expected. Please change the shape of y to (n_samples,), for example using ravel().\n",
            "\n",
            "/usr/local/lib/python3.7/dist-packages/sklearn/model_selection/_validation.py:515: DataConversionWarning:\n",
            "\n",
            "A column-vector y was passed when a 1d array was expected. Please change the shape of y to (n_samples,), for example using ravel().\n",
            "\n",
            "/usr/local/lib/python3.7/dist-packages/sklearn/model_selection/_validation.py:515: DataConversionWarning:\n",
            "\n",
            "A column-vector y was passed when a 1d array was expected. Please change the shape of y to (n_samples,), for example using ravel().\n",
            "\n",
            "/usr/local/lib/python3.7/dist-packages/sklearn/model_selection/_validation.py:515: DataConversionWarning:\n",
            "\n",
            "A column-vector y was passed when a 1d array was expected. Please change the shape of y to (n_samples,), for example using ravel().\n",
            "\n",
            "/usr/local/lib/python3.7/dist-packages/sklearn/model_selection/_validation.py:515: DataConversionWarning:\n",
            "\n",
            "A column-vector y was passed when a 1d array was expected. Please change the shape of y to (n_samples,), for example using ravel().\n",
            "\n",
            "/usr/local/lib/python3.7/dist-packages/sklearn/model_selection/_validation.py:515: DataConversionWarning:\n",
            "\n",
            "A column-vector y was passed when a 1d array was expected. Please change the shape of y to (n_samples,), for example using ravel().\n",
            "\n",
            "/usr/local/lib/python3.7/dist-packages/sklearn/model_selection/_validation.py:515: DataConversionWarning:\n",
            "\n",
            "A column-vector y was passed when a 1d array was expected. Please change the shape of y to (n_samples,), for example using ravel().\n",
            "\n",
            "/usr/local/lib/python3.7/dist-packages/sklearn/model_selection/_validation.py:515: DataConversionWarning:\n",
            "\n",
            "A column-vector y was passed when a 1d array was expected. Please change the shape of y to (n_samples,), for example using ravel().\n",
            "\n",
            "/usr/local/lib/python3.7/dist-packages/sklearn/model_selection/_validation.py:515: DataConversionWarning:\n",
            "\n",
            "A column-vector y was passed when a 1d array was expected. Please change the shape of y to (n_samples,), for example using ravel().\n",
            "\n",
            "/usr/local/lib/python3.7/dist-packages/sklearn/model_selection/_validation.py:515: DataConversionWarning:\n",
            "\n",
            "A column-vector y was passed when a 1d array was expected. Please change the shape of y to (n_samples,), for example using ravel().\n",
            "\n",
            "/usr/local/lib/python3.7/dist-packages/sklearn/model_selection/_validation.py:515: DataConversionWarning:\n",
            "\n",
            "A column-vector y was passed when a 1d array was expected. Please change the shape of y to (n_samples,), for example using ravel().\n",
            "\n",
            "/usr/local/lib/python3.7/dist-packages/sklearn/model_selection/_validation.py:515: DataConversionWarning:\n",
            "\n",
            "A column-vector y was passed when a 1d array was expected. Please change the shape of y to (n_samples,), for example using ravel().\n",
            "\n",
            "/usr/local/lib/python3.7/dist-packages/sklearn/model_selection/_validation.py:515: DataConversionWarning:\n",
            "\n",
            "A column-vector y was passed when a 1d array was expected. Please change the shape of y to (n_samples,), for example using ravel().\n",
            "\n",
            "/usr/local/lib/python3.7/dist-packages/sklearn/model_selection/_validation.py:515: DataConversionWarning:\n",
            "\n",
            "A column-vector y was passed when a 1d array was expected. Please change the shape of y to (n_samples,), for example using ravel().\n",
            "\n",
            "/usr/local/lib/python3.7/dist-packages/sklearn/model_selection/_validation.py:515: DataConversionWarning:\n",
            "\n",
            "A column-vector y was passed when a 1d array was expected. Please change the shape of y to (n_samples,), for example using ravel().\n",
            "\n",
            "/usr/local/lib/python3.7/dist-packages/sklearn/model_selection/_validation.py:515: DataConversionWarning:\n",
            "\n",
            "A column-vector y was passed when a 1d array was expected. Please change the shape of y to (n_samples,), for example using ravel().\n",
            "\n",
            "/usr/local/lib/python3.7/dist-packages/sklearn/model_selection/_validation.py:515: DataConversionWarning:\n",
            "\n",
            "A column-vector y was passed when a 1d array was expected. Please change the shape of y to (n_samples,), for example using ravel().\n",
            "\n",
            "/usr/local/lib/python3.7/dist-packages/sklearn/model_selection/_validation.py:515: DataConversionWarning:\n",
            "\n",
            "A column-vector y was passed when a 1d array was expected. Please change the shape of y to (n_samples,), for example using ravel().\n",
            "\n",
            "/usr/local/lib/python3.7/dist-packages/sklearn/model_selection/_validation.py:515: DataConversionWarning:\n",
            "\n",
            "A column-vector y was passed when a 1d array was expected. Please change the shape of y to (n_samples,), for example using ravel().\n",
            "\n",
            "/usr/local/lib/python3.7/dist-packages/sklearn/model_selection/_validation.py:515: DataConversionWarning:\n",
            "\n",
            "A column-vector y was passed when a 1d array was expected. Please change the shape of y to (n_samples,), for example using ravel().\n",
            "\n",
            "/usr/local/lib/python3.7/dist-packages/sklearn/model_selection/_validation.py:515: DataConversionWarning:\n",
            "\n",
            "A column-vector y was passed when a 1d array was expected. Please change the shape of y to (n_samples,), for example using ravel().\n",
            "\n",
            "/usr/local/lib/python3.7/dist-packages/sklearn/model_selection/_validation.py:515: DataConversionWarning:\n",
            "\n",
            "A column-vector y was passed when a 1d array was expected. Please change the shape of y to (n_samples,), for example using ravel().\n",
            "\n",
            "/usr/local/lib/python3.7/dist-packages/sklearn/model_selection/_validation.py:515: DataConversionWarning:\n",
            "\n",
            "A column-vector y was passed when a 1d array was expected. Please change the shape of y to (n_samples,), for example using ravel().\n",
            "\n",
            "/usr/local/lib/python3.7/dist-packages/sklearn/model_selection/_validation.py:515: DataConversionWarning:\n",
            "\n",
            "A column-vector y was passed when a 1d array was expected. Please change the shape of y to (n_samples,), for example using ravel().\n",
            "\n",
            "/usr/local/lib/python3.7/dist-packages/sklearn/model_selection/_validation.py:515: DataConversionWarning:\n",
            "\n",
            "A column-vector y was passed when a 1d array was expected. Please change the shape of y to (n_samples,), for example using ravel().\n",
            "\n",
            "/usr/local/lib/python3.7/dist-packages/sklearn/model_selection/_validation.py:515: DataConversionWarning:\n",
            "\n",
            "A column-vector y was passed when a 1d array was expected. Please change the shape of y to (n_samples,), for example using ravel().\n",
            "\n",
            "/usr/local/lib/python3.7/dist-packages/sklearn/model_selection/_validation.py:515: DataConversionWarning:\n",
            "\n",
            "A column-vector y was passed when a 1d array was expected. Please change the shape of y to (n_samples,), for example using ravel().\n",
            "\n",
            "/usr/local/lib/python3.7/dist-packages/sklearn/model_selection/_validation.py:515: DataConversionWarning:\n",
            "\n",
            "A column-vector y was passed when a 1d array was expected. Please change the shape of y to (n_samples,), for example using ravel().\n",
            "\n",
            "/usr/local/lib/python3.7/dist-packages/sklearn/model_selection/_validation.py:515: DataConversionWarning:\n",
            "\n",
            "A column-vector y was passed when a 1d array was expected. Please change the shape of y to (n_samples,), for example using ravel().\n",
            "\n",
            "/usr/local/lib/python3.7/dist-packages/sklearn/model_selection/_validation.py:515: DataConversionWarning:\n",
            "\n",
            "A column-vector y was passed when a 1d array was expected. Please change the shape of y to (n_samples,), for example using ravel().\n",
            "\n",
            "/usr/local/lib/python3.7/dist-packages/sklearn/model_selection/_validation.py:515: DataConversionWarning:\n",
            "\n",
            "A column-vector y was passed when a 1d array was expected. Please change the shape of y to (n_samples,), for example using ravel().\n",
            "\n",
            "/usr/local/lib/python3.7/dist-packages/sklearn/model_selection/_validation.py:515: DataConversionWarning:\n",
            "\n",
            "A column-vector y was passed when a 1d array was expected. Please change the shape of y to (n_samples,), for example using ravel().\n",
            "\n",
            "/usr/local/lib/python3.7/dist-packages/sklearn/model_selection/_validation.py:515: DataConversionWarning:\n",
            "\n",
            "A column-vector y was passed when a 1d array was expected. Please change the shape of y to (n_samples,), for example using ravel().\n",
            "\n",
            "/usr/local/lib/python3.7/dist-packages/sklearn/model_selection/_validation.py:515: DataConversionWarning:\n",
            "\n",
            "A column-vector y was passed when a 1d array was expected. Please change the shape of y to (n_samples,), for example using ravel().\n",
            "\n",
            "/usr/local/lib/python3.7/dist-packages/sklearn/model_selection/_validation.py:515: DataConversionWarning:\n",
            "\n",
            "A column-vector y was passed when a 1d array was expected. Please change the shape of y to (n_samples,), for example using ravel().\n",
            "\n",
            "/usr/local/lib/python3.7/dist-packages/sklearn/model_selection/_validation.py:515: DataConversionWarning:\n",
            "\n",
            "A column-vector y was passed when a 1d array was expected. Please change the shape of y to (n_samples,), for example using ravel().\n",
            "\n",
            "/usr/local/lib/python3.7/dist-packages/sklearn/model_selection/_validation.py:515: DataConversionWarning:\n",
            "\n",
            "A column-vector y was passed when a 1d array was expected. Please change the shape of y to (n_samples,), for example using ravel().\n",
            "\n",
            "/usr/local/lib/python3.7/dist-packages/sklearn/model_selection/_validation.py:515: DataConversionWarning:\n",
            "\n",
            "A column-vector y was passed when a 1d array was expected. Please change the shape of y to (n_samples,), for example using ravel().\n",
            "\n",
            "/usr/local/lib/python3.7/dist-packages/sklearn/model_selection/_validation.py:515: DataConversionWarning:\n",
            "\n",
            "A column-vector y was passed when a 1d array was expected. Please change the shape of y to (n_samples,), for example using ravel().\n",
            "\n",
            "/usr/local/lib/python3.7/dist-packages/sklearn/model_selection/_validation.py:515: DataConversionWarning:\n",
            "\n",
            "A column-vector y was passed when a 1d array was expected. Please change the shape of y to (n_samples,), for example using ravel().\n",
            "\n",
            "/usr/local/lib/python3.7/dist-packages/sklearn/model_selection/_validation.py:515: DataConversionWarning:\n",
            "\n",
            "A column-vector y was passed when a 1d array was expected. Please change the shape of y to (n_samples,), for example using ravel().\n",
            "\n",
            "/usr/local/lib/python3.7/dist-packages/sklearn/model_selection/_validation.py:515: DataConversionWarning:\n",
            "\n",
            "A column-vector y was passed when a 1d array was expected. Please change the shape of y to (n_samples,), for example using ravel().\n",
            "\n",
            "/usr/local/lib/python3.7/dist-packages/sklearn/model_selection/_validation.py:515: DataConversionWarning:\n",
            "\n",
            "A column-vector y was passed when a 1d array was expected. Please change the shape of y to (n_samples,), for example using ravel().\n",
            "\n",
            "/usr/local/lib/python3.7/dist-packages/sklearn/model_selection/_validation.py:515: DataConversionWarning:\n",
            "\n",
            "A column-vector y was passed when a 1d array was expected. Please change the shape of y to (n_samples,), for example using ravel().\n",
            "\n",
            "/usr/local/lib/python3.7/dist-packages/sklearn/model_selection/_validation.py:515: DataConversionWarning:\n",
            "\n",
            "A column-vector y was passed when a 1d array was expected. Please change the shape of y to (n_samples,), for example using ravel().\n",
            "\n",
            "/usr/local/lib/python3.7/dist-packages/sklearn/model_selection/_validation.py:515: DataConversionWarning:\n",
            "\n",
            "A column-vector y was passed when a 1d array was expected. Please change the shape of y to (n_samples,), for example using ravel().\n",
            "\n",
            "/usr/local/lib/python3.7/dist-packages/sklearn/model_selection/_validation.py:515: DataConversionWarning:\n",
            "\n",
            "A column-vector y was passed when a 1d array was expected. Please change the shape of y to (n_samples,), for example using ravel().\n",
            "\n",
            "/usr/local/lib/python3.7/dist-packages/sklearn/model_selection/_validation.py:515: DataConversionWarning:\n",
            "\n",
            "A column-vector y was passed when a 1d array was expected. Please change the shape of y to (n_samples,), for example using ravel().\n",
            "\n",
            "/usr/local/lib/python3.7/dist-packages/sklearn/model_selection/_validation.py:515: DataConversionWarning:\n",
            "\n",
            "A column-vector y was passed when a 1d array was expected. Please change the shape of y to (n_samples,), for example using ravel().\n",
            "\n",
            "/usr/local/lib/python3.7/dist-packages/sklearn/model_selection/_validation.py:515: DataConversionWarning:\n",
            "\n",
            "A column-vector y was passed when a 1d array was expected. Please change the shape of y to (n_samples,), for example using ravel().\n",
            "\n",
            "/usr/local/lib/python3.7/dist-packages/sklearn/model_selection/_validation.py:515: DataConversionWarning:\n",
            "\n",
            "A column-vector y was passed when a 1d array was expected. Please change the shape of y to (n_samples,), for example using ravel().\n",
            "\n",
            "/usr/local/lib/python3.7/dist-packages/sklearn/model_selection/_validation.py:515: DataConversionWarning:\n",
            "\n",
            "A column-vector y was passed when a 1d array was expected. Please change the shape of y to (n_samples,), for example using ravel().\n",
            "\n",
            "/usr/local/lib/python3.7/dist-packages/sklearn/model_selection/_validation.py:515: DataConversionWarning:\n",
            "\n",
            "A column-vector y was passed when a 1d array was expected. Please change the shape of y to (n_samples,), for example using ravel().\n",
            "\n",
            "/usr/local/lib/python3.7/dist-packages/sklearn/model_selection/_validation.py:515: DataConversionWarning:\n",
            "\n",
            "A column-vector y was passed when a 1d array was expected. Please change the shape of y to (n_samples,), for example using ravel().\n",
            "\n",
            "/usr/local/lib/python3.7/dist-packages/sklearn/model_selection/_validation.py:515: DataConversionWarning:\n",
            "\n",
            "A column-vector y was passed when a 1d array was expected. Please change the shape of y to (n_samples,), for example using ravel().\n",
            "\n",
            "/usr/local/lib/python3.7/dist-packages/sklearn/model_selection/_validation.py:515: DataConversionWarning:\n",
            "\n",
            "A column-vector y was passed when a 1d array was expected. Please change the shape of y to (n_samples,), for example using ravel().\n",
            "\n",
            "/usr/local/lib/python3.7/dist-packages/sklearn/model_selection/_validation.py:515: DataConversionWarning:\n",
            "\n",
            "A column-vector y was passed when a 1d array was expected. Please change the shape of y to (n_samples,), for example using ravel().\n",
            "\n",
            "/usr/local/lib/python3.7/dist-packages/sklearn/model_selection/_validation.py:515: DataConversionWarning:\n",
            "\n",
            "A column-vector y was passed when a 1d array was expected. Please change the shape of y to (n_samples,), for example using ravel().\n",
            "\n",
            "/usr/local/lib/python3.7/dist-packages/sklearn/model_selection/_validation.py:515: DataConversionWarning:\n",
            "\n",
            "A column-vector y was passed when a 1d array was expected. Please change the shape of y to (n_samples,), for example using ravel().\n",
            "\n",
            "/usr/local/lib/python3.7/dist-packages/sklearn/model_selection/_validation.py:515: DataConversionWarning:\n",
            "\n",
            "A column-vector y was passed when a 1d array was expected. Please change the shape of y to (n_samples,), for example using ravel().\n",
            "\n",
            "/usr/local/lib/python3.7/dist-packages/sklearn/model_selection/_validation.py:515: DataConversionWarning:\n",
            "\n",
            "A column-vector y was passed when a 1d array was expected. Please change the shape of y to (n_samples,), for example using ravel().\n",
            "\n",
            "/usr/local/lib/python3.7/dist-packages/sklearn/model_selection/_validation.py:515: DataConversionWarning:\n",
            "\n",
            "A column-vector y was passed when a 1d array was expected. Please change the shape of y to (n_samples,), for example using ravel().\n",
            "\n",
            "/usr/local/lib/python3.7/dist-packages/sklearn/model_selection/_validation.py:515: DataConversionWarning:\n",
            "\n",
            "A column-vector y was passed when a 1d array was expected. Please change the shape of y to (n_samples,), for example using ravel().\n",
            "\n",
            "/usr/local/lib/python3.7/dist-packages/sklearn/model_selection/_validation.py:515: DataConversionWarning:\n",
            "\n",
            "A column-vector y was passed when a 1d array was expected. Please change the shape of y to (n_samples,), for example using ravel().\n",
            "\n",
            "/usr/local/lib/python3.7/dist-packages/sklearn/model_selection/_validation.py:515: DataConversionWarning:\n",
            "\n",
            "A column-vector y was passed when a 1d array was expected. Please change the shape of y to (n_samples,), for example using ravel().\n",
            "\n",
            "/usr/local/lib/python3.7/dist-packages/sklearn/model_selection/_validation.py:515: DataConversionWarning:\n",
            "\n",
            "A column-vector y was passed when a 1d array was expected. Please change the shape of y to (n_samples,), for example using ravel().\n",
            "\n",
            "/usr/local/lib/python3.7/dist-packages/sklearn/model_selection/_validation.py:515: DataConversionWarning:\n",
            "\n",
            "A column-vector y was passed when a 1d array was expected. Please change the shape of y to (n_samples,), for example using ravel().\n",
            "\n",
            "/usr/local/lib/python3.7/dist-packages/sklearn/model_selection/_validation.py:515: DataConversionWarning:\n",
            "\n",
            "A column-vector y was passed when a 1d array was expected. Please change the shape of y to (n_samples,), for example using ravel().\n",
            "\n",
            "/usr/local/lib/python3.7/dist-packages/sklearn/model_selection/_validation.py:515: DataConversionWarning:\n",
            "\n",
            "A column-vector y was passed when a 1d array was expected. Please change the shape of y to (n_samples,), for example using ravel().\n",
            "\n",
            "/usr/local/lib/python3.7/dist-packages/sklearn/model_selection/_validation.py:515: DataConversionWarning:\n",
            "\n",
            "A column-vector y was passed when a 1d array was expected. Please change the shape of y to (n_samples,), for example using ravel().\n",
            "\n",
            "/usr/local/lib/python3.7/dist-packages/sklearn/model_selection/_validation.py:515: DataConversionWarning:\n",
            "\n",
            "A column-vector y was passed when a 1d array was expected. Please change the shape of y to (n_samples,), for example using ravel().\n",
            "\n",
            "/usr/local/lib/python3.7/dist-packages/sklearn/model_selection/_validation.py:515: DataConversionWarning:\n",
            "\n",
            "A column-vector y was passed when a 1d array was expected. Please change the shape of y to (n_samples,), for example using ravel().\n",
            "\n",
            "/usr/local/lib/python3.7/dist-packages/sklearn/model_selection/_validation.py:515: DataConversionWarning:\n",
            "\n",
            "A column-vector y was passed when a 1d array was expected. Please change the shape of y to (n_samples,), for example using ravel().\n",
            "\n",
            "/usr/local/lib/python3.7/dist-packages/sklearn/model_selection/_validation.py:515: DataConversionWarning:\n",
            "\n",
            "A column-vector y was passed when a 1d array was expected. Please change the shape of y to (n_samples,), for example using ravel().\n",
            "\n",
            "/usr/local/lib/python3.7/dist-packages/sklearn/model_selection/_validation.py:515: DataConversionWarning:\n",
            "\n",
            "A column-vector y was passed when a 1d array was expected. Please change the shape of y to (n_samples,), for example using ravel().\n",
            "\n",
            "/usr/local/lib/python3.7/dist-packages/sklearn/model_selection/_validation.py:515: DataConversionWarning:\n",
            "\n",
            "A column-vector y was passed when a 1d array was expected. Please change the shape of y to (n_samples,), for example using ravel().\n",
            "\n",
            "/usr/local/lib/python3.7/dist-packages/sklearn/model_selection/_validation.py:515: DataConversionWarning:\n",
            "\n",
            "A column-vector y was passed when a 1d array was expected. Please change the shape of y to (n_samples,), for example using ravel().\n",
            "\n",
            "/usr/local/lib/python3.7/dist-packages/sklearn/model_selection/_validation.py:515: DataConversionWarning:\n",
            "\n",
            "A column-vector y was passed when a 1d array was expected. Please change the shape of y to (n_samples,), for example using ravel().\n",
            "\n",
            "/usr/local/lib/python3.7/dist-packages/sklearn/model_selection/_validation.py:515: DataConversionWarning:\n",
            "\n",
            "A column-vector y was passed when a 1d array was expected. Please change the shape of y to (n_samples,), for example using ravel().\n",
            "\n",
            "/usr/local/lib/python3.7/dist-packages/sklearn/model_selection/_validation.py:515: DataConversionWarning:\n",
            "\n",
            "A column-vector y was passed when a 1d array was expected. Please change the shape of y to (n_samples,), for example using ravel().\n",
            "\n",
            "/usr/local/lib/python3.7/dist-packages/sklearn/model_selection/_validation.py:515: DataConversionWarning:\n",
            "\n",
            "A column-vector y was passed when a 1d array was expected. Please change the shape of y to (n_samples,), for example using ravel().\n",
            "\n",
            "/usr/local/lib/python3.7/dist-packages/sklearn/model_selection/_validation.py:515: DataConversionWarning:\n",
            "\n",
            "A column-vector y was passed when a 1d array was expected. Please change the shape of y to (n_samples,), for example using ravel().\n",
            "\n",
            "/usr/local/lib/python3.7/dist-packages/sklearn/model_selection/_validation.py:515: DataConversionWarning:\n",
            "\n",
            "A column-vector y was passed when a 1d array was expected. Please change the shape of y to (n_samples,), for example using ravel().\n",
            "\n",
            "/usr/local/lib/python3.7/dist-packages/sklearn/model_selection/_validation.py:515: DataConversionWarning:\n",
            "\n",
            "A column-vector y was passed when a 1d array was expected. Please change the shape of y to (n_samples,), for example using ravel().\n",
            "\n",
            "/usr/local/lib/python3.7/dist-packages/sklearn/model_selection/_validation.py:515: DataConversionWarning:\n",
            "\n",
            "A column-vector y was passed when a 1d array was expected. Please change the shape of y to (n_samples,), for example using ravel().\n",
            "\n",
            "/usr/local/lib/python3.7/dist-packages/sklearn/model_selection/_validation.py:515: DataConversionWarning:\n",
            "\n",
            "A column-vector y was passed when a 1d array was expected. Please change the shape of y to (n_samples,), for example using ravel().\n",
            "\n",
            "/usr/local/lib/python3.7/dist-packages/sklearn/model_selection/_validation.py:515: DataConversionWarning:\n",
            "\n",
            "A column-vector y was passed when a 1d array was expected. Please change the shape of y to (n_samples,), for example using ravel().\n",
            "\n",
            "/usr/local/lib/python3.7/dist-packages/sklearn/model_selection/_validation.py:515: DataConversionWarning:\n",
            "\n",
            "A column-vector y was passed when a 1d array was expected. Please change the shape of y to (n_samples,), for example using ravel().\n",
            "\n",
            "/usr/local/lib/python3.7/dist-packages/sklearn/model_selection/_validation.py:515: DataConversionWarning:\n",
            "\n",
            "A column-vector y was passed when a 1d array was expected. Please change the shape of y to (n_samples,), for example using ravel().\n",
            "\n",
            "/usr/local/lib/python3.7/dist-packages/sklearn/model_selection/_validation.py:515: DataConversionWarning:\n",
            "\n",
            "A column-vector y was passed when a 1d array was expected. Please change the shape of y to (n_samples,), for example using ravel().\n",
            "\n",
            "/usr/local/lib/python3.7/dist-packages/sklearn/model_selection/_validation.py:515: DataConversionWarning:\n",
            "\n",
            "A column-vector y was passed when a 1d array was expected. Please change the shape of y to (n_samples,), for example using ravel().\n",
            "\n",
            "/usr/local/lib/python3.7/dist-packages/sklearn/model_selection/_validation.py:515: DataConversionWarning:\n",
            "\n",
            "A column-vector y was passed when a 1d array was expected. Please change the shape of y to (n_samples,), for example using ravel().\n",
            "\n",
            "/usr/local/lib/python3.7/dist-packages/sklearn/model_selection/_validation.py:515: DataConversionWarning:\n",
            "\n",
            "A column-vector y was passed when a 1d array was expected. Please change the shape of y to (n_samples,), for example using ravel().\n",
            "\n",
            "/usr/local/lib/python3.7/dist-packages/sklearn/model_selection/_validation.py:515: DataConversionWarning:\n",
            "\n",
            "A column-vector y was passed when a 1d array was expected. Please change the shape of y to (n_samples,), for example using ravel().\n",
            "\n",
            "/usr/local/lib/python3.7/dist-packages/sklearn/model_selection/_validation.py:515: DataConversionWarning:\n",
            "\n",
            "A column-vector y was passed when a 1d array was expected. Please change the shape of y to (n_samples,), for example using ravel().\n",
            "\n",
            "/usr/local/lib/python3.7/dist-packages/sklearn/model_selection/_validation.py:515: DataConversionWarning:\n",
            "\n",
            "A column-vector y was passed when a 1d array was expected. Please change the shape of y to (n_samples,), for example using ravel().\n",
            "\n",
            "/usr/local/lib/python3.7/dist-packages/sklearn/model_selection/_validation.py:515: DataConversionWarning:\n",
            "\n",
            "A column-vector y was passed when a 1d array was expected. Please change the shape of y to (n_samples,), for example using ravel().\n",
            "\n",
            "/usr/local/lib/python3.7/dist-packages/sklearn/model_selection/_validation.py:515: DataConversionWarning:\n",
            "\n",
            "A column-vector y was passed when a 1d array was expected. Please change the shape of y to (n_samples,), for example using ravel().\n",
            "\n",
            "/usr/local/lib/python3.7/dist-packages/sklearn/model_selection/_validation.py:515: DataConversionWarning:\n",
            "\n",
            "A column-vector y was passed when a 1d array was expected. Please change the shape of y to (n_samples,), for example using ravel().\n",
            "\n",
            "/usr/local/lib/python3.7/dist-packages/sklearn/model_selection/_validation.py:515: DataConversionWarning:\n",
            "\n",
            "A column-vector y was passed when a 1d array was expected. Please change the shape of y to (n_samples,), for example using ravel().\n",
            "\n",
            "/usr/local/lib/python3.7/dist-packages/sklearn/model_selection/_validation.py:515: DataConversionWarning:\n",
            "\n",
            "A column-vector y was passed when a 1d array was expected. Please change the shape of y to (n_samples,), for example using ravel().\n",
            "\n",
            "/usr/local/lib/python3.7/dist-packages/sklearn/model_selection/_validation.py:515: DataConversionWarning:\n",
            "\n",
            "A column-vector y was passed when a 1d array was expected. Please change the shape of y to (n_samples,), for example using ravel().\n",
            "\n",
            "/usr/local/lib/python3.7/dist-packages/sklearn/model_selection/_validation.py:515: DataConversionWarning:\n",
            "\n",
            "A column-vector y was passed when a 1d array was expected. Please change the shape of y to (n_samples,), for example using ravel().\n",
            "\n",
            "/usr/local/lib/python3.7/dist-packages/sklearn/model_selection/_validation.py:515: DataConversionWarning:\n",
            "\n",
            "A column-vector y was passed when a 1d array was expected. Please change the shape of y to (n_samples,), for example using ravel().\n",
            "\n",
            "/usr/local/lib/python3.7/dist-packages/sklearn/model_selection/_validation.py:515: DataConversionWarning:\n",
            "\n",
            "A column-vector y was passed when a 1d array was expected. Please change the shape of y to (n_samples,), for example using ravel().\n",
            "\n",
            "/usr/local/lib/python3.7/dist-packages/sklearn/model_selection/_validation.py:515: DataConversionWarning:\n",
            "\n",
            "A column-vector y was passed when a 1d array was expected. Please change the shape of y to (n_samples,), for example using ravel().\n",
            "\n",
            "/usr/local/lib/python3.7/dist-packages/sklearn/model_selection/_validation.py:515: DataConversionWarning:\n",
            "\n",
            "A column-vector y was passed when a 1d array was expected. Please change the shape of y to (n_samples,), for example using ravel().\n",
            "\n",
            "/usr/local/lib/python3.7/dist-packages/sklearn/model_selection/_validation.py:515: DataConversionWarning:\n",
            "\n",
            "A column-vector y was passed when a 1d array was expected. Please change the shape of y to (n_samples,), for example using ravel().\n",
            "\n",
            "/usr/local/lib/python3.7/dist-packages/sklearn/model_selection/_validation.py:515: DataConversionWarning:\n",
            "\n",
            "A column-vector y was passed when a 1d array was expected. Please change the shape of y to (n_samples,), for example using ravel().\n",
            "\n",
            "/usr/local/lib/python3.7/dist-packages/sklearn/model_selection/_validation.py:515: DataConversionWarning:\n",
            "\n",
            "A column-vector y was passed when a 1d array was expected. Please change the shape of y to (n_samples,), for example using ravel().\n",
            "\n",
            "/usr/local/lib/python3.7/dist-packages/sklearn/model_selection/_validation.py:515: DataConversionWarning:\n",
            "\n",
            "A column-vector y was passed when a 1d array was expected. Please change the shape of y to (n_samples,), for example using ravel().\n",
            "\n",
            "/usr/local/lib/python3.7/dist-packages/sklearn/model_selection/_validation.py:515: DataConversionWarning:\n",
            "\n",
            "A column-vector y was passed when a 1d array was expected. Please change the shape of y to (n_samples,), for example using ravel().\n",
            "\n",
            "/usr/local/lib/python3.7/dist-packages/sklearn/model_selection/_validation.py:515: DataConversionWarning:\n",
            "\n",
            "A column-vector y was passed when a 1d array was expected. Please change the shape of y to (n_samples,), for example using ravel().\n",
            "\n",
            "/usr/local/lib/python3.7/dist-packages/sklearn/model_selection/_validation.py:515: DataConversionWarning:\n",
            "\n",
            "A column-vector y was passed when a 1d array was expected. Please change the shape of y to (n_samples,), for example using ravel().\n",
            "\n",
            "/usr/local/lib/python3.7/dist-packages/sklearn/model_selection/_validation.py:515: DataConversionWarning:\n",
            "\n",
            "A column-vector y was passed when a 1d array was expected. Please change the shape of y to (n_samples,), for example using ravel().\n",
            "\n",
            "/usr/local/lib/python3.7/dist-packages/sklearn/model_selection/_validation.py:515: DataConversionWarning:\n",
            "\n",
            "A column-vector y was passed when a 1d array was expected. Please change the shape of y to (n_samples,), for example using ravel().\n",
            "\n",
            "/usr/local/lib/python3.7/dist-packages/sklearn/model_selection/_validation.py:515: DataConversionWarning:\n",
            "\n",
            "A column-vector y was passed when a 1d array was expected. Please change the shape of y to (n_samples,), for example using ravel().\n",
            "\n",
            "/usr/local/lib/python3.7/dist-packages/sklearn/model_selection/_validation.py:515: DataConversionWarning:\n",
            "\n",
            "A column-vector y was passed when a 1d array was expected. Please change the shape of y to (n_samples,), for example using ravel().\n",
            "\n",
            "/usr/local/lib/python3.7/dist-packages/sklearn/model_selection/_validation.py:515: DataConversionWarning:\n",
            "\n",
            "A column-vector y was passed when a 1d array was expected. Please change the shape of y to (n_samples,), for example using ravel().\n",
            "\n",
            "/usr/local/lib/python3.7/dist-packages/sklearn/model_selection/_validation.py:515: DataConversionWarning:\n",
            "\n",
            "A column-vector y was passed when a 1d array was expected. Please change the shape of y to (n_samples,), for example using ravel().\n",
            "\n",
            "/usr/local/lib/python3.7/dist-packages/sklearn/model_selection/_validation.py:515: DataConversionWarning:\n",
            "\n",
            "A column-vector y was passed when a 1d array was expected. Please change the shape of y to (n_samples,), for example using ravel().\n",
            "\n",
            "/usr/local/lib/python3.7/dist-packages/sklearn/model_selection/_validation.py:515: DataConversionWarning:\n",
            "\n",
            "A column-vector y was passed when a 1d array was expected. Please change the shape of y to (n_samples,), for example using ravel().\n",
            "\n",
            "/usr/local/lib/python3.7/dist-packages/sklearn/model_selection/_validation.py:515: DataConversionWarning:\n",
            "\n",
            "A column-vector y was passed when a 1d array was expected. Please change the shape of y to (n_samples,), for example using ravel().\n",
            "\n",
            "/usr/local/lib/python3.7/dist-packages/sklearn/model_selection/_validation.py:515: DataConversionWarning:\n",
            "\n",
            "A column-vector y was passed when a 1d array was expected. Please change the shape of y to (n_samples,), for example using ravel().\n",
            "\n",
            "/usr/local/lib/python3.7/dist-packages/sklearn/model_selection/_validation.py:515: DataConversionWarning:\n",
            "\n",
            "A column-vector y was passed when a 1d array was expected. Please change the shape of y to (n_samples,), for example using ravel().\n",
            "\n",
            "/usr/local/lib/python3.7/dist-packages/sklearn/model_selection/_validation.py:515: DataConversionWarning:\n",
            "\n",
            "A column-vector y was passed when a 1d array was expected. Please change the shape of y to (n_samples,), for example using ravel().\n",
            "\n",
            "/usr/local/lib/python3.7/dist-packages/sklearn/model_selection/_validation.py:515: DataConversionWarning:\n",
            "\n",
            "A column-vector y was passed when a 1d array was expected. Please change the shape of y to (n_samples,), for example using ravel().\n",
            "\n",
            "/usr/local/lib/python3.7/dist-packages/sklearn/model_selection/_validation.py:515: DataConversionWarning:\n",
            "\n",
            "A column-vector y was passed when a 1d array was expected. Please change the shape of y to (n_samples,), for example using ravel().\n",
            "\n",
            "/usr/local/lib/python3.7/dist-packages/sklearn/model_selection/_validation.py:515: DataConversionWarning:\n",
            "\n",
            "A column-vector y was passed when a 1d array was expected. Please change the shape of y to (n_samples,), for example using ravel().\n",
            "\n",
            "/usr/local/lib/python3.7/dist-packages/sklearn/model_selection/_validation.py:515: DataConversionWarning:\n",
            "\n",
            "A column-vector y was passed when a 1d array was expected. Please change the shape of y to (n_samples,), for example using ravel().\n",
            "\n",
            "/usr/local/lib/python3.7/dist-packages/sklearn/model_selection/_validation.py:515: DataConversionWarning:\n",
            "\n",
            "A column-vector y was passed when a 1d array was expected. Please change the shape of y to (n_samples,), for example using ravel().\n",
            "\n",
            "/usr/local/lib/python3.7/dist-packages/sklearn/model_selection/_validation.py:515: DataConversionWarning:\n",
            "\n",
            "A column-vector y was passed when a 1d array was expected. Please change the shape of y to (n_samples,), for example using ravel().\n",
            "\n",
            "/usr/local/lib/python3.7/dist-packages/sklearn/model_selection/_validation.py:515: DataConversionWarning:\n",
            "\n",
            "A column-vector y was passed when a 1d array was expected. Please change the shape of y to (n_samples,), for example using ravel().\n",
            "\n",
            "/usr/local/lib/python3.7/dist-packages/sklearn/model_selection/_validation.py:515: DataConversionWarning:\n",
            "\n",
            "A column-vector y was passed when a 1d array was expected. Please change the shape of y to (n_samples,), for example using ravel().\n",
            "\n",
            "/usr/local/lib/python3.7/dist-packages/sklearn/model_selection/_validation.py:515: DataConversionWarning:\n",
            "\n",
            "A column-vector y was passed when a 1d array was expected. Please change the shape of y to (n_samples,), for example using ravel().\n",
            "\n",
            "/usr/local/lib/python3.7/dist-packages/sklearn/model_selection/_validation.py:515: DataConversionWarning:\n",
            "\n",
            "A column-vector y was passed when a 1d array was expected. Please change the shape of y to (n_samples,), for example using ravel().\n",
            "\n",
            "/usr/local/lib/python3.7/dist-packages/sklearn/model_selection/_validation.py:515: DataConversionWarning:\n",
            "\n",
            "A column-vector y was passed when a 1d array was expected. Please change the shape of y to (n_samples,), for example using ravel().\n",
            "\n",
            "/usr/local/lib/python3.7/dist-packages/sklearn/model_selection/_validation.py:515: DataConversionWarning:\n",
            "\n",
            "A column-vector y was passed when a 1d array was expected. Please change the shape of y to (n_samples,), for example using ravel().\n",
            "\n",
            "/usr/local/lib/python3.7/dist-packages/sklearn/model_selection/_validation.py:515: DataConversionWarning:\n",
            "\n",
            "A column-vector y was passed when a 1d array was expected. Please change the shape of y to (n_samples,), for example using ravel().\n",
            "\n",
            "/usr/local/lib/python3.7/dist-packages/sklearn/model_selection/_validation.py:515: DataConversionWarning:\n",
            "\n",
            "A column-vector y was passed when a 1d array was expected. Please change the shape of y to (n_samples,), for example using ravel().\n",
            "\n",
            "/usr/local/lib/python3.7/dist-packages/sklearn/model_selection/_validation.py:515: DataConversionWarning:\n",
            "\n",
            "A column-vector y was passed when a 1d array was expected. Please change the shape of y to (n_samples,), for example using ravel().\n",
            "\n",
            "/usr/local/lib/python3.7/dist-packages/sklearn/model_selection/_validation.py:515: DataConversionWarning:\n",
            "\n",
            "A column-vector y was passed when a 1d array was expected. Please change the shape of y to (n_samples,), for example using ravel().\n",
            "\n",
            "/usr/local/lib/python3.7/dist-packages/sklearn/model_selection/_validation.py:515: DataConversionWarning:\n",
            "\n",
            "A column-vector y was passed when a 1d array was expected. Please change the shape of y to (n_samples,), for example using ravel().\n",
            "\n",
            "/usr/local/lib/python3.7/dist-packages/sklearn/model_selection/_validation.py:515: DataConversionWarning:\n",
            "\n",
            "A column-vector y was passed when a 1d array was expected. Please change the shape of y to (n_samples,), for example using ravel().\n",
            "\n",
            "/usr/local/lib/python3.7/dist-packages/sklearn/model_selection/_validation.py:515: DataConversionWarning:\n",
            "\n",
            "A column-vector y was passed when a 1d array was expected. Please change the shape of y to (n_samples,), for example using ravel().\n",
            "\n",
            "/usr/local/lib/python3.7/dist-packages/sklearn/model_selection/_validation.py:515: DataConversionWarning:\n",
            "\n",
            "A column-vector y was passed when a 1d array was expected. Please change the shape of y to (n_samples,), for example using ravel().\n",
            "\n",
            "/usr/local/lib/python3.7/dist-packages/sklearn/model_selection/_validation.py:515: DataConversionWarning:\n",
            "\n",
            "A column-vector y was passed when a 1d array was expected. Please change the shape of y to (n_samples,), for example using ravel().\n",
            "\n",
            "/usr/local/lib/python3.7/dist-packages/sklearn/model_selection/_validation.py:515: DataConversionWarning:\n",
            "\n",
            "A column-vector y was passed when a 1d array was expected. Please change the shape of y to (n_samples,), for example using ravel().\n",
            "\n",
            "/usr/local/lib/python3.7/dist-packages/sklearn/model_selection/_validation.py:515: DataConversionWarning:\n",
            "\n",
            "A column-vector y was passed when a 1d array was expected. Please change the shape of y to (n_samples,), for example using ravel().\n",
            "\n",
            "/usr/local/lib/python3.7/dist-packages/sklearn/model_selection/_validation.py:515: DataConversionWarning:\n",
            "\n",
            "A column-vector y was passed when a 1d array was expected. Please change the shape of y to (n_samples,), for example using ravel().\n",
            "\n",
            "/usr/local/lib/python3.7/dist-packages/sklearn/model_selection/_validation.py:515: DataConversionWarning:\n",
            "\n",
            "A column-vector y was passed when a 1d array was expected. Please change the shape of y to (n_samples,), for example using ravel().\n",
            "\n",
            "/usr/local/lib/python3.7/dist-packages/sklearn/model_selection/_validation.py:515: DataConversionWarning:\n",
            "\n",
            "A column-vector y was passed when a 1d array was expected. Please change the shape of y to (n_samples,), for example using ravel().\n",
            "\n",
            "/usr/local/lib/python3.7/dist-packages/sklearn/model_selection/_validation.py:515: DataConversionWarning:\n",
            "\n",
            "A column-vector y was passed when a 1d array was expected. Please change the shape of y to (n_samples,), for example using ravel().\n",
            "\n",
            "/usr/local/lib/python3.7/dist-packages/sklearn/model_selection/_validation.py:515: DataConversionWarning:\n",
            "\n",
            "A column-vector y was passed when a 1d array was expected. Please change the shape of y to (n_samples,), for example using ravel().\n",
            "\n",
            "/usr/local/lib/python3.7/dist-packages/sklearn/model_selection/_validation.py:515: DataConversionWarning:\n",
            "\n",
            "A column-vector y was passed when a 1d array was expected. Please change the shape of y to (n_samples,), for example using ravel().\n",
            "\n",
            "/usr/local/lib/python3.7/dist-packages/sklearn/model_selection/_validation.py:515: DataConversionWarning:\n",
            "\n",
            "A column-vector y was passed when a 1d array was expected. Please change the shape of y to (n_samples,), for example using ravel().\n",
            "\n",
            "/usr/local/lib/python3.7/dist-packages/sklearn/model_selection/_validation.py:515: DataConversionWarning:\n",
            "\n",
            "A column-vector y was passed when a 1d array was expected. Please change the shape of y to (n_samples,), for example using ravel().\n",
            "\n",
            "/usr/local/lib/python3.7/dist-packages/sklearn/model_selection/_validation.py:515: DataConversionWarning:\n",
            "\n",
            "A column-vector y was passed when a 1d array was expected. Please change the shape of y to (n_samples,), for example using ravel().\n",
            "\n",
            "/usr/local/lib/python3.7/dist-packages/sklearn/model_selection/_validation.py:515: DataConversionWarning:\n",
            "\n",
            "A column-vector y was passed when a 1d array was expected. Please change the shape of y to (n_samples,), for example using ravel().\n",
            "\n",
            "/usr/local/lib/python3.7/dist-packages/sklearn/model_selection/_validation.py:515: DataConversionWarning:\n",
            "\n",
            "A column-vector y was passed when a 1d array was expected. Please change the shape of y to (n_samples,), for example using ravel().\n",
            "\n",
            "/usr/local/lib/python3.7/dist-packages/sklearn/model_selection/_validation.py:515: DataConversionWarning:\n",
            "\n",
            "A column-vector y was passed when a 1d array was expected. Please change the shape of y to (n_samples,), for example using ravel().\n",
            "\n",
            "/usr/local/lib/python3.7/dist-packages/sklearn/model_selection/_validation.py:515: DataConversionWarning:\n",
            "\n",
            "A column-vector y was passed when a 1d array was expected. Please change the shape of y to (n_samples,), for example using ravel().\n",
            "\n",
            "/usr/local/lib/python3.7/dist-packages/sklearn/model_selection/_validation.py:515: DataConversionWarning:\n",
            "\n",
            "A column-vector y was passed when a 1d array was expected. Please change the shape of y to (n_samples,), for example using ravel().\n",
            "\n",
            "/usr/local/lib/python3.7/dist-packages/sklearn/model_selection/_validation.py:515: DataConversionWarning:\n",
            "\n",
            "A column-vector y was passed when a 1d array was expected. Please change the shape of y to (n_samples,), for example using ravel().\n",
            "\n",
            "/usr/local/lib/python3.7/dist-packages/sklearn/model_selection/_validation.py:515: DataConversionWarning:\n",
            "\n",
            "A column-vector y was passed when a 1d array was expected. Please change the shape of y to (n_samples,), for example using ravel().\n",
            "\n",
            "/usr/local/lib/python3.7/dist-packages/sklearn/model_selection/_validation.py:515: DataConversionWarning:\n",
            "\n",
            "A column-vector y was passed when a 1d array was expected. Please change the shape of y to (n_samples,), for example using ravel().\n",
            "\n",
            "/usr/local/lib/python3.7/dist-packages/sklearn/model_selection/_validation.py:515: DataConversionWarning:\n",
            "\n",
            "A column-vector y was passed when a 1d array was expected. Please change the shape of y to (n_samples,), for example using ravel().\n",
            "\n",
            "/usr/local/lib/python3.7/dist-packages/sklearn/model_selection/_validation.py:515: DataConversionWarning:\n",
            "\n",
            "A column-vector y was passed when a 1d array was expected. Please change the shape of y to (n_samples,), for example using ravel().\n",
            "\n",
            "/usr/local/lib/python3.7/dist-packages/sklearn/model_selection/_validation.py:515: DataConversionWarning:\n",
            "\n",
            "A column-vector y was passed when a 1d array was expected. Please change the shape of y to (n_samples,), for example using ravel().\n",
            "\n",
            "/usr/local/lib/python3.7/dist-packages/sklearn/model_selection/_validation.py:515: DataConversionWarning:\n",
            "\n",
            "A column-vector y was passed when a 1d array was expected. Please change the shape of y to (n_samples,), for example using ravel().\n",
            "\n",
            "/usr/local/lib/python3.7/dist-packages/sklearn/model_selection/_validation.py:515: DataConversionWarning:\n",
            "\n",
            "A column-vector y was passed when a 1d array was expected. Please change the shape of y to (n_samples,), for example using ravel().\n",
            "\n",
            "/usr/local/lib/python3.7/dist-packages/sklearn/model_selection/_validation.py:515: DataConversionWarning:\n",
            "\n",
            "A column-vector y was passed when a 1d array was expected. Please change the shape of y to (n_samples,), for example using ravel().\n",
            "\n",
            "/usr/local/lib/python3.7/dist-packages/sklearn/model_selection/_validation.py:515: DataConversionWarning:\n",
            "\n",
            "A column-vector y was passed when a 1d array was expected. Please change the shape of y to (n_samples,), for example using ravel().\n",
            "\n",
            "/usr/local/lib/python3.7/dist-packages/sklearn/model_selection/_validation.py:515: DataConversionWarning:\n",
            "\n",
            "A column-vector y was passed when a 1d array was expected. Please change the shape of y to (n_samples,), for example using ravel().\n",
            "\n",
            "/usr/local/lib/python3.7/dist-packages/sklearn/model_selection/_validation.py:515: DataConversionWarning:\n",
            "\n",
            "A column-vector y was passed when a 1d array was expected. Please change the shape of y to (n_samples,), for example using ravel().\n",
            "\n",
            "/usr/local/lib/python3.7/dist-packages/sklearn/model_selection/_validation.py:515: DataConversionWarning:\n",
            "\n",
            "A column-vector y was passed when a 1d array was expected. Please change the shape of y to (n_samples,), for example using ravel().\n",
            "\n",
            "/usr/local/lib/python3.7/dist-packages/sklearn/model_selection/_validation.py:515: DataConversionWarning:\n",
            "\n",
            "A column-vector y was passed when a 1d array was expected. Please change the shape of y to (n_samples,), for example using ravel().\n",
            "\n",
            "/usr/local/lib/python3.7/dist-packages/sklearn/model_selection/_validation.py:515: DataConversionWarning:\n",
            "\n",
            "A column-vector y was passed when a 1d array was expected. Please change the shape of y to (n_samples,), for example using ravel().\n",
            "\n",
            "/usr/local/lib/python3.7/dist-packages/sklearn/model_selection/_validation.py:515: DataConversionWarning:\n",
            "\n",
            "A column-vector y was passed when a 1d array was expected. Please change the shape of y to (n_samples,), for example using ravel().\n",
            "\n",
            "/usr/local/lib/python3.7/dist-packages/sklearn/model_selection/_validation.py:515: DataConversionWarning:\n",
            "\n",
            "A column-vector y was passed when a 1d array was expected. Please change the shape of y to (n_samples,), for example using ravel().\n",
            "\n",
            "/usr/local/lib/python3.7/dist-packages/sklearn/model_selection/_validation.py:515: DataConversionWarning:\n",
            "\n",
            "A column-vector y was passed when a 1d array was expected. Please change the shape of y to (n_samples,), for example using ravel().\n",
            "\n",
            "/usr/local/lib/python3.7/dist-packages/sklearn/model_selection/_validation.py:515: DataConversionWarning:\n",
            "\n",
            "A column-vector y was passed when a 1d array was expected. Please change the shape of y to (n_samples,), for example using ravel().\n",
            "\n",
            "/usr/local/lib/python3.7/dist-packages/sklearn/model_selection/_validation.py:515: DataConversionWarning:\n",
            "\n",
            "A column-vector y was passed when a 1d array was expected. Please change the shape of y to (n_samples,), for example using ravel().\n",
            "\n",
            "/usr/local/lib/python3.7/dist-packages/sklearn/model_selection/_validation.py:515: DataConversionWarning:\n",
            "\n",
            "A column-vector y was passed when a 1d array was expected. Please change the shape of y to (n_samples,), for example using ravel().\n",
            "\n",
            "/usr/local/lib/python3.7/dist-packages/sklearn/model_selection/_validation.py:515: DataConversionWarning:\n",
            "\n",
            "A column-vector y was passed when a 1d array was expected. Please change the shape of y to (n_samples,), for example using ravel().\n",
            "\n",
            "/usr/local/lib/python3.7/dist-packages/sklearn/model_selection/_validation.py:515: DataConversionWarning:\n",
            "\n",
            "A column-vector y was passed when a 1d array was expected. Please change the shape of y to (n_samples,), for example using ravel().\n",
            "\n",
            "/usr/local/lib/python3.7/dist-packages/sklearn/model_selection/_validation.py:515: DataConversionWarning:\n",
            "\n",
            "A column-vector y was passed when a 1d array was expected. Please change the shape of y to (n_samples,), for example using ravel().\n",
            "\n",
            "/usr/local/lib/python3.7/dist-packages/sklearn/model_selection/_validation.py:515: DataConversionWarning:\n",
            "\n",
            "A column-vector y was passed when a 1d array was expected. Please change the shape of y to (n_samples,), for example using ravel().\n",
            "\n",
            "/usr/local/lib/python3.7/dist-packages/sklearn/model_selection/_validation.py:515: DataConversionWarning:\n",
            "\n",
            "A column-vector y was passed when a 1d array was expected. Please change the shape of y to (n_samples,), for example using ravel().\n",
            "\n",
            "/usr/local/lib/python3.7/dist-packages/sklearn/model_selection/_validation.py:515: DataConversionWarning:\n",
            "\n",
            "A column-vector y was passed when a 1d array was expected. Please change the shape of y to (n_samples,), for example using ravel().\n",
            "\n",
            "/usr/local/lib/python3.7/dist-packages/sklearn/model_selection/_validation.py:515: DataConversionWarning:\n",
            "\n",
            "A column-vector y was passed when a 1d array was expected. Please change the shape of y to (n_samples,), for example using ravel().\n",
            "\n",
            "/usr/local/lib/python3.7/dist-packages/sklearn/model_selection/_validation.py:515: DataConversionWarning:\n",
            "\n",
            "A column-vector y was passed when a 1d array was expected. Please change the shape of y to (n_samples,), for example using ravel().\n",
            "\n",
            "/usr/local/lib/python3.7/dist-packages/sklearn/model_selection/_validation.py:515: DataConversionWarning:\n",
            "\n",
            "A column-vector y was passed when a 1d array was expected. Please change the shape of y to (n_samples,), for example using ravel().\n",
            "\n",
            "/usr/local/lib/python3.7/dist-packages/sklearn/model_selection/_validation.py:515: DataConversionWarning:\n",
            "\n",
            "A column-vector y was passed when a 1d array was expected. Please change the shape of y to (n_samples,), for example using ravel().\n",
            "\n",
            "/usr/local/lib/python3.7/dist-packages/sklearn/model_selection/_validation.py:515: DataConversionWarning:\n",
            "\n",
            "A column-vector y was passed when a 1d array was expected. Please change the shape of y to (n_samples,), for example using ravel().\n",
            "\n",
            "/usr/local/lib/python3.7/dist-packages/sklearn/model_selection/_validation.py:515: DataConversionWarning:\n",
            "\n",
            "A column-vector y was passed when a 1d array was expected. Please change the shape of y to (n_samples,), for example using ravel().\n",
            "\n",
            "/usr/local/lib/python3.7/dist-packages/sklearn/model_selection/_validation.py:515: DataConversionWarning:\n",
            "\n",
            "A column-vector y was passed when a 1d array was expected. Please change the shape of y to (n_samples,), for example using ravel().\n",
            "\n",
            "/usr/local/lib/python3.7/dist-packages/sklearn/model_selection/_validation.py:515: DataConversionWarning:\n",
            "\n",
            "A column-vector y was passed when a 1d array was expected. Please change the shape of y to (n_samples,), for example using ravel().\n",
            "\n",
            "/usr/local/lib/python3.7/dist-packages/sklearn/model_selection/_validation.py:515: DataConversionWarning:\n",
            "\n",
            "A column-vector y was passed when a 1d array was expected. Please change the shape of y to (n_samples,), for example using ravel().\n",
            "\n",
            "/usr/local/lib/python3.7/dist-packages/sklearn/model_selection/_validation.py:515: DataConversionWarning:\n",
            "\n",
            "A column-vector y was passed when a 1d array was expected. Please change the shape of y to (n_samples,), for example using ravel().\n",
            "\n",
            "/usr/local/lib/python3.7/dist-packages/sklearn/model_selection/_validation.py:515: DataConversionWarning:\n",
            "\n",
            "A column-vector y was passed when a 1d array was expected. Please change the shape of y to (n_samples,), for example using ravel().\n",
            "\n",
            "/usr/local/lib/python3.7/dist-packages/sklearn/model_selection/_validation.py:515: DataConversionWarning:\n",
            "\n",
            "A column-vector y was passed when a 1d array was expected. Please change the shape of y to (n_samples,), for example using ravel().\n",
            "\n",
            "/usr/local/lib/python3.7/dist-packages/sklearn/model_selection/_validation.py:515: DataConversionWarning:\n",
            "\n",
            "A column-vector y was passed when a 1d array was expected. Please change the shape of y to (n_samples,), for example using ravel().\n",
            "\n",
            "/usr/local/lib/python3.7/dist-packages/sklearn/model_selection/_search.py:739: DataConversionWarning:\n",
            "\n",
            "A column-vector y was passed when a 1d array was expected. Please change the shape of y to (n_samples,), for example using ravel().\n",
            "\n"
          ],
          "name": "stderr"
        },
        {
          "output_type": "execute_result",
          "data": {
            "text/plain": [
              "{'criterion': 'mse',\n",
              " 'max_depth': 8,\n",
              " 'max_features': 'auto',\n",
              " 'n_estimators': 100}"
            ]
          },
          "metadata": {
            "tags": []
          },
          "execution_count": 26
        }
      ]
    },
    {
      "cell_type": "code",
      "metadata": {
        "colab": {
          "base_uri": "https://localhost:8080/"
        },
        "id": "F5ktHYbwPwwc",
        "outputId": "d88dad8e-565a-48d1-b3c9-a9a9c345bbff"
      },
      "source": [
        "# Predict on Validation set\n",
        "y_val_pred = GSCV.predict(x_val)\n",
        "# Metrics obtained on the validation set\n",
        "regression_results(y_val, y_val_pred)"
      ],
      "execution_count": 27,
      "outputs": [
        {
          "output_type": "stream",
          "text": [
            "explained_variance:  0.4593\n",
            "r2:  0.4586\n",
            "MAE:  0.4968\n",
            "MSE:  0.4138\n",
            "RMSE:  0.6433\n"
          ],
          "name": "stdout"
        },
        {
          "output_type": "execute_result",
          "data": {
            "text/plain": [
              "{'MAE': 0.4968,\n",
              " 'MSE': 0.4138,\n",
              " 'RMSE': 0.6433,\n",
              " 'explained_variance': 0.4593,\n",
              " 'r2': 0.4586}"
            ]
          },
          "metadata": {
            "tags": []
          },
          "execution_count": 27
        }
      ]
    },
    {
      "cell_type": "code",
      "metadata": {
        "colab": {
          "base_uri": "https://localhost:8080/"
        },
        "id": "ki3a54u0QklR",
        "outputId": "361373c4-3069-47e7-a1c8-93c7e7022be6"
      },
      "source": [
        "#random_forest_tuning = RandomForestRegressor(random_state = 6)\n",
        "\n",
        "y_pred = GSCV.predict(x_test)\n",
        "regression_results(y_test, y_pred)"
      ],
      "execution_count": 28,
      "outputs": [
        {
          "output_type": "stream",
          "text": [
            "explained_variance:  0.4504\n",
            "r2:  0.4446\n",
            "MAE:  0.6217\n",
            "MSE:  0.7197\n",
            "RMSE:  0.8483\n"
          ],
          "name": "stdout"
        },
        {
          "output_type": "execute_result",
          "data": {
            "text/plain": [
              "{'MAE': 0.6217,\n",
              " 'MSE': 0.7197,\n",
              " 'RMSE': 0.8483,\n",
              " 'explained_variance': 0.4504,\n",
              " 'r2': 0.4446}"
            ]
          },
          "metadata": {
            "tags": []
          },
          "execution_count": 28
        }
      ]
    },
    {
      "cell_type": "code",
      "metadata": {
        "colab": {
          "base_uri": "https://localhost:8080/"
        },
        "id": "Xk8jw5xU_lp3",
        "outputId": "5a505b7b-cf8e-4481-ad04-5eeb1b6faee9"
      },
      "source": [
        "y_test_pred =y_pred.reshape(71,1)\n",
        "error =  abs(y_test_pred - y_test)\n",
        "rate = error / y_test\n",
        "s_array = rate[[\"Yield\"]].to_numpy()\n",
        "s_array[~np.isfinite(s_array)] = 0\n",
        "s_array.mean()"
      ],
      "execution_count": 29,
      "outputs": [
        {
          "output_type": "execute_result",
          "data": {
            "text/plain": [
              "2.3830418223505467"
            ]
          },
          "metadata": {
            "tags": []
          },
          "execution_count": 29
        }
      ]
    },
    {
      "cell_type": "markdown",
      "metadata": {
        "id": "FoH3VbbPQHuo"
      },
      "source": [
        "## Polynomial "
      ]
    },
    {
      "cell_type": "code",
      "metadata": {
        "colab": {
          "base_uri": "https://localhost:8080/"
        },
        "id": "bx9ERItUP1RU",
        "outputId": "e9d027d3-c7df-4e71-ceff-3248d94b6acc"
      },
      "source": [
        "from sklearn.preprocessing import PolynomialFeatures\n",
        "from sklearn.linear_model import LinearRegression\n",
        "poly_reg = PolynomialFeatures(degree = 3)\n",
        "X_poly = poly_reg.fit_transform(x_train)\n",
        "lin_reg = LinearRegression()\n",
        "lin_reg.fit(X_poly, y_train)\n",
        "y_pred = lin_reg.predict(X_poly)\n",
        "regression_results(y_train, y_pred)"
      ],
      "execution_count": 45,
      "outputs": [
        {
          "output_type": "stream",
          "text": [
            "explained_variance:  1.0\n",
            "r2:  1.0\n",
            "MAE:  0.0\n",
            "MSE:  0.0\n",
            "RMSE:  0.0\n"
          ],
          "name": "stdout"
        },
        {
          "output_type": "execute_result",
          "data": {
            "text/plain": [
              "{'MAE': 0.0, 'MSE': 0.0, 'RMSE': 0.0, 'explained_variance': 1.0, 'r2': 1.0}"
            ]
          },
          "metadata": {
            "tags": []
          },
          "execution_count": 45
        }
      ]
    },
    {
      "cell_type": "markdown",
      "metadata": {
        "id": "Rtl7p2ZTYgyt"
      },
      "source": [
        "### Polynomial with Tuning on Validation"
      ]
    },
    {
      "cell_type": "code",
      "metadata": {
        "colab": {
          "base_uri": "https://localhost:8080/"
        },
        "id": "sQXwKCJCYgHU",
        "outputId": "d93e77a7-0a58-4b78-96c5-c3bcbee25d8c"
      },
      "source": [
        "from sklearn.model_selection import GridSearchCV\n",
        "from sklearn.pipeline import Pipeline\n",
        "param_grid = [\n",
        "    {'poly__degree': [2, 3, 4]}\n",
        "  ]\n",
        "pipeline = Pipeline(steps=[('poly', PolynomialFeatures()), ('ridge', Ridge())])\n",
        "grid_search = GridSearchCV(pipeline, param_grid, cv=5,\n",
        "                           scoring='neg_mean_squared_error',\n",
        "                           return_train_score=True)\n",
        "grid_search.fit(x_train, y_train)"
      ],
      "execution_count": 46,
      "outputs": [
        {
          "output_type": "execute_result",
          "data": {
            "text/plain": [
              "GridSearchCV(cv=5, error_score=nan,\n",
              "             estimator=Pipeline(memory=None,\n",
              "                                steps=[('poly',\n",
              "                                        PolynomialFeatures(degree=2,\n",
              "                                                           include_bias=True,\n",
              "                                                           interaction_only=False,\n",
              "                                                           order='C')),\n",
              "                                       ('ridge',\n",
              "                                        Ridge(alpha=1.0, copy_X=True,\n",
              "                                              fit_intercept=True, max_iter=None,\n",
              "                                              normalize=False,\n",
              "                                              random_state=None, solver='auto',\n",
              "                                              tol=0.001))],\n",
              "                                verbose=False),\n",
              "             iid='deprecated', n_jobs=None,\n",
              "             param_grid=[{'poly__degree': [2, 3, 4]}], pre_dispatch='2*n_jobs',\n",
              "             refit=True, return_train_score=True,\n",
              "             scoring='neg_mean_squared_error', verbose=0)"
            ]
          },
          "metadata": {
            "tags": []
          },
          "execution_count": 46
        }
      ]
    },
    {
      "cell_type": "code",
      "metadata": {
        "colab": {
          "base_uri": "https://localhost:8080/"
        },
        "id": "ifGiArlehxKT",
        "outputId": "f89e3e33-5b0a-4b57-9ae7-e1461d5f20d0"
      },
      "source": [
        "grid_search.best_params_"
      ],
      "execution_count": 47,
      "outputs": [
        {
          "output_type": "execute_result",
          "data": {
            "text/plain": [
              "{'poly__degree': 2}"
            ]
          },
          "metadata": {
            "tags": []
          },
          "execution_count": 47
        }
      ]
    },
    {
      "cell_type": "code",
      "metadata": {
        "colab": {
          "base_uri": "https://localhost:8080/"
        },
        "id": "11wb-CLYYlPH",
        "outputId": "9fe43fe8-d099-402b-cf15-3f4aa730c716"
      },
      "source": [
        "y_pred = grid_search.predict(x_val)\n",
        "regression_results(y_val, y_pred)"
      ],
      "execution_count": 47,
      "outputs": [
        {
          "output_type": "stream",
          "text": [
            "explained_variance:  0.0131\n",
            "r2:  0.0113\n",
            "MAE:  0.6737\n",
            "MSE:  0.7557\n",
            "RMSE:  0.8693\n"
          ],
          "name": "stdout"
        },
        {
          "output_type": "execute_result",
          "data": {
            "text/plain": [
              "{'MAE': 0.6737,\n",
              " 'MSE': 0.7557,\n",
              " 'RMSE': 0.8693,\n",
              " 'explained_variance': 0.0131,\n",
              " 'r2': 0.0113}"
            ]
          },
          "metadata": {
            "tags": []
          },
          "execution_count": 47
        }
      ]
    },
    {
      "cell_type": "markdown",
      "metadata": {
        "id": "YLVa6FU9YtXv"
      },
      "source": [
        "### Final Polynomial with Tuning on Test "
      ]
    },
    {
      "cell_type": "code",
      "metadata": {
        "colab": {
          "base_uri": "https://localhost:8080/"
        },
        "id": "CSbAJrOzYy4L",
        "outputId": "1a8321c6-8583-47a8-b0cf-97a0f1979a0d"
      },
      "source": [
        "param_grid = [\n",
        "    {'poly__degree': [2, 3, 4]}\n",
        "  ]\n",
        "pipeline = Pipeline(steps=[('poly', PolynomialFeatures()), ('ridge', Ridge())])\n",
        "grid_search = GridSearchCV(pipeline, param_grid, cv=5,\n",
        "                           scoring='neg_mean_squared_error',\n",
        "                           return_train_score=True)\n",
        "grid_search.fit(x_train, y_train)"
      ],
      "execution_count": 48,
      "outputs": [
        {
          "output_type": "execute_result",
          "data": {
            "text/plain": [
              "GridSearchCV(cv=5, error_score=nan,\n",
              "             estimator=Pipeline(memory=None,\n",
              "                                steps=[('poly',\n",
              "                                        PolynomialFeatures(degree=2,\n",
              "                                                           include_bias=True,\n",
              "                                                           interaction_only=False,\n",
              "                                                           order='C')),\n",
              "                                       ('ridge',\n",
              "                                        Ridge(alpha=1.0, copy_X=True,\n",
              "                                              fit_intercept=True, max_iter=None,\n",
              "                                              normalize=False,\n",
              "                                              random_state=None, solver='auto',\n",
              "                                              tol=0.001))],\n",
              "                                verbose=False),\n",
              "             iid='deprecated', n_jobs=None,\n",
              "             param_grid=[{'poly__degree': [2, 3, 4]}], pre_dispatch='2*n_jobs',\n",
              "             refit=True, return_train_score=True,\n",
              "             scoring='neg_mean_squared_error', verbose=0)"
            ]
          },
          "metadata": {
            "tags": []
          },
          "execution_count": 48
        }
      ]
    },
    {
      "cell_type": "code",
      "metadata": {
        "colab": {
          "base_uri": "https://localhost:8080/"
        },
        "id": "Z9RQgVKCY1Gr",
        "outputId": "2cfc2e09-d94c-476a-ebc1-87b97b5e6021"
      },
      "source": [
        "y_pred = grid_search.predict(x_test)\n",
        "regression_results(y_test, y_pred)"
      ],
      "execution_count": 49,
      "outputs": [
        {
          "output_type": "stream",
          "text": [
            "explained_variance:  0.0212\n",
            "r2:  0.0014\n",
            "MAE:  0.7843\n",
            "MSE:  1.2939\n",
            "RMSE:  1.1375\n"
          ],
          "name": "stdout"
        },
        {
          "output_type": "execute_result",
          "data": {
            "text/plain": [
              "{'MAE': 0.7843,\n",
              " 'MSE': 1.2939,\n",
              " 'RMSE': 1.1375,\n",
              " 'explained_variance': 0.0212,\n",
              " 'r2': 0.0014}"
            ]
          },
          "metadata": {
            "tags": []
          },
          "execution_count": 49
        }
      ]
    },
    {
      "cell_type": "code",
      "metadata": {
        "colab": {
          "base_uri": "https://localhost:8080/"
        },
        "id": "1IoZRsGk_syI",
        "outputId": "d6b8d526-d62c-402d-fafd-aa591f052434"
      },
      "source": [
        "y_test_pred =y_pred.reshape(71,1)\n",
        "error =  abs(y_test_pred - y_test)\n",
        "rate = error / y_test\n",
        "s_array = rate[[\"Yield\"]].to_numpy()\n",
        "s_array[~np.isfinite(s_array)] = 0\n",
        "s_array.mean()"
      ],
      "execution_count": 50,
      "outputs": [
        {
          "output_type": "execute_result",
          "data": {
            "text/plain": [
              "2.7337975175619205"
            ]
          },
          "metadata": {
            "tags": []
          },
          "execution_count": 50
        }
      ]
    },
    {
      "cell_type": "markdown",
      "metadata": {
        "id": "xYB9H0bRQQ4I"
      },
      "source": [
        "## Kernel"
      ]
    },
    {
      "cell_type": "code",
      "metadata": {
        "colab": {
          "base_uri": "https://localhost:8080/"
        },
        "id": "7eu9m2FuQKwU",
        "outputId": "f11eb2ad-3731-49e8-b3e3-ed9e708d38cd"
      },
      "source": [
        "from sklearn.kernel_ridge import KernelRidge\n",
        "#import KernelReg as kr\n",
        "clf = KernelRidge(alpha=1.0)\n",
        "clf.fit(x_train, y_train)\n",
        "KernelRidge(alpha=1.0)\n",
        "\n",
        "# Evaluating the model on the train set\n",
        "y_pred_kernel = clf.predict(x_train)\n",
        "regression_results(y_train, y_pred_kernel)\n",
        "# Evaluating the model on the validation set \n",
        "y_pred_kernel = clf.predict(x_val)\n",
        "regression_results(y_val, y_pred_kernel)\n",
        "# Evaluating the model on the vtest set\n",
        "y_pred_kernel = clf.predict(x_test)\n",
        "regression_results(y_test, y_pred_kernel)"
      ],
      "execution_count": 51,
      "outputs": [
        {
          "output_type": "stream",
          "text": [
            "explained_variance:  0.3754\n",
            "r2:  0.3747\n",
            "MAE:  0.5622\n",
            "MSE:  0.6288\n",
            "RMSE:  0.793\n",
            "explained_variance:  0.4047\n",
            "r2:  0.4036\n",
            "MAE:  0.5194\n",
            "MSE:  0.4559\n",
            "RMSE:  0.6752\n",
            "explained_variance:  0.3475\n",
            "r2:  0.3298\n",
            "MAE:  0.6714\n",
            "MSE:  0.8684\n",
            "RMSE:  0.9319\n"
          ],
          "name": "stdout"
        },
        {
          "output_type": "execute_result",
          "data": {
            "text/plain": [
              "{'MAE': 0.6714,\n",
              " 'MSE': 0.8684,\n",
              " 'RMSE': 0.9319,\n",
              " 'explained_variance': 0.3475,\n",
              " 'r2': 0.3298}"
            ]
          },
          "metadata": {
            "tags": []
          },
          "execution_count": 51
        }
      ]
    },
    {
      "cell_type": "code",
      "metadata": {
        "colab": {
          "base_uri": "https://localhost:8080/"
        },
        "id": "1ksUI3qS_xAK",
        "outputId": "14bf67e5-4898-42c8-cf1d-e2db9d904590"
      },
      "source": [
        "y_test_pred =y_pred_kernel.reshape(71,1)\n",
        "error =  abs(y_test_pred - y_test)\n",
        "rate = error / y_test\n",
        "s_array = rate[[\"Yield\"]].to_numpy()\n",
        "s_array[~np.isfinite(s_array)] = 0\n",
        "s_array.mean()"
      ],
      "execution_count": 52,
      "outputs": [
        {
          "output_type": "execute_result",
          "data": {
            "text/plain": [
              "0.7949125584230866"
            ]
          },
          "metadata": {
            "tags": []
          },
          "execution_count": 52
        }
      ]
    },
    {
      "cell_type": "markdown",
      "metadata": {
        "id": "m_XQgxtQQW5s"
      },
      "source": [
        "## Bagging"
      ]
    },
    {
      "cell_type": "code",
      "metadata": {
        "colab": {
          "base_uri": "https://localhost:8080/"
        },
        "id": "VTdEq8dyQT9K",
        "outputId": "8474bfbe-7a71-4615-8b4b-92b11b9f98ef"
      },
      "source": [
        "from sklearn.svm import SVR\n",
        "from sklearn.ensemble import BaggingRegressor\n",
        "\n",
        "regr = BaggingRegressor(base_estimator=SVR(), n_estimators=10, random_state=0).fit(x_train, y_train)\n",
        "\n",
        "# Evaluating the model on the train set\n",
        "y_pred_bag = regr.predict(x_train)\n",
        "regression_results(y_train, y_pred_bag)\n"
      ],
      "execution_count": 53,
      "outputs": [
        {
          "output_type": "stream",
          "text": [
            "A column-vector y was passed when a 1d array was expected. Please change the shape of y to (n_samples, ), for example using ravel().\n"
          ],
          "name": "stderr"
        },
        {
          "output_type": "stream",
          "text": [
            "explained_variance:  0.5625\n",
            "r2:  0.5613\n",
            "MAE:  0.4268\n",
            "MSE:  0.4412\n",
            "RMSE:  0.6643\n"
          ],
          "name": "stdout"
        },
        {
          "output_type": "execute_result",
          "data": {
            "text/plain": [
              "{'MAE': 0.4268,\n",
              " 'MSE': 0.4412,\n",
              " 'RMSE': 0.6643,\n",
              " 'explained_variance': 0.5625,\n",
              " 'r2': 0.5613}"
            ]
          },
          "metadata": {
            "tags": []
          },
          "execution_count": 53
        }
      ]
    },
    {
      "cell_type": "code",
      "metadata": {
        "colab": {
          "base_uri": "https://localhost:8080/"
        },
        "id": "upZZjweihJDB",
        "outputId": "c9326d5e-0093-4d74-9f3c-c036b678d9fd"
      },
      "source": [
        "from sklearn.neighbors import KNeighborsRegressor\n",
        "from sklearn.model_selection import GridSearchCV\n",
        "params = {'base_estimator': [None, LinearRegression(), KNeighborsRegressor(), SVR()],\n",
        "          'n_estimators': [20,50,100],\n",
        "          'bootstrap': [True, False],\n",
        "          'bootstrap_features': [True, False]}\n",
        "\n",
        "bagging_regressor_grid = GridSearchCV(BaggingRegressor(random_state=1, n_jobs=-1), param_grid =params, cv=3, n_jobs=-1, verbose=1)\n",
        "bagging_regressor_grid.fit(x_train, y_train)"
      ],
      "execution_count": 54,
      "outputs": [
        {
          "output_type": "stream",
          "text": [
            "Fitting 3 folds for each of 48 candidates, totalling 144 fits\n"
          ],
          "name": "stdout"
        },
        {
          "output_type": "stream",
          "text": [
            "[Parallel(n_jobs=-1)]: Using backend LokyBackend with 2 concurrent workers.\n",
            "[Parallel(n_jobs=-1)]: Done  46 tasks      | elapsed:   16.5s\n",
            "[Parallel(n_jobs=-1)]: Done 144 out of 144 | elapsed:   52.7s finished\n",
            "A column-vector y was passed when a 1d array was expected. Please change the shape of y to (n_samples, ), for example using ravel().\n"
          ],
          "name": "stderr"
        },
        {
          "output_type": "execute_result",
          "data": {
            "text/plain": [
              "GridSearchCV(cv=3, error_score=nan,\n",
              "             estimator=BaggingRegressor(base_estimator=None, bootstrap=True,\n",
              "                                        bootstrap_features=False,\n",
              "                                        max_features=1.0, max_samples=1.0,\n",
              "                                        n_estimators=10, n_jobs=-1,\n",
              "                                        oob_score=False, random_state=1,\n",
              "                                        verbose=0, warm_start=False),\n",
              "             iid='deprecated', n_jobs=-1,\n",
              "             param_grid={'base_estimator': [None,\n",
              "                                            LinearRegression(copy_X=True,\n",
              "                                                             fit_intercept=True,\n",
              "                                                             n...\n",
              "                                                                n_jobs=None,\n",
              "                                                                n_neighbors=5,\n",
              "                                                                p=2,\n",
              "                                                                weights='uniform'),\n",
              "                                            SVR(C=1.0, cache_size=200,\n",
              "                                                coef0=0.0, degree=3,\n",
              "                                                epsilon=0.1, gamma='scale',\n",
              "                                                kernel='rbf', max_iter=-1,\n",
              "                                                shrinking=True, tol=0.001,\n",
              "                                                verbose=False)],\n",
              "                         'bootstrap': [True, False],\n",
              "                         'bootstrap_features': [True, False],\n",
              "                         'n_estimators': [20, 50, 100]},\n",
              "             pre_dispatch='2*n_jobs', refit=True, return_train_score=False,\n",
              "             scoring=None, verbose=1)"
            ]
          },
          "metadata": {
            "tags": []
          },
          "execution_count": 54
        }
      ]
    },
    {
      "cell_type": "code",
      "metadata": {
        "colab": {
          "base_uri": "https://localhost:8080/"
        },
        "id": "a71zpaA5oJRR",
        "outputId": "68de1d61-490d-4be9-bf76-e3dedf941177"
      },
      "source": [
        "# Evaluating the model on the validation set \n",
        "y_pred_bag_val = bagging_regressor_grid.predict(x_val)\n",
        "regression_results(y_val, y_pred_bag_val)\n",
        "# Evaluating the model on the vtest set\n",
        "y_pred_bag = bagging_regressor_grid.predict(x_test)\n",
        "regression_results(y_test, y_pred_bag)"
      ],
      "execution_count": 55,
      "outputs": [
        {
          "output_type": "stream",
          "text": [
            "explained_variance:  0.4793\n",
            "r2:  0.4768\n",
            "MAE:  0.4899\n",
            "MSE:  0.3999\n",
            "RMSE:  0.6324\n",
            "explained_variance:  0.389\n",
            "r2:  0.3719\n",
            "MAE:  0.6106\n",
            "MSE:  0.8138\n",
            "RMSE:  0.9021\n"
          ],
          "name": "stdout"
        },
        {
          "output_type": "execute_result",
          "data": {
            "text/plain": [
              "{'MAE': 0.6106,\n",
              " 'MSE': 0.8138,\n",
              " 'RMSE': 0.9021,\n",
              " 'explained_variance': 0.389,\n",
              " 'r2': 0.3719}"
            ]
          },
          "metadata": {
            "tags": []
          },
          "execution_count": 55
        }
      ]
    },
    {
      "cell_type": "code",
      "metadata": {
        "colab": {
          "base_uri": "https://localhost:8080/"
        },
        "id": "wTnQT4UI_4KX",
        "outputId": "8d6f81b0-59cf-47eb-a804-f628c4d0f78d"
      },
      "source": [
        "y_test_pred =y_pred_bag.reshape(71,1)\n",
        "error =  abs(y_test_pred - y_test)\n",
        "rate = error / y_test\n",
        "s_array = rate[[\"Yield\"]].to_numpy()\n",
        "s_array[~np.isfinite(s_array)] = 0\n",
        "s_array.mean()"
      ],
      "execution_count": 56,
      "outputs": [
        {
          "output_type": "execute_result",
          "data": {
            "text/plain": [
              "2.0384650961428386"
            ]
          },
          "metadata": {
            "tags": []
          },
          "execution_count": 56
        }
      ]
    },
    {
      "cell_type": "markdown",
      "metadata": {
        "id": "YkEFeaOJ_27F"
      },
      "source": [
        "#Year Long Season Unstandardized"
      ]
    },
    {
      "cell_type": "markdown",
      "metadata": {
        "id": "N6Cn5MVp_27G"
      },
      "source": [
        "## Linear Regression"
      ]
    },
    {
      "cell_type": "code",
      "metadata": {
        "id": "l04ajmqW_27H"
      },
      "source": [
        "# Split the data frame\n",
        "train_ratio = 0.75\n",
        "validation_ratio = 0.15\n",
        "test_ratio = 0.10\n",
        "\n",
        "# train is now 75% of the entire data set\n",
        "x_train, x_test, y_train, y_test = train_test_split(Y[['ADSCI_yr', \n",
        "                                                        'avg_precip_std',\t'avg_precip_min' ,\t'avg_precip_25%' ,\t'avg_precip_50%', \n",
        "                                                        'avg_precip_75%', 'avg_precip_max',\t'avg_temp_count', 'avg_temp_mean' ,\n",
        "                                                        \t'avg_temp_std' ,\t'avg_temp_min' ,\t'avg_temp_25%' ,\t'avg_temp_50%' ,\n",
        "                                                        'avg_temp_75%',\t'avg_temp_max', \t'max_temp_count' \t,'max_temp_mean' ,\t'max_temp_std', \t\n",
        "                                                        'max_temp_min', \t'max_temp_25%', \t'max_temp_50%' ,\t\n",
        "                                                        'max_temp_75%' \t,'max_temp_max', 'EDDI_5', 'EDDI_6', 'SPI_90', 'SPI_180', 'SPEI_90', 'SPEI_180', 'PDSI']],\n",
        "                                                    Y[['Yield']], \n",
        "                                                    test_size=1 - train_ratio, \n",
        "                                                    random_state = 0)\n",
        "\n",
        "# test is now 10% of the initial data set\n",
        "# validation is now 15% of the initial data set\n",
        "x_val, x_test, y_val, y_test = train_test_split(x_test, y_test, \n",
        "                                                test_size=test_ratio/(test_ratio + validation_ratio), \n",
        "                                                random_state = 0)"
      ],
      "execution_count": 102,
      "outputs": []
    },
    {
      "cell_type": "code",
      "metadata": {
        "colab": {
          "base_uri": "https://localhost:8080/"
        },
        "id": "PIgQkhoB_27I",
        "outputId": "fd073c8c-154b-4da6-e951-f5319a5b5dfc"
      },
      "source": [
        "# Fit the model\n",
        "lr = LinearRegression()\n",
        "lr.fit(x_train, y_train)\n",
        "print(f'Intercept is: {lr.intercept_}')\n",
        "print(f'Coefficient of the predictor is: {lr.coef_}')\n",
        "\n",
        "# predicting and obtaining Metrics on the Train set\n",
        "y_train_pred = lr.predict(x_train)\n",
        "r1 = regression_results(y_train, y_train_pred)\n",
        "# Predict on Validation set, metrics obtained on the validation set\n",
        "y_val_pred = lr.predict(x_val)\n",
        "r2 = regression_results(y_val, y_val_pred)\n",
        "# Predict on testn set, metrics obtained on the test set\n",
        "y_test_pred = lr.predict(x_test)\n",
        "r2 = regression_results(y_test, y_test_pred)"
      ],
      "execution_count": 103,
      "outputs": [
        {
          "output_type": "stream",
          "text": [
            "Intercept is: [712.86819007]\n",
            "Coefficient of the predictor is: [[-4.03985151e-03 -2.54487721e+02  1.27375837e+03  6.17582024e+01\n",
            "   1.87032204e+02 -2.29492519e+02  1.15148213e+01 -6.17986008e+00\n",
            "   2.55241366e+00  2.23117758e+00  6.77770179e-01  2.28690366e+00\n",
            "  -2.43583844e+00  1.67663814e+00  1.52177192e+00 -6.17986008e+00\n",
            "  -4.79679063e-01 -7.07478899e+00 -2.69636322e+00 -3.16563628e+00\n",
            "   3.43728734e+00 -5.67273621e-01 -7.76150457e-01  1.61130284e+00\n",
            "   2.48448229e+01 -8.47686975e+01  5.59504951e+01  9.24161243e+01\n",
            "  -5.94040196e+01  5.07653399e+00]]\n",
            "explained_variance:  0.4341\n",
            "r2:  0.4341\n",
            "MAE:  14.1988\n",
            "MSE:  389.6288\n",
            "RMSE:  19.739\n",
            "explained_variance:  0.35\n",
            "r2:  0.35\n",
            "MAE:  14.446\n",
            "MSE:  340.0851\n",
            "RMSE:  18.4414\n",
            "explained_variance:  0.4463\n",
            "r2:  0.4444\n",
            "MAE:  16.6571\n",
            "MSE:  492.8324\n",
            "RMSE:  22.1998\n"
          ],
          "name": "stdout"
        }
      ]
    },
    {
      "cell_type": "code",
      "metadata": {
        "colab": {
          "base_uri": "https://localhost:8080/"
        },
        "id": "_uU3DA8FL8KS",
        "outputId": "4e19773f-9bf5-4f3c-ee76-b7ad4ab6c8d5"
      },
      "source": [
        "# add constant column to the original dataframe\n",
        "Y['constant'] = 1 \n",
        "\n",
        "# define x as a subset of original dataframe\n",
        "x = Y[['constant', 'ADSCI_yr', 'avg_precip_std',\t'avg_precip_min' ,\t'avg_precip_25%' ,\t'avg_precip_50%', \n",
        "                                                        'avg_precip_75%', 'avg_precip_max',\t'avg_temp_count', 'avg_temp_mean' ,\n",
        "                                                        \t'avg_temp_std' ,\t'avg_temp_min' ,\t'avg_temp_25%' ,\t'avg_temp_50%' ,\n",
        "                                                        'avg_temp_75%',\t'avg_temp_max', \t'max_temp_count' \t,'max_temp_mean' ,\t'max_temp_std', \t\n",
        "                                                        'max_temp_min', \t'max_temp_25%', \t'max_temp_50%' ,\t\n",
        "                                                        'max_temp_75%' \t,'max_temp_max', 'EDDI_5', 'EDDI_6', 'SPI_90', 'SPI_180', 'SPEI_90', 'SPEI_180', 'PDSI']]\n",
        "# define y as a series (Asset Intensity)\n",
        "y = Y[['Yield']]\n",
        "\n",
        "model = sm.OLS(y, x)\n",
        "results = model.fit()\n",
        "print(results.summary())"
      ],
      "execution_count": 60,
      "outputs": [
        {
          "output_type": "stream",
          "text": [
            "                            OLS Regression Results                            \n",
            "==============================================================================\n",
            "Dep. Variable:                  Yield   R-squared:                       0.433\n",
            "Model:                            OLS   Adj. R-squared:                  0.408\n",
            "Method:                 Least Squares   F-statistic:                     17.70\n",
            "Date:                Wed, 14 Jul 2021   Prob (F-statistic):           1.37e-64\n",
            "Time:                        18:03:21   Log-Likelihood:                -3093.1\n",
            "No. Observations:                 703   AIC:                             6246.\n",
            "Df Residuals:                     673   BIC:                             6383.\n",
            "Df Model:                          29                                         \n",
            "Covariance Type:            nonrobust                                         \n",
            "==================================================================================\n",
            "                     coef    std err          t      P>|t|      [0.025      0.975]\n",
            "----------------------------------------------------------------------------------\n",
            "constant         814.4251    241.168      3.377      0.001     340.894    1287.957\n",
            "ADSCI_yr          -0.0044      0.001     -5.597      0.000      -0.006      -0.003\n",
            "avg_precip_std  -342.6886    123.113     -2.784      0.006    -584.421    -100.956\n",
            "avg_precip_min  1312.1853    432.750      3.032      0.003     462.482    2161.889\n",
            "avg_precip_25%    73.2988     94.360      0.777      0.438    -111.977     258.575\n",
            "avg_precip_50%   179.3212     69.625      2.576      0.010      42.613     316.030\n",
            "avg_precip_75%  -182.2452     52.921     -3.444      0.001    -286.155     -78.336\n",
            "avg_precip_max    14.8443     14.062      1.056      0.292     -12.766      42.454\n",
            "avg_temp_count    -7.4526      2.120     -3.515      0.000     -11.616      -3.289\n",
            "avg_temp_mean      3.5826      2.823      1.269      0.205      -1.960       9.125\n",
            "avg_temp_std       1.2643      3.755      0.337      0.736      -6.108       8.637\n",
            "avg_temp_min       0.2160      0.726      0.298      0.766      -1.209       1.642\n",
            "avg_temp_25%       1.6497      1.099      1.501      0.134      -0.509       3.808\n",
            "avg_temp_50%      -2.5819      1.172     -2.203      0.028      -4.883      -0.280\n",
            "avg_temp_75%       1.0117      1.396      0.725      0.469      -1.729       3.752\n",
            "avg_temp_max       1.7904      1.072      1.670      0.095      -0.315       3.895\n",
            "max_temp_count    -7.4526      2.120     -3.515      0.000     -11.616      -3.289\n",
            "max_temp_mean     -0.5721      2.652     -0.216      0.829      -5.780       4.635\n",
            "max_temp_std      -4.6386      3.582     -1.295      0.196     -11.672       2.395\n",
            "max_temp_min      -2.0288      0.730     -2.778      0.006      -3.463      -0.595\n",
            "max_temp_25%      -2.4522      0.987     -2.484      0.013      -4.391      -0.514\n",
            "max_temp_50%       3.8638      0.854      4.522      0.000       2.186       5.542\n",
            "max_temp_75%      -0.6436      1.193     -0.540      0.590      -2.986       1.698\n",
            "max_temp_max      -1.3227      1.006     -1.315      0.189      -3.298       0.652\n",
            "EDDI_5             4.0896      3.628      1.127      0.260      -3.035      11.214\n",
            "EDDI_6            22.1277      4.075      5.430      0.000      14.126      30.130\n",
            "SPI_90           -87.7821     29.821     -2.944      0.003    -146.335     -29.230\n",
            "SPI_180           58.6655     22.168      2.646      0.008      15.138     102.193\n",
            "SPEI_90           98.0340     27.598      3.552      0.000      43.845     152.223\n",
            "SPEI_180         -64.4054     22.484     -2.864      0.004    -108.553     -20.258\n",
            "PDSI               4.9504      0.955      5.184      0.000       3.075       6.825\n",
            "==============================================================================\n",
            "Omnibus:                      141.139   Durbin-Watson:                   1.998\n",
            "Prob(Omnibus):                  0.000   Jarque-Bera (JB):              615.405\n",
            "Skew:                          -0.850   Prob(JB):                    2.33e-134\n",
            "Kurtosis:                       7.257   Cond. No.                     1.23e+16\n",
            "==============================================================================\n",
            "\n",
            "Warnings:\n",
            "[1] Standard Errors assume that the covariance matrix of the errors is correctly specified.\n",
            "[2] The smallest eigenvalue is 1.68e-23. This might indicate that there are\n",
            "strong multicollinearity problems or that the design matrix is singular.\n"
          ],
          "name": "stdout"
        }
      ]
    },
    {
      "cell_type": "code",
      "metadata": {
        "colab": {
          "base_uri": "https://localhost:8080/",
          "height": 242
        },
        "id": "guAxXNuhnies",
        "outputId": "5f65b5ba-3df4-40d3-a75c-62e1dff74ed6"
      },
      "source": [
        "y_pred =y_test_pred.reshape(100)\n",
        "error =  abs(y_pred - y_test)\n",
        "rate = error / y_test\n",
        "s_array = rate[[\"Yield\"]].to_numpy()\n",
        "s_array[~np.isfinite(s_array)] = 0\n",
        "s_array.mean()"
      ],
      "execution_count": 59,
      "outputs": [
        {
          "output_type": "error",
          "ename": "ValueError",
          "evalue": "ignored",
          "traceback": [
            "\u001b[0;31m---------------------------------------------------------------------------\u001b[0m",
            "\u001b[0;31mValueError\u001b[0m                                Traceback (most recent call last)",
            "\u001b[0;32m<ipython-input-59-34473915b715>\u001b[0m in \u001b[0;36m<module>\u001b[0;34m()\u001b[0m\n\u001b[0;32m----> 1\u001b[0;31m \u001b[0my_pred\u001b[0m \u001b[0;34m=\u001b[0m\u001b[0my_test_pred\u001b[0m\u001b[0;34m.\u001b[0m\u001b[0mreshape\u001b[0m\u001b[0;34m(\u001b[0m\u001b[0;36m100\u001b[0m\u001b[0;34m)\u001b[0m\u001b[0;34m\u001b[0m\u001b[0;34m\u001b[0m\u001b[0m\n\u001b[0m\u001b[1;32m      2\u001b[0m \u001b[0merror\u001b[0m \u001b[0;34m=\u001b[0m  \u001b[0mabs\u001b[0m\u001b[0;34m(\u001b[0m\u001b[0my_pred\u001b[0m \u001b[0;34m-\u001b[0m \u001b[0my_test\u001b[0m\u001b[0;34m)\u001b[0m\u001b[0;34m\u001b[0m\u001b[0;34m\u001b[0m\u001b[0m\n\u001b[1;32m      3\u001b[0m \u001b[0mrate\u001b[0m \u001b[0;34m=\u001b[0m \u001b[0merror\u001b[0m \u001b[0;34m/\u001b[0m \u001b[0my_test\u001b[0m\u001b[0;34m\u001b[0m\u001b[0;34m\u001b[0m\u001b[0m\n\u001b[1;32m      4\u001b[0m \u001b[0ms_array\u001b[0m \u001b[0;34m=\u001b[0m \u001b[0mrate\u001b[0m\u001b[0;34m[\u001b[0m\u001b[0;34m[\u001b[0m\u001b[0;34m\"Yield\"\u001b[0m\u001b[0;34m]\u001b[0m\u001b[0;34m]\u001b[0m\u001b[0;34m.\u001b[0m\u001b[0mto_numpy\u001b[0m\u001b[0;34m(\u001b[0m\u001b[0;34m)\u001b[0m\u001b[0;34m\u001b[0m\u001b[0;34m\u001b[0m\u001b[0m\n\u001b[1;32m      5\u001b[0m \u001b[0ms_array\u001b[0m\u001b[0;34m[\u001b[0m\u001b[0;34m~\u001b[0m\u001b[0mnp\u001b[0m\u001b[0;34m.\u001b[0m\u001b[0misfinite\u001b[0m\u001b[0;34m(\u001b[0m\u001b[0ms_array\u001b[0m\u001b[0;34m)\u001b[0m\u001b[0;34m]\u001b[0m \u001b[0;34m=\u001b[0m \u001b[0;36m0\u001b[0m\u001b[0;34m\u001b[0m\u001b[0;34m\u001b[0m\u001b[0m\n",
            "\u001b[0;31mValueError\u001b[0m: cannot reshape array of size 71 into shape (100,)"
          ]
        }
      ]
    },
    {
      "cell_type": "markdown",
      "metadata": {
        "id": "3kcV_oMg_27J"
      },
      "source": [
        "## Random Forest Regressor"
      ]
    },
    {
      "cell_type": "code",
      "metadata": {
        "colab": {
          "base_uri": "https://localhost:8080/"
        },
        "id": "mlrbaHiM_27K",
        "outputId": "bb3aba68-eca7-49de-b216-8069642a1538"
      },
      "source": [
        "lr = RandomForestRegressor()\n",
        "lr.fit(x_train, y_train)\n",
        "\n",
        "# predicting and obtaining Metrics on the Train set\n",
        "y_train_pred = lr.predict(x_train)\n",
        "regression_results(y_train, y_train_pred)"
      ],
      "execution_count": 76,
      "outputs": [
        {
          "output_type": "stream",
          "text": [
            "/usr/local/lib/python3.7/dist-packages/ipykernel_launcher.py:2: DataConversionWarning:\n",
            "\n",
            "A column-vector y was passed when a 1d array was expected. Please change the shape of y to (n_samples,), for example using ravel().\n",
            "\n"
          ],
          "name": "stderr"
        },
        {
          "output_type": "stream",
          "text": [
            "explained_variance:  0.9093\n",
            "r2:  0.9093\n",
            "MAE:  5.5088\n",
            "MSE:  62.4549\n",
            "RMSE:  7.9028\n"
          ],
          "name": "stdout"
        },
        {
          "output_type": "execute_result",
          "data": {
            "text/plain": [
              "{'MAE': 5.5088,\n",
              " 'MSE': 62.4549,\n",
              " 'RMSE': 7.9028,\n",
              " 'explained_variance': 0.9093,\n",
              " 'r2': 0.9093}"
            ]
          },
          "metadata": {
            "tags": []
          },
          "execution_count": 76
        }
      ]
    },
    {
      "cell_type": "code",
      "metadata": {
        "colab": {
          "base_uri": "https://localhost:8080/",
          "height": 854
        },
        "id": "tbAUuHFH8W9-",
        "outputId": "04c5ab1d-d675-470a-e7ce-46b2c167c6d5"
      },
      "source": [
        "! pip install shap\n",
        "import shap\n",
        "shap_values = shap.TreeExplainer(lr).shap_values(x_train)\n",
        "shap.summary_plot(shap_values, x_train, plot_type=\"bar\")"
      ],
      "execution_count": 61,
      "outputs": [
        {
          "output_type": "stream",
          "text": [
            "Requirement already satisfied: shap in /usr/local/lib/python3.7/dist-packages (0.39.0)\n",
            "Requirement already satisfied: scikit-learn in /usr/local/lib/python3.7/dist-packages (from shap) (0.22.2.post1)\n",
            "Requirement already satisfied: numba in /usr/local/lib/python3.7/dist-packages (from shap) (0.51.2)\n",
            "Requirement already satisfied: slicer==0.0.7 in /usr/local/lib/python3.7/dist-packages (from shap) (0.0.7)\n",
            "Requirement already satisfied: pandas in /usr/local/lib/python3.7/dist-packages (from shap) (1.1.5)\n",
            "Requirement already satisfied: numpy in /usr/local/lib/python3.7/dist-packages (from shap) (1.19.5)\n",
            "Requirement already satisfied: tqdm>4.25.0 in /usr/local/lib/python3.7/dist-packages (from shap) (4.41.1)\n",
            "Requirement already satisfied: scipy in /usr/local/lib/python3.7/dist-packages (from shap) (1.4.1)\n",
            "Requirement already satisfied: cloudpickle in /usr/local/lib/python3.7/dist-packages (from shap) (1.3.0)\n",
            "Requirement already satisfied: joblib>=0.11 in /usr/local/lib/python3.7/dist-packages (from scikit-learn->shap) (1.0.1)\n",
            "Requirement already satisfied: setuptools in /usr/local/lib/python3.7/dist-packages (from numba->shap) (57.0.0)\n",
            "Requirement already satisfied: llvmlite<0.35,>=0.34.0.dev0 in /usr/local/lib/python3.7/dist-packages (from numba->shap) (0.34.0)\n",
            "Requirement already satisfied: pytz>=2017.2 in /usr/local/lib/python3.7/dist-packages (from pandas->shap) (2018.9)\n",
            "Requirement already satisfied: python-dateutil>=2.7.3 in /usr/local/lib/python3.7/dist-packages (from pandas->shap) (2.8.1)\n",
            "Requirement already satisfied: six>=1.5 in /usr/local/lib/python3.7/dist-packages (from python-dateutil>=2.7.3->pandas->shap) (1.15.0)\n"
          ],
          "name": "stdout"
        },
        {
          "output_type": "display_data",
          "data": {
            "image/png": "[encoded data removed]",
            "text/plain": [
              "<Figure size 576x684 with 1 Axes>"
            ]
          },
          "metadata": {
            "tags": [],
            "needs_background": "light"
          }
        }
      ]
    },
    {
      "cell_type": "code",
      "metadata": {
        "colab": {
          "base_uri": "https://localhost:8080/",
          "height": 827
        },
        "id": "Z1_g1qfLcXYS",
        "outputId": "79268e2c-6a1e-45a4-c311-70ac22116819"
      },
      "source": [
        "from sklearn.ensemble import RandomForestRegressor\n",
        "from sklearn.datasets import make_regression\n",
        "from matplotlib import pyplot\n",
        "\n",
        "# get importance\n",
        "importance = lr.feature_importances_\n",
        "# summarize feature importance\n",
        "for i,v in enumerate(importance):\n",
        "\tprint('Feature: %0d, Score: %.5f' % (i,v))\n",
        "# plot feature importance\n",
        "pyplot.bar([x for x in range(len(importance))], importance)\n",
        "pyplot.title(\"Feature Importance Random Forest Regressor Yearly Unstandardized\")\n",
        "pyplot.show()"
      ],
      "execution_count": 63,
      "outputs": [
        {
          "output_type": "stream",
          "text": [
            "Feature: 0, Score: 0.01642\n",
            "Feature: 1, Score: 0.08194\n",
            "Feature: 2, Score: 0.03193\n",
            "Feature: 3, Score: 0.01759\n",
            "Feature: 4, Score: 0.02341\n",
            "Feature: 5, Score: 0.02584\n",
            "Feature: 6, Score: 0.02257\n",
            "Feature: 7, Score: 0.00350\n",
            "Feature: 8, Score: 0.03390\n",
            "Feature: 9, Score: 0.04258\n",
            "Feature: 10, Score: 0.02540\n",
            "Feature: 11, Score: 0.01912\n",
            "Feature: 12, Score: 0.03348\n",
            "Feature: 13, Score: 0.02447\n",
            "Feature: 14, Score: 0.01726\n",
            "Feature: 15, Score: 0.00182\n",
            "Feature: 16, Score: 0.01441\n",
            "Feature: 17, Score: 0.02903\n",
            "Feature: 18, Score: 0.04290\n",
            "Feature: 19, Score: 0.01434\n",
            "Feature: 20, Score: 0.04317\n",
            "Feature: 21, Score: 0.03434\n",
            "Feature: 22, Score: 0.02795\n",
            "Feature: 23, Score: 0.04506\n",
            "Feature: 24, Score: 0.11882\n",
            "Feature: 25, Score: 0.01939\n",
            "Feature: 26, Score: 0.01649\n",
            "Feature: 27, Score: 0.02568\n",
            "Feature: 28, Score: 0.01719\n",
            "Feature: 29, Score: 0.13001\n"
          ],
          "name": "stdout"
        },
        {
          "output_type": "display_data",
          "data": {
            "image/png": "[encoded data removed]",
            "text/plain": [
              "<Figure size 432x288 with 1 Axes>"
            ]
          },
          "metadata": {
            "tags": [],
            "needs_background": "light"
          }
        }
      ]
    },
    {
      "cell_type": "code",
      "metadata": {
        "colab": {
          "base_uri": "https://localhost:8080/",
          "height": 386
        },
        "id": "ZH28bEsSGHV-",
        "outputId": "a670fd28-ff11-40c8-cf68-78c6d940769b"
      },
      "source": [
        "\n",
        "explainer = shap.Explainer(lr, x_train)\n",
        "shap_values = explainer(x_train)\n",
        "\n",
        "shap.plots.beeswarm(shap_values)"
      ],
      "execution_count": 64,
      "outputs": [
        {
          "output_type": "stream",
          "text": [
            " 94%|=================== | 496/527 [00:14<00:00]       "
          ],
          "name": "stderr"
        },
        {
          "output_type": "display_data",
          "data": {
            "image/png": "[encoded data removed]",
            "text/plain": [
              "<Figure size 576x396 with 2 Axes>"
            ]
          },
          "metadata": {
            "tags": [],
            "needs_background": "light"
          }
        }
      ]
    },
    {
      "cell_type": "markdown",
      "metadata": {
        "id": "S9KHBxCd_27K"
      },
      "source": [
        "###Random Forest Regressor Validation and Test Tuned"
      ]
    },
    {
      "cell_type": "code",
      "metadata": {
        "colab": {
          "base_uri": "https://localhost:8080/"
        },
        "id": "H2k2RVfx_27L",
        "outputId": "4ed68677-d1c2-4a4d-c755-a1427d057168"
      },
      "source": [
        "random_forest_tuning = RandomForestRegressor(random_state = 6)\n",
        "param_grid = {\n",
        "   'n_estimators': [100, 200, 500],\n",
        "   'max_features': ['auto', 'sqrt', 'log2'],\n",
        "   'max_depth' : [4,5,6,7,8],\n",
        "   'criterion' :['mse', 'mae']\n",
        "}\n",
        "from sklearn.model_selection import GridSearchCV\n",
        "\n",
        "GSCV = GridSearchCV(estimator=random_forest_tuning, param_grid=param_grid, cv=3)\n",
        "GSCV.fit(x_train, y_train)\n",
        "GSCV.best_params_"
      ],
      "execution_count": 77,
      "outputs": [
        {
          "output_type": "stream",
          "text": [
            "/usr/local/lib/python3.7/dist-packages/sklearn/model_selection/_validation.py:515: DataConversionWarning:\n",
            "\n",
            "A column-vector y was passed when a 1d array was expected. Please change the shape of y to (n_samples,), for example using ravel().\n",
            "\n",
            "/usr/local/lib/python3.7/dist-packages/sklearn/model_selection/_validation.py:515: DataConversionWarning:\n",
            "\n",
            "A column-vector y was passed when a 1d array was expected. Please change the shape of y to (n_samples,), for example using ravel().\n",
            "\n",
            "/usr/local/lib/python3.7/dist-packages/sklearn/model_selection/_validation.py:515: DataConversionWarning:\n",
            "\n",
            "A column-vector y was passed when a 1d array was expected. Please change the shape of y to (n_samples,), for example using ravel().\n",
            "\n",
            "/usr/local/lib/python3.7/dist-packages/sklearn/model_selection/_validation.py:515: DataConversionWarning:\n",
            "\n",
            "A column-vector y was passed when a 1d array was expected. Please change the shape of y to (n_samples,), for example using ravel().\n",
            "\n",
            "/usr/local/lib/python3.7/dist-packages/sklearn/model_selection/_validation.py:515: DataConversionWarning:\n",
            "\n",
            "A column-vector y was passed when a 1d array was expected. Please change the shape of y to (n_samples,), for example using ravel().\n",
            "\n",
            "/usr/local/lib/python3.7/dist-packages/sklearn/model_selection/_validation.py:515: DataConversionWarning:\n",
            "\n",
            "A column-vector y was passed when a 1d array was expected. Please change the shape of y to (n_samples,), for example using ravel().\n",
            "\n",
            "/usr/local/lib/python3.7/dist-packages/sklearn/model_selection/_validation.py:515: DataConversionWarning:\n",
            "\n",
            "A column-vector y was passed when a 1d array was expected. Please change the shape of y to (n_samples,), for example using ravel().\n",
            "\n",
            "/usr/local/lib/python3.7/dist-packages/sklearn/model_selection/_validation.py:515: DataConversionWarning:\n",
            "\n",
            "A column-vector y was passed when a 1d array was expected. Please change the shape of y to (n_samples,), for example using ravel().\n",
            "\n",
            "/usr/local/lib/python3.7/dist-packages/sklearn/model_selection/_validation.py:515: DataConversionWarning:\n",
            "\n",
            "A column-vector y was passed when a 1d array was expected. Please change the shape of y to (n_samples,), for example using ravel().\n",
            "\n",
            "/usr/local/lib/python3.7/dist-packages/sklearn/model_selection/_validation.py:515: DataConversionWarning:\n",
            "\n",
            "A column-vector y was passed when a 1d array was expected. Please change the shape of y to (n_samples,), for example using ravel().\n",
            "\n",
            "/usr/local/lib/python3.7/dist-packages/sklearn/model_selection/_validation.py:515: DataConversionWarning:\n",
            "\n",
            "A column-vector y was passed when a 1d array was expected. Please change the shape of y to (n_samples,), for example using ravel().\n",
            "\n",
            "/usr/local/lib/python3.7/dist-packages/sklearn/model_selection/_validation.py:515: DataConversionWarning:\n",
            "\n",
            "A column-vector y was passed when a 1d array was expected. Please change the shape of y to (n_samples,), for example using ravel().\n",
            "\n",
            "/usr/local/lib/python3.7/dist-packages/sklearn/model_selection/_validation.py:515: DataConversionWarning:\n",
            "\n",
            "A column-vector y was passed when a 1d array was expected. Please change the shape of y to (n_samples,), for example using ravel().\n",
            "\n",
            "/usr/local/lib/python3.7/dist-packages/sklearn/model_selection/_validation.py:515: DataConversionWarning:\n",
            "\n",
            "A column-vector y was passed when a 1d array was expected. Please change the shape of y to (n_samples,), for example using ravel().\n",
            "\n",
            "/usr/local/lib/python3.7/dist-packages/sklearn/model_selection/_validation.py:515: DataConversionWarning:\n",
            "\n",
            "A column-vector y was passed when a 1d array was expected. Please change the shape of y to (n_samples,), for example using ravel().\n",
            "\n",
            "/usr/local/lib/python3.7/dist-packages/sklearn/model_selection/_validation.py:515: DataConversionWarning:\n",
            "\n",
            "A column-vector y was passed when a 1d array was expected. Please change the shape of y to (n_samples,), for example using ravel().\n",
            "\n",
            "/usr/local/lib/python3.7/dist-packages/sklearn/model_selection/_validation.py:515: DataConversionWarning:\n",
            "\n",
            "A column-vector y was passed when a 1d array was expected. Please change the shape of y to (n_samples,), for example using ravel().\n",
            "\n",
            "/usr/local/lib/python3.7/dist-packages/sklearn/model_selection/_validation.py:515: DataConversionWarning:\n",
            "\n",
            "A column-vector y was passed when a 1d array was expected. Please change the shape of y to (n_samples,), for example using ravel().\n",
            "\n",
            "/usr/local/lib/python3.7/dist-packages/sklearn/model_selection/_validation.py:515: DataConversionWarning:\n",
            "\n",
            "A column-vector y was passed when a 1d array was expected. Please change the shape of y to (n_samples,), for example using ravel().\n",
            "\n",
            "/usr/local/lib/python3.7/dist-packages/sklearn/model_selection/_validation.py:515: DataConversionWarning:\n",
            "\n",
            "A column-vector y was passed when a 1d array was expected. Please change the shape of y to (n_samples,), for example using ravel().\n",
            "\n",
            "/usr/local/lib/python3.7/dist-packages/sklearn/model_selection/_validation.py:515: DataConversionWarning:\n",
            "\n",
            "A column-vector y was passed when a 1d array was expected. Please change the shape of y to (n_samples,), for example using ravel().\n",
            "\n",
            "/usr/local/lib/python3.7/dist-packages/sklearn/model_selection/_validation.py:515: DataConversionWarning:\n",
            "\n",
            "A column-vector y was passed when a 1d array was expected. Please change the shape of y to (n_samples,), for example using ravel().\n",
            "\n",
            "/usr/local/lib/python3.7/dist-packages/sklearn/model_selection/_validation.py:515: DataConversionWarning:\n",
            "\n",
            "A column-vector y was passed when a 1d array was expected. Please change the shape of y to (n_samples,), for example using ravel().\n",
            "\n",
            "/usr/local/lib/python3.7/dist-packages/sklearn/model_selection/_validation.py:515: DataConversionWarning:\n",
            "\n",
            "A column-vector y was passed when a 1d array was expected. Please change the shape of y to (n_samples,), for example using ravel().\n",
            "\n",
            "/usr/local/lib/python3.7/dist-packages/sklearn/model_selection/_validation.py:515: DataConversionWarning:\n",
            "\n",
            "A column-vector y was passed when a 1d array was expected. Please change the shape of y to (n_samples,), for example using ravel().\n",
            "\n",
            "/usr/local/lib/python3.7/dist-packages/sklearn/model_selection/_validation.py:515: DataConversionWarning:\n",
            "\n",
            "A column-vector y was passed when a 1d array was expected. Please change the shape of y to (n_samples,), for example using ravel().\n",
            "\n",
            "/usr/local/lib/python3.7/dist-packages/sklearn/model_selection/_validation.py:515: DataConversionWarning:\n",
            "\n",
            "A column-vector y was passed when a 1d array was expected. Please change the shape of y to (n_samples,), for example using ravel().\n",
            "\n",
            "/usr/local/lib/python3.7/dist-packages/sklearn/model_selection/_validation.py:515: DataConversionWarning:\n",
            "\n",
            "A column-vector y was passed when a 1d array was expected. Please change the shape of y to (n_samples,), for example using ravel().\n",
            "\n",
            "/usr/local/lib/python3.7/dist-packages/sklearn/model_selection/_validation.py:515: DataConversionWarning:\n",
            "\n",
            "A column-vector y was passed when a 1d array was expected. Please change the shape of y to (n_samples,), for example using ravel().\n",
            "\n",
            "/usr/local/lib/python3.7/dist-packages/sklearn/model_selection/_validation.py:515: DataConversionWarning:\n",
            "\n",
            "A column-vector y was passed when a 1d array was expected. Please change the shape of y to (n_samples,), for example using ravel().\n",
            "\n",
            "/usr/local/lib/python3.7/dist-packages/sklearn/model_selection/_validation.py:515: DataConversionWarning:\n",
            "\n",
            "A column-vector y was passed when a 1d array was expected. Please change the shape of y to (n_samples,), for example using ravel().\n",
            "\n",
            "/usr/local/lib/python3.7/dist-packages/sklearn/model_selection/_validation.py:515: DataConversionWarning:\n",
            "\n",
            "A column-vector y was passed when a 1d array was expected. Please change the shape of y to (n_samples,), for example using ravel().\n",
            "\n",
            "/usr/local/lib/python3.7/dist-packages/sklearn/model_selection/_validation.py:515: DataConversionWarning:\n",
            "\n",
            "A column-vector y was passed when a 1d array was expected. Please change the shape of y to (n_samples,), for example using ravel().\n",
            "\n",
            "/usr/local/lib/python3.7/dist-packages/sklearn/model_selection/_validation.py:515: DataConversionWarning:\n",
            "\n",
            "A column-vector y was passed when a 1d array was expected. Please change the shape of y to (n_samples,), for example using ravel().\n",
            "\n",
            "/usr/local/lib/python3.7/dist-packages/sklearn/model_selection/_validation.py:515: DataConversionWarning:\n",
            "\n",
            "A column-vector y was passed when a 1d array was expected. Please change the shape of y to (n_samples,), for example using ravel().\n",
            "\n",
            "/usr/local/lib/python3.7/dist-packages/sklearn/model_selection/_validation.py:515: DataConversionWarning:\n",
            "\n",
            "A column-vector y was passed when a 1d array was expected. Please change the shape of y to (n_samples,), for example using ravel().\n",
            "\n",
            "/usr/local/lib/python3.7/dist-packages/sklearn/model_selection/_validation.py:515: DataConversionWarning:\n",
            "\n",
            "A column-vector y was passed when a 1d array was expected. Please change the shape of y to (n_samples,), for example using ravel().\n",
            "\n",
            "/usr/local/lib/python3.7/dist-packages/sklearn/model_selection/_validation.py:515: DataConversionWarning:\n",
            "\n",
            "A column-vector y was passed when a 1d array was expected. Please change the shape of y to (n_samples,), for example using ravel().\n",
            "\n",
            "/usr/local/lib/python3.7/dist-packages/sklearn/model_selection/_validation.py:515: DataConversionWarning:\n",
            "\n",
            "A column-vector y was passed when a 1d array was expected. Please change the shape of y to (n_samples,), for example using ravel().\n",
            "\n",
            "/usr/local/lib/python3.7/dist-packages/sklearn/model_selection/_validation.py:515: DataConversionWarning:\n",
            "\n",
            "A column-vector y was passed when a 1d array was expected. Please change the shape of y to (n_samples,), for example using ravel().\n",
            "\n",
            "/usr/local/lib/python3.7/dist-packages/sklearn/model_selection/_validation.py:515: DataConversionWarning:\n",
            "\n",
            "A column-vector y was passed when a 1d array was expected. Please change the shape of y to (n_samples,), for example using ravel().\n",
            "\n",
            "/usr/local/lib/python3.7/dist-packages/sklearn/model_selection/_validation.py:515: DataConversionWarning:\n",
            "\n",
            "A column-vector y was passed when a 1d array was expected. Please change the shape of y to (n_samples,), for example using ravel().\n",
            "\n",
            "/usr/local/lib/python3.7/dist-packages/sklearn/model_selection/_validation.py:515: DataConversionWarning:\n",
            "\n",
            "A column-vector y was passed when a 1d array was expected. Please change the shape of y to (n_samples,), for example using ravel().\n",
            "\n",
            "/usr/local/lib/python3.7/dist-packages/sklearn/model_selection/_validation.py:515: DataConversionWarning:\n",
            "\n",
            "A column-vector y was passed when a 1d array was expected. Please change the shape of y to (n_samples,), for example using ravel().\n",
            "\n",
            "/usr/local/lib/python3.7/dist-packages/sklearn/model_selection/_validation.py:515: DataConversionWarning:\n",
            "\n",
            "A column-vector y was passed when a 1d array was expected. Please change the shape of y to (n_samples,), for example using ravel().\n",
            "\n",
            "/usr/local/lib/python3.7/dist-packages/sklearn/model_selection/_validation.py:515: DataConversionWarning:\n",
            "\n",
            "A column-vector y was passed when a 1d array was expected. Please change the shape of y to (n_samples,), for example using ravel().\n",
            "\n",
            "/usr/local/lib/python3.7/dist-packages/sklearn/model_selection/_validation.py:515: DataConversionWarning:\n",
            "\n",
            "A column-vector y was passed when a 1d array was expected. Please change the shape of y to (n_samples,), for example using ravel().\n",
            "\n",
            "/usr/local/lib/python3.7/dist-packages/sklearn/model_selection/_validation.py:515: DataConversionWarning:\n",
            "\n",
            "A column-vector y was passed when a 1d array was expected. Please change the shape of y to (n_samples,), for example using ravel().\n",
            "\n",
            "/usr/local/lib/python3.7/dist-packages/sklearn/model_selection/_validation.py:515: DataConversionWarning:\n",
            "\n",
            "A column-vector y was passed when a 1d array was expected. Please change the shape of y to (n_samples,), for example using ravel().\n",
            "\n",
            "/usr/local/lib/python3.7/dist-packages/sklearn/model_selection/_validation.py:515: DataConversionWarning:\n",
            "\n",
            "A column-vector y was passed when a 1d array was expected. Please change the shape of y to (n_samples,), for example using ravel().\n",
            "\n",
            "/usr/local/lib/python3.7/dist-packages/sklearn/model_selection/_validation.py:515: DataConversionWarning:\n",
            "\n",
            "A column-vector y was passed when a 1d array was expected. Please change the shape of y to (n_samples,), for example using ravel().\n",
            "\n",
            "/usr/local/lib/python3.7/dist-packages/sklearn/model_selection/_validation.py:515: DataConversionWarning:\n",
            "\n",
            "A column-vector y was passed when a 1d array was expected. Please change the shape of y to (n_samples,), for example using ravel().\n",
            "\n",
            "/usr/local/lib/python3.7/dist-packages/sklearn/model_selection/_validation.py:515: DataConversionWarning:\n",
            "\n",
            "A column-vector y was passed when a 1d array was expected. Please change the shape of y to (n_samples,), for example using ravel().\n",
            "\n",
            "/usr/local/lib/python3.7/dist-packages/sklearn/model_selection/_validation.py:515: DataConversionWarning:\n",
            "\n",
            "A column-vector y was passed when a 1d array was expected. Please change the shape of y to (n_samples,), for example using ravel().\n",
            "\n",
            "/usr/local/lib/python3.7/dist-packages/sklearn/model_selection/_validation.py:515: DataConversionWarning:\n",
            "\n",
            "A column-vector y was passed when a 1d array was expected. Please change the shape of y to (n_samples,), for example using ravel().\n",
            "\n",
            "/usr/local/lib/python3.7/dist-packages/sklearn/model_selection/_validation.py:515: DataConversionWarning:\n",
            "\n",
            "A column-vector y was passed when a 1d array was expected. Please change the shape of y to (n_samples,), for example using ravel().\n",
            "\n",
            "/usr/local/lib/python3.7/dist-packages/sklearn/model_selection/_validation.py:515: DataConversionWarning:\n",
            "\n",
            "A column-vector y was passed when a 1d array was expected. Please change the shape of y to (n_samples,), for example using ravel().\n",
            "\n",
            "/usr/local/lib/python3.7/dist-packages/sklearn/model_selection/_validation.py:515: DataConversionWarning:\n",
            "\n",
            "A column-vector y was passed when a 1d array was expected. Please change the shape of y to (n_samples,), for example using ravel().\n",
            "\n",
            "/usr/local/lib/python3.7/dist-packages/sklearn/model_selection/_validation.py:515: DataConversionWarning:\n",
            "\n",
            "A column-vector y was passed when a 1d array was expected. Please change the shape of y to (n_samples,), for example using ravel().\n",
            "\n",
            "/usr/local/lib/python3.7/dist-packages/sklearn/model_selection/_validation.py:515: DataConversionWarning:\n",
            "\n",
            "A column-vector y was passed when a 1d array was expected. Please change the shape of y to (n_samples,), for example using ravel().\n",
            "\n",
            "/usr/local/lib/python3.7/dist-packages/sklearn/model_selection/_validation.py:515: DataConversionWarning:\n",
            "\n",
            "A column-vector y was passed when a 1d array was expected. Please change the shape of y to (n_samples,), for example using ravel().\n",
            "\n",
            "/usr/local/lib/python3.7/dist-packages/sklearn/model_selection/_validation.py:515: DataConversionWarning:\n",
            "\n",
            "A column-vector y was passed when a 1d array was expected. Please change the shape of y to (n_samples,), for example using ravel().\n",
            "\n",
            "/usr/local/lib/python3.7/dist-packages/sklearn/model_selection/_validation.py:515: DataConversionWarning:\n",
            "\n",
            "A column-vector y was passed when a 1d array was expected. Please change the shape of y to (n_samples,), for example using ravel().\n",
            "\n",
            "/usr/local/lib/python3.7/dist-packages/sklearn/model_selection/_validation.py:515: DataConversionWarning:\n",
            "\n",
            "A column-vector y was passed when a 1d array was expected. Please change the shape of y to (n_samples,), for example using ravel().\n",
            "\n",
            "/usr/local/lib/python3.7/dist-packages/sklearn/model_selection/_validation.py:515: DataConversionWarning:\n",
            "\n",
            "A column-vector y was passed when a 1d array was expected. Please change the shape of y to (n_samples,), for example using ravel().\n",
            "\n",
            "/usr/local/lib/python3.7/dist-packages/sklearn/model_selection/_validation.py:515: DataConversionWarning:\n",
            "\n",
            "A column-vector y was passed when a 1d array was expected. Please change the shape of y to (n_samples,), for example using ravel().\n",
            "\n",
            "/usr/local/lib/python3.7/dist-packages/sklearn/model_selection/_validation.py:515: DataConversionWarning:\n",
            "\n",
            "A column-vector y was passed when a 1d array was expected. Please change the shape of y to (n_samples,), for example using ravel().\n",
            "\n",
            "/usr/local/lib/python3.7/dist-packages/sklearn/model_selection/_validation.py:515: DataConversionWarning:\n",
            "\n",
            "A column-vector y was passed when a 1d array was expected. Please change the shape of y to (n_samples,), for example using ravel().\n",
            "\n",
            "/usr/local/lib/python3.7/dist-packages/sklearn/model_selection/_validation.py:515: DataConversionWarning:\n",
            "\n",
            "A column-vector y was passed when a 1d array was expected. Please change the shape of y to (n_samples,), for example using ravel().\n",
            "\n",
            "/usr/local/lib/python3.7/dist-packages/sklearn/model_selection/_validation.py:515: DataConversionWarning:\n",
            "\n",
            "A column-vector y was passed when a 1d array was expected. Please change the shape of y to (n_samples,), for example using ravel().\n",
            "\n",
            "/usr/local/lib/python3.7/dist-packages/sklearn/model_selection/_validation.py:515: DataConversionWarning:\n",
            "\n",
            "A column-vector y was passed when a 1d array was expected. Please change the shape of y to (n_samples,), for example using ravel().\n",
            "\n",
            "/usr/local/lib/python3.7/dist-packages/sklearn/model_selection/_validation.py:515: DataConversionWarning:\n",
            "\n",
            "A column-vector y was passed when a 1d array was expected. Please change the shape of y to (n_samples,), for example using ravel().\n",
            "\n",
            "/usr/local/lib/python3.7/dist-packages/sklearn/model_selection/_validation.py:515: DataConversionWarning:\n",
            "\n",
            "A column-vector y was passed when a 1d array was expected. Please change the shape of y to (n_samples,), for example using ravel().\n",
            "\n",
            "/usr/local/lib/python3.7/dist-packages/sklearn/model_selection/_validation.py:515: DataConversionWarning:\n",
            "\n",
            "A column-vector y was passed when a 1d array was expected. Please change the shape of y to (n_samples,), for example using ravel().\n",
            "\n",
            "/usr/local/lib/python3.7/dist-packages/sklearn/model_selection/_validation.py:515: DataConversionWarning:\n",
            "\n",
            "A column-vector y was passed when a 1d array was expected. Please change the shape of y to (n_samples,), for example using ravel().\n",
            "\n",
            "/usr/local/lib/python3.7/dist-packages/sklearn/model_selection/_validation.py:515: DataConversionWarning:\n",
            "\n",
            "A column-vector y was passed when a 1d array was expected. Please change the shape of y to (n_samples,), for example using ravel().\n",
            "\n",
            "/usr/local/lib/python3.7/dist-packages/sklearn/model_selection/_validation.py:515: DataConversionWarning:\n",
            "\n",
            "A column-vector y was passed when a 1d array was expected. Please change the shape of y to (n_samples,), for example using ravel().\n",
            "\n",
            "/usr/local/lib/python3.7/dist-packages/sklearn/model_selection/_validation.py:515: DataConversionWarning:\n",
            "\n",
            "A column-vector y was passed when a 1d array was expected. Please change the shape of y to (n_samples,), for example using ravel().\n",
            "\n",
            "/usr/local/lib/python3.7/dist-packages/sklearn/model_selection/_validation.py:515: DataConversionWarning:\n",
            "\n",
            "A column-vector y was passed when a 1d array was expected. Please change the shape of y to (n_samples,), for example using ravel().\n",
            "\n",
            "/usr/local/lib/python3.7/dist-packages/sklearn/model_selection/_validation.py:515: DataConversionWarning:\n",
            "\n",
            "A column-vector y was passed when a 1d array was expected. Please change the shape of y to (n_samples,), for example using ravel().\n",
            "\n",
            "/usr/local/lib/python3.7/dist-packages/sklearn/model_selection/_validation.py:515: DataConversionWarning:\n",
            "\n",
            "A column-vector y was passed when a 1d array was expected. Please change the shape of y to (n_samples,), for example using ravel().\n",
            "\n",
            "/usr/local/lib/python3.7/dist-packages/sklearn/model_selection/_validation.py:515: DataConversionWarning:\n",
            "\n",
            "A column-vector y was passed when a 1d array was expected. Please change the shape of y to (n_samples,), for example using ravel().\n",
            "\n",
            "/usr/local/lib/python3.7/dist-packages/sklearn/model_selection/_validation.py:515: DataConversionWarning:\n",
            "\n",
            "A column-vector y was passed when a 1d array was expected. Please change the shape of y to (n_samples,), for example using ravel().\n",
            "\n",
            "/usr/local/lib/python3.7/dist-packages/sklearn/model_selection/_validation.py:515: DataConversionWarning:\n",
            "\n",
            "A column-vector y was passed when a 1d array was expected. Please change the shape of y to (n_samples,), for example using ravel().\n",
            "\n",
            "/usr/local/lib/python3.7/dist-packages/sklearn/model_selection/_validation.py:515: DataConversionWarning:\n",
            "\n",
            "A column-vector y was passed when a 1d array was expected. Please change the shape of y to (n_samples,), for example using ravel().\n",
            "\n",
            "/usr/local/lib/python3.7/dist-packages/sklearn/model_selection/_validation.py:515: DataConversionWarning:\n",
            "\n",
            "A column-vector y was passed when a 1d array was expected. Please change the shape of y to (n_samples,), for example using ravel().\n",
            "\n",
            "/usr/local/lib/python3.7/dist-packages/sklearn/model_selection/_validation.py:515: DataConversionWarning:\n",
            "\n",
            "A column-vector y was passed when a 1d array was expected. Please change the shape of y to (n_samples,), for example using ravel().\n",
            "\n",
            "/usr/local/lib/python3.7/dist-packages/sklearn/model_selection/_validation.py:515: DataConversionWarning:\n",
            "\n",
            "A column-vector y was passed when a 1d array was expected. Please change the shape of y to (n_samples,), for example using ravel().\n",
            "\n",
            "/usr/local/lib/python3.7/dist-packages/sklearn/model_selection/_validation.py:515: DataConversionWarning:\n",
            "\n",
            "A column-vector y was passed when a 1d array was expected. Please change the shape of y to (n_samples,), for example using ravel().\n",
            "\n",
            "/usr/local/lib/python3.7/dist-packages/sklearn/model_selection/_validation.py:515: DataConversionWarning:\n",
            "\n",
            "A column-vector y was passed when a 1d array was expected. Please change the shape of y to (n_samples,), for example using ravel().\n",
            "\n",
            "/usr/local/lib/python3.7/dist-packages/sklearn/model_selection/_validation.py:515: DataConversionWarning:\n",
            "\n",
            "A column-vector y was passed when a 1d array was expected. Please change the shape of y to (n_samples,), for example using ravel().\n",
            "\n",
            "/usr/local/lib/python3.7/dist-packages/sklearn/model_selection/_validation.py:515: DataConversionWarning:\n",
            "\n",
            "A column-vector y was passed when a 1d array was expected. Please change the shape of y to (n_samples,), for example using ravel().\n",
            "\n",
            "/usr/local/lib/python3.7/dist-packages/sklearn/model_selection/_validation.py:515: DataConversionWarning:\n",
            "\n",
            "A column-vector y was passed when a 1d array was expected. Please change the shape of y to (n_samples,), for example using ravel().\n",
            "\n",
            "/usr/local/lib/python3.7/dist-packages/sklearn/model_selection/_validation.py:515: DataConversionWarning:\n",
            "\n",
            "A column-vector y was passed when a 1d array was expected. Please change the shape of y to (n_samples,), for example using ravel().\n",
            "\n",
            "/usr/local/lib/python3.7/dist-packages/sklearn/model_selection/_validation.py:515: DataConversionWarning:\n",
            "\n",
            "A column-vector y was passed when a 1d array was expected. Please change the shape of y to (n_samples,), for example using ravel().\n",
            "\n",
            "/usr/local/lib/python3.7/dist-packages/sklearn/model_selection/_validation.py:515: DataConversionWarning:\n",
            "\n",
            "A column-vector y was passed when a 1d array was expected. Please change the shape of y to (n_samples,), for example using ravel().\n",
            "\n",
            "/usr/local/lib/python3.7/dist-packages/sklearn/model_selection/_validation.py:515: DataConversionWarning:\n",
            "\n",
            "A column-vector y was passed when a 1d array was expected. Please change the shape of y to (n_samples,), for example using ravel().\n",
            "\n",
            "/usr/local/lib/python3.7/dist-packages/sklearn/model_selection/_validation.py:515: DataConversionWarning:\n",
            "\n",
            "A column-vector y was passed when a 1d array was expected. Please change the shape of y to (n_samples,), for example using ravel().\n",
            "\n",
            "/usr/local/lib/python3.7/dist-packages/sklearn/model_selection/_validation.py:515: DataConversionWarning:\n",
            "\n",
            "A column-vector y was passed when a 1d array was expected. Please change the shape of y to (n_samples,), for example using ravel().\n",
            "\n",
            "/usr/local/lib/python3.7/dist-packages/sklearn/model_selection/_validation.py:515: DataConversionWarning:\n",
            "\n",
            "A column-vector y was passed when a 1d array was expected. Please change the shape of y to (n_samples,), for example using ravel().\n",
            "\n",
            "/usr/local/lib/python3.7/dist-packages/sklearn/model_selection/_validation.py:515: DataConversionWarning:\n",
            "\n",
            "A column-vector y was passed when a 1d array was expected. Please change the shape of y to (n_samples,), for example using ravel().\n",
            "\n",
            "/usr/local/lib/python3.7/dist-packages/sklearn/model_selection/_validation.py:515: DataConversionWarning:\n",
            "\n",
            "A column-vector y was passed when a 1d array was expected. Please change the shape of y to (n_samples,), for example using ravel().\n",
            "\n",
            "/usr/local/lib/python3.7/dist-packages/sklearn/model_selection/_validation.py:515: DataConversionWarning:\n",
            "\n",
            "A column-vector y was passed when a 1d array was expected. Please change the shape of y to (n_samples,), for example using ravel().\n",
            "\n",
            "/usr/local/lib/python3.7/dist-packages/sklearn/model_selection/_validation.py:515: DataConversionWarning:\n",
            "\n",
            "A column-vector y was passed when a 1d array was expected. Please change the shape of y to (n_samples,), for example using ravel().\n",
            "\n",
            "/usr/local/lib/python3.7/dist-packages/sklearn/model_selection/_validation.py:515: DataConversionWarning:\n",
            "\n",
            "A column-vector y was passed when a 1d array was expected. Please change the shape of y to (n_samples,), for example using ravel().\n",
            "\n",
            "/usr/local/lib/python3.7/dist-packages/sklearn/model_selection/_validation.py:515: DataConversionWarning:\n",
            "\n",
            "A column-vector y was passed when a 1d array was expected. Please change the shape of y to (n_samples,), for example using ravel().\n",
            "\n",
            "/usr/local/lib/python3.7/dist-packages/sklearn/model_selection/_validation.py:515: DataConversionWarning:\n",
            "\n",
            "A column-vector y was passed when a 1d array was expected. Please change the shape of y to (n_samples,), for example using ravel().\n",
            "\n",
            "/usr/local/lib/python3.7/dist-packages/sklearn/model_selection/_validation.py:515: DataConversionWarning:\n",
            "\n",
            "A column-vector y was passed when a 1d array was expected. Please change the shape of y to (n_samples,), for example using ravel().\n",
            "\n",
            "/usr/local/lib/python3.7/dist-packages/sklearn/model_selection/_validation.py:515: DataConversionWarning:\n",
            "\n",
            "A column-vector y was passed when a 1d array was expected. Please change the shape of y to (n_samples,), for example using ravel().\n",
            "\n",
            "/usr/local/lib/python3.7/dist-packages/sklearn/model_selection/_validation.py:515: DataConversionWarning:\n",
            "\n",
            "A column-vector y was passed when a 1d array was expected. Please change the shape of y to (n_samples,), for example using ravel().\n",
            "\n",
            "/usr/local/lib/python3.7/dist-packages/sklearn/model_selection/_validation.py:515: DataConversionWarning:\n",
            "\n",
            "A column-vector y was passed when a 1d array was expected. Please change the shape of y to (n_samples,), for example using ravel().\n",
            "\n",
            "/usr/local/lib/python3.7/dist-packages/sklearn/model_selection/_validation.py:515: DataConversionWarning:\n",
            "\n",
            "A column-vector y was passed when a 1d array was expected. Please change the shape of y to (n_samples,), for example using ravel().\n",
            "\n",
            "/usr/local/lib/python3.7/dist-packages/sklearn/model_selection/_validation.py:515: DataConversionWarning:\n",
            "\n",
            "A column-vector y was passed when a 1d array was expected. Please change the shape of y to (n_samples,), for example using ravel().\n",
            "\n",
            "/usr/local/lib/python3.7/dist-packages/sklearn/model_selection/_validation.py:515: DataConversionWarning:\n",
            "\n",
            "A column-vector y was passed when a 1d array was expected. Please change the shape of y to (n_samples,), for example using ravel().\n",
            "\n",
            "/usr/local/lib/python3.7/dist-packages/sklearn/model_selection/_validation.py:515: DataConversionWarning:\n",
            "\n",
            "A column-vector y was passed when a 1d array was expected. Please change the shape of y to (n_samples,), for example using ravel().\n",
            "\n",
            "/usr/local/lib/python3.7/dist-packages/sklearn/model_selection/_validation.py:515: DataConversionWarning:\n",
            "\n",
            "A column-vector y was passed when a 1d array was expected. Please change the shape of y to (n_samples,), for example using ravel().\n",
            "\n",
            "/usr/local/lib/python3.7/dist-packages/sklearn/model_selection/_validation.py:515: DataConversionWarning:\n",
            "\n",
            "A column-vector y was passed when a 1d array was expected. Please change the shape of y to (n_samples,), for example using ravel().\n",
            "\n",
            "/usr/local/lib/python3.7/dist-packages/sklearn/model_selection/_validation.py:515: DataConversionWarning:\n",
            "\n",
            "A column-vector y was passed when a 1d array was expected. Please change the shape of y to (n_samples,), for example using ravel().\n",
            "\n",
            "/usr/local/lib/python3.7/dist-packages/sklearn/model_selection/_validation.py:515: DataConversionWarning:\n",
            "\n",
            "A column-vector y was passed when a 1d array was expected. Please change the shape of y to (n_samples,), for example using ravel().\n",
            "\n",
            "/usr/local/lib/python3.7/dist-packages/sklearn/model_selection/_validation.py:515: DataConversionWarning:\n",
            "\n",
            "A column-vector y was passed when a 1d array was expected. Please change the shape of y to (n_samples,), for example using ravel().\n",
            "\n",
            "/usr/local/lib/python3.7/dist-packages/sklearn/model_selection/_validation.py:515: DataConversionWarning:\n",
            "\n",
            "A column-vector y was passed when a 1d array was expected. Please change the shape of y to (n_samples,), for example using ravel().\n",
            "\n",
            "/usr/local/lib/python3.7/dist-packages/sklearn/model_selection/_validation.py:515: DataConversionWarning:\n",
            "\n",
            "A column-vector y was passed when a 1d array was expected. Please change the shape of y to (n_samples,), for example using ravel().\n",
            "\n",
            "/usr/local/lib/python3.7/dist-packages/sklearn/model_selection/_validation.py:515: DataConversionWarning:\n",
            "\n",
            "A column-vector y was passed when a 1d array was expected. Please change the shape of y to (n_samples,), for example using ravel().\n",
            "\n",
            "/usr/local/lib/python3.7/dist-packages/sklearn/model_selection/_validation.py:515: DataConversionWarning:\n",
            "\n",
            "A column-vector y was passed when a 1d array was expected. Please change the shape of y to (n_samples,), for example using ravel().\n",
            "\n",
            "/usr/local/lib/python3.7/dist-packages/sklearn/model_selection/_validation.py:515: DataConversionWarning:\n",
            "\n",
            "A column-vector y was passed when a 1d array was expected. Please change the shape of y to (n_samples,), for example using ravel().\n",
            "\n",
            "/usr/local/lib/python3.7/dist-packages/sklearn/model_selection/_validation.py:515: DataConversionWarning:\n",
            "\n",
            "A column-vector y was passed when a 1d array was expected. Please change the shape of y to (n_samples,), for example using ravel().\n",
            "\n",
            "/usr/local/lib/python3.7/dist-packages/sklearn/model_selection/_validation.py:515: DataConversionWarning:\n",
            "\n",
            "A column-vector y was passed when a 1d array was expected. Please change the shape of y to (n_samples,), for example using ravel().\n",
            "\n",
            "/usr/local/lib/python3.7/dist-packages/sklearn/model_selection/_validation.py:515: DataConversionWarning:\n",
            "\n",
            "A column-vector y was passed when a 1d array was expected. Please change the shape of y to (n_samples,), for example using ravel().\n",
            "\n",
            "/usr/local/lib/python3.7/dist-packages/sklearn/model_selection/_validation.py:515: DataConversionWarning:\n",
            "\n",
            "A column-vector y was passed when a 1d array was expected. Please change the shape of y to (n_samples,), for example using ravel().\n",
            "\n",
            "/usr/local/lib/python3.7/dist-packages/sklearn/model_selection/_validation.py:515: DataConversionWarning:\n",
            "\n",
            "A column-vector y was passed when a 1d array was expected. Please change the shape of y to (n_samples,), for example using ravel().\n",
            "\n",
            "/usr/local/lib/python3.7/dist-packages/sklearn/model_selection/_validation.py:515: DataConversionWarning:\n",
            "\n",
            "A column-vector y was passed when a 1d array was expected. Please change the shape of y to (n_samples,), for example using ravel().\n",
            "\n",
            "/usr/local/lib/python3.7/dist-packages/sklearn/model_selection/_validation.py:515: DataConversionWarning:\n",
            "\n",
            "A column-vector y was passed when a 1d array was expected. Please change the shape of y to (n_samples,), for example using ravel().\n",
            "\n",
            "/usr/local/lib/python3.7/dist-packages/sklearn/model_selection/_validation.py:515: DataConversionWarning:\n",
            "\n",
            "A column-vector y was passed when a 1d array was expected. Please change the shape of y to (n_samples,), for example using ravel().\n",
            "\n",
            "/usr/local/lib/python3.7/dist-packages/sklearn/model_selection/_validation.py:515: DataConversionWarning:\n",
            "\n",
            "A column-vector y was passed when a 1d array was expected. Please change the shape of y to (n_samples,), for example using ravel().\n",
            "\n",
            "/usr/local/lib/python3.7/dist-packages/sklearn/model_selection/_validation.py:515: DataConversionWarning:\n",
            "\n",
            "A column-vector y was passed when a 1d array was expected. Please change the shape of y to (n_samples,), for example using ravel().\n",
            "\n",
            "/usr/local/lib/python3.7/dist-packages/sklearn/model_selection/_validation.py:515: DataConversionWarning:\n",
            "\n",
            "A column-vector y was passed when a 1d array was expected. Please change the shape of y to (n_samples,), for example using ravel().\n",
            "\n",
            "/usr/local/lib/python3.7/dist-packages/sklearn/model_selection/_validation.py:515: DataConversionWarning:\n",
            "\n",
            "A column-vector y was passed when a 1d array was expected. Please change the shape of y to (n_samples,), for example using ravel().\n",
            "\n",
            "/usr/local/lib/python3.7/dist-packages/sklearn/model_selection/_validation.py:515: DataConversionWarning:\n",
            "\n",
            "A column-vector y was passed when a 1d array was expected. Please change the shape of y to (n_samples,), for example using ravel().\n",
            "\n",
            "/usr/local/lib/python3.7/dist-packages/sklearn/model_selection/_validation.py:515: DataConversionWarning:\n",
            "\n",
            "A column-vector y was passed when a 1d array was expected. Please change the shape of y to (n_samples,), for example using ravel().\n",
            "\n",
            "/usr/local/lib/python3.7/dist-packages/sklearn/model_selection/_validation.py:515: DataConversionWarning:\n",
            "\n",
            "A column-vector y was passed when a 1d array was expected. Please change the shape of y to (n_samples,), for example using ravel().\n",
            "\n",
            "/usr/local/lib/python3.7/dist-packages/sklearn/model_selection/_validation.py:515: DataConversionWarning:\n",
            "\n",
            "A column-vector y was passed when a 1d array was expected. Please change the shape of y to (n_samples,), for example using ravel().\n",
            "\n",
            "/usr/local/lib/python3.7/dist-packages/sklearn/model_selection/_validation.py:515: DataConversionWarning:\n",
            "\n",
            "A column-vector y was passed when a 1d array was expected. Please change the shape of y to (n_samples,), for example using ravel().\n",
            "\n",
            "/usr/local/lib/python3.7/dist-packages/sklearn/model_selection/_validation.py:515: DataConversionWarning:\n",
            "\n",
            "A column-vector y was passed when a 1d array was expected. Please change the shape of y to (n_samples,), for example using ravel().\n",
            "\n",
            "/usr/local/lib/python3.7/dist-packages/sklearn/model_selection/_validation.py:515: DataConversionWarning:\n",
            "\n",
            "A column-vector y was passed when a 1d array was expected. Please change the shape of y to (n_samples,), for example using ravel().\n",
            "\n",
            "/usr/local/lib/python3.7/dist-packages/sklearn/model_selection/_validation.py:515: DataConversionWarning:\n",
            "\n",
            "A column-vector y was passed when a 1d array was expected. Please change the shape of y to (n_samples,), for example using ravel().\n",
            "\n",
            "/usr/local/lib/python3.7/dist-packages/sklearn/model_selection/_validation.py:515: DataConversionWarning:\n",
            "\n",
            "A column-vector y was passed when a 1d array was expected. Please change the shape of y to (n_samples,), for example using ravel().\n",
            "\n",
            "/usr/local/lib/python3.7/dist-packages/sklearn/model_selection/_validation.py:515: DataConversionWarning:\n",
            "\n",
            "A column-vector y was passed when a 1d array was expected. Please change the shape of y to (n_samples,), for example using ravel().\n",
            "\n",
            "/usr/local/lib/python3.7/dist-packages/sklearn/model_selection/_validation.py:515: DataConversionWarning:\n",
            "\n",
            "A column-vector y was passed when a 1d array was expected. Please change the shape of y to (n_samples,), for example using ravel().\n",
            "\n",
            "/usr/local/lib/python3.7/dist-packages/sklearn/model_selection/_validation.py:515: DataConversionWarning:\n",
            "\n",
            "A column-vector y was passed when a 1d array was expected. Please change the shape of y to (n_samples,), for example using ravel().\n",
            "\n",
            "/usr/local/lib/python3.7/dist-packages/sklearn/model_selection/_validation.py:515: DataConversionWarning:\n",
            "\n",
            "A column-vector y was passed when a 1d array was expected. Please change the shape of y to (n_samples,), for example using ravel().\n",
            "\n",
            "/usr/local/lib/python3.7/dist-packages/sklearn/model_selection/_validation.py:515: DataConversionWarning:\n",
            "\n",
            "A column-vector y was passed when a 1d array was expected. Please change the shape of y to (n_samples,), for example using ravel().\n",
            "\n",
            "/usr/local/lib/python3.7/dist-packages/sklearn/model_selection/_validation.py:515: DataConversionWarning:\n",
            "\n",
            "A column-vector y was passed when a 1d array was expected. Please change the shape of y to (n_samples,), for example using ravel().\n",
            "\n",
            "/usr/local/lib/python3.7/dist-packages/sklearn/model_selection/_validation.py:515: DataConversionWarning:\n",
            "\n",
            "A column-vector y was passed when a 1d array was expected. Please change the shape of y to (n_samples,), for example using ravel().\n",
            "\n",
            "/usr/local/lib/python3.7/dist-packages/sklearn/model_selection/_validation.py:515: DataConversionWarning:\n",
            "\n",
            "A column-vector y was passed when a 1d array was expected. Please change the shape of y to (n_samples,), for example using ravel().\n",
            "\n",
            "/usr/local/lib/python3.7/dist-packages/sklearn/model_selection/_validation.py:515: DataConversionWarning:\n",
            "\n",
            "A column-vector y was passed when a 1d array was expected. Please change the shape of y to (n_samples,), for example using ravel().\n",
            "\n",
            "/usr/local/lib/python3.7/dist-packages/sklearn/model_selection/_validation.py:515: DataConversionWarning:\n",
            "\n",
            "A column-vector y was passed when a 1d array was expected. Please change the shape of y to (n_samples,), for example using ravel().\n",
            "\n",
            "/usr/local/lib/python3.7/dist-packages/sklearn/model_selection/_validation.py:515: DataConversionWarning:\n",
            "\n",
            "A column-vector y was passed when a 1d array was expected. Please change the shape of y to (n_samples,), for example using ravel().\n",
            "\n",
            "/usr/local/lib/python3.7/dist-packages/sklearn/model_selection/_validation.py:515: DataConversionWarning:\n",
            "\n",
            "A column-vector y was passed when a 1d array was expected. Please change the shape of y to (n_samples,), for example using ravel().\n",
            "\n",
            "/usr/local/lib/python3.7/dist-packages/sklearn/model_selection/_validation.py:515: DataConversionWarning:\n",
            "\n",
            "A column-vector y was passed when a 1d array was expected. Please change the shape of y to (n_samples,), for example using ravel().\n",
            "\n",
            "/usr/local/lib/python3.7/dist-packages/sklearn/model_selection/_validation.py:515: DataConversionWarning:\n",
            "\n",
            "A column-vector y was passed when a 1d array was expected. Please change the shape of y to (n_samples,), for example using ravel().\n",
            "\n",
            "/usr/local/lib/python3.7/dist-packages/sklearn/model_selection/_validation.py:515: DataConversionWarning:\n",
            "\n",
            "A column-vector y was passed when a 1d array was expected. Please change the shape of y to (n_samples,), for example using ravel().\n",
            "\n",
            "/usr/local/lib/python3.7/dist-packages/sklearn/model_selection/_validation.py:515: DataConversionWarning:\n",
            "\n",
            "A column-vector y was passed when a 1d array was expected. Please change the shape of y to (n_samples,), for example using ravel().\n",
            "\n",
            "/usr/local/lib/python3.7/dist-packages/sklearn/model_selection/_validation.py:515: DataConversionWarning:\n",
            "\n",
            "A column-vector y was passed when a 1d array was expected. Please change the shape of y to (n_samples,), for example using ravel().\n",
            "\n",
            "/usr/local/lib/python3.7/dist-packages/sklearn/model_selection/_validation.py:515: DataConversionWarning:\n",
            "\n",
            "A column-vector y was passed when a 1d array was expected. Please change the shape of y to (n_samples,), for example using ravel().\n",
            "\n",
            "/usr/local/lib/python3.7/dist-packages/sklearn/model_selection/_validation.py:515: DataConversionWarning:\n",
            "\n",
            "A column-vector y was passed when a 1d array was expected. Please change the shape of y to (n_samples,), for example using ravel().\n",
            "\n",
            "/usr/local/lib/python3.7/dist-packages/sklearn/model_selection/_validation.py:515: DataConversionWarning:\n",
            "\n",
            "A column-vector y was passed when a 1d array was expected. Please change the shape of y to (n_samples,), for example using ravel().\n",
            "\n",
            "/usr/local/lib/python3.7/dist-packages/sklearn/model_selection/_validation.py:515: DataConversionWarning:\n",
            "\n",
            "A column-vector y was passed when a 1d array was expected. Please change the shape of y to (n_samples,), for example using ravel().\n",
            "\n",
            "/usr/local/lib/python3.7/dist-packages/sklearn/model_selection/_validation.py:515: DataConversionWarning:\n",
            "\n",
            "A column-vector y was passed when a 1d array was expected. Please change the shape of y to (n_samples,), for example using ravel().\n",
            "\n",
            "/usr/local/lib/python3.7/dist-packages/sklearn/model_selection/_validation.py:515: DataConversionWarning:\n",
            "\n",
            "A column-vector y was passed when a 1d array was expected. Please change the shape of y to (n_samples,), for example using ravel().\n",
            "\n",
            "/usr/local/lib/python3.7/dist-packages/sklearn/model_selection/_validation.py:515: DataConversionWarning:\n",
            "\n",
            "A column-vector y was passed when a 1d array was expected. Please change the shape of y to (n_samples,), for example using ravel().\n",
            "\n",
            "/usr/local/lib/python3.7/dist-packages/sklearn/model_selection/_validation.py:515: DataConversionWarning:\n",
            "\n",
            "A column-vector y was passed when a 1d array was expected. Please change the shape of y to (n_samples,), for example using ravel().\n",
            "\n",
            "/usr/local/lib/python3.7/dist-packages/sklearn/model_selection/_validation.py:515: DataConversionWarning:\n",
            "\n",
            "A column-vector y was passed when a 1d array was expected. Please change the shape of y to (n_samples,), for example using ravel().\n",
            "\n",
            "/usr/local/lib/python3.7/dist-packages/sklearn/model_selection/_validation.py:515: DataConversionWarning:\n",
            "\n",
            "A column-vector y was passed when a 1d array was expected. Please change the shape of y to (n_samples,), for example using ravel().\n",
            "\n",
            "/usr/local/lib/python3.7/dist-packages/sklearn/model_selection/_validation.py:515: DataConversionWarning:\n",
            "\n",
            "A column-vector y was passed when a 1d array was expected. Please change the shape of y to (n_samples,), for example using ravel().\n",
            "\n",
            "/usr/local/lib/python3.7/dist-packages/sklearn/model_selection/_validation.py:515: DataConversionWarning:\n",
            "\n",
            "A column-vector y was passed when a 1d array was expected. Please change the shape of y to (n_samples,), for example using ravel().\n",
            "\n",
            "/usr/local/lib/python3.7/dist-packages/sklearn/model_selection/_validation.py:515: DataConversionWarning:\n",
            "\n",
            "A column-vector y was passed when a 1d array was expected. Please change the shape of y to (n_samples,), for example using ravel().\n",
            "\n",
            "/usr/local/lib/python3.7/dist-packages/sklearn/model_selection/_validation.py:515: DataConversionWarning:\n",
            "\n",
            "A column-vector y was passed when a 1d array was expected. Please change the shape of y to (n_samples,), for example using ravel().\n",
            "\n",
            "/usr/local/lib/python3.7/dist-packages/sklearn/model_selection/_validation.py:515: DataConversionWarning:\n",
            "\n",
            "A column-vector y was passed when a 1d array was expected. Please change the shape of y to (n_samples,), for example using ravel().\n",
            "\n",
            "/usr/local/lib/python3.7/dist-packages/sklearn/model_selection/_validation.py:515: DataConversionWarning:\n",
            "\n",
            "A column-vector y was passed when a 1d array was expected. Please change the shape of y to (n_samples,), for example using ravel().\n",
            "\n",
            "/usr/local/lib/python3.7/dist-packages/sklearn/model_selection/_validation.py:515: DataConversionWarning:\n",
            "\n",
            "A column-vector y was passed when a 1d array was expected. Please change the shape of y to (n_samples,), for example using ravel().\n",
            "\n",
            "/usr/local/lib/python3.7/dist-packages/sklearn/model_selection/_validation.py:515: DataConversionWarning:\n",
            "\n",
            "A column-vector y was passed when a 1d array was expected. Please change the shape of y to (n_samples,), for example using ravel().\n",
            "\n",
            "/usr/local/lib/python3.7/dist-packages/sklearn/model_selection/_validation.py:515: DataConversionWarning:\n",
            "\n",
            "A column-vector y was passed when a 1d array was expected. Please change the shape of y to (n_samples,), for example using ravel().\n",
            "\n",
            "/usr/local/lib/python3.7/dist-packages/sklearn/model_selection/_validation.py:515: DataConversionWarning:\n",
            "\n",
            "A column-vector y was passed when a 1d array was expected. Please change the shape of y to (n_samples,), for example using ravel().\n",
            "\n",
            "/usr/local/lib/python3.7/dist-packages/sklearn/model_selection/_validation.py:515: DataConversionWarning:\n",
            "\n",
            "A column-vector y was passed when a 1d array was expected. Please change the shape of y to (n_samples,), for example using ravel().\n",
            "\n",
            "/usr/local/lib/python3.7/dist-packages/sklearn/model_selection/_validation.py:515: DataConversionWarning:\n",
            "\n",
            "A column-vector y was passed when a 1d array was expected. Please change the shape of y to (n_samples,), for example using ravel().\n",
            "\n",
            "/usr/local/lib/python3.7/dist-packages/sklearn/model_selection/_validation.py:515: DataConversionWarning:\n",
            "\n",
            "A column-vector y was passed when a 1d array was expected. Please change the shape of y to (n_samples,), for example using ravel().\n",
            "\n",
            "/usr/local/lib/python3.7/dist-packages/sklearn/model_selection/_validation.py:515: DataConversionWarning:\n",
            "\n",
            "A column-vector y was passed when a 1d array was expected. Please change the shape of y to (n_samples,), for example using ravel().\n",
            "\n",
            "/usr/local/lib/python3.7/dist-packages/sklearn/model_selection/_validation.py:515: DataConversionWarning:\n",
            "\n",
            "A column-vector y was passed when a 1d array was expected. Please change the shape of y to (n_samples,), for example using ravel().\n",
            "\n",
            "/usr/local/lib/python3.7/dist-packages/sklearn/model_selection/_validation.py:515: DataConversionWarning:\n",
            "\n",
            "A column-vector y was passed when a 1d array was expected. Please change the shape of y to (n_samples,), for example using ravel().\n",
            "\n",
            "/usr/local/lib/python3.7/dist-packages/sklearn/model_selection/_validation.py:515: DataConversionWarning:\n",
            "\n",
            "A column-vector y was passed when a 1d array was expected. Please change the shape of y to (n_samples,), for example using ravel().\n",
            "\n",
            "/usr/local/lib/python3.7/dist-packages/sklearn/model_selection/_validation.py:515: DataConversionWarning:\n",
            "\n",
            "A column-vector y was passed when a 1d array was expected. Please change the shape of y to (n_samples,), for example using ravel().\n",
            "\n",
            "/usr/local/lib/python3.7/dist-packages/sklearn/model_selection/_validation.py:515: DataConversionWarning:\n",
            "\n",
            "A column-vector y was passed when a 1d array was expected. Please change the shape of y to (n_samples,), for example using ravel().\n",
            "\n",
            "/usr/local/lib/python3.7/dist-packages/sklearn/model_selection/_validation.py:515: DataConversionWarning:\n",
            "\n",
            "A column-vector y was passed when a 1d array was expected. Please change the shape of y to (n_samples,), for example using ravel().\n",
            "\n",
            "/usr/local/lib/python3.7/dist-packages/sklearn/model_selection/_validation.py:515: DataConversionWarning:\n",
            "\n",
            "A column-vector y was passed when a 1d array was expected. Please change the shape of y to (n_samples,), for example using ravel().\n",
            "\n",
            "/usr/local/lib/python3.7/dist-packages/sklearn/model_selection/_validation.py:515: DataConversionWarning:\n",
            "\n",
            "A column-vector y was passed when a 1d array was expected. Please change the shape of y to (n_samples,), for example using ravel().\n",
            "\n",
            "/usr/local/lib/python3.7/dist-packages/sklearn/model_selection/_validation.py:515: DataConversionWarning:\n",
            "\n",
            "A column-vector y was passed when a 1d array was expected. Please change the shape of y to (n_samples,), for example using ravel().\n",
            "\n",
            "/usr/local/lib/python3.7/dist-packages/sklearn/model_selection/_validation.py:515: DataConversionWarning:\n",
            "\n",
            "A column-vector y was passed when a 1d array was expected. Please change the shape of y to (n_samples,), for example using ravel().\n",
            "\n",
            "/usr/local/lib/python3.7/dist-packages/sklearn/model_selection/_validation.py:515: DataConversionWarning:\n",
            "\n",
            "A column-vector y was passed when a 1d array was expected. Please change the shape of y to (n_samples,), for example using ravel().\n",
            "\n",
            "/usr/local/lib/python3.7/dist-packages/sklearn/model_selection/_validation.py:515: DataConversionWarning:\n",
            "\n",
            "A column-vector y was passed when a 1d array was expected. Please change the shape of y to (n_samples,), for example using ravel().\n",
            "\n",
            "/usr/local/lib/python3.7/dist-packages/sklearn/model_selection/_validation.py:515: DataConversionWarning:\n",
            "\n",
            "A column-vector y was passed when a 1d array was expected. Please change the shape of y to (n_samples,), for example using ravel().\n",
            "\n",
            "/usr/local/lib/python3.7/dist-packages/sklearn/model_selection/_validation.py:515: DataConversionWarning:\n",
            "\n",
            "A column-vector y was passed when a 1d array was expected. Please change the shape of y to (n_samples,), for example using ravel().\n",
            "\n",
            "/usr/local/lib/python3.7/dist-packages/sklearn/model_selection/_validation.py:515: DataConversionWarning:\n",
            "\n",
            "A column-vector y was passed when a 1d array was expected. Please change the shape of y to (n_samples,), for example using ravel().\n",
            "\n",
            "/usr/local/lib/python3.7/dist-packages/sklearn/model_selection/_validation.py:515: DataConversionWarning:\n",
            "\n",
            "A column-vector y was passed when a 1d array was expected. Please change the shape of y to (n_samples,), for example using ravel().\n",
            "\n",
            "/usr/local/lib/python3.7/dist-packages/sklearn/model_selection/_validation.py:515: DataConversionWarning:\n",
            "\n",
            "A column-vector y was passed when a 1d array was expected. Please change the shape of y to (n_samples,), for example using ravel().\n",
            "\n",
            "/usr/local/lib/python3.7/dist-packages/sklearn/model_selection/_validation.py:515: DataConversionWarning:\n",
            "\n",
            "A column-vector y was passed when a 1d array was expected. Please change the shape of y to (n_samples,), for example using ravel().\n",
            "\n",
            "/usr/local/lib/python3.7/dist-packages/sklearn/model_selection/_validation.py:515: DataConversionWarning:\n",
            "\n",
            "A column-vector y was passed when a 1d array was expected. Please change the shape of y to (n_samples,), for example using ravel().\n",
            "\n",
            "/usr/local/lib/python3.7/dist-packages/sklearn/model_selection/_validation.py:515: DataConversionWarning:\n",
            "\n",
            "A column-vector y was passed when a 1d array was expected. Please change the shape of y to (n_samples,), for example using ravel().\n",
            "\n",
            "/usr/local/lib/python3.7/dist-packages/sklearn/model_selection/_validation.py:515: DataConversionWarning:\n",
            "\n",
            "A column-vector y was passed when a 1d array was expected. Please change the shape of y to (n_samples,), for example using ravel().\n",
            "\n",
            "/usr/local/lib/python3.7/dist-packages/sklearn/model_selection/_validation.py:515: DataConversionWarning:\n",
            "\n",
            "A column-vector y was passed when a 1d array was expected. Please change the shape of y to (n_samples,), for example using ravel().\n",
            "\n",
            "/usr/local/lib/python3.7/dist-packages/sklearn/model_selection/_validation.py:515: DataConversionWarning:\n",
            "\n",
            "A column-vector y was passed when a 1d array was expected. Please change the shape of y to (n_samples,), for example using ravel().\n",
            "\n",
            "/usr/local/lib/python3.7/dist-packages/sklearn/model_selection/_validation.py:515: DataConversionWarning:\n",
            "\n",
            "A column-vector y was passed when a 1d array was expected. Please change the shape of y to (n_samples,), for example using ravel().\n",
            "\n",
            "/usr/local/lib/python3.7/dist-packages/sklearn/model_selection/_validation.py:515: DataConversionWarning:\n",
            "\n",
            "A column-vector y was passed when a 1d array was expected. Please change the shape of y to (n_samples,), for example using ravel().\n",
            "\n",
            "/usr/local/lib/python3.7/dist-packages/sklearn/model_selection/_validation.py:515: DataConversionWarning:\n",
            "\n",
            "A column-vector y was passed when a 1d array was expected. Please change the shape of y to (n_samples,), for example using ravel().\n",
            "\n",
            "/usr/local/lib/python3.7/dist-packages/sklearn/model_selection/_validation.py:515: DataConversionWarning:\n",
            "\n",
            "A column-vector y was passed when a 1d array was expected. Please change the shape of y to (n_samples,), for example using ravel().\n",
            "\n",
            "/usr/local/lib/python3.7/dist-packages/sklearn/model_selection/_validation.py:515: DataConversionWarning:\n",
            "\n",
            "A column-vector y was passed when a 1d array was expected. Please change the shape of y to (n_samples,), for example using ravel().\n",
            "\n",
            "/usr/local/lib/python3.7/dist-packages/sklearn/model_selection/_validation.py:515: DataConversionWarning:\n",
            "\n",
            "A column-vector y was passed when a 1d array was expected. Please change the shape of y to (n_samples,), for example using ravel().\n",
            "\n",
            "/usr/local/lib/python3.7/dist-packages/sklearn/model_selection/_validation.py:515: DataConversionWarning:\n",
            "\n",
            "A column-vector y was passed when a 1d array was expected. Please change the shape of y to (n_samples,), for example using ravel().\n",
            "\n",
            "/usr/local/lib/python3.7/dist-packages/sklearn/model_selection/_validation.py:515: DataConversionWarning:\n",
            "\n",
            "A column-vector y was passed when a 1d array was expected. Please change the shape of y to (n_samples,), for example using ravel().\n",
            "\n",
            "/usr/local/lib/python3.7/dist-packages/sklearn/model_selection/_validation.py:515: DataConversionWarning:\n",
            "\n",
            "A column-vector y was passed when a 1d array was expected. Please change the shape of y to (n_samples,), for example using ravel().\n",
            "\n",
            "/usr/local/lib/python3.7/dist-packages/sklearn/model_selection/_validation.py:515: DataConversionWarning:\n",
            "\n",
            "A column-vector y was passed when a 1d array was expected. Please change the shape of y to (n_samples,), for example using ravel().\n",
            "\n",
            "/usr/local/lib/python3.7/dist-packages/sklearn/model_selection/_validation.py:515: DataConversionWarning:\n",
            "\n",
            "A column-vector y was passed when a 1d array was expected. Please change the shape of y to (n_samples,), for example using ravel().\n",
            "\n",
            "/usr/local/lib/python3.7/dist-packages/sklearn/model_selection/_validation.py:515: DataConversionWarning:\n",
            "\n",
            "A column-vector y was passed when a 1d array was expected. Please change the shape of y to (n_samples,), for example using ravel().\n",
            "\n",
            "/usr/local/lib/python3.7/dist-packages/sklearn/model_selection/_validation.py:515: DataConversionWarning:\n",
            "\n",
            "A column-vector y was passed when a 1d array was expected. Please change the shape of y to (n_samples,), for example using ravel().\n",
            "\n",
            "/usr/local/lib/python3.7/dist-packages/sklearn/model_selection/_validation.py:515: DataConversionWarning:\n",
            "\n",
            "A column-vector y was passed when a 1d array was expected. Please change the shape of y to (n_samples,), for example using ravel().\n",
            "\n",
            "/usr/local/lib/python3.7/dist-packages/sklearn/model_selection/_validation.py:515: DataConversionWarning:\n",
            "\n",
            "A column-vector y was passed when a 1d array was expected. Please change the shape of y to (n_samples,), for example using ravel().\n",
            "\n",
            "/usr/local/lib/python3.7/dist-packages/sklearn/model_selection/_validation.py:515: DataConversionWarning:\n",
            "\n",
            "A column-vector y was passed when a 1d array was expected. Please change the shape of y to (n_samples,), for example using ravel().\n",
            "\n",
            "/usr/local/lib/python3.7/dist-packages/sklearn/model_selection/_validation.py:515: DataConversionWarning:\n",
            "\n",
            "A column-vector y was passed when a 1d array was expected. Please change the shape of y to (n_samples,), for example using ravel().\n",
            "\n",
            "/usr/local/lib/python3.7/dist-packages/sklearn/model_selection/_validation.py:515: DataConversionWarning:\n",
            "\n",
            "A column-vector y was passed when a 1d array was expected. Please change the shape of y to (n_samples,), for example using ravel().\n",
            "\n",
            "/usr/local/lib/python3.7/dist-packages/sklearn/model_selection/_validation.py:515: DataConversionWarning:\n",
            "\n",
            "A column-vector y was passed when a 1d array was expected. Please change the shape of y to (n_samples,), for example using ravel().\n",
            "\n",
            "/usr/local/lib/python3.7/dist-packages/sklearn/model_selection/_validation.py:515: DataConversionWarning:\n",
            "\n",
            "A column-vector y was passed when a 1d array was expected. Please change the shape of y to (n_samples,), for example using ravel().\n",
            "\n",
            "/usr/local/lib/python3.7/dist-packages/sklearn/model_selection/_validation.py:515: DataConversionWarning:\n",
            "\n",
            "A column-vector y was passed when a 1d array was expected. Please change the shape of y to (n_samples,), for example using ravel().\n",
            "\n",
            "/usr/local/lib/python3.7/dist-packages/sklearn/model_selection/_validation.py:515: DataConversionWarning:\n",
            "\n",
            "A column-vector y was passed when a 1d array was expected. Please change the shape of y to (n_samples,), for example using ravel().\n",
            "\n",
            "/usr/local/lib/python3.7/dist-packages/sklearn/model_selection/_validation.py:515: DataConversionWarning:\n",
            "\n",
            "A column-vector y was passed when a 1d array was expected. Please change the shape of y to (n_samples,), for example using ravel().\n",
            "\n",
            "/usr/local/lib/python3.7/dist-packages/sklearn/model_selection/_validation.py:515: DataConversionWarning:\n",
            "\n",
            "A column-vector y was passed when a 1d array was expected. Please change the shape of y to (n_samples,), for example using ravel().\n",
            "\n",
            "/usr/local/lib/python3.7/dist-packages/sklearn/model_selection/_validation.py:515: DataConversionWarning:\n",
            "\n",
            "A column-vector y was passed when a 1d array was expected. Please change the shape of y to (n_samples,), for example using ravel().\n",
            "\n",
            "/usr/local/lib/python3.7/dist-packages/sklearn/model_selection/_validation.py:515: DataConversionWarning:\n",
            "\n",
            "A column-vector y was passed when a 1d array was expected. Please change the shape of y to (n_samples,), for example using ravel().\n",
            "\n",
            "/usr/local/lib/python3.7/dist-packages/sklearn/model_selection/_validation.py:515: DataConversionWarning:\n",
            "\n",
            "A column-vector y was passed when a 1d array was expected. Please change the shape of y to (n_samples,), for example using ravel().\n",
            "\n",
            "/usr/local/lib/python3.7/dist-packages/sklearn/model_selection/_validation.py:515: DataConversionWarning:\n",
            "\n",
            "A column-vector y was passed when a 1d array was expected. Please change the shape of y to (n_samples,), for example using ravel().\n",
            "\n",
            "/usr/local/lib/python3.7/dist-packages/sklearn/model_selection/_validation.py:515: DataConversionWarning:\n",
            "\n",
            "A column-vector y was passed when a 1d array was expected. Please change the shape of y to (n_samples,), for example using ravel().\n",
            "\n",
            "/usr/local/lib/python3.7/dist-packages/sklearn/model_selection/_validation.py:515: DataConversionWarning:\n",
            "\n",
            "A column-vector y was passed when a 1d array was expected. Please change the shape of y to (n_samples,), for example using ravel().\n",
            "\n",
            "/usr/local/lib/python3.7/dist-packages/sklearn/model_selection/_validation.py:515: DataConversionWarning:\n",
            "\n",
            "A column-vector y was passed when a 1d array was expected. Please change the shape of y to (n_samples,), for example using ravel().\n",
            "\n",
            "/usr/local/lib/python3.7/dist-packages/sklearn/model_selection/_validation.py:515: DataConversionWarning:\n",
            "\n",
            "A column-vector y was passed when a 1d array was expected. Please change the shape of y to (n_samples,), for example using ravel().\n",
            "\n",
            "/usr/local/lib/python3.7/dist-packages/sklearn/model_selection/_validation.py:515: DataConversionWarning:\n",
            "\n",
            "A column-vector y was passed when a 1d array was expected. Please change the shape of y to (n_samples,), for example using ravel().\n",
            "\n",
            "/usr/local/lib/python3.7/dist-packages/sklearn/model_selection/_validation.py:515: DataConversionWarning:\n",
            "\n",
            "A column-vector y was passed when a 1d array was expected. Please change the shape of y to (n_samples,), for example using ravel().\n",
            "\n",
            "/usr/local/lib/python3.7/dist-packages/sklearn/model_selection/_validation.py:515: DataConversionWarning:\n",
            "\n",
            "A column-vector y was passed when a 1d array was expected. Please change the shape of y to (n_samples,), for example using ravel().\n",
            "\n",
            "/usr/local/lib/python3.7/dist-packages/sklearn/model_selection/_validation.py:515: DataConversionWarning:\n",
            "\n",
            "A column-vector y was passed when a 1d array was expected. Please change the shape of y to (n_samples,), for example using ravel().\n",
            "\n",
            "/usr/local/lib/python3.7/dist-packages/sklearn/model_selection/_validation.py:515: DataConversionWarning:\n",
            "\n",
            "A column-vector y was passed when a 1d array was expected. Please change the shape of y to (n_samples,), for example using ravel().\n",
            "\n",
            "/usr/local/lib/python3.7/dist-packages/sklearn/model_selection/_validation.py:515: DataConversionWarning:\n",
            "\n",
            "A column-vector y was passed when a 1d array was expected. Please change the shape of y to (n_samples,), for example using ravel().\n",
            "\n",
            "/usr/local/lib/python3.7/dist-packages/sklearn/model_selection/_validation.py:515: DataConversionWarning:\n",
            "\n",
            "A column-vector y was passed when a 1d array was expected. Please change the shape of y to (n_samples,), for example using ravel().\n",
            "\n",
            "/usr/local/lib/python3.7/dist-packages/sklearn/model_selection/_validation.py:515: DataConversionWarning:\n",
            "\n",
            "A column-vector y was passed when a 1d array was expected. Please change the shape of y to (n_samples,), for example using ravel().\n",
            "\n",
            "/usr/local/lib/python3.7/dist-packages/sklearn/model_selection/_validation.py:515: DataConversionWarning:\n",
            "\n",
            "A column-vector y was passed when a 1d array was expected. Please change the shape of y to (n_samples,), for example using ravel().\n",
            "\n",
            "/usr/local/lib/python3.7/dist-packages/sklearn/model_selection/_validation.py:515: DataConversionWarning:\n",
            "\n",
            "A column-vector y was passed when a 1d array was expected. Please change the shape of y to (n_samples,), for example using ravel().\n",
            "\n",
            "/usr/local/lib/python3.7/dist-packages/sklearn/model_selection/_validation.py:515: DataConversionWarning:\n",
            "\n",
            "A column-vector y was passed when a 1d array was expected. Please change the shape of y to (n_samples,), for example using ravel().\n",
            "\n",
            "/usr/local/lib/python3.7/dist-packages/sklearn/model_selection/_validation.py:515: DataConversionWarning:\n",
            "\n",
            "A column-vector y was passed when a 1d array was expected. Please change the shape of y to (n_samples,), for example using ravel().\n",
            "\n",
            "/usr/local/lib/python3.7/dist-packages/sklearn/model_selection/_validation.py:515: DataConversionWarning:\n",
            "\n",
            "A column-vector y was passed when a 1d array was expected. Please change the shape of y to (n_samples,), for example using ravel().\n",
            "\n",
            "/usr/local/lib/python3.7/dist-packages/sklearn/model_selection/_validation.py:515: DataConversionWarning:\n",
            "\n",
            "A column-vector y was passed when a 1d array was expected. Please change the shape of y to (n_samples,), for example using ravel().\n",
            "\n",
            "/usr/local/lib/python3.7/dist-packages/sklearn/model_selection/_validation.py:515: DataConversionWarning:\n",
            "\n",
            "A column-vector y was passed when a 1d array was expected. Please change the shape of y to (n_samples,), for example using ravel().\n",
            "\n",
            "/usr/local/lib/python3.7/dist-packages/sklearn/model_selection/_validation.py:515: DataConversionWarning:\n",
            "\n",
            "A column-vector y was passed when a 1d array was expected. Please change the shape of y to (n_samples,), for example using ravel().\n",
            "\n",
            "/usr/local/lib/python3.7/dist-packages/sklearn/model_selection/_validation.py:515: DataConversionWarning:\n",
            "\n",
            "A column-vector y was passed when a 1d array was expected. Please change the shape of y to (n_samples,), for example using ravel().\n",
            "\n",
            "/usr/local/lib/python3.7/dist-packages/sklearn/model_selection/_validation.py:515: DataConversionWarning:\n",
            "\n",
            "A column-vector y was passed when a 1d array was expected. Please change the shape of y to (n_samples,), for example using ravel().\n",
            "\n",
            "/usr/local/lib/python3.7/dist-packages/sklearn/model_selection/_validation.py:515: DataConversionWarning:\n",
            "\n",
            "A column-vector y was passed when a 1d array was expected. Please change the shape of y to (n_samples,), for example using ravel().\n",
            "\n",
            "/usr/local/lib/python3.7/dist-packages/sklearn/model_selection/_validation.py:515: DataConversionWarning:\n",
            "\n",
            "A column-vector y was passed when a 1d array was expected. Please change the shape of y to (n_samples,), for example using ravel().\n",
            "\n",
            "/usr/local/lib/python3.7/dist-packages/sklearn/model_selection/_validation.py:515: DataConversionWarning:\n",
            "\n",
            "A column-vector y was passed when a 1d array was expected. Please change the shape of y to (n_samples,), for example using ravel().\n",
            "\n",
            "/usr/local/lib/python3.7/dist-packages/sklearn/model_selection/_validation.py:515: DataConversionWarning:\n",
            "\n",
            "A column-vector y was passed when a 1d array was expected. Please change the shape of y to (n_samples,), for example using ravel().\n",
            "\n",
            "/usr/local/lib/python3.7/dist-packages/sklearn/model_selection/_validation.py:515: DataConversionWarning:\n",
            "\n",
            "A column-vector y was passed when a 1d array was expected. Please change the shape of y to (n_samples,), for example using ravel().\n",
            "\n",
            "/usr/local/lib/python3.7/dist-packages/sklearn/model_selection/_validation.py:515: DataConversionWarning:\n",
            "\n",
            "A column-vector y was passed when a 1d array was expected. Please change the shape of y to (n_samples,), for example using ravel().\n",
            "\n",
            "/usr/local/lib/python3.7/dist-packages/sklearn/model_selection/_validation.py:515: DataConversionWarning:\n",
            "\n",
            "A column-vector y was passed when a 1d array was expected. Please change the shape of y to (n_samples,), for example using ravel().\n",
            "\n",
            "/usr/local/lib/python3.7/dist-packages/sklearn/model_selection/_validation.py:515: DataConversionWarning:\n",
            "\n",
            "A column-vector y was passed when a 1d array was expected. Please change the shape of y to (n_samples,), for example using ravel().\n",
            "\n",
            "/usr/local/lib/python3.7/dist-packages/sklearn/model_selection/_validation.py:515: DataConversionWarning:\n",
            "\n",
            "A column-vector y was passed when a 1d array was expected. Please change the shape of y to (n_samples,), for example using ravel().\n",
            "\n",
            "/usr/local/lib/python3.7/dist-packages/sklearn/model_selection/_validation.py:515: DataConversionWarning:\n",
            "\n",
            "A column-vector y was passed when a 1d array was expected. Please change the shape of y to (n_samples,), for example using ravel().\n",
            "\n",
            "/usr/local/lib/python3.7/dist-packages/sklearn/model_selection/_search.py:739: DataConversionWarning:\n",
            "\n",
            "A column-vector y was passed when a 1d array was expected. Please change the shape of y to (n_samples,), for example using ravel().\n",
            "\n"
          ],
          "name": "stderr"
        },
        {
          "output_type": "execute_result",
          "data": {
            "text/plain": [
              "{'criterion': 'mae',\n",
              " 'max_depth': 8,\n",
              " 'max_features': 'log2',\n",
              " 'n_estimators': 200}"
            ]
          },
          "metadata": {
            "tags": []
          },
          "execution_count": 77
        }
      ]
    },
    {
      "cell_type": "code",
      "metadata": {
        "colab": {
          "base_uri": "https://localhost:8080/"
        },
        "id": "4zdL-qSy_27M",
        "outputId": "f8b6a50d-9c83-4418-ce2e-2cc03e182071"
      },
      "source": [
        "GSCV.best_params_"
      ],
      "execution_count": 78,
      "outputs": [
        {
          "output_type": "execute_result",
          "data": {
            "text/plain": [
              "{'criterion': 'mae',\n",
              " 'max_depth': 8,\n",
              " 'max_features': 'log2',\n",
              " 'n_estimators': 200}"
            ]
          },
          "metadata": {
            "tags": []
          },
          "execution_count": 78
        }
      ]
    },
    {
      "cell_type": "code",
      "metadata": {
        "colab": {
          "base_uri": "https://localhost:8080/"
        },
        "id": "McfSUuU__27N",
        "outputId": "7b3cf9ec-c991-46db-f241-18b95cbffbe2"
      },
      "source": [
        "y_pred_val = GSCV.predict(x_val)\n",
        "regression_results(y_val, y_pred_val)"
      ],
      "execution_count": 82,
      "outputs": [
        {
          "output_type": "stream",
          "text": [
            "explained_variance:  0.4451\n",
            "r2:  0.4429\n",
            "MAE:  12.7918\n",
            "MSE:  291.5057\n",
            "RMSE:  17.0735\n"
          ],
          "name": "stdout"
        },
        {
          "output_type": "execute_result",
          "data": {
            "text/plain": [
              "{'MAE': 12.7918,\n",
              " 'MSE': 291.5057,\n",
              " 'RMSE': 17.0735,\n",
              " 'explained_variance': 0.4451,\n",
              " 'r2': 0.4429}"
            ]
          },
          "metadata": {
            "tags": []
          },
          "execution_count": 82
        }
      ]
    },
    {
      "cell_type": "code",
      "metadata": {
        "colab": {
          "base_uri": "https://localhost:8080/"
        },
        "id": "1RqZ_hSG_27O",
        "outputId": "3b10e1a2-f9d4-4f32-a82a-7198a52a1a49"
      },
      "source": [
        "y_pred = GSCV.predict(x_test)\n",
        "regression_results(y_test, y_pred)"
      ],
      "execution_count": 83,
      "outputs": [
        {
          "output_type": "stream",
          "text": [
            "explained_variance:  0.3153\n",
            "r2:  0.3012\n",
            "MAE:  17.5116\n",
            "MSE:  619.7696\n",
            "RMSE:  24.8952\n"
          ],
          "name": "stdout"
        },
        {
          "output_type": "execute_result",
          "data": {
            "text/plain": [
              "{'MAE': 17.5116,\n",
              " 'MSE': 619.7696,\n",
              " 'RMSE': 24.8952,\n",
              " 'explained_variance': 0.3153,\n",
              " 'r2': 0.3012}"
            ]
          },
          "metadata": {
            "tags": []
          },
          "execution_count": 83
        }
      ]
    },
    {
      "cell_type": "code",
      "metadata": {
        "colab": {
          "base_uri": "https://localhost:8080/",
          "height": 242
        },
        "id": "dKY9T4d4shXb",
        "outputId": "85d917a1-6bfe-4c33-e66b-fecbcf31a46d"
      },
      "source": [
        "y_test_pred =y_pred.reshape(100,1)\n",
        "error =  abs(y_test_pred - y_test)\n",
        "rate = error / y_test\n",
        "s_array = rate[[\"Yield\"]].to_numpy()\n",
        "s_array[~np.isfinite(s_array)] = 0\n",
        "s_array.mean()"
      ],
      "execution_count": 81,
      "outputs": [
        {
          "output_type": "error",
          "ename": "ValueError",
          "evalue": "ignored",
          "traceback": [
            "\u001b[0;31m---------------------------------------------------------------------------\u001b[0m",
            "\u001b[0;31mValueError\u001b[0m                                Traceback (most recent call last)",
            "\u001b[0;32m<ipython-input-81-39510f4828d0>\u001b[0m in \u001b[0;36m<module>\u001b[0;34m()\u001b[0m\n\u001b[0;32m----> 1\u001b[0;31m \u001b[0my_test_pred\u001b[0m \u001b[0;34m=\u001b[0m\u001b[0my_pred\u001b[0m\u001b[0;34m.\u001b[0m\u001b[0mreshape\u001b[0m\u001b[0;34m(\u001b[0m\u001b[0;36m100\u001b[0m\u001b[0;34m,\u001b[0m\u001b[0;36m1\u001b[0m\u001b[0;34m)\u001b[0m\u001b[0;34m\u001b[0m\u001b[0;34m\u001b[0m\u001b[0m\n\u001b[0m\u001b[1;32m      2\u001b[0m \u001b[0merror\u001b[0m \u001b[0;34m=\u001b[0m  \u001b[0mabs\u001b[0m\u001b[0;34m(\u001b[0m\u001b[0my_test_pred\u001b[0m \u001b[0;34m-\u001b[0m \u001b[0my_test\u001b[0m\u001b[0;34m)\u001b[0m\u001b[0;34m\u001b[0m\u001b[0;34m\u001b[0m\u001b[0m\n\u001b[1;32m      3\u001b[0m \u001b[0mrate\u001b[0m \u001b[0;34m=\u001b[0m \u001b[0merror\u001b[0m \u001b[0;34m/\u001b[0m \u001b[0my_test\u001b[0m\u001b[0;34m\u001b[0m\u001b[0;34m\u001b[0m\u001b[0m\n\u001b[1;32m      4\u001b[0m \u001b[0ms_array\u001b[0m \u001b[0;34m=\u001b[0m \u001b[0mrate\u001b[0m\u001b[0;34m[\u001b[0m\u001b[0;34m[\u001b[0m\u001b[0;34m\"Yield\"\u001b[0m\u001b[0;34m]\u001b[0m\u001b[0;34m]\u001b[0m\u001b[0;34m.\u001b[0m\u001b[0mto_numpy\u001b[0m\u001b[0;34m(\u001b[0m\u001b[0;34m)\u001b[0m\u001b[0;34m\u001b[0m\u001b[0;34m\u001b[0m\u001b[0m\n\u001b[1;32m      5\u001b[0m \u001b[0ms_array\u001b[0m\u001b[0;34m[\u001b[0m\u001b[0;34m~\u001b[0m\u001b[0mnp\u001b[0m\u001b[0;34m.\u001b[0m\u001b[0misfinite\u001b[0m\u001b[0;34m(\u001b[0m\u001b[0ms_array\u001b[0m\u001b[0;34m)\u001b[0m\u001b[0;34m]\u001b[0m \u001b[0;34m=\u001b[0m \u001b[0;36m0\u001b[0m\u001b[0;34m\u001b[0m\u001b[0;34m\u001b[0m\u001b[0m\n",
            "\u001b[0;31mValueError\u001b[0m: cannot reshape array of size 71 into shape (100,1)"
          ]
        }
      ]
    },
    {
      "cell_type": "markdown",
      "metadata": {
        "id": "-BbLj8iz_27P"
      },
      "source": [
        "## Polynomial "
      ]
    },
    {
      "cell_type": "code",
      "metadata": {
        "colab": {
          "base_uri": "https://localhost:8080/"
        },
        "id": "KE0iXTsn_27Q",
        "outputId": "c6e184c1-ff9f-4966-a818-1ec570127b17"
      },
      "source": [
        "from sklearn.preprocessing import PolynomialFeatures\n",
        "from sklearn.linear_model import LinearRegression\n",
        "poly_reg = PolynomialFeatures(degree = 3)\n",
        "X_poly = poly_reg.fit_transform(x_train)\n",
        "lin_reg = LinearRegression()\n",
        "lin_reg.fit(X_poly, y_train)\n",
        "y_pred = lin_reg.predict(X_poly)\n",
        "regression_results(y_train, y_pred)"
      ],
      "execution_count": 84,
      "outputs": [
        {
          "output_type": "stream",
          "text": [
            "explained_variance:  1.0\n",
            "r2:  1.0\n",
            "MAE:  0.0\n",
            "MSE:  0.0\n",
            "RMSE:  0.0\n"
          ],
          "name": "stdout"
        },
        {
          "output_type": "execute_result",
          "data": {
            "text/plain": [
              "{'MAE': 0.0, 'MSE': 0.0, 'RMSE': 0.0, 'explained_variance': 1.0, 'r2': 1.0}"
            ]
          },
          "metadata": {
            "tags": []
          },
          "execution_count": 84
        }
      ]
    },
    {
      "cell_type": "markdown",
      "metadata": {
        "id": "dR0R8JJN_27S"
      },
      "source": [
        "### Polynomial with Tuning on Validation and Test"
      ]
    },
    {
      "cell_type": "code",
      "metadata": {
        "colab": {
          "base_uri": "https://localhost:8080/"
        },
        "id": "kV0iC1SV_27S",
        "outputId": "49e4ad0a-c7ea-4ea7-e881-7495008e19bd"
      },
      "source": [
        "from sklearn.model_selection import GridSearchCV\n",
        "from sklearn.pipeline import Pipeline\n",
        "param_grid = [\n",
        "    {'poly__degree': [2, 3, 4]}\n",
        "  ]\n",
        "pipeline = Pipeline(steps=[('poly', PolynomialFeatures()), ('ridge', Ridge())])\n",
        "grid_search = GridSearchCV(pipeline, param_grid, cv=5,\n",
        "                           scoring='neg_mean_squared_error',\n",
        "                           return_train_score=True)\n",
        "grid_search.fit(x_train, y_train)"
      ],
      "execution_count": 85,
      "outputs": [
        {
          "output_type": "stream",
          "text": [
            "/usr/local/lib/python3.7/dist-packages/sklearn/linear_model/_ridge.py:190: UserWarning:\n",
            "\n",
            "Singular matrix in solving dual problem. Using least-squares solution instead.\n",
            "\n",
            "/usr/local/lib/python3.7/dist-packages/sklearn/linear_model/_ridge.py:190: UserWarning:\n",
            "\n",
            "Singular matrix in solving dual problem. Using least-squares solution instead.\n",
            "\n",
            "/usr/local/lib/python3.7/dist-packages/sklearn/linear_model/_ridge.py:190: UserWarning:\n",
            "\n",
            "Singular matrix in solving dual problem. Using least-squares solution instead.\n",
            "\n",
            "/usr/local/lib/python3.7/dist-packages/sklearn/linear_model/_ridge.py:190: UserWarning:\n",
            "\n",
            "Singular matrix in solving dual problem. Using least-squares solution instead.\n",
            "\n",
            "/usr/local/lib/python3.7/dist-packages/sklearn/linear_model/_ridge.py:190: UserWarning:\n",
            "\n",
            "Singular matrix in solving dual problem. Using least-squares solution instead.\n",
            "\n",
            "/usr/local/lib/python3.7/dist-packages/sklearn/linear_model/_ridge.py:190: UserWarning:\n",
            "\n",
            "Singular matrix in solving dual problem. Using least-squares solution instead.\n",
            "\n",
            "/usr/local/lib/python3.7/dist-packages/sklearn/linear_model/_ridge.py:190: UserWarning:\n",
            "\n",
            "Singular matrix in solving dual problem. Using least-squares solution instead.\n",
            "\n",
            "/usr/local/lib/python3.7/dist-packages/sklearn/linear_model/_ridge.py:190: UserWarning:\n",
            "\n",
            "Singular matrix in solving dual problem. Using least-squares solution instead.\n",
            "\n",
            "/usr/local/lib/python3.7/dist-packages/sklearn/linear_model/_ridge.py:190: UserWarning:\n",
            "\n",
            "Singular matrix in solving dual problem. Using least-squares solution instead.\n",
            "\n",
            "/usr/local/lib/python3.7/dist-packages/sklearn/linear_model/_ridge.py:190: UserWarning:\n",
            "\n",
            "Singular matrix in solving dual problem. Using least-squares solution instead.\n",
            "\n",
            "/usr/local/lib/python3.7/dist-packages/sklearn/linear_model/_ridge.py:190: UserWarning:\n",
            "\n",
            "Singular matrix in solving dual problem. Using least-squares solution instead.\n",
            "\n",
            "/usr/local/lib/python3.7/dist-packages/sklearn/linear_model/_ridge.py:190: UserWarning:\n",
            "\n",
            "Singular matrix in solving dual problem. Using least-squares solution instead.\n",
            "\n",
            "/usr/local/lib/python3.7/dist-packages/sklearn/linear_model/_ridge.py:190: UserWarning:\n",
            "\n",
            "Singular matrix in solving dual problem. Using least-squares solution instead.\n",
            "\n",
            "/usr/local/lib/python3.7/dist-packages/sklearn/linear_model/_ridge.py:190: UserWarning:\n",
            "\n",
            "Singular matrix in solving dual problem. Using least-squares solution instead.\n",
            "\n",
            "/usr/local/lib/python3.7/dist-packages/sklearn/linear_model/_ridge.py:190: UserWarning:\n",
            "\n",
            "Singular matrix in solving dual problem. Using least-squares solution instead.\n",
            "\n",
            "/usr/local/lib/python3.7/dist-packages/sklearn/linear_model/_ridge.py:148: LinAlgWarning:\n",
            "\n",
            "Ill-conditioned matrix (rcond=3.26511e-18): result may not be accurate.\n",
            "\n"
          ],
          "name": "stderr"
        },
        {
          "output_type": "execute_result",
          "data": {
            "text/plain": [
              "GridSearchCV(cv=5, error_score=nan,\n",
              "             estimator=Pipeline(memory=None,\n",
              "                                steps=[('poly',\n",
              "                                        PolynomialFeatures(degree=2,\n",
              "                                                           include_bias=True,\n",
              "                                                           interaction_only=False,\n",
              "                                                           order='C')),\n",
              "                                       ('ridge',\n",
              "                                        Ridge(alpha=1.0, copy_X=True,\n",
              "                                              fit_intercept=True, max_iter=None,\n",
              "                                              normalize=False,\n",
              "                                              random_state=None, solver='auto',\n",
              "                                              tol=0.001))],\n",
              "                                verbose=False),\n",
              "             iid='deprecated', n_jobs=None,\n",
              "             param_grid=[{'poly__degree': [2, 3, 4]}], pre_dispatch='2*n_jobs',\n",
              "             refit=True, return_train_score=True,\n",
              "             scoring='neg_mean_squared_error', verbose=0)"
            ]
          },
          "metadata": {
            "tags": []
          },
          "execution_count": 85
        }
      ]
    },
    {
      "cell_type": "code",
      "metadata": {
        "colab": {
          "base_uri": "https://localhost:8080/"
        },
        "id": "Ia54FJMi_27S",
        "outputId": "efb2645a-0bde-4130-b6c4-576e96f3c016"
      },
      "source": [
        "grid_search.best_params_"
      ],
      "execution_count": 68,
      "outputs": [
        {
          "output_type": "execute_result",
          "data": {
            "text/plain": [
              "{'poly__degree': 2}"
            ]
          },
          "metadata": {
            "tags": []
          },
          "execution_count": 68
        }
      ]
    },
    {
      "cell_type": "code",
      "metadata": {
        "colab": {
          "base_uri": "https://localhost:8080/"
        },
        "id": "lbDU-Mjs_27T",
        "outputId": "dd76a0a0-c11b-4105-fbed-3330a9a113bc"
      },
      "source": [
        "y_pred_val = grid_search.predict(x_val)\n",
        "regression_results(y_val, y_pred_val)"
      ],
      "execution_count": 86,
      "outputs": [
        {
          "output_type": "stream",
          "text": [
            "explained_variance:  -0.165\n",
            "r2:  -0.1698\n",
            "MAE:  18.9863\n",
            "MSE:  612.0977\n",
            "RMSE:  24.7406\n"
          ],
          "name": "stdout"
        },
        {
          "output_type": "execute_result",
          "data": {
            "text/plain": [
              "{'MAE': 18.9863,\n",
              " 'MSE': 612.0977,\n",
              " 'RMSE': 24.7406,\n",
              " 'explained_variance': -0.165,\n",
              " 'r2': -0.1698}"
            ]
          },
          "metadata": {
            "tags": []
          },
          "execution_count": 86
        }
      ]
    },
    {
      "cell_type": "code",
      "metadata": {
        "colab": {
          "base_uri": "https://localhost:8080/"
        },
        "id": "XKeEWCD2_27U",
        "outputId": "3ea7ea90-646a-45c9-e14a-fe02c054e04d"
      },
      "source": [
        "y_pred = grid_search.predict(x_test)\n",
        "regression_results(y_test, y_pred)"
      ],
      "execution_count": 87,
      "outputs": [
        {
          "output_type": "stream",
          "text": [
            "explained_variance:  -0.0387\n",
            "r2:  -0.064\n",
            "MAE:  22.0627\n",
            "MSE:  943.6823\n",
            "RMSE:  30.7194\n"
          ],
          "name": "stdout"
        },
        {
          "output_type": "execute_result",
          "data": {
            "text/plain": [
              "{'MAE': 22.0627,\n",
              " 'MSE': 943.6823,\n",
              " 'RMSE': 30.7194,\n",
              " 'explained_variance': -0.0387,\n",
              " 'r2': -0.064}"
            ]
          },
          "metadata": {
            "tags": []
          },
          "execution_count": 87
        }
      ]
    },
    {
      "cell_type": "code",
      "metadata": {
        "colab": {
          "base_uri": "https://localhost:8080/"
        },
        "id": "DFQvsdYbn8v5",
        "outputId": "e43a9189-e2b4-422c-afd7-9dd4fbb6d62b"
      },
      "source": [
        "y_pred =y_pred.reshape(71,1)\n",
        "error =  abs(y_pred - y_test)\n",
        "rate = error / y_test\n",
        "s_array = rate[[\"Yield\"]].to_numpy()\n",
        "s_array[~np.isfinite(s_array)] = 0\n",
        "s_array.mean()"
      ],
      "execution_count": 88,
      "outputs": [
        {
          "output_type": "execute_result",
          "data": {
            "text/plain": [
              "0.1845144845190427"
            ]
          },
          "metadata": {
            "tags": []
          },
          "execution_count": 88
        }
      ]
    },
    {
      "cell_type": "code",
      "metadata": {
        "id": "Jq8Uem-PBiWK"
      },
      "source": [
        ""
      ],
      "execution_count": null,
      "outputs": []
    },
    {
      "cell_type": "markdown",
      "metadata": {
        "id": "k9Vgh5au_27U"
      },
      "source": [
        "##Kernel"
      ]
    },
    {
      "cell_type": "code",
      "metadata": {
        "colab": {
          "base_uri": "https://localhost:8080/"
        },
        "id": "Mmcd9vmv_27U",
        "outputId": "87f92172-b6ae-436a-e265-982fa11b915c"
      },
      "source": [
        "from sklearn.kernel_ridge import KernelRidge\n",
        "#import KernelReg as kr\n",
        "clf = KernelRidge(alpha=1.0)\n",
        "clf.fit(x_train, y_train)\n",
        "KernelRidge(alpha=1.0)\n",
        "\n",
        "# Evaluating the model on the train set\n",
        "y_pred_kernel = clf.predict(x_train)\n",
        "regression_results(y_train, y_pred_kernel)\n",
        "# Evaluating the model on the validation set \n",
        "y_pred_kernel = clf.predict(x_val)\n",
        "regression_results(y_val, y_pred_kernel)\n",
        "# Evaluating the model on the vtest set\n",
        "y_pred_kernel = clf.predict(x_test)\n",
        "regression_results(y_test, y_pred_kernel)"
      ],
      "execution_count": 70,
      "outputs": [
        {
          "output_type": "stream",
          "text": [
            "explained_variance:  0.3747\n",
            "r2:  0.3747\n",
            "MAE:  14.9995\n",
            "MSE:  430.5177\n",
            "RMSE:  20.7489\n",
            "explained_variance:  0.2637\n",
            "r2:  0.2626\n",
            "MAE:  15.0341\n",
            "MSE:  385.857\n",
            "RMSE:  19.6432\n",
            "explained_variance:  0.3564\n",
            "r2:  0.3502\n",
            "MAE:  16.9039\n",
            "MSE:  576.376\n",
            "RMSE:  24.0078\n"
          ],
          "name": "stdout"
        },
        {
          "output_type": "execute_result",
          "data": {
            "text/plain": [
              "{'MAE': 16.9039,\n",
              " 'MSE': 576.376,\n",
              " 'RMSE': 24.0078,\n",
              " 'explained_variance': 0.3564,\n",
              " 'r2': 0.3502}"
            ]
          },
          "metadata": {
            "tags": []
          },
          "execution_count": 70
        }
      ]
    },
    {
      "cell_type": "code",
      "metadata": {
        "colab": {
          "base_uri": "https://localhost:8080/"
        },
        "id": "BwXtpU2WBpCi",
        "outputId": "12ce0341-9e86-4ba7-f6a0-35ac15d6732a"
      },
      "source": [
        "y_pred =y_pred_kernel.reshape(71,1)\n",
        "error =  abs(y_pred - y_test)\n",
        "rate = error / y_test\n",
        "s_array = rate[[\"Yield\"]].to_numpy()\n",
        "s_array[~np.isfinite(s_array)] = 0\n",
        "s_array.mean()"
      ],
      "execution_count": 71,
      "outputs": [
        {
          "output_type": "execute_result",
          "data": {
            "text/plain": [
              "0.1399403108607873"
            ]
          },
          "metadata": {
            "tags": []
          },
          "execution_count": 71
        }
      ]
    },
    {
      "cell_type": "markdown",
      "metadata": {
        "id": "5WUPgJJV_27U"
      },
      "source": [
        "##Bagging"
      ]
    },
    {
      "cell_type": "code",
      "metadata": {
        "colab": {
          "base_uri": "https://localhost:8080/"
        },
        "id": "Gj82XO1t_27V",
        "outputId": "8344e94f-ee96-4854-d5f4-c5baca621fa8"
      },
      "source": [
        "from sklearn.svm import SVR\n",
        "from sklearn.ensemble import BaggingRegressor\n",
        "\n",
        "regr = BaggingRegressor(base_estimator=SVR(), n_estimators=10, random_state=0).fit(x_train, y_train)\n",
        "\n",
        "# Evaluating the model on the train set\n",
        "y_pred_bag = regr.predict(x_train)\n",
        "regression_results(y_train, y_pred_bag)"
      ],
      "execution_count": 72,
      "outputs": [
        {
          "output_type": "stream",
          "text": [
            "A column-vector y was passed when a 1d array was expected. Please change the shape of y to (n_samples, ), for example using ravel().\n"
          ],
          "name": "stderr"
        },
        {
          "output_type": "stream",
          "text": [
            "explained_variance:  0.0124\n",
            "r2:  0.0049\n",
            "MAE:  19.3812\n",
            "MSE:  685.0554\n",
            "RMSE:  26.1736\n"
          ],
          "name": "stdout"
        },
        {
          "output_type": "execute_result",
          "data": {
            "text/plain": [
              "{'MAE': 19.3812,\n",
              " 'MSE': 685.0554,\n",
              " 'RMSE': 26.1736,\n",
              " 'explained_variance': 0.0124,\n",
              " 'r2': 0.0049}"
            ]
          },
          "metadata": {
            "tags": []
          },
          "execution_count": 72
        }
      ]
    },
    {
      "cell_type": "markdown",
      "metadata": {
        "id": "p5nu98Ob_27V"
      },
      "source": [
        "### Bagging on Validation and Test"
      ]
    },
    {
      "cell_type": "code",
      "metadata": {
        "colab": {
          "base_uri": "https://localhost:8080/"
        },
        "id": "qg2Akvm-_27V",
        "outputId": "dd91f18c-d41b-4070-a31a-4e26afaa1688"
      },
      "source": [
        "from sklearn.neighbors import KNeighborsRegressor\n",
        "from sklearn.model_selection import GridSearchCV\n",
        "params = {'base_estimator': [None, LinearRegression(), KNeighborsRegressor(), SVR()],\n",
        "          'n_estimators': [20,50,100],\n",
        "          'bootstrap': [True, False],\n",
        "          'bootstrap_features': [True, False]}\n",
        "\n",
        "bagging_regressor_grid = GridSearchCV(BaggingRegressor(random_state=1, n_jobs=-1), param_grid =params, cv=3, n_jobs=-1, verbose=1)\n",
        "bagging_regressor_grid.fit(x_train, y_train)"
      ],
      "execution_count": 73,
      "outputs": [
        {
          "output_type": "stream",
          "text": [
            "Fitting 3 folds for each of 48 candidates, totalling 144 fits\n"
          ],
          "name": "stdout"
        },
        {
          "output_type": "stream",
          "text": [
            "[Parallel(n_jobs=-1)]: Using backend LokyBackend with 2 concurrent workers.\n",
            "[Parallel(n_jobs=-1)]: Done  46 tasks      | elapsed:   16.8s\n",
            "[Parallel(n_jobs=-1)]: Done 144 out of 144 | elapsed:   48.5s finished\n",
            "A column-vector y was passed when a 1d array was expected. Please change the shape of y to (n_samples, ), for example using ravel().\n"
          ],
          "name": "stderr"
        },
        {
          "output_type": "execute_result",
          "data": {
            "text/plain": [
              "GridSearchCV(cv=3, error_score=nan,\n",
              "             estimator=BaggingRegressor(base_estimator=None, bootstrap=True,\n",
              "                                        bootstrap_features=False,\n",
              "                                        max_features=1.0, max_samples=1.0,\n",
              "                                        n_estimators=10, n_jobs=-1,\n",
              "                                        oob_score=False, random_state=1,\n",
              "                                        verbose=0, warm_start=False),\n",
              "             iid='deprecated', n_jobs=-1,\n",
              "             param_grid={'base_estimator': [None,\n",
              "                                            LinearRegression(copy_X=True,\n",
              "                                                             fit_intercept=True,\n",
              "                                                             n...\n",
              "                                                                n_jobs=None,\n",
              "                                                                n_neighbors=5,\n",
              "                                                                p=2,\n",
              "                                                                weights='uniform'),\n",
              "                                            SVR(C=1.0, cache_size=200,\n",
              "                                                coef0=0.0, degree=3,\n",
              "                                                epsilon=0.1, gamma='scale',\n",
              "                                                kernel='rbf', max_iter=-1,\n",
              "                                                shrinking=True, tol=0.001,\n",
              "                                                verbose=False)],\n",
              "                         'bootstrap': [True, False],\n",
              "                         'bootstrap_features': [True, False],\n",
              "                         'n_estimators': [20, 50, 100]},\n",
              "             pre_dispatch='2*n_jobs', refit=True, return_train_score=False,\n",
              "             scoring=None, verbose=1)"
            ]
          },
          "metadata": {
            "tags": []
          },
          "execution_count": 73
        }
      ]
    },
    {
      "cell_type": "code",
      "metadata": {
        "colab": {
          "base_uri": "https://localhost:8080/"
        },
        "id": "1gx5MV8h_27W",
        "outputId": "7301d92d-a752-4e05-922f-c34cfe5b6664"
      },
      "source": [
        "y_pred_bag_val = bagging_regressor_grid.predict(x_val)\n",
        "regression_results(y_val, y_pred_bag_val)"
      ],
      "execution_count": 74,
      "outputs": [
        {
          "output_type": "stream",
          "text": [
            "explained_variance:  0.4903\n",
            "r2:  0.49\n",
            "MAE:  12.1826\n",
            "MSE:  266.8272\n",
            "RMSE:  16.3348\n"
          ],
          "name": "stdout"
        },
        {
          "output_type": "execute_result",
          "data": {
            "text/plain": [
              "{'MAE': 12.1826,\n",
              " 'MSE': 266.8272,\n",
              " 'RMSE': 16.3348,\n",
              " 'explained_variance': 0.4903,\n",
              " 'r2': 0.49}"
            ]
          },
          "metadata": {
            "tags": []
          },
          "execution_count": 74
        }
      ]
    },
    {
      "cell_type": "code",
      "metadata": {
        "colab": {
          "base_uri": "https://localhost:8080/"
        },
        "id": "k485HZqz_27X",
        "outputId": "a4e92a1d-80fc-470b-f670-a7286b1f33ec"
      },
      "source": [
        "y_pred_bag_test = bagging_regressor_grid.predict(x_test)\n",
        "regression_results(y_test, y_pred_bag_test)"
      ],
      "execution_count": 75,
      "outputs": [
        {
          "output_type": "stream",
          "text": [
            "explained_variance:  0.4228\n",
            "r2:  0.4191\n",
            "MAE:  16.5337\n",
            "MSE:  515.2055\n",
            "RMSE:  22.6981\n"
          ],
          "name": "stdout"
        },
        {
          "output_type": "execute_result",
          "data": {
            "text/plain": [
              "{'MAE': 16.5337,\n",
              " 'MSE': 515.2055,\n",
              " 'RMSE': 22.6981,\n",
              " 'explained_variance': 0.4228,\n",
              " 'r2': 0.4191}"
            ]
          },
          "metadata": {
            "tags": []
          },
          "execution_count": 75
        }
      ]
    },
    {
      "cell_type": "code",
      "metadata": {
        "colab": {
          "base_uri": "https://localhost:8080/"
        },
        "id": "QFGDeDmcolbo",
        "outputId": "bd4018a1-c216-47be-b373-cdafa1f54740"
      },
      "source": [
        "y_pred =y_pred_bag_test.reshape(71,1)\n",
        "error =  abs(y_pred - y_test)\n",
        "rate = error / y_test\n",
        "s_array = rate[[\"Yield\"]].to_numpy()\n",
        "s_array[~np.isfinite(s_array)] = 0\n",
        "s_array.mean()"
      ],
      "execution_count": 76,
      "outputs": [
        {
          "output_type": "execute_result",
          "data": {
            "text/plain": [
              "0.13830644440176343"
            ]
          },
          "metadata": {
            "tags": []
          },
          "execution_count": 76
        }
      ]
    },
    {
      "cell_type": "markdown",
      "metadata": {
        "id": "Uvs3_FTu9ZWQ"
      },
      "source": [
        "# Year Long Standardized"
      ]
    },
    {
      "cell_type": "code",
      "metadata": {
        "colab": {
          "base_uri": "https://localhost:8080/",
          "height": 279
        },
        "id": "Ip_aWMlm9cA1",
        "outputId": "e0893db1-4cf2-48a6-aa01-0f98e48bd995"
      },
      "source": [
        "# Standardize\n",
        "sc = StandardScaler()\n",
        "final_ml_num = Y.select_dtypes('number')\n",
        "year_fin_sc = sc.fit_transform(final_ml_num)\n",
        "year_fin_sc = pd.DataFrame(year_fin_sc, columns=final_ml_num.columns, index=final_ml_num.index)\n",
        "print(year_fin_sc.shape)\n",
        "year_fin_sc.head()"
      ],
      "execution_count": 104,
      "outputs": [
        {
          "output_type": "stream",
          "text": [
            "(703, 39)\n"
          ],
          "name": "stdout"
        },
        {
          "output_type": "execute_result",
          "data": {
            "text/html": [
              "<div>\n",
              "<style scoped>\n",
              "    .dataframe tbody tr th:only-of-type {\n",
              "        vertical-align: middle;\n",
              "    }\n",
              "\n",
              "    .dataframe tbody tr th {\n",
              "        vertical-align: top;\n",
              "    }\n",
              "\n",
              "    .dataframe thead th {\n",
              "        text-align: right;\n",
              "    }\n",
              "</style>\n",
              "<table border=\"1\" class=\"dataframe\">\n",
              "  <thead>\n",
              "    <tr style=\"text-align: right;\">\n",
              "      <th></th>\n",
              "      <th>Year</th>\n",
              "      <th>ADSCI_yr</th>\n",
              "      <th>Yield</th>\n",
              "      <th>Acres_Planted</th>\n",
              "      <th>ADSCI_gs</th>\n",
              "      <th>Ag District Code</th>\n",
              "      <th>County ANSI</th>\n",
              "      <th>Value</th>\n",
              "      <th>avg_precip_count</th>\n",
              "      <th>avg_precip_mean</th>\n",
              "      <th>avg_precip_std</th>\n",
              "      <th>avg_precip_min</th>\n",
              "      <th>avg_precip_25%</th>\n",
              "      <th>avg_precip_50%</th>\n",
              "      <th>avg_precip_75%</th>\n",
              "      <th>avg_precip_max</th>\n",
              "      <th>avg_temp_count</th>\n",
              "      <th>avg_temp_mean</th>\n",
              "      <th>avg_temp_std</th>\n",
              "      <th>avg_temp_min</th>\n",
              "      <th>avg_temp_25%</th>\n",
              "      <th>avg_temp_50%</th>\n",
              "      <th>avg_temp_75%</th>\n",
              "      <th>avg_temp_max</th>\n",
              "      <th>max_temp_count</th>\n",
              "      <th>max_temp_mean</th>\n",
              "      <th>max_temp_std</th>\n",
              "      <th>max_temp_min</th>\n",
              "      <th>max_temp_25%</th>\n",
              "      <th>max_temp_50%</th>\n",
              "      <th>max_temp_75%</th>\n",
              "      <th>max_temp_max</th>\n",
              "      <th>EDDI_6</th>\n",
              "      <th>EDDI_5</th>\n",
              "      <th>PDSI</th>\n",
              "      <th>SPI_180</th>\n",
              "      <th>SPEI_180</th>\n",
              "      <th>SPI_90</th>\n",
              "      <th>SPEI_90</th>\n",
              "    </tr>\n",
              "  </thead>\n",
              "  <tbody>\n",
              "    <tr>\n",
              "      <th>0</th>\n",
              "      <td>-1.45493</td>\n",
              "      <td>1.816667</td>\n",
              "      <td>-1.751462</td>\n",
              "      <td>-1.104774</td>\n",
              "      <td>0.771847</td>\n",
              "      <td>0.162443</td>\n",
              "      <td>-1.635911</td>\n",
              "      <td>-1.104774</td>\n",
              "      <td>-0.10997</td>\n",
              "      <td>-0.232165</td>\n",
              "      <td>-0.443287</td>\n",
              "      <td>-0.319826</td>\n",
              "      <td>-0.609097</td>\n",
              "      <td>0.490112</td>\n",
              "      <td>0.122903</td>\n",
              "      <td>-0.737770</td>\n",
              "      <td>-0.48752</td>\n",
              "      <td>0.260298</td>\n",
              "      <td>-0.493086</td>\n",
              "      <td>1.445987</td>\n",
              "      <td>0.081965</td>\n",
              "      <td>-1.472350</td>\n",
              "      <td>0.024207</td>\n",
              "      <td>1.269007</td>\n",
              "      <td>-0.48752</td>\n",
              "      <td>0.604691</td>\n",
              "      <td>-0.161207</td>\n",
              "      <td>1.600031</td>\n",
              "      <td>0.224824</td>\n",
              "      <td>-1.236686</td>\n",
              "      <td>0.223901</td>\n",
              "      <td>1.873038</td>\n",
              "      <td>1.011531</td>\n",
              "      <td>0.903758</td>\n",
              "      <td>-2.599431</td>\n",
              "      <td>-1.651270</td>\n",
              "      <td>-1.703223</td>\n",
              "      <td>-1.034304</td>\n",
              "      <td>-1.095954</td>\n",
              "    </tr>\n",
              "    <tr>\n",
              "      <th>1</th>\n",
              "      <td>-1.45493</td>\n",
              "      <td>-0.099201</td>\n",
              "      <td>-1.101707</td>\n",
              "      <td>-0.598970</td>\n",
              "      <td>-0.128116</td>\n",
              "      <td>0.672482</td>\n",
              "      <td>-1.581274</td>\n",
              "      <td>-0.598970</td>\n",
              "      <td>-0.10997</td>\n",
              "      <td>-1.059645</td>\n",
              "      <td>-0.626499</td>\n",
              "      <td>-0.181640</td>\n",
              "      <td>-0.582169</td>\n",
              "      <td>-1.184046</td>\n",
              "      <td>-0.560559</td>\n",
              "      <td>-0.739320</td>\n",
              "      <td>-0.48752</td>\n",
              "      <td>-0.811478</td>\n",
              "      <td>-1.046476</td>\n",
              "      <td>0.913176</td>\n",
              "      <td>-0.972560</td>\n",
              "      <td>-2.051577</td>\n",
              "      <td>-0.877054</td>\n",
              "      <td>-0.448038</td>\n",
              "      <td>-0.48752</td>\n",
              "      <td>-0.059358</td>\n",
              "      <td>-0.101468</td>\n",
              "      <td>1.087860</td>\n",
              "      <td>-0.509970</td>\n",
              "      <td>-1.417100</td>\n",
              "      <td>0.462595</td>\n",
              "      <td>0.453389</td>\n",
              "      <td>0.618899</td>\n",
              "      <td>0.584764</td>\n",
              "      <td>-1.314294</td>\n",
              "      <td>-0.176175</td>\n",
              "      <td>-0.376075</td>\n",
              "      <td>-0.137718</td>\n",
              "      <td>-0.263351</td>\n",
              "    </tr>\n",
              "    <tr>\n",
              "      <th>2</th>\n",
              "      <td>-1.45493</td>\n",
              "      <td>0.534223</td>\n",
              "      <td>-0.719498</td>\n",
              "      <td>-0.930151</td>\n",
              "      <td>0.247988</td>\n",
              "      <td>1.182520</td>\n",
              "      <td>-1.472001</td>\n",
              "      <td>-0.930151</td>\n",
              "      <td>-0.10997</td>\n",
              "      <td>-0.469174</td>\n",
              "      <td>-0.461781</td>\n",
              "      <td>-0.319826</td>\n",
              "      <td>-0.522249</td>\n",
              "      <td>-0.456726</td>\n",
              "      <td>0.419065</td>\n",
              "      <td>-0.866223</td>\n",
              "      <td>-0.48752</td>\n",
              "      <td>0.183628</td>\n",
              "      <td>-0.804957</td>\n",
              "      <td>1.106790</td>\n",
              "      <td>0.147923</td>\n",
              "      <td>-1.767679</td>\n",
              "      <td>0.395797</td>\n",
              "      <td>0.745258</td>\n",
              "      <td>-0.48752</td>\n",
              "      <td>0.695065</td>\n",
              "      <td>-0.213997</td>\n",
              "      <td>1.189038</td>\n",
              "      <td>0.556987</td>\n",
              "      <td>-0.988770</td>\n",
              "      <td>0.879973</td>\n",
              "      <td>1.795276</td>\n",
              "      <td>1.045789</td>\n",
              "      <td>0.990621</td>\n",
              "      <td>-1.964643</td>\n",
              "      <td>-0.774232</td>\n",
              "      <td>-1.108214</td>\n",
              "      <td>-0.621583</td>\n",
              "      <td>-0.911203</td>\n",
              "    </tr>\n",
              "    <tr>\n",
              "      <th>3</th>\n",
              "      <td>-1.45493</td>\n",
              "      <td>-0.371814</td>\n",
              "      <td>-0.451952</td>\n",
              "      <td>-0.213595</td>\n",
              "      <td>-0.268755</td>\n",
              "      <td>0.672482</td>\n",
              "      <td>-1.417365</td>\n",
              "      <td>-0.213595</td>\n",
              "      <td>-0.10997</td>\n",
              "      <td>0.035741</td>\n",
              "      <td>0.122036</td>\n",
              "      <td>1.376641</td>\n",
              "      <td>0.503828</td>\n",
              "      <td>-0.424253</td>\n",
              "      <td>-0.086368</td>\n",
              "      <td>-0.228211</td>\n",
              "      <td>-0.48752</td>\n",
              "      <td>-0.430193</td>\n",
              "      <td>-1.020561</td>\n",
              "      <td>0.966912</td>\n",
              "      <td>-0.834126</td>\n",
              "      <td>-1.674577</td>\n",
              "      <td>-0.384508</td>\n",
              "      <td>-0.173823</td>\n",
              "      <td>-0.48752</td>\n",
              "      <td>-0.209205</td>\n",
              "      <td>-0.243516</td>\n",
              "      <td>0.986106</td>\n",
              "      <td>-0.328007</td>\n",
              "      <td>-1.431844</td>\n",
              "      <td>0.296107</td>\n",
              "      <td>0.041954</td>\n",
              "      <td>0.478849</td>\n",
              "      <td>0.455794</td>\n",
              "      <td>-1.544642</td>\n",
              "      <td>-0.140841</td>\n",
              "      <td>-0.345789</td>\n",
              "      <td>-0.005139</td>\n",
              "      <td>-0.095649</td>\n",
              "    </tr>\n",
              "    <tr>\n",
              "      <th>4</th>\n",
              "      <td>-1.45493</td>\n",
              "      <td>-0.216025</td>\n",
              "      <td>-1.331032</td>\n",
              "      <td>2.321447</td>\n",
              "      <td>0.008226</td>\n",
              "      <td>-0.347595</td>\n",
              "      <td>-1.362728</td>\n",
              "      <td>2.321447</td>\n",
              "      <td>-0.10997</td>\n",
              "      <td>-0.814071</td>\n",
              "      <td>-0.272455</td>\n",
              "      <td>-0.319826</td>\n",
              "      <td>-0.920409</td>\n",
              "      <td>-1.075450</td>\n",
              "      <td>-0.259213</td>\n",
              "      <td>-0.466476</td>\n",
              "      <td>-0.48752</td>\n",
              "      <td>0.903288</td>\n",
              "      <td>-0.754756</td>\n",
              "      <td>1.636566</td>\n",
              "      <td>0.113868</td>\n",
              "      <td>-0.577706</td>\n",
              "      <td>0.911069</td>\n",
              "      <td>1.910891</td>\n",
              "      <td>-0.48752</td>\n",
              "      <td>0.716864</td>\n",
              "      <td>-0.278218</td>\n",
              "      <td>1.659146</td>\n",
              "      <td>0.561574</td>\n",
              "      <td>-1.242221</td>\n",
              "      <td>0.809412</td>\n",
              "      <td>1.861356</td>\n",
              "      <td>0.705233</td>\n",
              "      <td>0.726768</td>\n",
              "      <td>-2.178327</td>\n",
              "      <td>-0.830946</td>\n",
              "      <td>-1.132680</td>\n",
              "      <td>-0.788495</td>\n",
              "      <td>-1.029041</td>\n",
              "    </tr>\n",
              "  </tbody>\n",
              "</table>\n",
              "</div>"
            ],
            "text/plain": [
              "      Year  ADSCI_yr     Yield  ...  SPEI_180    SPI_90   SPEI_90\n",
              "0 -1.45493  1.816667 -1.751462  ... -1.703223 -1.034304 -1.095954\n",
              "1 -1.45493 -0.099201 -1.101707  ... -0.376075 -0.137718 -0.263351\n",
              "2 -1.45493  0.534223 -0.719498  ... -1.108214 -0.621583 -0.911203\n",
              "3 -1.45493 -0.371814 -0.451952  ... -0.345789 -0.005139 -0.095649\n",
              "4 -1.45493 -0.216025 -1.331032  ... -1.132680 -0.788495 -1.029041\n",
              "\n",
              "[5 rows x 39 columns]"
            ]
          },
          "metadata": {
            "tags": []
          },
          "execution_count": 104
        }
      ]
    },
    {
      "cell_type": "markdown",
      "metadata": {
        "id": "9pewM0x2-EVu"
      },
      "source": [
        "## Linear Regression"
      ]
    },
    {
      "cell_type": "code",
      "metadata": {
        "id": "vEOhYqoN9-ki"
      },
      "source": [
        "# Split the data frame\n",
        "train_ratio = 0.75\n",
        "validation_ratio = 0.15\n",
        "test_ratio = 0.10\n",
        "\n",
        "# train is now 75% of the entire data set\n",
        "x_train, x_test, y_train, y_test = train_test_split(year_fin_sc[['ADSCI_yr', \n",
        "                                                        'avg_precip_std',\t'avg_precip_min' ,\t'avg_precip_25%' ,\t'avg_precip_50%', \n",
        "                                                        'avg_precip_75%', 'avg_precip_max',\t'avg_temp_count', 'avg_temp_mean' ,\n",
        "                                                        \t'avg_temp_std' ,\t'avg_temp_min' ,\t'avg_temp_25%' ,\t'avg_temp_50%' ,\n",
        "                                                        'avg_temp_75%',\t'avg_temp_max', \t'max_temp_count' \t,'max_temp_mean' ,\t'max_temp_std', \t\n",
        "                                                        'max_temp_min', \t'max_temp_25%', \t'max_temp_50%' ,\t\n",
        "                                                        'max_temp_75%' \t,'max_temp_max', 'EDDI_5', 'EDDI_6', 'SPI_90', 'SPI_180', 'SPEI_90', 'SPEI_180', 'PDSI']],\n",
        "                                                    year_fin_sc[['Yield']], \n",
        "                                                    test_size=1 - train_ratio, \n",
        "                                                    random_state = 0)\n",
        "\n",
        "# test is now 10% of the initial data set\n",
        "# validation is now 15% of the initial data set\n",
        "x_val, x_test, y_val, y_test = train_test_split(x_test, y_test, \n",
        "                                                test_size=test_ratio/(test_ratio + validation_ratio), \n",
        "                                                random_state = 0)"
      ],
      "execution_count": 105,
      "outputs": []
    },
    {
      "cell_type": "code",
      "metadata": {
        "colab": {
          "base_uri": "https://localhost:8080/"
        },
        "id": "qGfjeawK-Nlc",
        "outputId": "db139dde-1c56-43ae-c70f-e8082b980edc"
      },
      "source": [
        "# Fit the model\n",
        "lr = LinearRegression()\n",
        "lr.fit(x_train, y_train)\n",
        "print(f'Intercept is: {lr.intercept_}')\n",
        "print(f'Coefficient of the predictor is: {lr.coef_}')"
      ],
      "execution_count": 106,
      "outputs": [
        {
          "output_type": "stream",
          "text": [
            "Intercept is: [0.00485442]\n",
            "Coefficient of the predictor is: [[-0.24339179 -0.21242608  0.09472646  0.03331827  0.15376143 -0.27158527\n",
            "   0.07172678 -0.09303898  0.21105076  0.11320227  0.16533635  0.25698823\n",
            "  -0.22453313  0.14253708  0.16121267 -0.09303898 -0.03566295 -0.34459146\n",
            "  -0.58205586 -0.35082518  0.38413341 -0.05656495 -0.09736221  0.04350457\n",
            "   0.71152275 -1.30153115  1.19441222  1.67370114 -1.426154    0.34806098]]\n"
          ],
          "name": "stdout"
        }
      ]
    },
    {
      "cell_type": "code",
      "metadata": {
        "colab": {
          "base_uri": "https://localhost:8080/"
        },
        "id": "dSzTRJcS-VA2",
        "outputId": "0ad9f8c3-b393-426c-c582-b20d9f612a27"
      },
      "source": [
        "# predicting and obtaining Metrics on the Train set\n",
        "y_train_pred = lr.predict(x_train)\n",
        "r1 = regression_results(y_train, y_train_pred)"
      ],
      "execution_count": 107,
      "outputs": [
        {
          "output_type": "stream",
          "text": [
            "explained_variance:  0.4341\n",
            "r2:  0.4341\n",
            "MAE:  0.5427\n",
            "MSE:  0.5692\n",
            "RMSE:  0.7544\n"
          ],
          "name": "stdout"
        }
      ]
    },
    {
      "cell_type": "code",
      "metadata": {
        "colab": {
          "base_uri": "https://localhost:8080/"
        },
        "id": "SCVXSaL1-Xij",
        "outputId": "f71be2fd-6e28-441b-9863-05d27df6c143"
      },
      "source": [
        "# Predict on Validation set\n",
        "y_val_pred = lr.predict(x_val)\n",
        "# Metrics obtained on the validation set\n",
        "r2 = regression_results(y_val, y_val_pred)"
      ],
      "execution_count": 108,
      "outputs": [
        {
          "output_type": "stream",
          "text": [
            "explained_variance:  0.35\n",
            "r2:  0.35\n",
            "MAE:  0.5521\n",
            "MSE:  0.4968\n",
            "RMSE:  0.7048\n"
          ],
          "name": "stdout"
        }
      ]
    },
    {
      "cell_type": "code",
      "metadata": {
        "colab": {
          "base_uri": "https://localhost:8080/"
        },
        "id": "JAxO1XmQ8rMX",
        "outputId": "90ab2b90-08f6-47ca-ee75-e7fcc80a93cc"
      },
      "source": [
        "# Predict on Validation set\n",
        "y_test_pred = lr.predict(x_test)\n",
        "# Metrics obtained on the validation set\n",
        "r2 = regression_results(y_test, y_test_pred)"
      ],
      "execution_count": 109,
      "outputs": [
        {
          "output_type": "stream",
          "text": [
            "explained_variance:  0.4463\n",
            "r2:  0.4444\n",
            "MAE:  0.6366\n",
            "MSE:  0.7199\n",
            "RMSE:  0.8485\n"
          ],
          "name": "stdout"
        }
      ]
    },
    {
      "cell_type": "code",
      "metadata": {
        "colab": {
          "base_uri": "https://localhost:8080/"
        },
        "id": "PHV4dCzao-B1",
        "outputId": "e457cdf8-34de-491a-89aa-230def5e02d2"
      },
      "source": [
        "y_pred =y_test_pred.reshape(71,1)\n",
        "error =  abs(y_pred - y_test)\n",
        "rate = error / y_test\n",
        "s_array = rate[[\"Yield\"]].to_numpy()\n",
        "s_array[~np.isfinite(s_array)] = 0\n",
        "s_array.mean()"
      ],
      "execution_count": 95,
      "outputs": [
        {
          "output_type": "execute_result",
          "data": {
            "text/plain": [
              "0.881117349297036"
            ]
          },
          "metadata": {
            "tags": []
          },
          "execution_count": 95
        }
      ]
    },
    {
      "cell_type": "markdown",
      "metadata": {
        "id": "WtXPVcYP-nO2"
      },
      "source": [
        "## Random Forest Regressor"
      ]
    },
    {
      "cell_type": "code",
      "metadata": {
        "colab": {
          "base_uri": "https://localhost:8080/"
        },
        "id": "pVuEAkZM-mm7",
        "outputId": "b5862f2a-b641-4568-836c-5cb813c7985d"
      },
      "source": [
        "lr = RandomForestRegressor()\n",
        "lr.fit(x_train, y_train)"
      ],
      "execution_count": 96,
      "outputs": [
        {
          "output_type": "stream",
          "text": [
            "/usr/local/lib/python3.7/dist-packages/ipykernel_launcher.py:2: DataConversionWarning:\n",
            "\n",
            "A column-vector y was passed when a 1d array was expected. Please change the shape of y to (n_samples,), for example using ravel().\n",
            "\n"
          ],
          "name": "stderr"
        },
        {
          "output_type": "execute_result",
          "data": {
            "text/plain": [
              "RandomForestRegressor(bootstrap=True, ccp_alpha=0.0, criterion='mse',\n",
              "                      max_depth=None, max_features='auto', max_leaf_nodes=None,\n",
              "                      max_samples=None, min_impurity_decrease=0.0,\n",
              "                      min_impurity_split=None, min_samples_leaf=1,\n",
              "                      min_samples_split=2, min_weight_fraction_leaf=0.0,\n",
              "                      n_estimators=100, n_jobs=None, oob_score=False,\n",
              "                      random_state=None, verbose=0, warm_start=False)"
            ]
          },
          "metadata": {
            "tags": []
          },
          "execution_count": 96
        }
      ]
    },
    {
      "cell_type": "code",
      "metadata": {
        "colab": {
          "base_uri": "https://localhost:8080/"
        },
        "id": "Zub-uHbg-o4A",
        "outputId": "13ea7591-3184-4d1c-8332-50b4385ae875"
      },
      "source": [
        "# predicting and obtaining Metrics on the Train set\n",
        "y_train_pred = lr.predict(x_train)\n",
        "regression_results(y_train, y_train_pred)"
      ],
      "execution_count": 97,
      "outputs": [
        {
          "output_type": "stream",
          "text": [
            "explained_variance:  0.9166\n",
            "r2:  0.9165\n",
            "MAE:  0.2042\n",
            "MSE:  0.0839\n",
            "RMSE:  0.2897\n"
          ],
          "name": "stdout"
        },
        {
          "output_type": "execute_result",
          "data": {
            "text/plain": [
              "{'MAE': 0.2042,\n",
              " 'MSE': 0.0839,\n",
              " 'RMSE': 0.2897,\n",
              " 'explained_variance': 0.9166,\n",
              " 'r2': 0.9165}"
            ]
          },
          "metadata": {
            "tags": []
          },
          "execution_count": 97
        }
      ]
    },
    {
      "cell_type": "code",
      "metadata": {
        "colab": {
          "base_uri": "https://localhost:8080/",
          "height": 581
        },
        "id": "RvFdfQ3G8uPh",
        "outputId": "81b49746-020d-4dd4-83d2-27ca8b4168ac"
      },
      "source": [
        "shap_values = shap.TreeExplainer(lr).shap_values(x_train)\n",
        "shap.summary_plot(shap_values, x_train, plot_type=\"bar\")"
      ],
      "execution_count": 86,
      "outputs": [
        {
          "output_type": "display_data",
          "data": {
            "image/png": "[encoded data removed]",
            "text/plain": [
              "<Figure size 576x684 with 1 Axes>"
            ]
          },
          "metadata": {
            "tags": [],
            "needs_background": "light"
          }
        }
      ]
    },
    {
      "cell_type": "code",
      "metadata": {
        "colab": {
          "base_uri": "https://localhost:8080/"
        },
        "id": "JR3f-ngz-vGE",
        "outputId": "c5243dab-0ee1-4b21-efdd-69ff862597a8"
      },
      "source": [
        "# Predict on Validation set\n",
        "y_val_pred = lr.predict(x_val)\n",
        "# Metrics obtained on the validation set\n",
        "regression_results(y_val, y_val_pred)"
      ],
      "execution_count": 98,
      "outputs": [
        {
          "output_type": "stream",
          "text": [
            "explained_variance:  0.4423\n",
            "r2:  0.4408\n",
            "MAE:  0.4936\n",
            "MSE:  0.4275\n",
            "RMSE:  0.6538\n"
          ],
          "name": "stdout"
        },
        {
          "output_type": "execute_result",
          "data": {
            "text/plain": [
              "{'MAE': 0.4936,\n",
              " 'MSE': 0.4275,\n",
              " 'RMSE': 0.6538,\n",
              " 'explained_variance': 0.4423,\n",
              " 'r2': 0.4408}"
            ]
          },
          "metadata": {
            "tags": []
          },
          "execution_count": 98
        }
      ]
    },
    {
      "cell_type": "code",
      "metadata": {
        "colab": {
          "base_uri": "https://localhost:8080/",
          "height": 827
        },
        "id": "lqMTIuDIieex",
        "outputId": "59d1af5f-9280-49cb-fbde-71f129658b50"
      },
      "source": [
        "# get importance\n",
        "importance = lr.feature_importances_\n",
        "# summarize feature importance\n",
        "for i,v in enumerate(importance):\n",
        "\tprint('Feature: %0d, Score: %.5f' % (i,v))\n",
        "# plot feature importance\n",
        "pyplot.bar([x for x in range(len(importance))], importance)\n",
        "pyplot.title(\"Feature Importance Random Forest Regressor Yearly Standardized\")\n",
        "pyplot.show()"
      ],
      "execution_count": 88,
      "outputs": [
        {
          "output_type": "stream",
          "text": [
            "Feature: 0, Score: 0.01357\n",
            "Feature: 1, Score: 0.08758\n",
            "Feature: 2, Score: 0.03200\n",
            "Feature: 3, Score: 0.01683\n",
            "Feature: 4, Score: 0.02937\n",
            "Feature: 5, Score: 0.02716\n",
            "Feature: 6, Score: 0.02181\n",
            "Feature: 7, Score: 0.00250\n",
            "Feature: 8, Score: 0.03074\n",
            "Feature: 9, Score: 0.04424\n",
            "Feature: 10, Score: 0.02935\n",
            "Feature: 11, Score: 0.02129\n",
            "Feature: 12, Score: 0.03061\n",
            "Feature: 13, Score: 0.01941\n",
            "Feature: 14, Score: 0.01812\n",
            "Feature: 15, Score: 0.00206\n",
            "Feature: 16, Score: 0.01338\n",
            "Feature: 17, Score: 0.03037\n",
            "Feature: 18, Score: 0.04535\n",
            "Feature: 19, Score: 0.01507\n",
            "Feature: 20, Score: 0.03891\n",
            "Feature: 21, Score: 0.03610\n",
            "Feature: 22, Score: 0.03623\n",
            "Feature: 23, Score: 0.03315\n",
            "Feature: 24, Score: 0.12051\n",
            "Feature: 25, Score: 0.01648\n",
            "Feature: 26, Score: 0.01889\n",
            "Feature: 27, Score: 0.02436\n",
            "Feature: 28, Score: 0.01989\n",
            "Feature: 29, Score: 0.12467\n"
          ],
          "name": "stdout"
        },
        {
          "output_type": "display_data",
          "data": {
            "image/png": "[encoded data removed]",
            "text/plain": [
              "<Figure size 432x288 with 1 Axes>"
            ]
          },
          "metadata": {
            "tags": [],
            "needs_background": "light"
          }
        }
      ]
    },
    {
      "cell_type": "code",
      "metadata": {
        "colab": {
          "base_uri": "https://localhost:8080/",
          "height": 386
        },
        "id": "i1CnxO5tokJT",
        "outputId": "4984d897-3cca-4c53-c0fe-525834f5150b"
      },
      "source": [
        "explainer = shap.Explainer(lr, x_train)\n",
        "shap_values = explainer(x_train)\n",
        "\n",
        "shap.plots.beeswarm(shap_values)"
      ],
      "execution_count": 89,
      "outputs": [
        {
          "output_type": "stream",
          "text": [
            " 98%|===================| 519/527 [00:15<00:00]       "
          ],
          "name": "stderr"
        },
        {
          "output_type": "display_data",
          "data": {
            "image/png": "[encoded data removed]",
            "text/plain": [
              "<Figure size 576x396 with 2 Axes>"
            ]
          },
          "metadata": {
            "tags": [],
            "needs_background": "light"
          }
        }
      ]
    },
    {
      "cell_type": "markdown",
      "metadata": {
        "id": "rvuFB1tv-2Te"
      },
      "source": [
        "### Random Forest Regressor Validation Tuned"
      ]
    },
    {
      "cell_type": "code",
      "metadata": {
        "colab": {
          "base_uri": "https://localhost:8080/"
        },
        "id": "aNQntkF2-xNf",
        "outputId": "9491422b-500f-4afc-abc7-886428695568"
      },
      "source": [
        "random_forest_tuning = RandomForestRegressor(random_state = 6)\n",
        "param_grid = {\n",
        "   'n_estimators': [100, 200, 500],\n",
        "   'max_features': ['auto', 'sqrt', 'log2'],\n",
        "   'max_depth' : [4,5,6,7,8],\n",
        "   'criterion' :['mse', 'mae']\n",
        "}\n",
        "from sklearn.model_selection import GridSearchCV\n",
        "\n",
        "GSCV = GridSearchCV(estimator=random_forest_tuning, param_grid=param_grid, cv=3)\n",
        "GSCV.fit(x_val, y_val)\n",
        "GSCV.best_params_"
      ],
      "execution_count": 99,
      "outputs": [
        {
          "output_type": "stream",
          "text": [
            "/usr/local/lib/python3.7/dist-packages/sklearn/model_selection/_validation.py:515: DataConversionWarning:\n",
            "\n",
            "A column-vector y was passed when a 1d array was expected. Please change the shape of y to (n_samples,), for example using ravel().\n",
            "\n",
            "/usr/local/lib/python3.7/dist-packages/sklearn/model_selection/_validation.py:515: DataConversionWarning:\n",
            "\n",
            "A column-vector y was passed when a 1d array was expected. Please change the shape of y to (n_samples,), for example using ravel().\n",
            "\n",
            "/usr/local/lib/python3.7/dist-packages/sklearn/model_selection/_validation.py:515: DataConversionWarning:\n",
            "\n",
            "A column-vector y was passed when a 1d array was expected. Please change the shape of y to (n_samples,), for example using ravel().\n",
            "\n",
            "/usr/local/lib/python3.7/dist-packages/sklearn/model_selection/_validation.py:515: DataConversionWarning:\n",
            "\n",
            "A column-vector y was passed when a 1d array was expected. Please change the shape of y to (n_samples,), for example using ravel().\n",
            "\n",
            "/usr/local/lib/python3.7/dist-packages/sklearn/model_selection/_validation.py:515: DataConversionWarning:\n",
            "\n",
            "A column-vector y was passed when a 1d array was expected. Please change the shape of y to (n_samples,), for example using ravel().\n",
            "\n",
            "/usr/local/lib/python3.7/dist-packages/sklearn/model_selection/_validation.py:515: DataConversionWarning:\n",
            "\n",
            "A column-vector y was passed when a 1d array was expected. Please change the shape of y to (n_samples,), for example using ravel().\n",
            "\n",
            "/usr/local/lib/python3.7/dist-packages/sklearn/model_selection/_validation.py:515: DataConversionWarning:\n",
            "\n",
            "A column-vector y was passed when a 1d array was expected. Please change the shape of y to (n_samples,), for example using ravel().\n",
            "\n",
            "/usr/local/lib/python3.7/dist-packages/sklearn/model_selection/_validation.py:515: DataConversionWarning:\n",
            "\n",
            "A column-vector y was passed when a 1d array was expected. Please change the shape of y to (n_samples,), for example using ravel().\n",
            "\n",
            "/usr/local/lib/python3.7/dist-packages/sklearn/model_selection/_validation.py:515: DataConversionWarning:\n",
            "\n",
            "A column-vector y was passed when a 1d array was expected. Please change the shape of y to (n_samples,), for example using ravel().\n",
            "\n",
            "/usr/local/lib/python3.7/dist-packages/sklearn/model_selection/_validation.py:515: DataConversionWarning:\n",
            "\n",
            "A column-vector y was passed when a 1d array was expected. Please change the shape of y to (n_samples,), for example using ravel().\n",
            "\n",
            "/usr/local/lib/python3.7/dist-packages/sklearn/model_selection/_validation.py:515: DataConversionWarning:\n",
            "\n",
            "A column-vector y was passed when a 1d array was expected. Please change the shape of y to (n_samples,), for example using ravel().\n",
            "\n",
            "/usr/local/lib/python3.7/dist-packages/sklearn/model_selection/_validation.py:515: DataConversionWarning:\n",
            "\n",
            "A column-vector y was passed when a 1d array was expected. Please change the shape of y to (n_samples,), for example using ravel().\n",
            "\n",
            "/usr/local/lib/python3.7/dist-packages/sklearn/model_selection/_validation.py:515: DataConversionWarning:\n",
            "\n",
            "A column-vector y was passed when a 1d array was expected. Please change the shape of y to (n_samples,), for example using ravel().\n",
            "\n",
            "/usr/local/lib/python3.7/dist-packages/sklearn/model_selection/_validation.py:515: DataConversionWarning:\n",
            "\n",
            "A column-vector y was passed when a 1d array was expected. Please change the shape of y to (n_samples,), for example using ravel().\n",
            "\n",
            "/usr/local/lib/python3.7/dist-packages/sklearn/model_selection/_validation.py:515: DataConversionWarning:\n",
            "\n",
            "A column-vector y was passed when a 1d array was expected. Please change the shape of y to (n_samples,), for example using ravel().\n",
            "\n",
            "/usr/local/lib/python3.7/dist-packages/sklearn/model_selection/_validation.py:515: DataConversionWarning:\n",
            "\n",
            "A column-vector y was passed when a 1d array was expected. Please change the shape of y to (n_samples,), for example using ravel().\n",
            "\n",
            "/usr/local/lib/python3.7/dist-packages/sklearn/model_selection/_validation.py:515: DataConversionWarning:\n",
            "\n",
            "A column-vector y was passed when a 1d array was expected. Please change the shape of y to (n_samples,), for example using ravel().\n",
            "\n",
            "/usr/local/lib/python3.7/dist-packages/sklearn/model_selection/_validation.py:515: DataConversionWarning:\n",
            "\n",
            "A column-vector y was passed when a 1d array was expected. Please change the shape of y to (n_samples,), for example using ravel().\n",
            "\n",
            "/usr/local/lib/python3.7/dist-packages/sklearn/model_selection/_validation.py:515: DataConversionWarning:\n",
            "\n",
            "A column-vector y was passed when a 1d array was expected. Please change the shape of y to (n_samples,), for example using ravel().\n",
            "\n",
            "/usr/local/lib/python3.7/dist-packages/sklearn/model_selection/_validation.py:515: DataConversionWarning:\n",
            "\n",
            "A column-vector y was passed when a 1d array was expected. Please change the shape of y to (n_samples,), for example using ravel().\n",
            "\n",
            "/usr/local/lib/python3.7/dist-packages/sklearn/model_selection/_validation.py:515: DataConversionWarning:\n",
            "\n",
            "A column-vector y was passed when a 1d array was expected. Please change the shape of y to (n_samples,), for example using ravel().\n",
            "\n",
            "/usr/local/lib/python3.7/dist-packages/sklearn/model_selection/_validation.py:515: DataConversionWarning:\n",
            "\n",
            "A column-vector y was passed when a 1d array was expected. Please change the shape of y to (n_samples,), for example using ravel().\n",
            "\n",
            "/usr/local/lib/python3.7/dist-packages/sklearn/model_selection/_validation.py:515: DataConversionWarning:\n",
            "\n",
            "A column-vector y was passed when a 1d array was expected. Please change the shape of y to (n_samples,), for example using ravel().\n",
            "\n",
            "/usr/local/lib/python3.7/dist-packages/sklearn/model_selection/_validation.py:515: DataConversionWarning:\n",
            "\n",
            "A column-vector y was passed when a 1d array was expected. Please change the shape of y to (n_samples,), for example using ravel().\n",
            "\n",
            "/usr/local/lib/python3.7/dist-packages/sklearn/model_selection/_validation.py:515: DataConversionWarning:\n",
            "\n",
            "A column-vector y was passed when a 1d array was expected. Please change the shape of y to (n_samples,), for example using ravel().\n",
            "\n",
            "/usr/local/lib/python3.7/dist-packages/sklearn/model_selection/_validation.py:515: DataConversionWarning:\n",
            "\n",
            "A column-vector y was passed when a 1d array was expected. Please change the shape of y to (n_samples,), for example using ravel().\n",
            "\n",
            "/usr/local/lib/python3.7/dist-packages/sklearn/model_selection/_validation.py:515: DataConversionWarning:\n",
            "\n",
            "A column-vector y was passed when a 1d array was expected. Please change the shape of y to (n_samples,), for example using ravel().\n",
            "\n",
            "/usr/local/lib/python3.7/dist-packages/sklearn/model_selection/_validation.py:515: DataConversionWarning:\n",
            "\n",
            "A column-vector y was passed when a 1d array was expected. Please change the shape of y to (n_samples,), for example using ravel().\n",
            "\n",
            "/usr/local/lib/python3.7/dist-packages/sklearn/model_selection/_validation.py:515: DataConversionWarning:\n",
            "\n",
            "A column-vector y was passed when a 1d array was expected. Please change the shape of y to (n_samples,), for example using ravel().\n",
            "\n",
            "/usr/local/lib/python3.7/dist-packages/sklearn/model_selection/_validation.py:515: DataConversionWarning:\n",
            "\n",
            "A column-vector y was passed when a 1d array was expected. Please change the shape of y to (n_samples,), for example using ravel().\n",
            "\n",
            "/usr/local/lib/python3.7/dist-packages/sklearn/model_selection/_validation.py:515: DataConversionWarning:\n",
            "\n",
            "A column-vector y was passed when a 1d array was expected. Please change the shape of y to (n_samples,), for example using ravel().\n",
            "\n",
            "/usr/local/lib/python3.7/dist-packages/sklearn/model_selection/_validation.py:515: DataConversionWarning:\n",
            "\n",
            "A column-vector y was passed when a 1d array was expected. Please change the shape of y to (n_samples,), for example using ravel().\n",
            "\n",
            "/usr/local/lib/python3.7/dist-packages/sklearn/model_selection/_validation.py:515: DataConversionWarning:\n",
            "\n",
            "A column-vector y was passed when a 1d array was expected. Please change the shape of y to (n_samples,), for example using ravel().\n",
            "\n",
            "/usr/local/lib/python3.7/dist-packages/sklearn/model_selection/_validation.py:515: DataConversionWarning:\n",
            "\n",
            "A column-vector y was passed when a 1d array was expected. Please change the shape of y to (n_samples,), for example using ravel().\n",
            "\n",
            "/usr/local/lib/python3.7/dist-packages/sklearn/model_selection/_validation.py:515: DataConversionWarning:\n",
            "\n",
            "A column-vector y was passed when a 1d array was expected. Please change the shape of y to (n_samples,), for example using ravel().\n",
            "\n",
            "/usr/local/lib/python3.7/dist-packages/sklearn/model_selection/_validation.py:515: DataConversionWarning:\n",
            "\n",
            "A column-vector y was passed when a 1d array was expected. Please change the shape of y to (n_samples,), for example using ravel().\n",
            "\n",
            "/usr/local/lib/python3.7/dist-packages/sklearn/model_selection/_validation.py:515: DataConversionWarning:\n",
            "\n",
            "A column-vector y was passed when a 1d array was expected. Please change the shape of y to (n_samples,), for example using ravel().\n",
            "\n",
            "/usr/local/lib/python3.7/dist-packages/sklearn/model_selection/_validation.py:515: DataConversionWarning:\n",
            "\n",
            "A column-vector y was passed when a 1d array was expected. Please change the shape of y to (n_samples,), for example using ravel().\n",
            "\n",
            "/usr/local/lib/python3.7/dist-packages/sklearn/model_selection/_validation.py:515: DataConversionWarning:\n",
            "\n",
            "A column-vector y was passed when a 1d array was expected. Please change the shape of y to (n_samples,), for example using ravel().\n",
            "\n",
            "/usr/local/lib/python3.7/dist-packages/sklearn/model_selection/_validation.py:515: DataConversionWarning:\n",
            "\n",
            "A column-vector y was passed when a 1d array was expected. Please change the shape of y to (n_samples,), for example using ravel().\n",
            "\n",
            "/usr/local/lib/python3.7/dist-packages/sklearn/model_selection/_validation.py:515: DataConversionWarning:\n",
            "\n",
            "A column-vector y was passed when a 1d array was expected. Please change the shape of y to (n_samples,), for example using ravel().\n",
            "\n",
            "/usr/local/lib/python3.7/dist-packages/sklearn/model_selection/_validation.py:515: DataConversionWarning:\n",
            "\n",
            "A column-vector y was passed when a 1d array was expected. Please change the shape of y to (n_samples,), for example using ravel().\n",
            "\n",
            "/usr/local/lib/python3.7/dist-packages/sklearn/model_selection/_validation.py:515: DataConversionWarning:\n",
            "\n",
            "A column-vector y was passed when a 1d array was expected. Please change the shape of y to (n_samples,), for example using ravel().\n",
            "\n",
            "/usr/local/lib/python3.7/dist-packages/sklearn/model_selection/_validation.py:515: DataConversionWarning:\n",
            "\n",
            "A column-vector y was passed when a 1d array was expected. Please change the shape of y to (n_samples,), for example using ravel().\n",
            "\n",
            "/usr/local/lib/python3.7/dist-packages/sklearn/model_selection/_validation.py:515: DataConversionWarning:\n",
            "\n",
            "A column-vector y was passed when a 1d array was expected. Please change the shape of y to (n_samples,), for example using ravel().\n",
            "\n",
            "/usr/local/lib/python3.7/dist-packages/sklearn/model_selection/_validation.py:515: DataConversionWarning:\n",
            "\n",
            "A column-vector y was passed when a 1d array was expected. Please change the shape of y to (n_samples,), for example using ravel().\n",
            "\n",
            "/usr/local/lib/python3.7/dist-packages/sklearn/model_selection/_validation.py:515: DataConversionWarning:\n",
            "\n",
            "A column-vector y was passed when a 1d array was expected. Please change the shape of y to (n_samples,), for example using ravel().\n",
            "\n",
            "/usr/local/lib/python3.7/dist-packages/sklearn/model_selection/_validation.py:515: DataConversionWarning:\n",
            "\n",
            "A column-vector y was passed when a 1d array was expected. Please change the shape of y to (n_samples,), for example using ravel().\n",
            "\n",
            "/usr/local/lib/python3.7/dist-packages/sklearn/model_selection/_validation.py:515: DataConversionWarning:\n",
            "\n",
            "A column-vector y was passed when a 1d array was expected. Please change the shape of y to (n_samples,), for example using ravel().\n",
            "\n",
            "/usr/local/lib/python3.7/dist-packages/sklearn/model_selection/_validation.py:515: DataConversionWarning:\n",
            "\n",
            "A column-vector y was passed when a 1d array was expected. Please change the shape of y to (n_samples,), for example using ravel().\n",
            "\n",
            "/usr/local/lib/python3.7/dist-packages/sklearn/model_selection/_validation.py:515: DataConversionWarning:\n",
            "\n",
            "A column-vector y was passed when a 1d array was expected. Please change the shape of y to (n_samples,), for example using ravel().\n",
            "\n",
            "/usr/local/lib/python3.7/dist-packages/sklearn/model_selection/_validation.py:515: DataConversionWarning:\n",
            "\n",
            "A column-vector y was passed when a 1d array was expected. Please change the shape of y to (n_samples,), for example using ravel().\n",
            "\n",
            "/usr/local/lib/python3.7/dist-packages/sklearn/model_selection/_validation.py:515: DataConversionWarning:\n",
            "\n",
            "A column-vector y was passed when a 1d array was expected. Please change the shape of y to (n_samples,), for example using ravel().\n",
            "\n",
            "/usr/local/lib/python3.7/dist-packages/sklearn/model_selection/_validation.py:515: DataConversionWarning:\n",
            "\n",
            "A column-vector y was passed when a 1d array was expected. Please change the shape of y to (n_samples,), for example using ravel().\n",
            "\n",
            "/usr/local/lib/python3.7/dist-packages/sklearn/model_selection/_validation.py:515: DataConversionWarning:\n",
            "\n",
            "A column-vector y was passed when a 1d array was expected. Please change the shape of y to (n_samples,), for example using ravel().\n",
            "\n",
            "/usr/local/lib/python3.7/dist-packages/sklearn/model_selection/_validation.py:515: DataConversionWarning:\n",
            "\n",
            "A column-vector y was passed when a 1d array was expected. Please change the shape of y to (n_samples,), for example using ravel().\n",
            "\n",
            "/usr/local/lib/python3.7/dist-packages/sklearn/model_selection/_validation.py:515: DataConversionWarning:\n",
            "\n",
            "A column-vector y was passed when a 1d array was expected. Please change the shape of y to (n_samples,), for example using ravel().\n",
            "\n",
            "/usr/local/lib/python3.7/dist-packages/sklearn/model_selection/_validation.py:515: DataConversionWarning:\n",
            "\n",
            "A column-vector y was passed when a 1d array was expected. Please change the shape of y to (n_samples,), for example using ravel().\n",
            "\n",
            "/usr/local/lib/python3.7/dist-packages/sklearn/model_selection/_validation.py:515: DataConversionWarning:\n",
            "\n",
            "A column-vector y was passed when a 1d array was expected. Please change the shape of y to (n_samples,), for example using ravel().\n",
            "\n",
            "/usr/local/lib/python3.7/dist-packages/sklearn/model_selection/_validation.py:515: DataConversionWarning:\n",
            "\n",
            "A column-vector y was passed when a 1d array was expected. Please change the shape of y to (n_samples,), for example using ravel().\n",
            "\n",
            "/usr/local/lib/python3.7/dist-packages/sklearn/model_selection/_validation.py:515: DataConversionWarning:\n",
            "\n",
            "A column-vector y was passed when a 1d array was expected. Please change the shape of y to (n_samples,), for example using ravel().\n",
            "\n",
            "/usr/local/lib/python3.7/dist-packages/sklearn/model_selection/_validation.py:515: DataConversionWarning:\n",
            "\n",
            "A column-vector y was passed when a 1d array was expected. Please change the shape of y to (n_samples,), for example using ravel().\n",
            "\n",
            "/usr/local/lib/python3.7/dist-packages/sklearn/model_selection/_validation.py:515: DataConversionWarning:\n",
            "\n",
            "A column-vector y was passed when a 1d array was expected. Please change the shape of y to (n_samples,), for example using ravel().\n",
            "\n",
            "/usr/local/lib/python3.7/dist-packages/sklearn/model_selection/_validation.py:515: DataConversionWarning:\n",
            "\n",
            "A column-vector y was passed when a 1d array was expected. Please change the shape of y to (n_samples,), for example using ravel().\n",
            "\n",
            "/usr/local/lib/python3.7/dist-packages/sklearn/model_selection/_validation.py:515: DataConversionWarning:\n",
            "\n",
            "A column-vector y was passed when a 1d array was expected. Please change the shape of y to (n_samples,), for example using ravel().\n",
            "\n",
            "/usr/local/lib/python3.7/dist-packages/sklearn/model_selection/_validation.py:515: DataConversionWarning:\n",
            "\n",
            "A column-vector y was passed when a 1d array was expected. Please change the shape of y to (n_samples,), for example using ravel().\n",
            "\n",
            "/usr/local/lib/python3.7/dist-packages/sklearn/model_selection/_validation.py:515: DataConversionWarning:\n",
            "\n",
            "A column-vector y was passed when a 1d array was expected. Please change the shape of y to (n_samples,), for example using ravel().\n",
            "\n",
            "/usr/local/lib/python3.7/dist-packages/sklearn/model_selection/_validation.py:515: DataConversionWarning:\n",
            "\n",
            "A column-vector y was passed when a 1d array was expected. Please change the shape of y to (n_samples,), for example using ravel().\n",
            "\n",
            "/usr/local/lib/python3.7/dist-packages/sklearn/model_selection/_validation.py:515: DataConversionWarning:\n",
            "\n",
            "A column-vector y was passed when a 1d array was expected. Please change the shape of y to (n_samples,), for example using ravel().\n",
            "\n",
            "/usr/local/lib/python3.7/dist-packages/sklearn/model_selection/_validation.py:515: DataConversionWarning:\n",
            "\n",
            "A column-vector y was passed when a 1d array was expected. Please change the shape of y to (n_samples,), for example using ravel().\n",
            "\n",
            "/usr/local/lib/python3.7/dist-packages/sklearn/model_selection/_validation.py:515: DataConversionWarning:\n",
            "\n",
            "A column-vector y was passed when a 1d array was expected. Please change the shape of y to (n_samples,), for example using ravel().\n",
            "\n",
            "/usr/local/lib/python3.7/dist-packages/sklearn/model_selection/_validation.py:515: DataConversionWarning:\n",
            "\n",
            "A column-vector y was passed when a 1d array was expected. Please change the shape of y to (n_samples,), for example using ravel().\n",
            "\n",
            "/usr/local/lib/python3.7/dist-packages/sklearn/model_selection/_validation.py:515: DataConversionWarning:\n",
            "\n",
            "A column-vector y was passed when a 1d array was expected. Please change the shape of y to (n_samples,), for example using ravel().\n",
            "\n",
            "/usr/local/lib/python3.7/dist-packages/sklearn/model_selection/_validation.py:515: DataConversionWarning:\n",
            "\n",
            "A column-vector y was passed when a 1d array was expected. Please change the shape of y to (n_samples,), for example using ravel().\n",
            "\n",
            "/usr/local/lib/python3.7/dist-packages/sklearn/model_selection/_validation.py:515: DataConversionWarning:\n",
            "\n",
            "A column-vector y was passed when a 1d array was expected. Please change the shape of y to (n_samples,), for example using ravel().\n",
            "\n",
            "/usr/local/lib/python3.7/dist-packages/sklearn/model_selection/_validation.py:515: DataConversionWarning:\n",
            "\n",
            "A column-vector y was passed when a 1d array was expected. Please change the shape of y to (n_samples,), for example using ravel().\n",
            "\n",
            "/usr/local/lib/python3.7/dist-packages/sklearn/model_selection/_validation.py:515: DataConversionWarning:\n",
            "\n",
            "A column-vector y was passed when a 1d array was expected. Please change the shape of y to (n_samples,), for example using ravel().\n",
            "\n",
            "/usr/local/lib/python3.7/dist-packages/sklearn/model_selection/_validation.py:515: DataConversionWarning:\n",
            "\n",
            "A column-vector y was passed when a 1d array was expected. Please change the shape of y to (n_samples,), for example using ravel().\n",
            "\n",
            "/usr/local/lib/python3.7/dist-packages/sklearn/model_selection/_validation.py:515: DataConversionWarning:\n",
            "\n",
            "A column-vector y was passed when a 1d array was expected. Please change the shape of y to (n_samples,), for example using ravel().\n",
            "\n",
            "/usr/local/lib/python3.7/dist-packages/sklearn/model_selection/_validation.py:515: DataConversionWarning:\n",
            "\n",
            "A column-vector y was passed when a 1d array was expected. Please change the shape of y to (n_samples,), for example using ravel().\n",
            "\n",
            "/usr/local/lib/python3.7/dist-packages/sklearn/model_selection/_validation.py:515: DataConversionWarning:\n",
            "\n",
            "A column-vector y was passed when a 1d array was expected. Please change the shape of y to (n_samples,), for example using ravel().\n",
            "\n",
            "/usr/local/lib/python3.7/dist-packages/sklearn/model_selection/_validation.py:515: DataConversionWarning:\n",
            "\n",
            "A column-vector y was passed when a 1d array was expected. Please change the shape of y to (n_samples,), for example using ravel().\n",
            "\n",
            "/usr/local/lib/python3.7/dist-packages/sklearn/model_selection/_validation.py:515: DataConversionWarning:\n",
            "\n",
            "A column-vector y was passed when a 1d array was expected. Please change the shape of y to (n_samples,), for example using ravel().\n",
            "\n",
            "/usr/local/lib/python3.7/dist-packages/sklearn/model_selection/_validation.py:515: DataConversionWarning:\n",
            "\n",
            "A column-vector y was passed when a 1d array was expected. Please change the shape of y to (n_samples,), for example using ravel().\n",
            "\n",
            "/usr/local/lib/python3.7/dist-packages/sklearn/model_selection/_validation.py:515: DataConversionWarning:\n",
            "\n",
            "A column-vector y was passed when a 1d array was expected. Please change the shape of y to (n_samples,), for example using ravel().\n",
            "\n",
            "/usr/local/lib/python3.7/dist-packages/sklearn/model_selection/_validation.py:515: DataConversionWarning:\n",
            "\n",
            "A column-vector y was passed when a 1d array was expected. Please change the shape of y to (n_samples,), for example using ravel().\n",
            "\n",
            "/usr/local/lib/python3.7/dist-packages/sklearn/model_selection/_validation.py:515: DataConversionWarning:\n",
            "\n",
            "A column-vector y was passed when a 1d array was expected. Please change the shape of y to (n_samples,), for example using ravel().\n",
            "\n",
            "/usr/local/lib/python3.7/dist-packages/sklearn/model_selection/_validation.py:515: DataConversionWarning:\n",
            "\n",
            "A column-vector y was passed when a 1d array was expected. Please change the shape of y to (n_samples,), for example using ravel().\n",
            "\n",
            "/usr/local/lib/python3.7/dist-packages/sklearn/model_selection/_validation.py:515: DataConversionWarning:\n",
            "\n",
            "A column-vector y was passed when a 1d array was expected. Please change the shape of y to (n_samples,), for example using ravel().\n",
            "\n",
            "/usr/local/lib/python3.7/dist-packages/sklearn/model_selection/_validation.py:515: DataConversionWarning:\n",
            "\n",
            "A column-vector y was passed when a 1d array was expected. Please change the shape of y to (n_samples,), for example using ravel().\n",
            "\n",
            "/usr/local/lib/python3.7/dist-packages/sklearn/model_selection/_validation.py:515: DataConversionWarning:\n",
            "\n",
            "A column-vector y was passed when a 1d array was expected. Please change the shape of y to (n_samples,), for example using ravel().\n",
            "\n",
            "/usr/local/lib/python3.7/dist-packages/sklearn/model_selection/_validation.py:515: DataConversionWarning:\n",
            "\n",
            "A column-vector y was passed when a 1d array was expected. Please change the shape of y to (n_samples,), for example using ravel().\n",
            "\n",
            "/usr/local/lib/python3.7/dist-packages/sklearn/model_selection/_validation.py:515: DataConversionWarning:\n",
            "\n",
            "A column-vector y was passed when a 1d array was expected. Please change the shape of y to (n_samples,), for example using ravel().\n",
            "\n",
            "/usr/local/lib/python3.7/dist-packages/sklearn/model_selection/_validation.py:515: DataConversionWarning:\n",
            "\n",
            "A column-vector y was passed when a 1d array was expected. Please change the shape of y to (n_samples,), for example using ravel().\n",
            "\n",
            "/usr/local/lib/python3.7/dist-packages/sklearn/model_selection/_validation.py:515: DataConversionWarning:\n",
            "\n",
            "A column-vector y was passed when a 1d array was expected. Please change the shape of y to (n_samples,), for example using ravel().\n",
            "\n",
            "/usr/local/lib/python3.7/dist-packages/sklearn/model_selection/_validation.py:515: DataConversionWarning:\n",
            "\n",
            "A column-vector y was passed when a 1d array was expected. Please change the shape of y to (n_samples,), for example using ravel().\n",
            "\n",
            "/usr/local/lib/python3.7/dist-packages/sklearn/model_selection/_validation.py:515: DataConversionWarning:\n",
            "\n",
            "A column-vector y was passed when a 1d array was expected. Please change the shape of y to (n_samples,), for example using ravel().\n",
            "\n",
            "/usr/local/lib/python3.7/dist-packages/sklearn/model_selection/_validation.py:515: DataConversionWarning:\n",
            "\n",
            "A column-vector y was passed when a 1d array was expected. Please change the shape of y to (n_samples,), for example using ravel().\n",
            "\n",
            "/usr/local/lib/python3.7/dist-packages/sklearn/model_selection/_validation.py:515: DataConversionWarning:\n",
            "\n",
            "A column-vector y was passed when a 1d array was expected. Please change the shape of y to (n_samples,), for example using ravel().\n",
            "\n",
            "/usr/local/lib/python3.7/dist-packages/sklearn/model_selection/_validation.py:515: DataConversionWarning:\n",
            "\n",
            "A column-vector y was passed when a 1d array was expected. Please change the shape of y to (n_samples,), for example using ravel().\n",
            "\n",
            "/usr/local/lib/python3.7/dist-packages/sklearn/model_selection/_validation.py:515: DataConversionWarning:\n",
            "\n",
            "A column-vector y was passed when a 1d array was expected. Please change the shape of y to (n_samples,), for example using ravel().\n",
            "\n",
            "/usr/local/lib/python3.7/dist-packages/sklearn/model_selection/_validation.py:515: DataConversionWarning:\n",
            "\n",
            "A column-vector y was passed when a 1d array was expected. Please change the shape of y to (n_samples,), for example using ravel().\n",
            "\n",
            "/usr/local/lib/python3.7/dist-packages/sklearn/model_selection/_validation.py:515: DataConversionWarning:\n",
            "\n",
            "A column-vector y was passed when a 1d array was expected. Please change the shape of y to (n_samples,), for example using ravel().\n",
            "\n",
            "/usr/local/lib/python3.7/dist-packages/sklearn/model_selection/_validation.py:515: DataConversionWarning:\n",
            "\n",
            "A column-vector y was passed when a 1d array was expected. Please change the shape of y to (n_samples,), for example using ravel().\n",
            "\n",
            "/usr/local/lib/python3.7/dist-packages/sklearn/model_selection/_validation.py:515: DataConversionWarning:\n",
            "\n",
            "A column-vector y was passed when a 1d array was expected. Please change the shape of y to (n_samples,), for example using ravel().\n",
            "\n",
            "/usr/local/lib/python3.7/dist-packages/sklearn/model_selection/_validation.py:515: DataConversionWarning:\n",
            "\n",
            "A column-vector y was passed when a 1d array was expected. Please change the shape of y to (n_samples,), for example using ravel().\n",
            "\n",
            "/usr/local/lib/python3.7/dist-packages/sklearn/model_selection/_validation.py:515: DataConversionWarning:\n",
            "\n",
            "A column-vector y was passed when a 1d array was expected. Please change the shape of y to (n_samples,), for example using ravel().\n",
            "\n",
            "/usr/local/lib/python3.7/dist-packages/sklearn/model_selection/_validation.py:515: DataConversionWarning:\n",
            "\n",
            "A column-vector y was passed when a 1d array was expected. Please change the shape of y to (n_samples,), for example using ravel().\n",
            "\n",
            "/usr/local/lib/python3.7/dist-packages/sklearn/model_selection/_validation.py:515: DataConversionWarning:\n",
            "\n",
            "A column-vector y was passed when a 1d array was expected. Please change the shape of y to (n_samples,), for example using ravel().\n",
            "\n",
            "/usr/local/lib/python3.7/dist-packages/sklearn/model_selection/_validation.py:515: DataConversionWarning:\n",
            "\n",
            "A column-vector y was passed when a 1d array was expected. Please change the shape of y to (n_samples,), for example using ravel().\n",
            "\n",
            "/usr/local/lib/python3.7/dist-packages/sklearn/model_selection/_validation.py:515: DataConversionWarning:\n",
            "\n",
            "A column-vector y was passed when a 1d array was expected. Please change the shape of y to (n_samples,), for example using ravel().\n",
            "\n",
            "/usr/local/lib/python3.7/dist-packages/sklearn/model_selection/_validation.py:515: DataConversionWarning:\n",
            "\n",
            "A column-vector y was passed when a 1d array was expected. Please change the shape of y to (n_samples,), for example using ravel().\n",
            "\n",
            "/usr/local/lib/python3.7/dist-packages/sklearn/model_selection/_validation.py:515: DataConversionWarning:\n",
            "\n",
            "A column-vector y was passed when a 1d array was expected. Please change the shape of y to (n_samples,), for example using ravel().\n",
            "\n",
            "/usr/local/lib/python3.7/dist-packages/sklearn/model_selection/_validation.py:515: DataConversionWarning:\n",
            "\n",
            "A column-vector y was passed when a 1d array was expected. Please change the shape of y to (n_samples,), for example using ravel().\n",
            "\n",
            "/usr/local/lib/python3.7/dist-packages/sklearn/model_selection/_validation.py:515: DataConversionWarning:\n",
            "\n",
            "A column-vector y was passed when a 1d array was expected. Please change the shape of y to (n_samples,), for example using ravel().\n",
            "\n",
            "/usr/local/lib/python3.7/dist-packages/sklearn/model_selection/_validation.py:515: DataConversionWarning:\n",
            "\n",
            "A column-vector y was passed when a 1d array was expected. Please change the shape of y to (n_samples,), for example using ravel().\n",
            "\n",
            "/usr/local/lib/python3.7/dist-packages/sklearn/model_selection/_validation.py:515: DataConversionWarning:\n",
            "\n",
            "A column-vector y was passed when a 1d array was expected. Please change the shape of y to (n_samples,), for example using ravel().\n",
            "\n",
            "/usr/local/lib/python3.7/dist-packages/sklearn/model_selection/_validation.py:515: DataConversionWarning:\n",
            "\n",
            "A column-vector y was passed when a 1d array was expected. Please change the shape of y to (n_samples,), for example using ravel().\n",
            "\n",
            "/usr/local/lib/python3.7/dist-packages/sklearn/model_selection/_validation.py:515: DataConversionWarning:\n",
            "\n",
            "A column-vector y was passed when a 1d array was expected. Please change the shape of y to (n_samples,), for example using ravel().\n",
            "\n",
            "/usr/local/lib/python3.7/dist-packages/sklearn/model_selection/_validation.py:515: DataConversionWarning:\n",
            "\n",
            "A column-vector y was passed when a 1d array was expected. Please change the shape of y to (n_samples,), for example using ravel().\n",
            "\n",
            "/usr/local/lib/python3.7/dist-packages/sklearn/model_selection/_validation.py:515: DataConversionWarning:\n",
            "\n",
            "A column-vector y was passed when a 1d array was expected. Please change the shape of y to (n_samples,), for example using ravel().\n",
            "\n",
            "/usr/local/lib/python3.7/dist-packages/sklearn/model_selection/_validation.py:515: DataConversionWarning:\n",
            "\n",
            "A column-vector y was passed when a 1d array was expected. Please change the shape of y to (n_samples,), for example using ravel().\n",
            "\n",
            "/usr/local/lib/python3.7/dist-packages/sklearn/model_selection/_validation.py:515: DataConversionWarning:\n",
            "\n",
            "A column-vector y was passed when a 1d array was expected. Please change the shape of y to (n_samples,), for example using ravel().\n",
            "\n",
            "/usr/local/lib/python3.7/dist-packages/sklearn/model_selection/_validation.py:515: DataConversionWarning:\n",
            "\n",
            "A column-vector y was passed when a 1d array was expected. Please change the shape of y to (n_samples,), for example using ravel().\n",
            "\n",
            "/usr/local/lib/python3.7/dist-packages/sklearn/model_selection/_validation.py:515: DataConversionWarning:\n",
            "\n",
            "A column-vector y was passed when a 1d array was expected. Please change the shape of y to (n_samples,), for example using ravel().\n",
            "\n",
            "/usr/local/lib/python3.7/dist-packages/sklearn/model_selection/_validation.py:515: DataConversionWarning:\n",
            "\n",
            "A column-vector y was passed when a 1d array was expected. Please change the shape of y to (n_samples,), for example using ravel().\n",
            "\n",
            "/usr/local/lib/python3.7/dist-packages/sklearn/model_selection/_validation.py:515: DataConversionWarning:\n",
            "\n",
            "A column-vector y was passed when a 1d array was expected. Please change the shape of y to (n_samples,), for example using ravel().\n",
            "\n",
            "/usr/local/lib/python3.7/dist-packages/sklearn/model_selection/_validation.py:515: DataConversionWarning:\n",
            "\n",
            "A column-vector y was passed when a 1d array was expected. Please change the shape of y to (n_samples,), for example using ravel().\n",
            "\n",
            "/usr/local/lib/python3.7/dist-packages/sklearn/model_selection/_validation.py:515: DataConversionWarning:\n",
            "\n",
            "A column-vector y was passed when a 1d array was expected. Please change the shape of y to (n_samples,), for example using ravel().\n",
            "\n",
            "/usr/local/lib/python3.7/dist-packages/sklearn/model_selection/_validation.py:515: DataConversionWarning:\n",
            "\n",
            "A column-vector y was passed when a 1d array was expected. Please change the shape of y to (n_samples,), for example using ravel().\n",
            "\n",
            "/usr/local/lib/python3.7/dist-packages/sklearn/model_selection/_validation.py:515: DataConversionWarning:\n",
            "\n",
            "A column-vector y was passed when a 1d array was expected. Please change the shape of y to (n_samples,), for example using ravel().\n",
            "\n",
            "/usr/local/lib/python3.7/dist-packages/sklearn/model_selection/_validation.py:515: DataConversionWarning:\n",
            "\n",
            "A column-vector y was passed when a 1d array was expected. Please change the shape of y to (n_samples,), for example using ravel().\n",
            "\n",
            "/usr/local/lib/python3.7/dist-packages/sklearn/model_selection/_validation.py:515: DataConversionWarning:\n",
            "\n",
            "A column-vector y was passed when a 1d array was expected. Please change the shape of y to (n_samples,), for example using ravel().\n",
            "\n",
            "/usr/local/lib/python3.7/dist-packages/sklearn/model_selection/_validation.py:515: DataConversionWarning:\n",
            "\n",
            "A column-vector y was passed when a 1d array was expected. Please change the shape of y to (n_samples,), for example using ravel().\n",
            "\n",
            "/usr/local/lib/python3.7/dist-packages/sklearn/model_selection/_validation.py:515: DataConversionWarning:\n",
            "\n",
            "A column-vector y was passed when a 1d array was expected. Please change the shape of y to (n_samples,), for example using ravel().\n",
            "\n",
            "/usr/local/lib/python3.7/dist-packages/sklearn/model_selection/_validation.py:515: DataConversionWarning:\n",
            "\n",
            "A column-vector y was passed when a 1d array was expected. Please change the shape of y to (n_samples,), for example using ravel().\n",
            "\n",
            "/usr/local/lib/python3.7/dist-packages/sklearn/model_selection/_validation.py:515: DataConversionWarning:\n",
            "\n",
            "A column-vector y was passed when a 1d array was expected. Please change the shape of y to (n_samples,), for example using ravel().\n",
            "\n",
            "/usr/local/lib/python3.7/dist-packages/sklearn/model_selection/_validation.py:515: DataConversionWarning:\n",
            "\n",
            "A column-vector y was passed when a 1d array was expected. Please change the shape of y to (n_samples,), for example using ravel().\n",
            "\n",
            "/usr/local/lib/python3.7/dist-packages/sklearn/model_selection/_validation.py:515: DataConversionWarning:\n",
            "\n",
            "A column-vector y was passed when a 1d array was expected. Please change the shape of y to (n_samples,), for example using ravel().\n",
            "\n",
            "/usr/local/lib/python3.7/dist-packages/sklearn/model_selection/_validation.py:515: DataConversionWarning:\n",
            "\n",
            "A column-vector y was passed when a 1d array was expected. Please change the shape of y to (n_samples,), for example using ravel().\n",
            "\n",
            "/usr/local/lib/python3.7/dist-packages/sklearn/model_selection/_validation.py:515: DataConversionWarning:\n",
            "\n",
            "A column-vector y was passed when a 1d array was expected. Please change the shape of y to (n_samples,), for example using ravel().\n",
            "\n",
            "/usr/local/lib/python3.7/dist-packages/sklearn/model_selection/_validation.py:515: DataConversionWarning:\n",
            "\n",
            "A column-vector y was passed when a 1d array was expected. Please change the shape of y to (n_samples,), for example using ravel().\n",
            "\n",
            "/usr/local/lib/python3.7/dist-packages/sklearn/model_selection/_validation.py:515: DataConversionWarning:\n",
            "\n",
            "A column-vector y was passed when a 1d array was expected. Please change the shape of y to (n_samples,), for example using ravel().\n",
            "\n",
            "/usr/local/lib/python3.7/dist-packages/sklearn/model_selection/_validation.py:515: DataConversionWarning:\n",
            "\n",
            "A column-vector y was passed when a 1d array was expected. Please change the shape of y to (n_samples,), for example using ravel().\n",
            "\n",
            "/usr/local/lib/python3.7/dist-packages/sklearn/model_selection/_validation.py:515: DataConversionWarning:\n",
            "\n",
            "A column-vector y was passed when a 1d array was expected. Please change the shape of y to (n_samples,), for example using ravel().\n",
            "\n",
            "/usr/local/lib/python3.7/dist-packages/sklearn/model_selection/_validation.py:515: DataConversionWarning:\n",
            "\n",
            "A column-vector y was passed when a 1d array was expected. Please change the shape of y to (n_samples,), for example using ravel().\n",
            "\n",
            "/usr/local/lib/python3.7/dist-packages/sklearn/model_selection/_validation.py:515: DataConversionWarning:\n",
            "\n",
            "A column-vector y was passed when a 1d array was expected. Please change the shape of y to (n_samples,), for example using ravel().\n",
            "\n",
            "/usr/local/lib/python3.7/dist-packages/sklearn/model_selection/_validation.py:515: DataConversionWarning:\n",
            "\n",
            "A column-vector y was passed when a 1d array was expected. Please change the shape of y to (n_samples,), for example using ravel().\n",
            "\n",
            "/usr/local/lib/python3.7/dist-packages/sklearn/model_selection/_validation.py:515: DataConversionWarning:\n",
            "\n",
            "A column-vector y was passed when a 1d array was expected. Please change the shape of y to (n_samples,), for example using ravel().\n",
            "\n",
            "/usr/local/lib/python3.7/dist-packages/sklearn/model_selection/_validation.py:515: DataConversionWarning:\n",
            "\n",
            "A column-vector y was passed when a 1d array was expected. Please change the shape of y to (n_samples,), for example using ravel().\n",
            "\n",
            "/usr/local/lib/python3.7/dist-packages/sklearn/model_selection/_validation.py:515: DataConversionWarning:\n",
            "\n",
            "A column-vector y was passed when a 1d array was expected. Please change the shape of y to (n_samples,), for example using ravel().\n",
            "\n",
            "/usr/local/lib/python3.7/dist-packages/sklearn/model_selection/_validation.py:515: DataConversionWarning:\n",
            "\n",
            "A column-vector y was passed when a 1d array was expected. Please change the shape of y to (n_samples,), for example using ravel().\n",
            "\n",
            "/usr/local/lib/python3.7/dist-packages/sklearn/model_selection/_validation.py:515: DataConversionWarning:\n",
            "\n",
            "A column-vector y was passed when a 1d array was expected. Please change the shape of y to (n_samples,), for example using ravel().\n",
            "\n",
            "/usr/local/lib/python3.7/dist-packages/sklearn/model_selection/_validation.py:515: DataConversionWarning:\n",
            "\n",
            "A column-vector y was passed when a 1d array was expected. Please change the shape of y to (n_samples,), for example using ravel().\n",
            "\n",
            "/usr/local/lib/python3.7/dist-packages/sklearn/model_selection/_validation.py:515: DataConversionWarning:\n",
            "\n",
            "A column-vector y was passed when a 1d array was expected. Please change the shape of y to (n_samples,), for example using ravel().\n",
            "\n",
            "/usr/local/lib/python3.7/dist-packages/sklearn/model_selection/_validation.py:515: DataConversionWarning:\n",
            "\n",
            "A column-vector y was passed when a 1d array was expected. Please change the shape of y to (n_samples,), for example using ravel().\n",
            "\n",
            "/usr/local/lib/python3.7/dist-packages/sklearn/model_selection/_validation.py:515: DataConversionWarning:\n",
            "\n",
            "A column-vector y was passed when a 1d array was expected. Please change the shape of y to (n_samples,), for example using ravel().\n",
            "\n",
            "/usr/local/lib/python3.7/dist-packages/sklearn/model_selection/_validation.py:515: DataConversionWarning:\n",
            "\n",
            "A column-vector y was passed when a 1d array was expected. Please change the shape of y to (n_samples,), for example using ravel().\n",
            "\n",
            "/usr/local/lib/python3.7/dist-packages/sklearn/model_selection/_validation.py:515: DataConversionWarning:\n",
            "\n",
            "A column-vector y was passed when a 1d array was expected. Please change the shape of y to (n_samples,), for example using ravel().\n",
            "\n",
            "/usr/local/lib/python3.7/dist-packages/sklearn/model_selection/_validation.py:515: DataConversionWarning:\n",
            "\n",
            "A column-vector y was passed when a 1d array was expected. Please change the shape of y to (n_samples,), for example using ravel().\n",
            "\n",
            "/usr/local/lib/python3.7/dist-packages/sklearn/model_selection/_validation.py:515: DataConversionWarning:\n",
            "\n",
            "A column-vector y was passed when a 1d array was expected. Please change the shape of y to (n_samples,), for example using ravel().\n",
            "\n",
            "/usr/local/lib/python3.7/dist-packages/sklearn/model_selection/_validation.py:515: DataConversionWarning:\n",
            "\n",
            "A column-vector y was passed when a 1d array was expected. Please change the shape of y to (n_samples,), for example using ravel().\n",
            "\n",
            "/usr/local/lib/python3.7/dist-packages/sklearn/model_selection/_validation.py:515: DataConversionWarning:\n",
            "\n",
            "A column-vector y was passed when a 1d array was expected. Please change the shape of y to (n_samples,), for example using ravel().\n",
            "\n",
            "/usr/local/lib/python3.7/dist-packages/sklearn/model_selection/_validation.py:515: DataConversionWarning:\n",
            "\n",
            "A column-vector y was passed when a 1d array was expected. Please change the shape of y to (n_samples,), for example using ravel().\n",
            "\n",
            "/usr/local/lib/python3.7/dist-packages/sklearn/model_selection/_validation.py:515: DataConversionWarning:\n",
            "\n",
            "A column-vector y was passed when a 1d array was expected. Please change the shape of y to (n_samples,), for example using ravel().\n",
            "\n",
            "/usr/local/lib/python3.7/dist-packages/sklearn/model_selection/_validation.py:515: DataConversionWarning:\n",
            "\n",
            "A column-vector y was passed when a 1d array was expected. Please change the shape of y to (n_samples,), for example using ravel().\n",
            "\n",
            "/usr/local/lib/python3.7/dist-packages/sklearn/model_selection/_validation.py:515: DataConversionWarning:\n",
            "\n",
            "A column-vector y was passed when a 1d array was expected. Please change the shape of y to (n_samples,), for example using ravel().\n",
            "\n",
            "/usr/local/lib/python3.7/dist-packages/sklearn/model_selection/_validation.py:515: DataConversionWarning:\n",
            "\n",
            "A column-vector y was passed when a 1d array was expected. Please change the shape of y to (n_samples,), for example using ravel().\n",
            "\n",
            "/usr/local/lib/python3.7/dist-packages/sklearn/model_selection/_validation.py:515: DataConversionWarning:\n",
            "\n",
            "A column-vector y was passed when a 1d array was expected. Please change the shape of y to (n_samples,), for example using ravel().\n",
            "\n",
            "/usr/local/lib/python3.7/dist-packages/sklearn/model_selection/_validation.py:515: DataConversionWarning:\n",
            "\n",
            "A column-vector y was passed when a 1d array was expected. Please change the shape of y to (n_samples,), for example using ravel().\n",
            "\n",
            "/usr/local/lib/python3.7/dist-packages/sklearn/model_selection/_validation.py:515: DataConversionWarning:\n",
            "\n",
            "A column-vector y was passed when a 1d array was expected. Please change the shape of y to (n_samples,), for example using ravel().\n",
            "\n",
            "/usr/local/lib/python3.7/dist-packages/sklearn/model_selection/_validation.py:515: DataConversionWarning:\n",
            "\n",
            "A column-vector y was passed when a 1d array was expected. Please change the shape of y to (n_samples,), for example using ravel().\n",
            "\n",
            "/usr/local/lib/python3.7/dist-packages/sklearn/model_selection/_validation.py:515: DataConversionWarning:\n",
            "\n",
            "A column-vector y was passed when a 1d array was expected. Please change the shape of y to (n_samples,), for example using ravel().\n",
            "\n",
            "/usr/local/lib/python3.7/dist-packages/sklearn/model_selection/_validation.py:515: DataConversionWarning:\n",
            "\n",
            "A column-vector y was passed when a 1d array was expected. Please change the shape of y to (n_samples,), for example using ravel().\n",
            "\n",
            "/usr/local/lib/python3.7/dist-packages/sklearn/model_selection/_validation.py:515: DataConversionWarning:\n",
            "\n",
            "A column-vector y was passed when a 1d array was expected. Please change the shape of y to (n_samples,), for example using ravel().\n",
            "\n",
            "/usr/local/lib/python3.7/dist-packages/sklearn/model_selection/_validation.py:515: DataConversionWarning:\n",
            "\n",
            "A column-vector y was passed when a 1d array was expected. Please change the shape of y to (n_samples,), for example using ravel().\n",
            "\n",
            "/usr/local/lib/python3.7/dist-packages/sklearn/model_selection/_validation.py:515: DataConversionWarning:\n",
            "\n",
            "A column-vector y was passed when a 1d array was expected. Please change the shape of y to (n_samples,), for example using ravel().\n",
            "\n",
            "/usr/local/lib/python3.7/dist-packages/sklearn/model_selection/_validation.py:515: DataConversionWarning:\n",
            "\n",
            "A column-vector y was passed when a 1d array was expected. Please change the shape of y to (n_samples,), for example using ravel().\n",
            "\n",
            "/usr/local/lib/python3.7/dist-packages/sklearn/model_selection/_validation.py:515: DataConversionWarning:\n",
            "\n",
            "A column-vector y was passed when a 1d array was expected. Please change the shape of y to (n_samples,), for example using ravel().\n",
            "\n",
            "/usr/local/lib/python3.7/dist-packages/sklearn/model_selection/_validation.py:515: DataConversionWarning:\n",
            "\n",
            "A column-vector y was passed when a 1d array was expected. Please change the shape of y to (n_samples,), for example using ravel().\n",
            "\n",
            "/usr/local/lib/python3.7/dist-packages/sklearn/model_selection/_validation.py:515: DataConversionWarning:\n",
            "\n",
            "A column-vector y was passed when a 1d array was expected. Please change the shape of y to (n_samples,), for example using ravel().\n",
            "\n",
            "/usr/local/lib/python3.7/dist-packages/sklearn/model_selection/_validation.py:515: DataConversionWarning:\n",
            "\n",
            "A column-vector y was passed when a 1d array was expected. Please change the shape of y to (n_samples,), for example using ravel().\n",
            "\n",
            "/usr/local/lib/python3.7/dist-packages/sklearn/model_selection/_validation.py:515: DataConversionWarning:\n",
            "\n",
            "A column-vector y was passed when a 1d array was expected. Please change the shape of y to (n_samples,), for example using ravel().\n",
            "\n",
            "/usr/local/lib/python3.7/dist-packages/sklearn/model_selection/_validation.py:515: DataConversionWarning:\n",
            "\n",
            "A column-vector y was passed when a 1d array was expected. Please change the shape of y to (n_samples,), for example using ravel().\n",
            "\n",
            "/usr/local/lib/python3.7/dist-packages/sklearn/model_selection/_validation.py:515: DataConversionWarning:\n",
            "\n",
            "A column-vector y was passed when a 1d array was expected. Please change the shape of y to (n_samples,), for example using ravel().\n",
            "\n",
            "/usr/local/lib/python3.7/dist-packages/sklearn/model_selection/_validation.py:515: DataConversionWarning:\n",
            "\n",
            "A column-vector y was passed when a 1d array was expected. Please change the shape of y to (n_samples,), for example using ravel().\n",
            "\n",
            "/usr/local/lib/python3.7/dist-packages/sklearn/model_selection/_validation.py:515: DataConversionWarning:\n",
            "\n",
            "A column-vector y was passed when a 1d array was expected. Please change the shape of y to (n_samples,), for example using ravel().\n",
            "\n",
            "/usr/local/lib/python3.7/dist-packages/sklearn/model_selection/_validation.py:515: DataConversionWarning:\n",
            "\n",
            "A column-vector y was passed when a 1d array was expected. Please change the shape of y to (n_samples,), for example using ravel().\n",
            "\n",
            "/usr/local/lib/python3.7/dist-packages/sklearn/model_selection/_validation.py:515: DataConversionWarning:\n",
            "\n",
            "A column-vector y was passed when a 1d array was expected. Please change the shape of y to (n_samples,), for example using ravel().\n",
            "\n",
            "/usr/local/lib/python3.7/dist-packages/sklearn/model_selection/_validation.py:515: DataConversionWarning:\n",
            "\n",
            "A column-vector y was passed when a 1d array was expected. Please change the shape of y to (n_samples,), for example using ravel().\n",
            "\n",
            "/usr/local/lib/python3.7/dist-packages/sklearn/model_selection/_validation.py:515: DataConversionWarning:\n",
            "\n",
            "A column-vector y was passed when a 1d array was expected. Please change the shape of y to (n_samples,), for example using ravel().\n",
            "\n",
            "/usr/local/lib/python3.7/dist-packages/sklearn/model_selection/_validation.py:515: DataConversionWarning:\n",
            "\n",
            "A column-vector y was passed when a 1d array was expected. Please change the shape of y to (n_samples,), for example using ravel().\n",
            "\n",
            "/usr/local/lib/python3.7/dist-packages/sklearn/model_selection/_validation.py:515: DataConversionWarning:\n",
            "\n",
            "A column-vector y was passed when a 1d array was expected. Please change the shape of y to (n_samples,), for example using ravel().\n",
            "\n",
            "/usr/local/lib/python3.7/dist-packages/sklearn/model_selection/_validation.py:515: DataConversionWarning:\n",
            "\n",
            "A column-vector y was passed when a 1d array was expected. Please change the shape of y to (n_samples,), for example using ravel().\n",
            "\n",
            "/usr/local/lib/python3.7/dist-packages/sklearn/model_selection/_validation.py:515: DataConversionWarning:\n",
            "\n",
            "A column-vector y was passed when a 1d array was expected. Please change the shape of y to (n_samples,), for example using ravel().\n",
            "\n",
            "/usr/local/lib/python3.7/dist-packages/sklearn/model_selection/_validation.py:515: DataConversionWarning:\n",
            "\n",
            "A column-vector y was passed when a 1d array was expected. Please change the shape of y to (n_samples,), for example using ravel().\n",
            "\n",
            "/usr/local/lib/python3.7/dist-packages/sklearn/model_selection/_validation.py:515: DataConversionWarning:\n",
            "\n",
            "A column-vector y was passed when a 1d array was expected. Please change the shape of y to (n_samples,), for example using ravel().\n",
            "\n",
            "/usr/local/lib/python3.7/dist-packages/sklearn/model_selection/_validation.py:515: DataConversionWarning:\n",
            "\n",
            "A column-vector y was passed when a 1d array was expected. Please change the shape of y to (n_samples,), for example using ravel().\n",
            "\n",
            "/usr/local/lib/python3.7/dist-packages/sklearn/model_selection/_validation.py:515: DataConversionWarning:\n",
            "\n",
            "A column-vector y was passed when a 1d array was expected. Please change the shape of y to (n_samples,), for example using ravel().\n",
            "\n",
            "/usr/local/lib/python3.7/dist-packages/sklearn/model_selection/_validation.py:515: DataConversionWarning:\n",
            "\n",
            "A column-vector y was passed when a 1d array was expected. Please change the shape of y to (n_samples,), for example using ravel().\n",
            "\n",
            "/usr/local/lib/python3.7/dist-packages/sklearn/model_selection/_validation.py:515: DataConversionWarning:\n",
            "\n",
            "A column-vector y was passed when a 1d array was expected. Please change the shape of y to (n_samples,), for example using ravel().\n",
            "\n",
            "/usr/local/lib/python3.7/dist-packages/sklearn/model_selection/_validation.py:515: DataConversionWarning:\n",
            "\n",
            "A column-vector y was passed when a 1d array was expected. Please change the shape of y to (n_samples,), for example using ravel().\n",
            "\n",
            "/usr/local/lib/python3.7/dist-packages/sklearn/model_selection/_validation.py:515: DataConversionWarning:\n",
            "\n",
            "A column-vector y was passed when a 1d array was expected. Please change the shape of y to (n_samples,), for example using ravel().\n",
            "\n",
            "/usr/local/lib/python3.7/dist-packages/sklearn/model_selection/_validation.py:515: DataConversionWarning:\n",
            "\n",
            "A column-vector y was passed when a 1d array was expected. Please change the shape of y to (n_samples,), for example using ravel().\n",
            "\n",
            "/usr/local/lib/python3.7/dist-packages/sklearn/model_selection/_validation.py:515: DataConversionWarning:\n",
            "\n",
            "A column-vector y was passed when a 1d array was expected. Please change the shape of y to (n_samples,), for example using ravel().\n",
            "\n",
            "/usr/local/lib/python3.7/dist-packages/sklearn/model_selection/_validation.py:515: DataConversionWarning:\n",
            "\n",
            "A column-vector y was passed when a 1d array was expected. Please change the shape of y to (n_samples,), for example using ravel().\n",
            "\n",
            "/usr/local/lib/python3.7/dist-packages/sklearn/model_selection/_validation.py:515: DataConversionWarning:\n",
            "\n",
            "A column-vector y was passed when a 1d array was expected. Please change the shape of y to (n_samples,), for example using ravel().\n",
            "\n",
            "/usr/local/lib/python3.7/dist-packages/sklearn/model_selection/_validation.py:515: DataConversionWarning:\n",
            "\n",
            "A column-vector y was passed when a 1d array was expected. Please change the shape of y to (n_samples,), for example using ravel().\n",
            "\n",
            "/usr/local/lib/python3.7/dist-packages/sklearn/model_selection/_validation.py:515: DataConversionWarning:\n",
            "\n",
            "A column-vector y was passed when a 1d array was expected. Please change the shape of y to (n_samples,), for example using ravel().\n",
            "\n",
            "/usr/local/lib/python3.7/dist-packages/sklearn/model_selection/_validation.py:515: DataConversionWarning:\n",
            "\n",
            "A column-vector y was passed when a 1d array was expected. Please change the shape of y to (n_samples,), for example using ravel().\n",
            "\n",
            "/usr/local/lib/python3.7/dist-packages/sklearn/model_selection/_validation.py:515: DataConversionWarning:\n",
            "\n",
            "A column-vector y was passed when a 1d array was expected. Please change the shape of y to (n_samples,), for example using ravel().\n",
            "\n",
            "/usr/local/lib/python3.7/dist-packages/sklearn/model_selection/_validation.py:515: DataConversionWarning:\n",
            "\n",
            "A column-vector y was passed when a 1d array was expected. Please change the shape of y to (n_samples,), for example using ravel().\n",
            "\n",
            "/usr/local/lib/python3.7/dist-packages/sklearn/model_selection/_validation.py:515: DataConversionWarning:\n",
            "\n",
            "A column-vector y was passed when a 1d array was expected. Please change the shape of y to (n_samples,), for example using ravel().\n",
            "\n",
            "/usr/local/lib/python3.7/dist-packages/sklearn/model_selection/_validation.py:515: DataConversionWarning:\n",
            "\n",
            "A column-vector y was passed when a 1d array was expected. Please change the shape of y to (n_samples,), for example using ravel().\n",
            "\n",
            "/usr/local/lib/python3.7/dist-packages/sklearn/model_selection/_validation.py:515: DataConversionWarning:\n",
            "\n",
            "A column-vector y was passed when a 1d array was expected. Please change the shape of y to (n_samples,), for example using ravel().\n",
            "\n",
            "/usr/local/lib/python3.7/dist-packages/sklearn/model_selection/_validation.py:515: DataConversionWarning:\n",
            "\n",
            "A column-vector y was passed when a 1d array was expected. Please change the shape of y to (n_samples,), for example using ravel().\n",
            "\n",
            "/usr/local/lib/python3.7/dist-packages/sklearn/model_selection/_validation.py:515: DataConversionWarning:\n",
            "\n",
            "A column-vector y was passed when a 1d array was expected. Please change the shape of y to (n_samples,), for example using ravel().\n",
            "\n",
            "/usr/local/lib/python3.7/dist-packages/sklearn/model_selection/_validation.py:515: DataConversionWarning:\n",
            "\n",
            "A column-vector y was passed when a 1d array was expected. Please change the shape of y to (n_samples,), for example using ravel().\n",
            "\n",
            "/usr/local/lib/python3.7/dist-packages/sklearn/model_selection/_validation.py:515: DataConversionWarning:\n",
            "\n",
            "A column-vector y was passed when a 1d array was expected. Please change the shape of y to (n_samples,), for example using ravel().\n",
            "\n",
            "/usr/local/lib/python3.7/dist-packages/sklearn/model_selection/_validation.py:515: DataConversionWarning:\n",
            "\n",
            "A column-vector y was passed when a 1d array was expected. Please change the shape of y to (n_samples,), for example using ravel().\n",
            "\n",
            "/usr/local/lib/python3.7/dist-packages/sklearn/model_selection/_validation.py:515: DataConversionWarning:\n",
            "\n",
            "A column-vector y was passed when a 1d array was expected. Please change the shape of y to (n_samples,), for example using ravel().\n",
            "\n",
            "/usr/local/lib/python3.7/dist-packages/sklearn/model_selection/_validation.py:515: DataConversionWarning:\n",
            "\n",
            "A column-vector y was passed when a 1d array was expected. Please change the shape of y to (n_samples,), for example using ravel().\n",
            "\n",
            "/usr/local/lib/python3.7/dist-packages/sklearn/model_selection/_validation.py:515: DataConversionWarning:\n",
            "\n",
            "A column-vector y was passed when a 1d array was expected. Please change the shape of y to (n_samples,), for example using ravel().\n",
            "\n",
            "/usr/local/lib/python3.7/dist-packages/sklearn/model_selection/_validation.py:515: DataConversionWarning:\n",
            "\n",
            "A column-vector y was passed when a 1d array was expected. Please change the shape of y to (n_samples,), for example using ravel().\n",
            "\n",
            "/usr/local/lib/python3.7/dist-packages/sklearn/model_selection/_validation.py:515: DataConversionWarning:\n",
            "\n",
            "A column-vector y was passed when a 1d array was expected. Please change the shape of y to (n_samples,), for example using ravel().\n",
            "\n",
            "/usr/local/lib/python3.7/dist-packages/sklearn/model_selection/_validation.py:515: DataConversionWarning:\n",
            "\n",
            "A column-vector y was passed when a 1d array was expected. Please change the shape of y to (n_samples,), for example using ravel().\n",
            "\n",
            "/usr/local/lib/python3.7/dist-packages/sklearn/model_selection/_validation.py:515: DataConversionWarning:\n",
            "\n",
            "A column-vector y was passed when a 1d array was expected. Please change the shape of y to (n_samples,), for example using ravel().\n",
            "\n",
            "/usr/local/lib/python3.7/dist-packages/sklearn/model_selection/_validation.py:515: DataConversionWarning:\n",
            "\n",
            "A column-vector y was passed when a 1d array was expected. Please change the shape of y to (n_samples,), for example using ravel().\n",
            "\n",
            "/usr/local/lib/python3.7/dist-packages/sklearn/model_selection/_validation.py:515: DataConversionWarning:\n",
            "\n",
            "A column-vector y was passed when a 1d array was expected. Please change the shape of y to (n_samples,), for example using ravel().\n",
            "\n",
            "/usr/local/lib/python3.7/dist-packages/sklearn/model_selection/_validation.py:515: DataConversionWarning:\n",
            "\n",
            "A column-vector y was passed when a 1d array was expected. Please change the shape of y to (n_samples,), for example using ravel().\n",
            "\n",
            "/usr/local/lib/python3.7/dist-packages/sklearn/model_selection/_validation.py:515: DataConversionWarning:\n",
            "\n",
            "A column-vector y was passed when a 1d array was expected. Please change the shape of y to (n_samples,), for example using ravel().\n",
            "\n",
            "/usr/local/lib/python3.7/dist-packages/sklearn/model_selection/_validation.py:515: DataConversionWarning:\n",
            "\n",
            "A column-vector y was passed when a 1d array was expected. Please change the shape of y to (n_samples,), for example using ravel().\n",
            "\n",
            "/usr/local/lib/python3.7/dist-packages/sklearn/model_selection/_validation.py:515: DataConversionWarning:\n",
            "\n",
            "A column-vector y was passed when a 1d array was expected. Please change the shape of y to (n_samples,), for example using ravel().\n",
            "\n",
            "/usr/local/lib/python3.7/dist-packages/sklearn/model_selection/_validation.py:515: DataConversionWarning:\n",
            "\n",
            "A column-vector y was passed when a 1d array was expected. Please change the shape of y to (n_samples,), for example using ravel().\n",
            "\n",
            "/usr/local/lib/python3.7/dist-packages/sklearn/model_selection/_validation.py:515: DataConversionWarning:\n",
            "\n",
            "A column-vector y was passed when a 1d array was expected. Please change the shape of y to (n_samples,), for example using ravel().\n",
            "\n",
            "/usr/local/lib/python3.7/dist-packages/sklearn/model_selection/_validation.py:515: DataConversionWarning:\n",
            "\n",
            "A column-vector y was passed when a 1d array was expected. Please change the shape of y to (n_samples,), for example using ravel().\n",
            "\n",
            "/usr/local/lib/python3.7/dist-packages/sklearn/model_selection/_validation.py:515: DataConversionWarning:\n",
            "\n",
            "A column-vector y was passed when a 1d array was expected. Please change the shape of y to (n_samples,), for example using ravel().\n",
            "\n",
            "/usr/local/lib/python3.7/dist-packages/sklearn/model_selection/_validation.py:515: DataConversionWarning:\n",
            "\n",
            "A column-vector y was passed when a 1d array was expected. Please change the shape of y to (n_samples,), for example using ravel().\n",
            "\n",
            "/usr/local/lib/python3.7/dist-packages/sklearn/model_selection/_validation.py:515: DataConversionWarning:\n",
            "\n",
            "A column-vector y was passed when a 1d array was expected. Please change the shape of y to (n_samples,), for example using ravel().\n",
            "\n",
            "/usr/local/lib/python3.7/dist-packages/sklearn/model_selection/_validation.py:515: DataConversionWarning:\n",
            "\n",
            "A column-vector y was passed when a 1d array was expected. Please change the shape of y to (n_samples,), for example using ravel().\n",
            "\n",
            "/usr/local/lib/python3.7/dist-packages/sklearn/model_selection/_validation.py:515: DataConversionWarning:\n",
            "\n",
            "A column-vector y was passed when a 1d array was expected. Please change the shape of y to (n_samples,), for example using ravel().\n",
            "\n",
            "/usr/local/lib/python3.7/dist-packages/sklearn/model_selection/_validation.py:515: DataConversionWarning:\n",
            "\n",
            "A column-vector y was passed when a 1d array was expected. Please change the shape of y to (n_samples,), for example using ravel().\n",
            "\n",
            "/usr/local/lib/python3.7/dist-packages/sklearn/model_selection/_validation.py:515: DataConversionWarning:\n",
            "\n",
            "A column-vector y was passed when a 1d array was expected. Please change the shape of y to (n_samples,), for example using ravel().\n",
            "\n",
            "/usr/local/lib/python3.7/dist-packages/sklearn/model_selection/_validation.py:515: DataConversionWarning:\n",
            "\n",
            "A column-vector y was passed when a 1d array was expected. Please change the shape of y to (n_samples,), for example using ravel().\n",
            "\n",
            "/usr/local/lib/python3.7/dist-packages/sklearn/model_selection/_validation.py:515: DataConversionWarning:\n",
            "\n",
            "A column-vector y was passed when a 1d array was expected. Please change the shape of y to (n_samples,), for example using ravel().\n",
            "\n",
            "/usr/local/lib/python3.7/dist-packages/sklearn/model_selection/_validation.py:515: DataConversionWarning:\n",
            "\n",
            "A column-vector y was passed when a 1d array was expected. Please change the shape of y to (n_samples,), for example using ravel().\n",
            "\n",
            "/usr/local/lib/python3.7/dist-packages/sklearn/model_selection/_validation.py:515: DataConversionWarning:\n",
            "\n",
            "A column-vector y was passed when a 1d array was expected. Please change the shape of y to (n_samples,), for example using ravel().\n",
            "\n",
            "/usr/local/lib/python3.7/dist-packages/sklearn/model_selection/_validation.py:515: DataConversionWarning:\n",
            "\n",
            "A column-vector y was passed when a 1d array was expected. Please change the shape of y to (n_samples,), for example using ravel().\n",
            "\n",
            "/usr/local/lib/python3.7/dist-packages/sklearn/model_selection/_validation.py:515: DataConversionWarning:\n",
            "\n",
            "A column-vector y was passed when a 1d array was expected. Please change the shape of y to (n_samples,), for example using ravel().\n",
            "\n",
            "/usr/local/lib/python3.7/dist-packages/sklearn/model_selection/_validation.py:515: DataConversionWarning:\n",
            "\n",
            "A column-vector y was passed when a 1d array was expected. Please change the shape of y to (n_samples,), for example using ravel().\n",
            "\n",
            "/usr/local/lib/python3.7/dist-packages/sklearn/model_selection/_validation.py:515: DataConversionWarning:\n",
            "\n",
            "A column-vector y was passed when a 1d array was expected. Please change the shape of y to (n_samples,), for example using ravel().\n",
            "\n",
            "/usr/local/lib/python3.7/dist-packages/sklearn/model_selection/_validation.py:515: DataConversionWarning:\n",
            "\n",
            "A column-vector y was passed when a 1d array was expected. Please change the shape of y to (n_samples,), for example using ravel().\n",
            "\n",
            "/usr/local/lib/python3.7/dist-packages/sklearn/model_selection/_validation.py:515: DataConversionWarning:\n",
            "\n",
            "A column-vector y was passed when a 1d array was expected. Please change the shape of y to (n_samples,), for example using ravel().\n",
            "\n",
            "/usr/local/lib/python3.7/dist-packages/sklearn/model_selection/_validation.py:515: DataConversionWarning:\n",
            "\n",
            "A column-vector y was passed when a 1d array was expected. Please change the shape of y to (n_samples,), for example using ravel().\n",
            "\n",
            "/usr/local/lib/python3.7/dist-packages/sklearn/model_selection/_validation.py:515: DataConversionWarning:\n",
            "\n",
            "A column-vector y was passed when a 1d array was expected. Please change the shape of y to (n_samples,), for example using ravel().\n",
            "\n",
            "/usr/local/lib/python3.7/dist-packages/sklearn/model_selection/_validation.py:515: DataConversionWarning:\n",
            "\n",
            "A column-vector y was passed when a 1d array was expected. Please change the shape of y to (n_samples,), for example using ravel().\n",
            "\n",
            "/usr/local/lib/python3.7/dist-packages/sklearn/model_selection/_validation.py:515: DataConversionWarning:\n",
            "\n",
            "A column-vector y was passed when a 1d array was expected. Please change the shape of y to (n_samples,), for example using ravel().\n",
            "\n",
            "/usr/local/lib/python3.7/dist-packages/sklearn/model_selection/_validation.py:515: DataConversionWarning:\n",
            "\n",
            "A column-vector y was passed when a 1d array was expected. Please change the shape of y to (n_samples,), for example using ravel().\n",
            "\n",
            "/usr/local/lib/python3.7/dist-packages/sklearn/model_selection/_validation.py:515: DataConversionWarning:\n",
            "\n",
            "A column-vector y was passed when a 1d array was expected. Please change the shape of y to (n_samples,), for example using ravel().\n",
            "\n",
            "/usr/local/lib/python3.7/dist-packages/sklearn/model_selection/_validation.py:515: DataConversionWarning:\n",
            "\n",
            "A column-vector y was passed when a 1d array was expected. Please change the shape of y to (n_samples,), for example using ravel().\n",
            "\n",
            "/usr/local/lib/python3.7/dist-packages/sklearn/model_selection/_validation.py:515: DataConversionWarning:\n",
            "\n",
            "A column-vector y was passed when a 1d array was expected. Please change the shape of y to (n_samples,), for example using ravel().\n",
            "\n",
            "/usr/local/lib/python3.7/dist-packages/sklearn/model_selection/_validation.py:515: DataConversionWarning:\n",
            "\n",
            "A column-vector y was passed when a 1d array was expected. Please change the shape of y to (n_samples,), for example using ravel().\n",
            "\n",
            "/usr/local/lib/python3.7/dist-packages/sklearn/model_selection/_validation.py:515: DataConversionWarning:\n",
            "\n",
            "A column-vector y was passed when a 1d array was expected. Please change the shape of y to (n_samples,), for example using ravel().\n",
            "\n",
            "/usr/local/lib/python3.7/dist-packages/sklearn/model_selection/_validation.py:515: DataConversionWarning:\n",
            "\n",
            "A column-vector y was passed when a 1d array was expected. Please change the shape of y to (n_samples,), for example using ravel().\n",
            "\n",
            "/usr/local/lib/python3.7/dist-packages/sklearn/model_selection/_validation.py:515: DataConversionWarning:\n",
            "\n",
            "A column-vector y was passed when a 1d array was expected. Please change the shape of y to (n_samples,), for example using ravel().\n",
            "\n",
            "/usr/local/lib/python3.7/dist-packages/sklearn/model_selection/_validation.py:515: DataConversionWarning:\n",
            "\n",
            "A column-vector y was passed when a 1d array was expected. Please change the shape of y to (n_samples,), for example using ravel().\n",
            "\n",
            "/usr/local/lib/python3.7/dist-packages/sklearn/model_selection/_validation.py:515: DataConversionWarning:\n",
            "\n",
            "A column-vector y was passed when a 1d array was expected. Please change the shape of y to (n_samples,), for example using ravel().\n",
            "\n",
            "/usr/local/lib/python3.7/dist-packages/sklearn/model_selection/_validation.py:515: DataConversionWarning:\n",
            "\n",
            "A column-vector y was passed when a 1d array was expected. Please change the shape of y to (n_samples,), for example using ravel().\n",
            "\n",
            "/usr/local/lib/python3.7/dist-packages/sklearn/model_selection/_validation.py:515: DataConversionWarning:\n",
            "\n",
            "A column-vector y was passed when a 1d array was expected. Please change the shape of y to (n_samples,), for example using ravel().\n",
            "\n",
            "/usr/local/lib/python3.7/dist-packages/sklearn/model_selection/_validation.py:515: DataConversionWarning:\n",
            "\n",
            "A column-vector y was passed when a 1d array was expected. Please change the shape of y to (n_samples,), for example using ravel().\n",
            "\n",
            "/usr/local/lib/python3.7/dist-packages/sklearn/model_selection/_search.py:739: DataConversionWarning:\n",
            "\n",
            "A column-vector y was passed when a 1d array was expected. Please change the shape of y to (n_samples,), for example using ravel().\n",
            "\n"
          ],
          "name": "stderr"
        },
        {
          "output_type": "execute_result",
          "data": {
            "text/plain": [
              "{'criterion': 'mse',\n",
              " 'max_depth': 7,\n",
              " 'max_features': 'sqrt',\n",
              " 'n_estimators': 500}"
            ]
          },
          "metadata": {
            "tags": []
          },
          "execution_count": 99
        }
      ]
    },
    {
      "cell_type": "code",
      "metadata": {
        "colab": {
          "base_uri": "https://localhost:8080/"
        },
        "id": "IhX72jQ0-_ZM",
        "outputId": "499e9d07-1e09-4bd5-e748-f4debafa3939"
      },
      "source": [
        "random_forest_tuning = RandomForestRegressor(random_state = 6)\n",
        "random_forest_tuning.fit(x_train, y_train)\n",
        "y_pred = random_forest_tuning.predict(x_test)\n",
        "regression_results(y_test, y_pred)"
      ],
      "execution_count": 100,
      "outputs": [
        {
          "output_type": "stream",
          "text": [
            "/usr/local/lib/python3.7/dist-packages/ipykernel_launcher.py:2: DataConversionWarning:\n",
            "\n",
            "A column-vector y was passed when a 1d array was expected. Please change the shape of y to (n_samples,), for example using ravel().\n",
            "\n"
          ],
          "name": "stderr"
        },
        {
          "output_type": "stream",
          "text": [
            "explained_variance:  0.435\n",
            "r2:  0.431\n",
            "MAE:  0.6203\n",
            "MSE:  0.7373\n",
            "RMSE:  0.8586\n"
          ],
          "name": "stdout"
        },
        {
          "output_type": "execute_result",
          "data": {
            "text/plain": [
              "{'MAE': 0.6203,\n",
              " 'MSE': 0.7373,\n",
              " 'RMSE': 0.8586,\n",
              " 'explained_variance': 0.435,\n",
              " 'r2': 0.431}"
            ]
          },
          "metadata": {
            "tags": []
          },
          "execution_count": 100
        }
      ]
    },
    {
      "cell_type": "code",
      "metadata": {
        "colab": {
          "base_uri": "https://localhost:8080/"
        },
        "id": "XgEIWkGaqsve",
        "outputId": "adca6ca7-ffcb-4502-e10b-8e16419dcd77"
      },
      "source": [
        "y_pred =y_pred.reshape(71,1)\n",
        "error =  abs(y_pred - y_test)\n",
        "rate = error / y_test\n",
        "s_array = rate[[\"Yield\"]].to_numpy()\n",
        "s_array[~np.isfinite(s_array)] = 0\n",
        "s_array.mean()"
      ],
      "execution_count": 101,
      "outputs": [
        {
          "output_type": "execute_result",
          "data": {
            "text/plain": [
              "1.974660862950584"
            ]
          },
          "metadata": {
            "tags": []
          },
          "execution_count": 101
        }
      ]
    },
    {
      "cell_type": "markdown",
      "metadata": {
        "id": "VoBfVxNA_Yox"
      },
      "source": [
        "## Polynomial "
      ]
    },
    {
      "cell_type": "code",
      "metadata": {
        "colab": {
          "base_uri": "https://localhost:8080/"
        },
        "id": "MWgjq3rX_bBK",
        "outputId": "4dc9831e-6c04-47ba-ec3f-ea501a14928b"
      },
      "source": [
        "from sklearn.preprocessing import PolynomialFeatures\n",
        "from sklearn.linear_model import LinearRegression\n",
        "poly_reg = PolynomialFeatures(degree = 3)\n",
        "X_poly = poly_reg.fit_transform(x_train)\n",
        "lin_reg = LinearRegression()\n",
        "lin_reg.fit(X_poly, y_train)\n",
        "y_pred = lin_reg.predict(X_poly)\n",
        "regression_results(y_train, y_pred)"
      ],
      "execution_count": 90,
      "outputs": [
        {
          "output_type": "stream",
          "text": [
            "explained_variance:  1.0\n",
            "r2:  1.0\n",
            "MAE:  0.0\n",
            "MSE:  0.0\n",
            "RMSE:  0.0\n"
          ],
          "name": "stdout"
        },
        {
          "output_type": "execute_result",
          "data": {
            "text/plain": [
              "{'MAE': 0.0, 'MSE': 0.0, 'RMSE': 0.0, 'explained_variance': 1.0, 'r2': 1.0}"
            ]
          },
          "metadata": {
            "tags": []
          },
          "execution_count": 90
        }
      ]
    },
    {
      "cell_type": "code",
      "metadata": {
        "colab": {
          "base_uri": "https://localhost:8080/"
        },
        "id": "Ws4TQUhtWrnF",
        "outputId": "fea1e2a9-5964-470a-d606-a6818e16f4f6"
      },
      "source": [
        "from sklearn.model_selection import GridSearchCV\n",
        "from sklearn.pipeline import Pipeline\n",
        "param_grid = [\n",
        "    {'poly__degree': [2, 3, 4, 5]}\n",
        "  ]\n",
        "pipeline = Pipeline(steps=[('poly', PolynomialFeatures()), ('ridge', Ridge())])\n",
        "grid_search = GridSearchCV(pipeline, param_grid, cv=5,\n",
        "                           scoring='neg_mean_squared_error',\n",
        "                           return_train_score=True)\n",
        "grid_search.fit(x_train, y_train)"
      ],
      "execution_count": 91,
      "outputs": [
        {
          "output_type": "execute_result",
          "data": {
            "text/plain": [
              "GridSearchCV(cv=5, error_score=nan,\n",
              "             estimator=Pipeline(memory=None,\n",
              "                                steps=[('poly',\n",
              "                                        PolynomialFeatures(degree=2,\n",
              "                                                           include_bias=True,\n",
              "                                                           interaction_only=False,\n",
              "                                                           order='C')),\n",
              "                                       ('ridge',\n",
              "                                        Ridge(alpha=1.0, copy_X=True,\n",
              "                                              fit_intercept=True, max_iter=None,\n",
              "                                              normalize=False,\n",
              "                                              random_state=None, solver='auto',\n",
              "                                              tol=0.001))],\n",
              "                                verbose=False),\n",
              "             iid='deprecated', n_jobs=None,\n",
              "             param_grid=[{'poly__degree': [2, 3, 4, 5]}],\n",
              "             pre_dispatch='2*n_jobs', refit=True, return_train_score=True,\n",
              "             scoring='neg_mean_squared_error', verbose=0)"
            ]
          },
          "metadata": {
            "tags": []
          },
          "execution_count": 91
        }
      ]
    },
    {
      "cell_type": "code",
      "metadata": {
        "colab": {
          "base_uri": "https://localhost:8080/"
        },
        "id": "_wCGyflkbQuX",
        "outputId": "6e0c7694-fd54-4173-a74f-93c3058c8b6e"
      },
      "source": [
        "# Evaluating the model on the train set\n",
        "y_pred = grid_search.predict(x_train)\n",
        "regression_results(y_train, y_pred)\n",
        "# Evaluating the model on the validation set \n",
        "y_pred = grid_search.predict(x_val)\n",
        "regression_results(y_val, y_pred)\n",
        "# Evaluating the model on the vtest set\n",
        "y_pred = grid_search.predict(x_test)\n",
        "regression_results(y_test, y_pred)"
      ],
      "execution_count": 92,
      "outputs": [
        {
          "output_type": "stream",
          "text": [
            "explained_variance:  0.8363\n",
            "r2:  0.8363\n",
            "MAE:  0.2907\n",
            "MSE:  0.1647\n",
            "RMSE:  0.4058\n",
            "explained_variance:  -0.1531\n",
            "r2:  -0.1676\n",
            "MAE:  0.7124\n",
            "MSE:  0.8925\n",
            "RMSE:  0.9447\n",
            "explained_variance:  0.1375\n",
            "r2:  0.1001\n",
            "MAE:  0.8144\n",
            "MSE:  1.166\n",
            "RMSE:  1.0798\n"
          ],
          "name": "stdout"
        },
        {
          "output_type": "execute_result",
          "data": {
            "text/plain": [
              "{'MAE': 0.8144,\n",
              " 'MSE': 1.166,\n",
              " 'RMSE': 1.0798,\n",
              " 'explained_variance': 0.1375,\n",
              " 'r2': 0.1001}"
            ]
          },
          "metadata": {
            "tags": []
          },
          "execution_count": 92
        }
      ]
    },
    {
      "cell_type": "code",
      "metadata": {
        "id": "8HgD2CZlX3Rv",
        "colab": {
          "base_uri": "https://localhost:8080/"
        },
        "outputId": "954c62ec-8878-487d-ee6a-3c862bb8d6ed"
      },
      "source": [
        "grid_search.best_params_"
      ],
      "execution_count": null,
      "outputs": [
        {
          "output_type": "execute_result",
          "data": {
            "text/plain": [
              "{'poly__degree': 2}"
            ]
          },
          "metadata": {
            "tags": []
          },
          "execution_count": 85
        }
      ]
    },
    {
      "cell_type": "code",
      "metadata": {
        "colab": {
          "base_uri": "https://localhost:8080/"
        },
        "id": "WhVDFzQcpWLV",
        "outputId": "a99f5f35-23e7-42ec-b568-12393a7a78df"
      },
      "source": [
        "y_pred =y_pred.reshape(71,1)\n",
        "error =  abs(y_pred - y_test)\n",
        "rate = error / y_test\n",
        "s_array = rate[[\"Yield\"]].to_numpy()\n",
        "s_array[~np.isfinite(s_array)] = 0\n",
        "s_array.mean()"
      ],
      "execution_count": 93,
      "outputs": [
        {
          "output_type": "execute_result",
          "data": {
            "text/plain": [
              "2.239894388053025"
            ]
          },
          "metadata": {
            "tags": []
          },
          "execution_count": 93
        }
      ]
    },
    {
      "cell_type": "markdown",
      "metadata": {
        "id": "vipWoGhN_sAM"
      },
      "source": [
        "## Kernel"
      ]
    },
    {
      "cell_type": "code",
      "metadata": {
        "colab": {
          "base_uri": "https://localhost:8080/"
        },
        "id": "jELOKdqJf8VI",
        "outputId": "8c6c1cd1-6e48-4f95-b8ac-0778e36ffbcb"
      },
      "source": [
        "from sklearn.kernel_ridge import KernelRidge\n",
        "#import KernelReg as kr\n",
        "clf = KernelRidge(alpha=1.0)\n",
        "clf.fit(x_train, y_train)\n",
        "KernelRidge(alpha=1.0)\n",
        "\n",
        "# Evaluating the model on the train set\n",
        "y_pred_kernel = clf.predict(x_train)\n",
        "regression_results(y_train, y_pred_kernel)\n",
        "# Evaluating the model on the validation set \n",
        "y_pred_kernel = clf.predict(x_val)\n",
        "regression_results(y_val, y_pred_kernel)\n",
        "# Evaluating the model on the vtest set\n",
        "y_pred_kernel = clf.predict(x_test)\n",
        "regression_results(y_test, y_pred_kernel)"
      ],
      "execution_count": 98,
      "outputs": [
        {
          "output_type": "stream",
          "text": [
            "explained_variance:  0.4308\n",
            "r2:  0.4307\n",
            "MAE:  0.5448\n",
            "MSE:  0.5725\n",
            "RMSE:  0.7567\n",
            "explained_variance:  0.3408\n",
            "r2:  0.3408\n",
            "MAE:  0.5507\n",
            "MSE:  0.5039\n",
            "RMSE:  0.7098\n",
            "explained_variance:  0.4491\n",
            "r2:  0.4472\n",
            "MAE:  0.6369\n",
            "MSE:  0.7163\n",
            "RMSE:  0.8463\n"
          ],
          "name": "stdout"
        },
        {
          "output_type": "execute_result",
          "data": {
            "text/plain": [
              "{'MAE': 0.6369,\n",
              " 'MSE': 0.7163,\n",
              " 'RMSE': 0.8463,\n",
              " 'explained_variance': 0.4491,\n",
              " 'r2': 0.4472}"
            ]
          },
          "metadata": {
            "tags": []
          },
          "execution_count": 98
        }
      ]
    },
    {
      "cell_type": "code",
      "metadata": {
        "colab": {
          "base_uri": "https://localhost:8080/"
        },
        "id": "3hSv5TKqpnE1",
        "outputId": "1d0899c6-d361-47b6-de38-3ebcf8e3ba56"
      },
      "source": [
        "y_pred =y_pred_kernel.reshape(71,1)\n",
        "error =  abs(y_pred - y_test)\n",
        "rate = error / y_test\n",
        "s_array = rate[[\"Yield\"]].to_numpy()\n",
        "s_array[~np.isfinite(s_array)] = 0\n",
        "s_array.mean()"
      ],
      "execution_count": 99,
      "outputs": [
        {
          "output_type": "execute_result",
          "data": {
            "text/plain": [
              "0.8813739570940408"
            ]
          },
          "metadata": {
            "tags": []
          },
          "execution_count": 99
        }
      ]
    },
    {
      "cell_type": "markdown",
      "metadata": {
        "id": "ertV1miQ_1us"
      },
      "source": [
        "## Bagging"
      ]
    },
    {
      "cell_type": "code",
      "metadata": {
        "colab": {
          "base_uri": "https://localhost:8080/"
        },
        "id": "iYev84pw_2tQ",
        "outputId": "ce14384b-836d-4ff3-e396-7201d7d81f9f"
      },
      "source": [
        "from sklearn.svm import SVR\n",
        "from sklearn.ensemble import BaggingRegressor\n",
        "\n",
        "regr = BaggingRegressor(base_estimator=SVR(), n_estimators=10, random_state=0).fit(x_train, y_train)\n",
        "\n",
        "# Evaluating the model on the train set\n",
        "y_pred_bag = regr.predict(x_train)\n",
        "regression_results(y_train, y_pred_bag)\n",
        "# Evaluating the model on the validation set \n",
        "y_pred_bag = regr.predict(x_val)\n",
        "regression_results(y_val, y_pred_bag)\n",
        "# Evaluating the model on the vtest set\n",
        "y_pred_bag = regr.predict(x_test)\n",
        "regression_results(y_test, y_pred_bag)"
      ],
      "execution_count": 101,
      "outputs": [
        {
          "output_type": "stream",
          "text": [
            "A column-vector y was passed when a 1d array was expected. Please change the shape of y to (n_samples, ), for example using ravel().\n"
          ],
          "name": "stderr"
        },
        {
          "output_type": "stream",
          "text": [
            "explained_variance:  0.5839\n",
            "r2:  0.583\n",
            "MAE:  0.407\n",
            "MSE:  0.4194\n",
            "RMSE:  0.6476\n",
            "explained_variance:  0.4749\n",
            "r2:  0.4732\n",
            "MAE:  0.4629\n",
            "MSE:  0.4027\n",
            "RMSE:  0.6346\n",
            "explained_variance:  0.3818\n",
            "r2:  0.3619\n",
            "MAE:  0.6246\n",
            "MSE:  0.8267\n",
            "RMSE:  0.9092\n"
          ],
          "name": "stdout"
        },
        {
          "output_type": "execute_result",
          "data": {
            "text/plain": [
              "{'MAE': 0.6246,\n",
              " 'MSE': 0.8267,\n",
              " 'RMSE': 0.9092,\n",
              " 'explained_variance': 0.3818,\n",
              " 'r2': 0.3619}"
            ]
          },
          "metadata": {
            "tags": []
          },
          "execution_count": 101
        }
      ]
    },
    {
      "cell_type": "code",
      "metadata": {
        "id": "NJUvSyU-Z_EP",
        "colab": {
          "base_uri": "https://localhost:8080/"
        },
        "outputId": "6e481d62-282c-4732-93d2-41e797878a6e"
      },
      "source": [
        "y_pred =y_pred_bag.reshape(71,1)\n",
        "error =  abs(y_pred - y_test)\n",
        "rate = error / y_test\n",
        "s_array = rate[[\"Yield\"]].to_numpy()\n",
        "s_array[~np.isfinite(s_array)] = 0\n",
        "s_array.mean()"
      ],
      "execution_count": 102,
      "outputs": [
        {
          "output_type": "execute_result",
          "data": {
            "text/plain": [
              "1.42878346131473"
            ]
          },
          "metadata": {
            "tags": []
          },
          "execution_count": 102
        }
      ]
    },
    {
      "cell_type": "code",
      "metadata": {
        "id": "Kh0f4ZrtY4GQ"
      },
      "source": [
        ""
      ],
      "execution_count": null,
      "outputs": []
    }
  ]
}