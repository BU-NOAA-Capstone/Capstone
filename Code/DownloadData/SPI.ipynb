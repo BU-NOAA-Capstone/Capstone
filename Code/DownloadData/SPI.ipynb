{
 "cells": [
  {
   "cell_type": "code",
   "execution_count": 13,
   "id": "painful-camel",
   "metadata": {},
   "outputs": [],
   "source": [
    "import requests\n",
    "import re\n",
    "import numpy as np\n",
    "import pandas as pd\n",
    "import os"
   ]
  },
  {
   "cell_type": "code",
   "execution_count": 7,
   "id": "civil-training",
   "metadata": {},
   "outputs": [],
   "source": [
    "BASE_URL = 'https://www.ncdc.noaa.gov/monitoring-content/temp-and-precip/drought/nadm/indices/spi/data/'"
   ]
  },
  {
   "cell_type": "code",
   "execution_count": 8,
   "id": "ceramic-property",
   "metadata": {},
   "outputs": [],
   "source": [
    "# Generating list of file names\n",
    "file_name = ['{:02d}mon-spi-us-stn-lower48.txt'.format(i) for i in [1,2,3,6,9,12,24]]"
   ]
  },
  {
   "cell_type": "code",
   "execution_count": 15,
   "id": "proud-difficulty",
   "metadata": {},
   "outputs": [],
   "source": [
    "# Setting variables for saving the file\n",
    "save_path = '../../../../../../../Google Drive/My Drive/Capstone private/SPI/'\n",
    "os.makedirs(save_path, exist_ok=True)"
   ]
  },
  {
   "cell_type": "code",
   "execution_count": 16,
   "id": "indirect-oakland",
   "metadata": {},
   "outputs": [],
   "source": [
    "# Adding the data into a dictionary with key as the file name\n",
    "for n in file_name:\n",
    "    url = BASE_URL + n\n",
    "    req = requests.get(url)\n",
    "    req.raise_for_status()\n",
    "    # save file\n",
    "    with open(save_path+n, 'w') as f:\n",
    "        f.write(req.text)"
   ]
  },
  {
   "cell_type": "code",
   "execution_count": null,
   "id": "upset-master",
   "metadata": {},
   "outputs": [],
   "source": []
  },
  {
   "cell_type": "code",
   "execution_count": null,
   "id": "pending-sauce",
   "metadata": {},
   "outputs": [],
   "source": []
  }
 ],
 "metadata": {
  "kernelspec": {
   "display_name": "Python 3",
   "language": "python",
   "name": "python3"
  },
  "language_info": {
   "codemirror_mode": {
    "name": "ipython",
    "version": 3
   },
   "file_extension": ".py",
   "mimetype": "text/x-python",
   "name": "python",
   "nbconvert_exporter": "python",
   "pygments_lexer": "ipython3",
   "version": "3.8.5"
  }
 },
 "nbformat": 4,
 "nbformat_minor": 5
}
