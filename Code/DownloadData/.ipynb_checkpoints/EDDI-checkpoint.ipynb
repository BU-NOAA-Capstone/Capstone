{
 "cells": [
  {
   "cell_type": "code",
   "execution_count": 1,
   "metadata": {},
   "outputs": [],
   "source": [
    "import requests\n",
    "import re\n",
    "import ftplib\n",
    "import numpy as np\n",
    "import os\n",
    "from tqdm.notebook import tqdm\n",
    "\n",
    "from ftplib import FTP"
   ]
  },
  {
   "cell_type": "markdown",
   "metadata": {},
   "source": [
    "### Code for downloading EDDI files from EDDI FTP server directly"
   ]
  },
  {
   "cell_type": "code",
   "execution_count": 10,
   "metadata": {},
   "outputs": [],
   "source": [
    "BASE_URL = \"ftp2.psl.noaa.gov\"\n",
    "path = ['Projects', 'EDDI', 'CONUS_archive', 'data']\n",
    "start_yr = 2000\n",
    "end_yr = 2020\n",
    "savepath = \"../../../../../../../Google Drive/My Drive/Capstone private/EDDI\""
   ]
  },
  {
   "cell_type": "code",
   "execution_count": 11,
   "metadata": {},
   "outputs": [],
   "source": [
    "ftp = FTP(BASE_URL)"
   ]
  },
  {
   "cell_type": "code",
   "execution_count": 15,
   "metadata": {},
   "outputs": [
    {
     "data": {
      "text/plain": [
       "'230 Login successful.'"
      ]
     },
     "execution_count": 15,
     "metadata": {},
     "output_type": "execute_result"
    }
   ],
   "source": [
    "ftp.login()"
   ]
  },
  {
   "cell_type": "code",
   "execution_count": 16,
   "metadata": {},
   "outputs": [],
   "source": [
    "# Navigating to the data folder\n",
    "for i in path:\n",
    "    ftp.cwd(i)"
   ]
  },
  {
   "cell_type": "code",
   "execution_count": null,
   "metadata": {},
   "outputs": [
    {
     "data": {
      "application/vnd.jupyter.widget-view+json": {
       "model_id": "3f229822f4834d829fac0f7fe78f2388",
       "version_major": 2,
       "version_minor": 0
      },
      "text/plain": [
       "year:   0%|          | 0/21 [00:00<?, ?it/s]"
      ]
     },
     "metadata": {},
     "output_type": "display_data"
    },
    {
     "data": {
      "application/vnd.jupyter.widget-view+json": {
       "model_id": "3e1cc5db89034bb298dc8d202c94108d",
       "version_major": 2,
       "version_minor": 0
      },
      "text/plain": [
       "downloading files for year 2000:   0%|          | 0/8784 [00:00<?, ?it/s]"
      ]
     },
     "metadata": {},
     "output_type": "display_data"
    }
   ],
   "source": [
    "# Nav\n",
    "for year in tqdm(range(start_yr, end_yr + 1), desc=\"year\"):\n",
    "    files = ftp.nlst(str(year))\n",
    "    asc_files = list(filter(lambda x: x.endswith('.asc'), files))\n",
    "    \n",
    "    for file in tqdm(asc_files, desc=f\"downloading files for year {year}\"):\n",
    "        \n",
    "        file_savepath = os.path.join(savepath, file)\n",
    "        os.makedirs(os.path.dirname(file_savepath), exist_ok=True)\n",
    "        \n",
    "        with open(file_savepath, 'wb') as f:\n",
    "            ftp.retrbinary('RETR ' + file, f.write)"
   ]
  }
 ],
 "metadata": {
  "kernelspec": {
   "display_name": "Python 3",
   "language": "python",
   "name": "python3"
  },
  "language_info": {
   "codemirror_mode": {
    "name": "ipython",
    "version": 3
   },
   "file_extension": ".py",
   "mimetype": "text/x-python",
   "name": "python",
   "nbconvert_exporter": "python",
   "pygments_lexer": "ipython3",
   "version": "3.8.5"
  }
 },
 "nbformat": 4,
 "nbformat_minor": 4
}
