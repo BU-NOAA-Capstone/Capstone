{
 "cells": [
  {
   "cell_type": "code",
   "execution_count": 15,
   "id": "adverse-investigation",
   "metadata": {},
   "outputs": [],
   "source": [
    "import requests\n",
    "import json\n",
    "import re\n",
    "import numpy as np"
   ]
  },
  {
   "cell_type": "code",
   "execution_count": 8,
   "id": "designed-williams",
   "metadata": {},
   "outputs": [],
   "source": [
    "url = 'http://data.rcc-acis.org/GridData'\n",
    "# API details http://www.rcc-acis.org/docs_webservices.html#griddata"
   ]
  },
  {
   "cell_type": "code",
   "execution_count": 9,
   "id": "stunning-airplane",
   "metadata": {},
   "outputs": [],
   "source": [
    "headers = {\n",
    "    'content-type': \"application/json\",\n",
    "    'cache-control': \"no-cache\",\n",
    "    }"
   ]
  },
  {
   "cell_type": "markdown",
   "id": "opening-silver",
   "metadata": {},
   "source": [
    "### Average Temperature"
   ]
  },
  {
   "cell_type": "code",
   "execution_count": 21,
   "id": "cardiovascular-indie",
   "metadata": {},
   "outputs": [],
   "source": [
    "# These parameters will give daily avg temp for all lat-lon under NY state for the dates given\n",
    "# params can be generated using http://builder.rcc-acis.org/\n",
    "params = {\"state\":\"ny\",\n",
    "          \"sdate\":\"2020-01-01\",\n",
    "          \"edate\":\"2020-01-10\",\n",
    "          \"grid\":\"1\",\n",
    "          \"meta\": \"ll\",\n",
    "          \"elems\":[{\"name\":\"avgt\",\"interval\":\"dly\",\"duration\":\"dly\",\"units\":\"degreeC\"}]\n",
    "         }"
   ]
  },
  {
   "cell_type": "code",
   "execution_count": 22,
   "id": "naval-liberia",
   "metadata": {},
   "outputs": [],
   "source": [
    "# Generate request\n",
    "req = requests.post(url, data=json.dumps(params), headers=headers)\n",
    "# Raise error (if any)\n",
    "req.raise_for_status()"
   ]
  },
  {
   "cell_type": "code",
   "execution_count": 30,
   "id": "extra-tuesday",
   "metadata": {},
   "outputs": [],
   "source": [
    "# Get it as a json\n",
    "response = req.json()"
   ]
  },
  {
   "cell_type": "code",
   "execution_count": 24,
   "id": "collaborative-violin",
   "metadata": {},
   "outputs": [],
   "source": [
    "data = response['data'][0]\n",
    "date, temps = data"
   ]
  },
  {
   "cell_type": "code",
   "execution_count": 25,
   "id": "mature-culture",
   "metadata": {},
   "outputs": [
    {
     "data": {
      "text/plain": [
       "(111, 192)"
      ]
     },
     "execution_count": 25,
     "metadata": {},
     "output_type": "execute_result"
    }
   ],
   "source": [
    "np.array(temps).shape"
   ]
  },
  {
   "cell_type": "markdown",
   "id": "stretch-lightweight",
   "metadata": {},
   "source": [
    "### Precipitation"
   ]
  },
  {
   "cell_type": "code",
   "execution_count": 26,
   "id": "minus-brush",
   "metadata": {},
   "outputs": [],
   "source": [
    "params_p = {\"state\":\"ny\",\n",
    "            \"sdate\":\"2020-01-01\",\n",
    "            \"edate\":\"2020-01-10\",\n",
    "            \"grid\":\"1\",\n",
    "            \"elems\":[{\n",
    "                \"name\":\"avgt\",\n",
    "                \"interval\":\"dly\",\n",
    "                \"duration\":\"dly\",\n",
    "                \"units\":\"degreeC\"}],\n",
    "            \"meta\":\"ll\",\n",
    "            \"output\":\"json\"\n",
    "           }"
   ]
  },
  {
   "cell_type": "code",
   "execution_count": 27,
   "id": "roman-static",
   "metadata": {},
   "outputs": [],
   "source": [
    "# Generate request\n",
    "req_p = requests.post(url, data=json.dumps(params_p), headers=headers)\n",
    "# Raise error (if any)\n",
    "req_p.raise_for_status()"
   ]
  },
  {
   "cell_type": "code",
   "execution_count": 29,
   "id": "instructional-isolation",
   "metadata": {},
   "outputs": [],
   "source": [
    "# Get it as a json\n",
    "response_p = req_p.json()"
   ]
  },
  {
   "cell_type": "code",
   "execution_count": 31,
   "id": "liked-dress",
   "metadata": {},
   "outputs": [],
   "source": [
    "data_p = response_p['data'][0]\n",
    "date_p, temps_p = data_p"
   ]
  },
  {
   "cell_type": "code",
   "execution_count": 32,
   "id": "helpful-annotation",
   "metadata": {},
   "outputs": [
    {
     "data": {
      "text/plain": [
       "(111, 192)"
      ]
     },
     "execution_count": 32,
     "metadata": {},
     "output_type": "execute_result"
    }
   ],
   "source": [
    "np.array(temps_p).shape"
   ]
  },
  {
   "cell_type": "code",
   "execution_count": null,
   "id": "optional-ordinary",
   "metadata": {},
   "outputs": [],
   "source": []
  }
 ],
 "metadata": {
  "kernelspec": {
   "display_name": "Python 3",
   "language": "python",
   "name": "python3"
  },
  "language_info": {
   "codemirror_mode": {
    "name": "ipython",
    "version": 3
   },
   "file_extension": ".py",
   "mimetype": "text/x-python",
   "name": "python",
   "nbconvert_exporter": "python",
   "pygments_lexer": "ipython3",
   "version": "3.8.5"
  }
 },
 "nbformat": 4,
 "nbformat_minor": 5
}
