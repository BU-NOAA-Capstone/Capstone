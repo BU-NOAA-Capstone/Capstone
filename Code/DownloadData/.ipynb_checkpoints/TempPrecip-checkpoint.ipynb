{
 "cells": [
  {
   "cell_type": "code",
   "execution_count": 53,
   "id": "fitted-saturday",
   "metadata": {},
   "outputs": [],
   "source": [
    "import requests\n",
    "import json\n",
    "import re\n",
    "import numpy as np\n",
    "import os"
   ]
  },
  {
   "cell_type": "code",
   "execution_count": 54,
   "id": "compliant-think",
   "metadata": {},
   "outputs": [],
   "source": [
    "url = 'http://data.rcc-acis.org/GridData'\n",
    "# API details http://www.rcc-acis.org/docs_webservices.html#griddata"
   ]
  },
  {
   "cell_type": "markdown",
   "id": "present-establishment",
   "metadata": {},
   "source": [
    "### Average Temperature and Precipitation"
   ]
  },
  {
   "cell_type": "code",
   "execution_count": 55,
   "id": "iraqi-relations",
   "metadata": {},
   "outputs": [],
   "source": [
    "# Setting variables for params\n",
    "state = \"NY\"\n",
    "start_date_temp = \"2000-01-01\"\n",
    "start_date_pcpn = \"2002-01-01\"\n",
    "end_date = \"2020-12-31\"\n",
    "temp = \"Temp\"\n",
    "pcpn = \"Precip\""
   ]
  },
  {
   "cell_type": "markdown",
   "id": "boxed-center",
   "metadata": {},
   "source": [
    "### Temperature first"
   ]
  },
  {
   "cell_type": "code",
   "execution_count": 39,
   "id": "broke-advancement",
   "metadata": {},
   "outputs": [],
   "source": [
    "# These parameters will give daily avg temp and precipitation value for each county in NY\n",
    "# params can be generated using http://builder.rcc-acis.org/\n",
    "params = {\"state\":state,\n",
    "          \"sdate\":start_date_temp,\n",
    "          \"edate\":end_date,\n",
    "          \"grid\":\"3\",\n",
    "          \"elems\":[\n",
    "              {\"name\":\"avgt\",\n",
    "               \"duration\":\"dly\",\n",
    "               \"area_reduce\":\"county_mean\"\n",
    "              },\n",
    "              {\"name\":\"maxt\",\n",
    "               \"duration\":\"dly\",\n",
    "               \"area_reduce\":\"county_mean\"\n",
    "              },\n",
    "              {\"name\":\"mint\",\n",
    "               \"duration\":\"dly\",\n",
    "               \"area_reduce\":\"county_mean\"\n",
    "              }]\n",
    "         }"
   ]
  },
  {
   "cell_type": "code",
   "execution_count": 40,
   "id": "patient-wiring",
   "metadata": {},
   "outputs": [],
   "source": [
    "# Generate request\n",
    "req = requests.post(url, json=params)\n",
    "# Raise error (if any)\n",
    "req.raise_for_status()"
   ]
  },
  {
   "cell_type": "code",
   "execution_count": 41,
   "id": "entitled-recognition",
   "metadata": {},
   "outputs": [],
   "source": [
    "# Get it as a json\n",
    "response = req.json()"
   ]
  },
  {
   "cell_type": "code",
   "execution_count": 28,
   "id": "composed-radius",
   "metadata": {},
   "outputs": [
    {
     "name": "stdout",
     "output_type": "stream",
     "text": [
      "{'error': \"Unable to open object (object 'pcpn' doesn't exist)\"}\n"
     ]
    }
   ],
   "source": [
    "# print(response)"
   ]
  },
  {
   "cell_type": "markdown",
   "id": "decimal-letter",
   "metadata": {},
   "source": [
    "### Saving the Temperature file"
   ]
  },
  {
   "cell_type": "code",
   "execution_count": 42,
   "id": "faced-harvest",
   "metadata": {},
   "outputs": [
    {
     "data": {
      "text/plain": [
       "'../../../../../../../Google Drive/Shared drives/Capstone Project/Data/TempPrecip/NY_Temp_2000-01-01_2020-12-31'"
      ]
     },
     "execution_count": 42,
     "metadata": {},
     "output_type": "execute_result"
    }
   ],
   "source": [
    "save_path = '../../../../../../../Google Drive/Shared drives/Capstone Project/Data/TempPrecip/' \\\n",
    "+ state + '_' + temp + '_' + start_date_temp + '_' + end_date\n",
    "save_path"
   ]
  },
  {
   "cell_type": "code",
   "execution_count": 43,
   "id": "constitutional-toronto",
   "metadata": {},
   "outputs": [],
   "source": [
    "os.makedirs(os.path.dirname(save_path), exist_ok=True)\n",
    "with open(save_path, 'w') as f:\n",
    "    json.dump(responwith open(save_path, 'r') as f:\n",
    "    file = json.load(f)se, f)["
   ]
  },
  {
   "cell_type": "markdown",
   "id": "armed-queensland",
   "metadata": {},
   "source": [
    "### Now Precipitation"
   ]
  },
  {
   "cell_type": "code",
   "execution_count": 56,
   "id": "simple-cotton",
   "metadata": {},
   "outputs": [],
   "source": [
    "# These parameters will give daily avg temp and precipitation value for each county in NY\n",
    "# params can be generated using http://builder.rcc-acis.org/\n",
    "params = {\"state\":state,\n",
    "          \"sdate\":start_date_pcpn,\n",
    "          \"edate\":end_date,\n",
    "          \"grid\":\"3\",\n",
    "          \"elems\":[\n",
    "              {\"name\":\"pcpn\",\n",
    "               \"duration\":\"dly\",\n",
    "               \"area_reduce\":\"county_mean\"\n",
    "              }]\n",
    "         }"
   ]
  },
  {
   "cell_type": "code",
   "execution_count": 57,
   "id": "extended-firewall",
   "metadata": {},
   "outputs": [],
   "source": [
    "# Generate request\n",
    "req = requests.post(url, json=params)\n",
    "# Raise error (if any)\n",
    "req.raise_for_status()"
   ]
  },
  {
   "cell_type": "code",
   "execution_count": 58,
   "id": "mechanical-compiler",
   "metadata": {},
   "outputs": [],
   "source": [
    "# Get it as a json\n",
    "response = req.json()"
   ]
  },
  {
   "cell_type": "code",
   "execution_count": null,
   "id": "mature-arlington",
   "metadata": {},
   "outputs": [],
   "source": [
    "# print(response)"
   ]
  },
  {
   "cell_type": "markdown",
   "id": "personal-anxiety",
   "metadata": {},
   "source": [
    "### Saving the Temperature file"
   ]
  },
  {
   "cell_type": "code",
   "execution_count": 63,
   "id": "occupational-pharmaceutical",
   "metadata": {},
   "outputs": [
    {
     "data": {
      "text/plain": [
       "'../../../../../../../Google Drive/Shared drives/Capstone Project/Data/TempPrecip/NY_Precip_2002-01-01_2020-12-31'"
      ]
     },
     "execution_count": 63,
     "metadata": {},
     "output_type": "execute_result"
    }
   ],
   "source": [
    "save_path = '../../../../../../../Google Drive/Shared drives/Capstone Project/Data/TempPrecip/' \\\n",
    "+ state + '_' + pcpn + '_' + start_date_pcpn + '_' + end_date\n",
    "save_path"
   ]
  },
  {
   "cell_type": "code",
   "execution_count": 61,
   "id": "capital-language",
   "metadata": {},
   "outputs": [],
   "source": [
    "os.makedirs(os.path.dirname(save_path), exist_ok=True)\n",
    "with open(save_path, 'w') as f:\n",
    "    json.dump(response, f)"
   ]
  },
  {
   "cell_type": "code",
   "execution_count": null,
   "id": "alternate-slope",
   "metadata": {},
   "outputs": [],
   "source": []
  },
  {
   "cell_type": "code",
   "execution_count": 65,
   "id": "directed-concentrate",
   "metadata": {},
   "outputs": [],
   "source": [
    "# with open(save_path, 'r') as f:\n",
    "#     precip = json.load(f)"
   ]
  },
  {
   "cell_type": "code",
   "execution_count": null,
   "id": "optional-surface",
   "metadata": {},
   "outputs": [],
   "source": [
    "# [\n",
    "# [\n",
    "#  [date, {couty:precip}]\n",
    "#     [date, {couty:precip}]\n",
    "# ]\n",
    "# ]"
   ]
  },
  {
   "cell_type": "code",
   "execution_count": 76,
   "id": "entitled-quilt",
   "metadata": {},
   "outputs": [
    {
     "data": {
      "text/plain": [
       "dict_values"
      ]
     },
     "execution_count": 76,
     "metadata": {},
     "output_type": "execute_result"
    }
   ],
   "source": [
    "# x = precip.values()"
   ]
  },
  {
   "cell_type": "code",
   "execution_count": null,
   "id": "streaming-field",
   "metadata": {},
   "outputs": [],
   "source": []
  }
 ],
 "metadata": {
  "kernelspec": {
   "display_name": "Python 3",
   "language": "python",
   "name": "python3"
  },
  "language_info": {
   "codemirror_mode": {
    "name": "ipython",
    "version": 3
   },
   "file_extension": ".py",
   "mimetype": "text/x-python",
   "name": "python",
   "nbconvert_exporter": "python",
   "pygments_lexer": "ipython3",
   "version": "3.8.5"
  }
 },
 "nbformat": 4,
 "nbformat_minor": 5
}
