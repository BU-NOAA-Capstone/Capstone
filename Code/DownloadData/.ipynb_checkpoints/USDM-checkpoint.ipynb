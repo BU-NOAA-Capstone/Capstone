{
 "cells": [
  {
   "cell_type": "code",
   "execution_count": 40,
   "id": "pleasant-flash",
   "metadata": {},
   "outputs": [],
   "source": [
    "import requests\n",
    "import re\n",
    "import numpy as np\n",
    "import pandas as pd\n",
    "import os\n",
    "import json"
   ]
  },
  {
   "cell_type": "code",
   "execution_count": 36,
   "id": "square-accounting",
   "metadata": {},
   "outputs": [],
   "source": [
    "Area = 'CountyStatistics'\n",
    "Stat_type = 'GetDroughtSeverityStatisticsByAreaPercent'\n",
    "BASE_URL = f'https://usdmdataservices.unl.edu/api/{Area}/{Stat_type}'"
   ]
  },
  {
   "cell_type": "code",
   "execution_count": 37,
   "id": "patent-latex",
   "metadata": {},
   "outputs": [],
   "source": [
    "# Other parameters\n",
    "params = {\n",
    "    'aoi' : 'total', #Area of interest, FIPS code for NY\n",
    "    'dx' : '1',\n",
    "    'DxLevelThresholdFrom' : '10',\n",
    "    'DxLevelThresholdTo' : '70',\n",
    "    'startdate' : '1/1/2021', # M/D/YYYY\n",
    "    'enddate' : '2/1/2021',\n",
    "    'statisticsType' : '1' # 1 for traditional or 2 for categorical. \n",
    "}\n"
   ]
  },
  {
   "cell_type": "code",
   "execution_count": 38,
   "id": "celtic-accused",
   "metadata": {},
   "outputs": [],
   "source": [
    "req = requests.get(BASE_URL, params=params)"
   ]
  },
  {
   "cell_type": "code",
   "execution_count": 39,
   "id": "fifteen-economics",
   "metadata": {},
   "outputs": [
    {
     "data": {
      "text/plain": [
       "[]"
      ]
     },
     "execution_count": 39,
     "metadata": {},
     "output_type": "execute_result"
    }
   ],
   "source": [
    "req.json()"
   ]
  },
  {
   "cell_type": "code",
   "execution_count": null,
   "id": "seven-criminal",
   "metadata": {},
   "outputs": [],
   "source": [
    "# Saving the file\n",
    "save_path = '../../../../../../../Google Drive/My Drive/Capstone private/USDM/'\n",
    "os.makedirs(save_path, exist_ok=True)"
   ]
  },
  {
   "cell_type": "code",
   "execution_count": null,
   "id": "colored-filename",
   "metadata": {},
   "outputs": [],
   "source": [
    "with open(save_path, 'w') as f:\n",
    "    json.dump(req.json(),f)"
   ]
  }
 ],
 "metadata": {
  "kernelspec": {
   "display_name": "Python 3",
   "language": "python",
   "name": "python3"
  },
  "language_info": {
   "codemirror_mode": {
    "name": "ipython",
    "version": 3
   },
   "file_extension": ".py",
   "mimetype": "text/x-python",
   "name": "python",
   "nbconvert_exporter": "python",
   "pygments_lexer": "ipython3",
   "version": "3.8.5"
  }
 },
 "nbformat": 4,
 "nbformat_minor": 5
}
