{
 "cells": [
  {
   "cell_type": "markdown",
   "metadata": {},
   "source": [
    "### Code for downloading files from NY focused files given by Mike \n",
    "link: ftp://ftp1.esrl.noaa.gov/et6/sat/dlj/DEWS/NY_tseries/"
   ]
  },
  {
   "cell_type": "code",
   "execution_count": 32,
   "metadata": {},
   "outputs": [],
   "source": [
    "import requests\n",
    "import re\n",
    "import ftplib\n",
    "import numpy as np\n",
    "import os\n",
    "from tqdm.notebook import tqdm\n",
    "import netCDF4\n",
    "from netCDF4 import num2date\n",
    "import xarray as xr\n",
    "\n",
    "from ftplib import FTP"
   ]
  },
  {
   "cell_type": "code",
   "execution_count": 3,
   "metadata": {},
   "outputs": [],
   "source": [
    "BASE_URL_NY = \"ftp1.esrl.noaa.gov\"\n",
    "path_ny = ['et6', 'sat', 'dlj', 'DEWS', 'NY_tseries']"
   ]
  },
  {
   "cell_type": "code",
   "execution_count": 4,
   "metadata": {},
   "outputs": [
    {
     "data": {
      "text/plain": [
       "'../../../../../../../Google Drive/Shared drives/Capstone Project/Data/Indices-Mike/'"
      ]
     },
     "execution_count": 4,
     "metadata": {},
     "output_type": "execute_result"
    }
   ],
   "source": [
    "save_path = '../../../../../../../Google Drive/Shared drives/Capstone Project/Data/Indices-Mike/'\n",
    "save_path"
   ]
  },
  {
   "cell_type": "code",
   "execution_count": 5,
   "metadata": {},
   "outputs": [],
   "source": [
    "ftp_ny = FTP(BASE_URL_NY)"
   ]
  },
  {
   "cell_type": "code",
   "execution_count": 6,
   "metadata": {},
   "outputs": [
    {
     "data": {
      "text/plain": [
       "'230 Login successful.'"
      ]
     },
     "execution_count": 6,
     "metadata": {},
     "output_type": "execute_result"
    }
   ],
   "source": [
    "ftp_ny.login()"
   ]
  },
  {
   "cell_type": "code",
   "execution_count": 7,
   "metadata": {},
   "outputs": [],
   "source": [
    "# Navigating to the data folder\n",
    "for i in path_ny:\n",
    "    ftp_ny.cwd(i)"
   ]
  },
  {
   "cell_type": "code",
   "execution_count": 8,
   "metadata": {},
   "outputs": [
    {
     "data": {
      "text/plain": [
       "['eddi_03mn_NY_DEWS_2000-2020.nc',\n",
       " 'eddi_05mn_NY_DEWS_2000-2020.nc',\n",
       " 'eddi_06mn_NY_DEWS_2000-2020.nc',\n",
       " 'pdsi_NY_DEWS_2000-2020.nc',\n",
       " 'spei180d_NY_DEWS_2000-2020.nc',\n",
       " 'spei90d_NY_DEWS_2000-2020.nc',\n",
       " 'spi180d_NY_DEWS_2000-2020.nc',\n",
       " 'spi90d_NY_DEWS_2000-2020.nc']"
      ]
     },
     "execution_count": 8,
     "metadata": {},
     "output_type": "execute_result"
    }
   ],
   "source": [
    "file_names = ftp_ny.nlst()\n",
    "file_names"
   ]
  },
  {
   "cell_type": "code",
   "execution_count": 46,
   "metadata": {},
   "outputs": [
    {
     "data": {
      "text/plain": [
       "'eddi_03mn_NY_DEWS_2000-2020.nc'"
      ]
     },
     "execution_count": 46,
     "metadata": {},
     "output_type": "execute_result"
    }
   ],
   "source": [
    "file_names[0]"
   ]
  },
  {
   "cell_type": "code",
   "execution_count": 47,
   "metadata": {},
   "outputs": [],
   "source": [
    "for file in file_names:\n",
    "#     print(f'file is: {file}')\n",
    "    file_savepath = os.path.join(save_path, file)\n",
    "#     print(f'file save path: {file_savepath}')\n",
    "    os.makedirs(os.path.dirname(file_savepath), exist_ok=True)\n",
    "    \n",
    "    with open(file_savepath, 'wb') as f:\n",
    "        ftp_ny.retrbinary('RETR ' + file, f.write)"
   ]
  },
  {
   "cell_type": "markdown",
   "metadata": {},
   "source": [
    "### Converting the .nc files to .csv files\n",
    "The files are present in 'save_path' and the names of the files are captured in file_names"
   ]
  },
  {
   "cell_type": "code",
   "execution_count": null,
   "metadata": {},
   "outputs": [],
   "source": [
    "ds = xr.open_dataset('/gdrive/Shareddrives/Capstone Project/Data/Indices-Mike/eddi_03mn_NY_DEWS_2000-2020.nc')\n",
    "eddi3 = ds.to_dataframe()"
   ]
  },
  {
   "cell_type": "code",
   "execution_count": 75,
   "metadata": {},
   "outputs": [
    {
     "name": "stdout",
     "output_type": "stream",
     "text": [
      "file is: eddi_03mn_NY_DEWS_2000-2020.nc\n",
      "file path: ../../../../../../../Google Drive/Shared drives/Capstone Project/Data/Indices-Mike/eddi_03mn_NY_DEWS_2000-2020.nc\n"
     ]
    }
   ],
   "source": [
    "# for file in file_names[0:1]:\n",
    "#     print(f'file is: {file}')\n",
    "#     file_path = os.path.join(save_path, file)\n",
    "#     print(f'file path: {file_path}')\n",
    "    \n",
    "#     f = netCDF4.Dataset(file_path)"
   ]
  },
  {
   "cell_type": "code",
   "execution_count": 90,
   "metadata": {},
   "outputs": [
    {
     "data": {
      "text/plain": [
       "8"
      ]
     },
     "execution_count": 90,
     "metadata": {},
     "output_type": "execute_result"
    }
   ],
   "source": [
    "len(file_names)"
   ]
  },
  {
   "cell_type": "code",
   "execution_count": 9,
   "metadata": {},
   "outputs": [
    {
     "name": "stdout",
     "output_type": "stream",
     "text": [
      "file path: ../../../../../../../Google Drive/Shared drives/Capstone Project/Data/Indices-Mike/eddi_03mn_NY_DEWS_2000-2020.nc\n"
     ]
    }
   ],
   "source": [
    "file_path = os.path.join(save_path, file_names[0])\n",
    "print(f'file path: {file_path}')   \n",
    "f = netCDF4.Dataset(file_path)"
   ]
  },
  {
   "cell_type": "code",
   "execution_count": 10,
   "metadata": {},
   "outputs": [
    {
     "data": {
      "text/plain": [
       "<class 'netCDF4._netCDF4.Dataset'>\n",
       "root group (NETCDF3_CLASSIC data model, file format NETCDF3):\n",
       "    DEWS_Region: NY\n",
       "    Contact_Email: Darren.L.Jackson@noaa.gov\n",
       "    Creation_Date: Mar 31, 2021\n",
       "    dimensions(sizes): west_east(65), south_north(38), time(7671)\n",
       "    variables(dimensions): int32 Days(time), float32 Longitude(south_north, west_east), float32 Latitude(south_north, west_east), int16 State_Mask(south_north, west_east), int16 County_Mask(south_north, west_east), int16 EDDI(time, south_north, west_east)\n",
       "    groups: "
      ]
     },
     "execution_count": 10,
     "metadata": {},
     "output_type": "execute_result"
    }
   ],
   "source": [
    "f"
   ]
  },
  {
   "cell_type": "code",
   "execution_count": 11,
   "metadata": {},
   "outputs": [
    {
     "data": {
      "text/plain": [
       "masked_array(\n",
       "  data=[[40.438, 40.438, 40.438, ..., 40.438, 40.438, 40.438],\n",
       "        [40.563, 40.563, 40.563, ..., 40.563, 40.563, 40.563],\n",
       "        [40.688, 40.688, 40.688, ..., 40.688, 40.688, 40.688],\n",
       "        ...,\n",
       "        [44.813, 44.813, 44.813, ..., 44.813, 44.813, 44.813],\n",
       "        [44.938, 44.938, 44.938, ..., 44.938, 44.938, 44.938],\n",
       "        [45.063, 45.063, 45.063, ..., 45.063, 45.063, 45.063]],\n",
       "  mask=False,\n",
       "  fill_value=1e+20,\n",
       "  dtype=float32)"
      ]
     },
     "execution_count": 11,
     "metadata": {},
     "output_type": "execute_result"
    }
   ],
   "source": [
    "f.variables['Latitude'][:]"
   ]
  },
  {
   "cell_type": "code",
   "execution_count": 12,
   "metadata": {},
   "outputs": [
    {
     "name": "stdout",
     "output_type": "stream",
     "text": [
      "Latitude min: 40.4379997253418\n",
      "Latitude max: 45.0629997253418\n"
     ]
    }
   ],
   "source": [
    "print(f'Latitude min: {f.variables[\"Latitude\"][:].min()}')\n",
    "print(f'Latitude max: {f.variables[\"Latitude\"][:].max()}')"
   ]
  },
  {
   "cell_type": "code",
   "execution_count": 13,
   "metadata": {},
   "outputs": [
    {
     "data": {
      "text/plain": [
       "masked_array(\n",
       "  data=[[-79.813, -79.688, -79.563, ..., -72.063, -71.938, -71.813],\n",
       "        [-79.813, -79.688, -79.563, ..., -72.063, -71.938, -71.813],\n",
       "        [-79.813, -79.688, -79.563, ..., -72.063, -71.938, -71.813],\n",
       "        ...,\n",
       "        [-79.813, -79.688, -79.563, ..., -72.063, -71.938, -71.813],\n",
       "        [-79.813, -79.688, -79.563, ..., -72.063, -71.938, -71.813],\n",
       "        [-79.813, -79.688, -79.563, ..., -72.063, -71.938, -71.813]],\n",
       "  mask=False,\n",
       "  fill_value=1e+20,\n",
       "  dtype=float32)"
      ]
     },
     "execution_count": 13,
     "metadata": {},
     "output_type": "execute_result"
    }
   ],
   "source": [
    "f.variables['Longitude'][:]"
   ]
  },
  {
   "cell_type": "code",
   "execution_count": 14,
   "metadata": {},
   "outputs": [
    {
     "name": "stdout",
     "output_type": "stream",
     "text": [
      "Longitude min: -79.81300354003906\n",
      "Longitude max: -71.81300354003906\n"
     ]
    }
   ],
   "source": [
    "print(f'Longitude min: {f.variables[\"Longitude\"][:].min()}')\n",
    "print(f'Longitude max: {f.variables[\"Longitude\"][:].max()}')"
   ]
  },
  {
   "cell_type": "code",
   "execution_count": 15,
   "metadata": {
    "scrolled": true
   },
   "outputs": [
    {
     "data": {
      "text/plain": [
       "masked_array(\n",
       "  data=[[[--, --, --, ..., --, --, --],\n",
       "         [--, --, --, ..., --, --, --],\n",
       "         [--, --, --, ..., --, --, --],\n",
       "         ...,\n",
       "         [--, --, --, ..., --, --, --],\n",
       "         [--, --, --, ..., --, --, --],\n",
       "         [--, --, --, ..., --, --, --]],\n",
       "\n",
       "        [[--, --, --, ..., --, --, --],\n",
       "         [--, --, --, ..., --, --, --],\n",
       "         [--, --, --, ..., --, --, --],\n",
       "         ...,\n",
       "         [--, --, --, ..., --, --, --],\n",
       "         [--, --, --, ..., --, --, --],\n",
       "         [--, --, --, ..., --, --, --]],\n",
       "\n",
       "        [[--, --, --, ..., --, --, --],\n",
       "         [--, --, --, ..., --, --, --],\n",
       "         [--, --, --, ..., --, --, --],\n",
       "         ...,\n",
       "         [--, --, --, ..., --, --, --],\n",
       "         [--, --, --, ..., --, --, --],\n",
       "         [--, --, --, ..., --, --, --]],\n",
       "\n",
       "        ...,\n",
       "\n",
       "        [[--, --, --, ..., --, --, --],\n",
       "         [--, --, --, ..., --, --, --],\n",
       "         [--, --, --, ..., --, --, --],\n",
       "         ...,\n",
       "         [--, --, --, ..., --, --, --],\n",
       "         [--, --, --, ..., --, --, --],\n",
       "         [--, --, --, ..., --, --, --]],\n",
       "\n",
       "        [[--, --, --, ..., --, --, --],\n",
       "         [--, --, --, ..., --, --, --],\n",
       "         [--, --, --, ..., --, --, --],\n",
       "         ...,\n",
       "         [--, --, --, ..., --, --, --],\n",
       "         [--, --, --, ..., --, --, --],\n",
       "         [--, --, --, ..., --, --, --]],\n",
       "\n",
       "        [[--, --, --, ..., --, --, --],\n",
       "         [--, --, --, ..., --, --, --],\n",
       "         [--, --, --, ..., --, --, --],\n",
       "         ...,\n",
       "         [--, --, --, ..., --, --, --],\n",
       "         [--, --, --, ..., --, --, --],\n",
       "         [--, --, --, ..., --, --, --]]],\n",
       "  mask=[[[ True,  True,  True, ...,  True,  True,  True],\n",
       "         [ True,  True,  True, ...,  True,  True,  True],\n",
       "         [ True,  True,  True, ...,  True,  True,  True],\n",
       "         ...,\n",
       "         [ True,  True,  True, ...,  True,  True,  True],\n",
       "         [ True,  True,  True, ...,  True,  True,  True],\n",
       "         [ True,  True,  True, ...,  True,  True,  True]],\n",
       "\n",
       "        [[ True,  True,  True, ...,  True,  True,  True],\n",
       "         [ True,  True,  True, ...,  True,  True,  True],\n",
       "         [ True,  True,  True, ...,  True,  True,  True],\n",
       "         ...,\n",
       "         [ True,  True,  True, ...,  True,  True,  True],\n",
       "         [ True,  True,  True, ...,  True,  True,  True],\n",
       "         [ True,  True,  True, ...,  True,  True,  True]],\n",
       "\n",
       "        [[ True,  True,  True, ...,  True,  True,  True],\n",
       "         [ True,  True,  True, ...,  True,  True,  True],\n",
       "         [ True,  True,  True, ...,  True,  True,  True],\n",
       "         ...,\n",
       "         [ True,  True,  True, ...,  True,  True,  True],\n",
       "         [ True,  True,  True, ...,  True,  True,  True],\n",
       "         [ True,  True,  True, ...,  True,  True,  True]],\n",
       "\n",
       "        ...,\n",
       "\n",
       "        [[ True,  True,  True, ...,  True,  True,  True],\n",
       "         [ True,  True,  True, ...,  True,  True,  True],\n",
       "         [ True,  True,  True, ...,  True,  True,  True],\n",
       "         ...,\n",
       "         [ True,  True,  True, ...,  True,  True,  True],\n",
       "         [ True,  True,  True, ...,  True,  True,  True],\n",
       "         [ True,  True,  True, ...,  True,  True,  True]],\n",
       "\n",
       "        [[ True,  True,  True, ...,  True,  True,  True],\n",
       "         [ True,  True,  True, ...,  True,  True,  True],\n",
       "         [ True,  True,  True, ...,  True,  True,  True],\n",
       "         ...,\n",
       "         [ True,  True,  True, ...,  True,  True,  True],\n",
       "         [ True,  True,  True, ...,  True,  True,  True],\n",
       "         [ True,  True,  True, ...,  True,  True,  True]],\n",
       "\n",
       "        [[ True,  True,  True, ...,  True,  True,  True],\n",
       "         [ True,  True,  True, ...,  True,  True,  True],\n",
       "         [ True,  True,  True, ...,  True,  True,  True],\n",
       "         ...,\n",
       "         [ True,  True,  True, ...,  True,  True,  True],\n",
       "         [ True,  True,  True, ...,  True,  True,  True],\n",
       "         [ True,  True,  True, ...,  True,  True,  True]]],\n",
       "  fill_value=-9000,\n",
       "  dtype=float32)"
      ]
     },
     "execution_count": 15,
     "metadata": {},
     "output_type": "execute_result"
    }
   ],
   "source": [
    "f.variables['EDDI'][:]"
   ]
  },
  {
   "cell_type": "code",
   "execution_count": 16,
   "metadata": {
    "scrolled": true
   },
   "outputs": [
    {
     "data": {
      "text/plain": [
       "array([[[-9000., -9000., -9000., ..., -9000., -9000., -9000.],\n",
       "        [-9000., -9000., -9000., ..., -9000., -9000., -9000.],\n",
       "        [-9000., -9000., -9000., ..., -9000., -9000., -9000.],\n",
       "        ...,\n",
       "        [-9000., -9000., -9000., ..., -9000., -9000., -9000.],\n",
       "        [-9000., -9000., -9000., ..., -9000., -9000., -9000.],\n",
       "        [-9000., -9000., -9000., ..., -9000., -9000., -9000.]],\n",
       "\n",
       "       [[-9000., -9000., -9000., ..., -9000., -9000., -9000.],\n",
       "        [-9000., -9000., -9000., ..., -9000., -9000., -9000.],\n",
       "        [-9000., -9000., -9000., ..., -9000., -9000., -9000.],\n",
       "        ...,\n",
       "        [-9000., -9000., -9000., ..., -9000., -9000., -9000.],\n",
       "        [-9000., -9000., -9000., ..., -9000., -9000., -9000.],\n",
       "        [-9000., -9000., -9000., ..., -9000., -9000., -9000.]],\n",
       "\n",
       "       [[-9000., -9000., -9000., ..., -9000., -9000., -9000.],\n",
       "        [-9000., -9000., -9000., ..., -9000., -9000., -9000.],\n",
       "        [-9000., -9000., -9000., ..., -9000., -9000., -9000.],\n",
       "        ...,\n",
       "        [-9000., -9000., -9000., ..., -9000., -9000., -9000.],\n",
       "        [-9000., -9000., -9000., ..., -9000., -9000., -9000.],\n",
       "        [-9000., -9000., -9000., ..., -9000., -9000., -9000.]],\n",
       "\n",
       "       ...,\n",
       "\n",
       "       [[-9000., -9000., -9000., ..., -9000., -9000., -9000.],\n",
       "        [-9000., -9000., -9000., ..., -9000., -9000., -9000.],\n",
       "        [-9000., -9000., -9000., ..., -9000., -9000., -9000.],\n",
       "        ...,\n",
       "        [-9000., -9000., -9000., ..., -9000., -9000., -9000.],\n",
       "        [-9000., -9000., -9000., ..., -9000., -9000., -9000.],\n",
       "        [-9000., -9000., -9000., ..., -9000., -9000., -9000.]],\n",
       "\n",
       "       [[-9000., -9000., -9000., ..., -9000., -9000., -9000.],\n",
       "        [-9000., -9000., -9000., ..., -9000., -9000., -9000.],\n",
       "        [-9000., -9000., -9000., ..., -9000., -9000., -9000.],\n",
       "        ...,\n",
       "        [-9000., -9000., -9000., ..., -9000., -9000., -9000.],\n",
       "        [-9000., -9000., -9000., ..., -9000., -9000., -9000.],\n",
       "        [-9000., -9000., -9000., ..., -9000., -9000., -9000.]],\n",
       "\n",
       "       [[-9000., -9000., -9000., ..., -9000., -9000., -9000.],\n",
       "        [-9000., -9000., -9000., ..., -9000., -9000., -9000.],\n",
       "        [-9000., -9000., -9000., ..., -9000., -9000., -9000.],\n",
       "        ...,\n",
       "        [-9000., -9000., -9000., ..., -9000., -9000., -9000.],\n",
       "        [-9000., -9000., -9000., ..., -9000., -9000., -9000.],\n",
       "        [-9000., -9000., -9000., ..., -9000., -9000., -9000.]]],\n",
       "      dtype=float32)"
      ]
     },
     "execution_count": 16,
     "metadata": {},
     "output_type": "execute_result"
    }
   ],
   "source": [
    "f.variables['EDDI'][:].data"
   ]
  },
  {
   "cell_type": "code",
   "execution_count": 17,
   "metadata": {},
   "outputs": [
    {
     "data": {
      "text/plain": [
       "-5738.744"
      ]
     },
     "execution_count": 17,
     "metadata": {},
     "output_type": "execute_result"
    }
   ],
   "source": [
    "f.variables['EDDI'][:].data.mean()"
   ]
  },
  {
   "cell_type": "code",
   "execution_count": 18,
   "metadata": {},
   "outputs": [
    {
     "data": {
      "text/plain": [
       "-108734110000.0"
      ]
     },
     "execution_count": 18,
     "metadata": {},
     "output_type": "execute_result"
    }
   ],
   "source": [
    "f.variables['EDDI'][:].data.sum()"
   ]
  },
  {
   "cell_type": "code",
   "execution_count": 20,
   "metadata": {},
   "outputs": [
    {
     "data": {
      "text/plain": [
       "array([-9.0000000e+03, -2.0990002e+00, -2.0870001e+00, -1.6990001e+00,\n",
       "       -1.6860001e+00, -1.4650000e+00, -1.4510001e+00, -1.2910000e+00,\n",
       "       -1.2760000e+00, -1.1500001e+00, -1.1330000e+00, -1.0280000e+00,\n",
       "       -1.0110000e+00, -9.2000002e-01, -9.0200007e-01, -8.2200003e-01,\n",
       "       -8.0200005e-01, -7.3100001e-01, -7.1000004e-01, -6.4600003e-01,\n",
       "       -6.2400001e-01, -5.6500000e-01, -5.4200006e-01, -4.8800004e-01,\n",
       "       -4.6400002e-01, -4.1400003e-01, -3.8800001e-01, -3.4200001e-01,\n",
       "       -3.1500003e-01, -2.7100003e-01, -2.4300002e-01, -2.0200001e-01,\n",
       "       -1.7300001e-01, -1.3400000e-01, -1.0300001e-01, -6.7000002e-02,\n",
       "       -3.4000002e-02,  0.0000000e+00,  3.5000000e-02,  6.7000002e-02,\n",
       "        1.0400000e-01,  1.3500001e-01,  1.7300001e-01,  2.0300001e-01,\n",
       "        2.4400002e-01,  2.7200001e-01,  3.1600001e-01,  3.4200001e-01,\n",
       "        3.8900003e-01,  4.1400003e-01,  4.6500003e-01,  4.8900002e-01,\n",
       "        5.4300004e-01,  5.6600004e-01,  6.2500000e-01,  6.4700001e-01,\n",
       "        7.1100003e-01,  7.3200005e-01,  8.0300003e-01,  8.2300001e-01,\n",
       "        9.0300006e-01,  9.2100006e-01,  1.0120001e+00,  1.0290000e+00,\n",
       "        1.1350001e+00,  1.1510000e+00,  1.2780001e+00,  1.2930001e+00,\n",
       "        1.4530001e+00,  1.4670001e+00,  1.6890001e+00,  1.7010001e+00,\n",
       "        2.0940001e+00,  2.1050000e+00], dtype=float32)"
      ]
     },
     "execution_count": 20,
     "metadata": {},
     "output_type": "execute_result"
    }
   ],
   "source": [
    "np.unique(f.variables['EDDI'][:].data)"
   ]
  },
  {
   "cell_type": "code",
   "execution_count": 21,
   "metadata": {},
   "outputs": [
    {
     "data": {
      "text/plain": [
       "74"
      ]
     },
     "execution_count": 21,
     "metadata": {},
     "output_type": "execute_result"
    }
   ],
   "source": [
    "len(np.unique(f.variables['EDDI'][:].data))"
   ]
  },
  {
   "cell_type": "code",
   "execution_count": 22,
   "metadata": {
    "scrolled": true
   },
   "outputs": [
    {
     "name": "stdout",
     "output_type": "stream",
     "text": [
      "file path: ../../../../../../../Google Drive/Shared drives/Capstone Project/Data/Indices-Mike/eddi_05mn_NY_DEWS_2000-2020.nc\n",
      "<class 'netCDF4._netCDF4.Dataset'>\n",
      "root group (NETCDF3_CLASSIC data model, file format NETCDF3):\n",
      "    DEWS_Region: NY\n",
      "    Contact_Email: Darren.L.Jackson@noaa.gov\n",
      "    Creation_Date: Mar 31, 2021\n",
      "    dimensions(sizes): west_east(65), south_north(38), time(7671)\n",
      "    variables(dimensions): int32 Days(time), float32 Longitude(south_north, west_east), float32 Latitude(south_north, west_east), int16 State_Mask(south_north, west_east), int16 County_Mask(south_north, west_east), int16 EDDI(time, south_north, west_east)\n",
      "    groups: \n",
      "[[[-- -- -- ... -- -- --]\n",
      "  [-- -- -- ... -- -- --]\n",
      "  [-- -- -- ... -- -- --]\n",
      "  ...\n",
      "  [-- -- -- ... -- -- --]\n",
      "  [-- -- -- ... -- -- --]\n",
      "  [-- -- -- ... -- -- --]]\n",
      "\n",
      " [[-- -- -- ... -- -- --]\n",
      "  [-- -- -- ... -- -- --]\n",
      "  [-- -- -- ... -- -- --]\n",
      "  ...\n",
      "  [-- -- -- ... -- -- --]\n",
      "  [-- -- -- ... -- -- --]\n",
      "  [-- -- -- ... -- -- --]]\n",
      "\n",
      " [[-- -- -- ... -- -- --]\n",
      "  [-- -- -- ... -- -- --]\n",
      "  [-- -- -- ... -- -- --]\n",
      "  ...\n",
      "  [-- -- -- ... -- -- --]\n",
      "  [-- -- -- ... -- -- --]\n",
      "  [-- -- -- ... -- -- --]]\n",
      "\n",
      " ...\n",
      "\n",
      " [[-- -- -- ... -- -- --]\n",
      "  [-- -- -- ... -- -- --]\n",
      "  [-- -- -- ... -- -- --]\n",
      "  ...\n",
      "  [-- -- -- ... -- -- --]\n",
      "  [-- -- -- ... -- -- --]\n",
      "  [-- -- -- ... -- -- --]]\n",
      "\n",
      " [[-- -- -- ... -- -- --]\n",
      "  [-- -- -- ... -- -- --]\n",
      "  [-- -- -- ... -- -- --]\n",
      "  ...\n",
      "  [-- -- -- ... -- -- --]\n",
      "  [-- -- -- ... -- -- --]\n",
      "  [-- -- -- ... -- -- --]]\n",
      "\n",
      " [[-- -- -- ... -- -- --]\n",
      "  [-- -- -- ... -- -- --]\n",
      "  [-- -- -- ... -- -- --]\n",
      "  ...\n",
      "  [-- -- -- ... -- -- --]\n",
      "  [-- -- -- ... -- -- --]\n",
      "  [-- -- -- ... -- -- --]]]\n",
      "[[[-9000. -9000. -9000. ... -9000. -9000. -9000.]\n",
      "  [-9000. -9000. -9000. ... -9000. -9000. -9000.]\n",
      "  [-9000. -9000. -9000. ... -9000. -9000. -9000.]\n",
      "  ...\n",
      "  [-9000. -9000. -9000. ... -9000. -9000. -9000.]\n",
      "  [-9000. -9000. -9000. ... -9000. -9000. -9000.]\n",
      "  [-9000. -9000. -9000. ... -9000. -9000. -9000.]]\n",
      "\n",
      " [[-9000. -9000. -9000. ... -9000. -9000. -9000.]\n",
      "  [-9000. -9000. -9000. ... -9000. -9000. -9000.]\n",
      "  [-9000. -9000. -9000. ... -9000. -9000. -9000.]\n",
      "  ...\n",
      "  [-9000. -9000. -9000. ... -9000. -9000. -9000.]\n",
      "  [-9000. -9000. -9000. ... -9000. -9000. -9000.]\n",
      "  [-9000. -9000. -9000. ... -9000. -9000. -9000.]]\n",
      "\n",
      " [[-9000. -9000. -9000. ... -9000. -9000. -9000.]\n",
      "  [-9000. -9000. -9000. ... -9000. -9000. -9000.]\n",
      "  [-9000. -9000. -9000. ... -9000. -9000. -9000.]\n",
      "  ...\n",
      "  [-9000. -9000. -9000. ... -9000. -9000. -9000.]\n",
      "  [-9000. -9000. -9000. ... -9000. -9000. -9000.]\n",
      "  [-9000. -9000. -9000. ... -9000. -9000. -9000.]]\n",
      "\n",
      " ...\n",
      "\n",
      " [[-9000. -9000. -9000. ... -9000. -9000. -9000.]\n",
      "  [-9000. -9000. -9000. ... -9000. -9000. -9000.]\n",
      "  [-9000. -9000. -9000. ... -9000. -9000. -9000.]\n",
      "  ...\n",
      "  [-9000. -9000. -9000. ... -9000. -9000. -9000.]\n",
      "  [-9000. -9000. -9000. ... -9000. -9000. -9000.]\n",
      "  [-9000. -9000. -9000. ... -9000. -9000. -9000.]]\n",
      "\n",
      " [[-9000. -9000. -9000. ... -9000. -9000. -9000.]\n",
      "  [-9000. -9000. -9000. ... -9000. -9000. -9000.]\n",
      "  [-9000. -9000. -9000. ... -9000. -9000. -9000.]\n",
      "  ...\n",
      "  [-9000. -9000. -9000. ... -9000. -9000. -9000.]\n",
      "  [-9000. -9000. -9000. ... -9000. -9000. -9000.]\n",
      "  [-9000. -9000. -9000. ... -9000. -9000. -9000.]]\n",
      "\n",
      " [[-9000. -9000. -9000. ... -9000. -9000. -9000.]\n",
      "  [-9000. -9000. -9000. ... -9000. -9000. -9000.]\n",
      "  [-9000. -9000. -9000. ... -9000. -9000. -9000.]\n",
      "  ...\n",
      "  [-9000. -9000. -9000. ... -9000. -9000. -9000.]\n",
      "  [-9000. -9000. -9000. ... -9000. -9000. -9000.]\n",
      "  [-9000. -9000. -9000. ... -9000. -9000. -9000.]]]\n",
      "[-9.0000000e+03 -2.0990002e+00 -2.0870001e+00 -1.6990001e+00\n",
      " -1.6860001e+00 -1.4650000e+00 -1.4510001e+00 -1.2910000e+00\n",
      " -1.2760000e+00 -1.1500001e+00 -1.1330000e+00 -1.0280000e+00\n",
      " -1.0110000e+00 -9.2000002e-01 -9.0200007e-01 -8.2200003e-01\n",
      " -8.0200005e-01 -7.3100001e-01 -7.1000004e-01 -6.4600003e-01\n",
      " -6.2400001e-01 -5.6500000e-01 -5.4200006e-01 -4.8800004e-01\n",
      " -4.6400002e-01 -4.1400003e-01 -3.8800001e-01 -3.4200001e-01\n",
      " -3.1500003e-01 -2.7100003e-01 -2.4300002e-01 -2.0200001e-01\n",
      " -1.7300001e-01 -1.3400000e-01 -1.0300001e-01 -6.7000002e-02\n",
      " -3.4000002e-02  0.0000000e+00  3.5000000e-02  6.7000002e-02\n",
      "  1.0400000e-01  1.3500001e-01  1.7300001e-01  2.0300001e-01\n",
      "  2.4400002e-01  2.7200001e-01  3.1600001e-01  3.4200001e-01\n",
      "  3.8900003e-01  4.1400003e-01  4.6500003e-01  4.8900002e-01\n",
      "  5.4300004e-01  5.6600004e-01  6.2500000e-01  6.4700001e-01\n",
      "  7.1100003e-01  7.3200005e-01  8.0300003e-01  8.2300001e-01\n",
      "  9.0300006e-01  9.2100006e-01  1.0120001e+00  1.0290000e+00\n",
      "  1.1350001e+00  1.1510000e+00  1.2780001e+00  1.2930001e+00\n",
      "  1.4530001e+00  1.4670001e+00  1.6890001e+00  1.7010001e+00\n",
      "  2.0940001e+00  2.1050000e+00]\n",
      "74\n"
     ]
    }
   ],
   "source": [
    "file_path = os.path.join(save_path, file_names[1])\n",
    "print(f'file path: {file_path}')   \n",
    "f = netCDF4.Dataset(file_path)\n",
    "print(f)\n",
    "print(f.variables['EDDI'][:])\n",
    "print(f.variables['EDDI'][:].data)\n",
    "print(np.unique(f.variables['EDDI'][:].data))\n",
    "print(len(np.unique(f.variables['EDDI'][:].data)))"
   ]
  },
  {
   "cell_type": "code",
   "execution_count": 23,
   "metadata": {
    "scrolled": true
   },
   "outputs": [
    {
     "name": "stdout",
     "output_type": "stream",
     "text": [
      "file path: ../../../../../../../Google Drive/Shared drives/Capstone Project/Data/Indices-Mike/eddi_06mn_NY_DEWS_2000-2020.nc\n",
      "<class 'netCDF4._netCDF4.Dataset'>\n",
      "root group (NETCDF3_CLASSIC data model, file format NETCDF3):\n",
      "    DEWS_Region: NY\n",
      "    Contact_Email: Darren.L.Jackson@noaa.gov\n",
      "    Creation_Date: Mar 31, 2021\n",
      "    dimensions(sizes): west_east(65), south_north(38), time(7671)\n",
      "    variables(dimensions): int32 Days(time), float32 Longitude(south_north, west_east), float32 Latitude(south_north, west_east), int16 State_Mask(south_north, west_east), int16 County_Mask(south_north, west_east), int16 EDDI(time, south_north, west_east)\n",
      "    groups: \n",
      "[[[-- -- -- ... -- -- --]\n",
      "  [-- -- -- ... -- -- --]\n",
      "  [-- -- -- ... -- -- --]\n",
      "  ...\n",
      "  [-- -- -- ... -- -- --]\n",
      "  [-- -- -- ... -- -- --]\n",
      "  [-- -- -- ... -- -- --]]\n",
      "\n",
      " [[-- -- -- ... -- -- --]\n",
      "  [-- -- -- ... -- -- --]\n",
      "  [-- -- -- ... -- -- --]\n",
      "  ...\n",
      "  [-- -- -- ... -- -- --]\n",
      "  [-- -- -- ... -- -- --]\n",
      "  [-- -- -- ... -- -- --]]\n",
      "\n",
      " [[-- -- -- ... -- -- --]\n",
      "  [-- -- -- ... -- -- --]\n",
      "  [-- -- -- ... -- -- --]\n",
      "  ...\n",
      "  [-- -- -- ... -- -- --]\n",
      "  [-- -- -- ... -- -- --]\n",
      "  [-- -- -- ... -- -- --]]\n",
      "\n",
      " ...\n",
      "\n",
      " [[-- -- -- ... -- -- --]\n",
      "  [-- -- -- ... -- -- --]\n",
      "  [-- -- -- ... -- -- --]\n",
      "  ...\n",
      "  [-- -- -- ... -- -- --]\n",
      "  [-- -- -- ... -- -- --]\n",
      "  [-- -- -- ... -- -- --]]\n",
      "\n",
      " [[-- -- -- ... -- -- --]\n",
      "  [-- -- -- ... -- -- --]\n",
      "  [-- -- -- ... -- -- --]\n",
      "  ...\n",
      "  [-- -- -- ... -- -- --]\n",
      "  [-- -- -- ... -- -- --]\n",
      "  [-- -- -- ... -- -- --]]\n",
      "\n",
      " [[-- -- -- ... -- -- --]\n",
      "  [-- -- -- ... -- -- --]\n",
      "  [-- -- -- ... -- -- --]\n",
      "  ...\n",
      "  [-- -- -- ... -- -- --]\n",
      "  [-- -- -- ... -- -- --]\n",
      "  [-- -- -- ... -- -- --]]]\n",
      "[[[-9000. -9000. -9000. ... -9000. -9000. -9000.]\n",
      "  [-9000. -9000. -9000. ... -9000. -9000. -9000.]\n",
      "  [-9000. -9000. -9000. ... -9000. -9000. -9000.]\n",
      "  ...\n",
      "  [-9000. -9000. -9000. ... -9000. -9000. -9000.]\n",
      "  [-9000. -9000. -9000. ... -9000. -9000. -9000.]\n",
      "  [-9000. -9000. -9000. ... -9000. -9000. -9000.]]\n",
      "\n",
      " [[-9000. -9000. -9000. ... -9000. -9000. -9000.]\n",
      "  [-9000. -9000. -9000. ... -9000. -9000. -9000.]\n",
      "  [-9000. -9000. -9000. ... -9000. -9000. -9000.]\n",
      "  ...\n",
      "  [-9000. -9000. -9000. ... -9000. -9000. -9000.]\n",
      "  [-9000. -9000. -9000. ... -9000. -9000. -9000.]\n",
      "  [-9000. -9000. -9000. ... -9000. -9000. -9000.]]\n",
      "\n",
      " [[-9000. -9000. -9000. ... -9000. -9000. -9000.]\n",
      "  [-9000. -9000. -9000. ... -9000. -9000. -9000.]\n",
      "  [-9000. -9000. -9000. ... -9000. -9000. -9000.]\n",
      "  ...\n",
      "  [-9000. -9000. -9000. ... -9000. -9000. -9000.]\n",
      "  [-9000. -9000. -9000. ... -9000. -9000. -9000.]\n",
      "  [-9000. -9000. -9000. ... -9000. -9000. -9000.]]\n",
      "\n",
      " ...\n",
      "\n",
      " [[-9000. -9000. -9000. ... -9000. -9000. -9000.]\n",
      "  [-9000. -9000. -9000. ... -9000. -9000. -9000.]\n",
      "  [-9000. -9000. -9000. ... -9000. -9000. -9000.]\n",
      "  ...\n",
      "  [-9000. -9000. -9000. ... -9000. -9000. -9000.]\n",
      "  [-9000. -9000. -9000. ... -9000. -9000. -9000.]\n",
      "  [-9000. -9000. -9000. ... -9000. -9000. -9000.]]\n",
      "\n",
      " [[-9000. -9000. -9000. ... -9000. -9000. -9000.]\n",
      "  [-9000. -9000. -9000. ... -9000. -9000. -9000.]\n",
      "  [-9000. -9000. -9000. ... -9000. -9000. -9000.]\n",
      "  ...\n",
      "  [-9000. -9000. -9000. ... -9000. -9000. -9000.]\n",
      "  [-9000. -9000. -9000. ... -9000. -9000. -9000.]\n",
      "  [-9000. -9000. -9000. ... -9000. -9000. -9000.]]\n",
      "\n",
      " [[-9000. -9000. -9000. ... -9000. -9000. -9000.]\n",
      "  [-9000. -9000. -9000. ... -9000. -9000. -9000.]\n",
      "  [-9000. -9000. -9000. ... -9000. -9000. -9000.]\n",
      "  ...\n",
      "  [-9000. -9000. -9000. ... -9000. -9000. -9000.]\n",
      "  [-9000. -9000. -9000. ... -9000. -9000. -9000.]\n",
      "  [-9000. -9000. -9000. ... -9000. -9000. -9000.]]]\n",
      "[-9.0000000e+03 -2.0990002e+00 -2.0870001e+00 -1.6990001e+00\n",
      " -1.6860001e+00 -1.4650000e+00 -1.4510001e+00 -1.2910000e+00\n",
      " -1.2760000e+00 -1.1500001e+00 -1.1330000e+00 -1.0280000e+00\n",
      " -1.0110000e+00 -9.2000002e-01 -9.0200007e-01 -8.2200003e-01\n",
      " -8.0200005e-01 -7.3100001e-01 -7.1000004e-01 -6.4600003e-01\n",
      " -6.2400001e-01 -5.6500000e-01 -5.4200006e-01 -4.8800004e-01\n",
      " -4.6400002e-01 -4.1400003e-01 -3.8800001e-01 -3.4200001e-01\n",
      " -3.1500003e-01 -2.7100003e-01 -2.4300002e-01 -2.0200001e-01\n",
      " -1.7300001e-01 -1.3400000e-01 -1.0300001e-01 -6.7000002e-02\n",
      " -3.4000002e-02  0.0000000e+00  3.5000000e-02  6.7000002e-02\n",
      "  1.0400000e-01  1.3500001e-01  1.7300001e-01  2.0300001e-01\n",
      "  2.4400002e-01  2.7200001e-01  3.1600001e-01  3.4200001e-01\n",
      "  3.8900003e-01  4.1400003e-01  4.6500003e-01  4.8900002e-01\n",
      "  5.4300004e-01  5.6600004e-01  6.2500000e-01  6.4700001e-01\n",
      "  7.1100003e-01  7.3200005e-01  8.0300003e-01  8.2300001e-01\n",
      "  9.0300006e-01  9.2100006e-01  1.0120001e+00  1.0290000e+00\n",
      "  1.1350001e+00  1.1510000e+00  1.2780001e+00  1.2930001e+00\n",
      "  1.4530001e+00  1.4670001e+00  1.6890001e+00  1.7010001e+00\n",
      "  2.0940001e+00  2.1050000e+00]\n",
      "74\n"
     ]
    }
   ],
   "source": [
    "file_path = os.path.join(save_path, file_names[2])\n",
    "print(f'file path: {file_path}')   \n",
    "f = netCDF4.Dataset(file_path)\n",
    "print(f)\n",
    "print(f.variables['EDDI'][:])\n",
    "print(f.variables['EDDI'][:].data)\n",
    "print(np.unique(f.variables['EDDI'][:].data))\n",
    "print(len(np.unique(f.variables['EDDI'][:].data)))"
   ]
  },
  {
   "cell_type": "code",
   "execution_count": 24,
   "metadata": {
    "scrolled": true
   },
   "outputs": [
    {
     "name": "stdout",
     "output_type": "stream",
     "text": [
      "file path: ../../../../../../../Google Drive/Shared drives/Capstone Project/Data/Indices-Mike/pdsi_NY_DEWS_2000-2020.nc\n",
      "<class 'netCDF4._netCDF4.Dataset'>\n",
      "root group (NETCDF3_CLASSIC data model, file format NETCDF3):\n",
      "    DEWS_Region: NY\n",
      "    Contact_Email: Darren.L.Jackson@noaa.gov\n",
      "    Creation_Date: Apr 1, 2021\n",
      "    dimensions(sizes): west_east(65), south_north(38), time(1533)\n",
      "    variables(dimensions): int32 Days(time), float32 Longitude(south_north, west_east), float32 Latitude(south_north, west_east), int16 State_Mask(south_north, west_east), int16 County_Mask(south_north, west_east), int16 PDSI(time, south_north, west_east)\n",
      "    groups: \n",
      "[[[-- -- -- ... -- -- --]\n",
      "  [-- -- -- ... -- -- --]\n",
      "  [-- -- -- ... -- -- --]\n",
      "  ...\n",
      "  [-- -- -- ... -- -- --]\n",
      "  [-- -- -- ... -- -- --]\n",
      "  [-- -- -- ... -- -- --]]\n",
      "\n",
      " [[-- -- -- ... -- -- --]\n",
      "  [-- -- -- ... -- -- --]\n",
      "  [-- -- -- ... -- -- --]\n",
      "  ...\n",
      "  [-- -- -- ... -- -- --]\n",
      "  [-- -- -- ... -- -- --]\n",
      "  [-- -- -- ... -- -- --]]\n",
      "\n",
      " [[-- -- -- ... -- -- --]\n",
      "  [-- -- -- ... -- -- --]\n",
      "  [-- -- -- ... -- -- --]\n",
      "  ...\n",
      "  [-- -- -- ... -- -- --]\n",
      "  [-- -- -- ... -- -- --]\n",
      "  [-- -- -- ... -- -- --]]\n",
      "\n",
      " ...\n",
      "\n",
      " [[-- -- -- ... -- -- --]\n",
      "  [-- -- -- ... -- -- --]\n",
      "  [-- -- -- ... -- -- --]\n",
      "  ...\n",
      "  [-- -- -- ... -- -- --]\n",
      "  [-- -- -- ... -- -- --]\n",
      "  [-- -- -- ... -- -- --]]\n",
      "\n",
      " [[-- -- -- ... -- -- --]\n",
      "  [-- -- -- ... -- -- --]\n",
      "  [-- -- -- ... -- -- --]\n",
      "  ...\n",
      "  [-- -- -- ... -- -- --]\n",
      "  [-- -- -- ... -- -- --]\n",
      "  [-- -- -- ... -- -- --]]\n",
      "\n",
      " [[-- -- -- ... -- -- --]\n",
      "  [-- -- -- ... -- -- --]\n",
      "  [-- -- -- ... -- -- --]\n",
      "  ...\n",
      "  [-- -- -- ... -- -- --]\n",
      "  [-- -- -- ... -- -- --]\n",
      "  [-- -- -- ... -- -- --]]]\n",
      "[[[-9000. -9000. -9000. ... -9000. -9000. -9000.]\n",
      "  [-9000. -9000. -9000. ... -9000. -9000. -9000.]\n",
      "  [-9000. -9000. -9000. ... -9000. -9000. -9000.]\n",
      "  ...\n",
      "  [-9000. -9000. -9000. ... -9000. -9000. -9000.]\n",
      "  [-9000. -9000. -9000. ... -9000. -9000. -9000.]\n",
      "  [-9000. -9000. -9000. ... -9000. -9000. -9000.]]\n",
      "\n",
      " [[-9000. -9000. -9000. ... -9000. -9000. -9000.]\n",
      "  [-9000. -9000. -9000. ... -9000. -9000. -9000.]\n",
      "  [-9000. -9000. -9000. ... -9000. -9000. -9000.]\n",
      "  ...\n",
      "  [-9000. -9000. -9000. ... -9000. -9000. -9000.]\n",
      "  [-9000. -9000. -9000. ... -9000. -9000. -9000.]\n",
      "  [-9000. -9000. -9000. ... -9000. -9000. -9000.]]\n",
      "\n",
      " [[-9000. -9000. -9000. ... -9000. -9000. -9000.]\n",
      "  [-9000. -9000. -9000. ... -9000. -9000. -9000.]\n",
      "  [-9000. -9000. -9000. ... -9000. -9000. -9000.]\n",
      "  ...\n",
      "  [-9000. -9000. -9000. ... -9000. -9000. -9000.]\n",
      "  [-9000. -9000. -9000. ... -9000. -9000. -9000.]\n",
      "  [-9000. -9000. -9000. ... -9000. -9000. -9000.]]\n",
      "\n",
      " ...\n",
      "\n",
      " [[-9000. -9000. -9000. ... -9000. -9000. -9000.]\n",
      "  [-9000. -9000. -9000. ... -9000. -9000. -9000.]\n",
      "  [-9000. -9000. -9000. ... -9000. -9000. -9000.]\n",
      "  ...\n",
      "  [-9000. -9000. -9000. ... -9000. -9000. -9000.]\n",
      "  [-9000. -9000. -9000. ... -9000. -9000. -9000.]\n",
      "  [-9000. -9000. -9000. ... -9000. -9000. -9000.]]\n",
      "\n",
      " [[-9000. -9000. -9000. ... -9000. -9000. -9000.]\n",
      "  [-9000. -9000. -9000. ... -9000. -9000. -9000.]\n",
      "  [-9000. -9000. -9000. ... -9000. -9000. -9000.]\n",
      "  ...\n",
      "  [-9000. -9000. -9000. ... -9000. -9000. -9000.]\n",
      "  [-9000. -9000. -9000. ... -9000. -9000. -9000.]\n",
      "  [-9000. -9000. -9000. ... -9000. -9000. -9000.]]\n",
      "\n",
      " [[-9000. -9000. -9000. ... -9000. -9000. -9000.]\n",
      "  [-9000. -9000. -9000. ... -9000. -9000. -9000.]\n",
      "  [-9000. -9000. -9000. ... -9000. -9000. -9000.]\n",
      "  ...\n",
      "  [-9000. -9000. -9000. ... -9000. -9000. -9000.]\n",
      "  [-9000. -9000. -9000. ... -9000. -9000. -9000.]\n",
      "  [-9000. -9000. -9000. ... -9000. -9000. -9000.]]]\n",
      "[-9.0000000e+03 -7.8400002e+00 -7.8380003e+00 ...  7.9260006e+00\n",
      "  7.9860005e+00  8.0100002e+00]\n",
      "12685\n"
     ]
    }
   ],
   "source": [
    "file_path = os.path.join(save_path, file_names[3])\n",
    "print(f'file path: {file_path}')   \n",
    "f = netCDF4.Dataset(file_path)\n",
    "print(f)\n",
    "print(f.variables['PDSI'][:])\n",
    "print(f.variables['PDSI'][:].data)\n",
    "print(np.unique(f.variables['PDSI'][:].data))\n",
    "print(len(np.unique(f.variables['PDSI'][:].data)))"
   ]
  },
  {
   "cell_type": "code",
   "execution_count": 25,
   "metadata": {
    "scrolled": true
   },
   "outputs": [
    {
     "name": "stdout",
     "output_type": "stream",
     "text": [
      "file path: ../../../../../../../Google Drive/Shared drives/Capstone Project/Data/Indices-Mike/spei180d_NY_DEWS_2000-2020.nc\n",
      "<class 'netCDF4._netCDF4.Dataset'>\n",
      "root group (NETCDF3_CLASSIC data model, file format NETCDF3):\n",
      "    DEWS_Region: NY\n",
      "    Contact_Email: Darren.L.Jackson@noaa.gov\n",
      "    Creation_Date: Apr 1, 2021\n",
      "    dimensions(sizes): west_east(65), south_north(38), time(1533)\n",
      "    variables(dimensions): int32 Days(time), float32 Longitude(south_north, west_east), float32 Latitude(south_north, west_east), int16 State_Mask(south_north, west_east), int16 County_Mask(south_north, west_east), int16 SPEI(time, south_north, west_east)\n",
      "    groups: \n",
      "[[[-- -- -- ... -- -- --]\n",
      "  [-- -- -- ... -- -- --]\n",
      "  [-- -- -- ... -- -- --]\n",
      "  ...\n",
      "  [-- -- -- ... -- -- --]\n",
      "  [-- -- -- ... -- -- --]\n",
      "  [-- -- -- ... -- -- --]]\n",
      "\n",
      " [[-- -- -- ... -- -- --]\n",
      "  [-- -- -- ... -- -- --]\n",
      "  [-- -- -- ... -- -- --]\n",
      "  ...\n",
      "  [-- -- -- ... -- -- --]\n",
      "  [-- -- -- ... -- -- --]\n",
      "  [-- -- -- ... -- -- --]]\n",
      "\n",
      " [[-- -- -- ... -- -- --]\n",
      "  [-- -- -- ... -- -- --]\n",
      "  [-- -- -- ... -- -- --]\n",
      "  ...\n",
      "  [-- -- -- ... -- -- --]\n",
      "  [-- -- -- ... -- -- --]\n",
      "  [-- -- -- ... -- -- --]]\n",
      "\n",
      " ...\n",
      "\n",
      " [[-- -- -- ... -- -- --]\n",
      "  [-- -- -- ... -- -- --]\n",
      "  [-- -- -- ... -- -- --]\n",
      "  ...\n",
      "  [-- -- -- ... -- -- --]\n",
      "  [-- -- -- ... -- -- --]\n",
      "  [-- -- -- ... -- -- --]]\n",
      "\n",
      " [[-- -- -- ... -- -- --]\n",
      "  [-- -- -- ... -- -- --]\n",
      "  [-- -- -- ... -- -- --]\n",
      "  ...\n",
      "  [-- -- -- ... -- -- --]\n",
      "  [-- -- -- ... -- -- --]\n",
      "  [-- -- -- ... -- -- --]]\n",
      "\n",
      " [[-- -- -- ... -- -- --]\n",
      "  [-- -- -- ... -- -- --]\n",
      "  [-- -- -- ... -- -- --]\n",
      "  ...\n",
      "  [-- -- -- ... -- -- --]\n",
      "  [-- -- -- ... -- -- --]\n",
      "  [-- -- -- ... -- -- --]]]\n",
      "[[[-9000. -9000. -9000. ... -9000. -9000. -9000.]\n",
      "  [-9000. -9000. -9000. ... -9000. -9000. -9000.]\n",
      "  [-9000. -9000. -9000. ... -9000. -9000. -9000.]\n",
      "  ...\n",
      "  [-9000. -9000. -9000. ... -9000. -9000. -9000.]\n",
      "  [-9000. -9000. -9000. ... -9000. -9000. -9000.]\n",
      "  [-9000. -9000. -9000. ... -9000. -9000. -9000.]]\n",
      "\n",
      " [[-9000. -9000. -9000. ... -9000. -9000. -9000.]\n",
      "  [-9000. -9000. -9000. ... -9000. -9000. -9000.]\n",
      "  [-9000. -9000. -9000. ... -9000. -9000. -9000.]\n",
      "  ...\n",
      "  [-9000. -9000. -9000. ... -9000. -9000. -9000.]\n",
      "  [-9000. -9000. -9000. ... -9000. -9000. -9000.]\n",
      "  [-9000. -9000. -9000. ... -9000. -9000. -9000.]]\n",
      "\n",
      " [[-9000. -9000. -9000. ... -9000. -9000. -9000.]\n",
      "  [-9000. -9000. -9000. ... -9000. -9000. -9000.]\n",
      "  [-9000. -9000. -9000. ... -9000. -9000. -9000.]\n",
      "  ...\n",
      "  [-9000. -9000. -9000. ... -9000. -9000. -9000.]\n",
      "  [-9000. -9000. -9000. ... -9000. -9000. -9000.]\n",
      "  [-9000. -9000. -9000. ... -9000. -9000. -9000.]]\n",
      "\n",
      " ...\n",
      "\n",
      " [[-9000. -9000. -9000. ... -9000. -9000. -9000.]\n",
      "  [-9000. -9000. -9000. ... -9000. -9000. -9000.]\n",
      "  [-9000. -9000. -9000. ... -9000. -9000. -9000.]\n",
      "  ...\n",
      "  [-9000. -9000. -9000. ... -9000. -9000. -9000.]\n",
      "  [-9000. -9000. -9000. ... -9000. -9000. -9000.]\n",
      "  [-9000. -9000. -9000. ... -9000. -9000. -9000.]]\n",
      "\n",
      " [[-9000. -9000. -9000. ... -9000. -9000. -9000.]\n",
      "  [-9000. -9000. -9000. ... -9000. -9000. -9000.]\n",
      "  [-9000. -9000. -9000. ... -9000. -9000. -9000.]\n",
      "  ...\n",
      "  [-9000. -9000. -9000. ... -9000. -9000. -9000.]\n",
      "  [-9000. -9000. -9000. ... -9000. -9000. -9000.]\n",
      "  [-9000. -9000. -9000. ... -9000. -9000. -9000.]]\n",
      "\n",
      " [[-9000. -9000. -9000. ... -9000. -9000. -9000.]\n",
      "  [-9000. -9000. -9000. ... -9000. -9000. -9000.]\n",
      "  [-9000. -9000. -9000. ... -9000. -9000. -9000.]\n",
      "  ...\n",
      "  [-9000. -9000. -9000. ... -9000. -9000. -9000.]\n",
      "  [-9000. -9000. -9000. ... -9000. -9000. -9000.]\n",
      "  [-9000. -9000. -9000. ... -9000. -9000. -9000.]]]\n",
      "[-9.0000000e+03 -2.0900002e+00 -2.0460000e+00 ...  2.0400002e+00\n",
      "  2.0460000e+00  2.0900002e+00]\n",
      "3545\n"
     ]
    }
   ],
   "source": [
    "file_path = os.path.join(save_path, file_names[4])\n",
    "print(f'file path: {file_path}')   \n",
    "f = netCDF4.Dataset(file_path)\n",
    "print(f)\n",
    "print(f.variables['SPEI'][:])\n",
    "print(f.variables['SPEI'][:].data)\n",
    "print(np.unique(f.variables['SPEI'][:].data))\n",
    "print(len(np.unique(f.variables['SPEI'][:].data)))"
   ]
  },
  {
   "cell_type": "code",
   "execution_count": 26,
   "metadata": {
    "scrolled": true
   },
   "outputs": [
    {
     "name": "stdout",
     "output_type": "stream",
     "text": [
      "file path: ../../../../../../../Google Drive/Shared drives/Capstone Project/Data/Indices-Mike/spei90d_NY_DEWS_2000-2020.nc\n",
      "<class 'netCDF4._netCDF4.Dataset'>\n",
      "root group (NETCDF3_CLASSIC data model, file format NETCDF3):\n",
      "    DEWS_Region: NY\n",
      "    Contact_Email: Darren.L.Jackson@noaa.gov\n",
      "    Creation_Date: Apr 1, 2021\n",
      "    dimensions(sizes): west_east(65), south_north(38), time(1533)\n",
      "    variables(dimensions): int32 Days(time), float32 Longitude(south_north, west_east), float32 Latitude(south_north, west_east), int16 State_Mask(south_north, west_east), int16 County_Mask(south_north, west_east), int16 SPEI(time, south_north, west_east)\n",
      "    groups: \n",
      "[[[-- -- -- ... -- -- --]\n",
      "  [-- -- -- ... -- -- --]\n",
      "  [-- -- -- ... -- -- --]\n",
      "  ...\n",
      "  [-- -- -- ... -- -- --]\n",
      "  [-- -- -- ... -- -- --]\n",
      "  [-- -- -- ... -- -- --]]\n",
      "\n",
      " [[-- -- -- ... -- -- --]\n",
      "  [-- -- -- ... -- -- --]\n",
      "  [-- -- -- ... -- -- --]\n",
      "  ...\n",
      "  [-- -- -- ... -- -- --]\n",
      "  [-- -- -- ... -- -- --]\n",
      "  [-- -- -- ... -- -- --]]\n",
      "\n",
      " [[-- -- -- ... -- -- --]\n",
      "  [-- -- -- ... -- -- --]\n",
      "  [-- -- -- ... -- -- --]\n",
      "  ...\n",
      "  [-- -- -- ... -- -- --]\n",
      "  [-- -- -- ... -- -- --]\n",
      "  [-- -- -- ... -- -- --]]\n",
      "\n",
      " ...\n",
      "\n",
      " [[-- -- -- ... -- -- --]\n",
      "  [-- -- -- ... -- -- --]\n",
      "  [-- -- -- ... -- -- --]\n",
      "  ...\n",
      "  [-- -- -- ... -- -- --]\n",
      "  [-- -- -- ... -- -- --]\n",
      "  [-- -- -- ... -- -- --]]\n",
      "\n",
      " [[-- -- -- ... -- -- --]\n",
      "  [-- -- -- ... -- -- --]\n",
      "  [-- -- -- ... -- -- --]\n",
      "  ...\n",
      "  [-- -- -- ... -- -- --]\n",
      "  [-- -- -- ... -- -- --]\n",
      "  [-- -- -- ... -- -- --]]\n",
      "\n",
      " [[-- -- -- ... -- -- --]\n",
      "  [-- -- -- ... -- -- --]\n",
      "  [-- -- -- ... -- -- --]\n",
      "  ...\n",
      "  [-- -- -- ... -- -- --]\n",
      "  [-- -- -- ... -- -- --]\n",
      "  [-- -- -- ... -- -- --]]]\n",
      "[[[-9000. -9000. -9000. ... -9000. -9000. -9000.]\n",
      "  [-9000. -9000. -9000. ... -9000. -9000. -9000.]\n",
      "  [-9000. -9000. -9000. ... -9000. -9000. -9000.]\n",
      "  ...\n",
      "  [-9000. -9000. -9000. ... -9000. -9000. -9000.]\n",
      "  [-9000. -9000. -9000. ... -9000. -9000. -9000.]\n",
      "  [-9000. -9000. -9000. ... -9000. -9000. -9000.]]\n",
      "\n",
      " [[-9000. -9000. -9000. ... -9000. -9000. -9000.]\n",
      "  [-9000. -9000. -9000. ... -9000. -9000. -9000.]\n",
      "  [-9000. -9000. -9000. ... -9000. -9000. -9000.]\n",
      "  ...\n",
      "  [-9000. -9000. -9000. ... -9000. -9000. -9000.]\n",
      "  [-9000. -9000. -9000. ... -9000. -9000. -9000.]\n",
      "  [-9000. -9000. -9000. ... -9000. -9000. -9000.]]\n",
      "\n",
      " [[-9000. -9000. -9000. ... -9000. -9000. -9000.]\n",
      "  [-9000. -9000. -9000. ... -9000. -9000. -9000.]\n",
      "  [-9000. -9000. -9000. ... -9000. -9000. -9000.]\n",
      "  ...\n",
      "  [-9000. -9000. -9000. ... -9000. -9000. -9000.]\n",
      "  [-9000. -9000. -9000. ... -9000. -9000. -9000.]\n",
      "  [-9000. -9000. -9000. ... -9000. -9000. -9000.]]\n",
      "\n",
      " ...\n",
      "\n",
      " [[-9000. -9000. -9000. ... -9000. -9000. -9000.]\n",
      "  [-9000. -9000. -9000. ... -9000. -9000. -9000.]\n",
      "  [-9000. -9000. -9000. ... -9000. -9000. -9000.]\n",
      "  ...\n",
      "  [-9000. -9000. -9000. ... -9000. -9000. -9000.]\n",
      "  [-9000. -9000. -9000. ... -9000. -9000. -9000.]\n",
      "  [-9000. -9000. -9000. ... -9000. -9000. -9000.]]\n",
      "\n",
      " [[-9000. -9000. -9000. ... -9000. -9000. -9000.]\n",
      "  [-9000. -9000. -9000. ... -9000. -9000. -9000.]\n",
      "  [-9000. -9000. -9000. ... -9000. -9000. -9000.]\n",
      "  ...\n",
      "  [-9000. -9000. -9000. ... -9000. -9000. -9000.]\n",
      "  [-9000. -9000. -9000. ... -9000. -9000. -9000.]\n",
      "  [-9000. -9000. -9000. ... -9000. -9000. -9000.]]\n",
      "\n",
      " [[-9000. -9000. -9000. ... -9000. -9000. -9000.]\n",
      "  [-9000. -9000. -9000. ... -9000. -9000. -9000.]\n",
      "  [-9000. -9000. -9000. ... -9000. -9000. -9000.]\n",
      "  ...\n",
      "  [-9000. -9000. -9000. ... -9000. -9000. -9000.]\n",
      "  [-9000. -9000. -9000. ... -9000. -9000. -9000.]\n",
      "  [-9000. -9000. -9000. ... -9000. -9000. -9000.]]]\n",
      "[-9.0000000e+03 -2.0900002e+00 -2.0460000e+00 ...  2.0400002e+00\n",
      "  2.0460000e+00  2.0900002e+00]\n",
      "3517\n"
     ]
    }
   ],
   "source": [
    "file_path = os.path.join(save_path, file_names[5])\n",
    "print(f'file path: {file_path}')   \n",
    "f = netCDF4.Dataset(file_path)\n",
    "print(f)\n",
    "print(f.variables['SPEI'][:])\n",
    "print(f.variables['SPEI'][:].data)\n",
    "print(np.unique(f.variables['SPEI'][:].data))\n",
    "print(len(np.unique(f.variables['SPEI'][:].data)))"
   ]
  },
  {
   "cell_type": "code",
   "execution_count": 27,
   "metadata": {
    "scrolled": true
   },
   "outputs": [
    {
     "name": "stdout",
     "output_type": "stream",
     "text": [
      "file path: ../../../../../../../Google Drive/Shared drives/Capstone Project/Data/Indices-Mike/spi180d_NY_DEWS_2000-2020.nc\n",
      "<class 'netCDF4._netCDF4.Dataset'>\n",
      "root group (NETCDF3_CLASSIC data model, file format NETCDF3):\n",
      "    DEWS_Region: NY\n",
      "    Contact_Email: Darren.L.Jackson@noaa.gov\n",
      "    Creation_Date: Mar 31, 2021\n",
      "    dimensions(sizes): west_east(65), south_north(38), time(1533)\n",
      "    variables(dimensions): int32 Days(time), float32 Longitude(south_north, west_east), float32 Latitude(south_north, west_east), int16 State_Mask(south_north, west_east), int16 County_Mask(south_north, west_east), int16 SPI(time, south_north, west_east)\n",
      "    groups: \n",
      "[[[-- -- -- ... -- -- --]\n",
      "  [-- -- -- ... -- -- --]\n",
      "  [-- -- -- ... -- -- --]\n",
      "  ...\n",
      "  [-- -- -- ... -- -- --]\n",
      "  [-- -- -- ... -- -- --]\n",
      "  [-- -- -- ... -- -- --]]\n",
      "\n",
      " [[-- -- -- ... -- -- --]\n",
      "  [-- -- -- ... -- -- --]\n",
      "  [-- -- -- ... -- -- --]\n",
      "  ...\n",
      "  [-- -- -- ... -- -- --]\n",
      "  [-- -- -- ... -- -- --]\n",
      "  [-- -- -- ... -- -- --]]\n",
      "\n",
      " [[-- -- -- ... -- -- --]\n",
      "  [-- -- -- ... -- -- --]\n",
      "  [-- -- -- ... -- -- --]\n",
      "  ...\n",
      "  [-- -- -- ... -- -- --]\n",
      "  [-- -- -- ... -- -- --]\n",
      "  [-- -- -- ... -- -- --]]\n",
      "\n",
      " ...\n",
      "\n",
      " [[-- -- -- ... -- -- --]\n",
      "  [-- -- -- ... -- -- --]\n",
      "  [-- -- -- ... -- -- --]\n",
      "  ...\n",
      "  [-- -- -- ... -- -- --]\n",
      "  [-- -- -- ... -- -- --]\n",
      "  [-- -- -- ... -- -- --]]\n",
      "\n",
      " [[-- -- -- ... -- -- --]\n",
      "  [-- -- -- ... -- -- --]\n",
      "  [-- -- -- ... -- -- --]\n",
      "  ...\n",
      "  [-- -- -- ... -- -- --]\n",
      "  [-- -- -- ... -- -- --]\n",
      "  [-- -- -- ... -- -- --]]\n",
      "\n",
      " [[-- -- -- ... -- -- --]\n",
      "  [-- -- -- ... -- -- --]\n",
      "  [-- -- -- ... -- -- --]\n",
      "  ...\n",
      "  [-- -- -- ... -- -- --]\n",
      "  [-- -- -- ... -- -- --]\n",
      "  [-- -- -- ... -- -- --]]]\n",
      "[[[-9000. -9000. -9000. ... -9000. -9000. -9000.]\n",
      "  [-9000. -9000. -9000. ... -9000. -9000. -9000.]\n",
      "  [-9000. -9000. -9000. ... -9000. -9000. -9000.]\n",
      "  ...\n",
      "  [-9000. -9000. -9000. ... -9000. -9000. -9000.]\n",
      "  [-9000. -9000. -9000. ... -9000. -9000. -9000.]\n",
      "  [-9000. -9000. -9000. ... -9000. -9000. -9000.]]\n",
      "\n",
      " [[-9000. -9000. -9000. ... -9000. -9000. -9000.]\n",
      "  [-9000. -9000. -9000. ... -9000. -9000. -9000.]\n",
      "  [-9000. -9000. -9000. ... -9000. -9000. -9000.]\n",
      "  ...\n",
      "  [-9000. -9000. -9000. ... -9000. -9000. -9000.]\n",
      "  [-9000. -9000. -9000. ... -9000. -9000. -9000.]\n",
      "  [-9000. -9000. -9000. ... -9000. -9000. -9000.]]\n",
      "\n",
      " [[-9000. -9000. -9000. ... -9000. -9000. -9000.]\n",
      "  [-9000. -9000. -9000. ... -9000. -9000. -9000.]\n",
      "  [-9000. -9000. -9000. ... -9000. -9000. -9000.]\n",
      "  ...\n",
      "  [-9000. -9000. -9000. ... -9000. -9000. -9000.]\n",
      "  [-9000. -9000. -9000. ... -9000. -9000. -9000.]\n",
      "  [-9000. -9000. -9000. ... -9000. -9000. -9000.]]\n",
      "\n",
      " ...\n",
      "\n",
      " [[-9000. -9000. -9000. ... -9000. -9000. -9000.]\n",
      "  [-9000. -9000. -9000. ... -9000. -9000. -9000.]\n",
      "  [-9000. -9000. -9000. ... -9000. -9000. -9000.]\n",
      "  ...\n",
      "  [-9000. -9000. -9000. ... -9000. -9000. -9000.]\n",
      "  [-9000. -9000. -9000. ... -9000. -9000. -9000.]\n",
      "  [-9000. -9000. -9000. ... -9000. -9000. -9000.]]\n",
      "\n",
      " [[-9000. -9000. -9000. ... -9000. -9000. -9000.]\n",
      "  [-9000. -9000. -9000. ... -9000. -9000. -9000.]\n",
      "  [-9000. -9000. -9000. ... -9000. -9000. -9000.]\n",
      "  ...\n",
      "  [-9000. -9000. -9000. ... -9000. -9000. -9000.]\n",
      "  [-9000. -9000. -9000. ... -9000. -9000. -9000.]\n",
      "  [-9000. -9000. -9000. ... -9000. -9000. -9000.]]\n",
      "\n",
      " [[-9000. -9000. -9000. ... -9000. -9000. -9000.]\n",
      "  [-9000. -9000. -9000. ... -9000. -9000. -9000.]\n",
      "  [-9000. -9000. -9000. ... -9000. -9000. -9000.]\n",
      "  ...\n",
      "  [-9000. -9000. -9000. ... -9000. -9000. -9000.]\n",
      "  [-9000. -9000. -9000. ... -9000. -9000. -9000.]\n",
      "  [-9000. -9000. -9000. ... -9000. -9000. -9000.]]]\n",
      "[-9.0000000e+03 -2.0900002e+00 -2.0460000e+00 ...  2.0400002e+00\n",
      "  2.0460000e+00  2.0900002e+00]\n",
      "3550\n"
     ]
    }
   ],
   "source": [
    "file_path = os.path.join(save_path, file_names[6])\n",
    "print(f'file path: {file_path}')   \n",
    "f = netCDF4.Dataset(file_path)\n",
    "print(f)\n",
    "print(f.variables['SPI'][:])\n",
    "print(f.variables['SPI'][:].data)\n",
    "print(np.unique(f.variables['SPI'][:].data))\n",
    "print(len(np.unique(f.variables['SPI'][:].data)))"
   ]
  },
  {
   "cell_type": "code",
   "execution_count": 28,
   "metadata": {
    "scrolled": true
   },
   "outputs": [
    {
     "name": "stdout",
     "output_type": "stream",
     "text": [
      "file path: ../../../../../../../Google Drive/Shared drives/Capstone Project/Data/Indices-Mike/spi90d_NY_DEWS_2000-2020.nc\n",
      "<class 'netCDF4._netCDF4.Dataset'>\n",
      "root group (NETCDF3_CLASSIC data model, file format NETCDF3):\n",
      "    DEWS_Region: NY\n",
      "    Contact_Email: Darren.L.Jackson@noaa.gov\n",
      "    Creation_Date: Mar 31, 2021\n",
      "    dimensions(sizes): west_east(65), south_north(38), time(1533)\n",
      "    variables(dimensions): int32 Days(time), float32 Longitude(south_north, west_east), float32 Latitude(south_north, west_east), int16 State_Mask(south_north, west_east), int16 County_Mask(south_north, west_east), int16 SPI(time, south_north, west_east)\n",
      "    groups: \n",
      "[[[-- -- -- ... -- -- --]\n",
      "  [-- -- -- ... -- -- --]\n",
      "  [-- -- -- ... -- -- --]\n",
      "  ...\n",
      "  [-- -- -- ... -- -- --]\n",
      "  [-- -- -- ... -- -- --]\n",
      "  [-- -- -- ... -- -- --]]\n",
      "\n",
      " [[-- -- -- ... -- -- --]\n",
      "  [-- -- -- ... -- -- --]\n",
      "  [-- -- -- ... -- -- --]\n",
      "  ...\n",
      "  [-- -- -- ... -- -- --]\n",
      "  [-- -- -- ... -- -- --]\n",
      "  [-- -- -- ... -- -- --]]\n",
      "\n",
      " [[-- -- -- ... -- -- --]\n",
      "  [-- -- -- ... -- -- --]\n",
      "  [-- -- -- ... -- -- --]\n",
      "  ...\n",
      "  [-- -- -- ... -- -- --]\n",
      "  [-- -- -- ... -- -- --]\n",
      "  [-- -- -- ... -- -- --]]\n",
      "\n",
      " ...\n",
      "\n",
      " [[-- -- -- ... -- -- --]\n",
      "  [-- -- -- ... -- -- --]\n",
      "  [-- -- -- ... -- -- --]\n",
      "  ...\n",
      "  [-- -- -- ... -- -- --]\n",
      "  [-- -- -- ... -- -- --]\n",
      "  [-- -- -- ... -- -- --]]\n",
      "\n",
      " [[-- -- -- ... -- -- --]\n",
      "  [-- -- -- ... -- -- --]\n",
      "  [-- -- -- ... -- -- --]\n",
      "  ...\n",
      "  [-- -- -- ... -- -- --]\n",
      "  [-- -- -- ... -- -- --]\n",
      "  [-- -- -- ... -- -- --]]\n",
      "\n",
      " [[-- -- -- ... -- -- --]\n",
      "  [-- -- -- ... -- -- --]\n",
      "  [-- -- -- ... -- -- --]\n",
      "  ...\n",
      "  [-- -- -- ... -- -- --]\n",
      "  [-- -- -- ... -- -- --]\n",
      "  [-- -- -- ... -- -- --]]]\n",
      "[[[-9000. -9000. -9000. ... -9000. -9000. -9000.]\n",
      "  [-9000. -9000. -9000. ... -9000. -9000. -9000.]\n",
      "  [-9000. -9000. -9000. ... -9000. -9000. -9000.]\n",
      "  ...\n",
      "  [-9000. -9000. -9000. ... -9000. -9000. -9000.]\n",
      "  [-9000. -9000. -9000. ... -9000. -9000. -9000.]\n",
      "  [-9000. -9000. -9000. ... -9000. -9000. -9000.]]\n",
      "\n",
      " [[-9000. -9000. -9000. ... -9000. -9000. -9000.]\n",
      "  [-9000. -9000. -9000. ... -9000. -9000. -9000.]\n",
      "  [-9000. -9000. -9000. ... -9000. -9000. -9000.]\n",
      "  ...\n",
      "  [-9000. -9000. -9000. ... -9000. -9000. -9000.]\n",
      "  [-9000. -9000. -9000. ... -9000. -9000. -9000.]\n",
      "  [-9000. -9000. -9000. ... -9000. -9000. -9000.]]\n",
      "\n",
      " [[-9000. -9000. -9000. ... -9000. -9000. -9000.]\n",
      "  [-9000. -9000. -9000. ... -9000. -9000. -9000.]\n",
      "  [-9000. -9000. -9000. ... -9000. -9000. -9000.]\n",
      "  ...\n",
      "  [-9000. -9000. -9000. ... -9000. -9000. -9000.]\n",
      "  [-9000. -9000. -9000. ... -9000. -9000. -9000.]\n",
      "  [-9000. -9000. -9000. ... -9000. -9000. -9000.]]\n",
      "\n",
      " ...\n",
      "\n",
      " [[-9000. -9000. -9000. ... -9000. -9000. -9000.]\n",
      "  [-9000. -9000. -9000. ... -9000. -9000. -9000.]\n",
      "  [-9000. -9000. -9000. ... -9000. -9000. -9000.]\n",
      "  ...\n",
      "  [-9000. -9000. -9000. ... -9000. -9000. -9000.]\n",
      "  [-9000. -9000. -9000. ... -9000. -9000. -9000.]\n",
      "  [-9000. -9000. -9000. ... -9000. -9000. -9000.]]\n",
      "\n",
      " [[-9000. -9000. -9000. ... -9000. -9000. -9000.]\n",
      "  [-9000. -9000. -9000. ... -9000. -9000. -9000.]\n",
      "  [-9000. -9000. -9000. ... -9000. -9000. -9000.]\n",
      "  ...\n",
      "  [-9000. -9000. -9000. ... -9000. -9000. -9000.]\n",
      "  [-9000. -9000. -9000. ... -9000. -9000. -9000.]\n",
      "  [-9000. -9000. -9000. ... -9000. -9000. -9000.]]\n",
      "\n",
      " [[-9000. -9000. -9000. ... -9000. -9000. -9000.]\n",
      "  [-9000. -9000. -9000. ... -9000. -9000. -9000.]\n",
      "  [-9000. -9000. -9000. ... -9000. -9000. -9000.]\n",
      "  ...\n",
      "  [-9000. -9000. -9000. ... -9000. -9000. -9000.]\n",
      "  [-9000. -9000. -9000. ... -9000. -9000. -9000.]\n",
      "  [-9000. -9000. -9000. ... -9000. -9000. -9000.]]]\n",
      "[-9.0000000e+03 -2.0900002e+00 -2.0460000e+00 ...  2.0400002e+00\n",
      "  2.0460000e+00  2.0900002e+00]\n",
      "3542\n"
     ]
    }
   ],
   "source": [
    "file_path = os.path.join(save_path, file_names[7])\n",
    "print(f'file path: {file_path}')   \n",
    "f = netCDF4.Dataset(file_path)\n",
    "print(f)\n",
    "print(f.variables['SPI'][:])\n",
    "print(f.variables['SPI'][:].data)\n",
    "print(np.unique(f.variables['SPI'][:].data))\n",
    "print(len(np.unique(f.variables['SPI'][:].data)))"
   ]
  },
  {
   "cell_type": "code",
   "execution_count": 29,
   "metadata": {},
   "outputs": [
    {
     "name": "stdout",
     "output_type": "stream",
     "text": [
      "file path: ../../../../../../../Google Drive/Shared drives/Capstone Project/Data/Indices-Mike/eddi_06mn_NY_DEWS_2000-2020.nc\n",
      "<class 'netCDF4._netCDF4.Dataset'>\n",
      "root group (NETCDF3_CLASSIC data model, file format NETCDF3):\n",
      "    DEWS_Region: NY\n",
      "    Contact_Email: Darren.L.Jackson@noaa.gov\n",
      "    Creation_Date: Mar 31, 2021\n",
      "    dimensions(sizes): west_east(65), south_north(38), time(7671)\n",
      "    variables(dimensions): int32 Days(time), float32 Longitude(south_north, west_east), float32 Latitude(south_north, west_east), int16 State_Mask(south_north, west_east), int16 County_Mask(south_north, west_east), int16 EDDI(time, south_north, west_east)\n",
      "    groups: \n",
      "[0 1]\n",
      "2\n",
      "[  0   1   3   5   7   9  11  13  15  17  19  21  23  25  27  29  31  33\n",
      "  35  37  39  41  43  45  47  49  51  53  55  57  59  61  63  65  67  69\n",
      "  71  73  75  77  79  81  83  85  87  89  91  93  95  97  99 101 103 105\n",
      " 107 109 111 113 115 117 119 121 123]\n",
      "63\n"
     ]
    }
   ],
   "source": [
    "# Checking county mask\n",
    "file_path = os.path.join(save_path, file_names[2])\n",
    "print(f'file path: {file_path}')   \n",
    "f = netCDF4.Dataset(file_path)\n",
    "print(f)\n",
    "print(np.unique(f.variables['State_Mask'][:].data))\n",
    "print(len(np.unique(f.variables['State_Mask'][:].data)))\n",
    "print(np.unique(f.variables['County_Mask'][:].data))\n",
    "print(len(np.unique(f.variables['County_Mask'][:].data)))"
   ]
  },
  {
   "cell_type": "code",
   "execution_count": 121,
   "metadata": {},
   "outputs": [
    {
     "data": {
      "text/plain": [
       "array([  0,   1,   3,   5,   7,   9,  11,  13,  15,  17,  19,  21,  23,\n",
       "        25,  27,  29,  31,  33,  35,  37,  39,  41,  43,  45,  47,  49,\n",
       "        51,  53,  55,  57,  59,  61,  63,  65,  67,  69,  71,  73,  75,\n",
       "        77,  79,  81,  83,  85,  87,  89,  91,  93,  95,  97,  99, 101,\n",
       "       103, 105, 107, 109, 111, 113, 115, 117, 119, 121, 123], dtype=int16)"
      ]
     },
     "execution_count": 121,
     "metadata": {},
     "output_type": "execute_result"
    }
   ],
   "source": []
  },
  {
   "cell_type": "code",
   "execution_count": null,
   "metadata": {},
   "outputs": [],
   "source": []
  }
 ],
 "metadata": {
  "kernelspec": {
   "display_name": "Python 3",
   "language": "python",
   "name": "python3"
  },
  "language_info": {
   "codemirror_mode": {
    "name": "ipython",
    "version": 3
   },
   "file_extension": ".py",
   "mimetype": "text/x-python",
   "name": "python",
   "nbconvert_exporter": "python",
   "pygments_lexer": "ipython3",
   "version": "3.8.5"
  }
 },
 "nbformat": 4,
 "nbformat_minor": 4
}
