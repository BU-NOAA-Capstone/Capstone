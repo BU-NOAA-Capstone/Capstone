{
 "cells": [
  {
   "cell_type": "markdown",
   "metadata": {},
   "source": [
    "### Code for downloading files from NY focused files given by Mike \n",
    "link: ftp://ftp1.esrl.noaa.gov/et6/sat/dlj/DEWS/NY_tseries/"
   ]
  },
  {
   "cell_type": "code",
   "execution_count": 38,
   "metadata": {},
   "outputs": [],
   "source": [
    "import requests\n",
    "import re\n",
    "import ftplib\n",
    "import numpy as np\n",
    "import os\n",
    "from tqdm.notebook import tqdm\n",
    "import netCDF4\n",
    "from netCDF4 import num2date\n",
    "import xarray as xr\n",
    "import pandas as pd\n",
    "\n",
    "from ftplib import FTP"
   ]
  },
  {
   "cell_type": "code",
   "execution_count": 3,
   "metadata": {},
   "outputs": [],
   "source": [
    "BASE_URL_NY = \"ftp1.esrl.noaa.gov\"\n",
    "path_ny = ['et6', 'sat', 'dlj', 'DEWS', 'NY_tseries']"
   ]
  },
  {
   "cell_type": "code",
   "execution_count": 4,
   "metadata": {},
   "outputs": [
    {
     "data": {
      "text/plain": [
       "'../../../../../../../Google Drive/Shared drives/Capstone Project/Data/Indices-Mike/'"
      ]
     },
     "execution_count": 4,
     "metadata": {},
     "output_type": "execute_result"
    }
   ],
   "source": [
    "save_path = '../../../../../../../Google Drive/Shared drives/Capstone Project/Data/Indices-Mike/'\n",
    "save_path"
   ]
  },
  {
   "cell_type": "code",
   "execution_count": 5,
   "metadata": {},
   "outputs": [],
   "source": [
    "ftp_ny = FTP(BASE_URL_NY)"
   ]
  },
  {
   "cell_type": "code",
   "execution_count": 6,
   "metadata": {},
   "outputs": [
    {
     "data": {
      "text/plain": [
       "'230 Login successful.'"
      ]
     },
     "execution_count": 6,
     "metadata": {},
     "output_type": "execute_result"
    }
   ],
   "source": [
    "ftp_ny.login()"
   ]
  },
  {
   "cell_type": "code",
   "execution_count": 7,
   "metadata": {},
   "outputs": [],
   "source": [
    "# Navigating to the data folder\n",
    "for i in path_ny:\n",
    "    ftp_ny.cwd(i)"
   ]
  },
  {
   "cell_type": "code",
   "execution_count": 8,
   "metadata": {},
   "outputs": [
    {
     "data": {
      "text/plain": [
       "['eddi_03mn_NY_DEWS_2000-2020.nc',\n",
       " 'eddi_05mn_NY_DEWS_2000-2020.nc',\n",
       " 'eddi_06mn_NY_DEWS_2000-2020.nc',\n",
       " 'pdsi_NY_DEWS_2000-2020.nc',\n",
       " 'spei180d_NY_DEWS_2000-2020.nc',\n",
       " 'spei90d_NY_DEWS_2000-2020.nc',\n",
       " 'spi180d_NY_DEWS_2000-2020.nc',\n",
       " 'spi90d_NY_DEWS_2000-2020.nc']"
      ]
     },
     "execution_count": 8,
     "metadata": {},
     "output_type": "execute_result"
    }
   ],
   "source": [
    "file_names = ftp_ny.nlst()\n",
    "file_names"
   ]
  },
  {
   "cell_type": "code",
   "execution_count": 46,
   "metadata": {},
   "outputs": [
    {
     "data": {
      "text/plain": [
       "'eddi_03mn_NY_DEWS_2000-2020.nc'"
      ]
     },
     "execution_count": 46,
     "metadata": {},
     "output_type": "execute_result"
    }
   ],
   "source": [
    "file_names[0]"
   ]
  },
  {
   "cell_type": "code",
   "execution_count": 47,
   "metadata": {},
   "outputs": [],
   "source": [
    "for file in file_names:\n",
    "#     print(f'file is: {file}')\n",
    "    file_savepath = os.path.join(save_path, file)\n",
    "#     print(f'file save path: {file_savepath}')\n",
    "    os.makedirs(os.path.dirname(file_savepath), exist_ok=True)\n",
    "    \n",
    "    with open(file_savepath, 'wb') as f:\n",
    "        ftp_ny.retrbinary('RETR ' + file, f.write)"
   ]
  },
  {
   "cell_type": "markdown",
   "metadata": {},
   "source": [
    "### Converting the .nc files to .csv files\n",
    "The files are present in 'save_path' and the names of the files are captured in file_names"
   ]
  },
  {
   "cell_type": "code",
   "execution_count": 34,
   "metadata": {},
   "outputs": [
    {
     "name": "stdout",
     "output_type": "stream",
     "text": [
      "file path: ../../../../../../../Google Drive/Shared drives/Capstone Project/Data/Indices-Mike/eddi_03mn_NY_DEWS_2000-2020.nc\n",
      "<class 'netCDF4._netCDF4.Dataset'>\n",
      "root group (NETCDF3_CLASSIC data model, file format NETCDF3):\n",
      "    DEWS_Region: NY\n",
      "    Contact_Email: Darren.L.Jackson@noaa.gov\n",
      "    Creation_Date: Mar 31, 2021\n",
      "    dimensions(sizes): west_east(65), south_north(38), time(7671)\n",
      "    variables(dimensions): int32 Days(time), float32 Longitude(south_north, west_east), float32 Latitude(south_north, west_east), int16 State_Mask(south_north, west_east), int16 County_Mask(south_north, west_east), int16 EDDI(time, south_north, west_east)\n",
      "    groups: \n",
      "[0 1]\n",
      "2\n",
      "[  0   1   3   5   7   9  11  13  15  17  19  21  23  25  27  29  31  33\n",
      "  35  37  39  41  43  45  47  49  51  53  55  57  59  61  63  65  67  69\n",
      "  71  73  75  77  79  81  83  85  87  89  91  93  95  97  99 101 103 105\n",
      " 107 109 111 113 115 117 119 121 123]\n",
      "63\n",
      "[40.438 40.563 40.688 40.813 40.938 41.063 41.188 41.313 41.438 41.563\n",
      " 41.688 41.813 41.938 42.063 42.188 42.313 42.438 42.563 42.688 42.813\n",
      " 42.938 43.063 43.188 43.313 43.438 43.563 43.688 43.813 43.938 44.063\n",
      " 44.188 44.313 44.438 44.563 44.688 44.813 44.938 45.063]\n",
      "38\n",
      "[-79.813 -79.688 -79.563 -79.438 -79.313 -79.188 -79.063 -78.938 -78.813\n",
      " -78.688 -78.563 -78.438 -78.313 -78.188 -78.063 -77.938 -77.813 -77.688\n",
      " -77.563 -77.438 -77.313 -77.188 -77.063 -76.938 -76.813 -76.688 -76.563\n",
      " -76.438 -76.313 -76.188 -76.063 -75.938 -75.813 -75.688 -75.563 -75.438\n",
      " -75.313 -75.188 -75.063 -74.938 -74.813 -74.688 -74.563 -74.438 -74.313\n",
      " -74.188 -74.063 -73.938 -73.813 -73.688 -73.563 -73.438 -73.313 -73.188\n",
      " -73.063 -72.938 -72.813 -72.688 -72.563 -72.438 -72.313 -72.188 -72.063\n",
      " -71.938 -71.813]\n",
      "65\n",
      "[-9.0000000e+03 -2.0990002e+00 -2.0870001e+00 -1.6990001e+00\n",
      " -1.6860001e+00 -1.4650000e+00 -1.4510001e+00 -1.2910000e+00\n",
      " -1.2760000e+00 -1.1500001e+00 -1.1330000e+00 -1.0280000e+00\n",
      " -1.0110000e+00 -9.2000002e-01 -9.0200007e-01 -8.2200003e-01\n",
      " -8.0200005e-01 -7.3100001e-01 -7.1000004e-01 -6.4600003e-01\n",
      " -6.2400001e-01 -5.6500000e-01 -5.4200006e-01 -4.8800004e-01\n",
      " -4.6400002e-01 -4.1400003e-01 -3.8800001e-01 -3.4200001e-01\n",
      " -3.1500003e-01 -2.7100003e-01 -2.4300002e-01 -2.0200001e-01\n",
      " -1.7300001e-01 -1.3400000e-01 -1.0300001e-01 -6.7000002e-02\n",
      " -3.4000002e-02  0.0000000e+00  3.5000000e-02  6.7000002e-02\n",
      "  1.0400000e-01  1.3500001e-01  1.7300001e-01  2.0300001e-01\n",
      "  2.4400002e-01  2.7200001e-01  3.1600001e-01  3.4200001e-01\n",
      "  3.8900003e-01  4.1400003e-01  4.6500003e-01  4.8900002e-01\n",
      "  5.4300004e-01  5.6600004e-01  6.2500000e-01  6.4700001e-01\n",
      "  7.1100003e-01  7.3200005e-01  8.0300003e-01  8.2300001e-01\n",
      "  9.0300006e-01  9.2100006e-01  1.0120001e+00  1.0290000e+00\n",
      "  1.1350001e+00  1.1510000e+00  1.2780001e+00  1.2930001e+00\n",
      "  1.4530001e+00  1.4670001e+00  1.6890001e+00  1.7010001e+00\n",
      "  2.0940001e+00  2.1050000e+00]\n",
      "74\n"
     ]
    }
   ],
   "source": [
    "# Checking the data\n",
    "file_path = os.path.join(save_path, file_names[0])\n",
    "print(f'file path: {file_path}')   \n",
    "f = netCDF4.Dataset(file_path)\n",
    "print(f)\n",
    "print(np.unique(f.variables['State_Mask'][:].data))\n",
    "print(len(np.unique(f.variables['State_Mask'][:].data)))\n",
    "print(np.unique(f.variables['County_Mask'][:].data))\n",
    "print(len(np.unique(f.variables['County_Mask'][:].data)))\n",
    "print(np.unique(f.variables['Latitude'][:].data))\n",
    "print(len(np.unique(f.variables['Latitude'][:].data)))\n",
    "print(np.unique(f.variables['Longitude'][:].data))\n",
    "print(len(np.unique(f.variables['Longitude'][:].data)))\n",
    "print(np.unique(f.variables['EDDI'][:].data))\n",
    "print(len(np.unique(f.variables['EDDI'][:].data)))"
   ]
  },
  {
   "cell_type": "markdown",
   "metadata": {},
   "source": [
    "### Looping through all the files to convert to csv"
   ]
  },
  {
   "cell_type": "code",
   "execution_count": 101,
   "metadata": {},
   "outputs": [
    {
     "data": {
      "text/html": [
       "<div>\n",
       "<style scoped>\n",
       "    .dataframe tbody tr th:only-of-type {\n",
       "        vertical-align: middle;\n",
       "    }\n",
       "\n",
       "    .dataframe tbody tr th {\n",
       "        vertical-align: top;\n",
       "    }\n",
       "\n",
       "    .dataframe thead th {\n",
       "        text-align: right;\n",
       "    }\n",
       "</style>\n",
       "<table border=\"1\" class=\"dataframe\">\n",
       "  <thead>\n",
       "    <tr style=\"text-align: right;\">\n",
       "      <th></th>\n",
       "      <th>fips</th>\n",
       "      <th>county</th>\n",
       "    </tr>\n",
       "  </thead>\n",
       "  <tbody>\n",
       "    <tr>\n",
       "      <th>0</th>\n",
       "      <td>36001</td>\n",
       "      <td>Albany</td>\n",
       "    </tr>\n",
       "    <tr>\n",
       "      <th>1</th>\n",
       "      <td>36003</td>\n",
       "      <td>Allegany</td>\n",
       "    </tr>\n",
       "    <tr>\n",
       "      <th>2</th>\n",
       "      <td>36005</td>\n",
       "      <td>Bronx</td>\n",
       "    </tr>\n",
       "    <tr>\n",
       "      <th>3</th>\n",
       "      <td>36007</td>\n",
       "      <td>Broome</td>\n",
       "    </tr>\n",
       "    <tr>\n",
       "      <th>4</th>\n",
       "      <td>36009</td>\n",
       "      <td>Cattaraugus</td>\n",
       "    </tr>\n",
       "  </tbody>\n",
       "</table>\n",
       "</div>"
      ],
      "text/plain": [
       "    fips       county\n",
       "0  36001       Albany\n",
       "1  36003     Allegany\n",
       "2  36005        Bronx\n",
       "3  36007       Broome\n",
       "4  36009  Cattaraugus"
      ]
     },
     "execution_count": 101,
     "metadata": {},
     "output_type": "execute_result"
    }
   ],
   "source": [
    "# Loading the fips code and county name dataset\n",
    "df_county = pd.read_csv('../../../../../../../Google Drive/Shared drives/Capstone Project/Data/TempPrecip/fips_county.csv')\n",
    "df_county.head()"
   ]
  },
  {
   "cell_type": "code",
   "execution_count": 102,
   "metadata": {},
   "outputs": [],
   "source": [
    "start_date = '1-1-1979'"
   ]
  },
  {
   "cell_type": "code",
   "execution_count": 103,
   "metadata": {},
   "outputs": [
    {
     "name": "stdout",
     "output_type": "stream",
     "text": [
      "file is: eddi_03mn_NY_DEWS_2000-2020.nc\n",
      "file path: ../../../../../../../Google Drive/Shared drives/Capstone Project/Data/Indices-Mike/eddi_03mn_NY_DEWS_2000-2020.nc\n",
      "Saved file path: ../../../../../../../Google Drive/Shared drives/Capstone Project/Data/Indices-Mike/eddi_03mn_NY_DEWS_2000-2020.csv\n",
      "file is: eddi_05mn_NY_DEWS_2000-2020.nc\n",
      "file path: ../../../../../../../Google Drive/Shared drives/Capstone Project/Data/Indices-Mike/eddi_05mn_NY_DEWS_2000-2020.nc\n",
      "Saved file path: ../../../../../../../Google Drive/Shared drives/Capstone Project/Data/Indices-Mike/eddi_05mn_NY_DEWS_2000-2020.csv\n",
      "file is: eddi_06mn_NY_DEWS_2000-2020.nc\n",
      "file path: ../../../../../../../Google Drive/Shared drives/Capstone Project/Data/Indices-Mike/eddi_06mn_NY_DEWS_2000-2020.nc\n",
      "Saved file path: ../../../../../../../Google Drive/Shared drives/Capstone Project/Data/Indices-Mike/eddi_06mn_NY_DEWS_2000-2020.csv\n",
      "file is: pdsi_NY_DEWS_2000-2020.nc\n",
      "file path: ../../../../../../../Google Drive/Shared drives/Capstone Project/Data/Indices-Mike/pdsi_NY_DEWS_2000-2020.nc\n",
      "Saved file path: ../../../../../../../Google Drive/Shared drives/Capstone Project/Data/Indices-Mike/pdsi_NY_DEWS_2000-2020.csv\n",
      "file is: spei180d_NY_DEWS_2000-2020.nc\n",
      "file path: ../../../../../../../Google Drive/Shared drives/Capstone Project/Data/Indices-Mike/spei180d_NY_DEWS_2000-2020.nc\n",
      "Saved file path: ../../../../../../../Google Drive/Shared drives/Capstone Project/Data/Indices-Mike/spei180d_NY_DEWS_2000-2020.csv\n",
      "file is: spei90d_NY_DEWS_2000-2020.nc\n",
      "file path: ../../../../../../../Google Drive/Shared drives/Capstone Project/Data/Indices-Mike/spei90d_NY_DEWS_2000-2020.nc\n",
      "Saved file path: ../../../../../../../Google Drive/Shared drives/Capstone Project/Data/Indices-Mike/spei90d_NY_DEWS_2000-2020.csv\n",
      "file is: spi180d_NY_DEWS_2000-2020.nc\n",
      "file path: ../../../../../../../Google Drive/Shared drives/Capstone Project/Data/Indices-Mike/spi180d_NY_DEWS_2000-2020.nc\n",
      "Saved file path: ../../../../../../../Google Drive/Shared drives/Capstone Project/Data/Indices-Mike/spi180d_NY_DEWS_2000-2020.csv\n",
      "file is: spi90d_NY_DEWS_2000-2020.nc\n",
      "file path: ../../../../../../../Google Drive/Shared drives/Capstone Project/Data/Indices-Mike/spi90d_NY_DEWS_2000-2020.nc\n",
      "Saved file path: ../../../../../../../Google Drive/Shared drives/Capstone Project/Data/Indices-Mike/spi90d_NY_DEWS_2000-2020.csv\n"
     ]
    }
   ],
   "source": [
    "for file in file_names:\n",
    "    print(f'file is: {file}')\n",
    "    file_path = os.path.join(save_path, file)\n",
    "    print(f'file path: {file_path}')\n",
    "    \n",
    "    ds = xr.open_dataset(file_path)\n",
    "    df = ds.to_dataframe()\n",
    "    \n",
    "    # Selecting only NY state, State_Mask = 1 for NY and 0 for others\n",
    "    df = df[df.State_Mask != 0]\n",
    "    df.reset_index(inplace=True)\n",
    "    \n",
    "    # Creating the fips code from the last digits of fips code\n",
    "    df['fips'] = df['County_Mask'] + 36000\n",
    "    \n",
    "    # Getting county names\n",
    "    df = df.merge(df_county,how='left',on='fips')\n",
    "    df['county'] = df['county'].str.lower()\n",
    "    \n",
    "    # Convert dates\n",
    "    df['Date'] = pd.to_datetime(start_date) #base date\n",
    "    df['Date'] = df['Date'] + pd.to_timedelta((df['Days']-1),unit='d')\n",
    "    \n",
    "    # Save the files as csv\n",
    "    df.to_csv(path_or_buf = save_path + file[:-3] + '.csv', index=False)\n",
    "    print(f'Saved file path: {save_path + file[:-3] + \".csv\"}')"
   ]
  },
  {
   "cell_type": "code",
   "execution_count": 104,
   "metadata": {},
   "outputs": [
    {
     "name": "stdout",
     "output_type": "stream",
     "text": [
      "<class 'pandas.core.frame.DataFrame'>\n",
      "Int64Index: 1372035 entries, 0 to 1372034\n",
      "Data columns (total 12 columns):\n",
      " #   Column       Non-Null Count    Dtype         \n",
      "---  ------       --------------    -----         \n",
      " 0   south_north  1372035 non-null  int64         \n",
      " 1   time         1372035 non-null  int64         \n",
      " 2   west_east    1372035 non-null  int64         \n",
      " 3   Days         1372035 non-null  int32         \n",
      " 4   Longitude    1372035 non-null  float32       \n",
      " 5   Latitude     1372035 non-null  float32       \n",
      " 6   State_Mask   1372035 non-null  int16         \n",
      " 7   County_Mask  1372035 non-null  int16         \n",
      " 8   SPI          1372035 non-null  float32       \n",
      " 9   fips         1372035 non-null  int32         \n",
      " 10  county       1372035 non-null  object        \n",
      " 11  Date         1372035 non-null  datetime64[ns]\n",
      "dtypes: datetime64[ns](1), float32(3), int16(2), int32(2), int64(3), object(1)\n",
      "memory usage: 94.2+ MB\n"
     ]
    }
   ],
   "source": [
    "# Checking the last file (spi90d_NY_DEWS_2000-2020.nc) in the above loop\n",
    "df.info()"
   ]
  },
  {
   "cell_type": "code",
   "execution_count": 105,
   "metadata": {},
   "outputs": [
    {
     "data": {
      "text/html": [
       "<div>\n",
       "<style scoped>\n",
       "    .dataframe tbody tr th:only-of-type {\n",
       "        vertical-align: middle;\n",
       "    }\n",
       "\n",
       "    .dataframe tbody tr th {\n",
       "        vertical-align: top;\n",
       "    }\n",
       "\n",
       "    .dataframe thead th {\n",
       "        text-align: right;\n",
       "    }\n",
       "</style>\n",
       "<table border=\"1\" class=\"dataframe\">\n",
       "  <thead>\n",
       "    <tr style=\"text-align: right;\">\n",
       "      <th></th>\n",
       "      <th>south_north</th>\n",
       "      <th>time</th>\n",
       "      <th>west_east</th>\n",
       "      <th>Days</th>\n",
       "      <th>Longitude</th>\n",
       "      <th>Latitude</th>\n",
       "      <th>State_Mask</th>\n",
       "      <th>County_Mask</th>\n",
       "      <th>SPI</th>\n",
       "      <th>fips</th>\n",
       "      <th>county</th>\n",
       "      <th>Date</th>\n",
       "    </tr>\n",
       "  </thead>\n",
       "  <tbody>\n",
       "    <tr>\n",
       "      <th>0</th>\n",
       "      <td>1</td>\n",
       "      <td>0</td>\n",
       "      <td>45</td>\n",
       "      <td>7675</td>\n",
       "      <td>-74.188004</td>\n",
       "      <td>40.563</td>\n",
       "      <td>1</td>\n",
       "      <td>85</td>\n",
       "      <td>-0.522</td>\n",
       "      <td>36085</td>\n",
       "      <td>richmond</td>\n",
       "      <td>2000-01-05</td>\n",
       "    </tr>\n",
       "    <tr>\n",
       "      <th>1</th>\n",
       "      <td>1</td>\n",
       "      <td>1</td>\n",
       "      <td>45</td>\n",
       "      <td>7680</td>\n",
       "      <td>-74.188004</td>\n",
       "      <td>40.563</td>\n",
       "      <td>1</td>\n",
       "      <td>85</td>\n",
       "      <td>-0.584</td>\n",
       "      <td>36085</td>\n",
       "      <td>richmond</td>\n",
       "      <td>2000-01-10</td>\n",
       "    </tr>\n",
       "    <tr>\n",
       "      <th>2</th>\n",
       "      <td>1</td>\n",
       "      <td>2</td>\n",
       "      <td>45</td>\n",
       "      <td>7685</td>\n",
       "      <td>-74.188004</td>\n",
       "      <td>40.563</td>\n",
       "      <td>1</td>\n",
       "      <td>85</td>\n",
       "      <td>-0.900</td>\n",
       "      <td>36085</td>\n",
       "      <td>richmond</td>\n",
       "      <td>2000-01-15</td>\n",
       "    </tr>\n",
       "    <tr>\n",
       "      <th>3</th>\n",
       "      <td>1</td>\n",
       "      <td>3</td>\n",
       "      <td>45</td>\n",
       "      <td>7690</td>\n",
       "      <td>-74.188004</td>\n",
       "      <td>40.563</td>\n",
       "      <td>1</td>\n",
       "      <td>85</td>\n",
       "      <td>-1.230</td>\n",
       "      <td>36085</td>\n",
       "      <td>richmond</td>\n",
       "      <td>2000-01-20</td>\n",
       "    </tr>\n",
       "    <tr>\n",
       "      <th>4</th>\n",
       "      <td>1</td>\n",
       "      <td>4</td>\n",
       "      <td>45</td>\n",
       "      <td>7695</td>\n",
       "      <td>-74.188004</td>\n",
       "      <td>40.563</td>\n",
       "      <td>1</td>\n",
       "      <td>85</td>\n",
       "      <td>-0.949</td>\n",
       "      <td>36085</td>\n",
       "      <td>richmond</td>\n",
       "      <td>2000-01-25</td>\n",
       "    </tr>\n",
       "  </tbody>\n",
       "</table>\n",
       "</div>"
      ],
      "text/plain": [
       "   south_north  time  west_east  Days  Longitude  Latitude  State_Mask  \\\n",
       "0            1     0         45  7675 -74.188004    40.563           1   \n",
       "1            1     1         45  7680 -74.188004    40.563           1   \n",
       "2            1     2         45  7685 -74.188004    40.563           1   \n",
       "3            1     3         45  7690 -74.188004    40.563           1   \n",
       "4            1     4         45  7695 -74.188004    40.563           1   \n",
       "\n",
       "   County_Mask    SPI   fips    county       Date  \n",
       "0           85 -0.522  36085  richmond 2000-01-05  \n",
       "1           85 -0.584  36085  richmond 2000-01-10  \n",
       "2           85 -0.900  36085  richmond 2000-01-15  \n",
       "3           85 -1.230  36085  richmond 2000-01-20  \n",
       "4           85 -0.949  36085  richmond 2000-01-25  "
      ]
     },
     "execution_count": 105,
     "metadata": {},
     "output_type": "execute_result"
    }
   ],
   "source": [
    "df.head()"
   ]
  },
  {
   "cell_type": "code",
   "execution_count": 106,
   "metadata": {},
   "outputs": [
    {
     "data": {
      "text/plain": [
       "south_north      36\n",
       "time           1533\n",
       "west_east        62\n",
       "Days           1533\n",
       "Longitude        62\n",
       "Latitude         36\n",
       "State_Mask        1\n",
       "County_Mask      62\n",
       "SPI            3541\n",
       "fips             62\n",
       "county           62\n",
       "Date           1533\n",
       "dtype: int64"
      ]
     },
     "execution_count": 106,
     "metadata": {},
     "output_type": "execute_result"
    }
   ],
   "source": [
    "df.nunique()"
   ]
  },
  {
   "cell_type": "code",
   "execution_count": 107,
   "metadata": {},
   "outputs": [
    {
     "data": {
      "text/html": [
       "<div>\n",
       "<style scoped>\n",
       "    .dataframe tbody tr th:only-of-type {\n",
       "        vertical-align: middle;\n",
       "    }\n",
       "\n",
       "    .dataframe tbody tr th {\n",
       "        vertical-align: top;\n",
       "    }\n",
       "\n",
       "    .dataframe thead th {\n",
       "        text-align: right;\n",
       "    }\n",
       "</style>\n",
       "<table border=\"1\" class=\"dataframe\">\n",
       "  <thead>\n",
       "    <tr style=\"text-align: right;\">\n",
       "      <th></th>\n",
       "      <th>south_north</th>\n",
       "      <th>time</th>\n",
       "      <th>west_east</th>\n",
       "      <th>Days</th>\n",
       "      <th>Longitude</th>\n",
       "      <th>Latitude</th>\n",
       "      <th>State_Mask</th>\n",
       "      <th>County_Mask</th>\n",
       "      <th>SPI</th>\n",
       "      <th>fips</th>\n",
       "      <th>Date</th>\n",
       "    </tr>\n",
       "    <tr>\n",
       "      <th>county</th>\n",
       "      <th></th>\n",
       "      <th></th>\n",
       "      <th></th>\n",
       "      <th></th>\n",
       "      <th></th>\n",
       "      <th></th>\n",
       "      <th></th>\n",
       "      <th></th>\n",
       "      <th></th>\n",
       "      <th></th>\n",
       "      <th></th>\n",
       "    </tr>\n",
       "  </thead>\n",
       "  <tbody>\n",
       "    <tr>\n",
       "      <th>albany</th>\n",
       "      <td>13797</td>\n",
       "      <td>13797</td>\n",
       "      <td>13797</td>\n",
       "      <td>13797</td>\n",
       "      <td>13797</td>\n",
       "      <td>13797</td>\n",
       "      <td>13797</td>\n",
       "      <td>13797</td>\n",
       "      <td>13797</td>\n",
       "      <td>13797</td>\n",
       "      <td>13797</td>\n",
       "    </tr>\n",
       "    <tr>\n",
       "      <th>allegany</th>\n",
       "      <td>24528</td>\n",
       "      <td>24528</td>\n",
       "      <td>24528</td>\n",
       "      <td>24528</td>\n",
       "      <td>24528</td>\n",
       "      <td>24528</td>\n",
       "      <td>24528</td>\n",
       "      <td>24528</td>\n",
       "      <td>24528</td>\n",
       "      <td>24528</td>\n",
       "      <td>24528</td>\n",
       "    </tr>\n",
       "    <tr>\n",
       "      <th>bronx</th>\n",
       "      <td>1533</td>\n",
       "      <td>1533</td>\n",
       "      <td>1533</td>\n",
       "      <td>1533</td>\n",
       "      <td>1533</td>\n",
       "      <td>1533</td>\n",
       "      <td>1533</td>\n",
       "      <td>1533</td>\n",
       "      <td>1533</td>\n",
       "      <td>1533</td>\n",
       "      <td>1533</td>\n",
       "    </tr>\n",
       "    <tr>\n",
       "      <th>broome</th>\n",
       "      <td>21462</td>\n",
       "      <td>21462</td>\n",
       "      <td>21462</td>\n",
       "      <td>21462</td>\n",
       "      <td>21462</td>\n",
       "      <td>21462</td>\n",
       "      <td>21462</td>\n",
       "      <td>21462</td>\n",
       "      <td>21462</td>\n",
       "      <td>21462</td>\n",
       "      <td>21462</td>\n",
       "    </tr>\n",
       "    <tr>\n",
       "      <th>cattaraugus</th>\n",
       "      <td>36792</td>\n",
       "      <td>36792</td>\n",
       "      <td>36792</td>\n",
       "      <td>36792</td>\n",
       "      <td>36792</td>\n",
       "      <td>36792</td>\n",
       "      <td>36792</td>\n",
       "      <td>36792</td>\n",
       "      <td>36792</td>\n",
       "      <td>36792</td>\n",
       "      <td>36792</td>\n",
       "    </tr>\n",
       "    <tr>\n",
       "      <th>...</th>\n",
       "      <td>...</td>\n",
       "      <td>...</td>\n",
       "      <td>...</td>\n",
       "      <td>...</td>\n",
       "      <td>...</td>\n",
       "      <td>...</td>\n",
       "      <td>...</td>\n",
       "      <td>...</td>\n",
       "      <td>...</td>\n",
       "      <td>...</td>\n",
       "      <td>...</td>\n",
       "    </tr>\n",
       "    <tr>\n",
       "      <th>washington</th>\n",
       "      <td>24528</td>\n",
       "      <td>24528</td>\n",
       "      <td>24528</td>\n",
       "      <td>24528</td>\n",
       "      <td>24528</td>\n",
       "      <td>24528</td>\n",
       "      <td>24528</td>\n",
       "      <td>24528</td>\n",
       "      <td>24528</td>\n",
       "      <td>24528</td>\n",
       "      <td>24528</td>\n",
       "    </tr>\n",
       "    <tr>\n",
       "      <th>wayne</th>\n",
       "      <td>15330</td>\n",
       "      <td>15330</td>\n",
       "      <td>15330</td>\n",
       "      <td>15330</td>\n",
       "      <td>15330</td>\n",
       "      <td>15330</td>\n",
       "      <td>15330</td>\n",
       "      <td>15330</td>\n",
       "      <td>15330</td>\n",
       "      <td>15330</td>\n",
       "      <td>15330</td>\n",
       "    </tr>\n",
       "    <tr>\n",
       "      <th>westchester</th>\n",
       "      <td>13797</td>\n",
       "      <td>13797</td>\n",
       "      <td>13797</td>\n",
       "      <td>13797</td>\n",
       "      <td>13797</td>\n",
       "      <td>13797</td>\n",
       "      <td>13797</td>\n",
       "      <td>13797</td>\n",
       "      <td>13797</td>\n",
       "      <td>13797</td>\n",
       "      <td>13797</td>\n",
       "    </tr>\n",
       "    <tr>\n",
       "      <th>wyoming</th>\n",
       "      <td>18396</td>\n",
       "      <td>18396</td>\n",
       "      <td>18396</td>\n",
       "      <td>18396</td>\n",
       "      <td>18396</td>\n",
       "      <td>18396</td>\n",
       "      <td>18396</td>\n",
       "      <td>18396</td>\n",
       "      <td>18396</td>\n",
       "      <td>18396</td>\n",
       "      <td>18396</td>\n",
       "    </tr>\n",
       "    <tr>\n",
       "      <th>yates</th>\n",
       "      <td>9198</td>\n",
       "      <td>9198</td>\n",
       "      <td>9198</td>\n",
       "      <td>9198</td>\n",
       "      <td>9198</td>\n",
       "      <td>9198</td>\n",
       "      <td>9198</td>\n",
       "      <td>9198</td>\n",
       "      <td>9198</td>\n",
       "      <td>9198</td>\n",
       "      <td>9198</td>\n",
       "    </tr>\n",
       "  </tbody>\n",
       "</table>\n",
       "<p>62 rows × 11 columns</p>\n",
       "</div>"
      ],
      "text/plain": [
       "             south_north   time  west_east   Days  Longitude  Latitude  \\\n",
       "county                                                                   \n",
       "albany             13797  13797      13797  13797      13797     13797   \n",
       "allegany           24528  24528      24528  24528      24528     24528   \n",
       "bronx               1533   1533       1533   1533       1533      1533   \n",
       "broome             21462  21462      21462  21462      21462     21462   \n",
       "cattaraugus        36792  36792      36792  36792      36792     36792   \n",
       "...                  ...    ...        ...    ...        ...       ...   \n",
       "washington         24528  24528      24528  24528      24528     24528   \n",
       "wayne              15330  15330      15330  15330      15330     15330   \n",
       "westchester        13797  13797      13797  13797      13797     13797   \n",
       "wyoming            18396  18396      18396  18396      18396     18396   \n",
       "yates               9198   9198       9198   9198       9198      9198   \n",
       "\n",
       "             State_Mask  County_Mask    SPI   fips   Date  \n",
       "county                                                     \n",
       "albany            13797        13797  13797  13797  13797  \n",
       "allegany          24528        24528  24528  24528  24528  \n",
       "bronx              1533         1533   1533   1533   1533  \n",
       "broome            21462        21462  21462  21462  21462  \n",
       "cattaraugus       36792        36792  36792  36792  36792  \n",
       "...                 ...          ...    ...    ...    ...  \n",
       "washington        24528        24528  24528  24528  24528  \n",
       "wayne             15330        15330  15330  15330  15330  \n",
       "westchester       13797        13797  13797  13797  13797  \n",
       "wyoming           18396        18396  18396  18396  18396  \n",
       "yates              9198         9198   9198   9198   9198  \n",
       "\n",
       "[62 rows x 11 columns]"
      ]
     },
     "execution_count": 107,
     "metadata": {},
     "output_type": "execute_result"
    }
   ],
   "source": [
    "df.groupby('county').count()"
   ]
  },
  {
   "cell_type": "code",
   "execution_count": null,
   "metadata": {},
   "outputs": [],
   "source": []
  }
 ],
 "metadata": {
  "kernelspec": {
   "display_name": "Python 3",
   "language": "python",
   "name": "python3"
  },
  "language_info": {
   "codemirror_mode": {
    "name": "ipython",
    "version": 3
   },
   "file_extension": ".py",
   "mimetype": "text/x-python",
   "name": "python",
   "nbconvert_exporter": "python",
   "pygments_lexer": "ipython3",
   "version": "3.8.5"
  }
 },
 "nbformat": 4,
 "nbformat_minor": 4
}
