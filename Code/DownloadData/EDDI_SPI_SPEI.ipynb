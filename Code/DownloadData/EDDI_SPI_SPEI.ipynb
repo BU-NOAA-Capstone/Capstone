{
 "cells": [
  {
   "cell_type": "code",
   "execution_count": 1,
   "metadata": {},
   "outputs": [],
   "source": [
    "import requests\n",
    "import re\n",
    "import ftplib\n",
    "import numpy as np\n",
    "import os\n",
    "from tqdm.notebook import tqdm\n",
    "\n",
    "from ftplib import FTP"
   ]
  },
  {
   "cell_type": "markdown",
   "metadata": {},
   "source": [
    "### Code for downloading EDDI files from EDDI FTP server directly"
   ]
  },
  {
   "cell_type": "code",
   "execution_count": 10,
   "metadata": {},
   "outputs": [],
   "source": [
    "# BASE_URL = \"ftp2.psl.noaa.gov\"\n",
    "# path = ['Projects', 'EDDI', 'CONUS_archive', 'data']\n",
    "# start_yr = 2000\n",
    "# end_yr = 2020\n",
    "# savepath = \"../../../../../../../Google Drive/My Drive/Capstone private/EDDI\""
   ]
  },
  {
   "cell_type": "code",
   "execution_count": 11,
   "metadata": {},
   "outputs": [],
   "source": [
    "# ftp = FTP(BASE_URL)"
   ]
  },
  {
   "cell_type": "code",
   "execution_count": 15,
   "metadata": {},
   "outputs": [
    {
     "data": {
      "text/plain": [
       "'230 Login successful.'"
      ]
     },
     "execution_count": 15,
     "metadata": {},
     "output_type": "execute_result"
    }
   ],
   "source": [
    "# ftp.login()"
   ]
  },
  {
   "cell_type": "code",
   "execution_count": 16,
   "metadata": {},
   "outputs": [],
   "source": [
    "# # Navigating to the data folder\n",
    "# for i in path:\n",
    "#     ftp.cwd(i)"
   ]
  },
  {
   "cell_type": "code",
   "execution_count": null,
   "metadata": {},
   "outputs": [
    {
     "data": {
      "application/vnd.jupyter.widget-view+json": {
       "model_id": "3f229822f4834d829fac0f7fe78f2388",
       "version_major": 2,
       "version_minor": 0
      },
      "text/plain": [
       "year:   0%|          | 0/21 [00:00<?, ?it/s]"
      ]
     },
     "metadata": {},
     "output_type": "display_data"
    },
    {
     "data": {
      "application/vnd.jupyter.widget-view+json": {
       "model_id": "3e1cc5db89034bb298dc8d202c94108d",
       "version_major": 2,
       "version_minor": 0
      },
      "text/plain": [
       "downloading files for year 2000:   0%|          | 0/8784 [00:00<?, ?it/s]"
      ]
     },
     "metadata": {},
     "output_type": "display_data"
    }
   ],
   "source": [
    "# # Nav\n",
    "# for year in tqdm(range(start_yr, end_yr + 1), desc=\"year\"):\n",
    "#     files = ftp.nlst(str(year))\n",
    "#     asc_files = list(filter(lambda x: x.endswith('.asc'), files))\n",
    "    \n",
    "#     for file in tqdm(asc_files, desc=f\"downloading files for year {year}\"):\n",
    "        \n",
    "#         file_savepath = os.path.join(savepath, file)\n",
    "#         os.makedirs(os.path.dirname(file_savepath), exist_ok=True)\n",
    "        \n",
    "#         with open(file_savepath, 'wb') as f:\n",
    "#             ftp.retrbinary('RETR ' + file, f.write)"
   ]
  },
  {
   "cell_type": "markdown",
   "metadata": {},
   "source": [
    "### Code for downloading files from NY focused files given by Mike \n",
    "link: ftp://ftp1.esrl.noaa.gov/et6/sat/dlj/DEWS/NY_tseries/"
   ]
  },
  {
   "cell_type": "code",
   "execution_count": 15,
   "metadata": {},
   "outputs": [],
   "source": [
    "BASE_URL_NY = \"ftp1.esrl.noaa.gov\"\n",
    "path_ny = ['et6', 'sat', 'dlj', 'DEWS', 'NY_tseries']"
   ]
  },
  {
   "cell_type": "code",
   "execution_count": 16,
   "metadata": {},
   "outputs": [
    {
     "data": {
      "text/plain": [
       "'../../../../../../../Google Drive/Shared drives/Capstone Project/Data/Indices-Mike/'"
      ]
     },
     "execution_count": 16,
     "metadata": {},
     "output_type": "execute_result"
    }
   ],
   "source": [
    "save_path = '../../../../../../../Google Drive/Shared drives/Capstone Project/Data/Indices-Mike/'\n",
    "save_path"
   ]
  },
  {
   "cell_type": "code",
   "execution_count": 9,
   "metadata": {},
   "outputs": [],
   "source": [
    "ftp_ny = FTP(BASE_URL_NY)"
   ]
  },
  {
   "cell_type": "code",
   "execution_count": 10,
   "metadata": {},
   "outputs": [
    {
     "data": {
      "text/plain": [
       "'230 Login successful.'"
      ]
     },
     "execution_count": 10,
     "metadata": {},
     "output_type": "execute_result"
    }
   ],
   "source": [
    "ftp_ny.login()"
   ]
  },
  {
   "cell_type": "code",
   "execution_count": 11,
   "metadata": {},
   "outputs": [],
   "source": [
    "# Navigating to the data folder\n",
    "for i in path_ny:\n",
    "    ftp_ny.cwd(i)"
   ]
  },
  {
   "cell_type": "code",
   "execution_count": 12,
   "metadata": {},
   "outputs": [
    {
     "data": {
      "text/plain": [
       "['eddi_03mn_NY_DEWS_2000-2020.nc',\n",
       " 'eddi_05mn_NY_DEWS_2000-2020.nc',\n",
       " 'eddi_06mn_NY_DEWS_2000-2020.nc',\n",
       " 'pdsi_NY_DEWS_2000-2020.nc',\n",
       " 'spei180d_NY_DEWS_2000-2020.nc',\n",
       " 'spei90d_NY_DEWS_2000-2020.nc',\n",
       " 'spi180d_NY_DEWS_2000-2020.nc',\n",
       " 'spi90d_NY_DEWS_2000-2020.nc']"
      ]
     },
     "execution_count": 12,
     "metadata": {},
     "output_type": "execute_result"
    }
   ],
   "source": [
    "file_names = ftp_ny.nlst()\n",
    "file_names"
   ]
  },
  {
   "cell_type": "code",
   "execution_count": 14,
   "metadata": {},
   "outputs": [
    {
     "name": "stdout",
     "output_type": "stream",
     "text": [
      "file is: eddi_03mn_NY_DEWS_2000-2020.nc\n",
      "file save path: ../../../../../../../Google Drive/Shared drives/Capstone Project/Data/EDDI/eddi_03mn_NY_DEWS_2000-2020.nc\n",
      "file is: eddi_05mn_NY_DEWS_2000-2020.nc\n",
      "file save path: ../../../../../../../Google Drive/Shared drives/Capstone Project/Data/EDDI/eddi_05mn_NY_DEWS_2000-2020.nc\n",
      "file is: eddi_06mn_NY_DEWS_2000-2020.nc\n",
      "file save path: ../../../../../../../Google Drive/Shared drives/Capstone Project/Data/EDDI/eddi_06mn_NY_DEWS_2000-2020.nc\n",
      "file is: pdsi_NY_DEWS_2000-2020.nc\n",
      "file save path: ../../../../../../../Google Drive/Shared drives/Capstone Project/Data/EDDI/pdsi_NY_DEWS_2000-2020.nc\n",
      "file is: spei180d_NY_DEWS_2000-2020.nc\n",
      "file save path: ../../../../../../../Google Drive/Shared drives/Capstone Project/Data/EDDI/spei180d_NY_DEWS_2000-2020.nc\n",
      "file is: spei90d_NY_DEWS_2000-2020.nc\n",
      "file save path: ../../../../../../../Google Drive/Shared drives/Capstone Project/Data/EDDI/spei90d_NY_DEWS_2000-2020.nc\n",
      "file is: spi180d_NY_DEWS_2000-2020.nc\n",
      "file save path: ../../../../../../../Google Drive/Shared drives/Capstone Project/Data/EDDI/spi180d_NY_DEWS_2000-2020.nc\n",
      "file is: spi90d_NY_DEWS_2000-2020.nc\n",
      "file save path: ../../../../../../../Google Drive/Shared drives/Capstone Project/Data/EDDI/spi90d_NY_DEWS_2000-2020.nc\n"
     ]
    }
   ],
   "source": [
    "for file in file_names:\n",
    "#     print(f'file is: {file}')\n",
    "    file_savepath = os.path.join(save_path, file)\n",
    "#     print(f'file save path: {file_savepath}')\n",
    "    os.makedirs(os.path.dirname(file_savepath), exist_ok=True)\n",
    "    \n",
    "    with open(file_savepath, 'wb') as f:\n",
    "        ftp_ny.retrbinary('RETR ' + file, f.write)"
   ]
  },
  {
   "cell_type": "code",
   "execution_count": null,
   "metadata": {},
   "outputs": [],
   "source": []
  },
  {
   "cell_type": "markdown",
   "metadata": {},
   "source": [
    "### Converting the .nc files to .csv files\n",
    "The files are present in 'save_path' and the names of the files are captured in file_names"
   ]
  },
  {
   "cell_type": "code",
   "execution_count": 1,
   "metadata": {},
   "outputs": [
    {
     "data": {
      "text/plain": [
       "'/Users/shamikakalwe/Downloads/2020 US/MSBA @BU/BA820/Main/Code/DownloadData'"
      ]
     },
     "execution_count": 1,
     "metadata": {},
     "output_type": "execute_result"
    }
   ],
   "source": []
  },
  {
   "cell_type": "code",
   "execution_count": 2,
   "metadata": {},
   "outputs": [
    {
     "name": "stdout",
     "output_type": "stream",
     "text": [
      "EDDI_SPI_SPEI.ipynb  RCC-ACIS.ipynb       USDA.ipynb\n",
      "NY_county_FIPS.csv   SPI.ipynb            USDM.ipynb\n",
      "NY_county_FIPS.txt   TempPrecip.ipynb\n"
     ]
    }
   ],
   "source": [
    "ls"
   ]
  },
  {
   "cell_type": "code",
   "execution_count": null,
   "metadata": {},
   "outputs": [],
   "source": []
  }
 ],
 "metadata": {
  "kernelspec": {
   "display_name": "Python 3",
   "language": "python",
   "name": "python3"
  },
  "language_info": {
   "codemirror_mode": {
    "name": "ipython",
    "version": 3
   },
   "file_extension": ".py",
   "mimetype": "text/x-python",
   "name": "python",
   "nbconvert_exporter": "python",
   "pygments_lexer": "ipython3",
   "version": "3.8.5"
  }
 },
 "nbformat": 4,
 "nbformat_minor": 4
}
