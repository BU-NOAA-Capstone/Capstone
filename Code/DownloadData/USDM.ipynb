{
 "cells": [
  {
   "cell_type": "code",
   "execution_count": 1,
   "id": "active-alliance",
   "metadata": {},
   "outputs": [],
   "source": [
    "import requests\n",
    "import re\n",
    "import numpy as np\n",
    "import pandas as pd\n",
    "import os\n",
    "import json"
   ]
  },
  {
   "cell_type": "code",
   "execution_count": 2,
   "id": "loving-pride",
   "metadata": {},
   "outputs": [
    {
     "data": {
      "text/plain": [
       "'https://usdmdataservices.unl.edu/api/CountyStatistics/GetDroughtSeverityStatisticsByAreaPercent'"
      ]
     },
     "execution_count": 2,
     "metadata": {},
     "output_type": "execute_result"
    }
   ],
   "source": [
    "# refer https://droughtmonitor.unl.edu/WebServiceInfo.aspx#comp\n",
    "Area = 'CountyStatistics'\n",
    "Stat_type = 'GetDroughtSeverityStatisticsByAreaPercent'\n",
    "BASE_URL = f'https://usdmdataservices.unl.edu/api/{Area}/{Stat_type}'\n",
    "BASE_URL"
   ]
  },
  {
   "cell_type": "code",
   "execution_count": 3,
   "id": "adopted-application",
   "metadata": {},
   "outputs": [],
   "source": [
    "# Definign dates (M/D/YYYY)\n",
    "startdate = '1/1/2000'\n",
    "enddate = '12/31/2020'"
   ]
  },
  {
   "cell_type": "code",
   "execution_count": 4,
   "id": "established-footwear",
   "metadata": {},
   "outputs": [
    {
     "data": {
      "text/html": [
       "<div>\n",
       "<style scoped>\n",
       "    .dataframe tbody tr th:only-of-type {\n",
       "        vertical-align: middle;\n",
       "    }\n",
       "\n",
       "    .dataframe tbody tr th {\n",
       "        vertical-align: top;\n",
       "    }\n",
       "\n",
       "    .dataframe thead th {\n",
       "        text-align: right;\n",
       "    }\n",
       "</style>\n",
       "<table border=\"1\" class=\"dataframe\">\n",
       "  <thead>\n",
       "    <tr style=\"text-align: right;\">\n",
       "      <th></th>\n",
       "      <th>Counties</th>\n",
       "    </tr>\n",
       "  </thead>\n",
       "  <tbody>\n",
       "    <tr>\n",
       "      <th>0</th>\n",
       "      <td>{\"state\":\"NY\",\"id\":\"36001\",\"name\":\"Albany Cou...</td>\n",
       "    </tr>\n",
       "    <tr>\n",
       "      <th>1</th>\n",
       "      <td>{\"state\":\"NY\",\"id\":\"36003\",\"name\":\"Allegany C...</td>\n",
       "    </tr>\n",
       "    <tr>\n",
       "      <th>2</th>\n",
       "      <td>{\"state\":\"NY\",\"id\":\"36005\",\"name\":\"Bronx Coun...</td>\n",
       "    </tr>\n",
       "    <tr>\n",
       "      <th>3</th>\n",
       "      <td>{\"state\":\"NY\",\"id\":\"36007\",\"name\":\"Broome Cou...</td>\n",
       "    </tr>\n",
       "    <tr>\n",
       "      <th>4</th>\n",
       "      <td>{\"state\":\"NY\",\"id\":\"36009\",\"name\":\"Cattaraugu...</td>\n",
       "    </tr>\n",
       "  </tbody>\n",
       "</table>\n",
       "</div>"
      ],
      "text/plain": [
       "                                            Counties\n",
       "0   {\"state\":\"NY\",\"id\":\"36001\",\"name\":\"Albany Cou...\n",
       "1   {\"state\":\"NY\",\"id\":\"36003\",\"name\":\"Allegany C...\n",
       "2   {\"state\":\"NY\",\"id\":\"36005\",\"name\":\"Bronx Coun...\n",
       "3   {\"state\":\"NY\",\"id\":\"36007\",\"name\":\"Broome Cou...\n",
       "4   {\"state\":\"NY\",\"id\":\"36009\",\"name\":\"Cattaraugu..."
      ]
     },
     "execution_count": 4,
     "metadata": {},
     "output_type": "execute_result"
    }
   ],
   "source": [
    "# Loading the FIPS codes\n",
    "codes = pd.read_csv('NY_county_FIPS.csv')\n",
    "codes.head()"
   ]
  },
  {
   "cell_type": "code",
   "execution_count": 5,
   "id": "reasonable-minute",
   "metadata": {},
   "outputs": [],
   "source": [
    "codeslist = []\n",
    "for i in codes['Counties']:\n",
    "    dic = json.loads(i)\n",
    "    codeslist.append(dic['id'])"
   ]
  },
  {
   "cell_type": "code",
   "execution_count": 6,
   "id": "olive-processing",
   "metadata": {},
   "outputs": [],
   "source": [
    "# Other parameters\n",
    "master_req = []\n",
    "for c in codeslist:\n",
    "    params = {\n",
    "    'aoi' : c, #FIPS code for county Tompkins\n",
    "    'startdate' : startdate, # M/D/YYYY\n",
    "    'enddate' : enddate,\n",
    "    'statisticsType' : '1' # 1 for traditional or 2 for categorical.\n",
    "    }\n",
    "    req = requests.get(BASE_URL, params=params)\n",
    "    c_data = req.json()\n",
    "    master_req.append(c_data)"
   ]
  },
  {
   "cell_type": "code",
   "execution_count": 8,
   "id": "three-runner",
   "metadata": {},
   "outputs": [],
   "source": [
    "# master_req[:3]"
   ]
  },
  {
   "cell_type": "code",
   "execution_count": 10,
   "id": "complete-baltimore",
   "metadata": {},
   "outputs": [
    {
     "data": {
      "text/plain": [
       "'../../../../../../../Google Drive/Shared drives/Capstone Project/Data/USDM/CountyUSDM_112000-12312020'"
      ]
     },
     "execution_count": 10,
     "metadata": {},
     "output_type": "execute_result"
    }
   ],
   "source": [
    "# Saving the file\n",
    "save_path = '../../../../../../../Google Drive/Shared drives/Capstone Project/Data/USDM/' \\\n",
    "+ 'CountyUSDM' + '_' + startdate.replace('/','') + '-' + enddate.replace('/','')\n",
    "save_path"
   ]
  },
  {
   "cell_type": "code",
   "execution_count": 11,
   "id": "connected-building",
   "metadata": {},
   "outputs": [],
   "source": [
    "os.makedirs(os.path.dirname(save_path), exist_ok=True)\n",
    "with open(save_path, 'w') as f:\n",
    "    json.dump(master_req, f)"
   ]
  },
  {
   "cell_type": "code",
   "execution_count": null,
   "id": "german-mileage",
   "metadata": {},
   "outputs": [],
   "source": []
  }
 ],
 "metadata": {
  "kernelspec": {
   "display_name": "Python 3",
   "language": "python",
   "name": "python3"
  },
  "language_info": {
   "codemirror_mode": {
    "name": "ipython",
    "version": 3
   },
   "file_extension": ".py",
   "mimetype": "text/x-python",
   "name": "python",
   "nbconvert_exporter": "python",
   "pygments_lexer": "ipython3",
   "version": "3.8.5"
  }
 },
 "nbformat": 4,
 "nbformat_minor": 5
}
