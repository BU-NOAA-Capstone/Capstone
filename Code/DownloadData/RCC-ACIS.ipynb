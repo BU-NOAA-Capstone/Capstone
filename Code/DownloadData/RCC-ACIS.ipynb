{
 "cells": [
  {
   "cell_type": "code",
   "execution_count": 1,
   "id": "mounted-single",
   "metadata": {},
   "outputs": [],
   "source": [
    "import requests"
   ]
  },
  {
   "cell_type": "code",
   "execution_count": 2,
   "id": "mexican-logistics",
   "metadata": {},
   "outputs": [],
   "source": [
    "import re"
   ]
  },
  {
   "cell_type": "code",
   "execution_count": 33,
   "id": "characteristic-valley",
   "metadata": {},
   "outputs": [],
   "source": [
    "# use station id as parameter\n",
    "station_id = '13994'\n",
    "elements = '[\"name\":\"avgt\"]'\n",
    "start_date = '2012-6-1'\n",
    "#specific_date = '&date='\n",
    "end_date = '2012-6-2'\n",
    "file_format = \"csv\""
   ]
  },
  {
   "cell_type": "code",
   "execution_count": 30,
   "id": "pacific-planet",
   "metadata": {},
   "outputs": [],
   "source": [
    "params = {\n",
    "    'sid' : '13994', #Area of interest, FIPS code for NY\n",
    "    'elems' : '[\"name\":\"avgt\"]',\n",
    "    'sdate' : '2012-6-1',\n",
    "    'edate' : '2012-6-2',\n",
    "}"
   ]
  },
  {
   "cell_type": "code",
   "execution_count": 31,
   "id": "tested-olive",
   "metadata": {},
   "outputs": [],
   "source": [
    "BASE_URL = \"http://www.rcc-acis.org/docs_webservices.html#griddata/api/\""
   ]
  },
  {
   "cell_type": "code",
   "execution_count": 32,
   "id": "orange-modem",
   "metadata": {},
   "outputs": [],
   "source": [
    "req = requests.get(BASE_URL, params=params)"
   ]
  },
  {
   "cell_type": "code",
   "execution_count": 34,
   "id": "negative-athletics",
   "metadata": {},
   "outputs": [],
   "source": [
    "BASE_URL = \"http://data.rcc-acis.org/StnData\"\n",
    "\n",
    "STATION_ID = '&sid=' + station_id\n",
    "ELEMENTS = '&elems=' + elements\n",
    "START_DATE = '&sdate=' + start_date\n",
    "#SPECIFIC_DATE = '&date=' + specific_date\n",
    "END_DATE = '&edate=' + end_date\n",
    "\n",
    "FORMAT = '&output=' + file_format\n"
   ]
  },
  {
   "cell_type": "code",
   "execution_count": 35,
   "id": "delayed-corps",
   "metadata": {},
   "outputs": [
    {
     "data": {
      "text/plain": [
       "'http://data.rcc-acis.org/StnData&sid=13994&elems=[\"name\":\"avgt\"]&sdate=2012-6-1&edate=2012-6-2&output=csv'"
      ]
     },
     "execution_count": 35,
     "metadata": {},
     "output_type": "execute_result"
    }
   ],
   "source": [
    "#build url\n",
    "URL = BASE_URL + STATION_ID + ELEMENTS + START_DATE + END_DATE + FORMAT\n",
    "URL"
   ]
  },
  {
   "cell_type": "code",
   "execution_count": 36,
   "id": "hybrid-floor",
   "metadata": {},
   "outputs": [],
   "source": [
    "resp = requests.get(URL)"
   ]
  },
  {
   "cell_type": "code",
   "execution_count": 37,
   "id": "fabulous-mention",
   "metadata": {},
   "outputs": [
    {
     "data": {
      "text/plain": [
       "404"
      ]
     },
     "execution_count": 37,
     "metadata": {},
     "output_type": "execute_result"
    }
   ],
   "source": [
    "resp.status_code"
   ]
  },
  {
   "cell_type": "code",
   "execution_count": 41,
   "id": "protecting-breach",
   "metadata": {},
   "outputs": [
    {
     "ename": "NameError",
     "evalue": "name 'sid' is not defined",
     "output_type": "error",
     "traceback": [
      "\u001b[0;31m---------------------------------------------------------------------------\u001b[0m",
      "\u001b[0;31mNameError\u001b[0m                                 Traceback (most recent call last)",
      "\u001b[0;32m<ipython-input-41-470c585c6591>\u001b[0m in \u001b[0;36m<module>\u001b[0;34m\u001b[0m\n\u001b[1;32m      1\u001b[0m \u001b[0;31m# http://jsfiddle.net/KEggleston/u4L7g/\u001b[0m\u001b[0;34m\u001b[0m\u001b[0;34m\u001b[0m\u001b[0;34m\u001b[0m\u001b[0m\n\u001b[1;32m      2\u001b[0m \u001b[0murl\u001b[0m \u001b[0;34m=\u001b[0m \u001b[0;34m\"http://data.rcc-acis.org/StnData\"\u001b[0m\u001b[0;34m,\u001b[0m\u001b[0;34m\u001b[0m\u001b[0;34m\u001b[0m\u001b[0m\n\u001b[0;32m----> 3\u001b[0;31m \u001b[0mparams\u001b[0m \u001b[0;34m=\u001b[0m \u001b[0;34m{\u001b[0m\u001b[0msid\u001b[0m\u001b[0;34m:\u001b[0m \u001b[0;34m\"13994\"\u001b[0m\u001b[0;34m,\u001b[0m\u001b[0msdate\u001b[0m\u001b[0;34m:\u001b[0m \u001b[0;34m\"2012-06-01\"\u001b[0m\u001b[0;34m,\u001b[0m\u001b[0medate\u001b[0m\u001b[0;34m:\u001b[0m \u001b[0;34m\"2012-06-30\"\u001b[0m\u001b[0;34m,\u001b[0m\u001b[0melems\u001b[0m\u001b[0;34m:\u001b[0m \u001b[0;34m[\u001b[0m\u001b[0;34m{\u001b[0m\u001b[0mname\u001b[0m\u001b[0;34m:\u001b[0m \u001b[0;34m\"avgt\"\u001b[0m\u001b[0;34m,\u001b[0m\u001b[0minterval\u001b[0m\u001b[0;34m:\u001b[0m \u001b[0;34m\"dly\"\u001b[0m\u001b[0;34m,\u001b[0m\u001b[0mduration\u001b[0m\u001b[0;34m:\u001b[0m \u001b[0;34m\"dly\"\u001b[0m\u001b[0;34m,\u001b[0m\u001b[0madd\u001b[0m\u001b[0;34m:\u001b[0m \u001b[0;34m\"t,i\"\u001b[0m\u001b[0;34m}\u001b[0m\u001b[0;34m,\u001b[0m \u001b[0;34m{\u001b[0m\u001b[0mname\u001b[0m\u001b[0;34m:\u001b[0m \u001b[0;34m\"avgt\"\u001b[0m\u001b[0;34m,\u001b[0m\u001b[0minterval\u001b[0m\u001b[0;34m:\u001b[0m \u001b[0;34m\"dly\"\u001b[0m\u001b[0;34m,\u001b[0m\u001b[0mduration\u001b[0m\u001b[0;34m:\u001b[0m \u001b[0;34m\"dly\"\u001b[0m\u001b[0;34m,\u001b[0m\u001b[0mprec\u001b[0m\u001b[0;34m:\u001b[0m \u001b[0;36m0\u001b[0m\u001b[0;34m}\u001b[0m\u001b[0;34m]\u001b[0m\u001b[0;34m,\u001b[0m \u001b[0mmeta\u001b[0m\u001b[0;34m:\u001b[0m \u001b[0;34m\"name\"\u001b[0m\u001b[0;34m}\u001b[0m\u001b[0;34m;\u001b[0m\u001b[0;34m\u001b[0m\u001b[0;34m\u001b[0m\u001b[0m\n\u001b[0m\u001b[1;32m      4\u001b[0m \u001b[0mpostResults\u001b[0m\u001b[0;34m(\u001b[0m\u001b[0murl\u001b[0m\u001b[0;34m,\u001b[0m \u001b[0mparams\u001b[0m\u001b[0;34m)\u001b[0m\u001b[0;34m;\u001b[0m\u001b[0;34m\u001b[0m\u001b[0;34m\u001b[0m\u001b[0m\n",
      "\u001b[0;31mNameError\u001b[0m: name 'sid' is not defined"
     ]
    }
   ],
   "source": [
    "# http://jsfiddle.net/KEggleston/u4L7g/\n",
    "url = \"http://data.rcc-acis.org/StnData\",\n",
    "params = {sid: \"13994\",sdate: \"2012-06-01\",edate: \"2012-06-30\",elems: [{name: \"avgt\",interval: \"dly\",duration: \"dly\",add: \"t,i\"}, {name: \"avgt\",interval: \"dly\",duration: \"dly\",prec: 0}], meta: \"name\"};\n",
    "postResults(url, params);"
   ]
  },
  {
   "cell_type": "code",
   "execution_count": null,
   "id": "acceptable-ultimate",
   "metadata": {},
   "outputs": [],
   "source": []
  }
 ],
 "metadata": {
  "environment": {
   "name": "tf2-gpu.2-3.m65",
   "type": "gcloud",
   "uri": "gcr.io/deeplearning-platform-release/tf2-gpu.2-3:m65"
  },
  "kernelspec": {
   "display_name": "Python 3",
   "language": "python",
   "name": "python3"
  },
  "language_info": {
   "codemirror_mode": {
    "name": "ipython",
    "version": 3
   },
   "file_extension": ".py",
   "mimetype": "text/x-python",
   "name": "python",
   "nbconvert_exporter": "python",
   "pygments_lexer": "ipython3",
   "version": "3.7.10"
  }
 },
 "nbformat": 4,
 "nbformat_minor": 5
}
